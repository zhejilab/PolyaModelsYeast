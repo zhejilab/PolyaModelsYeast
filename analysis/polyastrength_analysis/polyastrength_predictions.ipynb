{
 "cells": [
  {
   "cell_type": "markdown",
   "metadata": {},
   "source": [
    "# PolyaStrength predictions\n",
    "\n",
    "**Purpose**: To investigate the distribution of observed isoform ratios and PolyaStrength scores based on the polyA site location.\n"
   ]
  },
  {
   "cell_type": "code",
   "execution_count": 1,
   "metadata": {},
   "outputs": [],
   "source": [
    "%load_ext autoreload"
   ]
  },
  {
   "cell_type": "code",
   "execution_count": 2,
   "metadata": {},
   "outputs": [],
   "source": [
    "%autoreload 2"
   ]
  },
  {
   "cell_type": "code",
   "execution_count": 3,
   "metadata": {},
   "outputs": [],
   "source": [
    "%run -i notebook_setup.py"
   ]
  },
  {
   "cell_type": "markdown",
   "metadata": {},
   "source": [
    "## IMPORTS AND SETUP"
   ]
  },
  {
   "cell_type": "code",
   "execution_count": 4,
   "metadata": {},
   "outputs": [],
   "source": [
    "PROJECT   = \"/projects/b1080/eks/polyadenylation/yeast/\"\n",
    "OUTDIR    = os.path.join(PROJECT, 'manuscript', 'analysis', 'polyastrength_predictions')\n",
    "RESOURCES = os.path.join(os.path.dirname(OUTDIR), 'resources')\n",
    "os.makedirs(OUTDIR, exist_ok = True)\n"
   ]
  },
  {
   "cell_type": "markdown",
   "metadata": {
    "scrolled": false
   },
   "source": [
    "# ANALYSIS"
   ]
  },
  {
   "cell_type": "markdown",
   "metadata": {},
   "source": [
    "### Prepare polyA site data"
   ]
  },
  {
   "cell_type": "markdown",
   "metadata": {},
   "source": [
    "#### Load information for polyA sites with PolyaStrength predictions"
   ]
  },
  {
   "cell_type": "code",
   "execution_count": 5,
   "metadata": {},
   "outputs": [
    {
     "name": "stdout",
     "output_type": "stream",
     "text": [
      "(30931, 17)\n",
      "utr3_extended    14611\n",
      "coding_exon       8338\n",
      "utr3              6884\n",
      "utr5              1070\n",
      "intron              28\n",
      "Name: feature, dtype: int64\n"
     ]
    }
   ],
   "source": [
    "sites_data = pd.read_csv(os.path.join(RESOURCES, 'scer_clustered_sites.polya_comprehensive.txt'), sep = \"\\t\")\n",
    "\n",
    "sites_data['chrom']  = sites_data['key'].str.split(\":\").str[0].astype(str)\n",
    "sites_data['start']  = sites_data['key'].str.split(\":\").str[1].astype(int)\n",
    "sites_data['end']    = sites_data['start']+1\n",
    "sites_data['strand'] = sites_data['key'].str.split(\":\").str[2].astype(str)\n",
    "\n",
    "print(sites_data.shape)\n",
    "print(sites_data['feature'].value_counts())\n"
   ]
  },
  {
   "cell_type": "markdown",
   "metadata": {},
   "source": [
    "#### Categorize sites based on relative position in the 3'UTR"
   ]
  },
  {
   "cell_type": "code",
   "execution_count": 6,
   "metadata": {},
   "outputs": [
    {
     "name": "stderr",
     "output_type": "stream",
     "text": [
      "30931it [00:03, 9639.25it/s]\n"
     ]
    }
   ],
   "source": [
    "sites_dict = {}\n",
    "\n",
    "for i,row in tqdm.tqdm(sites_data.iterrows()):\n",
    "    \n",
    "    if (row['feature'] in ['utr3','utr3_extended']):\n",
    "\n",
    "        rowkey = (row['gene'],row['chrom'],row['strand'])\n",
    "\n",
    "        if not (rowkey in sites_dict):\n",
    "            sites_dict[rowkey] = [row['start']]\n",
    "        else:\n",
    "            sites_dict[rowkey].append(row['start'])\n"
   ]
  },
  {
   "cell_type": "code",
   "execution_count": 7,
   "metadata": {},
   "outputs": [],
   "source": [
    "sites_dict_labels = {}\n",
    "\n",
    "for rk,pl in sites_dict.items():\n",
    "    \n",
    "    sites_dict_labels[rk] = {}\n",
    "    \n",
    "    if (len(pl) == 1):\n",
    "        sites_dict_labels[rk][pl[0]] = 'single'\n",
    "        \n",
    "    else:\n",
    "        spl = sorted(pl)\n",
    "        g,c,s = rk\n",
    "            \n",
    "        sites_dict_labels[rk][spl[0]] = 'first' if (s == '+') else 'last'\n",
    "        sites_dict_labels[rk][spl[-1]] = 'last' if (s == '+') else 'first'\n",
    "\n",
    "        for p in spl[1:-1]:\n",
    "            sites_dict_labels[rk][p] = 'middle'\n"
   ]
  },
  {
   "cell_type": "code",
   "execution_count": 8,
   "metadata": {},
   "outputs": [
    {
     "name": "stdout",
     "output_type": "stream",
     "text": [
      "middle    11127\n",
      "CDS        8338\n",
      "last       4910\n",
      "first      4910\n",
      "utr5       1070\n",
      "single      548\n",
      "intron       28\n",
      "Name: position, dtype: int64\n",
      "0\n"
     ]
    }
   ],
   "source": [
    "sites_data['position'] = sites_data.apply(lambda row : sites_dict_labels.get((row['gene'],row['chrom'],row['strand']), {}).get(row['start'], np.nan), axis = 1)\n",
    "\n",
    "sites_data.loc[sites_data['feature'] == 'coding_exon', 'position'] = 'CDS'\n",
    "sites_data.loc[sites_data['feature'] == 'intron',      'position'] = 'intron'\n",
    "sites_data.loc[sites_data['feature'] == 'utr5',        'position'] = 'utr5'\n",
    "sites_data.loc[sites_data['feature'] == 'intergenic',  'position'] = 'intergenic'\n",
    "\n",
    "print(sites_data['position'].value_counts())\n",
    "print(sites_data['position'].isna().sum())\n"
   ]
  },
  {
   "cell_type": "markdown",
   "metadata": {},
   "source": [
    "### Usage of sites by relative position"
   ]
  },
  {
   "cell_type": "code",
   "execution_count": 9,
   "metadata": {},
   "outputs": [
    {
     "name": "stdout",
     "output_type": "stream",
     "text": [
      "(29833, 18)\n"
     ]
    },
    {
     "data": {
      "image/png": "[encoded data removed]",
      "text/plain": [
       "<Figure size 72x108 with 1 Axes>"
      ]
     },
     "metadata": {
      "needs_background": "light"
     },
     "output_type": "display_data"
    },
    {
     "name": "stdout",
     "output_type": "stream",
     "text": [
      "\n",
      "Corresponding statistics for observed usage-\n",
      "\tKruskal-Wallis test (all groups):\t264.220 4.22E-58\n",
      "\tWilcoxon rank sum test (first vs middle):\t  4.420 9.86E-06\n",
      "\tWilcoxon rank sum test (first vs last)  :\t 14.676 9.22E-49\n",
      "\tWilcoxon rank sum test (middle vs last) :\t 13.926 4.37E-44\n",
      "\n",
      "Summary data-\n",
      "            count      mean       std        min       25%       50%  \\\n",
      "position                                                               \n",
      "first      4910.0 -1.829374  3.144372 -11.613792 -4.266786 -2.218522   \n",
      "middle    11127.0 -2.152916  2.771510 -10.770863 -4.253770 -2.390229   \n",
      "last       4910.0 -2.762008  3.011618 -11.462870 -4.979281 -3.197468   \n",
      "CDS        7329.0 -3.448089  4.316590 -11.461574 -5.467000 -4.285713   \n",
      "\n",
      "               75%        max  \n",
      "position                       \n",
      "first     0.422546  10.841652  \n",
      "middle   -0.145071   7.690607  \n",
      "last     -0.904050   9.772423  \n",
      "CDS      -2.729209  19.931567  \n",
      "\n",
      "Median by group-\n",
      "position\n",
      "first    -2.218522\n",
      "middle   -2.390229\n",
      "last     -3.197468\n",
      "CDS      -4.285713\n",
      "Name: raw_denom_logit, dtype: float64\n"
     ]
    }
   ],
   "source": [
    "fig,ax = plt.subplots(1,1, figsize = (1,1.5))\n",
    "\n",
    "plot_data = sites_data.loc[sites_data['position'].isin(['CDS','single','first','middle','last'])]\n",
    "print(plot_data.shape)\n",
    "\n",
    "x = 'position'\n",
    "y = 'raw_denom_logit'\n",
    "\n",
    "sns.boxplot(data = plot_data, x = x, y = y,\n",
    "            order = ['first','middle','last','CDS'], color = 'lightgray', \n",
    "            boxprops = {'edgecolor' : 'black', 'linewidth' : 0.5},\n",
    "            medianprops = {'color' : 'black', 'linewidth' : 0.5},\n",
    "            whiskerprops = {'color' : 'black', 'linewidth' : 0.5},\n",
    "            capprops = {'color' : 'black', 'linewidth' : 0.5},\n",
    "            flierprops = {'color' : 'black'},\n",
    "            ax = ax, showfliers = False)\n",
    "\n",
    "ax.set_xlabel(\"Relative position\")\n",
    "ax.set_xticklabels(ax.get_xticklabels(), rotation = 45, ha = 'right', va = 'top')\n",
    "\n",
    "ax.set_ylim(-12,8)\n",
    "ax.yaxis.set_major_locator(MultipleLocator(4))\n",
    "ax.set_ylabel(\"Observed usage\")\n",
    "\n",
    "ax.spines['right'].set_visible(False)\n",
    "ax.spines['top'].set_visible(False)\n",
    "\n",
    "plt.savefig(os.path.join(OUTDIR, 'relative_position.boxplot.score_logit.svg'), format = 'svg', dpi = 600, transparent = True)\n",
    "plt.show()\n",
    "\n",
    "\n",
    "print(f\"\\nCorresponding statistics for observed usage-\")\n",
    "\n",
    "stat, pval = st.kruskal(*[plot_data.loc[plot_data[x] == p, y] for p in ['first','middle','last']])\n",
    "print(f\"\\tKruskal-Wallis test (all groups):\\t{stat:7.03f} {pval:8.02E}\")\n",
    "\n",
    "stat, pval = st.ranksums(plot_data.loc[plot_data[x] == 'first',  y],\n",
    "                         plot_data.loc[plot_data[x] == 'middle', y])\n",
    "print(f\"\\tWilcoxon rank sum test (first vs middle):\\t{stat:7.03f} {pval:8.02E}\")\n",
    "\n",
    "stat, pval = st.ranksums(plot_data.loc[plot_data[x] == 'first', y],\n",
    "                         plot_data.loc[plot_data[x] == 'last',  y])\n",
    "print(f\"\\tWilcoxon rank sum test (first vs last)  :\\t{stat:7.03f} {pval:8.02E}\")\n",
    "\n",
    "stat, pval = st.ranksums(plot_data.loc[plot_data[x] == 'middle', y],\n",
    "                         plot_data.loc[plot_data[x] == 'last',   y])\n",
    "print(f\"\\tWilcoxon rank sum test (middle vs last) :\\t{stat:7.03f} {pval:8.02E}\")\n",
    "\n",
    "\n",
    "print(\"\\nSummary data-\")\n",
    "print(plot_data.groupby(x)[y].describe().loc[['first','middle','last','CDS']])\n",
    "\n",
    "\n",
    "print(\"\\nMedian by group-\")\n",
    "print(plot_data.groupby(x)[y].agg('median').loc[['first','middle','last','CDS']])\n"
   ]
  },
  {
   "cell_type": "markdown",
   "metadata": {
    "scrolled": false
   },
   "source": [
    "### PolyaStrength of sites by relative position"
   ]
  },
  {
   "cell_type": "code",
   "execution_count": 10,
   "metadata": {},
   "outputs": [
    {
     "name": "stdout",
     "output_type": "stream",
     "text": [
      "(29833, 18)\n"
     ]
    },
    {
     "data": {
      "image/png": "[encoded data removed]",
      "text/plain": [
       "<Figure size 72x108 with 1 Axes>"
      ]
     },
     "metadata": {
      "needs_background": "light"
     },
     "output_type": "display_data"
    },
    {
     "name": "stdout",
     "output_type": "stream",
     "text": [
      "\n",
      "Corresponding statistics for observed usage-\n",
      "\tKruskal-Wallis test (all groups):\t262.519 9.88E-58\n",
      "\tWilcoxon rank sum test (first vs middle):\t  9.707 2.81E-22\n",
      "\tWilcoxon rank sum test (first vs last)  :\t 15.493 3.85E-54\n",
      "\tWilcoxon rank sum test (middle vs last) :\t 10.111 4.91E-24\n",
      "\n",
      "Summary data-\n",
      "            count      mean       std       min       25%       50%       75%  \\\n",
      "position                                                                        \n",
      "single      548.0 -0.324786  1.980127 -5.110386 -2.047537  0.051384  1.366605   \n",
      "first      4910.0 -1.613497  1.725202 -5.959255 -2.899940 -1.987804 -0.335669   \n",
      "middle    11127.0 -1.946082  1.464243 -6.552932 -2.971456 -2.201232 -1.170351   \n",
      "last       4910.0 -2.146848  1.618272 -6.456316 -3.230993 -2.440854 -1.374091   \n",
      "CDS        8338.0 -2.629469  1.039233 -6.436704 -3.260376 -2.748093 -2.218592   \n",
      "\n",
      "               max  \n",
      "position            \n",
      "single    3.278462  \n",
      "first     3.484351  \n",
      "middle    3.540555  \n",
      "last      3.494534  \n",
      "CDS       2.169123  \n",
      "\n",
      "Median by group-\n",
      "position\n",
      "single    0.051384\n",
      "first    -1.987804\n",
      "middle   -2.201232\n",
      "last     -2.440854\n",
      "CDS      -2.748093\n",
      "Name: pred_logit, dtype: float64\n"
     ]
    }
   ],
   "source": [
    "fig,ax = plt.subplots(1,1, figsize = (1,1.5))\n",
    "\n",
    "plot_data = sites_data.loc[sites_data['position'].isin(['CDS','single','first','middle','last'])]\n",
    "print(plot_data.shape)\n",
    "\n",
    "x = 'position'\n",
    "y = 'pred_logit'\n",
    "\n",
    "sns.boxplot(data = plot_data, x = x, y = y,\n",
    "            order = ['single','first','middle','last','CDS'], color = 'lightgray', \n",
    "            boxprops = {'edgecolor' : 'black', 'linewidth' : 0.5},\n",
    "            medianprops = {'color' : 'black', 'linewidth' : 0.5},\n",
    "            whiskerprops = {'color' : 'black', 'linewidth' : 0.5},\n",
    "            capprops = {'color' : 'black', 'linewidth' : 0.5},\n",
    "            flierprops = {'color' : 'black'},\n",
    "            ax = ax, showfliers = False)\n",
    "\n",
    "ax.set_xlabel(\"Relative position\")\n",
    "ax.set_xticklabels(ax.get_xticklabels(), rotation = 45, ha = 'right', va = 'top')\n",
    "\n",
    "ax.set_ylim(-7,4)\n",
    "ax.yaxis.set_major_locator(MultipleLocator(2))\n",
    "ax.set_ylabel(\"PolyaStrength score\")\n",
    "\n",
    "ax.spines['right'].set_visible(False)\n",
    "ax.spines['top'].set_visible(False)\n",
    "\n",
    "plt.savefig(os.path.join(OUTDIR, 'relative_position.boxplot.pred_logit.svg'), format = 'svg', dpi = 600, transparent = True)\n",
    "plt.show()\n",
    "\n",
    "\n",
    "print(f\"\\nCorresponding statistics for observed usage-\")\n",
    "\n",
    "stat, pval = st.kruskal(*[plot_data.loc[plot_data[x] == p, y] for p in ['first','middle','last']])\n",
    "print(f\"\\tKruskal-Wallis test (all groups):\\t{stat:7.03f} {pval:8.02E}\")\n",
    "\n",
    "stat, pval = st.ranksums(plot_data.loc[plot_data[x] == 'first',  y],\n",
    "                         plot_data.loc[plot_data[x] == 'middle', y])\n",
    "print(f\"\\tWilcoxon rank sum test (first vs middle):\\t{stat:7.03f} {pval:8.02E}\")\n",
    "\n",
    "stat, pval = st.ranksums(plot_data.loc[plot_data[x] == 'first', y],\n",
    "                         plot_data.loc[plot_data[x] == 'last',  y])\n",
    "print(f\"\\tWilcoxon rank sum test (first vs last)  :\\t{stat:7.03f} {pval:8.02E}\")\n",
    "\n",
    "stat, pval = st.ranksums(plot_data.loc[plot_data[x] == 'middle', y],\n",
    "                         plot_data.loc[plot_data[x] == 'last',   y])\n",
    "print(f\"\\tWilcoxon rank sum test (middle vs last) :\\t{stat:7.03f} {pval:8.02E}\")\n",
    "\n",
    "\n",
    "print(\"\\nSummary data-\")\n",
    "print(plot_data.groupby(x)[y].describe().loc[['single','first','middle','last','CDS']])\n",
    "\n",
    "\n",
    "print(\"\\nMedian by group-\")\n",
    "print(plot_data.groupby(x)[y].agg('median').loc[['single','first','middle','last','CDS']])\n"
   ]
  }
 ],
 "metadata": {
  "kernelspec": {
   "display_name": "Python (tf-train)",
   "language": "python",
   "name": "tf-train"
  },
  "language_info": {
   "codemirror_mode": {
    "name": "ipython",
    "version": 3
   },
   "file_extension": ".py",
   "mimetype": "text/x-python",
   "name": "python",
   "nbconvert_exporter": "python",
   "pygments_lexer": "ipython3",
   "version": "3.6.12"
  }
 },
 "nbformat": 4,
 "nbformat_minor": 2
}
