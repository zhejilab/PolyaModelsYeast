{
 "cells": [
  {
   "cell_type": "markdown",
   "metadata": {},
   "source": [
    "# Filtering motifs important for PolyaStrength scores\n",
    "\n",
    "**Purpose:** To identify motifs significantly contributing to polyA site strength according to PolyaStrength. We employ a two-step filtering procedure.\n"
   ]
  },
  {
   "cell_type": "code",
   "execution_count": 1,
   "metadata": {},
   "outputs": [],
   "source": [
    "%load_ext autoreload"
   ]
  },
  {
   "cell_type": "code",
   "execution_count": 2,
   "metadata": {},
   "outputs": [],
   "source": [
    "%autoreload 2"
   ]
  },
  {
   "cell_type": "code",
   "execution_count": 3,
   "metadata": {},
   "outputs": [],
   "source": [
    "%run -i notebook_setup.py"
   ]
  },
  {
   "cell_type": "code",
   "execution_count": 4,
   "metadata": {},
   "outputs": [],
   "source": [
    "from paper_utilities import helpers, motifs"
   ]
  },
  {
   "cell_type": "code",
   "execution_count": 5,
   "metadata": {},
   "outputs": [],
   "source": [
    "tqdm.tqdm.pandas()"
   ]
  },
  {
   "cell_type": "code",
   "execution_count": 6,
   "metadata": {},
   "outputs": [],
   "source": [
    "PROJECT = \"/projects/b1080/eks/polyadenylation/yeast\"\n",
    "OUTDIR  = os.path.join(PROJECT, 'manuscript', 'analysis', 'resources')\n",
    "os.makedirs(OUTDIR, exist_ok = True)\n"
   ]
  },
  {
   "cell_type": "markdown",
   "metadata": {},
   "source": [
    "# Processing motif disruption results"
   ]
  },
  {
   "cell_type": "markdown",
   "metadata": {},
   "source": [
    "## Model Configurations"
   ]
  },
  {
   "cell_type": "code",
   "execution_count": 7,
   "metadata": {},
   "outputs": [
    {
     "data": {
      "text/html": [
       "<div>\n",
       "<style scoped>\n",
       "    .dataframe tbody tr th:only-of-type {\n",
       "        vertical-align: middle;\n",
       "    }\n",
       "\n",
       "    .dataframe tbody tr th {\n",
       "        vertical-align: top;\n",
       "    }\n",
       "\n",
       "    .dataframe thead th {\n",
       "        text-align: right;\n",
       "    }\n",
       "</style>\n",
       "<table border=\"1\" class=\"dataframe\">\n",
       "  <thead>\n",
       "    <tr style=\"text-align: right;\">\n",
       "      <th></th>\n",
       "      <th>species</th>\n",
       "      <th>description</th>\n",
       "      <th>modeltype</th>\n",
       "      <th>golden_lines</th>\n",
       "    </tr>\n",
       "  </thead>\n",
       "  <tbody>\n",
       "    <tr>\n",
       "      <td>0</td>\n",
       "      <td>saccharomyces_cerevisiae</td>\n",
       "      <td>polyastrength_kmers-6</td>\n",
       "      <td>polyastrength</td>\n",
       "      <td>9725</td>\n",
       "    </tr>\n",
       "  </tbody>\n",
       "</table>\n",
       "</div>"
      ],
      "text/plain": [
       "                    species            description      modeltype  \\\n",
       "0  saccharomyces_cerevisiae  polyastrength_kmers-6  polyastrength   \n",
       "\n",
       "   golden_lines  \n",
       "0          9725  "
      ]
     },
     "execution_count": 7,
     "metadata": {},
     "output_type": "execute_result"
    }
   ],
   "source": [
    "## Fetch line counts-1 for golden files before running this step\n",
    "\n",
    "trained_configs = pd.DataFrame.from_dict({\n",
    "    'species'      : ['saccharomyces_cerevisiae'],\n",
    "    'description'  : ['polyastrength_kmers-6'],\n",
    "    'modeltype'    : ['polyastrength'],\n",
    "    'golden_lines' : [9725],\n",
    "}, orient = 'columns')\n",
    "\n",
    "trained_configs.sort_values(['species','modeltype'], inplace = True)\n",
    "\n",
    "trained_configs\n"
   ]
  },
  {
   "cell_type": "code",
   "execution_count": 8,
   "metadata": {},
   "outputs": [],
   "source": [
    "## Make dictionary of configurations for easy downstream use\n",
    "\n",
    "configurations = {\n",
    "    'saccharomyces_cerevisiae'  : {},\n",
    "    'schizosaccharomyces_pombe' : {},\n",
    "    'arabidopsis_thaliana'      : {},\n",
    "}\n",
    "\n",
    "for i,row in trained_configs.iterrows():\n",
    "    \n",
    "    rdict = row.to_dict()\n",
    "    rdict.pop('species')\n",
    "    rdict.pop('description')\n",
    "    \n",
    "    configurations[row['species']][row['description']] = rdict\n",
    "    \n",
    "with open(os.path.join(OUTDIR, 'polyastrength_configurations.pickle'), mode = 'wb') as handle:\n",
    "    pickle.dump(configurations, handle)\n",
    "    "
   ]
  },
  {
   "cell_type": "markdown",
   "metadata": {},
   "source": [
    "## Motif family definitions by species"
   ]
  },
  {
   "cell_type": "code",
   "execution_count": 9,
   "metadata": {},
   "outputs": [],
   "source": [
    "## Load motif family definitions for S. cerevisiae\n",
    "\n",
    "scer_definitions = {'patterns' : {}, 'distance' : {}}\n",
    "\n",
    "# By pattern - we only look at pattern families for 6mers\n",
    "with open(os.path.join(OUTDIR, f'motif_definitions.scer.6mers.patterns.pickle'), mode = 'rb') as handle:\n",
    "    scer_definitions['patterns'][6] = pickle.load(handle)\n",
    "    \n",
    "scer_definitions['patterns'][5] = {'family':{}}\n",
    "scer_definitions['patterns'][4] = {'family':{}}\n",
    "\n",
    "# By Hamming distance\n",
    "for kmer in [4,5,6]:\n",
    "    with open(os.path.join(OUTDIR, f'motif_definitions.scer.{kmer}mers.distance.pickle'), mode = 'rb') as handle:\n",
    "        scer_definitions['distance'][kmer] = pickle.load(handle)\n"
   ]
  },
  {
   "cell_type": "markdown",
   "metadata": {},
   "source": [
    "## Motif importance by position"
   ]
  },
  {
   "cell_type": "code",
   "execution_count": 10,
   "metadata": {},
   "outputs": [
    {
     "name": "stdout",
     "output_type": "stream",
     "text": [
      "0: saccharomyces_cerevisiae  polyastrength polyastrength_kmers-6 (4096, 12)\n",
      "Removing 0 motifs due to incorrect xs length...\n",
      "Motif summaries shape: (4096, 12)\n"
     ]
    },
    {
     "name": "stderr",
     "output_type": "stream",
     "text": [
      "/projects/b1080/eks/polyadenylation/yeast/manuscript/paper_utilities/helpers.py:29: RuntimeWarning: invalid value encountered in double_scalars\n",
      "  ste_vec[i] = std_vec[i] / np.sqrt(freq_vec[i])\n",
      "100%|██████████| 4096/4096 [00:03<00:00, 1268.27it/s]\n",
      "100%|██████████| 4096/4096 [00:03<00:00, 1266.62it/s]\n"
     ]
    }
   ],
   "source": [
    "motif_summaries = []\n",
    "\n",
    "for i,config in trained_configs.iterrows():\n",
    "    \n",
    "    motif_dir = os.path.join(PROJECT, config['species'], \"analysis\", \"motif_analysis\", \"motif_disruption\")\n",
    "    \n",
    "    try:\n",
    "        motif_file = os.path.join(motif_dir, f\"motif_disruption.{config.description}.summary.txt\")\n",
    "        motif_summary = pd.read_csv(motif_file, sep = \"\\t\")    \n",
    "    except FileNotFoundError:\n",
    "        continue\n",
    "\n",
    "    motif_summary['species'] = config.species\n",
    "    motif_summary['modeltype'] = config.modeltype\n",
    "    motif_summary['config'] = config.description\n",
    "\n",
    "    motif_summaries.append(motif_summary)\n",
    "    print(f\"{i}: {config['species']:25} {config['modeltype']} {config['description']} {motif_summary.shape}\")\n",
    "    \n",
    "motif_summaries = pd.concat(motif_summaries, sort = False, ignore_index = True)\n",
    "print(f\"Removing {(motif_summaries['xs'].str.len() <= 2).sum()} motifs due to incorrect xs length...\")\n",
    "\n",
    "motif_summaries = motif_summaries.loc[motif_summaries['xs'].str.len() > 2].copy()\n",
    "print(f\"Motif summaries shape: {motif_summaries.shape}\")\n",
    "\n",
    "\n",
    "## Load motif importance profiles to numeric vectors\n",
    "\n",
    "motif_summaries['kmer']          = motif_summaries['testMotif'].str.len()\n",
    "\n",
    "motif_summaries['xs']            = motif_summaries['xs'].apply(lambda xs : [int(float(x)) for x in xs.strip(\"][\").split(\", \")])\n",
    "\n",
    "motif_summaries['freqs']         = motif_summaries['freqs'].apply(lambda xs : np.asarray([float(x) for x in xs.strip(\"][\").split(\", \")]))\n",
    "motif_summaries['means']         = motif_summaries['means'].apply(lambda xs : -1*np.asarray([float(x) for x in xs.strip(\"][\").split(\", \")]))\n",
    "motif_summaries['medians']       = motif_summaries['medians'].apply(lambda xs : -1*np.asarray([float(x) for x in xs.strip(\"][\").split(\", \")]))\n",
    "\n",
    "motif_summaries['meanWeights']   = motif_summaries['meanWeights'].apply(lambda xs : -1*np.asarray([float(x) for x in xs.strip(\"][\").split(\", \")]))\n",
    "motif_summaries['medianWeights'] = motif_summaries['medianWeights'].apply(lambda xs : -1*np.asarray([float(x) for x in xs.strip(\"][\").split(\", \")]))\n",
    "\n",
    "motif_summaries['stds']          = motif_summaries['stds'].apply(lambda xs : np.asarray([float(x) for x in xs.strip(\"][\").split(\", \")]))\n",
    "motif_summaries['stdWeights']    = motif_summaries['stdWeights'].apply(lambda xs : np.asarray([float(x) for x in xs.strip(\"][\").split(\", \")]))\n",
    "\n",
    "motif_summaries['stes']          = motif_summaries.apply(lambda row: helpers.std_to_ste(row['stds'], row['freqs']), axis = 1)\n",
    "motif_summaries['steWeights']    = motif_summaries.apply(lambda row: helpers.std_to_ste(row['stdWeights'], row['freqs']), axis = 1)\n",
    "\n",
    "\n",
    "## Calculate peak motif importance scores\n",
    "\n",
    "measure = \"mean\"\n",
    "\n",
    "motif_summaries['peak_persite_score'] = motif_summaries[f'{measure}s'].apply(lambda x : np.max(x))\n",
    "motif_summaries['auc_persite_score']  = motif_summaries[f'{measure}s'].apply(lambda x : np.sum(x))\n",
    "\n",
    "motif_summaries['extreme_persite_results']  = motif_summaries.progress_apply(lambda row: motifs.peak_importance_window(row['xs'], row[f'{measure}s'], region_size = 500, window_size = 20, direction = 'positive'), axis = 1)\n",
    "motif_summaries['extreme_persite_position'] = motif_summaries['extreme_persite_results'].apply(lambda x : x[0])\n",
    "motif_summaries['extreme_persite_score']    = motif_summaries['extreme_persite_results'].apply(lambda x : x[1])\n",
    "motif_summaries['extreme_persite_log1p']    = np.sign(motif_summaries['extreme_persite_score']) * np.log10(np.abs(motif_summaries['extreme_persite_score']))\n",
    "motif_summaries.drop(columns = 'extreme_persite_results', inplace = True)\n",
    "\n",
    "motif_summaries['peak_weights_score'] = motif_summaries[f'{measure}Weights'].apply(lambda x : np.max(x))\n",
    "motif_summaries['auc_weights_score']  = motif_summaries[f'{measure}Weights'].apply(lambda x : np.sum(x))\n",
    "\n",
    "motif_summaries['extreme_weights_results']  = motif_summaries.progress_apply(lambda row: motifs.peak_importance_window(row['xs'], row[f'{measure}Weights'], region_size = 500, window_size = 20, direction = 'positive'), axis = 1)\n",
    "motif_summaries['extreme_weights_position'] = motif_summaries['extreme_weights_results'].apply(lambda x : x[0])\n",
    "motif_summaries['extreme_weights_score']    = motif_summaries['extreme_weights_results'].apply(lambda x : x[1])\n",
    "motif_summaries['extreme_weights_log1p']    = np.sign(motif_summaries['extreme_weights_score']) * np.log10(np.abs(motif_summaries['extreme_weights_score']))\n",
    "motif_summaries.drop(columns = 'extreme_weights_results', inplace = True)\n",
    "\n",
    "\n",
    "## Record results\n",
    "\n",
    "with open(os.path.join(OUTDIR, \"polyastrength_motifs.disruption_profiles.pickle\"), mode = 'wb') as handle:\n",
    "    pickle.dump(motif_summaries, handle)\n",
    "    "
   ]
  },
  {
   "cell_type": "code",
   "execution_count": 11,
   "metadata": {
    "scrolled": false
   },
   "outputs": [
    {
     "data": {
      "text/plain": [
       "species                   modeltype      kmer\n",
       "saccharomyces_cerevisiae  polyastrength  6       4096\n",
       "dtype: int64"
      ]
     },
     "execution_count": 11,
     "metadata": {},
     "output_type": "execute_result"
    }
   ],
   "source": [
    "motif_summaries.groupby(['species','modeltype','kmer']).size()"
   ]
  },
  {
   "cell_type": "markdown",
   "metadata": {},
   "source": [
    "#### Compile motif importance profiles into matrices"
   ]
  },
  {
   "cell_type": "code",
   "execution_count": 12,
   "metadata": {},
   "outputs": [
    {
     "name": "stdout",
     "output_type": "stream",
     "text": [
      "saccharomyces_cerevisiae\tpolyastrength\tpolyastrength_kmers-6\n"
     ]
    },
    {
     "name": "stderr",
     "output_type": "stream",
     "text": [
      "4096it [00:05, 742.45it/s]\n"
     ]
    }
   ],
   "source": [
    "hmdfs_sum = dict()\n",
    "\n",
    "for i,(s,mt,c) in motif_summaries[['species','modeltype','config']].drop_duplicates().iterrows():\n",
    "    print(\"\\t\".join([s,mt,c]))\n",
    "    \n",
    "    if (s not in hmdfs_sum):\n",
    "        hmdfs_sum[s] = dict()\n",
    "    if (mt not in hmdfs_sum[s]):\n",
    "        hmdfs_sum[s][mt] = dict()\n",
    "        \n",
    "    condS  = (motif_summaries['species'] == s)\n",
    "    condMT = (motif_summaries['modeltype'] == mt)\n",
    "    condC  = (motif_summaries['config'] == c)\n",
    "        \n",
    "    msum = motif_summaries.loc[condS & condMT & condC]\n",
    "    \n",
    "    hmdfs_sum[s][mt][c] = motifs.make_hmdf(msum, weighted = True, xwindow = (-250,250))\n",
    "    \n",
    "with open(os.path.join(OUTDIR, \"polyastrength_motifs.hmdfs.sum.pickle\"), mode = 'wb') as handle:\n",
    "    pickle.dump(hmdfs_sum, handle)\n",
    "    "
   ]
  },
  {
   "cell_type": "code",
   "execution_count": 13,
   "metadata": {},
   "outputs": [
    {
     "name": "stdout",
     "output_type": "stream",
     "text": [
      "saccharomyces_cerevisiae\tpolyastrength\tpolyastrength_kmers-6\n"
     ]
    },
    {
     "name": "stderr",
     "output_type": "stream",
     "text": [
      "4096it [00:05, 756.44it/s]\n"
     ]
    }
   ],
   "source": [
    "hmdfs_sum = dict()\n",
    "\n",
    "for i,(s,mt,c) in motif_summaries[['species','modeltype','config']].drop_duplicates().iterrows():\n",
    "    print(\"\\t\".join([s,mt,c]))\n",
    "    \n",
    "    if (s not in hmdfs_sum):\n",
    "        hmdfs_sum[s] = dict()\n",
    "    if (mt not in hmdfs_sum[s]):\n",
    "        hmdfs_sum[s][mt] = dict()\n",
    "        \n",
    "    condS  = (motif_summaries['species'] == s)\n",
    "    condMT = (motif_summaries['modeltype'] == mt)\n",
    "    condC  = (motif_summaries['config'] == c)\n",
    "        \n",
    "    msum = motif_summaries.loc[condS & condMT & condC]\n",
    "    \n",
    "    hmdfs_sum[s][mt][c] = motifs.make_hmdf(msum, weighted = False, xwindow = (-250,250))\n",
    "    \n",
    "with open(os.path.join(OUTDIR, \"polyastrength_motifs.hmdfs.per_site.pickle\"), mode = 'wb') as handle:\n",
    "    pickle.dump(hmdfs_sum, handle)\n",
    "    "
   ]
  },
  {
   "cell_type": "markdown",
   "metadata": {},
   "source": [
    "#### Identify motifs significant over background"
   ]
  },
  {
   "cell_type": "code",
   "execution_count": 14,
   "metadata": {},
   "outputs": [
    {
     "name": "stdout",
     "output_type": "stream",
     "text": [
      "\n",
      "\n",
      " saccharomyces_cerevisiae\tpolyastrength\tpolyastrength_kmers-6\n"
     ]
    },
    {
     "name": "stderr",
     "output_type": "stream",
     "text": [
      "100%|██████████| 1000/1000 [00:41<00:00, 24.23it/s]\n"
     ]
    },
    {
     "name": "stdout",
     "output_type": "stream",
     "text": [
      "High Values:\talpha=0.001, percentile=99.900: cutoff_value=0.576\n",
      "Low Values :\talpha=0.001, percentile= 0.100: cutoff_value=-2.357\n",
      "Number of motifs above background threshold: 4023 out of 4096\n"
     ]
    }
   ],
   "source": [
    "background_motifs = dict()\n",
    "\n",
    "for i,(s,mt,c) in motif_summaries[['species','modeltype','config']].drop_duplicates().iterrows():\n",
    "    print(\"\\n\\n\", \"\\t\".join([s,mt,c]))\n",
    "    \n",
    "    if (s not in background_motifs):\n",
    "        background_motifs[s] = dict()\n",
    "    if (mt not in background_motifs[s]):\n",
    "        background_motifs[s][mt] = dict()\n",
    "        \n",
    "    condS  = (motif_summaries['species'] == s)\n",
    "    condMT = (motif_summaries['modeltype'] == mt)\n",
    "    condC  = (motif_summaries['config'] == c)\n",
    "        \n",
    "    msum = motif_summaries.loc[condS & condMT & condC]\n",
    "        \n",
    "    background_motifs[s][mt][c] = motifs.filter_by_importance(msum,\n",
    "                                                              hmdfs_sum[s][mt][c], \n",
    "                                                              OUTDIR, mt, c, \n",
    "                                                              center_idx = 250,\n",
    "                                                              exclude = (-80,30), \n",
    "                                                              sliding = 20, \n",
    "                                                              niter = 1000, \n",
    "                                                              alpha = 0.001, ## Equivalent to 99.9%ile\n",
    "                                                              direction = 'positive'\n",
    "                                                             )\n",
    "\n",
    "with open(os.path.join(OUTDIR, \"polyastrength_motifs.background_motifs.pickle\"), mode = 'wb') as handle:\n",
    "    pickle.dump(background_motifs, handle)\n",
    "    \n",
    "\n",
    "\n",
    "#  saccharomyces_cerevisiae\tpolyastrength\tpolyastrength_kmers-6\n",
    "# 100%|██████████| 1000/1000 [00:29<00:00, 33.42it/s]\n",
    "\n",
    "# High Values:\tPercentile = 99.50:\tValue = 39.370\n",
    "# Low Values:\tPercentile = 0.50:\tValue = -5.523\n",
    "# Number of motifs more extreme than background thresholds: 770 out of 4096\n"
   ]
  },
  {
   "cell_type": "markdown",
   "metadata": {},
   "source": [
    "#### Identify regionally-significant motifs"
   ]
  },
  {
   "cell_type": "code",
   "execution_count": 15,
   "metadata": {},
   "outputs": [
    {
     "name": "stdout",
     "output_type": "stream",
     "text": [
      "\n",
      "\n",
      "saccharomyces_cerevisiae\tpolyastrength\tpolyastrength_kmers-6\n",
      "Region=(-250, -120): alpha=0.001, percentile=99.900, cutoff_value=     1.231, n_passing= 69\n",
      "Region=(-120, -80) : alpha=0.001, percentile=99.900, cutoff_value=     1.903, n_passing= 51\n",
      "Region=(-80, -40)  : alpha=0.001, percentile=99.900, cutoff_value=    20.840, n_passing= 37\n",
      "Region=(-40, 0)    : alpha=0.001, percentile=99.900, cutoff_value=    23.651, n_passing= 26\n",
      "Region=(0, 40)     : alpha=0.001, percentile=99.900, cutoff_value=     7.833, n_passing= 34\n",
      "Region=(40, 80)    : alpha=0.001, percentile=99.900, cutoff_value=     1.462, n_passing= 18\n",
      "Region=(80, 120)   : alpha=0.001, percentile=99.900, cutoff_value=     1.225, n_passing= 30\n",
      "Region=(120, 250)  : alpha=0.001, percentile=99.900, cutoff_value=     1.260, n_passing= 63\n",
      "Number of regionally-significant motifs: 246\n"
     ]
    }
   ],
   "source": [
    "region_motifs = defaultdict(dict)\n",
    "\n",
    "for i,(s,mt,c) in motif_summaries[['species','modeltype','config']].drop_duplicates().iterrows():\n",
    "    print(\"\\n\\n\" + \"\\t\".join([s,mt,c]))\n",
    "    \n",
    "    if (s not in region_motifs):\n",
    "        region_motifs[s] = dict()\n",
    "    if (mt not in region_motifs[s]):\n",
    "        region_motifs[s][mt] = dict()\n",
    "    \n",
    "    region_motifs[s][mt][c] = motifs.filter_by_region(hmdfs_sum[s][mt][c].loc[background_motifs[s][mt][c]],\n",
    "                                                      OUTDIR, mt, s, c, \n",
    "                                                      regions = [(-250,-120),(-120,-80),(-80,-40),(-40,0),(0,40),(40,80),(80,120),(120,250)],\n",
    "                                                      sliding = 20, \n",
    "                                                      alpha = 0.001,\n",
    "                                                      overedges = True,\n",
    "                                                      verbose = False\n",
    "                                                     )\n",
    "    \n",
    "    regmots = sorted(set(itertools.chain.from_iterable([list(v.keys()) for k,v in region_motifs[s][mt][c].items()])))\n",
    "    print(\"Number of regionally-significant motifs:\", len(regmots))\n",
    "    \n",
    "with open(os.path.join(OUTDIR, \"polyastrength_motifs.region_motifs.pickle\"), mode = 'wb') as handle:\n",
    "    pickle.dump(region_motifs, handle)\n"
   ]
  },
  {
   "cell_type": "markdown",
   "metadata": {},
   "source": [
    "#### Combine significance filtering requirements"
   ]
  },
  {
   "cell_type": "code",
   "execution_count": 16,
   "metadata": {},
   "outputs": [
    {
     "name": "stdout",
     "output_type": "stream",
     "text": [
      "saccharomyces_cerevisiae  polyastrength_kmers-6:\tbgd=4023\treg= 246\tsig= 246\n"
     ]
    }
   ],
   "source": [
    "significant_motifs = defaultdict(dict)\n",
    "\n",
    "for i,(s,mt,c) in motif_summaries[['species','modeltype','config']].drop_duplicates().iterrows():\n",
    "    \n",
    "    if (s not in significant_motifs):\n",
    "        significant_motifs[s] = dict()\n",
    "    if (mt not in significant_motifs[s]):\n",
    "        significant_motifs[s][mt] = dict()\n",
    "        \n",
    "    bgdmots = background_motifs[s][mt][c]\n",
    "    regmots = sorted(set(itertools.chain.from_iterable([list(v.keys()) for k,v in region_motifs[s][mt][c].items()])))\n",
    "    sigmots = sorted(set([r for r in regmots if (r in bgdmots)]))\n",
    "    print(f\"{s:25} {c}:\\tbgd={len(bgdmots):4d}\\treg={len(regmots):4d}\\tsig={len(sigmots):4d}\")\n",
    "    \n",
    "    significant_motifs[s][mt][c] = sigmots\n",
    "        \n",
    "with open(os.path.join(OUTDIR, \"polyastrength_motifs.significant_motifs.pickle\"), mode = 'wb') as handle:\n",
    "    pickle.dump(significant_motifs, handle)\n"
   ]
  },
  {
   "cell_type": "code",
   "execution_count": 17,
   "metadata": {},
   "outputs": [
    {
     "name": "stdout",
     "output_type": "stream",
     "text": [
      "saccharomyces_cerevisiae  polyastrength_kmers-6:\n",
      "\tAAAAAA,AAAAAG,AAAAAT,AAAAGA,AAAAGG,AAAATA,AAACAA,AAAGAA,AAAGAG,AAAGCG,AAAGGA,AAATAA,AAATAG,AACAAA,AACGAA,AACGCA,AACTAA,AAGAAA,AAGAAG,AAGAAT,AAGGAA,AAGGAG,AAGGGG,AAGTAG,AATAAA,AATAAC,AATAAT,AATAGA,AATATA,AATGTA,AATTAC,ACAAAA,ACAAAG,ACAAAT,ACATAA,ACATAG,ACATAT,ACGAGC,ACGGGG,ACGTAA,ACGTAC,ACGTAG,ACGTAT,AGAAAA,AGATAA,AGATAG,AGATAT,AGATGT,AGGACC,AGGAGA,AGGGAC,AGGGAG,AGGGGA,AGGGGC,AGGTAA,AGTATA,ATAAAA,ATAAAT,ATAAGA,ATAAGT,ATAATA,ATAATT,ATACAA,ATACAT,ATAGAT,ATAGGC,ATAGGG,ATAGGT,ATAGTG,ATATAA,ATATAC,ATATAG,ATATAT,ATATGT,ATGTAA,ATGTAC,ATGTAG,ATGTAT,CAAGGG,CAATGC,CAGGGA,CATGTA,CCGGGG,CCTTTT,CGAAAA,CGAAGA,CGAGGA,CGGAGA,CGGATG,CGGGGA,CGTAGA,CTACGT,CTATAT,CTATGT,CTCTTT,CTGTGT,CTTCTT,CTTTCT,CTTTTC,CTTTTG,CTTTTT,GAAAAA,GAAAAG,GAAAGG,GAAGAG,GAAGGA,GAATGA,GAATGG,GAGAAG,GAGGAG,GAGGCG,GAGGGA,GAGGGC,GAGGGG,GATATA,GATATT,GATGTA,GCAGAG,GCAGGG,GCATAT,GCCGGA,GCCTAT,GCCTGA,GCGGAA,GCGGAG,GCGTGG,GCTTTT,GGAAAA,GGAAAG,GGAAGG,GGAATG,GGACAG,GGAGAG,GGAGCC,GGAGGA,GGAGGG,GGATGC,GGATGG,GGCAAA,GGCAGA,GGCCGC,GGCGCC,GGCGGA,GGCGGC,GGGAAA,GGGAGA,GGGAGG,GGGCAA,GGGCGC,GGGGAA,GGTGCG,GGTGTA,GTAAAT,GTAACT,GTAAGA,GTAAGT,GTACAT,GTACGT,GTACTC,GTAGCT,GTAGTT,GTATAA,GTATAG,GTATAT,GTATGT,GTGAGG,GTGGGC,GTGTAT,GTGTGT,GTTGTA,GTTTCT,GTTTTT,TAAAAA,TAAAAT,TAAACA,TAAATA,TAACAA,TAAGTA,TAATAA,TAATAT,TAATTA,TAATTC,TACAAA,TACATA,TACGTA,TACGTG,TAGATA,TAGATC,TAGATG,TAGGTA,TAGTAT,TATAAA,TATAAG,TATAAT,TATAGA,TATAGC,TATAGG,TATAGT,TATATA,TATCTA,TATGTA,TATGTG,TCGAGG,TCTATA,TCTCTT,TCTTCT,TCTTTC,TCTTTG,TCTTTT,TGAAAG,TGAGGA,TGGCGG,TGGGGG,TGGTGG,TGTAAC,TGTAAG,TGTATA,TGTGTA,TGTTTT,TTAAAA,TTAATA,TTACAT,TTACGT,TTAGAT,TTATAA,TTATAT,TTATGT,TTCCCT,TTCTCC,TTCTCT,TTCTTC,TTCTTT,TTGTCT,TTGTTC,TTTATA,TTTCTC,TTTCTG,TTTCTT,TTTGTT,TTTTCC,TTTTCG,TTTTCT,TTTTGT,TTTTTC,TTTTTG,TTTTTT\n"
     ]
    }
   ],
   "source": [
    "for i,(s,mt,c) in motif_summaries[['species','modeltype','config']].drop_duplicates().iterrows():\n",
    "    print(f\"{s:25} {c}:\\n\\t{','.join(significant_motifs[s][mt][c])}\")\n"
   ]
  },
  {
   "cell_type": "code",
   "execution_count": null,
   "metadata": {},
   "outputs": [],
   "source": []
  }
 ],
 "metadata": {
  "kernelspec": {
   "display_name": "Python (tf-train)",
   "language": "python",
   "name": "tf-train"
  },
  "language_info": {
   "codemirror_mode": {
    "name": "ipython",
    "version": 3
   },
   "file_extension": ".py",
   "mimetype": "text/x-python",
   "name": "python",
   "nbconvert_exporter": "python",
   "pygments_lexer": "ipython3",
   "version": "3.6.12"
  }
 },
 "nbformat": 4,
 "nbformat_minor": 2
}
