{
 "cells": [
  {
   "cell_type": "markdown",
   "metadata": {},
   "source": [
    "# Filtering motifs important for PolyaStrength scores\n",
    "\n",
    "**Purpose:** To create a Python object containing all summary motif importance information, which facilitates downstream analysis and visualization.\n"
   ]
  },
  {
   "cell_type": "code",
   "execution_count": 1,
   "metadata": {},
   "outputs": [],
   "source": [
    "%load_ext autoreload"
   ]
  },
  {
   "cell_type": "code",
   "execution_count": 2,
   "metadata": {},
   "outputs": [],
   "source": [
    "%autoreload 2"
   ]
  },
  {
   "cell_type": "code",
   "execution_count": 3,
   "metadata": {},
   "outputs": [],
   "source": [
    "%run -i notebook_setup.py"
   ]
  },
  {
   "cell_type": "code",
   "execution_count": 4,
   "metadata": {},
   "outputs": [],
   "source": [
    "from paper_utilities import motifs"
   ]
  },
  {
   "cell_type": "code",
   "execution_count": 5,
   "metadata": {},
   "outputs": [],
   "source": [
    "PROJECT = \"/projects/b1080/eks/polyadenylation/yeast\"\n",
    "OUTDIR  = os.path.join(PROJECT, 'manuscript', 'analysis', 'resources')\n",
    "os.makedirs(OUTDIR, exist_ok = True)\n"
   ]
  },
  {
   "cell_type": "markdown",
   "metadata": {},
   "source": [
    "# Processing motif disruption results"
   ]
  },
  {
   "cell_type": "markdown",
   "metadata": {},
   "source": [
    "## Model Configurations"
   ]
  },
  {
   "cell_type": "code",
   "execution_count": 6,
   "metadata": {},
   "outputs": [],
   "source": [
    "with open(os.path.join(OUTDIR, 'polyastrength_configurations.pickle'), mode = 'rb') as handle:\n",
    "    configurations = pickle.load(handle)\n"
   ]
  },
  {
   "cell_type": "markdown",
   "metadata": {},
   "source": [
    "## Motif family definitions by species"
   ]
  },
  {
   "cell_type": "code",
   "execution_count": 7,
   "metadata": {},
   "outputs": [],
   "source": [
    "## Load motif family definitions for S. cerevisiae\n",
    "\n",
    "scer_definitions = {'patterns' : {}, 'distance' : {}}\n",
    "\n",
    "# By pattern - we only look at pattern families for 6mers\n",
    "with open(os.path.join(OUTDIR, f'motif_definitions.scer.6mers.patterns.pickle'), mode = 'rb') as handle:\n",
    "    scer_definitions['patterns'][6] = pickle.load(handle)\n",
    "    \n",
    "scer_definitions['patterns'][5] = {'family':{}}\n",
    "scer_definitions['patterns'][4] = {'family':{}}\n",
    "\n",
    "# By Hamming distance\n",
    "for kmer in [4,5,6]:\n",
    "    with open(os.path.join(OUTDIR, f'motif_definitions.scer.{kmer}mers.distance.pickle'), mode = 'rb') as handle:\n",
    "        scer_definitions['distance'][kmer] = pickle.load(handle)\n"
   ]
  },
  {
   "cell_type": "code",
   "execution_count": 8,
   "metadata": {},
   "outputs": [],
   "source": [
    "## Load motif family definitions for S. pombe\n",
    "\n",
    "spom_definitions = {'distance' : {}}\n",
    "\n",
    "# By Hamming distance\n",
    "for kmer in [4,5,6]:\n",
    "    with open(os.path.join(OUTDIR, f'motif_definitions.spom.{kmer}mers.distance.pickle'), mode = 'rb') as handle:\n",
    "        spom_definitions['distance'][kmer] = pickle.load(handle)\n"
   ]
  },
  {
   "cell_type": "code",
   "execution_count": 9,
   "metadata": {},
   "outputs": [],
   "source": [
    "## Load motif family definitions for A. thaliana\n",
    "\n",
    "atha_definitions = {'patterns' : {}}\n",
    "\n",
    "# By Hamming distance\n",
    "for kmer in [4,5,6]:\n",
    "    with open(os.path.join(OUTDIR, f'motif_definitions.atha.{kmer}mers.patterns.pickle'), mode = 'rb') as handle:\n",
    "        atha_definitions['patterns'][kmer] = pickle.load(handle)\n"
   ]
  },
  {
   "cell_type": "markdown",
   "metadata": {},
   "source": [
    "## Processed motif importance profiles"
   ]
  },
  {
   "cell_type": "code",
   "execution_count": 10,
   "metadata": {},
   "outputs": [],
   "source": [
    "with open(os.path.join(OUTDIR, \"polyastrength_motifs.disruption_profiles.pickle\"), mode = 'rb') as handle:\n",
    "    motif_summaries = pickle.load(handle)\n"
   ]
  },
  {
   "cell_type": "code",
   "execution_count": 11,
   "metadata": {},
   "outputs": [],
   "source": [
    "with open(os.path.join(OUTDIR, \"polyastrength_motifs.significant_motifs.pickle\"), mode = 'rb') as handle:\n",
    "    significant_motifs = pickle.load(handle)\n",
    "    "
   ]
  },
  {
   "cell_type": "markdown",
   "metadata": {},
   "source": [
    "## Assign individual motifs to families"
   ]
  },
  {
   "cell_type": "code",
   "execution_count": 12,
   "metadata": {
    "scrolled": false
   },
   "outputs": [],
   "source": [
    "## Assign motif families to individual motif importance profiles\n",
    "\n",
    "# S. cerevisiae\n",
    "motif_summaries.loc[motif_summaries['species'] == 'saccharomyces_cerevisiae', 'overallFamily'] = motif_summaries['testMotif'].apply(lambda x : scer_definitions['distance'][len(x)]['family'].get(x,'NA'))\n",
    "motif_summaries.loc[motif_summaries['species'] == 'saccharomyces_cerevisiae', 'hammingFamily'] = motif_summaries['testMotif'].apply(lambda x : scer_definitions['distance'][len(x)]['hamming'].get(x,'NA'))\n",
    "motif_summaries.loc[motif_summaries['species'] == 'saccharomyces_cerevisiae', 'patternFamily'] = motif_summaries['testMotif'].apply(lambda x : scer_definitions['patterns'][len(x)]['family'].get(x,'NA'))\n",
    "\n",
    "\n",
    "## Record results\n",
    "\n",
    "with open(os.path.join(OUTDIR, \"polyastrength_motifs.summaries.pickle\"), mode = 'wb') as handle:\n",
    "    pickle.dump(motif_summaries, handle)\n",
    "    "
   ]
  },
  {
   "cell_type": "markdown",
   "metadata": {},
   "source": [
    "## Compile python dictionary with significant motif data for downstream analysis"
   ]
  },
  {
   "cell_type": "code",
   "execution_count": 13,
   "metadata": {},
   "outputs": [],
   "source": [
    "scer_dist_mfams = ['A-rich','T-rich','TA/TA-rich','A-rich_d0','A-rich_d1','A-rich_d2','T-rich_d0','T-rich_d1','T-rich_d2','TA/TA-rich_d0','TA/TA-rich_d1','TA/TA-rich_d2']\n",
    "scer_patt_mfams = ['G-rich','G/T-rich','T/A-rich','A-rich','T-rich','TT/AA-rich','TA/AA-rich','TC/TA-rich','TG/TA-rich','TA/TA-rich']\n",
    "scer_cont_mfams = ['TA','TG','TC','TT']\n"
   ]
  },
  {
   "cell_type": "code",
   "execution_count": 14,
   "metadata": {
    "scrolled": false
   },
   "outputs": [
    {
     "name": "stdout",
     "output_type": "stream",
     "text": [
      "\n",
      "saccharomyces_cerevisiae\tpolyastrength\tpolyastrength_kmers-6\t9725\n",
      "Number of significant motifs: 246\n",
      "\thamming A-rich \t 39\n",
      "\thamming T-rich \t 32\n",
      "\thamming TA/TA-rich \t 74\n",
      "\thamming A-rich_d0 \t 1\n",
      "\thamming A-rich_d1 \t 15\n"
     ]
    },
    {
     "name": "stderr",
     "output_type": "stream",
     "text": [
      "/projects/b1080/eks/polyadenylation/yeast/manuscript/paper_utilities/helpers.py:29: RuntimeWarning: invalid value encountered in double_scalars\n",
      "  ste_vec[i] = std_vec[i] / np.sqrt(freq_vec[i])\n"
     ]
    },
    {
     "name": "stdout",
     "output_type": "stream",
     "text": [
      "\thamming A-rich_d2 \t 23\n",
      "\thamming T-rich_d0 \t 1\n",
      "\thamming T-rich_d1 \t 11\n",
      "\thamming T-rich_d2 \t 20\n",
      "\thamming TA/TA-rich_d0 \t 2\n",
      "\thamming TA/TA-rich_d1 \t 25\n",
      "\thamming TA/TA-rich_d2 \t 47\n",
      "\tpattern G-rich \t 32\n",
      "\tpattern G/T-rich \t 2\n",
      "\tpattern T/A-rich \t 1\n",
      "\tpattern A-rich \t 23\n",
      "\tpattern T-rich \t 32\n",
      "\tpattern TT/AA-rich \t 3\n",
      "\tpattern TA/AA-rich \t 21\n",
      "\tpattern TC/TA-rich \t 9\n",
      "\tpattern TG/TA-rich \t 36\n",
      "\tpattern TA/TA-rich \t 30\n",
      "\tcontains TA \t 74\n",
      "\tcontains TG \t 31\n",
      "\tcontains TC \t 5\n",
      "\tcontains TT \t 10\n"
     ]
    }
   ],
   "source": [
    "nested_dict = lambda: defaultdict(nested_dict)\n",
    "mfam_importance = nested_dict()\n",
    "\n",
    "for i,(s,sd) in enumerate(configurations.items()):\n",
    "    for (c,cd) in sd.items():\n",
    "        \n",
    "        mt     = cd['modeltype']\n",
    "        ntotal = cd['golden_lines']\n",
    "    \n",
    "        print(\"\\n\" + \"\\t\".join([str(_) for _ in [s,mt,c,ntotal]]))\n",
    "\n",
    "        mot_dis_dir = os.path.join(PROJECT, s, 'analysis', 'motif_analysis', 'motif_disruption', c)\n",
    "\n",
    "        sigmots = sorted(significant_motifs[s][mt][c])\n",
    "        print(\"Number of significant motifs:\", len(sigmots))\n",
    "\n",
    "        if (mt == 'polyaid_classification') or (mt == 'polyaclassifier'):\n",
    "            mvar = 'differenceClassification'\n",
    "        elif (mt == 'polyaid_cleavage'):\n",
    "            mvar = 'l2fcEntropy'\n",
    "        elif (mt == 'polyastrength'):\n",
    "            mvar = 'differenceStrength'\n",
    "\n",
    "        ## Fetch species-specific motif family definitions\n",
    "\n",
    "        if (s == \"saccharomyces_cerevisiae\"):\n",
    "            mfams_dist = scer_dist_mfams\n",
    "            mfams_patt = scer_patt_mfams\n",
    "            mdefs = scer_definitions\n",
    "\n",
    "        elif (s == \"schizosaccharomyces_pombe\"):\n",
    "            mfams_dist = spom_dist_mfams\n",
    "            mfams_patt = spom_patt_mfams\n",
    "            mdefs = spom_definitions\n",
    "\n",
    "        elif (s == 'arabidopsis_thaliana'):\n",
    "            mfams_dist = atha_dist_mfams\n",
    "            mfams_patt = atha_patt_mfams\n",
    "            mdefs = atha_definitions\n",
    "\n",
    "        ## Motif definitions using hamming distances to archetypical motifs\n",
    "\n",
    "        for mfam in mfams_dist:\n",
    "\n",
    "            if (\"_d\" in mfam):\n",
    "                mlist = [m for m,f in mdefs['distance'][len(sigmots[0])]['hamming'].items() if (m in sigmots) and (f == mfam)]\n",
    "            else:\n",
    "                mlist = [m for m in mdefs['distance'][len(sigmots[0])]['no_overlap'][mfam] if (m in sigmots)]\n",
    "            print(\"\\thamming\", mfam, \"\\t\", len(mlist))\n",
    "\n",
    "            try:\n",
    "                mfam_importance[s][mt][c][f'hamming_{mfam}'] = {}\n",
    "                mfam_importance[s][mt][c][f'hamming_{mfam}']['motifs'] = mlist\n",
    "                mfam_importance[s][mt][c][f'hamming_{mfam}']['data']   = motifs.summarize_family(mot_dis_dir, mlist, 'position', mvar, ntotal)\n",
    "            except ValueError:\n",
    "                continue\n",
    "\n",
    "        ## Motif definitions using known patterns\n",
    "\n",
    "        if (s == 'arabidopsis_thaliana') or ((s == 'saccharomyces_cerevisiae') and ('kmers-6' in c)):\n",
    "\n",
    "            for mfam in mfams_patt:\n",
    "\n",
    "                mlist = [m for m in mdefs['patterns'][len(sigmots[0])]['no_overlap'][mfam] if (m in sigmots)]\n",
    "                print(\"\\tpattern\", mfam, \"\\t\", len(mlist))\n",
    "\n",
    "                try:\n",
    "                    mfam_importance[s][mt][c][f'pattern_{mfam}'] = {}\n",
    "                    mfam_importance[s][mt][c][f'pattern_{mfam}']['motifs'] = mlist\n",
    "                    mfam_importance[s][mt][c][f'pattern_{mfam}']['data']   = motifs.summarize_family(mot_dis_dir, mlist, 'position', mvar, ntotal)\n",
    "                except ValueError:\n",
    "                    continue\n",
    "\n",
    "        ## Special analysis of UA-rich elements in S. cerevisiae 6mers\n",
    "\n",
    "        if ((s == 'saccharomyces_cerevisiae') and ('kmers-6' in c)):\n",
    "\n",
    "            for mfam in scer_cont_mfams:\n",
    "\n",
    "                mlist = [m for m in mdefs['distance'][len(sigmots[0])]['no_overlap']['TA/TA-rich'] if (m in sigmots) and ((mfam in m) or (mfam[::-1] in m))]\n",
    "                print(\"\\tcontains\", mfam, \"\\t\", len(mlist))\n",
    "\n",
    "                try:\n",
    "                    mfam_importance[s][mt][c][f'contains_{mfam}'] = {}\n",
    "                    mfam_importance[s][mt][c][f'contains_{mfam}']['motifs'] = mlist\n",
    "                    mfam_importance[s][mt][c][f'contains_{mfam}']['data']   = motifs.summarize_family(mot_dis_dir, mlist, 'position', mvar, ntotal)\n",
    "                except ValueError:\n",
    "                    continue\n",
    "\n",
    "with open(os.path.join(OUTDIR, 'polyastrength_motifs.family_profiles.pickle'), mode = 'wb') as handle:\n",
    "    pickle.dump(mfam_importance, handle)\n"
   ]
  }
 ],
 "metadata": {
  "kernelspec": {
   "display_name": "Python (tf-train)",
   "language": "python",
   "name": "tf-train"
  },
  "language_info": {
   "codemirror_mode": {
    "name": "ipython",
    "version": 3
   },
   "file_extension": ".py",
   "mimetype": "text/x-python",
   "name": "python",
   "nbconvert_exporter": "python",
   "pygments_lexer": "ipython3",
   "version": "3.6.12"
  }
 },
 "nbformat": 4,
 "nbformat_minor": 2
}
