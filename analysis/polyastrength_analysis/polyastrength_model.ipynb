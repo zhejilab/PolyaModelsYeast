{
 "cells": [
  {
   "cell_type": "markdown",
   "metadata": {},
   "source": [
    "# PolyaStrength model development\n",
    "\n",
    "**Purpose**: To develop a model that can predict the strength (inferred from expression) of *S. cerevisiae* polyadenylation sites in genomic sequences.\n"
   ]
  },
  {
   "cell_type": "code",
   "execution_count": 1,
   "metadata": {},
   "outputs": [],
   "source": [
    "%load_ext autoreload"
   ]
  },
  {
   "cell_type": "code",
   "execution_count": 2,
   "metadata": {},
   "outputs": [],
   "source": [
    "%autoreload 2"
   ]
  },
  {
   "cell_type": "code",
   "execution_count": 3,
   "metadata": {},
   "outputs": [],
   "source": [
    "%run -i notebook_setup.py"
   ]
  },
  {
   "cell_type": "markdown",
   "metadata": {},
   "source": [
    "## IMPORTS AND SETUP"
   ]
  },
  {
   "cell_type": "code",
   "execution_count": 4,
   "metadata": {},
   "outputs": [],
   "source": [
    "from paper_utilities import models"
   ]
  },
  {
   "cell_type": "code",
   "execution_count": 5,
   "metadata": {},
   "outputs": [],
   "source": [
    "PROJECT   = \"/projects/b1080/eks/polyadenylation/yeast\"\n",
    "OUTDIR    = os.path.join(PROJECT, 'manuscript', 'analysis', 'polyastrength_model_development')\n",
    "RESOURCES = os.path.join(os.path.dirname(OUTDIR), 'resources')\n",
    "os.makedirs(OUTDIR, exist_ok = True)\n"
   ]
  },
  {
   "cell_type": "code",
   "execution_count": 6,
   "metadata": {},
   "outputs": [],
   "source": [
    "with open(os.path.join(RESOURCES, 'polyastrength_configurations.pickle'), mode = 'rb') as handle:\n",
    "    configurations = pickle.load(handle)\n"
   ]
  },
  {
   "cell_type": "code",
   "execution_count": 7,
   "metadata": {},
   "outputs": [],
   "source": [
    "boxplot_format = {\n",
    "    'boxprops' : {'edgecolor' : 'black', 'linewidth' : 0.5},\n",
    "    'medianprops' : {'color' : 'black', 'linewidth' : 0.5},\n",
    "    'whiskerprops' : {'color' : 'black', 'linewidth' : 0.5},\n",
    "    'capprops' : {'color' : 'black', 'linewidth' : 0.5},\n",
    "    'flierprops' : {'color' : 'black'},\n",
    "    'showfliers' : False\n",
    "}\n",
    "\n",
    "barplot_format = {\n",
    "    'color'     : 'lightgray',\n",
    "    'edgecolor' : 'black',\n",
    "    'linewidth' : 0.5\n",
    "}"
   ]
  },
  {
   "cell_type": "markdown",
   "metadata": {},
   "source": [
    "## HELPER FUNCTIONS"
   ]
  },
  {
   "cell_type": "code",
   "execution_count": 8,
   "metadata": {},
   "outputs": [],
   "source": [
    "def create_pairs(data, score_field, pairtype, log2fold = 0, distance = 0, max_dist = 1e4, max_iter = 10, random_seed = 12345):\n",
    "    \n",
    "    gene_sum = data['gene'].value_counts()\n",
    "    gene_list = gene_sum[gene_sum > 1].index.to_list()\n",
    "    filt = data.loc[data['gene'].isin(gene_list)].copy()\n",
    "    \n",
    "    counters = {\n",
    "        'minimum_read_difference' : 0,\n",
    "        'minimum_distance'        : 0,\n",
    "        'iteration_limit'         : 0,\n",
    "    }\n",
    "    \n",
    "    if (pairtype == 'top'):\n",
    "        pair_data = filt.sort_values(f'{score_field}_reads').groupby('gene', as_index = False).tail(2)\n",
    "        \n",
    "    else:\n",
    "        \n",
    "        pair_dict = {}\n",
    "        pair_columns = data.columns\n",
    "        \n",
    "        for gene_name in tqdm.tqdm(gene_list):\n",
    "            \n",
    "            n_iter = 0\n",
    "            diff   = 0\n",
    "            dist   = 0\n",
    "            \n",
    "            gene_data = filt.loc[filt['gene'] == gene_name]\n",
    "            \n",
    "            max_diff = np.abs(np.log2(gene_data[f'{score_field}_reads'].max() / gene_data[f'{score_field}_reads'].min()))\n",
    "            max_dist = np.abs(gene_data['start'].max() - gene_data['start'].min())\n",
    "            \n",
    "            if (max_diff < log2fold):\n",
    "                counters['minimum_read_difference'] += 1\n",
    "                continue\n",
    "            \n",
    "            if (max_dist < distance):\n",
    "                counters['minimum_distance'] += 1\n",
    "                continue\n",
    "                \n",
    "            if (pairtype == 'random'):\n",
    "                \n",
    "                while (n_iter < max_iter) & ((diff <= log2fold) | (dist <= distance) | (dist > max_dist)):\n",
    "                    \n",
    "                    pair_data = gene_data.sample(n = 2, replace = False, random_state = random_seed + n_iter)\n",
    "                    \n",
    "                    diff = np.abs(np.log2(pair_data.iloc[0][f'{score_field}_reads'] / pair_data.iloc[1][f'{score_field}_reads']))\n",
    "                    dist = np.abs(pair_data.iloc[0]['start'] - pair_data.iloc[1]['start'])\n",
    "\n",
    "                    n_iter += 1\n",
    "                    \n",
    "                if (n_iter >= max_iter):\n",
    "                    counters['iteration_limit'] += 1\n",
    "                    continue\n",
    "                    \n",
    "                pair_dict[pair_data.index[0]] = pair_data.iloc[0].to_list()\n",
    "                pair_dict[pair_data.index[1]] = pair_data.iloc[1].to_list()\n",
    "                    \n",
    "            elif (pairtype == 'mixed'):\n",
    "                \n",
    "                top_site = gene_data.sort_values(f'{score_field}_reads', ascending = True).tail(1)\n",
    "                \n",
    "                while (n_iter < max_iter) & ((diff <= log2fold) | (dist <= distance) | (dist > max_dist)):\n",
    "                    \n",
    "                    rand_site = gene_data.loc[gene_data['key'] != top_site.iloc[0]['key']].sample(n = 1, replace = False, random_state = int(random_seed + n_iter))\n",
    "                    \n",
    "                    diff = np.abs(np.log2(top_site.iloc[0][f'{score_field}_reads'] / rand_site.iloc[0][f'{score_field}_reads']))\n",
    "                    dist = np.abs(top_site['start'].max() - rand_site['start'].max())\n",
    "                    \n",
    "                    n_iter += 1\n",
    "                    \n",
    "                if (n_iter >= max_iter):\n",
    "                    counters['iteration_limit'] += 1\n",
    "                    continue\n",
    "                \n",
    "                pair_dict[top_site.index[0]]  = top_site.iloc[0].to_list()\n",
    "                pair_dict[rand_site.index[0]] = rand_site.iloc[0].to_list()\n",
    "                \n",
    "        pair_data = pd.DataFrame.from_dict(pair_dict, orient = 'index', columns = pair_columns)\n",
    "        \n",
    "    print(f\"Pair generation complete: sites={len(pair_data)}, genes={pair_data['gene'].nunique()}\")\n",
    "    print(\"Skip counters:\", counters)\n",
    "    \n",
    "    return categorize_pairs(pair_data, score_field)\n"
   ]
  },
  {
   "cell_type": "code",
   "execution_count": 9,
   "metadata": {},
   "outputs": [],
   "source": [
    "def categorize_pairs(data, score_field):\n",
    "    '''Categorize the sites in each pair based on their relative position (i.e. proximal or distal) and supporting reads (i.e. major or minor).\n",
    "    '''\n",
    "\n",
    "    out_data = data.copy()\n",
    "\n",
    "    out_data['category_pos']   = 'distal'\n",
    "    out_data['category_reads'] = 'minor'\n",
    "    out_data['category_pred']  = 'minor'\n",
    "\n",
    "    out_data.loc[out_data.loc[out_data['strand'] == '+'].groupby('gene').start.idxmin(), 'category_pos'] = 'proximal'\n",
    "    out_data.loc[out_data.loc[out_data['strand'] == '-'].groupby('gene').start.idxmax(), 'category_pos'] = 'proximal'\n",
    "\n",
    "    out_data.loc[out_data.groupby('gene')[f'{score_field}_reads'].idxmax(), 'category_reads'] = 'major'\n",
    "    out_data.loc[out_data.groupby('gene')['pred_logit'].idxmax(), 'category_pred'] = 'major'\n",
    "\n",
    "    site_summary = (out_data.loc[(out_data['category_reads'] == 'major')].shape[0], \n",
    "                    out_data.loc[(out_data['category_reads'] == 'major') & (out_data['category_pos'] == 'proximal')].shape[0], \n",
    "                    out_data.loc[(out_data['category_reads'] == 'major') & (out_data['category_pos'] == 'distal')].shape[0], \n",
    "                   )\n",
    "\n",
    "    return out_data, site_summary\n"
   ]
  },
  {
   "cell_type": "code",
   "execution_count": 10,
   "metadata": {},
   "outputs": [],
   "source": [
    "def calculate_pairs_auc(pair_data):\n",
    "    \n",
    "    ## Compile a dictionary of sites that will map the position to the prediction\n",
    "    \n",
    "    matched_sites = {}\n",
    "    \n",
    "    for i,row in pair_data.iterrows():\n",
    "        if (row['gene'] not in matched_sites):\n",
    "            matched_sites[row['gene']] = {}\n",
    "        matched_sites[row['gene']][row['category_reads']] = row['pred_logit']\n",
    "        \n",
    "    ## For each site in all pairs, find the predictions for the matching site and calculate the difference\n",
    "    \n",
    "    out_data = pair_data.copy()\n",
    "    \n",
    "    out_data['matched_cat'] = 'major'\n",
    "    out_data.loc[out_data['category_reads'] == 'major', 'matched_cat'] = 'minor'\n",
    "    \n",
    "    out_data['binary_class'] = (out_data['category_reads'] == 'major').astype(int)\n",
    "    out_data['matched_pred'] = out_data.apply(lambda row: matched_sites[row['gene']][row['matched_cat']], axis = 1)\n",
    "    out_data['matched_diff'] = out_data['pred_logit'] - out_data['matched_pred']\n",
    "\n",
    "    ## Calculate the AUROC and AUPRC for all pairs\n",
    "\n",
    "    auroc, auprc  = models.calculate_auc(out_data['binary_class'], out_data['matched_diff'])\n",
    "\n",
    "    return auroc, auprc\n",
    "    \n",
    "    "
   ]
  },
  {
   "cell_type": "markdown",
   "metadata": {},
   "source": [
    "## ANALYSIS"
   ]
  },
  {
   "cell_type": "markdown",
   "metadata": {},
   "source": [
    "#### Load test split data for PolyaStrength model"
   ]
  },
  {
   "cell_type": "code",
   "execution_count": 11,
   "metadata": {},
   "outputs": [
    {
     "name": "stdout",
     "output_type": "stream",
     "text": [
      "Train     : (14488, 11)\n",
      "Validation: (2054, 11)\n",
      "Test      : (4149, 11)\n"
     ]
    }
   ],
   "source": [
    "dt_tr = pd.read_csv(os.path.join(RESOURCES, 'polyastrength_final_model.train_data.txt'), sep = \"\\t\")\n",
    "dt_va = pd.read_csv(os.path.join(RESOURCES, 'polyastrength_final_model.val_data.txt'),   sep = \"\\t\")\n",
    "dt_te = pd.read_csv(os.path.join(RESOURCES, 'polyastrength_final_model.test_data.txt'),  sep = \"\\t\")\n",
    "\n",
    "print(f\"Train     : {dt_tr.shape}\")\n",
    "print(f\"Validation: {dt_va.shape}\")\n",
    "print(f\"Test      : {dt_te.shape}\")\n",
    "\n",
    "dt_tr['chrom']  = dt_tr['key'].str.split(\":\").str[0].astype(str)\n",
    "dt_tr['start']  = dt_tr['key'].str.split(\":\").str[1].astype(int)\n",
    "dt_tr['strand'] = dt_tr['key'].str.split(\":\").str[2].astype(str)\n",
    "\n",
    "dt_va['chrom']  = dt_va['key'].str.split(\":\").str[0].astype(str)\n",
    "dt_va['start']  = dt_va['key'].str.split(\":\").str[1].astype(int)\n",
    "dt_va['strand'] = dt_va['key'].str.split(\":\").str[2].astype(str)\n",
    "\n",
    "dt_te['chrom']  = dt_te['key'].str.split(\":\").str[0].astype(str)\n",
    "dt_te['start']  = dt_te['key'].str.split(\":\").str[1].astype(int)\n",
    "dt_te['strand'] = dt_te['key'].str.split(\":\").str[2].astype(str)\n"
   ]
  },
  {
   "cell_type": "code",
   "execution_count": 12,
   "metadata": {},
   "outputs": [],
   "source": [
    "dt_tr['pred_prob'] = dt_tr['pred_logit'].apply(lambda x : (2 ** x) / (1 + (2 ** x)))\n",
    "dt_va['pred_prob'] = dt_va['pred_logit'].apply(lambda x : (2 ** x) / (1 + (2 ** x)))\n",
    "dt_te['pred_prob'] = dt_te['pred_logit'].apply(lambda x : (2 ** x) / (1 + (2 ** x)))\n"
   ]
  },
  {
   "cell_type": "code",
   "execution_count": 13,
   "metadata": {},
   "outputs": [
    {
     "name": "stdout",
     "output_type": "stream",
     "text": [
      "<0.2       2392\n",
      "0.2-0.5     798\n",
      "0.5-0.8     584\n",
      ">0.8        375\n",
      "Name: usage_bins, dtype: int64\n"
     ]
    }
   ],
   "source": [
    "dt_tr['usage_bins'] = pd.cut(dt_tr['raw_den_score'], bins=[0,0.2,0.5,0.8,1.0], labels = ['<0.2','0.2-0.5','0.5-0.8','>0.8'], right = False)\n",
    "dt_va['usage_bins'] = pd.cut(dt_va['raw_den_score'], bins=[0,0.2,0.5,0.8,1.0], labels = ['<0.2','0.2-0.5','0.5-0.8','>0.8'], right = False)\n",
    "dt_te['usage_bins'] = pd.cut(dt_te['raw_den_score'], bins=[0,0.2,0.5,0.8,1.0], labels = ['<0.2','0.2-0.5','0.5-0.8','>0.8'], right = False)\n",
    "\n",
    "print(dt_te['usage_bins'].value_counts())\n"
   ]
  },
  {
   "cell_type": "markdown",
   "metadata": {},
   "source": [
    "## Discriminating strong from weak sites"
   ]
  },
  {
   "cell_type": "markdown",
   "metadata": {},
   "source": [
    "### Generate pairs of sites"
   ]
  },
  {
   "cell_type": "code",
   "execution_count": 14,
   "metadata": {
    "scrolled": false
   },
   "outputs": [
    {
     "name": "stdout",
     "output_type": "stream",
     "text": [
      "\n",
      "\n",
      "## SPLIT Train\n",
      "\n",
      "Iteration 0\n"
     ]
    },
    {
     "name": "stderr",
     "output_type": "stream",
     "text": [
      "100%|██████████| 3362/3362 [00:17<00:00, 193.87it/s]\n"
     ]
    },
    {
     "name": "stdout",
     "output_type": "stream",
     "text": [
      "Pair generation complete: sites=4894, genes=2447\n",
      "Skip counters: {'minimum_read_difference': 874, 'minimum_distance': 0, 'iteration_limit': 41}\n",
      "\n",
      "Iteration 1\n"
     ]
    },
    {
     "name": "stderr",
     "output_type": "stream",
     "text": [
      "100%|██████████| 3362/3362 [00:17<00:00, 197.49it/s]\n"
     ]
    },
    {
     "name": "stdout",
     "output_type": "stream",
     "text": [
      "Pair generation complete: sites=4968, genes=2484\n",
      "Skip counters: {'minimum_read_difference': 874, 'minimum_distance': 0, 'iteration_limit': 4}\n",
      "\n",
      "Iteration 2\n"
     ]
    },
    {
     "name": "stderr",
     "output_type": "stream",
     "text": [
      "100%|██████████| 3362/3362 [00:17<00:00, 192.47it/s]\n"
     ]
    },
    {
     "name": "stdout",
     "output_type": "stream",
     "text": [
      "Pair generation complete: sites=4962, genes=2481\n",
      "Skip counters: {'minimum_read_difference': 874, 'minimum_distance': 0, 'iteration_limit': 7}\n",
      "\n",
      "Iteration 3\n"
     ]
    },
    {
     "name": "stderr",
     "output_type": "stream",
     "text": [
      "100%|██████████| 3362/3362 [00:17<00:00, 192.22it/s]\n"
     ]
    },
    {
     "name": "stdout",
     "output_type": "stream",
     "text": [
      "Pair generation complete: sites=4970, genes=2485\n",
      "Skip counters: {'minimum_read_difference': 874, 'minimum_distance': 0, 'iteration_limit': 3}\n",
      "\n",
      "Iteration 4\n"
     ]
    },
    {
     "name": "stderr",
     "output_type": "stream",
     "text": [
      "100%|██████████| 3362/3362 [00:17<00:00, 188.94it/s]\n"
     ]
    },
    {
     "name": "stdout",
     "output_type": "stream",
     "text": [
      "Pair generation complete: sites=4924, genes=2462\n",
      "Skip counters: {'minimum_read_difference': 874, 'minimum_distance': 0, 'iteration_limit': 26}\n",
      "\n",
      "Iteration 5\n"
     ]
    },
    {
     "name": "stderr",
     "output_type": "stream",
     "text": [
      "100%|██████████| 3362/3362 [00:19<00:00, 171.54it/s]\n"
     ]
    },
    {
     "name": "stdout",
     "output_type": "stream",
     "text": [
      "Pair generation complete: sites=4784, genes=2392\n",
      "Skip counters: {'minimum_read_difference': 874, 'minimum_distance': 0, 'iteration_limit': 96}\n",
      "\n",
      "Iteration 6\n"
     ]
    },
    {
     "name": "stderr",
     "output_type": "stream",
     "text": [
      "100%|██████████| 3362/3362 [00:17<00:00, 192.20it/s]\n"
     ]
    },
    {
     "name": "stdout",
     "output_type": "stream",
     "text": [
      "Pair generation complete: sites=4918, genes=2459\n",
      "Skip counters: {'minimum_read_difference': 874, 'minimum_distance': 0, 'iteration_limit': 29}\n",
      "\n",
      "Iteration 7\n"
     ]
    },
    {
     "name": "stderr",
     "output_type": "stream",
     "text": [
      "100%|██████████| 3362/3362 [00:17<00:00, 191.24it/s]\n"
     ]
    },
    {
     "name": "stdout",
     "output_type": "stream",
     "text": [
      "Pair generation complete: sites=4946, genes=2473\n",
      "Skip counters: {'minimum_read_difference': 874, 'minimum_distance': 0, 'iteration_limit': 15}\n",
      "\n",
      "Iteration 8\n"
     ]
    },
    {
     "name": "stderr",
     "output_type": "stream",
     "text": [
      "100%|██████████| 3362/3362 [00:16<00:00, 200.00it/s]\n"
     ]
    },
    {
     "name": "stdout",
     "output_type": "stream",
     "text": [
      "Pair generation complete: sites=4960, genes=2480\n",
      "Skip counters: {'minimum_read_difference': 874, 'minimum_distance': 0, 'iteration_limit': 8}\n",
      "\n",
      "Iteration 9\n"
     ]
    },
    {
     "name": "stderr",
     "output_type": "stream",
     "text": [
      "100%|██████████| 3362/3362 [00:17<00:00, 189.88it/s]\n"
     ]
    },
    {
     "name": "stdout",
     "output_type": "stream",
     "text": [
      "Pair generation complete: sites=4966, genes=2483\n",
      "Skip counters: {'minimum_read_difference': 874, 'minimum_distance': 0, 'iteration_limit': 5}\n",
      "\n",
      "\n",
      "## SPLIT Validation\n",
      "\n",
      "Iteration 0\n"
     ]
    },
    {
     "name": "stderr",
     "output_type": "stream",
     "text": [
      "100%|██████████| 470/470 [00:02<00:00, 228.91it/s]\n"
     ]
    },
    {
     "name": "stdout",
     "output_type": "stream",
     "text": [
      "Pair generation complete: sites=656, genes=328\n",
      "Skip counters: {'minimum_read_difference': 136, 'minimum_distance': 0, 'iteration_limit': 6}\n",
      "\n",
      "Iteration 1\n"
     ]
    },
    {
     "name": "stderr",
     "output_type": "stream",
     "text": [
      "100%|██████████| 470/470 [00:01<00:00, 238.31it/s]\n"
     ]
    },
    {
     "name": "stdout",
     "output_type": "stream",
     "text": [
      "Pair generation complete: sites=668, genes=334\n",
      "Skip counters: {'minimum_read_difference': 136, 'minimum_distance': 0, 'iteration_limit': 0}\n",
      "\n",
      "Iteration 2\n"
     ]
    },
    {
     "name": "stderr",
     "output_type": "stream",
     "text": [
      "100%|██████████| 470/470 [00:02<00:00, 227.85it/s]\n"
     ]
    },
    {
     "name": "stdout",
     "output_type": "stream",
     "text": [
      "Pair generation complete: sites=666, genes=333\n",
      "Skip counters: {'minimum_read_difference': 136, 'minimum_distance': 0, 'iteration_limit': 1}\n",
      "\n",
      "Iteration 3\n"
     ]
    },
    {
     "name": "stderr",
     "output_type": "stream",
     "text": [
      "100%|██████████| 470/470 [00:02<00:00, 232.63it/s]\n"
     ]
    },
    {
     "name": "stdout",
     "output_type": "stream",
     "text": [
      "Pair generation complete: sites=668, genes=334\n",
      "Skip counters: {'minimum_read_difference': 136, 'minimum_distance': 0, 'iteration_limit': 0}\n",
      "\n",
      "Iteration 4\n"
     ]
    },
    {
     "name": "stderr",
     "output_type": "stream",
     "text": [
      "100%|██████████| 470/470 [00:02<00:00, 220.20it/s]\n"
     ]
    },
    {
     "name": "stdout",
     "output_type": "stream",
     "text": [
      "Pair generation complete: sites=660, genes=330\n",
      "Skip counters: {'minimum_read_difference': 136, 'minimum_distance': 0, 'iteration_limit': 4}\n",
      "\n",
      "Iteration 5\n"
     ]
    },
    {
     "name": "stderr",
     "output_type": "stream",
     "text": [
      "100%|██████████| 470/470 [00:02<00:00, 206.28it/s]\n"
     ]
    },
    {
     "name": "stdout",
     "output_type": "stream",
     "text": [
      "Pair generation complete: sites=638, genes=319\n",
      "Skip counters: {'minimum_read_difference': 136, 'minimum_distance': 0, 'iteration_limit': 15}\n",
      "\n",
      "Iteration 6\n"
     ]
    },
    {
     "name": "stderr",
     "output_type": "stream",
     "text": [
      "100%|██████████| 470/470 [00:02<00:00, 219.58it/s]\n"
     ]
    },
    {
     "name": "stdout",
     "output_type": "stream",
     "text": [
      "Pair generation complete: sites=656, genes=328\n",
      "Skip counters: {'minimum_read_difference': 136, 'minimum_distance': 0, 'iteration_limit': 6}\n",
      "\n",
      "Iteration 7\n"
     ]
    },
    {
     "name": "stderr",
     "output_type": "stream",
     "text": [
      "100%|██████████| 470/470 [00:02<00:00, 227.50it/s]\n"
     ]
    },
    {
     "name": "stdout",
     "output_type": "stream",
     "text": [
      "Pair generation complete: sites=664, genes=332\n",
      "Skip counters: {'minimum_read_difference': 136, 'minimum_distance': 0, 'iteration_limit': 2}\n",
      "\n",
      "Iteration 8\n"
     ]
    },
    {
     "name": "stderr",
     "output_type": "stream",
     "text": [
      "100%|██████████| 470/470 [00:01<00:00, 242.86it/s]\n"
     ]
    },
    {
     "name": "stdout",
     "output_type": "stream",
     "text": [
      "Pair generation complete: sites=668, genes=334\n",
      "Skip counters: {'minimum_read_difference': 136, 'minimum_distance': 0, 'iteration_limit': 0}\n",
      "\n",
      "Iteration 9\n"
     ]
    },
    {
     "name": "stderr",
     "output_type": "stream",
     "text": [
      "100%|██████████| 470/470 [00:02<00:00, 218.71it/s]\n"
     ]
    },
    {
     "name": "stdout",
     "output_type": "stream",
     "text": [
      "Pair generation complete: sites=668, genes=334\n",
      "Skip counters: {'minimum_read_difference': 136, 'minimum_distance': 0, 'iteration_limit': 0}\n",
      "\n",
      "\n",
      "## SPLIT Test\n",
      "\n",
      "Iteration 0\n"
     ]
    },
    {
     "name": "stderr",
     "output_type": "stream",
     "text": [
      "100%|██████████| 959/959 [00:04<00:00, 212.37it/s]\n"
     ]
    },
    {
     "name": "stdout",
     "output_type": "stream",
     "text": [
      "Pair generation complete: sites=1420, genes=710\n",
      "Skip counters: {'minimum_read_difference': 236, 'minimum_distance': 0, 'iteration_limit': 13}\n",
      "\n",
      "Iteration 1\n"
     ]
    },
    {
     "name": "stderr",
     "output_type": "stream",
     "text": [
      "100%|██████████| 959/959 [00:04<00:00, 227.07it/s]\n"
     ]
    },
    {
     "name": "stdout",
     "output_type": "stream",
     "text": [
      "Pair generation complete: sites=1444, genes=722\n",
      "Skip counters: {'minimum_read_difference': 236, 'minimum_distance': 0, 'iteration_limit': 1}\n",
      "\n",
      "Iteration 2\n"
     ]
    },
    {
     "name": "stderr",
     "output_type": "stream",
     "text": [
      "100%|██████████| 959/959 [00:04<00:00, 211.03it/s]\n"
     ]
    },
    {
     "name": "stdout",
     "output_type": "stream",
     "text": [
      "Pair generation complete: sites=1444, genes=722\n",
      "Skip counters: {'minimum_read_difference': 236, 'minimum_distance': 0, 'iteration_limit': 1}\n",
      "\n",
      "Iteration 3\n"
     ]
    },
    {
     "name": "stderr",
     "output_type": "stream",
     "text": [
      "100%|██████████| 959/959 [00:04<00:00, 214.52it/s]\n"
     ]
    },
    {
     "name": "stdout",
     "output_type": "stream",
     "text": [
      "Pair generation complete: sites=1446, genes=723\n",
      "Skip counters: {'minimum_read_difference': 236, 'minimum_distance': 0, 'iteration_limit': 0}\n",
      "\n",
      "Iteration 4\n"
     ]
    },
    {
     "name": "stderr",
     "output_type": "stream",
     "text": [
      "100%|██████████| 959/959 [00:04<00:00, 205.70it/s]\n"
     ]
    },
    {
     "name": "stdout",
     "output_type": "stream",
     "text": [
      "Pair generation complete: sites=1432, genes=716\n",
      "Skip counters: {'minimum_read_difference': 236, 'minimum_distance': 0, 'iteration_limit': 7}\n",
      "\n",
      "Iteration 5\n"
     ]
    },
    {
     "name": "stderr",
     "output_type": "stream",
     "text": [
      "100%|██████████| 959/959 [00:05<00:00, 187.21it/s]\n"
     ]
    },
    {
     "name": "stdout",
     "output_type": "stream",
     "text": [
      "Pair generation complete: sites=1386, genes=693\n",
      "Skip counters: {'minimum_read_difference': 236, 'minimum_distance': 0, 'iteration_limit': 30}\n",
      "\n",
      "Iteration 6\n"
     ]
    },
    {
     "name": "stderr",
     "output_type": "stream",
     "text": [
      "100%|██████████| 959/959 [00:04<00:00, 214.61it/s]\n"
     ]
    },
    {
     "name": "stdout",
     "output_type": "stream",
     "text": [
      "Pair generation complete: sites=1430, genes=715\n",
      "Skip counters: {'minimum_read_difference': 236, 'minimum_distance': 0, 'iteration_limit': 8}\n",
      "\n",
      "Iteration 7\n"
     ]
    },
    {
     "name": "stderr",
     "output_type": "stream",
     "text": [
      "100%|██████████| 959/959 [00:04<00:00, 217.07it/s]\n"
     ]
    },
    {
     "name": "stdout",
     "output_type": "stream",
     "text": [
      "Pair generation complete: sites=1442, genes=721\n",
      "Skip counters: {'minimum_read_difference': 236, 'minimum_distance': 0, 'iteration_limit': 2}\n",
      "\n",
      "Iteration 8\n"
     ]
    },
    {
     "name": "stderr",
     "output_type": "stream",
     "text": [
      "100%|██████████| 959/959 [00:04<00:00, 224.19it/s]\n"
     ]
    },
    {
     "name": "stdout",
     "output_type": "stream",
     "text": [
      "Pair generation complete: sites=1444, genes=722\n",
      "Skip counters: {'minimum_read_difference': 236, 'minimum_distance': 0, 'iteration_limit': 1}\n",
      "\n",
      "Iteration 9\n"
     ]
    },
    {
     "name": "stderr",
     "output_type": "stream",
     "text": [
      "100%|██████████| 959/959 [00:04<00:00, 202.26it/s]\n"
     ]
    },
    {
     "name": "stdout",
     "output_type": "stream",
     "text": [
      "Pair generation complete: sites=1444, genes=722\n",
      "Skip counters: {'minimum_read_difference': 236, 'minimum_distance': 0, 'iteration_limit': 1}\n"
     ]
    }
   ],
   "source": [
    "aucs = {\n",
    "    'split'     : [],\n",
    "    'iteration' : [],\n",
    "    'auroc'     : [],\n",
    "    'auprc'     : [],\n",
    "}\n",
    "\n",
    "for split,sdata in zip(['Train','Validation','Test'], [dt_tr, dt_va, dt_te]):\n",
    "    print(f\"\\n\\n## SPLIT {split}\")\n",
    "\n",
    "    for i in range(10):\n",
    "        print(f\"\\nIteration {i}\")\n",
    "\n",
    "        pairs, _ = create_pairs(sdata, 'cluster', 'mixed', log2fold = 3, distance = 0, max_iter = 10, random_seed = int(12345*i))\n",
    "        auroc, auprc = calculate_pairs_auc(pairs)\n",
    "        \n",
    "        aucs['split'].append(split)\n",
    "        aucs['iteration'].append(i)\n",
    "        aucs['auroc'].append(auroc)\n",
    "        aucs['auprc'].append(auprc)\n",
    "\n",
    "aucs = pd.DataFrame.from_dict(aucs, orient = 'columns')\n"
   ]
  },
  {
   "cell_type": "markdown",
   "metadata": {},
   "source": [
    "### Performance by training split"
   ]
  },
  {
   "cell_type": "code",
   "execution_count": 15,
   "metadata": {},
   "outputs": [
    {
     "name": "stdout",
     "output_type": "stream",
     "text": [
      "               auroc               auprc          \n",
      "                mean       std      mean       std\n",
      "split                                             \n",
      "Train       0.986651  0.000834  0.986891  0.000851\n",
      "Validation  0.964015  0.003781  0.963310  0.004527\n",
      "Test        0.941635  0.001629  0.942219  0.002315\n"
     ]
    }
   ],
   "source": [
    "aucs_summary = aucs.groupby('split').agg({'auroc' : ['mean','std'], 'auprc' : ['mean','std']}).loc[['Train','Validation','Test']]\n",
    "print(aucs_summary)\n"
   ]
  },
  {
   "cell_type": "code",
   "execution_count": 16,
   "metadata": {},
   "outputs": [
    {
     "data": {
      "image/png": "[encoded data removed]",
      "text/plain": [
       "<Figure size 36x72 with 1 Axes>"
      ]
     },
     "metadata": {
      "needs_background": "light"
     },
     "output_type": "display_data"
    }
   ],
   "source": [
    "fig,ax = plt.subplots(1,1, figsize = (0.5,1))\n",
    "\n",
    "ax.bar(aucs_summary.index, aucs_summary['auroc']['mean'], **barplot_format)\n",
    "ax.errorbar(x = aucs_summary.index, y = aucs_summary['auroc']['mean'], \n",
    "            yerr = aucs_summary['auroc']['std'], fmt = 'none',\n",
    "            ecolor = 'black', elinewidth=5, barsabove = True, \n",
    "           )\n",
    "\n",
    "ax.set_xlabel('Split')\n",
    "ax.set_xticks(aucs_summary.index)\n",
    "ax.set_xticklabels(aucs_summary.index, rotation = 45, ha = 'right', va = 'top')\n",
    "\n",
    "ax.set_ylabel('AUROC')\n",
    "ax.set_ylim(0.5,1.02)\n",
    "\n",
    "ax.spines['right'].set_visible(False)\n",
    "ax.spines['top'].set_visible(False)\n",
    "\n",
    "plt.savefig(os.path.join(OUTDIR, 'performance_by_split.auroc.svg'), format = 'svg', dpi = 600)\n",
    "plt.show()\n"
   ]
  },
  {
   "cell_type": "code",
   "execution_count": 17,
   "metadata": {},
   "outputs": [
    {
     "data": {
      "image/png": "[encoded data removed]",
      "text/plain": [
       "<Figure size 36x72 with 1 Axes>"
      ]
     },
     "metadata": {
      "needs_background": "light"
     },
     "output_type": "display_data"
    }
   ],
   "source": [
    "fig,ax = plt.subplots(1,1, figsize = (0.5,1))\n",
    "\n",
    "ax.bar(aucs_summary.index, aucs_summary['auprc']['mean'], **barplot_format)\n",
    "ax.errorbar(x = aucs_summary.index, y = aucs_summary['auprc']['mean'], \n",
    "            yerr = aucs_summary['auprc']['std'], fmt = 'none',\n",
    "            ecolor = 'black', elinewidth=5, barsabove = True, \n",
    "           )\n",
    "\n",
    "ax.set_xlabel('Split')\n",
    "ax.set_xticks(aucs_summary.index)\n",
    "ax.set_xticklabels(aucs_summary.index, rotation = 45, ha = 'right', va = 'top')\n",
    "\n",
    "ax.set_ylabel('AUPRC')\n",
    "ax.set_ylim(0.5,1.02)\n",
    "\n",
    "ax.spines['right'].set_visible(False)\n",
    "ax.spines['top'].set_visible(False)\n",
    "\n",
    "plt.savefig(os.path.join(OUTDIR, 'performance_by_split.auprc.svg'), format = 'svg', dpi = 600)\n",
    "plt.show()\n"
   ]
  },
  {
   "cell_type": "markdown",
   "metadata": {},
   "source": [
    "### Correlation between site usage and strength predictions"
   ]
  },
  {
   "cell_type": "code",
   "execution_count": 21,
   "metadata": {},
   "outputs": [
    {
     "data": {
      "image/png": "[encoded data removed]",
      "text/plain": [
       "<Figure size 72x108 with 1 Axes>"
      ]
     },
     "metadata": {
      "needs_background": "light"
     },
     "output_type": "display_data"
    }
   ],
   "source": [
    "fig,ax = plt.subplots(1,1, figsize = (1,1.5))\n",
    "\n",
    "sns.boxplot(data = dt_te, x = 'usage_bins', y = 'pred_logit', \n",
    "            color = 'lightgray', **boxplot_format, ax = ax)\n",
    "\n",
    "ks_stat, ks_pval = st.kruskal(dt_te.loc[dt_te['usage_bins'] == '<0.2',    'pred_logit'], \n",
    "                              dt_te.loc[dt_te['usage_bins'] == '0.2-0.5', 'pred_logit'],\n",
    "                              dt_te.loc[dt_te['usage_bins'] == '0.5-0.8', 'pred_logit'],\n",
    "                              dt_te.loc[dt_te['usage_bins'] == '>0.8',    'pred_logit'])\n",
    "\n",
    "wr_stat, wr_pval = st.ranksums(dt_te.loc[dt_te['usage_bins'] == '<0.2',    'pred_logit'], \n",
    "                               dt_te.loc[dt_te['usage_bins'] == '>0.8',    'pred_logit'])\n",
    "\n",
    "ax.text(0.5, 1.1, f'Kruskal P = {ks_pval:.02E}\\nWilcoxon P = {wr_pval:.02E}', ha = 'center', va = 'bottom', transform = ax.transAxes)\n",
    "\n",
    "ax.set_xlabel(\"Site usage\")\n",
    "ax.set_ylabel(\"PolyaStrength score\")\n",
    "\n",
    "ax.set_ylim(-6,4)\n",
    "ax.yaxis.set_major_locator(MultipleLocator(2))\n",
    "\n",
    "ax.spines['right'].set_visible(False)\n",
    "ax.spines['top'].set_visible(False)\n",
    "\n",
    "plt.savefig(os.path.join(OUTDIR, 'predicted_strength_by_usage.boxplot.svg'), format = 'svg', dpi = 600, transparent = True)\n",
    "plt.show()\n"
   ]
  }
 ],
 "metadata": {
  "kernelspec": {
   "display_name": "Python (tf-train)",
   "language": "python",
   "name": "tf-train"
  },
  "language_info": {
   "codemirror_mode": {
    "name": "ipython",
    "version": 3
   },
   "file_extension": ".py",
   "mimetype": "text/x-python",
   "name": "python",
   "nbconvert_exporter": "python",
   "pygments_lexer": "ipython3",
   "version": "3.6.12"
  }
 },
 "nbformat": 4,
 "nbformat_minor": 2
}
