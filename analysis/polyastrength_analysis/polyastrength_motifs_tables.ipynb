{
 "cells": [
  {
   "cell_type": "markdown",
   "metadata": {},
   "source": [
    "# Filtering motifs important for PolyaStrength scores\n",
    "\n",
    "**Purpose:** To create a table summarizing the motif importance scores of significant motifs.\n"
   ]
  },
  {
   "cell_type": "code",
   "execution_count": 1,
   "metadata": {},
   "outputs": [],
   "source": [
    "%load_ext autoreload"
   ]
  },
  {
   "cell_type": "code",
   "execution_count": 2,
   "metadata": {},
   "outputs": [],
   "source": [
    "%autoreload 2"
   ]
  },
  {
   "cell_type": "code",
   "execution_count": 3,
   "metadata": {},
   "outputs": [],
   "source": [
    "%run -i notebook_setup.py"
   ]
  },
  {
   "cell_type": "code",
   "execution_count": 4,
   "metadata": {},
   "outputs": [],
   "source": [
    "from paper_utilities import motifs\n",
    "from functools import reduce"
   ]
  },
  {
   "cell_type": "code",
   "execution_count": 5,
   "metadata": {},
   "outputs": [],
   "source": [
    "PROJECT = \"/projects/b1080/eks/polyadenylation/yeast\"\n",
    "OUTDIR  = os.path.join(PROJECT, 'manuscript', 'analysis', 'resources')\n",
    "os.makedirs(OUTDIR, exist_ok = True)\n"
   ]
  },
  {
   "cell_type": "markdown",
   "metadata": {},
   "source": [
    "# Processing motif disruption results"
   ]
  },
  {
   "cell_type": "markdown",
   "metadata": {},
   "source": [
    "## Model Configurations"
   ]
  },
  {
   "cell_type": "code",
   "execution_count": 6,
   "metadata": {},
   "outputs": [],
   "source": [
    "with open(os.path.join(OUTDIR, 'polyastrength_configurations.pickle'), mode = 'rb') as handle:\n",
    "    configurations = pickle.load(handle)\n"
   ]
  },
  {
   "cell_type": "markdown",
   "metadata": {},
   "source": [
    "## Motif family definitions by species"
   ]
  },
  {
   "cell_type": "code",
   "execution_count": 7,
   "metadata": {},
   "outputs": [],
   "source": [
    "## Load motif family definitions for S. cerevisiae\n",
    "\n",
    "scer_definitions = {'patterns' : {}, 'distance' : {}}\n",
    "\n",
    "# By pattern - we only look at pattern families for 6mers\n",
    "with open(os.path.join(OUTDIR, f'motif_definitions.scer.6mers.patterns.pickle'), mode = 'rb') as handle:\n",
    "    scer_definitions['patterns'][6] = pickle.load(handle)\n",
    "    \n",
    "scer_definitions['patterns'][5] = {'family':{}}\n",
    "scer_definitions['patterns'][4] = {'family':{}}\n",
    "\n",
    "# By Hamming distance\n",
    "for kmer in [4,5,6]:\n",
    "    with open(os.path.join(OUTDIR, f'motif_definitions.scer.{kmer}mers.distance.pickle'), mode = 'rb') as handle:\n",
    "        scer_definitions['distance'][kmer] = pickle.load(handle)\n"
   ]
  },
  {
   "cell_type": "code",
   "execution_count": 8,
   "metadata": {},
   "outputs": [],
   "source": [
    "## Load motif family definitions for S. pombe\n",
    "\n",
    "spom_definitions = {'distance' : {}}\n",
    "\n",
    "# By Hamming distance\n",
    "for kmer in [4,5,6]:\n",
    "    with open(os.path.join(OUTDIR, f'motif_definitions.spom.{kmer}mers.distance.pickle'), mode = 'rb') as handle:\n",
    "        spom_definitions['distance'][kmer] = pickle.load(handle)\n"
   ]
  },
  {
   "cell_type": "code",
   "execution_count": 9,
   "metadata": {},
   "outputs": [],
   "source": [
    "## Load motif family definitions for A. thaliana\n",
    "\n",
    "atha_definitions = {'patterns' : {}}\n",
    "\n",
    "# By Hamming distance\n",
    "for kmer in [4,5,6]:\n",
    "    with open(os.path.join(OUTDIR, f'motif_definitions.atha.{kmer}mers.patterns.pickle'), mode = 'rb') as handle:\n",
    "        atha_definitions['patterns'][kmer] = pickle.load(handle)\n"
   ]
  },
  {
   "cell_type": "markdown",
   "metadata": {},
   "source": [
    "## Processed motif importance profiles"
   ]
  },
  {
   "cell_type": "code",
   "execution_count": 10,
   "metadata": {},
   "outputs": [],
   "source": [
    "with open(os.path.join(OUTDIR, \"polyastrength_motifs.summaries.pickle\"), mode = 'rb') as handle:\n",
    "    motif_summaries = pickle.load(handle)\n"
   ]
  },
  {
   "cell_type": "code",
   "execution_count": 11,
   "metadata": {},
   "outputs": [],
   "source": [
    "with open(os.path.join(OUTDIR, \"polyastrength_motifs.hmdfs.sum.pickle\"), mode = 'rb') as handle:\n",
    "    hmdfs_sum = pickle.load(handle)\n",
    "    "
   ]
  },
  {
   "cell_type": "code",
   "execution_count": 12,
   "metadata": {},
   "outputs": [],
   "source": [
    "with open(os.path.join(OUTDIR, \"polyastrength_motifs.significant_motifs.pickle\"), mode = 'rb') as handle:\n",
    "    significant_motifs = pickle.load(handle)\n",
    "    "
   ]
  },
  {
   "cell_type": "markdown",
   "metadata": {},
   "source": [
    "## Compile summary table of importance scores for individual motifs"
   ]
  },
  {
   "cell_type": "code",
   "execution_count": 13,
   "metadata": {},
   "outputs": [
    {
     "name": "stdout",
     "output_type": "stream",
     "text": [
      "\n",
      "saccharomyces_cerevisiae: config=polyastrength_kmers-6, kmer=6, golden_sites=9725, sig_motifs=246\n",
      "Region (-120, -26) : (246, 5)\n"
     ]
    },
    {
     "name": "stderr",
     "output_type": "stream",
     "text": [
      "/home/esk863/.conda/envs/tf-train/lib/python3.6/site-packages/statsmodels/stats/weightstats.py:228: RuntimeWarning: invalid value encountered in double_scalars\n",
      "  return std / np.sqrt(self.sum_weights - 1)\n",
      "/home/esk863/.conda/envs/tf-train/lib/python3.6/site-packages/statsmodels/stats/weightstats.py:135: RuntimeWarning: invalid value encountered in double_scalars\n",
      "  return self.sum / self.sum_weights\n",
      "/home/esk863/.conda/envs/tf-train/lib/python3.6/site-packages/statsmodels/stats/weightstats.py:182: RuntimeWarning: invalid value encountered in double_scalars\n",
      "  return self.sumsquares / (self.sum_weights - self.ddof)\n",
      "/home/esk863/.conda/envs/tf-train/lib/python3.6/site-packages/statsmodels/stats/weightstats.py:228: RuntimeWarning: invalid value encountered in sqrt\n",
      "  return std / np.sqrt(self.sum_weights - 1)\n"
     ]
    },
    {
     "name": "stdout",
     "output_type": "stream",
     "text": [
      "Region (-25, -16)  : (246, 5)\n",
      "Region (-15, -6)   : (246, 5)\n",
      "Region (-5, 1)     : (246, 5)\n",
      "Region (2, 15)     : (246, 5)\n",
      "\n",
      "Merged  : (246, 17)\n",
      "Compiled: (246, 518)\n"
     ]
    }
   ],
   "source": [
    "for i,(s,sd) in enumerate(configurations.items()):\n",
    "    for (c,cd) in sd.items():\n",
    "        \n",
    "        ## Specify model input details\n",
    "        \n",
    "        k      = float(c.split(\"-\")[-1])\n",
    "        mt     = cd['modeltype']\n",
    "        ntotal = cd['golden_lines']\n",
    "\n",
    "        mot_dis_dir = os.path.join(PROJECT, s, 'analysis', 'motif_analysis', 'motif_disruption', c)\n",
    "\n",
    "        sigmots = sorted(significant_motifs[s][mt][c])\n",
    "        \n",
    "        print(f\"\\n{s}: config={c}, kmer={int(k)}, golden_sites={ntotal}, sig_motifs={len(sigmots)}\")\n",
    "            \n",
    "        ## Fetch species-specific motif family definitions\n",
    "        \n",
    "        msum = motif_summaries.loc[(motif_summaries['species'] == s) & (motif_summaries['kmer'] == k)]\n",
    "\n",
    "        if (s in ['saccharomyces_cerevisiae','schizosaccharomyces_pombe']):\n",
    "            mfams = dict(zip(msum['testMotif'], msum['hammingFamily']))\n",
    "        elif (s == 'arabidopsis_thaliana'):\n",
    "            mfams = dict(zip(msum['testMotif'], msum['overallFamily']))\n",
    "\n",
    "        ## Compile motif importance by species and model in different regions\n",
    "\n",
    "        mdata_reg = []\n",
    "\n",
    "        if (s == 'saccharomyces_cerevisiae'):\n",
    "            mregs = [(-120,-26),(-25,-16),(-15,-6),(-5,1),(2,15)]\n",
    "        elif (s == 'schizosaccharomyces_pombe'):\n",
    "            mregs = [(-80,-31),(-30,-16),(-15,-6),(-5,1),(2,14),(15,60)]\n",
    "        elif (s == 'arabidopsis_thaliana'):\n",
    "            mregs = [(-150,-31),(-30,-16),(-15,-6),(-5,1),(2,15)]\n",
    "\n",
    "        for mreg in mregs:\n",
    "            mreg_dt = motifs.region_data(OUTDIR, mot_dis_dir, sigmots, mreg, datatype = \"summary_ind\", xvariable = \"position\", yvariable = \"differenceStrength\", measure = \"mean\", measure_error = 95, mdict = mfams)\n",
    "            mreg_dt = mreg_dt[['motif','family','score','conf_hi','conf_lo']].rename(columns = {'score' : f'score_{mreg[0]}_{mreg[1]}', 'conf_lo' : f'conf_lo_{mreg[0]}_{mreg[1]}', 'conf_hi' : f'conf_hi_{mreg[0]}_{mreg[1]}'}).copy()\n",
    "            print(f\"Region {str(mreg):12}: {mreg_dt.shape}\")\n",
    "            mdata_reg.append(mreg_dt)\n",
    "\n",
    "        mdata_reg = reduce(lambda x, y: pd.merge(x, y, on = ['motif','family']), mdata_reg)\n",
    "        print(f\"\\nMerged  : {mdata_reg.shape}\")\n",
    "\n",
    "        ## Sum importance profiles\n",
    "\n",
    "        hmdf_sum_plot = hmdfs_sum[s][mt][c][list(range(-250,251))]\n",
    "        mdata = mdata_reg.merge(hmdf_sum_plot.loc[sigmots].reset_index().rename(columns = {'testMotif':'motif'}), on = 'motif')\n",
    "        print(f\"Compiled: {mdata.shape}\")\n",
    "\n",
    "        mdata.fillna(0).sort_values('motif').to_csv(os.path.join(OUTDIR, f'motif_importance_table.{s}.{mt}.{c}.txt'), sep = \"\\t\", index = False)\n"
   ]
  }
 ],
 "metadata": {
  "kernelspec": {
   "display_name": "Python (tf-train)",
   "language": "python",
   "name": "tf-train"
  },
  "language_info": {
   "codemirror_mode": {
    "name": "ipython",
    "version": 3
   },
   "file_extension": ".py",
   "mimetype": "text/x-python",
   "name": "python",
   "nbconvert_exporter": "python",
   "pygments_lexer": "ipython3",
   "version": "3.6.12"
  }
 },
 "nbformat": 4,
 "nbformat_minor": 2
}
