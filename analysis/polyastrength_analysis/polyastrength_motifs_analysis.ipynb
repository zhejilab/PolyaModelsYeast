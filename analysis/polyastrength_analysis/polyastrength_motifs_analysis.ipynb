{
 "cells": [
  {
   "cell_type": "markdown",
   "metadata": {},
   "source": [
    "# Motifs important to PolyaStrength\n",
    "\n",
    "**Purpose**: To identify motifs important to site strength through a systematic mutation approach.\n"
   ]
  },
  {
   "cell_type": "code",
   "execution_count": 1,
   "metadata": {},
   "outputs": [],
   "source": [
    "%load_ext autoreload"
   ]
  },
  {
   "cell_type": "code",
   "execution_count": 2,
   "metadata": {},
   "outputs": [],
   "source": [
    "%autoreload 2"
   ]
  },
  {
   "cell_type": "code",
   "execution_count": 3,
   "metadata": {},
   "outputs": [],
   "source": [
    "%run -i notebook_setup.py"
   ]
  },
  {
   "cell_type": "markdown",
   "metadata": {},
   "source": [
    "## IMPORTS AND SETUP"
   ]
  },
  {
   "cell_type": "code",
   "execution_count": 4,
   "metadata": {},
   "outputs": [],
   "source": [
    "from paper_utilities import motifs\n",
    "from matplotlib_venn import venn2\n"
   ]
  },
  {
   "cell_type": "code",
   "execution_count": 5,
   "metadata": {},
   "outputs": [],
   "source": [
    "species   = 'saccharomyces_cerevisiae'\n",
    "modeltype = 'polyastrength'\n",
    "config    = 'polyastrength_kmers-6'\n",
    "kmer      = 6\n"
   ]
  },
  {
   "cell_type": "code",
   "execution_count": 6,
   "metadata": {},
   "outputs": [],
   "source": [
    "PROJECT   = \"/projects/b1080/eks/polyadenylation/yeast/\"\n",
    "OUTDIR    = os.path.join(PROJECT, 'manuscript', 'analysis', 'polyastrength_motif_importance')\n",
    "RESOURCES = os.path.join(os.path.dirname(OUTDIR), 'resources')\n",
    "os.makedirs(OUTDIR, exist_ok = True)\n"
   ]
  },
  {
   "cell_type": "code",
   "execution_count": 7,
   "metadata": {},
   "outputs": [
    {
     "name": "stdout",
     "output_type": "stream",
     "text": [
      "\n",
      "Number of golden sites: 9725\n",
      "\n",
      "Directory containing motif disruption results: /projects/b1080/eks/polyadenylation/yeast/saccharomyces_cerevisiae/analysis/motif_analysis/motif_disruption/polyastrength_kmers-6\n"
     ]
    }
   ],
   "source": [
    "## Load model configuration information\n",
    "\n",
    "with open(os.path.join(RESOURCES, 'polyastrength_configurations.pickle'), mode = 'rb') as handle:\n",
    "    configurations = pickle.load(handle)\n",
    "\n",
    "gold_sites = configurations[species][config]['golden_lines']\n",
    "print(\"\\nNumber of golden sites:\", gold_sites)\n",
    "\n",
    "mot_dis_dir = os.path.join(PROJECT, species, 'analysis', 'motif_analysis', 'motif_disruption', config)\n",
    "print(\"\\nDirectory containing motif disruption results:\", mot_dis_dir)\n"
   ]
  },
  {
   "cell_type": "code",
   "execution_count": 8,
   "metadata": {},
   "outputs": [],
   "source": [
    "## Load motif family definitions for S. cerevisiae\n",
    "\n",
    "scer_definitions = {'patterns' : {}, 'distance' : {}}\n",
    "\n",
    "# By pattern - we only look at pattern families for 6mers\n",
    "with open(os.path.join(RESOURCES, f'motif_definitions.scer.6mers.patterns.pickle'), mode = 'rb') as handle:\n",
    "    scer_definitions['patterns'][6] = pickle.load(handle)\n",
    "    \n",
    "scer_definitions['patterns'][5] = {'family':{}}\n",
    "scer_definitions['patterns'][4] = {'family':{}}\n",
    "\n",
    "# By Hamming distance\n",
    "for kmer in [4,5,6]:\n",
    "    with open(os.path.join(RESOURCES, f'motif_definitions.scer.{kmer}mers.distance.pickle'), mode = 'rb') as handle:\n",
    "        scer_definitions['distance'][kmer] = pickle.load(handle)\n"
   ]
  },
  {
   "cell_type": "code",
   "execution_count": 9,
   "metadata": {},
   "outputs": [
    {
     "name": "stdout",
     "output_type": "stream",
     "text": [
      "(4096, 28)\n",
      "PolyaClassifier significant motifs = 137\n"
     ]
    }
   ],
   "source": [
    "## Load processed PolyaClassifier information\n",
    "\n",
    "# Motif family importance profiles\n",
    "\n",
    "with open(os.path.join(RESOURCES, 'polyaclassifier_motifs.summaries.pickle'), mode = 'rb') as handle:\n",
    "    class_summaries = pickle.load(handle)\n",
    "    \n",
    "cond1 = (class_summaries['species'] == species)\n",
    "cond2 = (class_summaries['modeltype'] == 'polyaclassifier')\n",
    "cond3 = (class_summaries['kmer'] == kmer)\n",
    "    \n",
    "class_summaries = class_summaries.loc[cond1 & cond2 & cond3].copy()\n",
    "print(class_summaries.shape)\n",
    "\n",
    "# Significant motifs\n",
    "\n",
    "with open(os.path.join(RESOURCES, 'polyaclassifier_motifs.significant_motifs.pickle'), mode = 'rb') as handle:\n",
    "    significant_motifs = pickle.load(handle)\n",
    "\n",
    "class_sigmots = significant_motifs[species]['polyaclassifier']['polyaclassifier_bagging3_kmers-6']\n",
    "print(f\"PolyaClassifier significant motifs = {len(class_sigmots)}\")\n"
   ]
  },
  {
   "cell_type": "code",
   "execution_count": 10,
   "metadata": {},
   "outputs": [
    {
     "name": "stdout",
     "output_type": "stream",
     "text": [
      "(4096, 28)\n",
      "PolyaStrength significant motifs = 246\n"
     ]
    }
   ],
   "source": [
    "## Load processed PolyaStrength information\n",
    "\n",
    "# Motif family importance profiles\n",
    "\n",
    "with open(os.path.join(RESOURCES, 'polyastrength_motifs.summaries.pickle'), mode = 'rb') as handle:\n",
    "    strength_summaries = pickle.load(handle)\n",
    "    \n",
    "cond1 = (strength_summaries['species'] == species)\n",
    "cond2 = (strength_summaries['modeltype'] == modeltype)\n",
    "cond3 = (strength_summaries['kmer'] == kmer)\n",
    "    \n",
    "strength_summaries = strength_summaries.loc[cond1 & cond2 & cond3].copy()\n",
    "print(strength_summaries.shape)\n",
    "\n",
    "# Significant motifs\n",
    "\n",
    "with open(os.path.join(RESOURCES, 'polyastrength_motifs.significant_motifs.pickle'), mode = 'rb') as handle:\n",
    "    significant_motifs = pickle.load(handle)\n",
    "\n",
    "sigmots = significant_motifs[species][modeltype][config]\n",
    "print(f\"PolyaStrength significant motifs = {len(sigmots)}\")\n"
   ]
  },
  {
   "cell_type": "code",
   "execution_count": 11,
   "metadata": {},
   "outputs": [],
   "source": [
    "with open(os.path.join(RESOURCES, 'polyastrength_motifs.family_profiles.pickle'), mode = 'rb') as handle:\n",
    "    mfam_importance = pickle.load(handle)\n",
    "    "
   ]
  },
  {
   "cell_type": "markdown",
   "metadata": {
    "scrolled": false
   },
   "source": [
    "# ANALYSIS"
   ]
  },
  {
   "cell_type": "code",
   "execution_count": 12,
   "metadata": {},
   "outputs": [],
   "source": [
    "family_cmap = {\n",
    "    'A-rich'        : '#2278B5',\n",
    "    'A-rich_d0'     : '#2278B5',\n",
    "    'A-rich_d1'     : '#6AB1E3',\n",
    "    'A-rich_d2'     : '#9CCBEC',\n",
    "    'T-rich'        : '#2FA148',\n",
    "    'T-rich_d0'     : '#2FA148',\n",
    "    'T-rich_d1'     : '#73D689',\n",
    "    'T-rich_d2'     : '#A1E4B0',\n",
    "    'TA/TA-rich'    : '#D62A28',\n",
    "    'TA/TA-rich_d0' : '#D62A28',\n",
    "    'TA/TA-rich_d1' : '#E77F7E',\n",
    "    'TA/TA-rich_d2' : '#EFAAA9',\n",
    "    'Other'         : '#F7F8F8',\n",
    "    'NA'            : '#F7F8F8',\n",
    "    'Pattern'       : '#000000',\n",
    "}\n"
   ]
  },
  {
   "cell_type": "markdown",
   "metadata": {},
   "source": [
    "## Comparison of motif importance between site identification and strength"
   ]
  },
  {
   "cell_type": "markdown",
   "metadata": {},
   "source": [
    "#### Overlap between PolyaClassifier and PolyaStrength significant motifs"
   ]
  },
  {
   "cell_type": "code",
   "execution_count": 13,
   "metadata": {},
   "outputs": [
    {
     "data": {
      "image/png": "[encoded data removed]",
      "text/plain": [
       "<Figure size 108x108 with 1 Axes>"
      ]
     },
     "metadata": {},
     "output_type": "display_data"
    },
    {
     "name": "stdout",
     "output_type": "stream",
     "text": [
      "\n",
      "Common significant motifs (N=68):\n",
      "AAAAAA,AAAAAG,AAAAAT,AAAAGA,AAAAGG,AAAGAA,AAAGGA,AAATAA,AAGAAA,AAGAAG,AAGGAA,AATAAA,AATAAT,AATATA,ACATAT,AGAAAA,ATAAAA,ATAAAT,ATAATA,ATACAT,ATATAA,ATATAC,ATATAG,ATATAT,ATATGT,ATGTAA,ATGTAT,CCTTTT,CTATAT,CTTTTC,CTTTTT,GAAAAA,GAAAAG,GAAGAG,GGAAAA,GTATAT,GTATGT,GTTTTT,TAAAAA,TAAATA,TAATAA,TAATAT,TACATA,TACGTA,TAGATA,TATAAA,TATAAT,TATAGA,TATATA,TATGTA,TCTATA,TCTTTC,TCTTTT,TGTATA,TGTTTT,TTATAT,TTATGT,TTCTTC,TTCTTT,TTTATA,TTTCTT,TTTGTT,TTTTCC,TTTTCT,TTTTGT,TTTTTC,TTTTTG,TTTTTT\n",
      "\n",
      "PolyaClassifier unique motifs (N=69):\n",
      "AAAATT,AAATAT,AAATTT,AAGAGA,AATTTT,ACTTTT,AGAAAG,AGAAGA,AGAAGG,AGGAAA,ATATTT,ATGAAG,ATTATT,ATTTAT,ATTTCT,ATTTTA,ATTTTC,ATTTTT,CAAAAA,CAAGAA,CATATA,CATTTT,CTTTTA,GAAAGA,GAAGAA,GAAGAT,GATGAA,GGAAGA,GGTGAA,TAATTT,TACTTT,TATACA,TATATG,TATATT,TATTAT,TATTTA,TATTTT,TCATTT,TGAAAA,TGAAGA,TGATGA,TGGAAA,TGGTGA,TTAATT,TTACTT,TTATTA,TTATTT,TTCATT,TTCCTT,TTCTAT,TTGAAA,TTGAAG,TTGTAT,TTGTTT,TTTAAT,TTTACT,TTTATT,TTTCAA,TTTCAT,TTTCCT,TTTCTA,TTTGAA,TTTGTA,TTTTAA,TTTTAC,TTTTAT,TTTTCA,TTTTGA,TTTTTA\n",
      "\n",
      "PolyaStrength unique motifs (N=178):\n",
      "AAAATA,AAACAA,AAAGAG,AAAGCG,AAATAG,AACAAA,AACGAA,AACGCA,AACTAA,AAGAAT,AAGGAG,AAGGGG,AAGTAG,AATAAC,AATAGA,AATGTA,AATTAC,ACAAAA,ACAAAG,ACAAAT,ACATAA,ACATAG,ACGAGC,ACGGGG,ACGTAA,ACGTAC,ACGTAG,ACGTAT,AGATAA,AGATAG,AGATAT,AGATGT,AGGACC,AGGAGA,AGGGAC,AGGGAG,AGGGGA,AGGGGC,AGGTAA,AGTATA,ATAAGA,ATAAGT,ATAATT,ATACAA,ATAGAT,ATAGGC,ATAGGG,ATAGGT,ATAGTG,ATGTAC,ATGTAG,CAAGGG,CAATGC,CAGGGA,CATGTA,CCGGGG,CGAAAA,CGAAGA,CGAGGA,CGGAGA,CGGATG,CGGGGA,CGTAGA,CTACGT,CTATGT,CTCTTT,CTGTGT,CTTCTT,CTTTCT,CTTTTG,GAAAGG,GAAGGA,GAATGA,GAATGG,GAGAAG,GAGGAG,GAGGCG,GAGGGA,GAGGGC,GAGGGG,GATATA,GATATT,GATGTA,GCAGAG,GCAGGG,GCATAT,GCCGGA,GCCTAT,GCCTGA,GCGGAA,GCGGAG,GCGTGG,GCTTTT,GGAAAG,GGAAGG,GGAATG,GGACAG,GGAGAG,GGAGCC,GGAGGA,GGAGGG,GGATGC,GGATGG,GGCAAA,GGCAGA,GGCCGC,GGCGCC,GGCGGA,GGCGGC,GGGAAA,GGGAGA,GGGAGG,GGGCAA,GGGCGC,GGGGAA,GGTGCG,GGTGTA,GTAAAT,GTAACT,GTAAGA,GTAAGT,GTACAT,GTACGT,GTACTC,GTAGCT,GTAGTT,GTATAA,GTATAG,GTGAGG,GTGGGC,GTGTAT,GTGTGT,GTTGTA,GTTTCT,TAAAAT,TAAACA,TAACAA,TAAGTA,TAATTA,TAATTC,TACAAA,TACGTG,TAGATC,TAGATG,TAGGTA,TAGTAT,TATAAG,TATAGC,TATAGG,TATAGT,TATCTA,TATGTG,TCGAGG,TCTCTT,TCTTCT,TCTTTG,TGAAAG,TGAGGA,TGGCGG,TGGGGG,TGGTGG,TGTAAC,TGTAAG,TGTGTA,TTAAAA,TTAATA,TTACAT,TTACGT,TTAGAT,TTATAA,TTCCCT,TTCTCC,TTCTCT,TTGTCT,TTGTTC,TTTCTC,TTTCTG,TTTTCG\n"
     ]
    }
   ],
   "source": [
    "fig,ax = plt.subplots(1,1, figsize = (1.5,1.5))\n",
    "venn2([set(class_sigmots), set(sigmots)], set_labels = ['PolyaClassifier motifs','PolyaStrength motifs'], ax = ax)\n",
    "plt.show()\n",
    "\n",
    "motifs_common = [m for m in sigmots if (m in class_sigmots)]\n",
    "motifs_class_only = [m for m in class_sigmots if (m not in sigmots)]\n",
    "motifs_strength_only = [m for m in sigmots if (m not in class_sigmots)]\n",
    "\n",
    "print(f\"\\nCommon significant motifs (N={len(motifs_common)}):\\n{','.join(sorted(motifs_common))}\")\n",
    "print(f\"\\nPolyaClassifier unique motifs (N={len(motifs_class_only)}):\\n{','.join(sorted(motifs_class_only))}\")\n",
    "print(f\"\\nPolyaStrength unique motifs (N={len(motifs_strength_only)}):\\n{','.join(sorted(motifs_strength_only))}\")\n"
   ]
  },
  {
   "cell_type": "markdown",
   "metadata": {},
   "source": [
    "#### Correlation in motif importance scores between PolyaClassifier and PolyaStrength"
   ]
  },
  {
   "cell_type": "code",
   "execution_count": 14,
   "metadata": {},
   "outputs": [],
   "source": [
    "measure = 'extreme_weights_log1p'\n",
    "\n",
    "wide_summaries = (\n",
    "    pd.concat([class_summaries, strength_summaries])\n",
    "    .pivot(index = 'testMotif', columns = 'modeltype', values = measure)\n",
    "    .reset_index()\n",
    "    .merge(class_summaries[['testMotif','hammingFamily','overallFamily']].drop_duplicates(), on = 'testMotif', how = 'left')\n",
    ")"
   ]
  },
  {
   "cell_type": "code",
   "execution_count": 15,
   "metadata": {},
   "outputs": [
    {
     "name": "stdout",
     "output_type": "stream",
     "text": [
      "count    4096.000000\n",
      "mean        1.697566\n",
      "std         0.616981\n",
      "min        -0.185119\n",
      "25%         1.252496\n",
      "50%         1.674616\n",
      "75%         2.096523\n",
      "max         4.012772\n",
      "Name: polyaclassifier, dtype: float64\n"
     ]
    }
   ],
   "source": [
    "print(wide_summaries['polyaclassifier'].describe())"
   ]
  },
  {
   "cell_type": "code",
   "execution_count": 16,
   "metadata": {},
   "outputs": [
    {
     "name": "stdout",
     "output_type": "stream",
     "text": [
      "count    4096.000000\n",
      "mean        0.961781\n",
      "std         0.717893\n",
      "min        -0.895670\n",
      "25%         0.379688\n",
      "50%         0.917102\n",
      "75%         1.471110\n",
      "max         3.499634\n",
      "Name: polyastrength, dtype: float64\n"
     ]
    }
   ],
   "source": [
    "print(wide_summaries['polyastrength'].describe())"
   ]
  },
  {
   "cell_type": "code",
   "execution_count": 17,
   "metadata": {},
   "outputs": [
    {
     "name": "stdout",
     "output_type": "stream",
     "text": [
      "4096 4092 3797 3795\n"
     ]
    },
    {
     "data": {
      "image/png": "[encoded data removed]",
      "text/plain": [
       "<Figure size 90x90 with 1 Axes>"
      ]
     },
     "metadata": {
      "needs_background": "light"
     },
     "output_type": "display_data"
    }
   ],
   "source": [
    "fig,ax = plt.subplots(1,1, figsize = (1.25,1.25))\n",
    "\n",
    "cond1 = (~wide_summaries.isna().any(axis=1))\n",
    "cond2 = (wide_summaries['polyaclassifier'] > 0)\n",
    "cond3 = (wide_summaries['polyastrength'] > 0)\n",
    "\n",
    "condPLOT = (cond1 & cond2 & cond3)\n",
    "print(cond1.sum(), cond2.sum(), cond3.sum(), condPLOT.sum())\n",
    "\n",
    "plot_data = wide_summaries.loc[condPLOT]\n",
    "\n",
    "sns.scatterplot(data = plot_data.loc[plot_data['overallFamily'] == 'Other'], \n",
    "                x = 'polyaclassifier', y = 'polyastrength',\n",
    "                color = 'lightgray', edgecolor = 'black',\n",
    "                s = 1, alpha = 0.25, zorder = 1, ax = ax)\n",
    "\n",
    "sns.scatterplot(data = plot_data.loc[plot_data['overallFamily'] != 'Other'], \n",
    "                x = 'polyaclassifier', y = 'polyastrength',\n",
    "                hue = 'overallFamily', palette = family_cmap, edgecolor = 'black',\n",
    "                s = 2, alpha = 1, zorder = 2, ax = ax)\n",
    "\n",
    "ax.set_xlabel(\"PolyaClassifier sum importance\")\n",
    "ax.set_xlim(0,4.1)\n",
    "ax.xaxis.set_major_locator(MultipleLocator(1))\n",
    "\n",
    "ax.set_ylabel(\"PolyaStrength sum importance\")\n",
    "ax.set_ylim(0,4.1)\n",
    "ax.yaxis.set_major_locator(MultipleLocator(1))\n",
    "\n",
    "ax.legend(bbox_to_anchor = (1.05,1))\n",
    "\n",
    "ax.spines['right'].set_visible(False)\n",
    "ax.spines['top'].set_visible(False)\n",
    "\n",
    "ax.set_title(f\"Most extreme 20 nt window\\nimportance score\\n(N = {len(plot_data)}, Rs = {st.spearmanr(plot_data['polyaclassifier'],plot_data['polyastrength'])[0]:.03f}, Rp = {st.pearsonr(plot_data['polyaclassifier'],plot_data['polyastrength'])[0]:.03f})\", fontsize = 7)\n",
    "\n",
    "plt.savefig(os.path.join(OUTDIR, 'motif_importance_comparison.scatter.peak_mean_window.color_family.svg'), format = 'svg', dpi = 600)\n",
    "plt.show()\n"
   ]
  },
  {
   "cell_type": "markdown",
   "metadata": {},
   "source": [
    "## Overall motif family importance profiles"
   ]
  },
  {
   "cell_type": "code",
   "execution_count": 18,
   "metadata": {},
   "outputs": [
    {
     "name": "stdout",
     "output_type": "stream",
     "text": [
      "hamming_A-rich: N = 39\n",
      "hamming_T-rich: N = 32\n",
      "hamming_TA/TA-rich: N = 74\n"
     ]
    }
   ],
   "source": [
    "for motfam,motdict in mfam_importance[species][modeltype][config].items():\n",
    "    \n",
    "    if (\"_d\" in motfam) or (\"pattern_\" in motfam) or (\"contains_\" in motfam):\n",
    "        continue\n",
    "        \n",
    "    print(f\"{motfam}: N = {len(motdict['motifs'])}\")\n",
    "    "
   ]
  },
  {
   "cell_type": "markdown",
   "metadata": {},
   "source": [
    "#### Sum importance score per motif"
   ]
  },
  {
   "cell_type": "code",
   "execution_count": 19,
   "metadata": {},
   "outputs": [
    {
     "name": "stdout",
     "output_type": "stream",
     "text": [
      "hamming_A-rich peak score: 21.560 @ position -21\n",
      "hamming_T-rich peak score: 15.632 @ position -6\n",
      "hamming_TA/TA-rich peak score: 24.677 @ position -36\n"
     ]
    },
    {
     "data": {
      "image/png": "[encoded data removed]",
      "text/plain": [
       "<Figure size 144x108 with 1 Axes>"
      ]
     },
     "metadata": {
      "needs_background": "light"
     },
     "output_type": "display_data"
    }
   ],
   "source": [
    "fig,ax = plt.subplots(1,1, figsize = (2,1.5))\n",
    "\n",
    "smoothing = 10\n",
    "region = (-250,150)\n",
    "\n",
    "for motfam,motdict in mfam_importance[species][modeltype][config].items():\n",
    "    \n",
    "    if (\"_d\" in motfam) or (\"pattern_\" in motfam) or (\"contains_\" in motfam):\n",
    "        continue\n",
    "    \n",
    "    try:\n",
    "        xs           = motdict['data']['xs']\n",
    "        means        = -1*motdict['data']['means_weights'] / len(motdict['motifs'])\n",
    "        means_smooth = pd.Series(means).rolling(window = smoothing, center = True).mean()\n",
    "        print(f\"{motfam} peak score: {np.max(means_smooth):.03f} @ position {xs[means_smooth.idxmax()]}\")\n",
    "\n",
    "        sns.lineplot(x = xs, y = means_smooth, color = family_cmap[motfam.replace(\"hamming_\", \"\")], label = motfam, lw = 1, ax = ax)\n",
    "\n",
    "    except KeyError:\n",
    "        continue\n",
    "    \n",
    "for x in [-90,-25,-15,0,15]:\n",
    "    ax.axvline(x = x, linewidth = 0.5, linestyle = 'dashed', color = 'gray', zorder = 0)\n",
    "\n",
    "ax.set_xlim(region)\n",
    "ax.xaxis.set_major_locator(MultipleLocator(50))\n",
    "\n",
    "ax.set_ylim(None,25)\n",
    "ax.yaxis.set_major_locator(MultipleLocator(5))\n",
    "ax.set_ylabel(\"Sum strength importance per motif\")\n",
    "ax.set_xlabel(\"Position relative to max cleavage site\")\n",
    "\n",
    "ax.spines['right'].set_visible(False)\n",
    "ax.spines['top'].set_visible(False)\n",
    "\n",
    "ax.legend(bbox_to_anchor = (1.05,1))\n",
    "\n",
    "plt.savefig(os.path.join(OUTDIR, 'family_consolidated.strength_importance.sum_norm.wide.svg'), format = 'svg', dpi = 600, transparent = True)\n",
    "plt.show()\n"
   ]
  },
  {
   "cell_type": "code",
   "execution_count": 20,
   "metadata": {},
   "outputs": [
    {
     "name": "stdout",
     "output_type": "stream",
     "text": [
      "hamming_A-rich peak score: 21.560 @ position -21\n",
      "hamming_T-rich peak score: 15.632 @ position -6\n",
      "hamming_TA/TA-rich peak score: 24.677 @ position -36\n"
     ]
    },
    {
     "data": {
      "image/png": "[encoded data removed]",
      "text/plain": [
       "<Figure size 144x108 with 1 Axes>"
      ]
     },
     "metadata": {
      "needs_background": "light"
     },
     "output_type": "display_data"
    }
   ],
   "source": [
    "fig,ax = plt.subplots(1,1, figsize = (2,1.5))\n",
    "\n",
    "smoothing = 10\n",
    "region = (-150,100)\n",
    "\n",
    "for motfam,motdict in mfam_importance[species][modeltype][config].items():\n",
    "    \n",
    "    if (\"_d\" in motfam) or (\"pattern_\" in motfam) or (\"contains_\" in motfam):\n",
    "        continue\n",
    "        \n",
    "    try:\n",
    "\n",
    "        xs           = motdict['data']['xs']\n",
    "        means        = -1*motdict['data']['means_weights'] / len(motdict['motifs'])\n",
    "        means_smooth = pd.Series(means).rolling(window = smoothing, center = True).mean()\n",
    "        print(f\"{motfam} peak score: {np.max(means_smooth):.03f} @ position {xs[means_smooth.idxmax()]}\")\n",
    "\n",
    "        sns.lineplot(x = xs, y = means_smooth, color = family_cmap[motfam.replace(\"hamming_\", \"\")], label = motfam, lw = 1, ax = ax)\n",
    "        \n",
    "    except KeyError:\n",
    "        continue\n",
    "\n",
    "for x in [-90,-25,-15,0,15]:\n",
    "    ax.axvline(x = x, linewidth = 0.5, linestyle = 'dashed', color = 'gray', zorder = 0)\n",
    "\n",
    "ax.set_xlim(region)\n",
    "ax.xaxis.set_major_locator(MultipleLocator(50))\n",
    "\n",
    "ax.set_ylim(None,25)\n",
    "ax.yaxis.set_major_locator(MultipleLocator(5))\n",
    "ax.set_ylabel(\"Sum strength importance per motif\")\n",
    "ax.set_xlabel(\"Position relative to max cleavage site\")\n",
    "\n",
    "ax.spines['right'].set_visible(False)\n",
    "ax.spines['top'].set_visible(False)\n",
    "\n",
    "ax.legend(bbox_to_anchor = (1.05,1))\n",
    "\n",
    "plt.savefig(os.path.join(OUTDIR, 'family_consolidated.strength_importance.sum_norm.zoom.svg'), format = 'svg', dpi = 600, transparent = True)\n",
    "plt.show()\n"
   ]
  },
  {
   "cell_type": "markdown",
   "metadata": {},
   "source": [
    "#### Frequency per motif"
   ]
  },
  {
   "cell_type": "code",
   "execution_count": 21,
   "metadata": {},
   "outputs": [
    {
     "name": "stdout",
     "output_type": "stream",
     "text": [
      "hamming_A-rich peak frequency: 20.977 @ position -21\n",
      "hamming_T-rich peak frequency: 26.084 @ position -8\n",
      "hamming_TA/TA-rich peak frequency: 20.453 @ position -40\n"
     ]
    },
    {
     "data": {
      "image/png": "[encoded data removed]",
      "text/plain": [
       "<Figure size 144x108 with 1 Axes>"
      ]
     },
     "metadata": {
      "needs_background": "light"
     },
     "output_type": "display_data"
    }
   ],
   "source": [
    "fig,ax = plt.subplots(1,1, figsize = (2,1.5))\n",
    "\n",
    "smoothing = 10\n",
    "region = (-250,150)\n",
    "\n",
    "for motfam,motdict in mfam_importance[species][modeltype][config].items():\n",
    "    \n",
    "    if (\"_d\" in motfam) or (\"pattern_\" in motfam) or (\"contains_\" in motfam):\n",
    "        continue\n",
    "    \n",
    "    try:\n",
    "        xs           = motdict['data']['xs']\n",
    "        means        = motdict['data']['freqs'] / len(motdict['motifs'])\n",
    "        means_smooth = pd.Series(means).rolling(window = smoothing, center = True).mean()\n",
    "        print(f\"{motfam} peak frequency: {np.max(means_smooth):.03f} @ position {xs[means_smooth.idxmax()]}\")\n",
    "\n",
    "        sns.lineplot(x = xs, y = means_smooth, color = family_cmap[motfam.replace(\"hamming_\", \"\")], label = motfam, lw = 1, ax = ax)\n",
    "        \n",
    "    except KeyError:\n",
    "        continue\n",
    "\n",
    "for x in [-90,-25,-15,0,15]:\n",
    "    ax.axvline(x = x, linewidth = 0.5, linestyle = 'dashed', color = 'gray', zorder = 0)\n",
    "\n",
    "ax.set_xlim(region)\n",
    "ax.xaxis.set_major_locator(MultipleLocator(50))\n",
    "\n",
    "ax.set_ylim(None,30)\n",
    "ax.yaxis.set_major_locator(MultipleLocator(5))\n",
    "ax.set_ylabel(\"Frequency per motif\")\n",
    "ax.set_xlabel(\"Position relative to max cleavage site\")\n",
    "\n",
    "ax.spines['right'].set_visible(False)\n",
    "ax.spines['top'].set_visible(False)\n",
    "\n",
    "ax.legend(bbox_to_anchor = (1.05,1))\n",
    "\n",
    "plt.savefig(os.path.join(OUTDIR, 'family_consolidated.strength_importance.freq_norm.wide.svg'), format = 'svg', dpi = 600, transparent = True)\n",
    "plt.show()\n"
   ]
  },
  {
   "cell_type": "code",
   "execution_count": 22,
   "metadata": {},
   "outputs": [
    {
     "name": "stdout",
     "output_type": "stream",
     "text": [
      "hamming_A-rich peak score: 20.977 @ position -21\n",
      "hamming_T-rich peak score: 26.084 @ position -8\n",
      "hamming_TA/TA-rich peak score: 20.453 @ position -40\n"
     ]
    },
    {
     "data": {
      "image/png": "[encoded data removed]",
      "text/plain": [
       "<Figure size 144x108 with 1 Axes>"
      ]
     },
     "metadata": {
      "needs_background": "light"
     },
     "output_type": "display_data"
    }
   ],
   "source": [
    "fig,ax = plt.subplots(1,1, figsize = (2,1.5))\n",
    "\n",
    "smoothing = 10\n",
    "region = (-150,100)\n",
    "\n",
    "for motfam,motdict in mfam_importance[species][modeltype][config].items():\n",
    "    \n",
    "    if (\"_d\" in motfam) or (\"pattern_\" in motfam) or (\"contains_\" in motfam):\n",
    "        continue\n",
    "    \n",
    "    try:\n",
    "        xs           = motdict['data']['xs']\n",
    "        means        = motdict['data']['freqs'] / len(motdict['motifs'])\n",
    "        means_smooth = pd.Series(means).rolling(window = smoothing, center = True).mean()\n",
    "        print(f\"{motfam} peak score: {np.max(means_smooth):.03f} @ position {xs[means_smooth.idxmax()]}\")\n",
    "\n",
    "        sns.lineplot(x = xs, y = means_smooth, color = family_cmap[motfam.replace(\"hamming_\", \"\")], label = motfam, lw = 1, ax = ax)\n",
    "        \n",
    "    except KeyError:\n",
    "        continue\n",
    "\n",
    "for x in [-90,-25,-15,0,15]:\n",
    "    ax.axvline(x = x, linewidth = 0.5, linestyle = 'dashed', color = 'gray', zorder = 0)\n",
    "\n",
    "ax.set_xlim(region)\n",
    "ax.xaxis.set_major_locator(MultipleLocator(50))\n",
    "\n",
    "ax.set_ylim(None,30)\n",
    "ax.yaxis.set_major_locator(MultipleLocator(5))\n",
    "ax.set_ylabel(\"Frequency per motif\")\n",
    "ax.set_xlabel(\"Position relative to max cleavage site\")\n",
    "\n",
    "ax.spines['right'].set_visible(False)\n",
    "ax.spines['top'].set_visible(False)\n",
    "\n",
    "ax.legend(bbox_to_anchor = (1.05,1))\n",
    "\n",
    "plt.savefig(os.path.join(OUTDIR, 'family_consolidated.strength_importance.freq_norm.zoom.svg'), format = 'svg', dpi = 600, transparent = True)\n",
    "plt.show()\n"
   ]
  }
 ],
 "metadata": {
  "kernelspec": {
   "display_name": "Python (tf-train)",
   "language": "python",
   "name": "tf-train"
  },
  "language_info": {
   "codemirror_mode": {
    "name": "ipython",
    "version": 3
   },
   "file_extension": ".py",
   "mimetype": "text/x-python",
   "name": "python",
   "nbconvert_exporter": "python",
   "pygments_lexer": "ipython3",
   "version": "3.6.12"
  }
 },
 "nbformat": 4,
 "nbformat_minor": 2
}
