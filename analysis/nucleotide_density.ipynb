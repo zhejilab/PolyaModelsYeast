{
 "cells": [
  {
   "cell_type": "markdown",
   "metadata": {},
   "source": [
    "# Nucleotide density around polyA sites\n",
    "\n",
    "**Purpose**: To visualize the frequency of individual nucleotides surrounding eligible, representative cleavage sites.\n"
   ]
  },
  {
   "cell_type": "code",
   "execution_count": 1,
   "metadata": {},
   "outputs": [],
   "source": [
    "%load_ext autoreload"
   ]
  },
  {
   "cell_type": "code",
   "execution_count": 2,
   "metadata": {},
   "outputs": [],
   "source": [
    "%autoreload 2"
   ]
  },
  {
   "cell_type": "code",
   "execution_count": 3,
   "metadata": {},
   "outputs": [],
   "source": [
    "%run -i notebook_setup.py"
   ]
  },
  {
   "cell_type": "markdown",
   "metadata": {},
   "source": [
    "## HELPER FUNCTIONS"
   ]
  },
  {
   "cell_type": "code",
   "execution_count": 4,
   "metadata": {},
   "outputs": [],
   "source": [
    "def calculate_nucleotide_density(data, window):\n",
    "    \n",
    "    ## Trim sequence to desired length\n",
    "    \n",
    "    sequence = data['sequence'].str.upper()\n",
    "    \n",
    "    if (sequence.apply(lambda x : len(x)).nunique() > 1):\n",
    "        raise ValueError(f\"Sequences are not a consistent length: \" + str(sequence.apply(lambda x : len(x)).describe()))\n",
    "    \n",
    "    trimmed_sequence = sequence.apply(lambda x : x[int((len(x)-window)/2):int((len(x)+window)/2)])\n",
    "    \n",
    "    ## Summarize nucleotide content by position\n",
    "    \n",
    "    nt_dict = {}\n",
    "    char_dict = {'A':0, 'C':1, 'G':2, 'T':3, 0:'A', 1:'C', 2:'G', 3:'T'}\n",
    "\n",
    "    xs = np.arange(-int(window/2),int(window/2),1)\n",
    "    nt_array = np.zeros((len(xs),4))\n",
    "\n",
    "    for i,tseq in tqdm.tqdm(trimmed_sequence.iteritems(), total = len(data), desc = 'Summarizing nucleotide density'):\n",
    "        idxs = np.arange(0,len(xs))\n",
    "\n",
    "        for j,char in zip(idxs,tseq):\n",
    "\n",
    "            if (char == 'N'):\n",
    "                continue\n",
    "\n",
    "            nt_array[j,char_dict[char]] += 1\n",
    "            \n",
    "    return nt_array / np.reshape(np.sum(nt_array, axis = 1), (-1,1))\n"
   ]
  },
  {
   "cell_type": "code",
   "execution_count": 5,
   "metadata": {},
   "outputs": [],
   "source": [
    "def plot_nucleotide_density(input_data, window, xtickint, ylim, desc):\n",
    "    \n",
    "    ## Subset data based on xlim window\n",
    "    \n",
    "    xs = np.arange(-int(window/2),int(window/2),1)\n",
    "    data = input_data[int((np.shape(input_data)[0]-window)/2):int((np.shape(input_data)[0]+window)/2),:]\n",
    "    \n",
    "    ## Visualize nucleotide density across window\n",
    "    \n",
    "    fig,ax = plt.subplots(1,1, figsize = (2,1.5))\n",
    "\n",
    "    # Plot pA-centered nucleotide distribution\n",
    "    ax.plot(xs, data[:,0]*100, linewidth = 0.75, color = '#cb2026', label = 'A')\n",
    "    ax.plot(xs, data[:,1]*100, linewidth = 0.75, color = '#35459c', label = 'C')\n",
    "    ax.plot(xs, data[:,2]*100, linewidth = 0.75, color = '#fcb316', label = 'G')\n",
    "    ax.plot(xs, data[:,3]*100, linewidth = 0.75, color = '#0c8140', label = 'T')\n",
    "    print(f'Maximum nucleotide density: A={np.max(data[:,0]):.02%}, C={np.max(data[:,1]):.02%}, G={np.max(data[:,2]):.02%}, T={np.max(data[:,3]):.02%}')\n",
    "\n",
    "    # Style plot and label axes\n",
    "    ax.set_xlabel(\"Position relative to max cleavage site (nt)\")\n",
    "    ax.xaxis.set_major_locator(MultipleLocator(xtickint))\n",
    "    ax.set_xlim(-int(window/2), int(window/2))\n",
    "\n",
    "    ax.set_ylabel(\"Nucleotide frequency (%)\")\n",
    "    ax.yaxis.set_major_locator(MultipleLocator(20))\n",
    "    ax.set_ylim(ylim)\n",
    "\n",
    "    ax.legend(ncol = 4, loc = 'center', bbox_to_anchor = (0.5,1.1))\n",
    "    \n",
    "    ax.spines['right'].set_visible(False)\n",
    "    ax.spines['top'].set_visible(False)\n",
    "    \n",
    "    plt.savefig(os.path.join(OUTDIR, f'nucleotide_summary.{desc}.window_{window}.svg'), format = 'svg', dpi = 600)\n",
    "    plt.show()\n",
    "\n",
    "    return\n"
   ]
  },
  {
   "cell_type": "markdown",
   "metadata": {},
   "source": [
    "## IMPORTS AND SETUP"
   ]
  },
  {
   "cell_type": "code",
   "execution_count": 6,
   "metadata": {},
   "outputs": [],
   "source": [
    "PROJECT   = \"/projects/b1080/eks/polyadenylation/yeast\"\n",
    "OUTDIR    = os.path.join(PROJECT, 'manuscript', 'analysis', 'nucleotide_density')\n",
    "RESOURCES = os.path.join(os.path.dirname(OUTDIR), 'resources')\n",
    "os.makedirs(OUTDIR, exist_ok = True)\n"
   ]
  },
  {
   "cell_type": "markdown",
   "metadata": {},
   "source": [
    "## ANALYSIS"
   ]
  },
  {
   "cell_type": "markdown",
   "metadata": {},
   "source": [
    "### Saccharomyces cerevisiae"
   ]
  },
  {
   "cell_type": "code",
   "execution_count": 7,
   "metadata": {
    "scrolled": false
   },
   "outputs": [
    {
     "name": "stdout",
     "output_type": "stream",
     "text": [
      "(40453, 11)\n"
     ]
    },
    {
     "name": "stderr",
     "output_type": "stream",
     "text": [
      "Summarizing nucleotide density: 100%|██████████| 40453/40453 [00:28<00:00, 1413.51it/s]\n"
     ]
    },
    {
     "name": "stdout",
     "output_type": "stream",
     "text": [
      "(1000, 4)\n",
      "Maximum nucleotide density: A=75.91%, C=31.79%, G=22.00%, T=54.60%\n"
     ]
    },
    {
     "data": {
      "image/png": "[encoded data removed]",
      "text/plain": [
       "<Figure size 144x108 with 1 Axes>"
      ]
     },
     "metadata": {
      "needs_background": "light"
     },
     "output_type": "display_data"
    },
    {
     "name": "stdout",
     "output_type": "stream",
     "text": [
      "Maximum nucleotide density: A=75.91%, C=31.79%, G=22.00%, T=54.60%\n"
     ]
    },
    {
     "data": {
      "image/png": "[encoded data removed]",
      "text/plain": [
       "<Figure size 144x108 with 1 Axes>"
      ]
     },
     "metadata": {
      "needs_background": "light"
     },
     "output_type": "display_data"
    }
   ],
   "source": [
    "species = 'saccharomyces_cerevisiae'\n",
    "reads = 10\n",
    "tfrac = 0.75\n",
    "\n",
    "repr_sites = pd.read_csv(os.path.join(PROJECT, species, 'data', 'data_generation', 'positives', f'redistA.no_clustered.wild_type.tf_{tfrac}.ru_0.02.reads_{reads}.sorted.eligible-representative_sites-all_dist-5.coding_only.window.formatted.txt'), sep = \"\\t\")\n",
    "print(repr_sites.shape)\n",
    "\n",
    "repr_ntd = calculate_nucleotide_density(repr_sites, 1000)\n",
    "print(np.shape(repr_ntd))\n",
    "\n",
    "plot_nucleotide_density(repr_ntd, 600, 100, (0,100), f'{species}.no_clustered.tfrac_{tfrac}.ru_0.02.reads_{reads}')\n",
    "plot_nucleotide_density(repr_ntd, 240,  30, (0,100), f'{species}.no_clustered.tfrac_{tfrac}.ru_0.02.reads_{reads}')\n"
   ]
  },
  {
   "cell_type": "markdown",
   "metadata": {},
   "source": [
    "### Schizosaccharomyces pombe"
   ]
  },
  {
   "cell_type": "code",
   "execution_count": 8,
   "metadata": {},
   "outputs": [
    {
     "name": "stdout",
     "output_type": "stream",
     "text": [
      "(12678, 11)\n"
     ]
    },
    {
     "name": "stderr",
     "output_type": "stream",
     "text": [
      "Summarizing nucleotide density: 100%|██████████| 12678/12678 [00:08<00:00, 1415.43it/s]\n"
     ]
    },
    {
     "name": "stdout",
     "output_type": "stream",
     "text": [
      "(1000, 4)\n",
      "Maximum nucleotide density: A=86.73%, C=23.61%, G=20.66%, T=53.64%\n"
     ]
    },
    {
     "data": {
      "image/png": "[encoded data removed]",
      "text/plain": [
       "<Figure size 144x108 with 1 Axes>"
      ]
     },
     "metadata": {
      "needs_background": "light"
     },
     "output_type": "display_data"
    },
    {
     "name": "stdout",
     "output_type": "stream",
     "text": [
      "Maximum nucleotide density: A=86.73%, C=23.61%, G=20.66%, T=53.64%\n"
     ]
    },
    {
     "data": {
      "image/png": "[encoded data removed]",
      "text/plain": [
       "<Figure size 144x108 with 1 Axes>"
      ]
     },
     "metadata": {
      "needs_background": "light"
     },
     "output_type": "display_data"
    }
   ],
   "source": [
    "species = 'schizosaccharomyces_pombe'\n",
    "reads = 5\n",
    "tfrac = 0.75\n",
    "\n",
    "repr_sites = pd.read_csv(os.path.join(PROJECT, species, 'data', 'data_generation', 'positives', f'redistA.no_clustered.wild_type.tf_{tfrac}.ru_0.02.reads_{reads}.sorted.eligible-representative_sites-all_dist-5.coding_only.window.formatted.txt'), sep = \"\\t\")\n",
    "print(repr_sites.shape)\n",
    "\n",
    "repr_ntd = calculate_nucleotide_density(repr_sites, 1000)\n",
    "print(np.shape(repr_ntd))\n",
    "\n",
    "plot_nucleotide_density(repr_ntd, 600, 100, (0,100), f'{species}.no_clustered.tfrac_{tfrac}.ru_0.02.reads_{reads}')\n",
    "plot_nucleotide_density(repr_ntd, 240,  30, (0,100), f'{species}.no_clustered.tfrac_{tfrac}.ru_0.02.reads_{reads}')\n"
   ]
  },
  {
   "cell_type": "markdown",
   "metadata": {},
   "source": [
    "### Arabidopsis thaliana"
   ]
  },
  {
   "cell_type": "code",
   "execution_count": 9,
   "metadata": {},
   "outputs": [
    {
     "name": "stdout",
     "output_type": "stream",
     "text": [
      "(47618, 11)\n"
     ]
    },
    {
     "name": "stderr",
     "output_type": "stream",
     "text": [
      "Summarizing nucleotide density: 100%|██████████| 47618/47618 [00:33<00:00, 1420.85it/s]\n"
     ]
    },
    {
     "name": "stdout",
     "output_type": "stream",
     "text": [
      "(1000, 4)\n",
      "Maximum nucleotide density: A=76.24%, C=26.81%, G=25.99%, T=58.59%\n"
     ]
    },
    {
     "data": {
      "image/png": "[encoded data removed]",
      "text/plain": [
       "<Figure size 144x108 with 1 Axes>"
      ]
     },
     "metadata": {
      "needs_background": "light"
     },
     "output_type": "display_data"
    },
    {
     "name": "stdout",
     "output_type": "stream",
     "text": [
      "Maximum nucleotide density: A=76.24%, C=26.81%, G=25.99%, T=58.59%\n"
     ]
    },
    {
     "data": {
      "image/png": "[encoded data removed]",
      "text/plain": [
       "<Figure size 144x108 with 1 Axes>"
      ]
     },
     "metadata": {
      "needs_background": "light"
     },
     "output_type": "display_data"
    }
   ],
   "source": [
    "species = 'arabidopsis_thaliana'\n",
    "reads = 10\n",
    "tfrac = 0.75\n",
    "\n",
    "repr_sites = pd.read_csv(os.path.join(PROJECT, species, 'data', 'data_generation', 'positives', f'redistA.no_clustered.wild_type.tf_{tfrac}.ru_0.02.reads_{reads}.sorted.eligible-representative_sites-all_dist-5.coding_only.window.formatted.txt'), sep = \"\\t\")\n",
    "print(repr_sites.shape)\n",
    "\n",
    "repr_ntd = calculate_nucleotide_density(repr_sites, 1000)\n",
    "print(np.shape(repr_ntd))\n",
    "\n",
    "plot_nucleotide_density(repr_ntd, 600, 100, (0,100), f'{species}.no_clustered.tfrac_{tfrac}.ru_0.02.reads_{reads}')\n",
    "plot_nucleotide_density(repr_ntd, 240,  30, (0,100), f'{species}.no_clustered.tfrac_{tfrac}.ru_0.02.reads_{reads}')\n"
   ]
  }
 ],
 "metadata": {
  "kernelspec": {
   "display_name": "Python (tf-train)",
   "language": "python",
   "name": "tf-train"
  },
  "language_info": {
   "codemirror_mode": {
    "name": "ipython",
    "version": 3
   },
   "file_extension": ".py",
   "mimetype": "text/x-python",
   "name": "python",
   "nbconvert_exporter": "python",
   "pygments_lexer": "ipython3",
   "version": "3.6.12"
  }
 },
 "nbformat": 4,
 "nbformat_minor": 2
}
