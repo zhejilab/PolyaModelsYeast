{
 "cells": [
  {
   "cell_type": "markdown",
   "metadata": {},
   "source": [
    "# Differential regulation of APA under diauxic stress\n",
    "\n",
    "**Purpose**: To identify polyA sites differentially regulated when yeast are under diauxic stress.\n"
   ]
  },
  {
   "cell_type": "code",
   "execution_count": 1,
   "metadata": {},
   "outputs": [],
   "source": [
    "%load_ext autoreload"
   ]
  },
  {
   "cell_type": "code",
   "execution_count": 2,
   "metadata": {},
   "outputs": [],
   "source": [
    "%autoreload 2"
   ]
  },
  {
   "cell_type": "code",
   "execution_count": 3,
   "metadata": {},
   "outputs": [],
   "source": [
    "%run -i notebook_setup.py"
   ]
  },
  {
   "cell_type": "markdown",
   "metadata": {},
   "source": [
    "## IMPORTS AND SETUP"
   ]
  },
  {
   "cell_type": "code",
   "execution_count": 4,
   "metadata": {},
   "outputs": [],
   "source": [
    "from statsmodels.stats.multitest import multipletests"
   ]
  },
  {
   "cell_type": "code",
   "execution_count": 5,
   "metadata": {},
   "outputs": [],
   "source": [
    "PROJECT   = \"/projects/b1080/eks/polyadenylation/yeast\"\n",
    "DATADIR   = os.path.join(PROJECT, 'saccharomyces_cerevisiae', 'analysis', 'dapa')\n",
    "OUTDIR    = os.path.join(PROJECT, 'manuscript', 'analysis', 'differential_apa')\n",
    "RESOURCES = os.path.join(os.path.dirname(OUTDIR), 'resources')\n",
    "os.makedirs(OUTDIR, exist_ok = True)\n"
   ]
  },
  {
   "cell_type": "code",
   "execution_count": 6,
   "metadata": {},
   "outputs": [],
   "source": [
    "boxplot_format = {\n",
    "    'color'        : 'lightgray',\n",
    "    'boxprops'     : {'edgecolor' : 'black', 'linewidth' : 0.5},\n",
    "    'medianprops'  : {'color' : 'black', 'linewidth' : 0.5},\n",
    "    'whiskerprops' : {'color' : 'black', 'linewidth' : 0.5},\n",
    "    'capprops'     : {'color' : 'black', 'linewidth' : 0.5},\n",
    "    'flierprops'   : {'color' : 'black'},\n",
    "    'showfliers'   : False\n",
    "}"
   ]
  },
  {
   "cell_type": "code",
   "execution_count": 7,
   "metadata": {},
   "outputs": [],
   "source": [
    "light_cmap = {\n",
    "    -1: '#548fb3',\n",
    "    0 : '#d6e4ec', \n",
    "    1 : '#f6ddce', \n",
    "    2 : '#c56d5f'\n",
    "}\n",
    "\n",
    "dark_cmap = {\n",
    "    -1: '#548fb3',\n",
    "    0 : '#808080', \n",
    "    1 : '#f6ddce',\n",
    "    2 : '#c56d5f'\n",
    "}"
   ]
  },
  {
   "cell_type": "markdown",
   "metadata": {},
   "source": [
    "## ANALYSIS"
   ]
  },
  {
   "cell_type": "code",
   "execution_count": 8,
   "metadata": {},
   "outputs": [
    {
     "name": "stdout",
     "output_type": "stream",
     "text": [
      "(9089, 26)\n"
     ]
    }
   ],
   "source": [
    "dapa_data = pd.read_csv(os.path.join(RESOURCES, 'dapa_clusters.polya_comprehensive.txt'), sep = \"\\t\").drop(columns = ['max_cleavage'])\n",
    "dapa_data = dapa_data.loc[~dapa_data.isin([np.nan, np.inf, -np.inf]).any(1)]\n",
    "print(dapa_data.shape)\n"
   ]
  },
  {
   "cell_type": "markdown",
   "metadata": {},
   "source": [
    "#### Annotate sites with supporting reads, relative usage score, and change in usage"
   ]
  },
  {
   "cell_type": "code",
   "execution_count": 9,
   "metadata": {},
   "outputs": [],
   "source": [
    "dapa_data['label'] = dapa_data.apply(lambda row : f'{row.name:06d}:{row.chrom}:{row.start}:{row.strand}', axis = 1)\n",
    "dapa_data['ctr_cleavage'] = 250\n"
   ]
  },
  {
   "cell_type": "code",
   "execution_count": 10,
   "metadata": {},
   "outputs": [],
   "source": [
    "dapa_data['classificationCLIP'] = np.clip(dapa_data['classification'], a_min = 1e-6, a_max = 1 - 1e-6)\n",
    "dapa_data['classificationLO'] = np.log2(dapa_data['classificationCLIP'] / (1 - dapa_data['classificationCLIP']))\n"
   ]
  },
  {
   "cell_type": "code",
   "execution_count": 11,
   "metadata": {},
   "outputs": [],
   "source": [
    "cluster_reads_dict = defaultdict(dict)\n",
    "\n",
    "for i,row in dapa_data.iterrows():\n",
    "    cluster_reads_dict[(row['gene'],row['tissue'])][row['relative_position']] = row['reads_cluster_interest']\n"
   ]
  },
  {
   "cell_type": "code",
   "execution_count": 12,
   "metadata": {},
   "outputs": [
    {
     "name": "stderr",
     "output_type": "stream",
     "text": [
      "notebook_setup.py:1: RuntimeWarning: invalid value encountered in double_scalars\n",
      "  import os, re, sys, copy, glob, math, tqdm, scipy, random, itertools, logomaker\n"
     ]
    },
    {
     "name": "stdout",
     "output_type": "stream",
     "text": [
      "count    8836.000000\n",
      "mean        0.504301\n",
      "std         0.387959\n",
      "min         0.000014\n",
      "25%         0.083591\n",
      "50%         0.510456\n",
      "75%         0.922078\n",
      "max         1.000000\n",
      "Name: relusage, dtype: float64\n"
     ]
    }
   ],
   "source": [
    "dapa_data['relusage'] = dapa_data.apply(lambda row : row['reads_cluster_interest'] / np.sum(list(cluster_reads_dict[(row['gene'],row['tissue'])].values())), axis = 1)\n",
    "print(dapa_data['relusage'].describe())\n"
   ]
  },
  {
   "cell_type": "code",
   "execution_count": 13,
   "metadata": {},
   "outputs": [
    {
     "name": "stdout",
     "output_type": "stream",
     "text": [
      "329 ['YAL024C', 'YAL030W', 'YAL067C', 'YAR031W', 'YAR068W']\n",
      "(8760, 31)\n"
     ]
    }
   ],
   "source": [
    "gene_counts = dapa_data['gene'].value_counts()\n",
    "unpaired_genes = sorted(gene_counts[gene_counts != 2].index.tolist())\n",
    "print(len(unpaired_genes), unpaired_genes[:5])\n",
    "\n",
    "dapa_data = dapa_data.loc[~dapa_data['gene'].isin(unpaired_genes)].copy()\n",
    "print(dapa_data.shape)\n"
   ]
  },
  {
   "cell_type": "code",
   "execution_count": 14,
   "metadata": {},
   "outputs": [
    {
     "name": "stdout",
     "output_type": "stream",
     "text": [
      "count    4.380000e+03\n",
      "mean     1.000000e+00\n",
      "std      1.751604e-17\n",
      "min      1.000000e+00\n",
      "25%      1.000000e+00\n",
      "50%      1.000000e+00\n",
      "75%      1.000000e+00\n",
      "max      1.000000e+00\n",
      "Name: relusage, dtype: float64\n"
     ]
    }
   ],
   "source": [
    "## confirm that the relative usage scores sum to 1 for all sites in a gene\n",
    "print(dapa_data.groupby(['gene','tissue'])['relusage'].agg(sum).describe())\n"
   ]
  },
  {
   "cell_type": "markdown",
   "metadata": {},
   "source": [
    "#### Assess site change in usage and calculate Benjamini-Hochberg corrected p-values"
   ]
  },
  {
   "cell_type": "code",
   "execution_count": 15,
   "metadata": {},
   "outputs": [
    {
     "name": "stderr",
     "output_type": "stream",
     "text": [
      "/home/esk863/.local/lib/python3.6/site-packages/pandas/core/series.py:853: RuntimeWarning: divide by zero encountered in log10\n",
      "  result = getattr(ufunc, method)(*inputs, **kwargs)\n"
     ]
    }
   ],
   "source": [
    "dapa_data['deltaUsage']  = dapa_data['usage_interest'] - dapa_data['usage_others']\n",
    "dapa_data['l2fcUsage']   = np.log2(dapa_data['usage_interest'] / dapa_data['usage_others'])\n",
    "dapa_data['l2or']        = np.log2(dapa_data['odds_ratio'])\n",
    "dapa_data['pval_minlog'] = -1 * np.log10(dapa_data['pval'])\n",
    "dapa_data['qval']        = multipletests(dapa_data['pval'], alpha = 0.05, method = 'fdr_bh')[1]\n",
    "dapa_data['qval_minlog'] = -1 * np.log10(dapa_data['qval'])\n"
   ]
  },
  {
   "cell_type": "markdown",
   "metadata": {},
   "source": [
    "#### Compile site positions and strength scores"
   ]
  },
  {
   "cell_type": "code",
   "execution_count": 16,
   "metadata": {},
   "outputs": [],
   "source": [
    "site_data = defaultdict(dict)\n",
    "\n",
    "for i,row in dapa_data.iterrows():\n",
    "    site_data[row['gene']][row['relative_position']] = {\n",
    "        'position' : row['repr_site'],\n",
    "        'strength' : row['pred_logit'],\n",
    "    }\n"
   ]
  },
  {
   "cell_type": "markdown",
   "metadata": {},
   "source": [
    "#### Identify the site relative position (i.e. proximal or distal) and calculate the distance and difference in strength"
   ]
  },
  {
   "cell_type": "code",
   "execution_count": 17,
   "metadata": {},
   "outputs": [
    {
     "name": "stdout",
     "output_type": "stream",
     "text": [
      "count    8760.000000\n",
      "mean        1.987361\n",
      "std         0.270244\n",
      "min         1.698970\n",
      "25%         1.792392\n",
      "50%         1.908485\n",
      "75%         2.096910\n",
      "max         3.886773\n",
      "Name: pair_distance_log10, dtype: float64\n"
     ]
    }
   ],
   "source": [
    "dapa_data.loc[dapa_data['relative_position'] == 'proximal', 'pair_distance'] = dapa_data.loc[dapa_data['relative_position'] == 'proximal'].apply(lambda row : np.abs(site_data[row['gene']].get('distal', {}).get('position', np.nan) - row['repr_site']), axis = 1)\n",
    "dapa_data.loc[dapa_data['relative_position'] == 'distal',   'pair_distance'] = dapa_data.loc[dapa_data['relative_position'] == 'distal'].apply(lambda row : np.abs(site_data[row['gene']].get('proximal', {}).get('position', np.nan) - row['repr_site']), axis = 1)\n",
    "\n",
    "dapa_data['pair_distance_log10'] = np.log10(dapa_data['pair_distance'])\n",
    "print(dapa_data['pair_distance_log10'].describe())\n"
   ]
  },
  {
   "cell_type": "code",
   "execution_count": 18,
   "metadata": {},
   "outputs": [
    {
     "name": "stdout",
     "output_type": "stream",
     "text": [
      "count    8760.000000\n",
      "mean        0.000000\n",
      "std         1.909134\n",
      "min        -7.383472\n",
      "25%        -1.191047\n",
      "50%         0.000000\n",
      "75%         1.191047\n",
      "max         7.383472\n",
      "Name: strength_difference, dtype: float64\n"
     ]
    }
   ],
   "source": [
    "dapa_data.loc[dapa_data['relative_position'] == 'proximal', 'strength_difference'] = dapa_data.loc[dapa_data['relative_position'] == 'proximal'].apply(lambda row : row['pred_logit'] - site_data[row['gene']].get('distal', {}).get('strength', np.nan), axis = 1)\n",
    "dapa_data.loc[dapa_data['relative_position'] == 'distal',   'strength_difference'] = dapa_data.loc[dapa_data['relative_position'] == 'distal'].apply(lambda row : row['pred_logit'] - site_data[row['gene']].get('proximal', {}).get('strength', np.nan), axis = 1)\n",
    "print(dapa_data['strength_difference'].describe())\n"
   ]
  },
  {
   "cell_type": "code",
   "execution_count": 19,
   "metadata": {},
   "outputs": [
    {
     "name": "stdout",
     "output_type": "stream",
     "text": [
      "count    8760.000000\n",
      "mean       -2.537367\n",
      "std         1.231816\n",
      "min        -6.251997\n",
      "25%        -3.363144\n",
      "50%        -2.649392\n",
      "75%        -1.873953\n",
      "max         2.478335\n",
      "Name: strength_paired, dtype: float64\n"
     ]
    }
   ],
   "source": [
    "dapa_data.loc[dapa_data['relative_position'] == 'proximal', 'strength_paired'] = dapa_data.loc[dapa_data['relative_position'] == 'proximal']['gene'].apply(lambda x : site_data[x].get('distal', {}).get('strength', np.nan))\n",
    "dapa_data.loc[dapa_data['relative_position'] == 'distal',   'strength_paired'] = dapa_data.loc[dapa_data['relative_position'] == 'distal'  ]['gene'].apply(lambda x : site_data[x].get('proximal', {}).get('strength', np.nan))\n",
    "print(dapa_data['strength_paired'].describe())\n"
   ]
  },
  {
   "cell_type": "code",
   "execution_count": 20,
   "metadata": {},
   "outputs": [
    {
     "name": "stdout",
     "output_type": "stream",
     "text": [
      "Input data shape : (8760, 41)\n",
      "\n",
      "Number of sites  : 8760\n",
      "Number of tissues: 1\n",
      "Number of genes  : 4380\n"
     ]
    }
   ],
   "source": [
    "print(\"Input data shape :\", dapa_data.shape)\n",
    "print(\"\\nNumber of sites  :\", dapa_data[['gene','relative_position']].drop_duplicates().shape[0])\n",
    "print(\"Number of tissues:\", dapa_data['tissue'].nunique())\n",
    "print(\"Number of genes  :\", dapa_data['gene'].nunique())\n"
   ]
  },
  {
   "cell_type": "code",
   "execution_count": 21,
   "metadata": {},
   "outputs": [
    {
     "data": {
      "image/png": "[encoded data removed]",
      "text/plain": [
       "<Figure size 144x108 with 1 Axes>"
      ]
     },
     "metadata": {
      "needs_background": "light"
     },
     "output_type": "display_data"
    }
   ],
   "source": [
    "fig,ax = plt.subplots(1,1, figsize = (2,1.5))\n",
    "\n",
    "ax.hist(dapa_data['deltaUsage'], bins = 50, color = 'lightgray')\n",
    "\n",
    "ax.axvline(-0.05, color = 'black', linestyle = 'dashed', linewidth = 0.5)\n",
    "ax.axvline(+0.05, color = 'black', linestyle = 'dashed', linewidth = 0.5)\n",
    "\n",
    "ax.set_xlabel(\"Change in usage relative to mean\")\n",
    "ax.set_xlim(-1,1)\n",
    "\n",
    "ax.set_ylabel(\"Frequency\")\n",
    "\n",
    "ax.spines['right'].set_visible(False)\n",
    "ax.spines['top'].set_visible(False)\n",
    "\n",
    "plt.show()\n"
   ]
  },
  {
   "cell_type": "markdown",
   "metadata": {},
   "source": [
    "#### Selecting significantly differentially-used sites"
   ]
  },
  {
   "cell_type": "code",
   "execution_count": 22,
   "metadata": {},
   "outputs": [
    {
     "name": "stdout",
     "output_type": "stream",
     "text": [
      "Proximal sites         : 4380\n",
      "Baseline usage >= 20%  : 5692\n",
      "Adjusted p-value < 0.05: 7304\n",
      "COMBINED               : 2976\n"
     ]
    }
   ],
   "source": [
    "qval_cutoff = 0.05\n",
    "\n",
    "cond1 = (dapa_data['relative_position'] == 'proximal')\n",
    "cond2 = (dapa_data['usage_interest'] >= 0.2)\n",
    "cond3 = (dapa_data['qval_minlog'] >= -1 * np.log10(qval_cutoff))\n",
    "\n",
    "sig_prox = dapa_data.loc[cond1 & cond2 & cond3].copy()\n",
    "\n",
    "print(\"Proximal sites         :\", cond1.sum())\n",
    "print(\"Baseline usage >= 20%  :\", cond2.sum())\n",
    "print(\"Adjusted p-value < 0.05:\", cond3.sum())\n",
    "print(\"COMBINED               :\", (cond1 & cond2 & cond3).sum())\n"
   ]
  },
  {
   "cell_type": "code",
   "execution_count": 23,
   "metadata": {},
   "outputs": [
    {
     "name": "stdout",
     "output_type": "stream",
     "text": [
      "(-1.0, -0.05]     252\n",
      "(-0.05, 0.05]     612\n",
      "(0.05, 0.25]     1157\n",
      "(0.25, 1.0]       955\n",
      "Name: sigbin, dtype: int64\n",
      "-1     252\n",
      " 0     612\n",
      " 1    1157\n",
      " 2     955\n",
      "Name: sigbinL, dtype: int64\n",
      "(0.25, 1.0]       955\n",
      "(0.05, 0.25]     1157\n",
      "(-0.05, 0.05]     612\n",
      "(-1.0, -0.05]     252\n",
      "Name: sigbinR, dtype: int64\n"
     ]
    }
   ],
   "source": [
    "bins = [-1,-0.05,0.05,0.25,1]\n",
    "labs = np.arange(-1,3,1)\n",
    "\n",
    "sig_prox['sigbin'] = pd.cut(sig_prox['deltaUsage'], bins = bins)\n",
    "print(sig_prox['sigbin'].value_counts(sort = False))\n",
    "\n",
    "sig_prox['sigbinL'] = pd.cut(sig_prox['deltaUsage'], bins = bins, labels = labs)\n",
    "print(sig_prox['sigbinL'].value_counts(sort = False))\n",
    "\n",
    "sigbinR_type = pd.api.types.CategoricalDtype(categories = list(reversed(sorted(sig_prox['sigbin'].unique()))), ordered = True)\n",
    "sig_prox['sigbinR'] = sig_prox['sigbin'].copy().astype(sigbinR_type)\n",
    "print(sig_prox['sigbinR'].value_counts(sort = False))\n"
   ]
  },
  {
   "cell_type": "code",
   "execution_count": 24,
   "metadata": {},
   "outputs": [
    {
     "data": {
      "text/plain": [
       "(0.25, 1.0]      0.320901\n",
       "(0.05, 0.25]     0.388777\n",
       "(-0.05, 0.05]    0.205645\n",
       "(-1.0, -0.05]    0.084677\n",
       "Name: sigbinR, dtype: float64"
      ]
     },
     "execution_count": 24,
     "metadata": {},
     "output_type": "execute_result"
    }
   ],
   "source": [
    "sig_prox['sigbinR'].value_counts(sort = False, normalize = True)"
   ]
  },
  {
   "cell_type": "markdown",
   "metadata": {},
   "source": [
    "#### Find matched distal sites for downstream comparison"
   ]
  },
  {
   "cell_type": "code",
   "execution_count": 25,
   "metadata": {},
   "outputs": [
    {
     "name": "stdout",
     "output_type": "stream",
     "text": [
      "2976\n",
      " 1    1157\n",
      " 2     955\n",
      " 0     612\n",
      "-1     252\n",
      "Name: sigbinL, dtype: int64\n"
     ]
    }
   ],
   "source": [
    "paired_dist = dapa_data.loc[dapa_data['gene'].isin(sig_prox['gene']) & (dapa_data['relative_position'] == 'distal')].copy()\n",
    "print(len(paired_dist))\n",
    "\n",
    "sigbin_dict = dict(zip(sig_prox['gene'], sig_prox['sigbinL']))\n",
    "paired_dist['sigbinL'] = paired_dist['gene'].apply(lambda x : sigbin_dict[x])\n",
    "print(paired_dist['sigbinL'].value_counts())\n"
   ]
  },
  {
   "cell_type": "code",
   "execution_count": 26,
   "metadata": {},
   "outputs": [
    {
     "name": "stdout",
     "output_type": "stream",
     "text": [
      "2976\n",
      " 1    1157\n",
      " 2     955\n",
      " 0     612\n",
      "-1     252\n",
      "Name: sigbinL, dtype: int64\n"
     ]
    }
   ],
   "source": [
    "paired_dist = dapa_data.loc[dapa_data['gene'].isin(sig_prox['gene']) & (dapa_data['relative_position'] == 'distal')].copy()\n",
    "print(len(paired_dist))\n",
    "\n",
    "sigbin_dict = dict(zip(sig_prox['gene'], sig_prox['sigbinL']))\n",
    "paired_dist['sigbinL'] = paired_dist['gene'].apply(lambda x : sigbin_dict[x])\n",
    "print(paired_dist['sigbinL'].value_counts())\n"
   ]
  },
  {
   "cell_type": "markdown",
   "metadata": {},
   "source": [
    "#### Record processed data"
   ]
  },
  {
   "cell_type": "code",
   "execution_count": 27,
   "metadata": {},
   "outputs": [],
   "source": [
    "with open(os.path.join(OUTDIR, 'dapa_data.pickle'), mode = 'wb') as handle:\n",
    "    pickle.dump(dapa_data, handle)\n",
    "\n",
    "with open(os.path.join(OUTDIR, 'dapa_data.significant_proximal_sites.pickle'), mode = 'wb') as handle:\n",
    "    pickle.dump(sig_prox, handle)\n",
    "    \n",
    "with open(os.path.join(OUTDIR, 'dapa_data.paired_distal_sites.pickle'), mode = 'wb') as handle:\n",
    "    pickle.dump(paired_dist, handle)\n",
    "    "
   ]
  },
  {
   "cell_type": "code",
   "execution_count": 28,
   "metadata": {},
   "outputs": [
    {
     "name": "stdout",
     "output_type": "stream",
     "text": [
      "Proximal sites recorded: 2976\n",
      "Distal sites recorded  : 2976\n"
     ]
    }
   ],
   "source": [
    "prox_dict = dict(zip(sig_prox['label'], sig_prox['sigbinL']))\n",
    "dist_dict = dict(zip(paired_dist['label'], paired_dist['sigbinL']))\n",
    "\n",
    "with open(os.path.join(OUTDIR, 'dapa_data.proximal_delta_usage_groups.pickle'), mode = 'wb') as handle:\n",
    "    pickle.dump(prox_dict, handle)\n",
    "\n",
    "with open(os.path.join(OUTDIR, 'dapa_data.distal_delta_usage_groups.pickle'), mode = 'wb') as handle:\n",
    "    pickle.dump(dist_dict, handle)\n",
    "\n",
    "print(\"Proximal sites recorded:\", len(list(prox_dict.keys())))\n",
    "print(\"Distal sites recorded  :\", len(list(dist_dict.keys())))\n"
   ]
  },
  {
   "cell_type": "code",
   "execution_count": 29,
   "metadata": {},
   "outputs": [],
   "source": [
    "sig_prox.sort_values('gene').to_csv(os.path.join(OUTDIR, 'proximal_sites.txt'), sep = \"\\t\", index = False)\n",
    "paired_dist.sort_values('gene').to_csv(os.path.join(OUTDIR, 'distal_sites.txt'), sep = \"\\t\", index = False)\n"
   ]
  },
  {
   "cell_type": "markdown",
   "metadata": {},
   "source": [
    "## Examples of differentially-used sites"
   ]
  },
  {
   "cell_type": "code",
   "execution_count": 30,
   "metadata": {},
   "outputs": [],
   "source": [
    "example_cols = ['chrom','start','end','strand','cluster','gene','feature','reads_cluster_interest','reads_outside_interest','reads_cluster_others','reads_outside_others','usage_interest','usage_others','deltaUsage','odds_ratio','pval','pval_minlog','pair_distance','pred_logit','strength_difference','sigbin']\n"
   ]
  },
  {
   "cell_type": "markdown",
   "metadata": {},
   "source": [
    "#### Strong proximal shift"
   ]
  },
  {
   "cell_type": "code",
   "execution_count": 31,
   "metadata": {},
   "outputs": [
    {
     "data": {
      "text/plain": [
       "chrom                                      VII\n",
       "start                                   611671\n",
       "end                                     611690\n",
       "strand                                       +\n",
       "cluster                   fwd:wt_cluster:35793\n",
       "gene                                   YGR060W\n",
       "feature                                   utr3\n",
       "reads_cluster_interest                   989.5\n",
       "reads_outside_interest                     530\n",
       "reads_cluster_others                       411\n",
       "reads_outside_others                      2820\n",
       "usage_interest                        0.651201\n",
       "usage_others                          0.127205\n",
       "deltaUsage                            0.523996\n",
       "odds_ratio                             12.8099\n",
       "pval                              3.12302e-298\n",
       "pval_minlog                            297.505\n",
       "pair_distance                              132\n",
       "pred_logit                            -1.21437\n",
       "strength_difference                    1.19337\n",
       "sigbin                             (0.25, 1.0]\n",
       "Name: 3428, dtype: object"
      ]
     },
     "execution_count": 31,
     "metadata": {},
     "output_type": "execute_result"
    }
   ],
   "source": [
    "sig_prox.loc[sig_prox['gene'] == 'YGR060W'].iloc[0][example_cols]"
   ]
  },
  {
   "cell_type": "code",
   "execution_count": 32,
   "metadata": {},
   "outputs": [
    {
     "data": {
      "text/plain": [
       "chrom                                     III\n",
       "start                                   26972\n",
       "end                                     27000\n",
       "strand                                      +\n",
       "cluster                   fwd:wt_cluster:8318\n",
       "gene                                  YCL057W\n",
       "feature                                  utr3\n",
       "reads_cluster_interest                   8964\n",
       "reads_outside_interest                    749\n",
       "reads_cluster_others                     5007\n",
       "reads_outside_others                     3976\n",
       "usage_interest                       0.922887\n",
       "usage_others                         0.557386\n",
       "deltaUsage                           0.365501\n",
       "odds_ratio                            9.50361\n",
       "pval                                        0\n",
       "pval_minlog                               inf\n",
       "pair_distance                              56\n",
       "pred_logit                           -3.19507\n",
       "strength_difference                  -1.89161\n",
       "sigbin                            (0.25, 1.0]\n",
       "Name: 864, dtype: object"
      ]
     },
     "execution_count": 32,
     "metadata": {},
     "output_type": "execute_result"
    }
   ],
   "source": [
    "sig_prox.loc[sig_prox['gene'] == 'YCL057W'].iloc[0][example_cols]"
   ]
  },
  {
   "cell_type": "markdown",
   "metadata": {},
   "source": [
    "#### Moderate proximal shift"
   ]
  },
  {
   "cell_type": "code",
   "execution_count": 33,
   "metadata": {},
   "outputs": [
    {
     "data": {
      "text/plain": [
       "chrom                                      XVI\n",
       "start                                   469702\n",
       "end                                     469738\n",
       "strand                                       +\n",
       "cluster                   fwd:wt_cluster:96783\n",
       "gene                                   YPL045W\n",
       "feature                                   utr3\n",
       "reads_cluster_interest                     423\n",
       "reads_outside_interest                     447\n",
       "reads_cluster_others                       396\n",
       "reads_outside_others                       960\n",
       "usage_interest                        0.486207\n",
       "usage_others                          0.292035\n",
       "deltaUsage                            0.194171\n",
       "odds_ratio                             2.29408\n",
       "pval                                2.8543e-20\n",
       "pval_minlog                            19.5445\n",
       "pair_distance                              176\n",
       "pred_logit                            -3.85901\n",
       "strength_difference                  -0.081998\n",
       "sigbin                            (0.05, 0.25]\n",
       "Name: 8708, dtype: object"
      ]
     },
     "execution_count": 33,
     "metadata": {},
     "output_type": "execute_result"
    }
   ],
   "source": [
    "sig_prox.loc[sig_prox['gene'] == 'YPL045W'].iloc[0][example_cols]"
   ]
  },
  {
   "cell_type": "markdown",
   "metadata": {},
   "source": [
    "#### Distal shift"
   ]
  },
  {
   "cell_type": "code",
   "execution_count": 34,
   "metadata": {},
   "outputs": [
    {
     "data": {
      "text/plain": [
       "chrom                                       XV\n",
       "start                                   494520\n",
       "end                                     494544\n",
       "strand                                       +\n",
       "cluster                   fwd:wt_cluster:86804\n",
       "gene                                   YOR091W\n",
       "feature                                   utr3\n",
       "reads_cluster_interest                    2591\n",
       "reads_outside_interest                  1534.5\n",
       "reads_cluster_others                      6403\n",
       "reads_outside_others                    1292.5\n",
       "usage_interest                        0.628045\n",
       "usage_others                          0.832045\n",
       "deltaUsage                              -0.204\n",
       "odds_ratio                            0.340838\n",
       "pval                              2.32991e-135\n",
       "pval_minlog                            134.633\n",
       "pair_distance                              434\n",
       "pred_logit                            -2.90609\n",
       "strength_difference                   -1.72153\n",
       "sigbin                           (-1.0, -0.05]\n",
       "Name: 8162, dtype: object"
      ]
     },
     "execution_count": 34,
     "metadata": {},
     "output_type": "execute_result"
    }
   ],
   "source": [
    "sig_prox.loc[sig_prox['gene'] == 'YOR091W'].iloc[0][example_cols]"
   ]
  },
  {
   "cell_type": "code",
   "execution_count": 35,
   "metadata": {},
   "outputs": [
    {
     "data": {
      "text/plain": [
       "chrom                                      XVI\n",
       "start                                   932946\n",
       "end                                     932971\n",
       "strand                                       +\n",
       "cluster                   fwd:wt_cluster:96818\n",
       "gene                                   YPR196W\n",
       "feature                                   utr3\n",
       "reads_cluster_interest                   566.5\n",
       "reads_outside_interest                  1474.5\n",
       "reads_cluster_others                       432\n",
       "reads_outside_others                       269\n",
       "usage_interest                         0.27756\n",
       "usage_others                          0.616262\n",
       "deltaUsage                           -0.338702\n",
       "odds_ratio                            0.239234\n",
       "pval                               7.50596e-58\n",
       "pval_minlog                            57.1246\n",
       "pair_distance                              239\n",
       "pred_logit                            -1.73744\n",
       "strength_difference                   0.501922\n",
       "sigbin                           (-1.0, -0.05]\n",
       "Name: 9414, dtype: object"
      ]
     },
     "execution_count": 35,
     "metadata": {},
     "output_type": "execute_result"
    }
   ],
   "source": [
    "sig_prox.loc[sig_prox['gene'] == 'YPR196W'].iloc[0][example_cols]"
   ]
  },
  {
   "cell_type": "markdown",
   "metadata": {},
   "source": [
    "## Characterizing differentially-used proximal sites"
   ]
  },
  {
   "cell_type": "code",
   "execution_count": 36,
   "metadata": {},
   "outputs": [
    {
     "data": {
      "image/png": "[encoded data removed]",
      "text/plain": [
       "<Figure size 108x72 with 1 Axes>"
      ]
     },
     "metadata": {
      "needs_background": "light"
     },
     "output_type": "display_data"
    }
   ],
   "source": [
    "fig,ax = plt.subplots(1,1, figsize = (1.5,1))\n",
    "\n",
    "ax.axvline(x = -0.05, color = 'black', linewidth = 0.5, linestyle = 'dashed')\n",
    "ax.axvline(x = +0.05, color = 'black', linewidth = 0.5, linestyle = 'dashed')\n",
    "ax.axvline(x = +0.25, color = 'black', linewidth = 0.5, linestyle = 'dashed')\n",
    "\n",
    "sns.histplot(data = sig_prox, x = 'deltaUsage', binwidth = 0.05, \n",
    "             hue = 'sigbinL', palette = dark_cmap, multiple = 'stack',\n",
    "             edgecolor = 'black', linewidth = 0.25, ax = ax)\n",
    "\n",
    "ax.set_xlabel(\"Change in usage\")\n",
    "\n",
    "ax.set_xlim(-0.75,1)\n",
    "ax.xaxis.set_major_locator(MultipleLocator(0.25))\n",
    "\n",
    "ax.set_ylim(0,600)\n",
    "ax.yaxis.set_major_locator(MultipleLocator(200))\n",
    "\n",
    "ax.get_legend().remove()\n",
    "\n",
    "ax.spines['right'].set_visible(False)\n",
    "ax.spines['top'].set_visible(False)\n",
    "\n",
    "plt.savefig(os.path.join(OUTDIR, 'delta_usage.distribution.svg'), format = 'svg', dpi = 600, transparent = True)\n",
    "plt.show()\n"
   ]
  },
  {
   "cell_type": "code",
   "execution_count": 37,
   "metadata": {},
   "outputs": [
    {
     "data": {
      "image/png": "[encoded data removed]",
      "text/plain": [
       "<Figure size 54x72 with 1 Axes>"
      ]
     },
     "metadata": {
      "needs_background": "light"
     },
     "output_type": "display_data"
    },
    {
     "name": "stdout",
     "output_type": "stream",
     "text": [
      "\n",
      "Corresponding statistics-\n",
      "\tWilcoxon rank sum test for (-1.0,-0.05] vs (-0.05,+0.05] sites:\t  4.045 5.23E-05\n",
      "\tWilcoxon rank sum test for (0.25,1.0] vs (-0.05,+0.05] sites:\t  6.952 3.59E-12\n",
      "\n",
      "Summary data-\n",
      "                count      mean       std       min       25%       50%  \\\n",
      "sigbinR                                                                   \n",
      "(0.25, 1.0]     955.0 -2.488023  1.169277 -5.772046 -3.332057 -2.482141   \n",
      "(0.05, 0.25]   1157.0 -2.264225  1.204769 -5.974615 -3.066422 -2.388459   \n",
      "(-0.05, 0.05]   612.0 -1.986700  1.320411 -5.432456 -2.902337 -2.150423   \n",
      "(-1.0, -0.05]   252.0 -2.378856  1.117302 -5.720830 -3.168545 -2.561627   \n",
      "\n",
      "                    75%       max  \n",
      "sigbinR                            \n",
      "(0.25, 1.0]   -1.786367  1.534299  \n",
      "(0.05, 0.25]  -1.618187  1.974897  \n",
      "(-0.05, 0.05] -1.235184  1.742638  \n",
      "(-1.0, -0.05] -1.755585  1.627056  \n"
     ]
    }
   ],
   "source": [
    "fig,ax = plt.subplots(1,1, figsize = (0.75,1))\n",
    "\n",
    "sns.boxplot(data = sig_prox, \n",
    "            x = 'sigbinR', y = 'pred_logit', \n",
    "            hue = 'sigbinL', palette = dark_cmap, dodge = False,\n",
    "            **boxplot_format, ax = ax)\n",
    "\n",
    "ax.set_xlabel(\"Change in usage\")\n",
    "ax.set_xticklabels(ax.get_xticklabels(), rotation = 45, ha = 'right', va = 'top')\n",
    "\n",
    "ax.set_ylabel(\"PolyaStrength score\")\n",
    "ax.set_ylim(-6,2)\n",
    "ax.yaxis.set_major_locator(MultipleLocator(2))\n",
    "\n",
    "ax.legend(bbox_to_anchor = (1.05,1))\n",
    "\n",
    "ax.spines['right'].set_visible(False)\n",
    "ax.spines['top'].set_visible(False)\n",
    "\n",
    "plt.savefig(os.path.join(OUTDIR, 'delta_usage.strength.svg'), format = 'svg', dpi = 600, transparent = True)\n",
    "plt.show()\n",
    "\n",
    "\n",
    "print(f\"\\nCorresponding statistics-\")\n",
    "\n",
    "stat, pval = st.ranksums(sig_prox.loc[sig_prox['sigbinL'] == 0, 'pred_logit'],\n",
    "                         sig_prox.loc[sig_prox['sigbinL'] == -1,'pred_logit'])\n",
    "print(f\"\\tWilcoxon rank sum test for (-1.0,-0.05] vs (-0.05,+0.05] sites:\\t{stat:7.03f} {pval:8.02E}\")\n",
    "\n",
    "stat, pval = st.ranksums(sig_prox.loc[sig_prox['sigbinL'] == 0, 'pred_logit'],\n",
    "                         sig_prox.loc[sig_prox['sigbinL'] == 2, 'pred_logit'])\n",
    "print(f\"\\tWilcoxon rank sum test for (0.25,1.0] vs (-0.05,+0.05] sites:\\t{stat:7.03f} {pval:8.02E}\")\n",
    "\n",
    "print(\"\\nSummary data-\")\n",
    "print(sig_prox.groupby('sigbinR')['pred_logit'].describe())\n"
   ]
  },
  {
   "cell_type": "code",
   "execution_count": 38,
   "metadata": {},
   "outputs": [
    {
     "data": {
      "image/png": "[encoded data removed]",
      "text/plain": [
       "<Figure size 54x72 with 1 Axes>"
      ]
     },
     "metadata": {
      "needs_background": "light"
     },
     "output_type": "display_data"
    },
    {
     "name": "stdout",
     "output_type": "stream",
     "text": [
      "\n",
      "Corresponding statistics-\n",
      "\tWilcoxon rank sum test for (-1.0,-0.05] vs (-0.05,+0.05] sites:\t -7.596 3.06E-14\n",
      "\tWilcoxon rank sum test for (0.25,1.0] vs (-0.05,+0.05] sites:\t-13.742 5.67E-43\n",
      "\n",
      "Summary data-\n",
      "                count      mean       std       min       25%       50%  \\\n",
      "sigbinR                                                                   \n",
      "(0.25, 1.0]     955.0 -2.393535  1.171423 -5.617917 -3.223494 -2.473913   \n",
      "(0.05, 0.25]   1157.0 -2.711619  1.083445 -6.251997 -3.434259 -2.767081   \n",
      "(-0.05, 0.05]   612.0 -3.195738  1.024254 -6.089285 -3.833724 -3.244801   \n",
      "(-1.0, -0.05]   252.0 -2.636133  1.073731 -5.771442 -3.310312 -2.672638   \n",
      "\n",
      "                    75%       max  \n",
      "sigbinR                            \n",
      "(0.25, 1.0]   -1.729477  2.478335  \n",
      "(0.05, 0.25]  -2.123134  2.198224  \n",
      "(-0.05, 0.05] -2.611363  2.005850  \n",
      "(-1.0, -0.05] -1.994027  1.565659  \n"
     ]
    }
   ],
   "source": [
    "fig,ax = plt.subplots(1,1, figsize = (0.75,1))\n",
    "\n",
    "sns.boxplot(data = sig_prox, \n",
    "            x = 'sigbinR', y = 'strength_paired', \n",
    "            hue = 'sigbinL', palette = dark_cmap, dodge = False,\n",
    "            **boxplot_format, ax = ax)\n",
    "\n",
    "ax.set_xlabel(\"Change in usage\")\n",
    "ax.set_xticklabels(ax.get_xticklabels(), rotation = 45, ha = 'right', va = 'top')\n",
    "\n",
    "ax.set_ylabel(\"PolyaStrength score of paired distal site\")\n",
    "ax.set_ylim(-6,2)\n",
    "ax.yaxis.set_major_locator(MultipleLocator(2))\n",
    "\n",
    "ax.legend(bbox_to_anchor = (1.05,1))\n",
    "\n",
    "ax.spines['right'].set_visible(False)\n",
    "ax.spines['top'].set_visible(False)\n",
    "\n",
    "plt.savefig(os.path.join(OUTDIR, 'delta_usage.strength_paired.svg'), format = 'svg', dpi = 600, transparent = True)\n",
    "plt.show()\n",
    "\n",
    "\n",
    "print(f\"\\nCorresponding statistics-\")\n",
    "\n",
    "stat, pval = st.ranksums(sig_prox.loc[sig_prox['sigbinL'] == 0, 'strength_paired'],\n",
    "                         sig_prox.loc[sig_prox['sigbinL'] == -1,'strength_paired'])\n",
    "print(f\"\\tWilcoxon rank sum test for (-1.0,-0.05] vs (-0.05,+0.05] sites:\\t{stat:7.03f} {pval:8.02E}\")\n",
    "\n",
    "stat, pval = st.ranksums(sig_prox.loc[sig_prox['sigbinL'] == 0, 'strength_paired'],\n",
    "                         sig_prox.loc[sig_prox['sigbinL'] == 2, 'strength_paired'])\n",
    "print(f\"\\tWilcoxon rank sum test for (0.25,1.0] vs (-0.05,+0.05] sites:\\t{stat:7.03f} {pval:8.02E}\")\n",
    "\n",
    "print(\"\\nSummary data-\")\n",
    "print(sig_prox.groupby('sigbinR')['strength_paired'].describe())\n"
   ]
  },
  {
   "cell_type": "code",
   "execution_count": 39,
   "metadata": {
    "scrolled": false
   },
   "outputs": [
    {
     "data": {
      "image/png": "[encoded data removed]",
      "text/plain": [
       "<Figure size 54x72 with 1 Axes>"
      ]
     },
     "metadata": {
      "needs_background": "light"
     },
     "output_type": "display_data"
    },
    {
     "name": "stdout",
     "output_type": "stream",
     "text": [
      "\n",
      "Corresponding statistics-\n",
      "\tWilcoxon rank sum test for (-1.0,-0.05] vs (-0.05,+0.05] sites:\t  7.646 2.07E-14\n",
      "\tWilcoxon rank sum test for (0.25,1.0] vs (-0.05,+0.05] sites:\t 13.270 3.45E-40\n",
      "\n",
      "Summary data-\n",
      "                count      mean       std       min       25%       50%  \\\n",
      "sigbinR                                                                   \n",
      "(0.25, 1.0]     955.0 -0.094488  1.793649 -6.513414 -1.175698 -0.008521   \n",
      "(0.05, 0.25]   1157.0  0.447394  1.750059 -6.523585 -0.617506  0.461363   \n",
      "(-0.05, 0.05]   612.0  1.209039  1.706786 -4.917254  0.056545  1.175453   \n",
      "(-1.0, -0.05]   252.0  0.257277  1.499381 -3.964406 -0.685282  0.167450   \n",
      "\n",
      "                    75%       max  \n",
      "sigbinR                            \n",
      "(0.25, 1.0]    1.137240  5.225696  \n",
      "(0.05, 0.25]   1.488598  6.526084  \n",
      "(-0.05, 0.05]  2.254670  6.043136  \n",
      "(-1.0, -0.05]  1.175524  4.835482  \n"
     ]
    }
   ],
   "source": [
    "fig,ax = plt.subplots(1,1, figsize = (0.75,1))\n",
    "\n",
    "sns.boxplot(data = sig_prox, \n",
    "            x = 'sigbinR', y = 'strength_difference', \n",
    "            hue = 'sigbinL', palette = dark_cmap, dodge = False,\n",
    "            **boxplot_format, ax = ax)\n",
    "\n",
    "ax.set_xlabel(\"Change in usage\")\n",
    "ax.set_xticklabels(ax.get_xticklabels(), rotation = 45, ha = 'right', va = 'top')\n",
    "\n",
    "ax.set_ylabel(\"Difference in strength\\n(proximal - distal)\")\n",
    "ax.set_ylim(-6,6)\n",
    "ax.yaxis.set_major_locator(MultipleLocator(2))\n",
    "\n",
    "ax.legend(bbox_to_anchor = (1.05,1))\n",
    "\n",
    "ax.spines['right'].set_visible(False)\n",
    "ax.spines['top'].set_visible(False)\n",
    "\n",
    "plt.savefig(os.path.join(OUTDIR, 'delta_usage.strength_difference.svg'), format = 'svg', dpi = 600, transparent = True)\n",
    "plt.show()\n",
    "\n",
    "\n",
    "print(f\"\\nCorresponding statistics-\")\n",
    "\n",
    "stat, pval = st.ranksums(sig_prox.loc[sig_prox['sigbinL'] == 0, 'strength_difference'],\n",
    "                         sig_prox.loc[sig_prox['sigbinL'] == -1,'strength_difference'])\n",
    "print(f\"\\tWilcoxon rank sum test for (-1.0,-0.05] vs (-0.05,+0.05] sites:\\t{stat:7.03f} {pval:8.02E}\")\n",
    "\n",
    "stat, pval = st.ranksums(sig_prox.loc[sig_prox['sigbinL'] == 0, 'strength_difference'],\n",
    "                         sig_prox.loc[sig_prox['sigbinL'] == 2, 'strength_difference'])\n",
    "print(f\"\\tWilcoxon rank sum test for (0.25,1.0] vs (-0.05,+0.05] sites:\\t{stat:7.03f} {pval:8.02E}\")\n",
    "\n",
    "print(\"\\nSummary data-\")\n",
    "print(sig_prox.groupby('sigbinR')['strength_difference'].describe())\n"
   ]
  },
  {
   "cell_type": "code",
   "execution_count": 40,
   "metadata": {},
   "outputs": [
    {
     "data": {
      "image/png": "[encoded data removed]",
      "text/plain": [
       "<Figure size 54x72 with 1 Axes>"
      ]
     },
     "metadata": {
      "needs_background": "light"
     },
     "output_type": "display_data"
    },
    {
     "name": "stdout",
     "output_type": "stream",
     "text": [
      "\n",
      "Corresponding statistics-\n",
      "\tWilcoxon rank sum test for (-1.0,-0.05] vs (-0.05,+0.05] sites:\t -9.783 1.33E-22\n",
      "\tWilcoxon rank sum test for (0.25,1.0] vs (-0.05,+0.05] sites:\t  3.539 4.02E-04\n",
      "\n",
      "Summary log data-\n",
      "                count      mean       std      min       25%       50%  \\\n",
      "sigbinR                                                                  \n",
      "(0.25, 1.0]     955.0  1.940099  0.230497  1.69897  1.778151  1.886491   \n",
      "(0.05, 0.25]   1157.0  1.953207  0.232325  1.69897  1.785330  1.892095   \n",
      "(-0.05, 0.05]   612.0  1.992802  0.271336  1.69897  1.799341  1.913814   \n",
      "(-1.0, -0.05]   252.0  2.236732  0.368978  1.70757  1.936994  2.180410   \n",
      "\n",
      "                    75%       max  \n",
      "sigbinR                            \n",
      "(0.25, 1.0]    2.021189  3.404149  \n",
      "(0.05, 0.25]   2.056905  3.401917  \n",
      "(-0.05, 0.05]  2.108055  3.475235  \n",
      "(-1.0, -0.05]  2.501401  3.886773  \n",
      "\n",
      "Summary raw data-\n",
      "                count        mean         std   min   25%    50%     75%  \\\n",
      "sigbinR                                                                    \n",
      "(0.25, 1.0]     955.0  110.340314  174.202124  50.0  60.0   77.0  105.00   \n",
      "(0.05, 0.25]   1157.0  111.208297  142.201398  50.0  61.0   78.0  114.00   \n",
      "(-0.05, 0.05]   612.0  131.666667  191.922490  50.0  63.0   82.0  128.25   \n",
      "(-1.0, -0.05]   252.0  276.880952  542.438226  51.0  86.5  151.5  317.25   \n",
      "\n",
      "                  max  \n",
      "sigbinR                \n",
      "(0.25, 1.0]    2536.0  \n",
      "(0.05, 0.25]   2523.0  \n",
      "(-0.05, 0.05]  2987.0  \n",
      "(-1.0, -0.05]  7705.0  \n"
     ]
    }
   ],
   "source": [
    "fig,ax = plt.subplots(1,1, figsize = (0.75,1))\n",
    "\n",
    "sns.boxplot(data = sig_prox, \n",
    "            x = 'sigbinR', y = 'pair_distance_log10', \n",
    "            hue = 'sigbinL', palette = dark_cmap, dodge = False,\n",
    "            **boxplot_format, ax = ax)\n",
    "\n",
    "ax.set_xlabel(\"Change in usage\")\n",
    "ax.set_xticklabels(ax.get_xticklabels(), rotation = 45, ha = 'right', va = 'top')\n",
    "\n",
    "ax.set_ylabel(\"Distance to distal site (log10)\")\n",
    "ax.set_ylim(1.5,3.5)\n",
    "ax.yaxis.set_major_locator(MultipleLocator(0.5))\n",
    "\n",
    "ax.legend(bbox_to_anchor = (1.05,1))\n",
    "\n",
    "ax.spines['right'].set_visible(False)\n",
    "ax.spines['top'].set_visible(False)\n",
    "\n",
    "plt.savefig(os.path.join(OUTDIR, 'delta_usage.pair_distance.svg'), format = 'svg', dpi = 600, transparent = True)\n",
    "plt.show()\n",
    "\n",
    "\n",
    "print(f\"\\nCorresponding statistics-\")\n",
    "\n",
    "stat, pval = st.ranksums(sig_prox.loc[sig_prox['sigbinL'] == 0, 'pair_distance_log10'],\n",
    "                         sig_prox.loc[sig_prox['sigbinL'] == -1,'pair_distance_log10'])\n",
    "print(f\"\\tWilcoxon rank sum test for (-1.0,-0.05] vs (-0.05,+0.05] sites:\\t{stat:7.03f} {pval:8.02E}\")\n",
    "\n",
    "stat, pval = st.ranksums(sig_prox.loc[sig_prox['sigbinL'] == 0, 'pair_distance_log10'],\n",
    "                         sig_prox.loc[sig_prox['sigbinL'] == 2, 'pair_distance_log10'])\n",
    "print(f\"\\tWilcoxon rank sum test for (0.25,1.0] vs (-0.05,+0.05] sites:\\t{stat:7.03f} {pval:8.02E}\")\n",
    "\n",
    "print(\"\\nSummary log data-\")\n",
    "print(sig_prox.groupby('sigbinR')['pair_distance_log10'].describe())\n",
    "\n",
    "print(\"\\nSummary raw data-\")\n",
    "print(sig_prox.groupby('sigbinR')['pair_distance'].describe())\n"
   ]
  }
 ],
 "metadata": {
  "kernelspec": {
   "display_name": "Python (tf-train)",
   "language": "python",
   "name": "tf-train"
  },
  "language_info": {
   "codemirror_mode": {
    "name": "ipython",
    "version": 3
   },
   "file_extension": ".py",
   "mimetype": "text/x-python",
   "name": "python",
   "nbconvert_exporter": "python",
   "pygments_lexer": "ipython3",
   "version": "3.6.12"
  }
 },
 "nbformat": 4,
 "nbformat_minor": 2
}
