{
 "cells": [
  {
   "cell_type": "markdown",
   "metadata": {},
   "source": [
    "# Differential regulation of APA under diauxic stress\n",
    "\n",
    "**Purpose**: To explore the motif configurations around polyA sites differentially regulated when yeast are under diauxic stress.\n"
   ]
  },
  {
   "cell_type": "code",
   "execution_count": 1,
   "metadata": {},
   "outputs": [],
   "source": [
    "%load_ext autoreload"
   ]
  },
  {
   "cell_type": "code",
   "execution_count": 2,
   "metadata": {},
   "outputs": [],
   "source": [
    "%autoreload 2"
   ]
  },
  {
   "cell_type": "code",
   "execution_count": 3,
   "metadata": {},
   "outputs": [],
   "source": [
    "%run -i notebook_setup.py"
   ]
  },
  {
   "cell_type": "markdown",
   "metadata": {},
   "source": [
    "## IMPORTS AND SETUP"
   ]
  },
  {
   "cell_type": "code",
   "execution_count": 4,
   "metadata": {},
   "outputs": [],
   "source": [
    "from paper_utilities import motifs, cleavage\n",
    "from statsmodels.stats.multitest import multipletests\n"
   ]
  },
  {
   "cell_type": "code",
   "execution_count": 5,
   "metadata": {},
   "outputs": [],
   "source": [
    "species = 'saccharomyces_cerevisiae'\n",
    "config  = 'polyastrength_kmers-6'\n",
    "kmer    = 6\n"
   ]
  },
  {
   "cell_type": "code",
   "execution_count": 6,
   "metadata": {},
   "outputs": [],
   "source": [
    "PROJECT   = \"/projects/b1080/eks/polyadenylation/yeast\"\n",
    "DATADIR   = os.path.join(PROJECT, 'saccharomyces_cerevisiae', 'analysis', 'dapa')\n",
    "MOTDIR    = os.path.join(PROJECT, 'saccharomyces_cerevisiae', 'analysis', 'motif_analysis', 'dapa_motifs')\n",
    "OUTDIR    = os.path.join(PROJECT, 'manuscript', 'analysis', 'differential_apa')\n",
    "RESOURCES = os.path.join(os.path.dirname(OUTDIR), 'resources')\n",
    "os.makedirs(OUTDIR, exist_ok = True)\n"
   ]
  },
  {
   "cell_type": "code",
   "execution_count": 7,
   "metadata": {},
   "outputs": [
    {
     "name": "stdout",
     "output_type": "stream",
     "text": [
      "\n",
      "Number of golden sites: 9725\n",
      "\n",
      "Directory containing motif disruption results: /projects/b1080/eks/polyadenylation/yeast/saccharomyces_cerevisiae/analysis/motif_analysis/motif_disruption/polyastrength_kmers-6\n"
     ]
    }
   ],
   "source": [
    "## Load model configuration information\n",
    "\n",
    "with open(os.path.join(RESOURCES, 'polyastrength_configurations.pickle'), mode = 'rb') as handle:\n",
    "    configurations = pickle.load(handle)\n",
    "\n",
    "gold_sites = configurations[species][config]['golden_lines']\n",
    "print(\"\\nNumber of golden sites:\", gold_sites)\n",
    "\n",
    "mot_dis_dir = os.path.join(PROJECT, species, 'analysis', 'motif_analysis', 'motif_disruption', config)\n",
    "print(\"\\nDirectory containing motif disruption results:\", mot_dis_dir)\n"
   ]
  },
  {
   "cell_type": "code",
   "execution_count": 8,
   "metadata": {},
   "outputs": [],
   "source": [
    "## Load motif family definitions for S. cerevisiae\n",
    "\n",
    "scer_definitions = {'patterns' : {}, 'distance' : {}}\n",
    "\n",
    "# By pattern - we only look at pattern families for 6mers\n",
    "with open(os.path.join(RESOURCES, f'motif_definitions.scer.6mers.patterns.pickle'), mode = 'rb') as handle:\n",
    "    scer_definitions['patterns'][6] = pickle.load(handle)\n",
    "    \n",
    "scer_definitions['patterns'][5] = {'family':{}}\n",
    "scer_definitions['patterns'][4] = {'family':{}}\n",
    "\n",
    "# By Hamming distance\n",
    "for kmer in [4,5,6]:\n",
    "    with open(os.path.join(RESOURCES, f'motif_definitions.scer.{kmer}mers.distance.pickle'), mode = 'rb') as handle:\n",
    "        scer_definitions['distance'][kmer] = pickle.load(handle)\n"
   ]
  },
  {
   "cell_type": "code",
   "execution_count": 9,
   "metadata": {},
   "outputs": [
    {
     "name": "stdout",
     "output_type": "stream",
     "text": [
      "Significant motifs = 246\n"
     ]
    }
   ],
   "source": [
    "## Load significant motifs for the S. cerevisiae PolyaStrength model\n",
    "\n",
    "with open(os.path.join(RESOURCES, \"polyastrength_motifs.significant_motifs.pickle\"), mode = 'rb') as handle:\n",
    "    significant_motifs = pickle.load(handle)\n",
    "\n",
    "sigmots = significant_motifs['saccharomyces_cerevisiae']['polyastrength']['polyastrength_kmers-6']\n",
    "print(f\"Significant motifs = {len(sigmots)}\")\n"
   ]
  },
  {
   "cell_type": "code",
   "execution_count": 10,
   "metadata": {},
   "outputs": [],
   "source": [
    "with open(os.path.join(RESOURCES, 'polyastrength_motifs.family_profiles.pickle'), mode = 'rb') as handle:\n",
    "    mfam_importance = pickle.load(handle)\n",
    "    "
   ]
  },
  {
   "cell_type": "code",
   "execution_count": 11,
   "metadata": {},
   "outputs": [
    {
     "name": "stdout",
     "output_type": "stream",
     "text": [
      "Significant proximal sites: 2976\n",
      "Significant distal sites  : 2976\n"
     ]
    }
   ],
   "source": [
    "## Load previously processed data\n",
    "\n",
    "with open(os.path.join(OUTDIR, 'dapa_data.significant_proximal_sites.pickle'), mode = 'rb') as handle:\n",
    "    sig_prox = pickle.load(handle)\n",
    "    \n",
    "with open(os.path.join(OUTDIR, 'dapa_data.paired_distal_sites.pickle'), mode = 'rb') as handle:\n",
    "    sig_dist = pickle.load(handle)\n",
    "    \n",
    "print(f\"Significant proximal sites: {len(sig_prox)}\")\n",
    "print(f\"Significant distal sites  : {len(sig_dist)}\")\n",
    "    "
   ]
  },
  {
   "cell_type": "code",
   "execution_count": 12,
   "metadata": {},
   "outputs": [],
   "source": [
    "boxplot_format = {\n",
    "    'color'        : 'lightgray',\n",
    "    'boxprops'     : {'edgecolor' : 'black', 'linewidth' : 0.5},\n",
    "    'medianprops'  : {'color' : 'black', 'linewidth' : 0.5},\n",
    "    'whiskerprops' : {'color' : 'black', 'linewidth' : 0.5},\n",
    "    'capprops'     : {'color' : 'black', 'linewidth' : 0.5},\n",
    "    'flierprops'   : {'color' : 'black'},\n",
    "    'showfliers'   : False\n",
    "}"
   ]
  },
  {
   "cell_type": "markdown",
   "metadata": {},
   "source": [
    "## ANALYSIS"
   ]
  },
  {
   "cell_type": "code",
   "execution_count": 13,
   "metadata": {},
   "outputs": [],
   "source": [
    "family_cmap = {\n",
    "    'A-rich'     : '#2278B5',\n",
    "    'T-rich'     : '#2FA148',\n",
    "    'TA/TA-rich' : '#D62A28',\n",
    "    'Other'      : '#F7F8F8',\n",
    "    'NA'         : '#F7F8F8',\n",
    "}\n",
    "\n",
    "light_cmap = {\n",
    "    -1: '#548fb3',\n",
    "    0 : '#d6e4ec', \n",
    "    1 : '#f6ddce', \n",
    "    2 : '#c56d5f'\n",
    "}\n",
    "\n",
    "dark_cmap = {\n",
    "    -1: '#548fb3',\n",
    "    0 : '#808080', \n",
    "    1 : '#f6ddce', \n",
    "    2 : '#c56d5f'\n",
    "}"
   ]
  },
  {
   "cell_type": "markdown",
   "metadata": {},
   "source": [
    "### Identify motif family peak regions"
   ]
  },
  {
   "cell_type": "markdown",
   "metadata": {},
   "source": [
    "#### Define optimal configuration of motifs based on peak definition plots"
   ]
  },
  {
   "cell_type": "code",
   "execution_count": 14,
   "metadata": {},
   "outputs": [],
   "source": [
    "ideal_mot_config = {\n",
    "    'EE' : {\n",
    "        'motifs' : sorted(set(itertools.chain.from_iterable([[m for m in scer_definitions['distance'][6]['priority'][mfam] if (m in sigmots)] for mfam in ['TA/TA-rich_d0','TA/TA-rich_d1','TA/TA-rich_d2']]))),\n",
    "        'region' : (-90,-25),\n",
    "    },\n",
    "    'PE' : {\n",
    "        'motifs' : sorted(set(itertools.chain.from_iterable([[m for m in scer_definitions['distance'][6]['priority'][mfam] if (m in sigmots)] for mfam in ['A-rich_d0','A-rich_d1','A-rich_d2']]))),\n",
    "        'region' : (-25,-15),\n",
    "    },\n",
    "    'UF' : {\n",
    "        'motifs' : sorted(set(itertools.chain.from_iterable([[m for m in scer_definitions['distance'][6]['priority'][mfam] if (m in sigmots)] for mfam in ['T-rich_d0','T-rich_d1','T-rich_d2']]))),\n",
    "        'region' : (-15,-6),\n",
    "    },\n",
    "    'DF' : {\n",
    "        'motifs' : sorted(set(itertools.chain.from_iterable([[m for m in scer_definitions['distance'][6]['priority'][mfam] if (m in sigmots)] for mfam in ['T-rich_d0','T-rich_d1','T-rich_d2']]))),\n",
    "        'region' : (2,15),\n",
    "    },\n",
    "}\n"
   ]
  },
  {
   "cell_type": "markdown",
   "metadata": {},
   "source": [
    "## Enriched motifs in stress-regulated polyA sites"
   ]
  },
  {
   "cell_type": "markdown",
   "metadata": {},
   "source": [
    "### Proximal sites"
   ]
  },
  {
   "cell_type": "markdown",
   "metadata": {},
   "source": [
    "#### Tabulate motif positions and frequency in key regions"
   ]
  },
  {
   "cell_type": "code",
   "execution_count": 15,
   "metadata": {},
   "outputs": [],
   "source": [
    "sig_prox['idxs_EE'] = sig_prox['sequence'].apply(lambda x : motifs.count_motifs(x[:250], ideal_mot_config['EE']['motifs'], overlapping = False, preference = 'max', method = 'equal', count_only = False, index_only = True))\n",
    "sig_prox['idxs_PE'] = sig_prox['sequence'].apply(lambda x : motifs.count_motifs(x[:250], ideal_mot_config['PE']['motifs'], overlapping = False, preference = 'max', method = 'equal', count_only = False, index_only = True))\n",
    "sig_prox['idxs_UF'] = sig_prox['sequence'].apply(lambda x : motifs.count_motifs(x[:250], ideal_mot_config['UF']['motifs'], overlapping = False, preference = 'max', method = 'equal', count_only = False, index_only = True))\n",
    "sig_prox['idxs_DF'] = sig_prox['sequence'].apply(lambda x : 250 + motifs.count_motifs(x[250:], ideal_mot_config['DF']['motifs'], overlapping = False, preference = 'min', method = 'equal', count_only = False, index_only = True))\n"
   ]
  },
  {
   "cell_type": "code",
   "execution_count": 16,
   "metadata": {},
   "outputs": [],
   "source": [
    "sig_prox['count_EE'] = sig_prox.apply(lambda row : np.sum([((row['ctr_cleavage']+ideal_mot_config['EE']['region'][0]) <= x <= (row['ctr_cleavage']+ideal_mot_config['EE']['region'][1])) for x in row['idxs_EE']]), axis = 1)\n",
    "sig_prox['count_PE'] = sig_prox.apply(lambda row : np.sum([((row['ctr_cleavage']+ideal_mot_config['PE']['region'][0]) <= x <= (row['ctr_cleavage']+ideal_mot_config['PE']['region'][1])) for x in row['idxs_PE']]), axis = 1)\n",
    "sig_prox['count_UF'] = sig_prox.apply(lambda row : np.sum([((row['ctr_cleavage']+ideal_mot_config['UF']['region'][0]) <= x <= (row['ctr_cleavage']+ideal_mot_config['UF']['region'][1])) for x in row['idxs_UF']]), axis = 1)\n",
    "sig_prox['count_DF'] = sig_prox.apply(lambda row : np.sum([((row['ctr_cleavage']+ideal_mot_config['DF']['region'][0]) <= x <= (row['ctr_cleavage']+ideal_mot_config['DF']['region'][1])) for x in row['idxs_DF']]), axis = 1)\n"
   ]
  },
  {
   "cell_type": "markdown",
   "metadata": {},
   "source": [
    "#### Motif counts in each region by usage group"
   ]
  },
  {
   "cell_type": "code",
   "execution_count": 17,
   "metadata": {
    "scrolled": false
   },
   "outputs": [
    {
     "data": {
      "image/png": "[encoded data removed]",
      "text/plain": [
       "<Figure size 36x72 with 1 Axes>"
      ]
     },
     "metadata": {
      "needs_background": "light"
     },
     "output_type": "display_data"
    },
    {
     "name": "stdout",
     "output_type": "stream",
     "text": [
      "Chi2 test for independence across stress groups\n",
      "\tGroups [0, 2]\t2.61E-16\n"
     ]
    },
    {
     "data": {
      "image/png": "[encoded data removed]",
      "text/plain": [
       "<Figure size 36x72 with 1 Axes>"
      ]
     },
     "metadata": {
      "needs_background": "light"
     },
     "output_type": "display_data"
    },
    {
     "name": "stdout",
     "output_type": "stream",
     "text": [
      "Chi2 test for independence across stress groups\n",
      "\tGroups [0, 2]\t2.80E-02\n"
     ]
    },
    {
     "data": {
      "image/png": "[encoded data removed]",
      "text/plain": [
       "<Figure size 36x72 with 1 Axes>"
      ]
     },
     "metadata": {
      "needs_background": "light"
     },
     "output_type": "display_data"
    },
    {
     "name": "stdout",
     "output_type": "stream",
     "text": [
      "Chi2 test for independence across stress groups\n",
      "\tGroups [0, 2]\t6.89E-03\n"
     ]
    },
    {
     "data": {
      "image/png": "[encoded data removed]",
      "text/plain": [
       "<Figure size 36x72 with 1 Axes>"
      ]
     },
     "metadata": {
      "needs_background": "light"
     },
     "output_type": "display_data"
    },
    {
     "name": "stdout",
     "output_type": "stream",
     "text": [
      "Chi2 test for independence across stress groups\n",
      "\tGroups [0, 2]\t2.73E-01\n"
     ]
    }
   ],
   "source": [
    "cap = 3\n",
    "groups = [0,2]\n",
    "\n",
    "for (cvar,ylim,ytickint) in zip([c for c in sig_prox.columns if (c.startswith('count_'))], [100,20,20,40], [25,5,5,10]):\n",
    "    \n",
    "    mvar = cvar.replace('count_','maxcount_')\n",
    "    \n",
    "    sig_prox[mvar] = sig_prox[cvar]\n",
    "    sig_prox.loc[sig_prox[cvar] > cap, mvar] = cap\n",
    "    \n",
    "    cdata = sig_prox.loc[sig_prox['sigbinL'].isin(groups)].groupby(['sigbinL',mvar]).size().reset_index(name = 'counts')\n",
    "    cdata['prop'] = cdata['counts'] / cdata.groupby('sigbinL')['counts'].transform('sum') * 100\n",
    "\n",
    "    ccounts = cdata.pivot(index = 'sigbinL', columns = mvar, values = 'prop').fillna(0)\n",
    "\n",
    "    fig,ax = plt.subplots(1,1, figsize = (0.5,1))\n",
    "\n",
    "    labels = ccounts.index.astype(str).values\n",
    "    bottoms = np.zeros((len(ccounts)))\n",
    "    color_list = sns.color_palette('rainbow', cap+1)\n",
    "\n",
    "    for c in ccounts.columns[::-1]:\n",
    "        heights = ccounts[[c]].to_numpy().flatten()\n",
    "        ax.bar(labels, heights, bottom = bottoms, label = c, color = color_list[c], edgecolor = 'black', linewidth = 0.5)\n",
    "        bottoms = bottoms + heights\n",
    "    \n",
    "    ax.set_ylim(0,100)\n",
    "    ax.yaxis.set_major_locator(MultipleLocator(25))\n",
    "    ax.yaxis.set_major_formatter(PercentFormatter(decimals=0))\n",
    "\n",
    "    ax.set_xlabel(\"Usage group\")\n",
    "    ax.set_ylabel(f\"Fraction of proximal sites with {cvar.split('_')[1]} (%)\")\n",
    "\n",
    "    ax.legend(bbox_to_anchor = (1.05,1))\n",
    "\n",
    "    ax.spines['right'].set_visible(False)\n",
    "    ax.spines['top'].set_visible(False)\n",
    "\n",
    "    plt.savefig(os.path.join(OUTDIR, f'presence_elements.by_stress.proximal_sites.{mvar}.group_{groups[0]}_vs_{groups[1]}.svg'), format = 'svg', dpi = 600, transparent = True)\n",
    "    plt.show()\n",
    "\n",
    "\n",
    "    print(\"Chi2 test for independence across stress groups\")\n",
    "\n",
    "    cwide = cdata.pivot(index = mvar, columns = 'sigbinL', values = 'counts').fillna(0).to_numpy()\n",
    "    print(f\"\\tGroups {groups}\\t{st.chi2_contingency(cwide)[1]:.02E}\")\n"
   ]
  },
  {
   "cell_type": "markdown",
   "metadata": {},
   "source": [
    "#### Individual motif enrichment"
   ]
  },
  {
   "cell_type": "code",
   "execution_count": 18,
   "metadata": {
    "scrolled": false
   },
   "outputs": [
    {
     "name": "stderr",
     "output_type": "stream",
     "text": [
      "/home/esk863/.local/lib/python3.6/site-packages/pandas/core/series.py:853: RuntimeWarning: divide by zero encountered in log2\n",
      "  result = getattr(ufunc, method)(*inputs, **kwargs)\n"
     ]
    },
    {
     "name": "stdout",
     "output_type": "stream",
     "text": [
      "\n",
      "Region: (-90, -25)\n",
      "\n",
      " Enriched in ALT group: 2\n",
      "Empty DataFrame\n",
      "Columns: [testMotif, odds_ratio_log2, pvalue_minlog10, qvalue]\n",
      "Index: []\n",
      "\n",
      " Enriched in REF group: 0\n",
      "     testMotif  odds_ratio_log2  pvalue_minlog10    qvalue\n",
      "190     TATATA        -0.556490         6.751355  0.000692\n",
      "1500    CATCTA        -2.128167         4.592709  0.049875\n"
     ]
    },
    {
     "data": {
      "image/png": "[encoded data removed]",
      "text/plain": [
       "<Figure size 82.8x82.8 with 1 Axes>"
      ]
     },
     "metadata": {
      "needs_background": "light"
     },
     "output_type": "display_data"
    },
    {
     "name": "stderr",
     "output_type": "stream",
     "text": [
      "/home/esk863/.local/lib/python3.6/site-packages/pandas/core/series.py:853: RuntimeWarning: divide by zero encountered in log2\n",
      "  result = getattr(ufunc, method)(*inputs, **kwargs)\n"
     ]
    },
    {
     "name": "stdout",
     "output_type": "stream",
     "text": [
      "\n",
      "Region: (-25, -15)\n",
      "\n",
      " Enriched in ALT group: 2\n",
      "Empty DataFrame\n",
      "Columns: [testMotif, odds_ratio_log2, pvalue_minlog10, qvalue]\n",
      "Index: []\n",
      "\n",
      " Enriched in REF group: 0\n",
      "Empty DataFrame\n",
      "Columns: [testMotif, odds_ratio_log2, pvalue_minlog10, qvalue]\n",
      "Index: []\n"
     ]
    },
    {
     "data": {
      "image/png": "[encoded data removed]",
      "text/plain": [
       "<Figure size 82.8x82.8 with 1 Axes>"
      ]
     },
     "metadata": {
      "needs_background": "light"
     },
     "output_type": "display_data"
    },
    {
     "name": "stderr",
     "output_type": "stream",
     "text": [
      "/home/esk863/.local/lib/python3.6/site-packages/pandas/core/series.py:853: RuntimeWarning: divide by zero encountered in log2\n",
      "  result = getattr(ufunc, method)(*inputs, **kwargs)\n"
     ]
    },
    {
     "name": "stdout",
     "output_type": "stream",
     "text": [
      "\n",
      "Region: (-15, -6)\n",
      "\n",
      " Enriched in ALT group: 2\n",
      "Empty DataFrame\n",
      "Columns: [testMotif, odds_ratio_log2, pvalue_minlog10, qvalue]\n",
      "Index: []\n",
      "\n",
      " Enriched in REF group: 0\n",
      "Empty DataFrame\n",
      "Columns: [testMotif, odds_ratio_log2, pvalue_minlog10, qvalue]\n",
      "Index: []\n"
     ]
    },
    {
     "data": {
      "image/png": "[encoded data removed]",
      "text/plain": [
       "<Figure size 82.8x82.8 with 1 Axes>"
      ]
     },
     "metadata": {
      "needs_background": "light"
     },
     "output_type": "display_data"
    },
    {
     "name": "stderr",
     "output_type": "stream",
     "text": [
      "/home/esk863/.local/lib/python3.6/site-packages/pandas/core/series.py:853: RuntimeWarning: divide by zero encountered in log2\n",
      "  result = getattr(ufunc, method)(*inputs, **kwargs)\n"
     ]
    },
    {
     "name": "stdout",
     "output_type": "stream",
     "text": [
      "\n",
      "Region: (2, 15)\n",
      "\n",
      " Enriched in ALT group: 2\n",
      "    testMotif  odds_ratio_log2  pvalue_minlog10        qvalue\n",
      "190    TATATA         2.661208        13.010252  2.769836e-10\n",
      "191    ATATAT         2.359160        11.543282  4.058768e-09\n",
      "\n",
      " Enriched in REF group: 0\n",
      "Empty DataFrame\n",
      "Columns: [testMotif, odds_ratio_log2, pvalue_minlog10, qvalue]\n",
      "Index: []\n"
     ]
    },
    {
     "data": {
      "image/png": "[encoded data removed]",
      "text/plain": [
       "<Figure size 82.8x82.8 with 1 Axes>"
      ]
     },
     "metadata": {
      "needs_background": "light"
     },
     "output_type": "display_data"
    },
    {
     "name": "stdout",
     "output_type": "stream",
     "text": [
      "(9845, 12)\n"
     ]
    }
   ],
   "source": [
    "kmer = 6\n",
    "site = 'proximal'\n",
    "group = 'dapa'\n",
    "ref_group = 0\n",
    "alt_group = 2\n",
    "\n",
    "region_results = []\n",
    "regions = [v['region'] for k,v in ideal_mot_config.items()]\n",
    "\n",
    "for region in regions:\n",
    "    \n",
    "    ## Load and process data\n",
    "\n",
    "    dt = (pd.read_csv(os.path.join(MOTDIR, f'dapa_motifs.{site}_sites.{kmer}mers.enrichment_{alt_group}_vs_{ref_group}.region_{region[0]}_{region[1]}.txt'), sep = \"\\t\")\n",
    "          .replace([np.inf, -np.inf], np.nan).dropna())\n",
    "    \n",
    "    dt['odds_ratio_log2'] = np.log2(dt['odds_ratio'])\n",
    "    dt['pvalue_minlog10'] = -1 * np.log10(dt['pvalue'])\n",
    "    \n",
    "    dt['qvalue'] = multipletests(dt['pvalue'], alpha = 0.05, method = 'fdr_bh')[1]\n",
    "    dt['qvalue_minlog10']  = -1 * np.log10(dt['qvalue'])\n",
    "    \n",
    "    dt = dt.replace([np.inf, -np.inf], np.nan).dropna()\n",
    "    region_results.append(dt)\n",
    "    \n",
    "    \n",
    "    ## Make volcano plot\n",
    "    \n",
    "    fig,ax = plt.subplots(1,1, figsize = (1.15,1.15))\n",
    "    \n",
    "    sns.scatterplot(data = dt,  x = 'odds_ratio_log2', y = 'pvalue_minlog10', \n",
    "                    s = 10, color = 'lightgray', edgecolor = 'darkgray', alpha = 0.5, \n",
    "                    rasterized = True, ax = ax)\n",
    "    \n",
    "    xlim = math.ceil(max(abs(dt['odds_ratio_log2'])))\n",
    "    ax.set_xlim((-xlim,xlim))\n",
    "    ax.xaxis.set_major_locator(MultipleLocator(1))\n",
    "\n",
    "    ax.set_ylim(0,math.ceil(max(dt['pvalue_minlog10'])/ 2) * 2)\n",
    "    ax.yaxis.set_major_locator(MultipleLocator(2))\n",
    "    \n",
    "    ax.set_xlabel(\"Log2(Odds Ratio)\")\n",
    "    ax.set_ylabel(\"-Log10(P-value)\")\n",
    "\n",
    "    ## Annotate plots with significant motifs\n",
    "    \n",
    "    print(\"\\nRegion:\", region)\n",
    "    \n",
    "    cond_sig = (dt['qvalue'] < 0.05)\n",
    "    pos_sig = dt.loc[cond_sig & (dt['odds_ratio_log2'] > 0)]\n",
    "    neg_sig = dt.loc[cond_sig & (dt['odds_ratio_log2'] < 0)]\n",
    "    \n",
    "    print(\"\\n Enriched in ALT group:\", alt_group)\n",
    "    print(pos_sig[['testMotif','odds_ratio_log2', 'pvalue_minlog10', 'qvalue']].sort_values('pvalue_minlog10', ascending = False))\n",
    "    \n",
    "    print(\"\\n Enriched in REF group:\", ref_group)\n",
    "    print(neg_sig[['testMotif','odds_ratio_log2', 'pvalue_minlog10', 'qvalue']].sort_values('pvalue_minlog10', ascending = False))\n",
    "    \n",
    "    for i,dtrow in dt.loc[cond_sig].iterrows():\n",
    "        \n",
    "        if (dtrow['odds_ratio_log2'] > 0):\n",
    "            ax.scatter(x = dtrow['odds_ratio_log2'], y = dtrow['pvalue_minlog10'], s = 10, color = dark_cmap[alt_group], edgecolor = 'black', linewidths = 0.5)\n",
    "        else:\n",
    "            ax.scatter(x = dtrow['odds_ratio_log2'], y = dtrow['pvalue_minlog10'], s = 10, color = dark_cmap[ref_group], edgecolor = 'black', linewidths = 0.5)\n",
    "\n",
    "    plt.savefig(os.path.join(OUTDIR, f'dapa_motifs.{site}_sites.{kmer}mers.enrichment_{alt_group}_vs_{ref_group}.region_scatter_{region}.svg'), format = 'svg', dpi = 600, transparent = True)\n",
    "    plt.show()\n",
    "\n",
    "dapa_results = pd.concat(region_results, ignore_index = True, sort = False)\n",
    "print(dapa_results.shape)\n"
   ]
  },
  {
   "cell_type": "code",
   "execution_count": 19,
   "metadata": {},
   "outputs": [
    {
     "name": "stdout",
     "output_type": "stream",
     "text": [
      "\n",
      "Region: (-90, -25)\n",
      "\n",
      " Enriched in ALT group: 2\n",
      "    testMotif  odds_ratio_log2  pvalue_minlog10    qvalue\n",
      "546     GAAGA         0.933996         3.816822  0.019516\n",
      "\n",
      " Enriched in REF group: 0\n",
      "    testMotif  odds_ratio_log2  pvalue_minlog10    qvalue\n",
      "175     ATATA        -0.430977         6.909106  0.000126\n",
      "174     TATAT        -0.392747         5.607001  0.001266\n",
      "190     GTATA        -0.624359         5.058774  0.002981\n",
      "189     TGTAT        -0.616038         4.717100  0.004587\n",
      "182     ACATA        -0.591337         4.649793  0.004587\n",
      "322     TGTAC        -0.947109         3.990203  0.017456\n",
      "202     ATGTA        -0.535820         3.828705  0.019516\n",
      "181     TACAT        -0.527605         3.685807  0.021454\n",
      "677     CATAC        -0.865716         3.678799  0.021454\n",
      "201     TATGT        -0.523677         3.354152  0.041187\n"
     ]
    },
    {
     "data": {
      "image/png": "[encoded data removed]",
      "text/plain": [
       "<Figure size 82.8x82.8 with 1 Axes>"
      ]
     },
     "metadata": {
      "needs_background": "light"
     },
     "output_type": "display_data"
    },
    {
     "name": "stderr",
     "output_type": "stream",
     "text": [
      "/home/esk863/.local/lib/python3.6/site-packages/pandas/core/series.py:853: RuntimeWarning: divide by zero encountered in log2\n",
      "  result = getattr(ufunc, method)(*inputs, **kwargs)\n"
     ]
    },
    {
     "name": "stdout",
     "output_type": "stream",
     "text": [
      "\n",
      "Region: (-25, -15)\n",
      "\n",
      " Enriched in ALT group: 2\n",
      "Empty DataFrame\n",
      "Columns: [testMotif, odds_ratio_log2, pvalue_minlog10, qvalue]\n",
      "Index: []\n",
      "\n",
      " Enriched in REF group: 0\n",
      "Empty DataFrame\n",
      "Columns: [testMotif, odds_ratio_log2, pvalue_minlog10, qvalue]\n",
      "Index: []\n"
     ]
    },
    {
     "data": {
      "image/png": "[encoded data removed]",
      "text/plain": [
       "<Figure size 82.8x82.8 with 1 Axes>"
      ]
     },
     "metadata": {
      "needs_background": "light"
     },
     "output_type": "display_data"
    },
    {
     "name": "stderr",
     "output_type": "stream",
     "text": [
      "/home/esk863/.local/lib/python3.6/site-packages/pandas/core/series.py:853: RuntimeWarning: divide by zero encountered in log2\n",
      "  result = getattr(ufunc, method)(*inputs, **kwargs)\n"
     ]
    },
    {
     "name": "stdout",
     "output_type": "stream",
     "text": [
      "\n",
      "Region: (-15, -6)\n",
      "\n",
      " Enriched in ALT group: 2\n",
      "Empty DataFrame\n",
      "Columns: [testMotif, odds_ratio_log2, pvalue_minlog10, qvalue]\n",
      "Index: []\n",
      "\n",
      " Enriched in REF group: 0\n",
      "Empty DataFrame\n",
      "Columns: [testMotif, odds_ratio_log2, pvalue_minlog10, qvalue]\n",
      "Index: []\n"
     ]
    },
    {
     "data": {
      "image/png": "[encoded data removed]",
      "text/plain": [
       "<Figure size 82.8x82.8 with 1 Axes>"
      ]
     },
     "metadata": {
      "needs_background": "light"
     },
     "output_type": "display_data"
    },
    {
     "name": "stderr",
     "output_type": "stream",
     "text": [
      "/home/esk863/.local/lib/python3.6/site-packages/pandas/core/series.py:853: RuntimeWarning: divide by zero encountered in log2\n",
      "  result = getattr(ufunc, method)(*inputs, **kwargs)\n"
     ]
    },
    {
     "name": "stdout",
     "output_type": "stream",
     "text": [
      "\n",
      "Region: (2, 15)\n",
      "\n",
      " Enriched in ALT group: 2\n",
      "    testMotif  odds_ratio_log2  pvalue_minlog10        qvalue\n",
      "175     ATATA         1.731647        12.150062  7.028903e-10\n",
      "174     TATAT         1.570260        11.828667  7.366347e-10\n",
      "193     TAAAT         2.099969         4.791565  5.348887e-03\n",
      "182     ACATA         1.785769         3.992710  2.524522e-02\n",
      "\n",
      " Enriched in REF group: 0\n",
      "Empty DataFrame\n",
      "Columns: [testMotif, odds_ratio_log2, pvalue_minlog10, qvalue]\n",
      "Index: []\n"
     ]
    },
    {
     "data": {
      "image/png": "[encoded data removed]",
      "text/plain": [
       "<Figure size 82.8x82.8 with 1 Axes>"
      ]
     },
     "metadata": {
      "needs_background": "light"
     },
     "output_type": "display_data"
    },
    {
     "name": "stdout",
     "output_type": "stream",
     "text": [
      "(3733, 12)\n"
     ]
    }
   ],
   "source": [
    "kmer = 5\n",
    "site = 'proximal'\n",
    "group = 'dapa'\n",
    "ref_group = 0\n",
    "alt_group = 2\n",
    "\n",
    "region_results = []\n",
    "regions = [v['region'] for k,v in ideal_mot_config.items()]\n",
    "\n",
    "for region in regions:\n",
    "    \n",
    "    ## Load and process data\n",
    "\n",
    "    dt = (pd.read_csv(os.path.join(MOTDIR, f'dapa_motifs.{site}_sites.{kmer}mers.enrichment_{alt_group}_vs_{ref_group}.region_{region[0]}_{region[1]}.txt'), sep = \"\\t\")\n",
    "          .replace([np.inf, -np.inf], np.nan).dropna())\n",
    "    \n",
    "    dt['odds_ratio_log2'] = np.log2(dt['odds_ratio'])\n",
    "    dt['pvalue_minlog10'] = -1 * np.log10(dt['pvalue'])\n",
    "    \n",
    "    dt['qvalue'] = multipletests(dt['pvalue'], alpha = 0.05, method = 'fdr_bh')[1]\n",
    "    dt['qvalue_minlog10']  = -1 * np.log10(dt['qvalue'])\n",
    "    \n",
    "    dt = dt.replace([np.inf, -np.inf], np.nan).dropna()\n",
    "    region_results.append(dt)\n",
    "    \n",
    "    \n",
    "    ## Make volcano plot\n",
    "    \n",
    "    fig,ax = plt.subplots(1,1, figsize = (1.15,1.15))\n",
    "    \n",
    "    sns.scatterplot(data = dt,  x = 'odds_ratio_log2', y = 'pvalue_minlog10', \n",
    "                    s = 10, color = 'lightgray', edgecolor = 'darkgray', alpha = 0.5, \n",
    "                    rasterized = True, ax = ax)\n",
    "    \n",
    "    xlim = math.ceil(max(abs(dt['odds_ratio_log2'])))\n",
    "    ax.set_xlim((-xlim,xlim))\n",
    "    ax.xaxis.set_major_locator(MultipleLocator(1))\n",
    "\n",
    "    ax.set_ylim(0,math.ceil(max(dt['pvalue_minlog10'])/ 2) * 2)\n",
    "    ax.yaxis.set_major_locator(MultipleLocator(2))\n",
    "    \n",
    "    ax.set_xlabel(\"Log2(Odds Ratio)\")\n",
    "    ax.set_ylabel(\"-Log10(P-value)\")\n",
    "\n",
    "    ## Annotate plots with significant motifs\n",
    "    \n",
    "    print(\"\\nRegion:\", region)\n",
    "    \n",
    "    cond_sig = (dt['qvalue'] < 0.05)\n",
    "    pos_sig = dt.loc[cond_sig & (dt['odds_ratio_log2'] > 0)]\n",
    "    neg_sig = dt.loc[cond_sig & (dt['odds_ratio_log2'] < 0)]\n",
    "    \n",
    "    print(\"\\n Enriched in ALT group:\", alt_group)\n",
    "    print(pos_sig[['testMotif','odds_ratio_log2', 'pvalue_minlog10', 'qvalue']].sort_values('pvalue_minlog10', ascending = False))\n",
    "    \n",
    "    print(\"\\n Enriched in REF group:\", ref_group)\n",
    "    print(neg_sig[['testMotif','odds_ratio_log2', 'pvalue_minlog10', 'qvalue']].sort_values('pvalue_minlog10', ascending = False))\n",
    "    \n",
    "    for i,dtrow in dt.loc[cond_sig].iterrows():\n",
    "        \n",
    "        if (dtrow['odds_ratio_log2'] > 0):\n",
    "            ax.scatter(x = dtrow['odds_ratio_log2'], y = dtrow['pvalue_minlog10'], s = 10, color = dark_cmap[alt_group], edgecolor = 'black', linewidths = 0.5)\n",
    "        else:\n",
    "            ax.scatter(x = dtrow['odds_ratio_log2'], y = dtrow['pvalue_minlog10'], s = 10, color = dark_cmap[ref_group], edgecolor = 'black', linewidths = 0.5)\n",
    "\n",
    "    plt.savefig(os.path.join(OUTDIR, f'dapa_motifs.{site}_sites.{kmer}mers.enrichment_{alt_group}_vs_{ref_group}.region_scatter_{region}.svg'), format = 'svg', dpi = 600, transparent = True)\n",
    "    plt.show()\n",
    "\n",
    "dapa_results = pd.concat(region_results, ignore_index = True, sort = False)\n",
    "print(dapa_results.shape)\n"
   ]
  },
  {
   "cell_type": "code",
   "execution_count": 20,
   "metadata": {
    "scrolled": false
   },
   "outputs": [
    {
     "name": "stdout",
     "output_type": "stream",
     "text": [
      "\n",
      "Region: (-90, -25)\n",
      "\n",
      " Enriched in ALT group: 2\n",
      "    testMotif  odds_ratio_log2  pvalue_minlog10    qvalue\n",
      "2        GAAG         0.628139         4.629929  0.001501\n",
      "52       TTGA         0.559079         4.216939  0.002589\n",
      "112      TTTT         0.219651         3.086574  0.019067\n",
      "77       CTTT         0.339927         2.818186  0.032424\n",
      "29       GAAA         0.339408         2.759149  0.034288\n",
      "111      TGAT         0.408450         2.629196  0.038841\n",
      "113      TTTG         0.360289         2.574042  0.038841\n",
      "73       TGAA         0.366990         2.557668  0.038841\n",
      "185      AAAA         0.208002         2.556681  0.038841\n",
      "100      AAGA         0.323297         2.540193  0.038841\n",
      "116      TTGG         0.518104         2.461205  0.044259\n",
      "244      CGGC         1.233224         2.429968  0.045295\n",
      "\n",
      " Enriched in REF group: 0\n",
      "    testMotif  odds_ratio_log2  pvalue_minlog10        qvalue\n",
      "125      TATA        -0.428614        12.437064  9.357844e-11\n",
      "129      TGTA        -0.551188         8.190652  8.251967e-07\n",
      "34       ATAT        -0.303117         6.370757  3.633810e-05\n",
      "105      GTAT        -0.420383         4.494087  1.641283e-03\n",
      "33       TAAT        -0.324547         4.011069  3.565108e-03\n",
      "49       ACAT        -0.391688         3.949812  3.592017e-03\n",
      "121      CATA        -0.366313         3.649196  6.379712e-03\n",
      "142      ATAC        -0.368729         3.566250  6.950089e-03\n",
      "127      TACA        -0.308254         2.559983  3.884125e-02\n"
     ]
    },
    {
     "data": {
      "image/png": "[encoded data removed]",
      "text/plain": [
       "<Figure size 82.8x82.8 with 1 Axes>"
      ]
     },
     "metadata": {
      "needs_background": "light"
     },
     "output_type": "display_data"
    },
    {
     "name": "stdout",
     "output_type": "stream",
     "text": [
      "\n",
      "Region: (-25, -15)\n",
      "\n",
      " Enriched in ALT group: 2\n",
      "Empty DataFrame\n",
      "Columns: [testMotif, odds_ratio_log2, pvalue_minlog10, qvalue]\n",
      "Index: []\n",
      "\n",
      " Enriched in REF group: 0\n",
      "Empty DataFrame\n",
      "Columns: [testMotif, odds_ratio_log2, pvalue_minlog10, qvalue]\n",
      "Index: []\n"
     ]
    },
    {
     "data": {
      "image/png": "[encoded data removed]",
      "text/plain": [
       "<Figure size 82.8x82.8 with 1 Axes>"
      ]
     },
     "metadata": {
      "needs_background": "light"
     },
     "output_type": "display_data"
    },
    {
     "name": "stderr",
     "output_type": "stream",
     "text": [
      "/home/esk863/.local/lib/python3.6/site-packages/pandas/core/series.py:853: RuntimeWarning: divide by zero encountered in log2\n",
      "  result = getattr(ufunc, method)(*inputs, **kwargs)\n"
     ]
    },
    {
     "name": "stdout",
     "output_type": "stream",
     "text": [
      "\n",
      "Region: (-15, -6)\n",
      "\n",
      " Enriched in ALT group: 2\n",
      "Empty DataFrame\n",
      "Columns: [testMotif, odds_ratio_log2, pvalue_minlog10, qvalue]\n",
      "Index: []\n",
      "\n",
      " Enriched in REF group: 0\n",
      "Empty DataFrame\n",
      "Columns: [testMotif, odds_ratio_log2, pvalue_minlog10, qvalue]\n",
      "Index: []\n"
     ]
    },
    {
     "data": {
      "image/png": "[encoded data removed]",
      "text/plain": [
       "<Figure size 82.8x82.8 with 1 Axes>"
      ]
     },
     "metadata": {
      "needs_background": "light"
     },
     "output_type": "display_data"
    },
    {
     "name": "stdout",
     "output_type": "stream",
     "text": [
      "\n",
      "Region: (2, 15)\n",
      "\n",
      " Enriched in ALT group: 2\n",
      "    testMotif  odds_ratio_log2  pvalue_minlog10        qvalue\n",
      "125      TATA         1.114912        12.024316  2.420603e-10\n",
      "34       ATAT         0.935239         8.728020  2.394362e-07\n",
      "\n",
      " Enriched in REF group: 0\n",
      "Empty DataFrame\n",
      "Columns: [testMotif, odds_ratio_log2, pvalue_minlog10, qvalue]\n",
      "Index: []\n"
     ]
    },
    {
     "data": {
      "image/png": "[encoded data removed]",
      "text/plain": [
       "<Figure size 82.8x82.8 with 1 Axes>"
      ]
     },
     "metadata": {
      "needs_background": "light"
     },
     "output_type": "display_data"
    },
    {
     "name": "stdout",
     "output_type": "stream",
     "text": [
      "(1022, 12)\n"
     ]
    }
   ],
   "source": [
    "kmer = 4\n",
    "site = 'proximal'\n",
    "group = 'dapa'\n",
    "ref_group = 0\n",
    "alt_group = 2\n",
    "\n",
    "region_results = []\n",
    "regions = [v['region'] for k,v in ideal_mot_config.items()]\n",
    "\n",
    "for region in regions:\n",
    "    \n",
    "    ## Load and process data\n",
    "\n",
    "    dt = (pd.read_csv(os.path.join(MOTDIR, f'dapa_motifs.{site}_sites.{kmer}mers.enrichment_{alt_group}_vs_{ref_group}.region_{region[0]}_{region[1]}.txt'), sep = \"\\t\")\n",
    "          .replace([np.inf, -np.inf], np.nan).dropna())\n",
    "    \n",
    "    dt['odds_ratio_log2'] = np.log2(dt['odds_ratio'])\n",
    "    dt['pvalue_minlog10'] = -1 * np.log10(dt['pvalue'])\n",
    "    \n",
    "    dt['qvalue'] = multipletests(dt['pvalue'], alpha = 0.05, method = 'fdr_bh')[1]\n",
    "    dt['qvalue_minlog10']  = -1 * np.log10(dt['qvalue'])\n",
    "    \n",
    "    dt = dt.replace([np.inf, -np.inf], np.nan).dropna()\n",
    "    region_results.append(dt)\n",
    "    \n",
    "    \n",
    "    ## Make volcano plot\n",
    "    \n",
    "    fig,ax = plt.subplots(1,1, figsize = (1.15,1.15))\n",
    "    \n",
    "    sns.scatterplot(data = dt,  x = 'odds_ratio_log2', y = 'pvalue_minlog10', \n",
    "                    s = 10, color = 'lightgray', edgecolor = 'darkgray', alpha = 0.5, \n",
    "                    rasterized = True, ax = ax)\n",
    "    \n",
    "    xlim = math.ceil(max(abs(dt['odds_ratio_log2'])))\n",
    "    ax.set_xlim((-xlim,xlim))\n",
    "    ax.xaxis.set_major_locator(MultipleLocator(1))\n",
    "\n",
    "    ax.set_ylim(0,math.ceil(max(dt['pvalue_minlog10'])/ 2) * 2)\n",
    "    ax.yaxis.set_major_locator(MultipleLocator(2))\n",
    "    \n",
    "    ax.set_xlabel(\"Log2(Odds Ratio)\")\n",
    "    ax.set_ylabel(\"-Log10(P-value)\")\n",
    "\n",
    "    ## Annotate plots with significant motifs\n",
    "    \n",
    "    print(\"\\nRegion:\", region)\n",
    "    \n",
    "    cond_sig = (dt['qvalue'] < 0.05)\n",
    "    pos_sig = dt.loc[cond_sig & (dt['odds_ratio_log2'] > 0)]\n",
    "    neg_sig = dt.loc[cond_sig & (dt['odds_ratio_log2'] < 0)]\n",
    "    \n",
    "    print(\"\\n Enriched in ALT group:\", alt_group)\n",
    "    print(pos_sig[['testMotif','odds_ratio_log2', 'pvalue_minlog10', 'qvalue']].sort_values('pvalue_minlog10', ascending = False))\n",
    "    \n",
    "    print(\"\\n Enriched in REF group:\", ref_group)\n",
    "    print(neg_sig[['testMotif','odds_ratio_log2', 'pvalue_minlog10', 'qvalue']].sort_values('pvalue_minlog10', ascending = False))\n",
    "    \n",
    "    for i,dtrow in dt.loc[cond_sig].iterrows():\n",
    "        \n",
    "        if (dtrow['odds_ratio_log2'] > 0):\n",
    "            ax.scatter(x = dtrow['odds_ratio_log2'], y = dtrow['pvalue_minlog10'], s = 10, color = dark_cmap[alt_group], edgecolor = 'black', linewidths = 0.5)\n",
    "        else:\n",
    "            ax.scatter(x = dtrow['odds_ratio_log2'], y = dtrow['pvalue_minlog10'], s = 10, color = dark_cmap[ref_group], edgecolor = 'black', linewidths = 0.5)\n",
    "\n",
    "    plt.savefig(os.path.join(OUTDIR, f'dapa_motifs.{site}_sites.{kmer}mers.enrichment_{alt_group}_vs_{ref_group}.region_scatter_{region}.svg'), format = 'svg', dpi = 600, transparent = True)\n",
    "    plt.show()\n",
    "\n",
    "dapa_results = pd.concat(region_results, ignore_index = True, sort = False)\n",
    "print(dapa_results.shape)\n"
   ]
  },
  {
   "cell_type": "markdown",
   "metadata": {},
   "source": [
    "### Distal sites"
   ]
  },
  {
   "cell_type": "markdown",
   "metadata": {},
   "source": [
    "#### Tabulate motif positions and frequency in key regions"
   ]
  },
  {
   "cell_type": "code",
   "execution_count": 21,
   "metadata": {},
   "outputs": [],
   "source": [
    "sig_dist['idxs_EE'] = sig_dist['sequence'].apply(lambda x : motifs.count_motifs(x[:250], ideal_mot_config['EE']['motifs'], overlapping = False, preference = 'max', method = 'equal', count_only = False, index_only = True))\n",
    "sig_dist['idxs_PE'] = sig_dist['sequence'].apply(lambda x : motifs.count_motifs(x[:250], ideal_mot_config['PE']['motifs'], overlapping = False, preference = 'max', method = 'equal', count_only = False, index_only = True))\n",
    "sig_dist['idxs_UF'] = sig_dist['sequence'].apply(lambda x : motifs.count_motifs(x[:250], ideal_mot_config['UF']['motifs'], overlapping = False, preference = 'max', method = 'equal', count_only = False, index_only = True))\n",
    "sig_dist['idxs_DF'] = sig_dist['sequence'].apply(lambda x : 250 + motifs.count_motifs(x[250:], ideal_mot_config['DF']['motifs'], overlapping = False, preference = 'min', method = 'equal', count_only = False, index_only = True))\n"
   ]
  },
  {
   "cell_type": "code",
   "execution_count": 22,
   "metadata": {},
   "outputs": [],
   "source": [
    "sig_dist['count_EE'] = sig_dist.apply(lambda row : np.sum([((row['ctr_cleavage']+ideal_mot_config['EE']['region'][0]) <= x <= (row['ctr_cleavage']+ideal_mot_config['EE']['region'][1])) for x in row['idxs_EE']]), axis = 1)\n",
    "sig_dist['count_PE'] = sig_dist.apply(lambda row : np.sum([((row['ctr_cleavage']+ideal_mot_config['PE']['region'][0]) <= x <= (row['ctr_cleavage']+ideal_mot_config['PE']['region'][1])) for x in row['idxs_PE']]), axis = 1)\n",
    "sig_dist['count_UF'] = sig_dist.apply(lambda row : np.sum([((row['ctr_cleavage']+ideal_mot_config['UF']['region'][0]) <= x <= (row['ctr_cleavage']+ideal_mot_config['UF']['region'][1])) for x in row['idxs_UF']]), axis = 1)\n",
    "sig_dist['count_DF'] = sig_dist.apply(lambda row : np.sum([((row['ctr_cleavage']+ideal_mot_config['DF']['region'][0]) <= x <= (row['ctr_cleavage']+ideal_mot_config['DF']['region'][1])) for x in row['idxs_DF']]), axis = 1)\n"
   ]
  },
  {
   "cell_type": "markdown",
   "metadata": {},
   "source": [
    "#### Motif counts in each region by usage group"
   ]
  },
  {
   "cell_type": "code",
   "execution_count": 23,
   "metadata": {
    "scrolled": false
   },
   "outputs": [
    {
     "data": {
      "image/png": "[encoded data removed]",
      "text/plain": [
       "<Figure size 36x72 with 1 Axes>"
      ]
     },
     "metadata": {
      "needs_background": "light"
     },
     "output_type": "display_data"
    },
    {
     "name": "stdout",
     "output_type": "stream",
     "text": [
      "Chi2 test for independence across stress groups\n",
      "\tGroups [0, 2]\t9.87E-21\n"
     ]
    },
    {
     "data": {
      "image/png": "[encoded data removed]",
      "text/plain": [
       "<Figure size 36x72 with 1 Axes>"
      ]
     },
     "metadata": {
      "needs_background": "light"
     },
     "output_type": "display_data"
    },
    {
     "name": "stdout",
     "output_type": "stream",
     "text": [
      "Chi2 test for independence across stress groups\n",
      "\tGroups [0, 2]\t5.24E-01\n"
     ]
    },
    {
     "data": {
      "image/png": "[encoded data removed]",
      "text/plain": [
       "<Figure size 36x72 with 1 Axes>"
      ]
     },
     "metadata": {
      "needs_background": "light"
     },
     "output_type": "display_data"
    },
    {
     "name": "stdout",
     "output_type": "stream",
     "text": [
      "Chi2 test for independence across stress groups\n",
      "\tGroups [0, 2]\t4.38E-01\n"
     ]
    },
    {
     "data": {
      "image/png": "[encoded data removed]",
      "text/plain": [
       "<Figure size 36x72 with 1 Axes>"
      ]
     },
     "metadata": {
      "needs_background": "light"
     },
     "output_type": "display_data"
    },
    {
     "name": "stdout",
     "output_type": "stream",
     "text": [
      "Chi2 test for independence across stress groups\n",
      "\tGroups [0, 2]\t3.56E-01\n"
     ]
    }
   ],
   "source": [
    "cap = 3\n",
    "groups = [0,2]\n",
    "\n",
    "for (cvar,ylim,ytickint) in zip([c for c in sig_dist.columns if (c.startswith('count_'))], [100,20,20,40], [25,5,5,10]):\n",
    "    \n",
    "    mvar = cvar.replace('count_','maxcount_')\n",
    "    \n",
    "    sig_dist[mvar] = sig_dist[cvar]\n",
    "    sig_dist.loc[sig_dist[cvar] > cap, mvar] = cap\n",
    "    \n",
    "    cdata = sig_dist.loc[sig_dist['sigbinL'].isin(groups)].groupby(['sigbinL',mvar]).size().reset_index(name = 'counts')\n",
    "    cdata['prop'] = cdata['counts'] / cdata.groupby('sigbinL')['counts'].transform('sum') * 100\n",
    "\n",
    "    ccounts = cdata.pivot(index = 'sigbinL', columns = mvar, values = 'prop').fillna(0)\n",
    "\n",
    "    fig,ax = plt.subplots(1,1, figsize = (0.5,1))\n",
    "\n",
    "    labels = ccounts.index.astype(str).values\n",
    "    bottoms = np.zeros((len(ccounts)))\n",
    "    color_list = sns.color_palette('rainbow', cap+1)\n",
    "\n",
    "    for c in ccounts.columns[::-1]:\n",
    "        heights = ccounts[[c]].to_numpy().flatten()\n",
    "        ax.bar(labels, heights, bottom = bottoms, label = c, color = color_list[c], edgecolor = 'black', linewidth = 0.5)\n",
    "        bottoms = bottoms + heights\n",
    "    \n",
    "    ax.set_ylim(0,100)\n",
    "    ax.yaxis.set_major_locator(MultipleLocator(25))\n",
    "    ax.yaxis.set_major_formatter(PercentFormatter(decimals=0))\n",
    "\n",
    "    ax.set_xlabel(\"Usage group\")\n",
    "    ax.set_ylabel(f\"Fraction of distal sites with {cvar.split('_')[1]} (%)\")\n",
    "\n",
    "    ax.legend(bbox_to_anchor = (1.05,1))\n",
    "\n",
    "    ax.spines['right'].set_visible(False)\n",
    "    ax.spines['top'].set_visible(False)\n",
    "\n",
    "    plt.savefig(os.path.join(OUTDIR, f'presence_elements.by_stress.distal_sites.{mvar}.group_{groups[0]}_vs_{groups[1]}.svg'), format = 'svg', dpi = 600, transparent = True)\n",
    "    plt.show()\n",
    "\n",
    "\n",
    "    print(\"Chi2 test for independence across stress groups\")\n",
    "\n",
    "    cwide = cdata.pivot(index = mvar, columns = 'sigbinL', values = 'counts').fillna(0).to_numpy()\n",
    "    print(f\"\\tGroups {groups}\\t{st.chi2_contingency(cwide)[1]:.02E}\")\n",
    "    "
   ]
  },
  {
   "cell_type": "markdown",
   "metadata": {},
   "source": [
    "#### Individual motif enrichment"
   ]
  },
  {
   "cell_type": "code",
   "execution_count": 24,
   "metadata": {
    "scrolled": false
   },
   "outputs": [
    {
     "name": "stdout",
     "output_type": "stream",
     "text": [
      "\n",
      "Region: (-90, -25)\n",
      "\n",
      " Enriched in ALT group: 2\n",
      "     testMotif  odds_ratio_log2  pvalue_minlog10        qvalue\n",
      "140     ATATAT         1.956617        53.647897  9.009605e-51\n",
      "139     TATATA         1.672469        46.503757  6.277920e-44\n",
      "179     TATGTA         1.859406        13.744751  2.402869e-11\n",
      "141     TATATG         1.457135         7.698999  2.002365e-05\n",
      "730     ATATGT         1.410729         6.986877  8.255732e-05\n",
      "905     ATGTAT         1.269330         6.450689  2.364625e-04\n",
      "180     ATGTAA         1.912052         6.233687  3.340548e-04\n",
      "1426    ACATAT         1.147444         5.334310  2.318474e-03\n",
      "1428    TGTATG         1.944214         5.256536  2.465039e-03\n",
      "196     TAAATA         0.889088         5.059207  3.416095e-03\n",
      "150     TACATA         0.929680         5.027680  3.416095e-03\n",
      "588     CATATA         0.944677         4.285173  1.730804e-02\n",
      "926     ATATAA         0.768073         4.177928  2.023821e-02\n",
      "567     ATTTAT         0.876821         4.150302  2.023821e-02\n",
      "1429    GTATGT         1.596081         3.907682  3.236752e-02\n",
      "1647    ATAGAT         1.396613         3.888373  3.236752e-02\n",
      "166     ATAAAT         0.854382         3.760065  4.093446e-02\n",
      "\n",
      " Enriched in REF group: 0\n",
      "Empty DataFrame\n",
      "Columns: [testMotif, odds_ratio_log2, pvalue_minlog10, qvalue]\n",
      "Index: []\n"
     ]
    },
    {
     "name": "stderr",
     "output_type": "stream",
     "text": [
      "/home/esk863/.local/lib/python3.6/site-packages/pandas/core/series.py:853: RuntimeWarning: divide by zero encountered in log2\n",
      "  result = getattr(ufunc, method)(*inputs, **kwargs)\n"
     ]
    },
    {
     "data": {
      "image/png": "[encoded data removed]",
      "text/plain": [
       "<Figure size 82.8x82.8 with 1 Axes>"
      ]
     },
     "metadata": {
      "needs_background": "light"
     },
     "output_type": "display_data"
    },
    {
     "name": "stderr",
     "output_type": "stream",
     "text": [
      "/home/esk863/.local/lib/python3.6/site-packages/pandas/core/series.py:853: RuntimeWarning: divide by zero encountered in log2\n",
      "  result = getattr(ufunc, method)(*inputs, **kwargs)\n"
     ]
    },
    {
     "name": "stdout",
     "output_type": "stream",
     "text": [
      "\n",
      "Region: (-25, -15)\n",
      "\n",
      " Enriched in ALT group: 2\n",
      "Empty DataFrame\n",
      "Columns: [testMotif, odds_ratio_log2, pvalue_minlog10, qvalue]\n",
      "Index: []\n",
      "\n",
      " Enriched in REF group: 0\n",
      "Empty DataFrame\n",
      "Columns: [testMotif, odds_ratio_log2, pvalue_minlog10, qvalue]\n",
      "Index: []\n"
     ]
    },
    {
     "data": {
      "image/png": "[encoded data removed]",
      "text/plain": [
       "<Figure size 82.8x82.8 with 1 Axes>"
      ]
     },
     "metadata": {
      "needs_background": "light"
     },
     "output_type": "display_data"
    },
    {
     "name": "stderr",
     "output_type": "stream",
     "text": [
      "/home/esk863/.local/lib/python3.6/site-packages/pandas/core/series.py:853: RuntimeWarning: divide by zero encountered in log2\n",
      "  result = getattr(ufunc, method)(*inputs, **kwargs)\n"
     ]
    },
    {
     "name": "stdout",
     "output_type": "stream",
     "text": [
      "\n",
      "Region: (-15, -6)\n",
      "\n",
      " Enriched in ALT group: 2\n",
      "Empty DataFrame\n",
      "Columns: [testMotif, odds_ratio_log2, pvalue_minlog10, qvalue]\n",
      "Index: []\n",
      "\n",
      " Enriched in REF group: 0\n",
      "Empty DataFrame\n",
      "Columns: [testMotif, odds_ratio_log2, pvalue_minlog10, qvalue]\n",
      "Index: []\n"
     ]
    },
    {
     "data": {
      "image/png": "[encoded data removed]",
      "text/plain": [
       "<Figure size 82.8x82.8 with 1 Axes>"
      ]
     },
     "metadata": {
      "needs_background": "light"
     },
     "output_type": "display_data"
    },
    {
     "name": "stderr",
     "output_type": "stream",
     "text": [
      "/home/esk863/.local/lib/python3.6/site-packages/pandas/core/series.py:853: RuntimeWarning: divide by zero encountered in log2\n",
      "  result = getattr(ufunc, method)(*inputs, **kwargs)\n"
     ]
    },
    {
     "name": "stdout",
     "output_type": "stream",
     "text": [
      "\n",
      "Region: (2, 15)\n",
      "\n",
      " Enriched in ALT group: 2\n",
      "Empty DataFrame\n",
      "Columns: [testMotif, odds_ratio_log2, pvalue_minlog10, qvalue]\n",
      "Index: []\n",
      "\n",
      " Enriched in REF group: 0\n",
      "Empty DataFrame\n",
      "Columns: [testMotif, odds_ratio_log2, pvalue_minlog10, qvalue]\n",
      "Index: []\n"
     ]
    },
    {
     "data": {
      "image/png": "[encoded data removed]",
      "text/plain": [
       "<Figure size 82.8x82.8 with 1 Axes>"
      ]
     },
     "metadata": {
      "needs_background": "light"
     },
     "output_type": "display_data"
    },
    {
     "name": "stdout",
     "output_type": "stream",
     "text": [
      "(10653, 12)\n"
     ]
    }
   ],
   "source": [
    "kmer = 6\n",
    "site = 'distal'\n",
    "group = 'dapa'\n",
    "ref_group = 0\n",
    "alt_group = 2\n",
    "\n",
    "region_results = []\n",
    "regions = [v['region'] for k,v in ideal_mot_config.items()]\n",
    "\n",
    "for region in regions:\n",
    "    \n",
    "    ## Load and process data\n",
    "\n",
    "    dt = (pd.read_csv(os.path.join(MOTDIR, f'dapa_motifs.{site}_sites.{kmer}mers.enrichment_{alt_group}_vs_{ref_group}.region_{region[0]}_{region[1]}.txt'), sep = \"\\t\")\n",
    "          .replace([np.inf, -np.inf], np.nan).dropna())\n",
    "    \n",
    "    dt['odds_ratio_log2'] = np.log2(dt['odds_ratio'])\n",
    "    dt['pvalue_minlog10'] = -1 * np.log10(dt['pvalue'])\n",
    "    \n",
    "    dt['qvalue'] = multipletests(dt['pvalue'], alpha = 0.05, method = 'fdr_bh')[1]\n",
    "    dt['qvalue_minlog10']  = -1 * np.log10(dt['qvalue'])\n",
    "    \n",
    "    dt = dt.replace([np.inf, -np.inf], np.nan).dropna()\n",
    "    region_results.append(dt)\n",
    "    \n",
    "    \n",
    "    ## Make volcano plot\n",
    "    \n",
    "    fig,ax = plt.subplots(1,1, figsize = (1.15,1.15))\n",
    "    \n",
    "    sns.scatterplot(data = dt,  x = 'odds_ratio_log2', y = 'pvalue_minlog10', \n",
    "                    s = 10, color = 'lightgray', edgecolor = 'darkgray', alpha = 0.5, \n",
    "                    rasterized = True, ax = ax)\n",
    "    \n",
    "    xlim = math.ceil(max(abs(dt['odds_ratio_log2'])))\n",
    "    ax.set_xlim((-xlim,xlim))\n",
    "    ax.xaxis.set_major_locator(MultipleLocator(1))\n",
    "\n",
    "    ax.set_ylim(0,math.ceil(max(dt['pvalue_minlog10'])/ 10) * 10)\n",
    "    ax.yaxis.set_major_locator(MultipleLocator(10))\n",
    "    \n",
    "    ax.set_xlabel(\"Log2(Odds Ratio)\")\n",
    "    ax.set_ylabel(\"-Log10(P-value)\")\n",
    "\n",
    "    ## Annotate plots with significant motifs\n",
    "    \n",
    "    print(\"\\nRegion:\", region)\n",
    "    \n",
    "    cond_sig = (dt['qvalue'] < 0.05)\n",
    "    pos_sig = dt.loc[cond_sig & (dt['odds_ratio_log2'] > 0)]\n",
    "    neg_sig = dt.loc[cond_sig & (dt['odds_ratio_log2'] < 0)]\n",
    "    \n",
    "    print(\"\\n Enriched in ALT group:\", alt_group)\n",
    "    print(pos_sig[['testMotif','odds_ratio_log2', 'pvalue_minlog10', 'qvalue']].sort_values('pvalue_minlog10', ascending = False))\n",
    "    \n",
    "    print(\"\\n Enriched in REF group:\", ref_group)\n",
    "    print(neg_sig[['testMotif','odds_ratio_log2', 'pvalue_minlog10', 'qvalue']].sort_values('pvalue_minlog10', ascending = False))\n",
    "    \n",
    "    for i,dtrow in dt.loc[cond_sig].iterrows():\n",
    "        \n",
    "        if (dtrow['odds_ratio_log2'] > 0):\n",
    "            ax.scatter(x = dtrow['odds_ratio_log2'], y = dtrow['pvalue_minlog10'], s = 10, color = dark_cmap[alt_group], edgecolor = 'black', linewidths = 0.5)\n",
    "        else:\n",
    "            ax.scatter(x = dtrow['odds_ratio_log2'], y = dtrow['pvalue_minlog10'], s = 10, color = dark_cmap[ref_group], edgecolor = 'black', linewidths = 0.5)\n",
    "\n",
    "    plt.savefig(os.path.join(OUTDIR, f'dapa_motifs.{site}_sites.{kmer}mers.enrichment_{alt_group}_vs_{ref_group}.region_scatter_{region}.svg'), format = 'svg', dpi = 600, transparent = True)\n",
    "    plt.show()\n",
    "\n",
    "dapa_results = pd.concat(region_results, ignore_index = True, sort = False)\n",
    "print(dapa_results.shape)\n"
   ]
  },
  {
   "cell_type": "code",
   "execution_count": 25,
   "metadata": {
    "scrolled": false
   },
   "outputs": [
    {
     "name": "stdout",
     "output_type": "stream",
     "text": [
      "\n",
      "Region: (-90, -25)\n",
      "\n",
      " Enriched in ALT group: 2\n",
      "    testMotif  odds_ratio_log2  pvalue_minlog10        qvalue\n",
      "131     TATAT         1.389782        54.847783  1.453840e-52\n",
      "132     ATATA         1.328641        51.029741  4.781111e-49\n",
      "159     TATGT         1.190530        11.378508  1.141309e-09\n",
      "160     ATGTA         1.160450        11.350837  1.141309e-09\n",
      "59      ATATG         0.968350         7.194810  1.307734e-05\n",
      "146     TGTAT         0.791823         6.964466  1.852180e-05\n",
      "148     TATAA         0.661096         6.268696  7.879628e-05\n",
      "147     GTATA         0.775966         6.012982  1.242305e-04\n",
      "150     TAAAT         0.682897         5.483491  3.737377e-04\n",
      "183     TTATA         0.607404         5.396575  3.741985e-04\n",
      "175     TATTT         0.538006         5.395805  3.741985e-04\n",
      "273     CATAT         0.709328         4.714485  1.646773e-03\n",
      "337     ATAGA         0.870176         4.594468  2.003960e-03\n",
      "161     TGTAA         0.896776         4.542289  2.098375e-03\n",
      "51      AAATA         0.478576         4.130037  5.060244e-03\n",
      "335     TGTGT         0.934501         3.970222  6.854226e-03\n",
      "541     ACTTA         0.981791         3.548674  1.608248e-02\n",
      "138     TACAT         0.542676         3.302394  2.288018e-02\n",
      "139     ACATA         0.522849         3.252900  2.288018e-02\n",
      "10      TAGAT         0.792297         2.985332  3.782767e-02\n",
      "149     ATAAA         0.410008         2.954047  3.788477e-02\n",
      "157     TTTAT         0.372449         2.928063  3.788477e-02\n",
      "414     ATACA         0.512472         2.868746  4.074509e-02\n",
      "\n",
      " Enriched in REF group: 0\n",
      "     testMotif  odds_ratio_log2  pvalue_minlog10    qvalue\n",
      "244      AGCCA        -1.459946         3.714493  0.011624\n",
      "226      GCCAA        -1.212269         3.505510  0.016828\n",
      "641      CCGAC        -2.642449         3.372146  0.021424\n",
      "1007     CCGCG        -3.342827         3.357181  0.021424\n",
      "779      GTCCT        -1.932056         3.264823  0.022880\n",
      "864      TGCCG        -1.932056         3.264823  0.022880\n",
      "44       CTTCA        -0.855681         3.186184  0.025653\n",
      "984      CGTTC        -1.337849         3.050110  0.033793\n",
      "396      TTTGC        -0.851144         2.927656  0.037885\n",
      "909      TTACC        -0.978505         2.921702  0.037885\n",
      "620      CATCT        -0.906003         2.913321  0.037885\n"
     ]
    },
    {
     "data": {
      "image/png": "[encoded data removed]",
      "text/plain": [
       "<Figure size 82.8x82.8 with 1 Axes>"
      ]
     },
     "metadata": {
      "needs_background": "light"
     },
     "output_type": "display_data"
    },
    {
     "name": "stderr",
     "output_type": "stream",
     "text": [
      "/home/esk863/.local/lib/python3.6/site-packages/pandas/core/series.py:853: RuntimeWarning: divide by zero encountered in log2\n",
      "  result = getattr(ufunc, method)(*inputs, **kwargs)\n"
     ]
    },
    {
     "name": "stdout",
     "output_type": "stream",
     "text": [
      "\n",
      "Region: (-25, -15)\n",
      "\n",
      " Enriched in ALT group: 2\n",
      "Empty DataFrame\n",
      "Columns: [testMotif, odds_ratio_log2, pvalue_minlog10, qvalue]\n",
      "Index: []\n",
      "\n",
      " Enriched in REF group: 0\n",
      "Empty DataFrame\n",
      "Columns: [testMotif, odds_ratio_log2, pvalue_minlog10, qvalue]\n",
      "Index: []\n"
     ]
    },
    {
     "data": {
      "image/png": "[encoded data removed]",
      "text/plain": [
       "<Figure size 82.8x82.8 with 1 Axes>"
      ]
     },
     "metadata": {
      "needs_background": "light"
     },
     "output_type": "display_data"
    },
    {
     "name": "stderr",
     "output_type": "stream",
     "text": [
      "/home/esk863/.local/lib/python3.6/site-packages/pandas/core/series.py:853: RuntimeWarning: divide by zero encountered in log2\n",
      "  result = getattr(ufunc, method)(*inputs, **kwargs)\n"
     ]
    },
    {
     "name": "stdout",
     "output_type": "stream",
     "text": [
      "\n",
      "Region: (-15, -6)\n",
      "\n",
      " Enriched in ALT group: 2\n",
      "Empty DataFrame\n",
      "Columns: [testMotif, odds_ratio_log2, pvalue_minlog10, qvalue]\n",
      "Index: []\n",
      "\n",
      " Enriched in REF group: 0\n",
      "Empty DataFrame\n",
      "Columns: [testMotif, odds_ratio_log2, pvalue_minlog10, qvalue]\n",
      "Index: []\n"
     ]
    },
    {
     "data": {
      "image/png": "[encoded data removed]",
      "text/plain": [
       "<Figure size 82.8x82.8 with 1 Axes>"
      ]
     },
     "metadata": {
      "needs_background": "light"
     },
     "output_type": "display_data"
    },
    {
     "name": "stderr",
     "output_type": "stream",
     "text": [
      "/home/esk863/.local/lib/python3.6/site-packages/pandas/core/series.py:853: RuntimeWarning: divide by zero encountered in log2\n",
      "  result = getattr(ufunc, method)(*inputs, **kwargs)\n"
     ]
    },
    {
     "name": "stdout",
     "output_type": "stream",
     "text": [
      "\n",
      "Region: (2, 15)\n",
      "\n",
      " Enriched in ALT group: 2\n",
      "Empty DataFrame\n",
      "Columns: [testMotif, odds_ratio_log2, pvalue_minlog10, qvalue]\n",
      "Index: []\n",
      "\n",
      " Enriched in REF group: 0\n",
      "Empty DataFrame\n",
      "Columns: [testMotif, odds_ratio_log2, pvalue_minlog10, qvalue]\n",
      "Index: []\n"
     ]
    },
    {
     "data": {
      "image/png": "[encoded data removed]",
      "text/plain": [
       "<Figure size 82.8x82.8 with 1 Axes>"
      ]
     },
     "metadata": {
      "needs_background": "light"
     },
     "output_type": "display_data"
    },
    {
     "name": "stdout",
     "output_type": "stream",
     "text": [
      "(3901, 12)\n"
     ]
    }
   ],
   "source": [
    "kmer = 5\n",
    "site = 'distal'\n",
    "group = 'dapa'\n",
    "ref_group = 0\n",
    "alt_group = 2\n",
    "\n",
    "region_results = []\n",
    "regions = [v['region'] for k,v in ideal_mot_config.items()]\n",
    "\n",
    "for region in regions:\n",
    "    \n",
    "    ## Load and process data\n",
    "\n",
    "    dt = (pd.read_csv(os.path.join(MOTDIR, f'dapa_motifs.{site}_sites.{kmer}mers.enrichment_{alt_group}_vs_{ref_group}.region_{region[0]}_{region[1]}.txt'), sep = \"\\t\")\n",
    "          .replace([np.inf, -np.inf], np.nan).dropna())\n",
    "    \n",
    "    dt['odds_ratio_log2'] = np.log2(dt['odds_ratio'])\n",
    "    dt['pvalue_minlog10'] = -1 * np.log10(dt['pvalue'])\n",
    "    \n",
    "    dt['qvalue'] = multipletests(dt['pvalue'], alpha = 0.05, method = 'fdr_bh')[1]\n",
    "    dt['qvalue_minlog10']  = -1 * np.log10(dt['qvalue'])\n",
    "    \n",
    "    dt = dt.replace([np.inf, -np.inf], np.nan).dropna()\n",
    "    region_results.append(dt)\n",
    "    \n",
    "    \n",
    "    ## Make volcano plot\n",
    "    \n",
    "    fig,ax = plt.subplots(1,1, figsize = (1.15,1.15))\n",
    "    \n",
    "    sns.scatterplot(data = dt,  x = 'odds_ratio_log2', y = 'pvalue_minlog10', \n",
    "                    s = 10, color = 'lightgray', edgecolor = 'darkgray', alpha = 0.5, \n",
    "                    rasterized = True, ax = ax)\n",
    "    \n",
    "    xlim = math.ceil(max(abs(dt['odds_ratio_log2'])))\n",
    "    ax.set_xlim((-xlim,xlim))\n",
    "    ax.xaxis.set_major_locator(MultipleLocator(1))\n",
    "\n",
    "    ax.set_ylim(0,math.ceil(max(dt['pvalue_minlog10'])/ 10) * 10)\n",
    "    ax.yaxis.set_major_locator(MultipleLocator(10))\n",
    "    \n",
    "    ax.set_xlabel(\"Log2(Odds Ratio)\")\n",
    "    ax.set_ylabel(\"-Log10(P-value)\")\n",
    "\n",
    "    ## Annotate plots with significant motifs\n",
    "    \n",
    "    print(\"\\nRegion:\", region)\n",
    "    \n",
    "    cond_sig = (dt['qvalue'] < 0.05)\n",
    "    pos_sig = dt.loc[cond_sig & (dt['odds_ratio_log2'] > 0)]\n",
    "    neg_sig = dt.loc[cond_sig & (dt['odds_ratio_log2'] < 0)]\n",
    "    \n",
    "    print(\"\\n Enriched in ALT group:\", alt_group)\n",
    "    print(pos_sig[['testMotif','odds_ratio_log2', 'pvalue_minlog10', 'qvalue']].sort_values('pvalue_minlog10', ascending = False))\n",
    "    \n",
    "    print(\"\\n Enriched in REF group:\", ref_group)\n",
    "    print(neg_sig[['testMotif','odds_ratio_log2', 'pvalue_minlog10', 'qvalue']].sort_values('pvalue_minlog10', ascending = False))\n",
    "    \n",
    "    for i,dtrow in dt.loc[cond_sig].iterrows():\n",
    "        \n",
    "        if (dtrow['odds_ratio_log2'] > 0):\n",
    "            ax.scatter(x = dtrow['odds_ratio_log2'], y = dtrow['pvalue_minlog10'], s = 10, color = dark_cmap[alt_group], edgecolor = 'black', linewidths = 0.5)\n",
    "        else:\n",
    "            ax.scatter(x = dtrow['odds_ratio_log2'], y = dtrow['pvalue_minlog10'], s = 10, color = dark_cmap[ref_group], edgecolor = 'black', linewidths = 0.5)\n",
    "\n",
    "    plt.savefig(os.path.join(OUTDIR, f'dapa_motifs.{site}_sites.{kmer}mers.enrichment_{alt_group}_vs_{ref_group}.region_scatter_{region}.svg'), format = 'svg', dpi = 600, transparent = True)\n",
    "    plt.show()\n",
    "\n",
    "dapa_results = pd.concat(region_results, ignore_index = True, sort = False)\n",
    "print(dapa_results.shape)\n"
   ]
  },
  {
   "cell_type": "code",
   "execution_count": 26,
   "metadata": {
    "scrolled": false
   },
   "outputs": [
    {
     "name": "stdout",
     "output_type": "stream",
     "text": [
      "\n",
      "Region: (-90, -25)\n",
      "\n",
      " Enriched in ALT group: 2\n",
      "    testMotif  odds_ratio_log2  pvalue_minlog10        qvalue\n",
      "103      TATA         0.989937        55.937521  2.956098e-54\n",
      "50       ATAT         0.924524        48.380009  5.335814e-47\n",
      "107      TGTA         0.691233        10.889964  1.099398e-09\n",
      "56       TATG         0.712557         9.167622  4.350690e-08\n",
      "112      ATGT         0.608145         7.242115  2.931938e-06\n",
      "73       GTAT         0.532866         6.317389  2.054470e-05\n",
      "111      TTAT         0.391499         6.235735  2.125237e-05\n",
      "78       ATAA         0.287267         3.732370  4.309995e-03\n",
      "97       CATA         0.373603         3.400704  7.756708e-03\n",
      "108      TAAA         0.271874         2.921410  1.614644e-02\n",
      "10       TAGA         0.452379         2.895445  1.628416e-02\n",
      "184      ATAG         0.379782         2.815963  1.862336e-02\n",
      "24       GTGT         0.497297         2.696577  2.145123e-02\n",
      "74       TATT         0.233305         2.653227  2.193450e-02\n",
      "49       AATA         0.232812         2.635748  2.193450e-02\n",
      "123      ATAC         0.294929         2.283164  3.922810e-02\n",
      "85       ATTT         0.209713         2.168061  4.287235e-02\n",
      "\n",
      " Enriched in REF group: 0\n",
      "    testMotif  odds_ratio_log2  pvalue_minlog10    qvalue\n",
      "116      CCAA        -0.728821         4.975677  0.000338\n",
      "200      CCGA        -1.277923         4.752960  0.000502\n",
      "141      GCCA        -0.863802         4.525506  0.000763\n",
      "147      AGCC        -0.795335         3.436451  0.007757\n",
      "240      ACCG        -0.918765         3.372434  0.007757\n",
      "194      TGCC        -0.753775         3.319810  0.008172\n",
      "128      CGTC        -0.855681         3.186184  0.010422\n",
      "13       TTGC        -0.551773         3.083155  0.012435\n",
      "146      AAGC        -0.555546         2.954522  0.015792\n",
      "134      CATC        -0.514005         2.708603  0.021451\n",
      "177      CCCG        -1.120769         2.697571  0.021451\n",
      "207      CAAC        -0.554597         2.639040  0.021935\n",
      "253      CGCG        -1.024621         2.589811  0.023511\n",
      "6        TGAG        -0.602608         2.563231  0.024133\n",
      "168      CCCA        -0.726631         2.426627  0.031952\n",
      "136      TCGG        -0.839233         2.406019  0.032423\n",
      "114      AACC        -0.537238         2.372933  0.033897\n",
      "187      ACCC        -0.731731         2.330996  0.036202\n",
      "189      CCTT        -0.421151         2.261096  0.040094\n",
      "42       CTTC        -0.383001         2.209800  0.042872\n",
      "31       GAAG        -0.441366         2.181596  0.042872\n",
      "232      GTTC        -0.466454         2.178215  0.042872\n",
      "182      CGGT        -0.711044         2.174208  0.042872\n",
      "254      GCCG        -0.892673         2.163279  0.042872\n",
      "27       TCGT        -0.503486         2.145930  0.043557\n",
      "197      CTCG        -0.663368         2.114331  0.045755\n",
      "36       CTTT        -0.264584         2.097315  0.046502\n"
     ]
    },
    {
     "data": {
      "image/png": "[encoded data removed]",
      "text/plain": [
       "<Figure size 82.8x82.8 with 1 Axes>"
      ]
     },
     "metadata": {
      "needs_background": "light"
     },
     "output_type": "display_data"
    },
    {
     "name": "stdout",
     "output_type": "stream",
     "text": [
      "\n",
      "Region: (-25, -15)\n",
      "\n",
      " Enriched in ALT group: 2\n",
      "    testMotif  odds_ratio_log2  pvalue_minlog10    qvalue\n",
      "103      TATA         1.076815         7.487138  0.000008\n",
      "107      TGTA         1.081933         4.383546  0.004408\n",
      "86       TTTT         0.627268         4.286873  0.004408\n",
      "50       ATAT         0.726768         3.790402  0.010370\n",
      "\n",
      " Enriched in REF group: 0\n",
      "Empty DataFrame\n",
      "Columns: [testMotif, odds_ratio_log2, pvalue_minlog10, qvalue]\n",
      "Index: []\n"
     ]
    },
    {
     "data": {
      "image/png": "[encoded data removed]",
      "text/plain": [
       "<Figure size 82.8x82.8 with 1 Axes>"
      ]
     },
     "metadata": {
      "needs_background": "light"
     },
     "output_type": "display_data"
    },
    {
     "name": "stdout",
     "output_type": "stream",
     "text": [
      "\n",
      "Region: (-15, -6)\n",
      "\n",
      " Enriched in ALT group: 2\n",
      "Empty DataFrame\n",
      "Columns: [testMotif, odds_ratio_log2, pvalue_minlog10, qvalue]\n",
      "Index: []\n",
      "\n",
      " Enriched in REF group: 0\n",
      "Empty DataFrame\n",
      "Columns: [testMotif, odds_ratio_log2, pvalue_minlog10, qvalue]\n",
      "Index: []\n"
     ]
    },
    {
     "data": {
      "image/png": "[encoded data removed]",
      "text/plain": [
       "<Figure size 82.8x82.8 with 1 Axes>"
      ]
     },
     "metadata": {
      "needs_background": "light"
     },
     "output_type": "display_data"
    },
    {
     "name": "stdout",
     "output_type": "stream",
     "text": [
      "\n",
      "Region: (2, 15)\n",
      "\n",
      " Enriched in ALT group: 2\n",
      "Empty DataFrame\n",
      "Columns: [testMotif, odds_ratio_log2, pvalue_minlog10, qvalue]\n",
      "Index: []\n",
      "\n",
      " Enriched in REF group: 0\n",
      "Empty DataFrame\n",
      "Columns: [testMotif, odds_ratio_log2, pvalue_minlog10, qvalue]\n",
      "Index: []\n"
     ]
    },
    {
     "data": {
      "image/png": "[encoded data removed]",
      "text/plain": [
       "<Figure size 82.8x82.8 with 1 Axes>"
      ]
     },
     "metadata": {
      "needs_background": "light"
     },
     "output_type": "display_data"
    },
    {
     "name": "stdout",
     "output_type": "stream",
     "text": [
      "(1024, 12)\n"
     ]
    }
   ],
   "source": [
    "kmer = 4\n",
    "site = 'distal'\n",
    "group = 'dapa'\n",
    "ref_group = 0\n",
    "alt_group = 2\n",
    "\n",
    "region_results = []\n",
    "regions = [v['region'] for k,v in ideal_mot_config.items()]\n",
    "\n",
    "for region in regions:\n",
    "    \n",
    "    ## Load and process data\n",
    "\n",
    "    dt = (pd.read_csv(os.path.join(MOTDIR, f'dapa_motifs.{site}_sites.{kmer}mers.enrichment_{alt_group}_vs_{ref_group}.region_{region[0]}_{region[1]}.txt'), sep = \"\\t\")\n",
    "          .replace([np.inf, -np.inf], np.nan).dropna())\n",
    "    \n",
    "    dt['odds_ratio_log2'] = np.log2(dt['odds_ratio'])\n",
    "    dt['pvalue_minlog10'] = -1 * np.log10(dt['pvalue'])\n",
    "    \n",
    "    dt['qvalue'] = multipletests(dt['pvalue'], alpha = 0.05, method = 'fdr_bh')[1]\n",
    "    dt['qvalue_minlog10']  = -1 * np.log10(dt['qvalue'])\n",
    "    \n",
    "    dt = dt.replace([np.inf, -np.inf], np.nan).dropna()\n",
    "    region_results.append(dt)\n",
    "    \n",
    "    \n",
    "    ## Make volcano plot\n",
    "    \n",
    "    fig,ax = plt.subplots(1,1, figsize = (1.15,1.15))\n",
    "    \n",
    "    sns.scatterplot(data = dt,  x = 'odds_ratio_log2', y = 'pvalue_minlog10', \n",
    "                    s = 10, color = 'lightgray', edgecolor = 'darkgray', alpha = 0.5, \n",
    "                    rasterized = True, ax = ax)\n",
    "    \n",
    "    xlim = math.ceil(max(abs(dt['odds_ratio_log2'])))\n",
    "    ax.set_xlim((-xlim,xlim))\n",
    "    ax.xaxis.set_major_locator(MultipleLocator(1))\n",
    "\n",
    "    ax.set_ylim(0,math.ceil(max(dt['pvalue_minlog10'])/ 10) * 10)\n",
    "    ax.yaxis.set_major_locator(MultipleLocator(10))\n",
    "    \n",
    "    ax.set_xlabel(\"Log2(Odds Ratio)\")\n",
    "    ax.set_ylabel(\"-Log10(P-value)\")\n",
    "\n",
    "    ## Annotate plots with significant motifs\n",
    "    \n",
    "    print(\"\\nRegion:\", region)\n",
    "    \n",
    "    cond_sig = (dt['qvalue'] < 0.05)\n",
    "    pos_sig = dt.loc[cond_sig & (dt['odds_ratio_log2'] > 0)]\n",
    "    neg_sig = dt.loc[cond_sig & (dt['odds_ratio_log2'] < 0)]\n",
    "    \n",
    "    print(\"\\n Enriched in ALT group:\", alt_group)\n",
    "    print(pos_sig[['testMotif','odds_ratio_log2', 'pvalue_minlog10', 'qvalue']].sort_values('pvalue_minlog10', ascending = False))\n",
    "    \n",
    "    print(\"\\n Enriched in REF group:\", ref_group)\n",
    "    print(neg_sig[['testMotif','odds_ratio_log2', 'pvalue_minlog10', 'qvalue']].sort_values('pvalue_minlog10', ascending = False))\n",
    "    \n",
    "    for i,dtrow in dt.loc[cond_sig].iterrows():\n",
    "        \n",
    "        if (dtrow['odds_ratio_log2'] > 0):\n",
    "            ax.scatter(x = dtrow['odds_ratio_log2'], y = dtrow['pvalue_minlog10'], s = 10, color = dark_cmap[alt_group], edgecolor = 'black', linewidths = 0.5)\n",
    "        else:\n",
    "            ax.scatter(x = dtrow['odds_ratio_log2'], y = dtrow['pvalue_minlog10'], s = 10, color = dark_cmap[ref_group], edgecolor = 'black', linewidths = 0.5)\n",
    "\n",
    "    plt.savefig(os.path.join(OUTDIR, f'dapa_motifs.{site}_sites.{kmer}mers.enrichment_{alt_group}_vs_{ref_group}.region_scatter_{region}.svg'), format = 'svg', dpi = 600, transparent = True)\n",
    "    plt.show()\n",
    "\n",
    "dapa_results = pd.concat(region_results, ignore_index = True, sort = False)\n",
    "print(dapa_results.shape)\n"
   ]
  }
 ],
 "metadata": {
  "kernelspec": {
   "display_name": "Python (tf-train)",
   "language": "python",
   "name": "tf-train"
  },
  "language_info": {
   "codemirror_mode": {
    "name": "ipython",
    "version": 3
   },
   "file_extension": ".py",
   "mimetype": "text/x-python",
   "name": "python",
   "nbconvert_exporter": "python",
   "pygments_lexer": "ipython3",
   "version": "3.6.12"
  }
 },
 "nbformat": 4,
 "nbformat_minor": 2
}
