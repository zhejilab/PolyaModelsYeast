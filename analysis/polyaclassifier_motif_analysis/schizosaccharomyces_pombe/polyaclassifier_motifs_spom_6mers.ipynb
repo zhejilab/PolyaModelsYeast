{
 "cells": [
  {
   "cell_type": "markdown",
   "metadata": {},
   "source": [
    "# Analysis of PolyaClassifier site definition for *S. pombe*\n",
    "\n",
    "**Purpose**: To identify 6mer motifs important to cleavage site definition in *S. pombe* through a systematic mutation approach.\n"
   ]
  },
  {
   "cell_type": "code",
   "execution_count": 1,
   "metadata": {},
   "outputs": [],
   "source": [
    "%load_ext autoreload"
   ]
  },
  {
   "cell_type": "code",
   "execution_count": 2,
   "metadata": {},
   "outputs": [],
   "source": [
    "%autoreload 2"
   ]
  },
  {
   "cell_type": "code",
   "execution_count": 3,
   "metadata": {},
   "outputs": [],
   "source": [
    "%run -i notebook_setup.py"
   ]
  },
  {
   "cell_type": "markdown",
   "metadata": {},
   "source": [
    "## IMPORTS AND SETUP"
   ]
  },
  {
   "cell_type": "code",
   "execution_count": 4,
   "metadata": {},
   "outputs": [],
   "source": [
    "from paper_utilities import motifs"
   ]
  },
  {
   "cell_type": "code",
   "execution_count": 5,
   "metadata": {},
   "outputs": [],
   "source": [
    "species   = 'schizosaccharomyces_pombe'\n",
    "modeltype = 'polyaclassifier'\n",
    "config    = 'polyaclassifier_bagging3_kmers-6'\n",
    "kmer      = 6\n"
   ]
  },
  {
   "cell_type": "code",
   "execution_count": 6,
   "metadata": {},
   "outputs": [],
   "source": [
    "PROJECT   = \"/projects/b1080/eks/polyadenylation/yeast\"\n",
    "OUTDIR    = os.path.join(PROJECT, 'manuscript', 'analysis', 'polyaclassifier_motif_importance_spom_6mers')\n",
    "RESOURCES = os.path.join(os.path.dirname(OUTDIR), 'resources')\n",
    "os.makedirs(OUTDIR, exist_ok = True)\n"
   ]
  },
  {
   "cell_type": "code",
   "execution_count": 7,
   "metadata": {},
   "outputs": [
    {
     "name": "stdout",
     "output_type": "stream",
     "text": [
      "\n",
      "Number of golden sites: 2492\n",
      "\n",
      "Directory containing motif disruption results: /projects/b1080/eks/polyadenylation/yeast/schizosaccharomyces_pombe/analysis/motif_analysis/motif_disruption/polyaclassifier_bagging3_kmers-6\n"
     ]
    }
   ],
   "source": [
    "## Load model configuration information\n",
    "\n",
    "with open(os.path.join(RESOURCES, 'polyaclassifier_configurations.pickle'), mode = 'rb') as handle:\n",
    "    configurations = pickle.load(handle)\n",
    "\n",
    "gold_sites = configurations[species][config]['golden_lines']\n",
    "print(\"\\nNumber of golden sites:\", gold_sites)\n",
    "\n",
    "mot_dis_dir = os.path.join(PROJECT, species, 'analysis', 'motif_analysis', 'motif_disruption', config)\n",
    "print(\"\\nDirectory containing motif disruption results:\", mot_dis_dir)\n"
   ]
  },
  {
   "cell_type": "code",
   "execution_count": 8,
   "metadata": {},
   "outputs": [],
   "source": [
    "## Load motif family definitions for S. pombe\n",
    "\n",
    "spom_definitions = {'patterns' : {}, 'distance' : {}}\n",
    "\n",
    "# By Hamming distance\n",
    "for kmer in [4,5,6]:\n",
    "    with open(os.path.join(RESOURCES, f'motif_definitions.spom.{kmer}mers.distance.pickle'), mode = 'rb') as handle:\n",
    "        spom_definitions['distance'][kmer] = pickle.load(handle)\n"
   ]
  },
  {
   "cell_type": "code",
   "execution_count": 9,
   "metadata": {},
   "outputs": [
    {
     "name": "stdout",
     "output_type": "stream",
     "text": [
      "(4096, 28)\n"
     ]
    }
   ],
   "source": [
    "## Load processed motif importance data\n",
    "\n",
    "with open(os.path.join(RESOURCES, 'polyaclassifier_motifs.summaries.pickle'), mode = 'rb') as handle:\n",
    "    motif_summaries = pickle.load(handle)\n",
    "    \n",
    "cond1 = (motif_summaries['species'] == species)\n",
    "cond2 = (motif_summaries['modeltype'] == modeltype)\n",
    "cond3 = (motif_summaries['kmer'] == kmer)\n",
    "    \n",
    "motif_summaries = motif_summaries.loc[cond1 & cond2 & cond3].copy()\n",
    "print(motif_summaries.shape)\n"
   ]
  },
  {
   "cell_type": "code",
   "execution_count": 10,
   "metadata": {},
   "outputs": [],
   "source": [
    "with open(os.path.join(RESOURCES, 'polyaclassifier_motifs.family_profiles.pickle'), mode = 'rb') as handle:\n",
    "    mfam_importance = pickle.load(handle)\n",
    "    "
   ]
  },
  {
   "cell_type": "code",
   "execution_count": 11,
   "metadata": {},
   "outputs": [
    {
     "name": "stdout",
     "output_type": "stream",
     "text": [
      "Significant motifs = 230\n"
     ]
    }
   ],
   "source": [
    "with open(os.path.join(RESOURCES, 'polyaclassifier_motifs.significant_motifs.pickle'), mode = 'rb') as handle:\n",
    "    significant_motifs = pickle.load(handle)\n",
    "\n",
    "sigmots = significant_motifs[species][modeltype][config]\n",
    "print(f\"Significant motifs = {len(sigmots)}\")\n"
   ]
  },
  {
   "cell_type": "markdown",
   "metadata": {
    "scrolled": false
   },
   "source": [
    "# ANALYSIS"
   ]
  },
  {
   "cell_type": "code",
   "execution_count": 12,
   "metadata": {},
   "outputs": [],
   "source": [
    "family_cmap = {\n",
    "    'A-rich'        : '#2278b5',\n",
    "    'A-rich_d0'     : '#2278b5',\n",
    "    'A-rich_d1'     : '#6ab1e3',\n",
    "    'A-rich_d2'     : '#9ccbec',\n",
    "    'A-rich_d3'     : '#cde5f5',\n",
    "    'T-rich'        : '#2fa148',\n",
    "    'T-rich_d0'     : '#2fa148',\n",
    "    'T-rich_d1'     : '#73d689',\n",
    "    'T-rich_d2'     : '#a1e4b0',\n",
    "    'GTA'           : '#fcb316',\n",
    "    'GTA_d0'        : '#fcb316',\n",
    "    'TAG'           : '#8C0800',\n",
    "    'TAG_d0'        : '#8C0800',\n",
    "    'GTA-TAG'       : '#D55E00',\n",
    "    'GTA-TAG_d0'    : '#D55E00',\n",
    "    'GTA_controls'  : '#6d6e71',\n",
    "    'Other'         : '#F7F8F8',\n",
    "    'Pattern'       : '#000000',\n",
    "}\n"
   ]
  },
  {
   "cell_type": "markdown",
   "metadata": {},
   "source": [
    "## Overall motif family importance profiles"
   ]
  },
  {
   "cell_type": "markdown",
   "metadata": {},
   "source": [
    "#### Individual motif families"
   ]
  },
  {
   "cell_type": "code",
   "execution_count": 13,
   "metadata": {
    "scrolled": false
   },
   "outputs": [
    {
     "name": "stdout",
     "output_type": "stream",
     "text": [
      "hamming_A-rich    : Peak frequency 4.051 @ -22\n"
     ]
    },
    {
     "data": {
      "image/png": "[encoded data removed]",
      "text/plain": [
       "<Figure size 54x36 with 1 Axes>"
      ]
     },
     "metadata": {
      "needs_background": "light"
     },
     "output_type": "display_data"
    },
    {
     "name": "stdout",
     "output_type": "stream",
     "text": [
      "hamming_T-rich    : Peak frequency 6.355 @ -9\n"
     ]
    },
    {
     "data": {
      "image/png": "[encoded data removed]",
      "text/plain": [
       "<Figure size 54x36 with 1 Axes>"
      ]
     },
     "metadata": {
      "needs_background": "light"
     },
     "output_type": "display_data"
    },
    {
     "name": "stdout",
     "output_type": "stream",
     "text": [
      "hamming_GTA       : Peak frequency 4.248 @ 27\n"
     ]
    },
    {
     "data": {
      "image/png": "[encoded data removed]",
      "text/plain": [
       "<Figure size 54x36 with 1 Axes>"
      ]
     },
     "metadata": {
      "needs_background": "light"
     },
     "output_type": "display_data"
    },
    {
     "name": "stdout",
     "output_type": "stream",
     "text": [
      "hamming_TAG       : Peak frequency 3.505 @ -34\n"
     ]
    },
    {
     "data": {
      "image/png": "[encoded data removed]",
      "text/plain": [
       "<Figure size 54x36 with 1 Axes>"
      ]
     },
     "metadata": {
      "needs_background": "light"
     },
     "output_type": "display_data"
    },
    {
     "name": "stdout",
     "output_type": "stream",
     "text": [
      "hamming_GTA-TAG   : Peak frequency 2.691 @ 26\n"
     ]
    },
    {
     "data": {
      "image/png": "[encoded data removed]",
      "text/plain": [
       "<Figure size 54x36 with 1 Axes>"
      ]
     },
     "metadata": {
      "needs_background": "light"
     },
     "output_type": "display_data"
    }
   ],
   "source": [
    "region = (-250,150)\n",
    "smoothing = 10\n",
    "\n",
    "ylim_hamming = (0,10)\n",
    "ylim_family  = (0,7)\n",
    "ylim_cluster = (0,40)\n",
    "\n",
    "for motfam,motdict in mfam_importance[species][modeltype][config].items():\n",
    "    \n",
    "    if any([(f\"_d{d}\" in motfam) for d in [0,1,2,3]]):\n",
    "        continue\n",
    "        \n",
    "    try:\n",
    "        \n",
    "        if (motfam.startswith('hamming_')):\n",
    "            motcolor = family_cmap[motfam.replace(\"hamming_\", \"\")]\n",
    "        elif (motfam.startswith('pattern_')):\n",
    "            motcolor = 'black'\n",
    "        \n",
    "        fig,ax = plt.subplots(1,1, figsize = (0.75,0.5))\n",
    "\n",
    "        xs           = motdict['data']['xs']\n",
    "        means        = motdict['data']['freqs'] / len(motdict['motifs'])\n",
    "        means_smooth = pd.Series(means).rolling(window = smoothing, center = True).mean()\n",
    "\n",
    "        sns.lineplot(x = xs, y = means_smooth, color = motcolor, label = motfam, lw = 1, ax = ax)\n",
    "        print(f\"{motfam:18}: Peak frequency {np.nanmax(means_smooth):5.03f} @ {xs[np.nanargmax(means_smooth)]:.0f}\")\n",
    "\n",
    "        ax.axhline(y =   0, linewidth = 0.5, linestyle = 'dashed', color = 'gray', zorder = 0)\n",
    "        ax.axvline(x = -20, linewidth = 0.5, linestyle = 'dashed', color = 'gray', zorder = 0)\n",
    "        ax.axvline(x =  20, linewidth = 0.5, linestyle = 'dashed', color = 'gray', zorder = 0)\n",
    "\n",
    "        ax.set_xlim(region)\n",
    "        ax.xaxis.set_major_locator(MultipleLocator(50))\n",
    "        ax.set_xlabel(\"Position relative to max cleavage site\")\n",
    "\n",
    "        ax.set_ylim(ylim_hamming if (\"_d\" in motfam) else ylim_family if (\"hamming_\" in motfam) else ylim_cluster)\n",
    "        ax.yaxis.set_major_locator(MultipleLocator(2))\n",
    "        ax.set_ylabel(\"Frequency per motif\")\n",
    "\n",
    "        ax.spines['right'].set_visible(False)\n",
    "        ax.spines['top'].set_visible(False)\n",
    "\n",
    "        ax.set_title(f\"{motfam} (N = {len(motdict['motifs'])})\", fontsize = 7)\n",
    "        ax.get_legend().remove()\n",
    "\n",
    "        plt.savefig(os.path.join(OUTDIR, f'family_importance.{motfam.replace(\"/\",\"\")}.frequency.svg'), format = 'svg', dpi = 600, transparent = True)\n",
    "        plt.show()\n",
    "\n",
    "    except KeyError:\n",
    "        plt.close()\n",
    "        continue\n",
    "    "
   ]
  },
  {
   "cell_type": "code",
   "execution_count": 14,
   "metadata": {
    "scrolled": false
   },
   "outputs": [
    {
     "name": "stdout",
     "output_type": "stream",
     "text": [
      "hamming_A-rich    : Peak per-site 4.101 @ -23\n"
     ]
    },
    {
     "data": {
      "image/png": "[encoded data removed]",
      "text/plain": [
       "<Figure size 54x36 with 1 Axes>"
      ]
     },
     "metadata": {
      "needs_background": "light"
     },
     "output_type": "display_data"
    },
    {
     "name": "stdout",
     "output_type": "stream",
     "text": [
      "hamming_T-rich    : Peak per-site 3.577 @ 0\n"
     ]
    },
    {
     "data": {
      "image/png": "[encoded data removed]",
      "text/plain": [
       "<Figure size 54x36 with 1 Axes>"
      ]
     },
     "metadata": {
      "needs_background": "light"
     },
     "output_type": "display_data"
    },
    {
     "name": "stdout",
     "output_type": "stream",
     "text": [
      "hamming_GTA       : Peak per-site 2.535 @ 1\n"
     ]
    },
    {
     "data": {
      "image/png": "[encoded data removed]",
      "text/plain": [
       "<Figure size 54x36 with 1 Axes>"
      ]
     },
     "metadata": {
      "needs_background": "light"
     },
     "output_type": "display_data"
    },
    {
     "name": "stdout",
     "output_type": "stream",
     "text": [
      "hamming_TAG       : Peak per-site 2.517 @ -29\n"
     ]
    },
    {
     "data": {
      "image/png": "[encoded data removed]",
      "text/plain": [
       "<Figure size 54x36 with 1 Axes>"
      ]
     },
     "metadata": {
      "needs_background": "light"
     },
     "output_type": "display_data"
    },
    {
     "name": "stdout",
     "output_type": "stream",
     "text": [
      "hamming_GTA-TAG   : Peak per-site 2.594 @ -25\n"
     ]
    },
    {
     "data": {
      "image/png": "[encoded data removed]",
      "text/plain": [
       "<Figure size 54x36 with 1 Axes>"
      ]
     },
     "metadata": {
      "needs_background": "light"
     },
     "output_type": "display_data"
    }
   ],
   "source": [
    "region = (-250,150)\n",
    "smoothing = 10\n",
    "\n",
    "for motfam,motdict in mfam_importance[species][modeltype][config].items():\n",
    "    \n",
    "    if any([(f\"_d{d}\" in motfam) for d in [0,1,2,3]]):\n",
    "        continue\n",
    "        \n",
    "    try:\n",
    "        \n",
    "        if (motfam.startswith('hamming_')):\n",
    "            motcolor = family_cmap[motfam.replace(\"hamming_\", \"\")]\n",
    "        elif (motfam.startswith('pattern_')):\n",
    "            motcolor = 'black'\n",
    "            \n",
    "        fig,ax = plt.subplots(1,1, figsize = (0.75,0.5))\n",
    "\n",
    "        xs           = motdict['data']['xs']\n",
    "        means        = -1*motdict['data']['means']\n",
    "        means_smooth = pd.Series(means).rolling(window = smoothing, center = True).mean()\n",
    "\n",
    "        sns.lineplot(x = xs, y = means_smooth, color = motcolor, label = motfam, lw = 1, ax = ax)\n",
    "        print(f\"{motfam:18}: Peak per-site {np.nanmax(means_smooth):5.03f} @ {xs[np.nanargmax(means_smooth)]:.0f}\")\n",
    "\n",
    "        ax.axhline(y =   0, linewidth = 0.5, linestyle = 'dashed', color = 'gray', zorder = 0)\n",
    "        ax.axvline(x = -20, linewidth = 0.5, linestyle = 'dashed', color = 'gray', zorder = 0)\n",
    "        ax.axvline(x =  20, linewidth = 0.5, linestyle = 'dashed', color = 'gray', zorder = 0)\n",
    "\n",
    "        ax.set_xlim(region)\n",
    "        ax.xaxis.set_major_locator(MultipleLocator(50))\n",
    "        ax.set_xlabel(\"Position relative to max cleavage site\")\n",
    "\n",
    "        ax.set_ylim((-1.5,4.5))\n",
    "        ax.yaxis.set_major_locator(MultipleLocator(1))\n",
    "        ax.set_ylabel(\"Per-site classification importance\")\n",
    "\n",
    "        ax.spines['right'].set_visible(False)\n",
    "        ax.spines['top'].set_visible(False)\n",
    "\n",
    "        ax.set_title(f\"{motfam} (N = {len(motdict['motifs'])})\", fontsize = 7)\n",
    "        ax.get_legend().remove()\n",
    "\n",
    "        plt.savefig(os.path.join(OUTDIR, f'family_importance.{motfam.replace(\"/\",\"\")}.per_site.svg'), format = 'svg', dpi = 600, transparent = True)\n",
    "        plt.show()\n",
    "\n",
    "    except KeyError:\n",
    "        plt.close()\n",
    "        continue\n"
   ]
  },
  {
   "cell_type": "markdown",
   "metadata": {},
   "source": [
    "#### Family importance profiles using motif-normalized sum importance scores"
   ]
  },
  {
   "cell_type": "code",
   "execution_count": 15,
   "metadata": {},
   "outputs": [
    {
     "name": "stdout",
     "output_type": "stream",
     "text": [
      "hamming_A-rich      : Peak sum-norm  67.308 @ -22\n",
      "hamming_T-rich      : Peak sum-norm  61.163 @ 0\n",
      "hamming_GTA         : Peak sum-norm  28.011 @ 21\n",
      "hamming_TAG         : Peak sum-norm  32.475 @ -33\n",
      "hamming_GTA-TAG     : Peak sum-norm  18.641 @ 55\n"
     ]
    },
    {
     "data": {
      "image/png": "[encoded data removed]",
      "text/plain": [
       "<Figure size 144x108 with 1 Axes>"
      ]
     },
     "metadata": {
      "needs_background": "light"
     },
     "output_type": "display_data"
    }
   ],
   "source": [
    "fig,ax = plt.subplots(1,1, figsize = (2,1.5))\n",
    "\n",
    "region = (-100,100)\n",
    "smoothing = 10\n",
    "\n",
    "for motfam,motdict in mfam_importance[species][modeltype][config].items():\n",
    "    \n",
    "    if (\"_d\" in motfam) or (\"pattern_\" in motfam) or (\"controls\" in motfam):\n",
    "        continue\n",
    "    \n",
    "    xs           = motdict['data']['xs']\n",
    "    means        = -1*motdict['data']['means_weights'] / len(motdict['motifs'])\n",
    "    means_smooth = pd.Series(means).rolling(window = smoothing, center = True).mean()\n",
    "    print(f\"{motfam:20}: Peak sum-norm {np.nanmax(means_smooth):7.03f} @ {xs[np.nanargmax(means_smooth)]:.0f}\")\n",
    "\n",
    "    sns.lineplot(x = xs, y = means_smooth, color = family_cmap[motfam.replace(\"hamming_\",\"\")], label = motfam, lw = 1, ax = ax)\n",
    "\n",
    "ax.axvline(x = -20, linewidth = 0.5, linestyle = 'dashed', color = 'gray', zorder = 0)\n",
    "ax.axvline(x = 20,  linewidth = 0.5, linestyle = 'dashed', color = 'gray', zorder = 0)\n",
    "\n",
    "ax.set_xlim(region)\n",
    "ax.xaxis.set_major_locator(MultipleLocator(50))\n",
    "\n",
    "ax.set_ylim(-10,75)\n",
    "ax.yaxis.set_major_locator(MultipleLocator(25))\n",
    "ax.set_ylabel(\"Sum importance per motif\")\n",
    "ax.set_xlabel(\"Position relative to max cleavage site (nt)\")\n",
    "\n",
    "ax.spines['right'].set_visible(False)\n",
    "ax.spines['top'].set_visible(False)\n",
    "\n",
    "ax.legend(bbox_to_anchor = (1.05,1))\n",
    "\n",
    "plt.savefig(os.path.join(OUTDIR, 'family_consolidated.sum_norm.svg'), format = 'svg', dpi = 600, transparent = True)\n",
    "plt.show()\n"
   ]
  },
  {
   "cell_type": "markdown",
   "metadata": {},
   "source": [
    "#### Breakdown of family importance profiles by Hamming distance"
   ]
  },
  {
   "cell_type": "code",
   "execution_count": 16,
   "metadata": {},
   "outputs": [
    {
     "name": "stdout",
     "output_type": "stream",
     "text": [
      "hamming_A-rich_d0    : Peak per-site 2.618 @ -23\n",
      "hamming_A-rich_d1    : Peak per-site 3.442 @ -22\n",
      "hamming_A-rich_d2    : Peak per-site 4.236 @ -22\n",
      "hamming_A-rich_d3    : Peak per-site 4.274 @ -23\n",
      "hamming_T-rich_d0    : Peak per-site 2.645 @ -9\n",
      "hamming_T-rich_d1    : Peak per-site 3.763 @ 0\n",
      "hamming_T-rich_d2    : Peak per-site 3.464 @ 0\n",
      "hamming_GTA_d0       : Peak per-site 2.535 @ 1\n",
      "hamming_TAG_d0       : Peak per-site 2.517 @ -29\n",
      "hamming_GTA-TAG_d0   : Peak per-site 2.594 @ -25\n"
     ]
    },
    {
     "data": {
      "image/png": "[encoded data removed]",
      "text/plain": [
       "<Figure size 144x108 with 1 Axes>"
      ]
     },
     "metadata": {
      "needs_background": "light"
     },
     "output_type": "display_data"
    }
   ],
   "source": [
    "fig,ax = plt.subplots(1,1, figsize = (2,1.5))\n",
    "\n",
    "region = (-100,100)\n",
    "smoothing = 10\n",
    "\n",
    "ylims = (-1.5,4.5)\n",
    "\n",
    "for motfam,motdict in mfam_importance[species][modeltype][config].items():\n",
    "    \n",
    "    if (\"_d\" not in motfam):\n",
    "        continue\n",
    "    \n",
    "    xs           = motdict['data']['xs']\n",
    "    means        = -1*motdict['data']['means']\n",
    "    means_smooth = pd.Series(means).rolling(window = smoothing, center = True).mean()\n",
    "    print(f\"{motfam:21}: Peak per-site {np.nanmax(means_smooth):5.03f} @ {xs[np.nanargmax(means_smooth)]:.0f}\")\n",
    "\n",
    "    sns.lineplot(x = xs, y = means_smooth, color = family_cmap[motfam.replace(\"hamming_\",\"\")], label = motfam, lw = 1, ax = ax)\n",
    "\n",
    "for x in [-20,20]:\n",
    "    ax.axvline(x = x, linewidth = 0.5, linestyle = 'dashed', color = 'gray', zorder = 0)\n",
    "\n",
    "ax.set_xlim(region)\n",
    "ax.xaxis.set_major_locator(MultipleLocator(50))\n",
    "\n",
    "ax.set_ylim(ylims)\n",
    "ax.yaxis.set_major_locator(MultipleLocator(1))\n",
    "\n",
    "ax.set_ylabel(\"Per-site importance\")\n",
    "ax.set_xlabel(\"Position relative to max cleavage site (nt)\")\n",
    "\n",
    "ax.spines['right'].set_visible(False)\n",
    "ax.spines['top'].set_visible(False)\n",
    "\n",
    "ax.legend(bbox_to_anchor = (1.05,1))\n",
    "\n",
    "plt.savefig(os.path.join(OUTDIR, 'family_breakdown.persite.svg'), format = 'svg', dpi = 600, transparent = True)\n",
    "plt.show()\n"
   ]
  },
  {
   "cell_type": "code",
   "execution_count": 17,
   "metadata": {},
   "outputs": [
    {
     "name": "stdout",
     "output_type": "stream",
     "text": [
      "hamming_A-rich_d0    : Peak per-site 9.300 @ 233\n",
      "hamming_A-rich_d1    : Peak per-site 2.977 @ 234\n",
      "hamming_A-rich_d2    : Peak per-site 4.055 @ -22\n",
      "hamming_A-rich_d3    : Peak per-site 4.656 @ -23\n",
      "hamming_T-rich_d0    : Peak per-site 44.100 @ -9\n",
      "hamming_T-rich_d1    : Peak per-site 11.794 @ -9\n",
      "hamming_T-rich_d2    : Peak per-site 4.382 @ -8\n",
      "hamming_GTA_d0       : Peak per-site 4.248 @ 27\n",
      "hamming_TAG_d0       : Peak per-site 3.505 @ -34\n",
      "hamming_GTA-TAG_d0   : Peak per-site 2.691 @ 26\n"
     ]
    },
    {
     "data": {
      "image/png": "[encoded data removed]",
      "text/plain": [
       "<Figure size 144x108 with 1 Axes>"
      ]
     },
     "metadata": {
      "needs_background": "light"
     },
     "output_type": "display_data"
    }
   ],
   "source": [
    "fig,ax = plt.subplots(1,1, figsize = (2,1.5))\n",
    "\n",
    "region = (-100,100)\n",
    "smoothing = 10\n",
    "\n",
    "ylims = (0,None)\n",
    "\n",
    "for motfam,motdict in mfam_importance[species][modeltype][config].items():\n",
    "    \n",
    "    if (\"_d\" not in motfam):\n",
    "        continue\n",
    "    \n",
    "    xs           = motdict['data']['xs']\n",
    "    means        = motdict['data']['freqs'] / len(motdict['motifs'])\n",
    "    means_smooth = pd.Series(means).rolling(window = smoothing, center = True).mean()\n",
    "    print(f\"{motfam:21}: Peak per-site {np.nanmax(means_smooth):5.03f} @ {xs[np.nanargmax(means_smooth)]:.0f}\")\n",
    "\n",
    "    sns.lineplot(x = xs, y = means_smooth, color = family_cmap[motfam.replace(\"hamming_\",\"\")], label = motfam, lw = 1, ax = ax)\n",
    "\n",
    "for x in [-20,20]:\n",
    "    ax.axvline(x = x, linewidth = 0.5, linestyle = 'dashed', color = 'gray', zorder = 0)\n",
    "\n",
    "ax.set_xlim(region)\n",
    "ax.xaxis.set_major_locator(MultipleLocator(50))\n",
    "ax.set_xlabel(\"Position relative to max cleavage site (nt)\")\n",
    "\n",
    "ax.set_ylim(0,50)\n",
    "ax.yaxis.set_major_locator(MultipleLocator(10))\n",
    "ax.set_ylabel(\"Frequency per motif\")\n",
    "\n",
    "\n",
    "ax.spines['right'].set_visible(False)\n",
    "ax.spines['top'].set_visible(False)\n",
    "\n",
    "ax.legend(bbox_to_anchor = (1.05,1))\n",
    "\n",
    "plt.savefig(os.path.join(OUTDIR, 'family_breakdown.frequency.svg'), format = 'svg', dpi = 600, transparent = True)\n",
    "plt.show()\n"
   ]
  },
  {
   "cell_type": "markdown",
   "metadata": {},
   "source": [
    "## Top individual motifs in each region"
   ]
  },
  {
   "cell_type": "code",
   "execution_count": 18,
   "metadata": {},
   "outputs": [
    {
     "data": {
      "image/png": "[encoded data removed]",
      "text/plain": [
       "<Figure size 36x90 with 1 Axes>"
      ]
     },
     "metadata": {
      "needs_background": "light"
     },
     "output_type": "display_data"
    },
    {
     "name": "stdout",
     "output_type": "stream",
     "text": [
      "      motif  frequency     score   conf_lo   conf_hi     family  error_lo\n",
      "89   GGAAGA      112.0  0.502531  0.559719  0.445342  A-rich_d3  0.057188\n",
      "83   GAAGGA      138.0  0.486132  0.530673  0.441591  A-rich_d3  0.044541\n",
      "145  UGAAGG      140.0  0.477771  0.519718  0.435825      Other  0.041947\n",
      "148  UGCUGC      228.0  0.457486  0.485518  0.429454      Other  0.028032\n",
      "36   AGGAAG      111.0  0.440308  0.498864  0.381752  A-rich_d3  0.058556\n",
      "70   CUGCUG      279.0  0.439189  0.460525  0.417852      Other  0.021337\n",
      "81   GAAGAA      391.0  0.434304  0.465954  0.402653  A-rich_d2  0.031651\n",
      "85   GCUGCU      289.0  0.430974  0.452956  0.408993      Other  0.021981\n",
      "35   AGAAGG      191.0  0.424896  0.464124  0.385668  A-rich_d3  0.039228\n",
      "86   GCUUUG      175.0  0.424495  0.455346  0.393643      Other  0.030852\n",
      "0.5597185874871564\n"
     ]
    }
   ],
   "source": [
    "motifs.region_barplot(OUTDIR, mot_dis_dir, spom_definitions['distance'][6]['hamming'], sigmots, \n",
    "                      (-250,-121), \"mean\", 95, method = \"hamming\", minfreq = int(0.01 * gold_sites),\n",
    "                      topn = 10, palette = family_cmap, \n",
    "                      xlim = (0,1), xtickint = 0.5, verbose = True\n",
    "                     )\n"
   ]
  },
  {
   "cell_type": "code",
   "execution_count": 19,
   "metadata": {},
   "outputs": [
    {
     "data": {
      "image/png": "[encoded data removed]",
      "text/plain": [
       "<Figure size 36x90 with 1 Axes>"
      ]
     },
     "metadata": {
      "needs_background": "light"
     },
     "output_type": "display_data"
    },
    {
     "name": "stdout",
     "output_type": "stream",
     "text": [
      "      motif  frequency     score   conf_lo   conf_hi     family  error_lo\n",
      "188  UUGGUG       35.0  0.482263  0.552732  0.411795      Other  0.070468\n",
      "224  UUUUGG      110.0  0.462023  0.504794  0.419252  T-rich_d2  0.042771\n",
      "189  UUGGUU      107.0  0.461806  0.494775  0.428837  T-rich_d2  0.032969\n",
      "213  UUUGGU       77.0  0.439039  0.495212  0.382866  T-rich_d2  0.056173\n",
      "186  UUGCUU       84.0  0.419759  0.463366  0.376151  T-rich_d2  0.043607\n",
      "86   GCUUUG       34.0  0.413010  0.493870  0.332149      Other  0.080861\n",
      "152  UGGUUU       83.0  0.412636  0.458344  0.366927  T-rich_d2  0.045708\n",
      "211  UUUGCU       91.0  0.412472  0.454307  0.370638  T-rich_d2  0.041834\n",
      "90   GGUUUU       91.0  0.402741  0.437311  0.368171  T-rich_d2  0.034570\n",
      "148  UGCUGC       51.0  0.391874  0.430269  0.353479      Other  0.038395\n",
      "0.5527317749553193\n"
     ]
    }
   ],
   "source": [
    "motifs.region_barplot(OUTDIR, mot_dis_dir, spom_definitions['distance'][6]['hamming'], sigmots, \n",
    "                      (-120,-81), \"mean\", 95, method = \"hamming\", minfreq = int(0.01 * gold_sites),\n",
    "                      topn = 10, palette = family_cmap, \n",
    "                      xlim = (0,1), xtickint = 0.5, verbose = True\n",
    "                     )\n"
   ]
  },
  {
   "cell_type": "code",
   "execution_count": 20,
   "metadata": {},
   "outputs": [
    {
     "data": {
      "image/png": "[encoded data removed]",
      "text/plain": [
       "<Figure size 36x90 with 1 Axes>"
      ]
     },
     "metadata": {
      "needs_background": "light"
     },
     "output_type": "display_data"
    },
    {
     "name": "stdout",
     "output_type": "stream",
     "text": [
      "      motif  frequency     score   conf_lo   conf_hi     family  error_lo\n",
      "123  UAGUUA       86.0  1.697468  2.059290  1.335645     TAG_d0  0.361822\n",
      "173  UUAGUU      183.0  1.598354  1.767721  1.428987     TAG_d0  0.169367\n",
      "117  UAGAUA      102.0  1.455347  1.695534  1.215159     TAG_d0  0.240188\n",
      "170  UUAGAU      133.0  1.432431  1.632911  1.231952     TAG_d0  0.200479\n",
      "124  UAGUUU      190.0  1.349594  1.505046  1.194142     TAG_d0  0.155452\n",
      "166  UUAAUA       91.0  1.316212  1.644540  0.987885  A-rich_d3  0.328328\n",
      "174  UUAUAG      102.0  1.294843  1.496497  1.093189     TAG_d0  0.201654\n",
      "201  UUUAGU      163.0  1.291643  1.439882  1.143405     TAG_d0  0.148238\n",
      "171  UUAGGU      113.0  1.249575  1.396913  1.102237     TAG_d0  0.147338\n",
      "127  UAUAGU       74.0  1.217318  1.465060  0.969576     TAG_d0  0.247742\n",
      "2.059289558159935\n"
     ]
    }
   ],
   "source": [
    "motifs.region_barplot(OUTDIR, mot_dis_dir, spom_definitions['distance'][6]['hamming'], sigmots, \n",
    "                      (-80,-31), \"mean\", 95, method = \"hamming\", minfreq = int(0.01 * gold_sites),\n",
    "                      topn = 10, palette = family_cmap, \n",
    "                      xlim = (0,2.5), xtickint = 1, verbose = True\n",
    "                     )\n"
   ]
  },
  {
   "cell_type": "code",
   "execution_count": 21,
   "metadata": {},
   "outputs": [
    {
     "name": "stderr",
     "output_type": "stream",
     "text": [
      "/home/esk863/.conda/envs/tf-train/lib/python3.6/site-packages/statsmodels/stats/weightstats.py:135: RuntimeWarning: invalid value encountered in double_scalars\n",
      "  return self.sum / self.sum_weights\n",
      "/home/esk863/.conda/envs/tf-train/lib/python3.6/site-packages/statsmodels/stats/weightstats.py:182: RuntimeWarning: invalid value encountered in double_scalars\n",
      "  return self.sumsquares / (self.sum_weights - self.ddof)\n",
      "/home/esk863/.conda/envs/tf-train/lib/python3.6/site-packages/statsmodels/stats/weightstats.py:228: RuntimeWarning: invalid value encountered in sqrt\n",
      "  return std / np.sqrt(self.sum_weights - 1)\n",
      "/home/esk863/.conda/envs/tf-train/lib/python3.6/site-packages/statsmodels/stats/weightstats.py:228: RuntimeWarning: invalid value encountered in double_scalars\n",
      "  return std / np.sqrt(self.sum_weights - 1)\n"
     ]
    },
    {
     "data": {
      "image/png": "[encoded data removed]",
      "text/plain": [
       "<Figure size 36x90 with 1 Axes>"
      ]
     },
     "metadata": {
      "needs_background": "light"
     },
     "output_type": "display_data"
    },
    {
     "name": "stdout",
     "output_type": "stream",
     "text": [
      "    motif  frequency     score   conf_lo   conf_hi     family  error_lo\n",
      "0  AAUAAA      103.0  5.197456  5.560169  4.834743  A-rich_d1  0.362713\n",
      "1  UUAAUA      130.0  5.145078  5.469594  4.820562  A-rich_d3  0.324516\n",
      "2  UAAUAU       99.0  5.121532  5.468154  4.774910  A-rich_d3  0.346622\n",
      "3  AUUAAU      128.0  5.024644  5.375626  4.673662  A-rich_d3  0.350982\n",
      "4  AAUAUA      126.0  5.003125  5.362692  4.643557  A-rich_d2  0.359567\n",
      "5  AAUGAA      136.0  4.886681  5.189903  4.583459  A-rich_d2  0.303222\n",
      "6  AAUACA       93.0  4.616605  4.950379  4.282830  A-rich_d2  0.333774\n",
      "7  UAAUGA       94.0  4.557070  4.909458  4.204682  A-rich_d3  0.352388\n",
      "8  AAUUAA       77.0  4.468715  4.969058  3.968372  A-rich_d2  0.500343\n",
      "9  AAAAAA       58.0  2.248774  2.595590  1.901958  A-rich_d0  0.346816\n",
      "5.560168569713604\n"
     ]
    }
   ],
   "source": [
    "motifs.region_barplot(OUTDIR, mot_dis_dir, spom_definitions['distance'][6]['hamming'], sigmots, \n",
    "                      (-30,-16), \"mean\", 95, method = \"hamming\", minfreq = int(0.01 * gold_sites),\n",
    "                      topn = 10, displaylist = ['AAAAAA'], palette = family_cmap, \n",
    "                      xlim = (0,6), xtickint = 2, verbose = True\n",
    "                     )\n"
   ]
  },
  {
   "cell_type": "code",
   "execution_count": 22,
   "metadata": {},
   "outputs": [
    {
     "name": "stderr",
     "output_type": "stream",
     "text": [
      "/home/esk863/.conda/envs/tf-train/lib/python3.6/site-packages/statsmodels/stats/weightstats.py:228: RuntimeWarning: invalid value encountered in double_scalars\n",
      "  return std / np.sqrt(self.sum_weights - 1)\n",
      "/home/esk863/.conda/envs/tf-train/lib/python3.6/site-packages/statsmodels/stats/weightstats.py:135: RuntimeWarning: invalid value encountered in double_scalars\n",
      "  return self.sum / self.sum_weights\n",
      "/home/esk863/.conda/envs/tf-train/lib/python3.6/site-packages/statsmodels/stats/weightstats.py:182: RuntimeWarning: invalid value encountered in double_scalars\n",
      "  return self.sumsquares / (self.sum_weights - self.ddof)\n",
      "/home/esk863/.conda/envs/tf-train/lib/python3.6/site-packages/statsmodels/stats/weightstats.py:228: RuntimeWarning: invalid value encountered in sqrt\n",
      "  return std / np.sqrt(self.sum_weights - 1)\n"
     ]
    },
    {
     "data": {
      "image/png": "[encoded data removed]",
      "text/plain": [
       "<Figure size 36x90 with 1 Axes>"
      ]
     },
     "metadata": {
      "needs_background": "light"
     },
     "output_type": "display_data"
    },
    {
     "name": "stdout",
     "output_type": "stream",
     "text": [
      "      motif  frequency     score   conf_lo   conf_hi     family  error_lo\n",
      "227  UUUUUC      132.0  3.042800  3.193855  2.891744  T-rich_d1  0.151056\n",
      "229  UUUUUU      419.0  2.678921  2.750852  2.606989  T-rich_d0  0.071931\n",
      "220  UUUUCA       73.0  2.597871  2.812704  2.383039  T-rich_d2  0.214832\n",
      "62   AUUUUU      197.0  2.589325  2.730945  2.447706  T-rich_d1  0.141620\n",
      "221  UUUUCU      102.0  2.537163  2.660670  2.413656  T-rich_d1  0.123507\n",
      "207  UUUCUC       48.0  2.490535  2.697289  2.283782  T-rich_d2  0.206753\n",
      "182  UUCUUU       94.0  2.477715  2.617743  2.337686  T-rich_d1  0.140029\n",
      "78   CUUUUU      117.0  2.468976  2.602472  2.335481  T-rich_d1  0.133496\n",
      "143  UCUUUU      100.0  2.459136  2.583955  2.334317  T-rich_d1  0.124819\n",
      "208  UUUCUU       94.0  2.423032  2.543446  2.302618  T-rich_d1  0.120414\n",
      "3.1938551412668414\n"
     ]
    }
   ],
   "source": [
    "motifs.region_barplot(OUTDIR, mot_dis_dir, spom_definitions['distance'][6]['hamming'], sigmots, \n",
    "                      (-15,-6), \"mean\", 95, method = \"hamming\", minfreq = int(0.01 * gold_sites),\n",
    "                      topn = 10, palette = family_cmap, \n",
    "                      xlim = (0,3.5), xtickint = 1, verbose = True\n",
    "                     )\n"
   ]
  },
  {
   "cell_type": "code",
   "execution_count": 23,
   "metadata": {},
   "outputs": [
    {
     "name": "stderr",
     "output_type": "stream",
     "text": [
      "/home/esk863/.conda/envs/tf-train/lib/python3.6/site-packages/statsmodels/stats/weightstats.py:135: RuntimeWarning: invalid value encountered in double_scalars\n",
      "  return self.sum / self.sum_weights\n",
      "/home/esk863/.conda/envs/tf-train/lib/python3.6/site-packages/statsmodels/stats/weightstats.py:182: RuntimeWarning: invalid value encountered in double_scalars\n",
      "  return self.sumsquares / (self.sum_weights - self.ddof)\n",
      "/home/esk863/.conda/envs/tf-train/lib/python3.6/site-packages/statsmodels/stats/weightstats.py:228: RuntimeWarning: invalid value encountered in sqrt\n",
      "  return std / np.sqrt(self.sum_weights - 1)\n",
      "/home/esk863/.conda/envs/tf-train/lib/python3.6/site-packages/statsmodels/stats/weightstats.py:228: RuntimeWarning: invalid value encountered in double_scalars\n",
      "  return std / np.sqrt(self.sum_weights - 1)\n"
     ]
    },
    {
     "data": {
      "image/png": "[encoded data removed]",
      "text/plain": [
       "<Figure size 36x90 with 1 Axes>"
      ]
     },
     "metadata": {
      "needs_background": "light"
     },
     "output_type": "display_data"
    },
    {
     "name": "stdout",
     "output_type": "stream",
     "text": [
      "      motif  frequency     score   conf_lo   conf_hi     family  error_lo\n",
      "31   AAUUUU       63.0  5.643888  6.075585  5.212192  T-rich_d2  0.431697\n",
      "62   AUUUUU       72.0  5.603182  6.053422  5.152943  T-rich_d1  0.450240\n",
      "205  UUUCAA       26.0  5.484951  6.040612  4.929291      Other  0.555661\n",
      "177  UUAUUU       88.0  5.404149  5.761681  5.046617  T-rich_d1  0.357532\n",
      "204  UUUAUU       60.0  5.342853  5.831199  4.854507  T-rich_d1  0.488346\n",
      "168  UUAAUU       57.0  5.305376  5.885721  4.725030  T-rich_d2  0.580345\n",
      "216  UUUUAA       55.0  5.277443  5.601763  4.953124  T-rich_d2  0.324319\n",
      "115  UAAUUU       57.0  5.203241  5.706703  4.699779  T-rich_d2  0.503462\n",
      "137  UAUUUU       76.0  5.133770  5.490651  4.776890  T-rich_d1  0.356880\n",
      "59   AUUUUA       46.0  5.111525  5.441401  4.781650  T-rich_d2  0.329876\n",
      "6.075585445404289\n"
     ]
    }
   ],
   "source": [
    "motifs.region_barplot(OUTDIR, mot_dis_dir, spom_definitions['distance'][6]['hamming'], sigmots, \n",
    "                      (-5,1), \"mean\", 95, method = \"hamming\", minfreq = int(0.01 * gold_sites),\n",
    "                      topn = 10, palette = family_cmap, \n",
    "                      xlim = (0,6.5), xtickint = 2, verbose = True\n",
    "                     )\n"
   ]
  },
  {
   "cell_type": "code",
   "execution_count": 24,
   "metadata": {},
   "outputs": [
    {
     "name": "stderr",
     "output_type": "stream",
     "text": [
      "/home/esk863/.conda/envs/tf-train/lib/python3.6/site-packages/statsmodels/stats/weightstats.py:228: RuntimeWarning: invalid value encountered in double_scalars\n",
      "  return std / np.sqrt(self.sum_weights - 1)\n",
      "/home/esk863/.conda/envs/tf-train/lib/python3.6/site-packages/statsmodels/stats/weightstats.py:135: RuntimeWarning: invalid value encountered in double_scalars\n",
      "  return self.sum / self.sum_weights\n",
      "/home/esk863/.conda/envs/tf-train/lib/python3.6/site-packages/statsmodels/stats/weightstats.py:182: RuntimeWarning: invalid value encountered in double_scalars\n",
      "  return self.sumsquares / (self.sum_weights - self.ddof)\n",
      "/home/esk863/.conda/envs/tf-train/lib/python3.6/site-packages/statsmodels/stats/weightstats.py:228: RuntimeWarning: invalid value encountered in sqrt\n",
      "  return std / np.sqrt(self.sum_weights - 1)\n"
     ]
    },
    {
     "data": {
      "image/png": "[encoded data removed]",
      "text/plain": [
       "<Figure size 36x90 with 1 Axes>"
      ]
     },
     "metadata": {
      "needs_background": "light"
     },
     "output_type": "display_data"
    },
    {
     "name": "stdout",
     "output_type": "stream",
     "text": [
      "      motif  frequency     score   conf_lo   conf_hi      family  error_lo\n",
      "214  UUUGUA       90.0  2.132958  2.265675  2.000240      GTA_d0  0.132718\n",
      "225  UUUUGU      119.0  2.102451  2.275993  1.928909   T-rich_d1  0.173542\n",
      "229  UUUUUU      299.0  2.005150  2.112099  1.898202   T-rich_d0  0.106948\n",
      "228  UUUUUG      121.0  1.888986  2.060377  1.717594   T-rich_d1  0.171392\n",
      "191  UUGUAG       29.0  1.881111  2.094035  1.668188  GTA-TAG_d0  0.212923\n",
      "190  UUGUAA       61.0  1.879623  2.011493  1.747753      GTA_d0  0.131870\n",
      "226  UUUUUA      122.0  1.833896  1.988332  1.679460   T-rich_d1  0.154436\n",
      "192  UUGUAU       70.0  1.815420  1.964305  1.666534      GTA_d0  0.148886\n",
      "215  UUUGUU       90.0  1.767145  1.938126  1.596164   T-rich_d1  0.170981\n",
      "54   AUUGUA       50.0  1.743220  1.924182  1.562257      GTA_d0  0.180963\n",
      "2.275992634149941\n"
     ]
    }
   ],
   "source": [
    "motifs.region_barplot(OUTDIR, mot_dis_dir, spom_definitions['distance'][6]['hamming'], sigmots, \n",
    "                      (2,14), \"mean\", 95, method = \"hamming\", minfreq = int(0.01 * gold_sites),\n",
    "                      topn = 10, palette = family_cmap, \n",
    "                      xlim = (0,2.5), xtickint = 1, verbose = True\n",
    "                     )\n"
   ]
  },
  {
   "cell_type": "code",
   "execution_count": 25,
   "metadata": {},
   "outputs": [
    {
     "data": {
      "image/png": "[encoded data removed]",
      "text/plain": [
       "<Figure size 36x90 with 1 Axes>"
      ]
     },
     "metadata": {
      "needs_background": "light"
     },
     "output_type": "display_data"
    },
    {
     "name": "stdout",
     "output_type": "stream",
     "text": [
      "      motif  frequency     score   conf_lo   conf_hi      family  error_lo\n",
      "95   GUAGUA       82.0  1.964518  2.098477  1.830560  GTA-TAG_d0  0.133958\n",
      "191  UUGUAG      166.0  1.829590  1.900976  1.758204  GTA-TAG_d0  0.071386\n",
      "157  UGUAGU      147.0  1.787635  1.868716  1.706555  GTA-TAG_d0  0.081081\n",
      "190  UUGUAA      292.0  1.685018  1.729096  1.640939      GTA_d0  0.044079\n",
      "153  UGUAAA      270.0  1.683935  1.738337  1.629534      GTA_d0  0.054402\n",
      "38   AGUAGU      103.0  1.666280  1.779182  1.553377  GTA-TAG_d0  0.112902\n",
      "214  UUUGUA      348.0  1.642903  1.696713  1.589094      GTA_d0  0.053809\n",
      "121  UAGUAG       85.0  1.635970  1.761993  1.509948  GTA-TAG_d0  0.126022\n",
      "54   AUUGUA      224.0  1.618441  1.684928  1.551954      GTA_d0  0.066487\n",
      "120  UAGUAA      136.0  1.602475  1.695993  1.508956  GTA-TAG_d0  0.093519\n",
      "2.098476554486169\n"
     ]
    }
   ],
   "source": [
    "motifs.region_barplot(OUTDIR, mot_dis_dir, spom_definitions['distance'][6]['hamming'], sigmots, \n",
    "                      (15,60), \"mean\", 95, method = \"hamming\", minfreq = int(0.01 * gold_sites),\n",
    "                      topn = 10, palette = family_cmap, \n",
    "                      xlim = (0,2.5), xtickint = 1, verbose = True\n",
    "                     )\n"
   ]
  },
  {
   "cell_type": "markdown",
   "metadata": {},
   "source": [
    "## Motif crosstalk"
   ]
  },
  {
   "cell_type": "code",
   "execution_count": 26,
   "metadata": {},
   "outputs": [],
   "source": [
    "gold_motifs = {\n",
    "    'UU' : {\n",
    "        'motifs' : mfam_importance[species][modeltype][config]['hamming_T-rich']['motifs'],\n",
    "        'region' : (-90,-31),\n",
    "    },\n",
    "    'PAS' : {\n",
    "        'motifs' : mfam_importance[species][modeltype][config]['hamming_A-rich']['motifs'],\n",
    "        'region' : (-30,-16),\n",
    "    },\n",
    "    'UF' : {\n",
    "        'motifs' : mfam_importance[species][modeltype][config]['hamming_T-rich']['motifs'],\n",
    "        'region' : (-15,-6),\n",
    "    },\n",
    "    'UAG' : {\n",
    "        'motifs' : mfam_importance[species][modeltype][config]['hamming_TAG']['motifs'] + mfam_importance[species][modeltype][config]['hamming_GTA-TAG']['motifs'],\n",
    "        'region' : (-90,-31),\n",
    "    },\n",
    "}\n"
   ]
  },
  {
   "cell_type": "code",
   "execution_count": 27,
   "metadata": {},
   "outputs": [
    {
     "name": "stdout",
     "output_type": "stream",
     "text": [
      "(2492, 15)\n"
     ]
    }
   ],
   "source": [
    "gold_data = pd.read_csv(os.path.join(RESOURCES, \"polyaclassifier_external_data_predictions.spom_golden_dist5.pred_by_spom_bagging3models.txt\"), sep = \"\\t\").drop(columns = ['sequence2'])\n",
    "\n",
    "gold_data['label']      = gold_data.apply(lambda row : f'{row.name:06d}:{row.chrom}:{row.start}:{row.strand}', axis = 1)\n",
    "gold_data['sequence']   = gold_data['sequence'].apply(lambda x : x[int((len(x)-500)/2):int((len(x)+500)/2)].upper())\n",
    "gold_data['idx_ctrclv'] = 250\n",
    "\n",
    "print(gold_data.shape)\n"
   ]
  },
  {
   "cell_type": "code",
   "execution_count": 28,
   "metadata": {},
   "outputs": [],
   "source": [
    "## Find locations of important elements surrounding polyA sites\n",
    "gold_data['idxs_PAS'] = gold_data['sequence'].apply(lambda x : motifs.count_motifs(x, gold_motifs['PAS']['motifs'], overlapping = False, preference = 'max', method = 'equal', count_only = False, index_only = True))\n",
    "gold_data['idxs_UAG'] = gold_data['sequence'].apply(lambda x : motifs.count_motifs(x, gold_motifs['UAG']['motifs'], overlapping = False, preference = 'max', method = 'equal', count_only = False, index_only = True))\n",
    "gold_data['idxs_UU']  = gold_data['sequence'].apply(lambda x : motifs.count_motifs(x, gold_motifs['UU']['motifs'],  overlapping = False, preference = 'max', method = 'equal', count_only = False, index_only = True))\n",
    "gold_data['idxs_UF']  = gold_data['sequence'].apply(lambda x : motifs.count_motifs(x, gold_motifs['UF']['motifs'],  overlapping = False, preference = 'min', method = 'equal', count_only = False, index_only = True))\n"
   ]
  },
  {
   "cell_type": "code",
   "execution_count": 29,
   "metadata": {},
   "outputs": [],
   "source": [
    "## Identify last PAS\n",
    "gold_data['idx_PAS'] = gold_data.apply(lambda row : motifs.select_motifs(row['idxs_PAS'], index = 'last', region = gold_motifs['PAS']['region'], relative = True, maxclv = row['idx_ctrclv']), axis = 1)\n",
    "gold_data['pos_PAS'] = gold_data['idx_PAS'] - gold_data['idx_ctrclv']\n"
   ]
  },
  {
   "cell_type": "code",
   "execution_count": 30,
   "metadata": {},
   "outputs": [],
   "source": [
    "## Find first U-rich element upstream of the selected PAS\n",
    "# gold_data['idx_UU'] = gold_data.apply(lambda row : motifs.select_motifs(row['idxs_UU'], index = 'last', region = (-90,row['pos_PAS']), relative = True, maxclv = row['idx_ctrclv']), axis = 1)\n",
    "gold_data['idx_UU'] = gold_data.apply(lambda row : motifs.select_motifs(row['idxs_UU'], index = 'last', region = gold_motifs['UU']['region'], relative = True, maxclv = row['idx_ctrclv']), axis = 1)\n"
   ]
  },
  {
   "cell_type": "code",
   "execution_count": 31,
   "metadata": {},
   "outputs": [],
   "source": [
    "## Find first UAG-rich element upstream of the selected PAS\n",
    "# gold_data['idx_UAG'] = gold_data.apply(lambda row : motifs.select_motifs(row['idxs_UAG'], index = 'last', region = (-90,row['pos_PAS']), relative = True, maxclv = row['idx_ctrclv']), axis = 1)\n",
    "gold_data['idx_UAG'] = gold_data.apply(lambda row : motifs.select_motifs(row['idxs_UAG'], index = 'last', region = gold_motifs['UAG']['region'], relative = True, maxclv = row['idx_ctrclv']), axis = 1)\n"
   ]
  },
  {
   "cell_type": "code",
   "execution_count": 32,
   "metadata": {},
   "outputs": [],
   "source": [
    "## Find the first U-rich element downstream of the selected PAS\n",
    "# gold_data['idx_UF'] = gold_data.apply(lambda row : motifs.select_motifs(row['idxs_UF'], index = 'first', region = (row['pos_PAS'],-6), relative = True, maxclv = row['idx_ctrclv']), axis = 1)\n",
    "gold_data['idx_UF'] = gold_data.apply(lambda row : motifs.select_motifs(row['idxs_UF'], index = 'first', region = gold_motifs['UF']['region'], relative = True, maxclv = row['idx_ctrclv']), axis = 1)\n"
   ]
  },
  {
   "cell_type": "markdown",
   "metadata": {},
   "source": [
    "### Analysis of motif crosstalk between degenerate *cis*-elements"
   ]
  },
  {
   "cell_type": "code",
   "execution_count": 33,
   "metadata": {},
   "outputs": [
    {
     "name": "stdout",
     "output_type": "stream",
     "text": [
      "(2492, 29)\n",
      "PAS & UAG: (836, 30)\n",
      "PAS & UU: (1680, 30)\n",
      "PAS & UF: (1036, 30)\n"
     ]
    }
   ],
   "source": [
    "gold_data['testKey'] = gold_data.apply(lambda row: f'{row.name:06d}_{row[\"chrom\"]}_{row[\"start\"]}_{row[\"strand\"]}', axis = 1)\n",
    "\n",
    "gold_data['testKey_UAG'] = gold_data.apply(lambda row: f'{row[\"testKey\"]}|{row[\"idx_UAG\"]-row[\"idx_ctrclv\"]}', axis = 1)\n",
    "gold_data['testKey_UU']  = gold_data.apply(lambda row: f'{row[\"testKey\"]}|{row[\"idx_UU\"] -row[\"idx_ctrclv\"]}', axis = 1)\n",
    "gold_data['testKey_PAS'] = gold_data.apply(lambda row: f'{row[\"testKey\"]}|{row[\"idx_PAS\"]-row[\"idx_ctrclv\"]}', axis = 1)\n",
    "gold_data['testKey_UF']  = gold_data.apply(lambda row: f'{row[\"testKey\"]}|{row[\"idx_UF\"] -row[\"idx_ctrclv\"]}', axis = 1)\n",
    "\n",
    "gold_pas_uag = gold_data.loc[~gold_data['idx_PAS'].isna() & ~gold_data['idx_UAG'].isna()].copy()\n",
    "gold_pas_uu  = gold_data.loc[~gold_data['idx_PAS'].isna() & ~gold_data['idx_UU'].isna()].copy()\n",
    "gold_pas_uf  = gold_data.loc[~gold_data['idx_PAS'].isna() & ~gold_data['idx_UF'].isna()].copy()\n",
    "\n",
    "gold_pas_uag['dist_PAS_UAG'] = gold_pas_uag['idx_UAG'] - gold_pas_uag['idx_PAS']\n",
    "gold_pas_uu['dist_PAS_UU']   = gold_pas_uu['idx_UU']   - gold_pas_uu['idx_PAS']\n",
    "gold_pas_uf['dist_PAS_UF']   = gold_pas_uf['idx_UF']   - gold_pas_uf['idx_PAS']\n",
    "\n",
    "print(gold_data.shape)\n",
    "print(\"PAS & UAG:\", gold_pas_uag.shape)\n",
    "print(\"PAS & UU:\",  gold_pas_uu.shape)\n",
    "print(\"PAS & UF:\",  gold_pas_uf.shape)\n"
   ]
  },
  {
   "cell_type": "code",
   "execution_count": 34,
   "metadata": {},
   "outputs": [],
   "source": [
    "single_panel_width_row1 = 0.85\n",
    "single_panel_width_row2 = 1.00\n",
    "double_panel_width = (single_panel_width_row1 * 2) + 0.5\n",
    "single_panel_height = 1\n",
    "upper_lower_panel_ratios = [2, 1]\n",
    "\n",
    "pas_mfams   = ['hamming_A-rich']\n",
    "u_mfams     = ['hamming_T-rich']\n",
    "uag_mfams   = ['hamming_TAG','hamming_GTA-TAG']\n"
   ]
  },
  {
   "cell_type": "markdown",
   "metadata": {},
   "source": [
    "#### Crosstalk between the PAS and upstream U-rich elements"
   ]
  },
  {
   "cell_type": "code",
   "execution_count": 35,
   "metadata": {
    "scrolled": true
   },
   "outputs": [
    {
     "name": "stdout",
     "output_type": "stream",
     "text": [
      "Beginning Motif-Motif distance compilation for: ['hamming_A-rich'] ['hamming_T-rich']\n",
      "up_PAS dist_PAS_UU idx_PAS idx_UU\n",
      "DISTANCE RANGE: -74 -1\n",
      "-74\tFreq =\t0\t1\n",
      "-73\tFreq =\t1\t1\n",
      "-72\tFreq =\t1\t1\n",
      "-71\tFreq =\t3\t3\n",
      "-70\tFreq =\t2\t3\n",
      "-69\tFreq =\t2\t2\n",
      "-68\tFreq =\t1\t1\n",
      "-67\tFreq =\t3\t3\n",
      "-66\tFreq =\t2\t2\n",
      "-65\tFreq =\t1\t7\n",
      "-64\tFreq =\t2\t3\n",
      "-63\tFreq =\t3\t6\n",
      "-62\tFreq =\t6\t8\n",
      "-61\tFreq =\t3\t4\n",
      "-60\tFreq =\t2\t3\n",
      "-59\tFreq =\t5\t8\n",
      "-58\tFreq =\t2\t4\n",
      "-57\tFreq =\t10\t12\n",
      "-56\tFreq =\t7\t11\n",
      "-55\tFreq =\t5\t7\n",
      "-54\tFreq =\t5\t6\n",
      "-53\tFreq =\t13\t20\n",
      "-52\tFreq =\t7\t14\n",
      "-51\tFreq =\t4\t5\n",
      "-50\tFreq =\t11\t13\n",
      "-49\tFreq =\t10\t13\n",
      "-48\tFreq =\t5\t8\n",
      "-47\tFreq =\t6\t9\n",
      "-46\tFreq =\t6\t7\n",
      "-45\tFreq =\t12\t15\n",
      "-44\tFreq =\t14\t17\n",
      "-43\tFreq =\t9\t17\n",
      "-42\tFreq =\t7\t19\n",
      "-41\tFreq =\t12\t17\n",
      "-40\tFreq =\t11\t20\n",
      "-39\tFreq =\t9\t11\n",
      "-38\tFreq =\t9\t19\n",
      "-37\tFreq =\t10\t18\n",
      "-36\tFreq =\t12\t17\n",
      "-35\tFreq =\t12\t11\n",
      "-34\tFreq =\t10\t13\n",
      "-33\tFreq =\t20\t29\n",
      "-32\tFreq =\t23\t31\n",
      "-31\tFreq =\t20\t26\n",
      "-30\tFreq =\t14\t29\n",
      "-29\tFreq =\t22\t35\n",
      "-28\tFreq =\t23\t33\n",
      "-27\tFreq =\t18\t31\n",
      "-26\tFreq =\t22\t33\n",
      "-25\tFreq =\t27\t41\n",
      "-24\tFreq =\t24\t38\n",
      "-23\tFreq =\t30\t46\n",
      "-22\tFreq =\t33\t46\n",
      "-21\tFreq =\t20\t32\n",
      "-20\tFreq =\t33\t50\n",
      "-19\tFreq =\t41\t54\n",
      "-18\tFreq =\t40\t67\n",
      "-17\tFreq =\t40\t65\n",
      "-16\tFreq =\t45\t67\n",
      "-15\tFreq =\t66\t92\n",
      "-14\tFreq =\t32\t57\n",
      "-13\tFreq =\t50\t66\n",
      "-12\tFreq =\t43\t57\n",
      "-11\tFreq =\t37\t59\n",
      "-10\tFreq =\t28\t40\n",
      "-9\tFreq =\t27\t31\n",
      "-8\tFreq =\t19\t26\n",
      "-7\tFreq =\t26\t30\n",
      "-6\tFreq =\t14\t13\n",
      "-5\tFreq =\t9\t9\n",
      "-4\tFreq =\t4\t4\n",
      "-3\tFreq =\t3\t3\n",
      "-2\tFreq =\t1\t1\n",
      "-1\tFreq =\t3\t3\n"
     ]
    }
   ],
   "source": [
    "fd_pas_uu = motifs.relative_position_motif_to_motif_importance(pas_mfams, u_mfams, 'PAS','UU',\n",
    "                                                              'dist_PAS_UU', 'idx_PAS', 'idx_UU', \n",
    "                                                              'up_PAS', \n",
    "                                                              mfam_importance[species][modeltype][config], \n",
    "                                                              gold_pas_uu)\n"
   ]
  },
  {
   "cell_type": "code",
   "execution_count": 36,
   "metadata": {
    "scrolled": true
   },
   "outputs": [
    {
     "name": "stdout",
     "output_type": "stream",
     "text": [
      "Beginning frequency and score tabulation using: dist_PAS_UU\n",
      "Distance range covered: -74 -1\n",
      "PAS\n",
      "(-22, 23.0)\n",
      "(-21, 18.0)\n",
      "(-20, 22.0)\n",
      "(-19, 27.0)\n",
      "(-18, 24.0)\n",
      "(-17, 30.0)\n",
      "(-16, 33.0)\n",
      "(-15, 20.0)\n",
      "(-14, 33.0)\n",
      "(-13, 41.0)\n",
      "(-12, 40.0)\n",
      "(-11, 40.0)\n",
      "(-10, 45.0)\n",
      "(-9, 66.0)\n",
      "(-8, 32.0)\n",
      "(-7, 50.0)\n",
      "(-6, 43.0)\n",
      "(-5, 37.0)\n",
      "(-4, 28.0)\n",
      "(-3, 27.0)\n",
      "(-2, 19.0)\n",
      "(-1, 26.0)\n",
      "(0, 14.0)\n",
      "(1, 9.0)\n",
      "(2, 4.0)\n",
      "(-22, 23.0)\n",
      "(-21, 18.0)\n",
      "(-20, 22.0)\n",
      "(-19, 27.0)\n",
      "(-18, 24.0)\n",
      "(-17, 30.0)\n",
      "(-16, 33.0)\n",
      "(-15, 20.0)\n",
      "(-14, 33.0)\n",
      "(-13, 41.0)\n",
      "(-12, 40.0)\n",
      "(-11, 40.0)\n",
      "(-10, 45.0)\n",
      "(-9, 66.0)\n",
      "(-8, 32.0)\n",
      "(-7, 50.0)\n",
      "(-6, 43.0)\n",
      "(-5, 37.0)\n",
      "(-4, 28.0)\n",
      "(-3, 27.0)\n",
      "(-2, 19.0)\n",
      "(-1, 26.0)\n",
      "(0, 14.0)\n",
      "(1, 9.0)\n",
      "(2, 4.0)\n",
      "Peak score: 5.328128578040607 @ position 2\n",
      "Mean score: 3.789595682646131\n",
      "Peak frequency: 66.0 @ position -9\n",
      "UU\n",
      "(-22, 33.0)\n",
      "(-21, 31.0)\n",
      "(-20, 33.0)\n",
      "(-19, 41.0)\n",
      "(-18, 38.0)\n",
      "(-17, 46.0)\n",
      "(-16, 46.0)\n",
      "(-15, 32.0)\n",
      "(-14, 50.0)\n",
      "(-13, 54.0)\n",
      "(-12, 67.0)\n",
      "(-11, 65.0)\n",
      "(-10, 67.0)\n",
      "(-9, 92.0)\n",
      "(-8, 57.0)\n",
      "(-7, 66.0)\n",
      "(-6, 57.0)\n",
      "(-5, 59.0)\n",
      "(-4, 40.0)\n",
      "(-3, 31.0)\n",
      "(-2, 26.0)\n",
      "(-1, 30.0)\n",
      "(0, 13.0)\n",
      "(1, 9.0)\n",
      "(2, 4.0)\n",
      "(-22, 33.0)\n",
      "(-21, 31.0)\n",
      "(-20, 33.0)\n",
      "(-19, 41.0)\n",
      "(-18, 38.0)\n",
      "(-17, 46.0)\n",
      "(-16, 46.0)\n",
      "(-15, 32.0)\n",
      "(-14, 50.0)\n",
      "(-13, 54.0)\n",
      "(-12, 67.0)\n",
      "(-11, 65.0)\n",
      "(-10, 67.0)\n",
      "(-9, 92.0)\n",
      "(-8, 57.0)\n",
      "(-7, 66.0)\n",
      "(-6, 57.0)\n",
      "(-5, 59.0)\n",
      "(-4, 40.0)\n",
      "(-3, 31.0)\n",
      "(-2, 26.0)\n",
      "(-1, 30.0)\n",
      "(0, 13.0)\n",
      "(1, 9.0)\n",
      "(2, 4.0)\n",
      "Peak score: 3.6678276540734993 @ position 2\n",
      "Mean score: 1.370848820558578\n",
      "Peak frequency: 92.0 @ position -9\n"
     ]
    },
    {
     "data": {
      "image/png": "[encoded data removed]",
      "text/plain": [
       "<Figure size 158.4x72 with 4 Axes>"
      ]
     },
     "metadata": {
      "needs_background": "light"
     },
     "output_type": "display_data"
    }
   ],
   "source": [
    "pas_uu_inputs = motifs.tabulate_motif_motif_distances(fd_pas_uu, gold_pas_uu, 'dist_PAS_UU', 'PAS', 'UU', overfill = None, flip = False, return_region = \"neg\")\n",
    "\n",
    "motifs.plot_motif_motif_distances('mean', pas_uu_inputs, ['PAS','UU'], \n",
    "                                  'distance_pas_uu.positive', OUTDIR, 'gray', 1,\n",
    "                                  double_panel_width, single_panel_height, upper_lower_panel_ratios,\n",
    "                                  (-20,0), 5, (0,150), 50, (0,3), 1)\n"
   ]
  },
  {
   "cell_type": "markdown",
   "metadata": {},
   "source": [
    "#### Crosstalk between the PAS and upstream UAG-rich elements"
   ]
  },
  {
   "cell_type": "code",
   "execution_count": 37,
   "metadata": {
    "scrolled": true
   },
   "outputs": [
    {
     "name": "stdout",
     "output_type": "stream",
     "text": [
      "Beginning Motif-Motif distance compilation for: ['hamming_A-rich'] ['hamming_TAG', 'hamming_GTA-TAG']\n",
      "up_PAS dist_PAS_UAG idx_PAS idx_UAG\n",
      "DISTANCE RANGE: -72 -3\n",
      "-72\tFreq =\t3\t3\n",
      "-71\tFreq =\t1\t1\n",
      "-70\tFreq =\t0\t3\n",
      "-69\tFreq =\t2\t3\n",
      "-68\tFreq =\t2\t5\n",
      "-67\tFreq =\t1\t2\n",
      "-66\tFreq =\t2\t2\n",
      "-65\tFreq =\t4\t4\n",
      "-64\tFreq =\t4\t5\n",
      "-63\tFreq =\t5\t6\n",
      "-62\tFreq =\t1\t4\n",
      "-61\tFreq =\t0\t4\n",
      "-60\tFreq =\t7\t9\n",
      "-59\tFreq =\t2\t8\n",
      "-58\tFreq =\t5\t5\n",
      "-57\tFreq =\t4\t5\n",
      "-56\tFreq =\t6\t9\n",
      "-55\tFreq =\t4\t8\n",
      "-54\tFreq =\t8\t16\n",
      "-53\tFreq =\t3\t5\n",
      "-52\tFreq =\t5\t6\n",
      "-51\tFreq =\t7\t7\n",
      "-50\tFreq =\t3\t12\n",
      "-49\tFreq =\t8\t13\n",
      "-48\tFreq =\t3\t7\n",
      "-47\tFreq =\t7\t13\n",
      "-46\tFreq =\t2\t5\n",
      "-45\tFreq =\t5\t9\n",
      "-44\tFreq =\t4\t7\n",
      "-43\tFreq =\t3\t9\n",
      "-42\tFreq =\t9\t10\n",
      "-41\tFreq =\t3\t4\n",
      "-40\tFreq =\t5\t6\n",
      "-39\tFreq =\t11\t15\n",
      "-38\tFreq =\t5\t6\n",
      "-37\tFreq =\t10\t13\n",
      "-36\tFreq =\t13\t15\n",
      "-35\tFreq =\t4\t5\n",
      "-34\tFreq =\t3\t9\n",
      "-33\tFreq =\t12\t16\n",
      "-32\tFreq =\t10\t14\n",
      "-31\tFreq =\t11\t18\n",
      "-30\tFreq =\t13\t15\n",
      "-29\tFreq =\t7\t13\n",
      "-28\tFreq =\t11\t20\n",
      "-27\tFreq =\t12\t21\n",
      "-26\tFreq =\t12\t16\n",
      "-25\tFreq =\t16\t22\n",
      "-24\tFreq =\t11\t17\n",
      "-23\tFreq =\t8\t15\n",
      "-22\tFreq =\t11\t18\n",
      "-21\tFreq =\t18\t25\n",
      "-20\tFreq =\t11\t18\n",
      "-19\tFreq =\t21\t31\n",
      "-18\tFreq =\t13\t22\n",
      "-17\tFreq =\t16\t24\n",
      "-16\tFreq =\t16\t27\n",
      "-15\tFreq =\t25\t40\n",
      "-14\tFreq =\t21\t27\n",
      "-13\tFreq =\t14\t16\n",
      "-12\tFreq =\t21\t23\n",
      "-11\tFreq =\t8\t14\n",
      "-10\tFreq =\t12\t13\n",
      "-9\tFreq =\t13\t16\n",
      "-8\tFreq =\t9\t9\n",
      "-7\tFreq =\t9\t11\n",
      "-6\tFreq =\t3\t4\n",
      "-5\tFreq =\t6\t7\n",
      "-4\tFreq =\t1\t1\n",
      "-3\tFreq =\t3\t3\n"
     ]
    }
   ],
   "source": [
    "fd_pas_uag = motifs.relative_position_motif_to_motif_importance(pas_mfams, uag_mfams, 'PAS','UAG',\n",
    "                                                              'dist_PAS_UAG', 'idx_PAS', 'idx_UAG', \n",
    "                                                              'up_PAS', \n",
    "                                                              mfam_importance[species][modeltype][config], \n",
    "                                                              gold_pas_uag)\n"
   ]
  },
  {
   "cell_type": "code",
   "execution_count": 38,
   "metadata": {},
   "outputs": [
    {
     "name": "stdout",
     "output_type": "stream",
     "text": [
      "Beginning frequency and score tabulation using: dist_PAS_UAG\n",
      "Distance range covered: -72 -3\n",
      "PAS\n",
      "(-22, 11.0)\n",
      "(-21, 12.0)\n",
      "(-20, 12.0)\n",
      "(-19, 16.0)\n",
      "(-18, 11.0)\n",
      "(-17, 8.0)\n",
      "(-16, 11.0)\n",
      "(-15, 18.0)\n",
      "(-14, 11.0)\n",
      "(-13, 21.0)\n",
      "(-12, 13.0)\n",
      "(-11, 16.0)\n",
      "(-10, 16.0)\n",
      "(-9, 25.0)\n",
      "(-8, 21.0)\n",
      "(-7, 14.0)\n",
      "(-6, 21.0)\n",
      "(-5, 8.0)\n",
      "(-4, 12.0)\n",
      "(-3, 13.0)\n",
      "(-2, 9.0)\n",
      "(-1, 9.0)\n",
      "(0, 3.0)\n",
      "(1, 6.0)\n",
      "(2, 1.0)\n",
      "(3, 3.0)\n",
      "(-22, 11.0)\n",
      "(-21, 12.0)\n",
      "(-20, 12.0)\n",
      "(-19, 16.0)\n",
      "(-18, 11.0)\n",
      "(-17, 8.0)\n",
      "(-16, 11.0)\n",
      "(-15, 18.0)\n",
      "(-14, 11.0)\n",
      "(-13, 21.0)\n",
      "(-12, 13.0)\n",
      "(-11, 16.0)\n",
      "(-10, 16.0)\n",
      "(-9, 25.0)\n",
      "(-8, 21.0)\n",
      "(-7, 14.0)\n",
      "(-6, 21.0)\n",
      "(-5, 8.0)\n",
      "(-4, 12.0)\n",
      "(-3, 13.0)\n",
      "(-2, 9.0)\n",
      "(-1, 9.0)\n",
      "(0, 3.0)\n",
      "(1, 6.0)\n",
      "(2, 1.0)\n",
      "(3, 3.0)\n",
      "Peak score: 5.206703797838244 @ position -7\n",
      "Mean score: 3.482013793794024\n",
      "Peak frequency: 25.0 @ position -9\n",
      "UAG\n",
      "(-22, 20.0)\n",
      "(-21, 21.0)\n",
      "(-20, 16.0)\n",
      "(-19, 22.0)\n",
      "(-18, 17.0)\n",
      "(-17, 15.0)\n",
      "(-16, 18.0)\n",
      "(-15, 25.0)\n",
      "(-14, 18.0)\n",
      "(-13, 31.0)\n",
      "(-12, 22.0)\n",
      "(-11, 24.0)\n",
      "(-10, 27.0)\n",
      "(-9, 40.0)\n",
      "(-8, 27.0)\n",
      "(-7, 16.0)\n",
      "(-6, 23.0)\n",
      "(-5, 14.0)\n",
      "(-4, 13.0)\n",
      "(-3, 16.0)\n",
      "(-2, 9.0)\n",
      "(-1, 11.0)\n",
      "(0, 4.0)\n",
      "(1, 7.0)\n",
      "(2, 1.0)\n",
      "(3, 3.0)\n",
      "(-22, 20.0)\n",
      "(-21, 21.0)\n",
      "(-20, 16.0)\n",
      "(-19, 22.0)\n",
      "(-18, 17.0)\n",
      "(-17, 15.0)\n",
      "(-16, 18.0)\n",
      "(-15, 25.0)\n",
      "(-14, 18.0)\n",
      "(-13, 31.0)\n",
      "(-12, 22.0)\n",
      "(-11, 24.0)\n",
      "(-10, 27.0)\n",
      "(-9, 40.0)\n",
      "(-8, 27.0)\n",
      "(-7, 16.0)\n",
      "(-6, 23.0)\n",
      "(-5, 14.0)\n",
      "(-4, 13.0)\n",
      "(-3, 16.0)\n",
      "(-2, 9.0)\n",
      "(-1, 11.0)\n",
      "(0, 4.0)\n",
      "(1, 7.0)\n",
      "(2, 1.0)\n",
      "(3, 3.0)\n",
      "Peak score: 3.6550154274337694 @ position 3\n",
      "Mean score: 1.7897697955667182\n",
      "Peak frequency: 40.0 @ position -9\n"
     ]
    },
    {
     "data": {
      "image/png": "[encoded data removed]",
      "text/plain": [
       "<Figure size 158.4x72 with 4 Axes>"
      ]
     },
     "metadata": {
      "needs_background": "light"
     },
     "output_type": "display_data"
    }
   ],
   "source": [
    "pas_uag_inputs = motifs.tabulate_motif_motif_distances(fd_pas_uag, gold_pas_uag, 'dist_PAS_UAG', 'PAS', 'UAG', overfill = None, flip = False, return_region = \"neg\")\n",
    "\n",
    "motifs.plot_motif_motif_distances('mean', pas_uag_inputs, ['PAS','UAG'], \n",
    "                                  'distance_pas_uag.positive', OUTDIR, 'gray', 1,\n",
    "                                  double_panel_width, single_panel_height, upper_lower_panel_ratios,\n",
    "                                  (-20,1), 5, (0,40), 20, (0,4), 1)\n"
   ]
  },
  {
   "cell_type": "markdown",
   "metadata": {},
   "source": [
    "#### Crosstalk between the PAS and downstream CS-flanking U-rich elements"
   ]
  },
  {
   "cell_type": "code",
   "execution_count": 39,
   "metadata": {
    "scrolled": true
   },
   "outputs": [
    {
     "name": "stdout",
     "output_type": "stream",
     "text": [
      "Beginning Motif-Motif distance compilation for: ['hamming_A-rich'] ['hamming_T-rich']\n",
      "down_PAS dist_PAS_UF idx_PAS idx_UF\n",
      "DISTANCE RANGE: 1 23\n",
      "1\tFreq =\t27\t27\n",
      "2\tFreq =\t3\t3\n",
      "3\tFreq =\t6\t6\n",
      "4\tFreq =\t13\t17\n",
      "5\tFreq =\t35\t49\n",
      "6\tFreq =\t29\t36\n",
      "7\tFreq =\t100\t139\n",
      "8\tFreq =\t54\t81\n",
      "9\tFreq =\t52\t80\n",
      "10\tFreq =\t58\t79\n",
      "11\tFreq =\t55\t81\n",
      "12\tFreq =\t37\t54\n",
      "13\tFreq =\t52\t83\n",
      "14\tFreq =\t37\t50\n",
      "15\tFreq =\t31\t49\n",
      "16\tFreq =\t31\t41\n",
      "17\tFreq =\t23\t31\n",
      "18\tFreq =\t15\t22\n",
      "19\tFreq =\t10\t14\n",
      "20\tFreq =\t8\t12\n",
      "21\tFreq =\t5\t6\n",
      "22\tFreq =\t2\t3\n",
      "23\tFreq =\t4\t4\n"
     ]
    }
   ],
   "source": [
    "fd_pas_uf = motifs.relative_position_motif_to_motif_importance(pas_mfams, u_mfams, 'PAS','UF',\n",
    "                                                              'dist_PAS_UF', 'idx_PAS', 'idx_UF', \n",
    "                                                              'down_PAS', \n",
    "                                                              mfam_importance[species][modeltype][config], \n",
    "                                                              gold_pas_uf)\n"
   ]
  },
  {
   "cell_type": "code",
   "execution_count": 40,
   "metadata": {
    "scrolled": true
   },
   "outputs": [
    {
     "name": "stdout",
     "output_type": "stream",
     "text": [
      "Beginning frequency and score tabulation using: dist_PAS_UF\n",
      "Distance range covered: 1 23\n",
      "PAS\n",
      "(-2, 13.0)\n",
      "(-1, 35.0)\n",
      "(0, 29.0)\n",
      "(1, 100.0)\n",
      "(2, 54.0)\n",
      "(3, 52.0)\n",
      "(4, 58.0)\n",
      "(5, 55.0)\n",
      "(6, 37.0)\n",
      "(7, 52.0)\n",
      "(8, 37.0)\n",
      "(9, 31.0)\n",
      "(10, 31.0)\n",
      "(11, 23.0)\n",
      "(12, 15.0)\n",
      "(-2, 13.0)\n",
      "(-1, 35.0)\n",
      "(0, 29.0)\n",
      "(1, 100.0)\n",
      "(2, 54.0)\n",
      "(3, 52.0)\n",
      "(4, 58.0)\n",
      "(5, 55.0)\n",
      "(6, 37.0)\n",
      "(7, 52.0)\n",
      "(8, 37.0)\n",
      "(9, 31.0)\n",
      "(10, 31.0)\n",
      "(11, 23.0)\n",
      "(12, 15.0)\n",
      "Peak score: 4.5014725943863185 @ position 10\n",
      "Mean score: 3.637383587618293\n",
      "Peak frequency: 100.0 @ position 1\n",
      "UF\n",
      "(-2, 17.0)\n",
      "(-1, 49.0)\n",
      "(0, 36.0)\n",
      "(1, 139.0)\n",
      "(2, 81.0)\n",
      "(3, 80.0)\n",
      "(4, 79.0)\n",
      "(5, 81.0)\n",
      "(6, 54.0)\n",
      "(7, 83.0)\n",
      "(8, 50.0)\n",
      "(9, 49.0)\n",
      "(10, 41.0)\n",
      "(11, 31.0)\n",
      "(12, 22.0)\n",
      "(-2, 17.0)\n",
      "(-1, 49.0)\n",
      "(0, 36.0)\n",
      "(1, 139.0)\n",
      "(2, 81.0)\n",
      "(3, 80.0)\n",
      "(4, 79.0)\n",
      "(5, 81.0)\n",
      "(6, 54.0)\n",
      "(7, 83.0)\n",
      "(8, 50.0)\n",
      "(9, 49.0)\n",
      "(10, 41.0)\n",
      "(11, 31.0)\n",
      "(12, 22.0)\n",
      "Peak score: 2.3185327853829185 @ position 0\n",
      "Mean score: 1.9273431835887536\n",
      "Peak frequency: 139.0 @ position 1\n"
     ]
    },
    {
     "data": {
      "image/png": "[encoded data removed]",
      "text/plain": [
       "<Figure size 158.4x72 with 4 Axes>"
      ]
     },
     "metadata": {
      "needs_background": "light"
     },
     "output_type": "display_data"
    }
   ],
   "source": [
    "pas_uf_inputs = motifs.tabulate_motif_motif_distances(fd_pas_uf, gold_pas_uf, 'dist_PAS_UF', 'PAS', 'UF', overfill = None, flip = False, return_region = \"pos\")\n",
    "\n",
    "motifs.plot_motif_motif_distances('mean', pas_uf_inputs, ['PAS','UF'], \n",
    "                                  'distance_pas_uf.positive', OUTDIR, 'gray', 1,\n",
    "                                  double_panel_width, single_panel_height, upper_lower_panel_ratios,\n",
    "                                  (0,10), 5, (0,150), 50, (0,3), 1)\n"
   ]
  }
 ],
 "metadata": {
  "kernelspec": {
   "display_name": "Python (tf-train)",
   "language": "python",
   "name": "tf-train"
  },
  "language_info": {
   "codemirror_mode": {
    "name": "ipython",
    "version": 3
   },
   "file_extension": ".py",
   "mimetype": "text/x-python",
   "name": "python",
   "nbconvert_exporter": "python",
   "pygments_lexer": "ipython3",
   "version": "3.6.12"
  }
 },
 "nbformat": 4,
 "nbformat_minor": 2
}
