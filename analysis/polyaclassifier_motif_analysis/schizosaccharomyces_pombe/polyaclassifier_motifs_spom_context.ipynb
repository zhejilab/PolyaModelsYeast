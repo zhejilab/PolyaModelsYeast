{
 "cells": [
  {
   "cell_type": "markdown",
   "metadata": {},
   "source": [
    "# Analysis of PolyaClassifier site definition for *S. pombe*\n",
    "## Sequence context surrounding UAG and GUA elements\n",
    "\n",
    "**Purpose**: To identify 6mer motifs important to cleavage site definition in *S. pombe* through a systematic mutation approach.\n"
   ]
  },
  {
   "cell_type": "code",
   "execution_count": 1,
   "metadata": {},
   "outputs": [],
   "source": [
    "%load_ext autoreload"
   ]
  },
  {
   "cell_type": "code",
   "execution_count": 2,
   "metadata": {},
   "outputs": [],
   "source": [
    "%autoreload 2"
   ]
  },
  {
   "cell_type": "code",
   "execution_count": 3,
   "metadata": {},
   "outputs": [],
   "source": [
    "%run -i notebook_setup.py"
   ]
  },
  {
   "cell_type": "markdown",
   "metadata": {},
   "source": [
    "## IMPORTS AND SETUP"
   ]
  },
  {
   "cell_type": "code",
   "execution_count": 4,
   "metadata": {},
   "outputs": [],
   "source": [
    "from paper_utilities import motifs"
   ]
  },
  {
   "cell_type": "code",
   "execution_count": 5,
   "metadata": {},
   "outputs": [],
   "source": [
    "species   = 'schizosaccharomyces_pombe'\n",
    "modeltype = 'polyaclassifier'\n",
    "config    = 'polyaclassifier_bagging3_kmers-6'\n",
    "kmer      = 6\n"
   ]
  },
  {
   "cell_type": "code",
   "execution_count": 6,
   "metadata": {},
   "outputs": [],
   "source": [
    "PROJECT   = \"/projects/b1080/eks/polyadenylation/yeast\"\n",
    "OUTDIR    = os.path.join(PROJECT, 'manuscript', 'analysis', 'polyaclassifier_motif_importance_spom_context')\n",
    "RESOURCES = os.path.join(os.path.dirname(OUTDIR), 'resources')\n",
    "os.makedirs(OUTDIR, exist_ok = True)\n"
   ]
  },
  {
   "cell_type": "code",
   "execution_count": 7,
   "metadata": {},
   "outputs": [
    {
     "name": "stdout",
     "output_type": "stream",
     "text": [
      "\n",
      "Number of golden sites: 2492\n",
      "\n",
      "Directory containing motif disruption results: /projects/b1080/eks/polyadenylation/yeast/schizosaccharomyces_pombe/analysis/motif_analysis/motif_disruption/polyaclassifier_bagging3_kmers-6\n"
     ]
    }
   ],
   "source": [
    "## Load model configuration information\n",
    "\n",
    "with open(os.path.join(RESOURCES, 'polyaclassifier_configurations.pickle'), mode = 'rb') as handle:\n",
    "    configurations = pickle.load(handle)\n",
    "\n",
    "gold_sites = configurations[species][config]['golden_lines']\n",
    "print(\"\\nNumber of golden sites:\", gold_sites)\n",
    "\n",
    "mot_dis_dir = os.path.join(PROJECT, species, 'analysis', 'motif_analysis', 'motif_disruption', config)\n",
    "print(\"\\nDirectory containing motif disruption results:\", mot_dis_dir)\n"
   ]
  },
  {
   "cell_type": "markdown",
   "metadata": {
    "scrolled": false
   },
   "source": [
    "# ANALYSIS"
   ]
  },
  {
   "cell_type": "markdown",
   "metadata": {},
   "source": [
    "## Motif in native context"
   ]
  },
  {
   "cell_type": "markdown",
   "metadata": {},
   "source": [
    "### Surrounding the TAG element upstream of the cleavage site and PAS"
   ]
  },
  {
   "cell_type": "code",
   "execution_count": 8,
   "metadata": {},
   "outputs": [
    {
     "name": "stdout",
     "output_type": "stream",
     "text": [
      "/projects/b1080/eks/polyadenylation/yeast/schizosaccharomyces_pombe/analysis/motif_analysis/motif_context/polyaclassifier_bagging3_kmers-9_core-TAG\n"
     ]
    }
   ],
   "source": [
    "motif = 'TAG'\n",
    "extension = 3\n",
    "\n",
    "mot_con_dir = mot_dis_dir.replace(\"motif_disruption\", \"motif_context\").replace(\"-6\", f\"-9_core-{motif}\")\n",
    "print(mot_con_dir)\n"
   ]
  },
  {
   "cell_type": "markdown",
   "metadata": {},
   "source": [
    "#### Based on motif frequency"
   ]
  },
  {
   "cell_type": "code",
   "execution_count": 9,
   "metadata": {},
   "outputs": [
    {
     "name": "stdout",
     "output_type": "stream",
     "text": [
      "Beginning to process motif edge alterations for TAG with edge 3mers. 4,096 motifs possible.\n"
     ]
    },
    {
     "name": "stderr",
     "output_type": "stream",
     "text": [
      "100%|██████████| 4096/4096 [01:40<00:00, 40.71it/s]\n"
     ]
    }
   ],
   "source": [
    "tag_count_df, tag_count_scores = motifs.analyze_motif_context(mot_con_dir, motif, extension, (-80-extension,-30-extension), \n",
    "                                                              xvariable = 'position', \n",
    "                                                              yvariable = 'differenceClassification', \n",
    "                                                              method = 'count')\n"
   ]
  },
  {
   "cell_type": "code",
   "execution_count": 10,
   "metadata": {},
   "outputs": [
    {
     "data": {
      "image/png": "[encoded data removed]",
      "text/plain": [
       "<Figure size 144x54 with 1 Axes>"
      ]
     },
     "metadata": {},
     "output_type": "display_data"
    }
   ],
   "source": [
    "tag_count_ppm = motifs.visualize_motif_context(tag_count_scores, OUTDIR, motif, extension, (-80-extension,-30-extension), \n",
    "                                               method = 'count', normalize = True,\n",
    "                                               plot_format = 'ppm')\n"
   ]
  },
  {
   "cell_type": "code",
   "execution_count": 11,
   "metadata": {},
   "outputs": [
    {
     "name": "stderr",
     "output_type": "stream",
     "text": [
      "/projects/b1080/eks/polyadenylation/yeast/manuscript/paper_utilities/motifs.py:694: RuntimeWarning: divide by zero encountered in log2\n",
      "  ext_score = np.log2(ext_score/0.25).replace([np.inf, -np.inf], np.nan).fillna(0)\n"
     ]
    },
    {
     "data": {
      "image/png": "[encoded data removed]",
      "text/plain": [
       "<Figure size 144x54 with 1 Axes>"
      ]
     },
     "metadata": {
      "needs_background": "light"
     },
     "output_type": "display_data"
    }
   ],
   "source": [
    "tag_count_pwm = motifs.visualize_motif_context(tag_count_scores, OUTDIR, motif, extension, (-80-extension,-30-extension), \n",
    "                                               method = 'count', normalize = True,\n",
    "                                               plot_format = 'pwm', ylim = (0,1.25), ytickint = 0.25)\n"
   ]
  },
  {
   "cell_type": "markdown",
   "metadata": {},
   "source": [
    "#### Based on motif importance"
   ]
  },
  {
   "cell_type": "code",
   "execution_count": 12,
   "metadata": {},
   "outputs": [
    {
     "name": "stdout",
     "output_type": "stream",
     "text": [
      "Beginning to process motif edge alterations for TAG with edge 3mers. 4,096 motifs possible.\n"
     ]
    },
    {
     "name": "stderr",
     "output_type": "stream",
     "text": [
      "100%|██████████| 4096/4096 [01:38<00:00, 41.54it/s]\n"
     ]
    }
   ],
   "source": [
    "tag_imp_df, tag_imp_scores = motifs.analyze_motif_context(mot_con_dir, motif, extension, (-80-extension,-30-extension), \n",
    "                                                          xvariable = 'position', \n",
    "                                                          yvariable = 'differenceClassification', \n",
    "                                                          method = 'mean')\n"
   ]
  },
  {
   "cell_type": "code",
   "execution_count": 13,
   "metadata": {},
   "outputs": [
    {
     "data": {
      "image/png": "[encoded data removed]",
      "text/plain": [
       "<Figure size 144x54 with 1 Axes>"
      ]
     },
     "metadata": {},
     "output_type": "display_data"
    }
   ],
   "source": [
    "tag_imp_ppm = motifs.visualize_motif_context(tag_imp_scores, OUTDIR, motif, extension, (-80-extension,-30-extension), \n",
    "                                             method = 'mean', normalize = True,\n",
    "                                             plot_format = 'ppm')\n"
   ]
  },
  {
   "cell_type": "code",
   "execution_count": 14,
   "metadata": {},
   "outputs": [
    {
     "data": {
      "image/png": "[encoded data removed]",
      "text/plain": [
       "<Figure size 144x54 with 1 Axes>"
      ]
     },
     "metadata": {
      "needs_background": "light"
     },
     "output_type": "display_data"
    }
   ],
   "source": [
    "tag_imp_pwm = motifs.visualize_motif_context(tag_imp_scores, OUTDIR, motif, extension, (-80-extension,-30-extension), \n",
    "                                             method = 'mean', normalize = True,\n",
    "                                             plot_format = 'pwm')\n"
   ]
  },
  {
   "cell_type": "code",
   "execution_count": 15,
   "metadata": {},
   "outputs": [
    {
     "data": {
      "image/png": "[encoded data removed]",
      "text/plain": [
       "<Figure size 144x54 with 1 Axes>"
      ]
     },
     "metadata": {
      "needs_background": "light"
     },
     "output_type": "display_data"
    }
   ],
   "source": [
    "tag_imp_pwm = motifs.visualize_motif_context(tag_imp_scores, OUTDIR, motif, extension, (-80-extension,-30-extension), \n",
    "                                             method = 'mean', normalize = True,\n",
    "                                             plot_format = 'pwm', ylim = (0, 1), ytickint = 0.25)\n"
   ]
  },
  {
   "cell_type": "markdown",
   "metadata": {},
   "source": [
    "### Surrounding the GTA element downstream of the cleavage site"
   ]
  },
  {
   "cell_type": "code",
   "execution_count": 16,
   "metadata": {},
   "outputs": [
    {
     "name": "stdout",
     "output_type": "stream",
     "text": [
      "/projects/b1080/eks/polyadenylation/yeast/schizosaccharomyces_pombe/analysis/motif_analysis/motif_context/polyaclassifier_bagging3_kmers-9_core-GTA\n"
     ]
    }
   ],
   "source": [
    "motif = 'GTA'\n",
    "extension = 3\n",
    "\n",
    "mot_con_dir = mot_dis_dir.replace(\"motif_disruption\", \"motif_context\").replace(\"-6\", f\"-9_core-{motif}\")\n",
    "print(mot_con_dir)\n"
   ]
  },
  {
   "cell_type": "markdown",
   "metadata": {},
   "source": [
    "#### Based on motif frequency"
   ]
  },
  {
   "cell_type": "code",
   "execution_count": 17,
   "metadata": {},
   "outputs": [
    {
     "name": "stdout",
     "output_type": "stream",
     "text": [
      "Beginning to process motif edge alterations for GTA with edge 3mers. 4,096 motifs possible.\n"
     ]
    },
    {
     "name": "stderr",
     "output_type": "stream",
     "text": [
      "100%|██████████| 4096/4096 [01:43<00:00, 39.49it/s]\n"
     ]
    }
   ],
   "source": [
    "gta_count_df, gta_count_scores = motifs.analyze_motif_context(mot_con_dir, motif, extension, (15-extension,60-extension), \n",
    "                                                              xvariable = 'position', \n",
    "                                                              yvariable = 'differenceClassification', \n",
    "                                                              method = 'count')\n"
   ]
  },
  {
   "cell_type": "code",
   "execution_count": 18,
   "metadata": {},
   "outputs": [
    {
     "data": {
      "image/png": "[encoded data removed]",
      "text/plain": [
       "<Figure size 144x54 with 1 Axes>"
      ]
     },
     "metadata": {},
     "output_type": "display_data"
    }
   ],
   "source": [
    "gta_count_ppm = motifs.visualize_motif_context(gta_count_scores, OUTDIR, motif, extension, (15-extension,60-extension), \n",
    "                                               method = 'count', normalize = True,\n",
    "                                               plot_format = 'ppm')\n"
   ]
  },
  {
   "cell_type": "code",
   "execution_count": 19,
   "metadata": {},
   "outputs": [
    {
     "data": {
      "image/png": "[encoded data removed]",
      "text/plain": [
       "<Figure size 144x54 with 1 Axes>"
      ]
     },
     "metadata": {
      "needs_background": "light"
     },
     "output_type": "display_data"
    }
   ],
   "source": [
    "gta_count_pwm = motifs.visualize_motif_context(gta_count_scores, OUTDIR, motif, extension, (15-extension,60-extension), \n",
    "                                               method = 'count', normalize = True,\n",
    "                                               plot_format = 'pwm', ylim = (0,1.25), ytickint = 0.25)\n"
   ]
  },
  {
   "cell_type": "markdown",
   "metadata": {},
   "source": [
    "#### Based on motif importance"
   ]
  },
  {
   "cell_type": "code",
   "execution_count": 20,
   "metadata": {},
   "outputs": [
    {
     "name": "stdout",
     "output_type": "stream",
     "text": [
      "Beginning to process motif edge alterations for GTA with edge 3mers. 4,096 motifs possible.\n"
     ]
    },
    {
     "name": "stderr",
     "output_type": "stream",
     "text": [
      "100%|██████████| 4096/4096 [01:40<00:00, 40.69it/s]\n"
     ]
    }
   ],
   "source": [
    "gta_imp_df, gta_imp_scores = motifs.analyze_motif_context(mot_con_dir, motif, extension, (15-extension,60-extension), \n",
    "                                                          xvariable = 'position', \n",
    "                                                          yvariable = 'differenceClassification', \n",
    "                                                          method = 'mean')\n"
   ]
  },
  {
   "cell_type": "code",
   "execution_count": 21,
   "metadata": {},
   "outputs": [
    {
     "data": {
      "image/png": "[encoded data removed]",
      "text/plain": [
       "<Figure size 144x54 with 1 Axes>"
      ]
     },
     "metadata": {},
     "output_type": "display_data"
    }
   ],
   "source": [
    "gta_imp_ppm = motifs.visualize_motif_context(gta_imp_scores, OUTDIR, motif, extension, (15-extension,60-extension), \n",
    "                                             method = 'mean', normalize = True,\n",
    "                                             plot_format = 'ppm')\n"
   ]
  },
  {
   "cell_type": "code",
   "execution_count": 22,
   "metadata": {},
   "outputs": [
    {
     "data": {
      "image/png": "[encoded data removed]",
      "text/plain": [
       "<Figure size 144x54 with 1 Axes>"
      ]
     },
     "metadata": {
      "needs_background": "light"
     },
     "output_type": "display_data"
    }
   ],
   "source": [
    "gta_imp_pwm = motifs.visualize_motif_context(gta_imp_scores, OUTDIR, motif, extension, (15-extension,60-extension), \n",
    "                                             method = 'mean', normalize = True,\n",
    "                                             plot_format = 'pwm')\n"
   ]
  },
  {
   "cell_type": "code",
   "execution_count": 26,
   "metadata": {},
   "outputs": [
    {
     "data": {
      "image/png": "[encoded data removed]",
      "text/plain": [
       "<Figure size 144x54 with 1 Axes>"
      ]
     },
     "metadata": {
      "needs_background": "light"
     },
     "output_type": "display_data"
    }
   ],
   "source": [
    "gta_imp_pwm = motifs.visualize_motif_context(gta_imp_scores, OUTDIR, motif, extension, (15-extension,60-extension), \n",
    "                                             method = 'mean', normalize = True,\n",
    "                                             plot_format = 'pwm', ylim = (0,0.6), ytickint = 0.2)\n"
   ]
  }
 ],
 "metadata": {
  "kernelspec": {
   "display_name": "Python (tf-train)",
   "language": "python",
   "name": "tf-train"
  },
  "language_info": {
   "codemirror_mode": {
    "name": "ipython",
    "version": 3
   },
   "file_extension": ".py",
   "mimetype": "text/x-python",
   "name": "python",
   "nbconvert_exporter": "python",
   "pygments_lexer": "ipython3",
   "version": "3.6.12"
  }
 },
 "nbformat": 4,
 "nbformat_minor": 2
}
