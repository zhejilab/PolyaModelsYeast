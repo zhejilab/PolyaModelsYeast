{
 "cells": [
  {
   "cell_type": "markdown",
   "metadata": {},
   "source": [
    "# Analysis of PolyaClassifier site definition for *S. pombe*\n",
    "\n",
    "**Purpose**: To identify 5mer motifs important to cleavage site definition in *S. pombe* through a systematic mutation approach.\n"
   ]
  },
  {
   "cell_type": "code",
   "execution_count": 1,
   "metadata": {},
   "outputs": [],
   "source": [
    "%load_ext autoreload"
   ]
  },
  {
   "cell_type": "code",
   "execution_count": 2,
   "metadata": {},
   "outputs": [],
   "source": [
    "%autoreload 2"
   ]
  },
  {
   "cell_type": "code",
   "execution_count": 3,
   "metadata": {},
   "outputs": [],
   "source": [
    "%run -i notebook_setup.py"
   ]
  },
  {
   "cell_type": "markdown",
   "metadata": {},
   "source": [
    "## IMPORTS AND SETUP"
   ]
  },
  {
   "cell_type": "code",
   "execution_count": 4,
   "metadata": {},
   "outputs": [],
   "source": [
    "from paper_utilities import motifs"
   ]
  },
  {
   "cell_type": "code",
   "execution_count": 5,
   "metadata": {},
   "outputs": [],
   "source": [
    "species   = 'schizosaccharomyces_pombe'\n",
    "modeltype = 'polyaclassifier'\n",
    "config    = 'polyaclassifier_bagging3_kmers-5'\n",
    "kmer      = 5\n"
   ]
  },
  {
   "cell_type": "code",
   "execution_count": 6,
   "metadata": {},
   "outputs": [],
   "source": [
    "PROJECT   = \"/projects/b1080/eks/polyadenylation/yeast\"\n",
    "OUTDIR    = os.path.join(PROJECT, 'manuscript', 'analysis', 'polyaclassifier_motif_importance_spom_5mers')\n",
    "RESOURCES = os.path.join(os.path.dirname(OUTDIR), 'resources')\n",
    "os.makedirs(OUTDIR, exist_ok = True)\n"
   ]
  },
  {
   "cell_type": "code",
   "execution_count": 7,
   "metadata": {},
   "outputs": [
    {
     "name": "stdout",
     "output_type": "stream",
     "text": [
      "\n",
      "Number of golden sites: 2492\n",
      "\n",
      "Directory containing motif disruption results: /projects/b1080/eks/polyadenylation/yeast/schizosaccharomyces_pombe/analysis/motif_analysis/motif_disruption/polyaclassifier_bagging3_kmers-5\n"
     ]
    }
   ],
   "source": [
    "## Load model configuration information\n",
    "\n",
    "with open(os.path.join(RESOURCES, 'polyaclassifier_configurations.pickle'), mode = 'rb') as handle:\n",
    "    configurations = pickle.load(handle)\n",
    "\n",
    "gold_sites = configurations[species][config]['golden_lines']\n",
    "print(\"\\nNumber of golden sites:\", gold_sites)\n",
    "\n",
    "mot_dis_dir = os.path.join(PROJECT, species, 'analysis', 'motif_analysis', 'motif_disruption', config)\n",
    "print(\"\\nDirectory containing motif disruption results:\", mot_dis_dir)\n"
   ]
  },
  {
   "cell_type": "code",
   "execution_count": 8,
   "metadata": {},
   "outputs": [],
   "source": [
    "## Load motif family definitions for S. pombe\n",
    "\n",
    "spom_definitions = {'patterns' : {}, 'distance' : {}}\n",
    "\n",
    "# By Hamming distance\n",
    "for kmer in [4,5,6]:\n",
    "    with open(os.path.join(RESOURCES, f'motif_definitions.spom.{kmer}mers.distance.pickle'), mode = 'rb') as handle:\n",
    "        spom_definitions['distance'][kmer] = pickle.load(handle)\n"
   ]
  },
  {
   "cell_type": "code",
   "execution_count": 9,
   "metadata": {},
   "outputs": [
    {
     "name": "stdout",
     "output_type": "stream",
     "text": [
      "Significant motifs = 72\n"
     ]
    }
   ],
   "source": [
    "with open(os.path.join(RESOURCES, 'polyaclassifier_motifs.significant_motifs.pickle'), mode = 'rb') as handle:\n",
    "    significant_motifs = pickle.load(handle)\n",
    "\n",
    "sigmots = significant_motifs[species][modeltype][config]\n",
    "print(f\"Significant motifs = {len(sigmots)}\")\n"
   ]
  },
  {
   "cell_type": "markdown",
   "metadata": {
    "scrolled": false
   },
   "source": [
    "# ANALYSIS"
   ]
  },
  {
   "cell_type": "code",
   "execution_count": 10,
   "metadata": {},
   "outputs": [],
   "source": [
    "family_cmap = {\n",
    "    'A-rich'        : '#2278b5',\n",
    "    'A-rich_d0'     : '#2278b5',\n",
    "    'A-rich_d1'     : '#6ab1e3',\n",
    "    'A-rich_d2'     : '#9ccbec',\n",
    "    'A-rich_d3'     : '#cde5f5',\n",
    "    'T-rich'        : '#2fa148',\n",
    "    'T-rich_d0'     : '#2fa148',\n",
    "    'T-rich_d1'     : '#73d689',\n",
    "    'T-rich_d2'     : '#a1e4b0',\n",
    "    'GTA'           : '#fcb316',\n",
    "    'GTA_d0'        : '#fcb316',\n",
    "    'TAG'           : '#8C0800',\n",
    "    'TAG_d0'        : '#8C0800',\n",
    "    'GTA-TAG'       : '#D55E00',\n",
    "    'GTA-TAG_d0'    : '#D55E00',\n",
    "    'GTA_controls'  : '#6d6e71',\n",
    "    'Other'         : '#F7F8F8',\n",
    "    'Pattern'       : '#000000',\n",
    "}\n"
   ]
  },
  {
   "cell_type": "markdown",
   "metadata": {},
   "source": [
    "## Top individual motifs in each region"
   ]
  },
  {
   "cell_type": "code",
   "execution_count": 11,
   "metadata": {},
   "outputs": [
    {
     "data": {
      "image/png": "[encoded data removed]",
      "text/plain": [
       "<Figure size 36x90 with 1 Axes>"
      ]
     },
     "metadata": {
      "needs_background": "light"
     },
     "output_type": "display_data"
    },
    {
     "name": "stdout",
     "output_type": "stream",
     "text": [
      "    motif  frequency     score   conf_lo   conf_hi     family  error_lo\n",
      "44  UGCUG      712.0  0.388961  0.402605  0.375316      Other  0.013645\n",
      "22  GCUGC      437.0  0.370185  0.387958  0.352413      Other  0.017773\n",
      "21  GAAGA      852.0  0.355960  0.375013  0.336907  A-rich_d2  0.019053\n",
      "42  UGAAG      744.0  0.343363  0.359583  0.327143  A-rich_d3  0.016220\n",
      "66  UUUGG      770.0  0.330319  0.344406  0.316232  T-rich_d2  0.014087\n",
      "45  UGGUG      526.0  0.328162  0.344786  0.311538      Other  0.016624\n",
      "43  UGAUG      651.0  0.312702  0.328842  0.296562      Other  0.016140\n",
      "56  UUGCU      715.0  0.296569  0.308759  0.284379  T-rich_d2  0.012190\n",
      "8   AGAAG      745.0  0.284986  0.307635  0.262336  A-rich_d2  0.022650\n",
      "65  UUUGC      694.0  0.281291  0.295274  0.267308  T-rich_d2  0.013983\n",
      "0.4026051991064653\n"
     ]
    }
   ],
   "source": [
    "motifs.region_barplot(OUTDIR, mot_dis_dir, spom_definitions['distance'][5]['hamming'], sigmots, \n",
    "                      (-250,-121), \"mean\", 95, method = \"hamming\", minfreq = int(0.01 * gold_sites),\n",
    "                      topn = 10, palette = family_cmap, \n",
    "                      xlim = (0,1), xtickint = 0.5, verbose = True\n",
    "                     )\n"
   ]
  },
  {
   "cell_type": "code",
   "execution_count": 12,
   "metadata": {},
   "outputs": [
    {
     "data": {
      "image/png": "[encoded data removed]",
      "text/plain": [
       "<Figure size 36x90 with 1 Axes>"
      ]
     },
     "metadata": {
      "needs_background": "light"
     },
     "output_type": "display_data"
    },
    {
     "name": "stdout",
     "output_type": "stream",
     "text": [
      "    motif  frequency     score   conf_lo   conf_hi     family  error_lo\n",
      "66  UUUGG      241.0  0.437333  0.460793  0.413874  T-rich_d2  0.023459\n",
      "23  GGUUU      221.0  0.373354  0.392433  0.354275  T-rich_d2  0.019079\n",
      "45  UGGUG      106.0  0.354917  0.393885  0.315950      Other  0.038967\n",
      "56  UUGCU      210.0  0.337695  0.358680  0.316710  T-rich_d2  0.020985\n",
      "44  UGCUG      152.0  0.330801  0.357040  0.304563      Other  0.026238\n",
      "65  UUUGC      212.0  0.316856  0.344248  0.289464  T-rich_d2  0.027392\n",
      "22  GCUGC      111.0  0.280643  0.306668  0.254618      Other  0.026025\n",
      "19  CUUUU      477.0  0.258067  0.276708  0.239425  T-rich_d1  0.018641\n",
      "41  UCUUU      434.0  0.254869  0.274547  0.235191  T-rich_d1  0.019678\n",
      "55  UUCUU      436.0  0.246096  0.265316  0.226876  T-rich_d1  0.019220\n",
      "0.4607925088384227\n"
     ]
    }
   ],
   "source": [
    "motifs.region_barplot(OUTDIR, mot_dis_dir, spom_definitions['distance'][5]['hamming'], sigmots, \n",
    "                      (-120,-81), \"mean\", 95, method = \"hamming\", minfreq = int(0.01 * gold_sites),\n",
    "                      topn = 10, palette = family_cmap, \n",
    "                      xlim = (0,1), xtickint = 0.5, verbose = True\n",
    "                     )\n"
   ]
  },
  {
   "cell_type": "code",
   "execution_count": 13,
   "metadata": {},
   "outputs": [
    {
     "data": {
      "image/png": "[encoded data removed]",
      "text/plain": [
       "<Figure size 36x90 with 1 Axes>"
      ]
     },
     "metadata": {
      "needs_background": "light"
     },
     "output_type": "display_data"
    },
    {
     "name": "stdout",
     "output_type": "stream",
     "text": [
      "    motif  frequency     score   conf_lo   conf_hi     family  error_lo\n",
      "35  UAGUU      365.0  1.216164  1.327165  1.105163     TAG_d0  0.111001\n",
      "52  UUAGU      383.0  1.136410  1.228887  1.043933     TAG_d0  0.092477\n",
      "61  UUUAG      485.0  1.077016  1.144979  1.009053     TAG_d0  0.067963\n",
      "36  UAUAG      204.0  0.980320  1.115906  0.844734     TAG_d0  0.135586\n",
      "33  UAGAU      257.0  0.977376  1.096182  0.858571     TAG_d0  0.118806\n",
      "51  UUAGA      299.0  0.972088  1.067327  0.876849     TAG_d0  0.095239\n",
      "11  AGUUU      403.0  0.836559  0.914026  0.759093  T-rich_d2  0.077467\n",
      "53  UUAUA      342.0  0.790051  0.892087  0.688015  T-rich_d2  0.102036\n",
      "27  GUUUA      473.0  0.785620  0.850825  0.720414  T-rich_d2  0.065205\n",
      "31  UAAUA      156.0  0.763094  0.978411  0.547778  A-rich_d2  0.215316\n",
      "1.3271653026933554\n"
     ]
    }
   ],
   "source": [
    "motifs.region_barplot(OUTDIR, mot_dis_dir, spom_definitions['distance'][5]['hamming'], sigmots, \n",
    "                      (-80,-31), \"mean\", 95, method = \"hamming\", minfreq = int(0.01 * gold_sites),\n",
    "                      topn = 10, palette = family_cmap, \n",
    "                      xlim = (0,2), xtickint = 1, verbose = True\n",
    "                     )\n"
   ]
  },
  {
   "cell_type": "code",
   "execution_count": 14,
   "metadata": {},
   "outputs": [
    {
     "data": {
      "image/png": "[encoded data removed]",
      "text/plain": [
       "<Figure size 36x90 with 1 Axes>"
      ]
     },
     "metadata": {
      "needs_background": "light"
     },
     "output_type": "display_data"
    },
    {
     "name": "stdout",
     "output_type": "stream",
     "text": [
      "    motif  frequency     score   conf_lo   conf_hi     family  error_lo\n",
      "31  UAAUA      178.0  4.724309  4.991686  4.456933  A-rich_d2  0.267376\n",
      "6   AAUGA      196.0  3.963915  4.194098  3.733731  A-rich_d2  0.230184\n",
      "50  UUAAU      281.0  3.826696  4.018185  3.635207  T-rich_d2  0.191489\n",
      "13  AUGAA      206.0  3.622706  3.870616  3.374797  A-rich_d2  0.247909\n",
      "5   AAUAU      193.0  3.618896  3.850479  3.387313  A-rich_d2  0.231583\n",
      "30  UAAAU      134.0  3.237016  3.518795  2.955237  A-rich_d2  0.281779\n",
      "32  UAAUU      185.0  3.205473  3.416250  2.994697  T-rich_d2  0.210776\n",
      "59  UUUAA      173.0  2.984606  3.240821  2.728390  T-rich_d2  0.256215\n",
      "15  AUUUA      177.0  2.916738  3.120571  2.712904  T-rich_d2  0.203833\n",
      "38  UAUUA      156.0  2.855159  3.095795  2.614522  T-rich_d2  0.240637\n",
      "4.991685637665719\n"
     ]
    }
   ],
   "source": [
    "motifs.region_barplot(OUTDIR, mot_dis_dir, spom_definitions['distance'][5]['hamming'], sigmots, \n",
    "                      (-30,-16), \"mean\", 95, method = \"hamming\", minfreq = int(0.01 * gold_sites),\n",
    "                      topn = 10, palette = family_cmap, \n",
    "                      xlim = (0,5), xtickint = 1, verbose = True\n",
    "                     )\n"
   ]
  },
  {
   "cell_type": "code",
   "execution_count": 15,
   "metadata": {},
   "outputs": [
    {
     "data": {
      "image/png": "[encoded data removed]",
      "text/plain": [
       "<Figure size 36x90 with 1 Axes>"
      ]
     },
     "metadata": {
      "needs_background": "light"
     },
     "output_type": "display_data"
    },
    {
     "name": "stdout",
     "output_type": "stream",
     "text": [
      "    motif  frequency     score   conf_lo   conf_hi     family  error_lo\n",
      "69  UUUUC      252.0  2.457667  2.550423  2.364912  T-rich_d1  0.092755\n",
      "71  UUUUU      788.0  2.375745  2.432440  2.319050  T-rich_d0  0.056695\n",
      "16  AUUUU      351.0  2.068070  2.160297  1.975844  T-rich_d1  0.092226\n",
      "64  UUUCU      189.0  2.031773  2.114962  1.948584  T-rich_d1  0.083189\n",
      "19  CUUUU      200.0  2.003405  2.092304  1.914507  T-rich_d1  0.088898\n",
      "55  UUCUU      164.0  1.997263  2.088091  1.906436  T-rich_d1  0.090827\n",
      "60  UUUAC      125.0  1.947179  2.122877  1.771482  T-rich_d2  0.175698\n",
      "41  UCUUU      179.0  1.927118  2.019546  1.834691  T-rich_d1  0.092428\n",
      "63  UUUCA      135.0  1.881393  2.029373  1.733413  T-rich_d2  0.147980\n",
      "28  GUUUU      209.0  1.818743  1.916087  1.721398  T-rich_d1  0.097344\n",
      "2.5504229394464573\n"
     ]
    },
    {
     "data": {
      "image/png": "[encoded data removed]",
      "text/plain": [
       "<Figure size 36x90 with 1 Axes>"
      ]
     },
     "metadata": {
      "needs_background": "light"
     },
     "output_type": "display_data"
    },
    {
     "name": "stdout",
     "output_type": "stream",
     "text": [
      "    motif  frequency     score   conf_lo   conf_hi     family  error_lo\n",
      "69  UUUUC      261.0  2.419986  2.513747  2.326225  T-rich_d1  0.093761\n",
      "71  UUUUU      859.0  2.331426  2.385436  2.277415  T-rich_d0  0.054011\n",
      "16  AUUUU      379.0  2.063140  2.150080  1.976200  T-rich_d1  0.086940\n",
      "64  UUUCU      201.0  2.036313  2.116469  1.956156  T-rich_d1  0.080157\n",
      "19  CUUUU      230.0  1.995473  2.076163  1.914784  T-rich_d1  0.080689\n",
      "55  UUCUU      187.0  1.969996  2.053918  1.886074  T-rich_d1  0.083922\n",
      "41  UCUUU      205.0  1.943177  2.026582  1.859771  T-rich_d1  0.083405\n",
      "63  UUUCA      144.0  1.852890  1.993275  1.712506  T-rich_d2  0.140384\n",
      "60  UUUAC      131.0  1.830880  2.022959  1.638801  T-rich_d2  0.192079\n",
      "28  GUUUU      223.0  1.779852  1.874818  1.684887  T-rich_d1  0.094965\n",
      "2.5137471145455255\n"
     ]
    }
   ],
   "source": [
    "motifs.region_barplot(OUTDIR, mot_dis_dir, spom_definitions['distance'][5]['hamming'], sigmots, \n",
    "                      (-15,-6), \"mean\", 95, method = \"hamming\", minfreq = int(0.01 * gold_sites),\n",
    "                      topn = 10, palette = family_cmap, \n",
    "                      xlim = (0,3), xtickint = 1, verbose = True\n",
    "                     )\n",
    "\n",
    "motifs.region_barplot(OUTDIR, mot_dis_dir, spom_definitions['distance'][5]['hamming'], sigmots, \n",
    "                      (-15,-5), \"mean\", 95, method = \"hamming\", minfreq = int(0.01 * gold_sites),\n",
    "                      topn = 10, palette = family_cmap, \n",
    "                      xlim = (0,3), xtickint = 1, verbose = True\n",
    "                     )\n"
   ]
  },
  {
   "cell_type": "code",
   "execution_count": 16,
   "metadata": {},
   "outputs": [
    {
     "data": {
      "image/png": "[encoded data removed]",
      "text/plain": [
       "<Figure size 36x90 with 1 Axes>"
      ]
     },
     "metadata": {
      "needs_background": "light"
     },
     "output_type": "display_data"
    },
    {
     "name": "stdout",
     "output_type": "stream",
     "text": [
      "    motif  frequency     score   conf_lo   conf_hi     family  error_lo\n",
      "18  CUUUA       67.0  5.110244  5.442480  4.778007  T-rich_d2  0.332236\n",
      "68  UUUUA      155.0  4.667236  4.888876  4.445595  T-rich_d1  0.221641\n",
      "62  UUUAU      143.0  4.429048  4.716917  4.141180  T-rich_d1  0.287869\n",
      "50  UUAAU       81.0  4.394379  4.899491  3.889268  T-rich_d2  0.505112\n",
      "59  UUUAA       96.0  4.371107  4.764175  3.978038  T-rich_d2  0.393068\n",
      "54  UUAUU      133.0  4.314783  4.644254  3.985312  T-rich_d1  0.329471\n",
      "63  UUUCA       71.0  4.314402  4.730302  3.898502  T-rich_d2  0.415900\n",
      "27  GUUUA       49.0  4.025142  4.390551  3.659733  T-rich_d2  0.365409\n",
      "53  UUAUA       82.0  3.703620  4.007098  3.400142  T-rich_d2  0.303478\n",
      "60  UUUAC       89.0  3.587424  3.967921  3.206926  T-rich_d2  0.380497\n",
      "5.442479612596921\n"
     ]
    },
    {
     "name": "stderr",
     "output_type": "stream",
     "text": [
      "/home/esk863/.conda/envs/tf-train/lib/python3.6/site-packages/statsmodels/stats/weightstats.py:135: RuntimeWarning: invalid value encountered in double_scalars\n",
      "  return self.sum / self.sum_weights\n",
      "/home/esk863/.conda/envs/tf-train/lib/python3.6/site-packages/statsmodels/stats/weightstats.py:182: RuntimeWarning: invalid value encountered in double_scalars\n",
      "  return self.sumsquares / (self.sum_weights - self.ddof)\n",
      "/home/esk863/.conda/envs/tf-train/lib/python3.6/site-packages/statsmodels/stats/weightstats.py:228: RuntimeWarning: invalid value encountered in sqrt\n",
      "  return std / np.sqrt(self.sum_weights - 1)\n"
     ]
    },
    {
     "data": {
      "image/png": "[encoded data removed]",
      "text/plain": [
       "<Figure size 36x90 with 1 Axes>"
      ]
     },
     "metadata": {
      "needs_background": "light"
     },
     "output_type": "display_data"
    },
    {
     "name": "stdout",
     "output_type": "stream",
     "text": [
      "    motif  frequency     score   conf_lo   conf_hi     family  error_lo\n",
      "18  CUUUA       65.0  5.261007  5.525086  4.996928  T-rich_d2  0.264079\n",
      "50  UUAAU       73.0  4.933051  5.323119  4.542983  T-rich_d2  0.390068\n",
      "68  UUUUA      147.0  4.865718  5.049991  4.681446  T-rich_d1  0.184273\n",
      "62  UUUAU      133.0  4.757342  4.980464  4.534220  T-rich_d1  0.223122\n",
      "63  UUUCA       62.0  4.733780  5.103447  4.364112  T-rich_d2  0.369667\n",
      "54  UUAUU      122.0  4.620320  4.924294  4.316346  T-rich_d1  0.303974\n",
      "59  UUUAA       92.0  4.619246  4.942096  4.296396  T-rich_d2  0.322850\n",
      "27  GUUUA       48.0  4.102983  4.440316  3.765651  T-rich_d2  0.337332\n",
      "40  UCAUU       73.0  3.974938  4.365100  3.584776  T-rich_d2  0.390162\n",
      "53  UUAUA       79.0  3.892940  4.115306  3.670574  T-rich_d2  0.222366\n",
      "5.5250859996449915\n"
     ]
    }
   ],
   "source": [
    "motifs.region_barplot(OUTDIR, mot_dis_dir, spom_definitions['distance'][5]['hamming'], sigmots, \n",
    "                      (-5,-1), \"mean\", 95, method = \"hamming\", minfreq = int(0.01 * gold_sites),\n",
    "                      topn = 10, palette = family_cmap, \n",
    "                      xlim = (0,6), xtickint = 1, verbose = True\n",
    "                     )\n",
    "\n",
    "motifs.region_barplot(OUTDIR, mot_dis_dir, spom_definitions['distance'][5]['hamming'], sigmots, \n",
    "                      (-4,-1), \"mean\", 95, method = \"hamming\", minfreq = int(0.01 * gold_sites),\n",
    "                      topn = 10, palette = family_cmap, \n",
    "                      xlim = (0,6), xtickint = 1, verbose = True\n",
    "                     )\n"
   ]
  },
  {
   "cell_type": "code",
   "execution_count": 17,
   "metadata": {},
   "outputs": [
    {
     "data": {
      "image/png": "[encoded data removed]",
      "text/plain": [
       "<Figure size 36x90 with 1 Axes>"
      ]
     },
     "metadata": {
      "needs_background": "light"
     },
     "output_type": "display_data"
    },
    {
     "name": "stdout",
     "output_type": "stream",
     "text": [
      "    motif  frequency     score   conf_lo   conf_hi      family  error_lo\n",
      "71  UUUUU      602.0  1.770033  1.840897  1.699169   T-rich_d0  0.070864\n",
      "57  UUGUA      145.0  1.724227  1.818667  1.629787      GTA_d0  0.094440\n",
      "67  UUUGU      227.0  1.682414  1.781680  1.583148   T-rich_d1  0.099266\n",
      "70  UUUUG      234.0  1.583745  1.685381  1.482109   T-rich_d1  0.101636\n",
      "46  UGUAA       96.0  1.527619  1.629494  1.425745      GTA_d0  0.101874\n",
      "47  UGUAG       52.0  1.490620  1.620725  1.360514  GTA-TAG_d0  0.130106\n",
      "68  UUUUA      243.0  1.443312  1.551030  1.335595   T-rich_d1  0.107717\n",
      "16  AUUUU      256.0  1.433860  1.565558  1.302161   T-rich_d1  0.131699\n",
      "14  AUGUA       78.0  1.358367  1.475164  1.241570      GTA_d0  0.116797\n",
      "62  UUUAU      232.0  1.344853  1.445605  1.244101   T-rich_d1  0.100752\n",
      "1.8408974186628104\n"
     ]
    }
   ],
   "source": [
    "motifs.region_barplot(OUTDIR, mot_dis_dir, spom_definitions['distance'][5]['hamming'], sigmots, \n",
    "                      (2,14), \"mean\", 95, method = \"hamming\", minfreq = int(0.01 * gold_sites),\n",
    "                      topn = 10, palette = family_cmap, \n",
    "                      xlim = (0,2), xtickint = 1, verbose = True\n",
    "                     )\n"
   ]
  },
  {
   "cell_type": "code",
   "execution_count": 18,
   "metadata": {},
   "outputs": [
    {
     "data": {
      "image/png": "[encoded data removed]",
      "text/plain": [
       "<Figure size 36x90 with 1 Axes>"
      ]
     },
     "metadata": {
      "needs_background": "light"
     },
     "output_type": "display_data"
    },
    {
     "name": "stdout",
     "output_type": "stream",
     "text": [
      "    motif  frequency     score   conf_lo   conf_hi      family  error_lo\n",
      "47  UGUAG      353.0  1.617502  1.665534  1.569470  GTA-TAG_d0  0.048032\n",
      "46  UGUAA      491.0  1.592424  1.627843  1.557005      GTA_d0  0.035419\n",
      "25  GUAGU      302.0  1.539591  1.597509  1.481672  GTA-TAG_d0  0.057918\n",
      "57  UUGUA      683.0  1.500871  1.535668  1.466074      GTA_d0  0.034797\n",
      "24  GUAAA      369.0  1.396926  1.445843  1.348009      GTA_d0  0.048917\n",
      "10  AGUAG      246.0  1.380738  1.439779  1.321698  GTA-TAG_d0  0.059040\n",
      "34  UAGUA      330.0  1.372312  1.433716  1.310908  GTA-TAG_d0  0.061404\n",
      "14  AUGUA      351.0  1.288711  1.340426  1.236996      GTA_d0  0.051715\n",
      "9   AGUAA      290.0  1.258805  1.308139  1.209471      GTA_d0  0.049334\n",
      "48  UGUAU      442.0  1.225284  1.258959  1.191610      GTA_d0  0.033675\n",
      "1.665534036084118\n"
     ]
    }
   ],
   "source": [
    "motifs.region_barplot(OUTDIR, mot_dis_dir, spom_definitions['distance'][5]['hamming'], sigmots, \n",
    "                      (15,60), \"mean\", 95, method = \"hamming\", minfreq = int(0.01 * gold_sites),\n",
    "                      topn = 10, palette = family_cmap, \n",
    "                      xlim = (0,2), xtickint = 1, verbose = True\n",
    "                     )\n"
   ]
  }
 ],
 "metadata": {
  "kernelspec": {
   "display_name": "Python (tf-train)",
   "language": "python",
   "name": "tf-train"
  },
  "language_info": {
   "codemirror_mode": {
    "name": "ipython",
    "version": 3
   },
   "file_extension": ".py",
   "mimetype": "text/x-python",
   "name": "python",
   "nbconvert_exporter": "python",
   "pygments_lexer": "ipython3",
   "version": "3.6.12"
  }
 },
 "nbformat": 4,
 "nbformat_minor": 2
}
