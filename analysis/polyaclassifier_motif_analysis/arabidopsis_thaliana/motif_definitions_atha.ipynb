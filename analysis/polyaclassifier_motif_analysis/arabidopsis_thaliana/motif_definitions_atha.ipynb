{
 "cells": [
  {
   "cell_type": "markdown",
   "metadata": {},
   "source": [
    "# Motif Family Definitions for *A. thaliana*"
   ]
  },
  {
   "cell_type": "code",
   "execution_count": 1,
   "metadata": {},
   "outputs": [],
   "source": [
    "%load_ext autoreload"
   ]
  },
  {
   "cell_type": "code",
   "execution_count": 2,
   "metadata": {},
   "outputs": [],
   "source": [
    "%autoreload 2"
   ]
  },
  {
   "cell_type": "code",
   "execution_count": 3,
   "metadata": {},
   "outputs": [],
   "source": [
    "%run -i notebook_setup.py"
   ]
  },
  {
   "cell_type": "code",
   "execution_count": 4,
   "metadata": {},
   "outputs": [],
   "source": [
    "from paper_utilities import motifs"
   ]
  },
  {
   "cell_type": "code",
   "execution_count": 5,
   "metadata": {},
   "outputs": [],
   "source": [
    "PROJECT = \"/projects/b1080/eks/polyadenylation/yeast\"\n",
    "OUTDIR  = os.path.join(PROJECT, 'manuscript', 'analysis', 'resources')\n",
    "os.makedirs(OUTDIR, exist_ok = True)\n"
   ]
  },
  {
   "cell_type": "markdown",
   "metadata": {},
   "source": [
    "## K-mer definitions"
   ]
  },
  {
   "cell_type": "code",
   "execution_count": 6,
   "metadata": {},
   "outputs": [],
   "source": [
    "all_4mers = [\"\".join(x) for x in list(itertools.product('ACGT', repeat = 4))]\n",
    "all_5mers = [\"\".join(x) for x in list(itertools.product('ACGT', repeat = 5))]\n",
    "all_6mers = [\"\".join(x) for x in list(itertools.product('ACGT', repeat = 6))]\n",
    "\n",
    "pd.DataFrame.from_dict({'motif' : all_4mers}, orient = 'columns').to_csv(os.path.join(OUTDIR, 'motif_list.4mers.txt'), sep = \"\\t\", index = False, header = False)\n",
    "pd.DataFrame.from_dict({'motif' : all_5mers}, orient = 'columns').to_csv(os.path.join(OUTDIR, 'motif_list.5mers.txt'), sep = \"\\t\", index = False, header = False)\n",
    "pd.DataFrame.from_dict({'motif' : all_6mers}, orient = 'columns').to_csv(os.path.join(OUTDIR, 'motif_list.6mers.txt'), sep = \"\\t\", index = False, header = False)\n"
   ]
  },
  {
   "cell_type": "markdown",
   "metadata": {},
   "source": [
    "## A. thaliana"
   ]
  },
  {
   "cell_type": "code",
   "execution_count": 7,
   "metadata": {},
   "outputs": [],
   "source": [
    "family_cmap = {\n",
    "    'A-rich'          : '#2278B5', \n",
    "    'T-rich'          : '#2FA148', \n",
    "    'TGTA-containing' : '#D65F5F', \n",
    "    'Other'           : '#F7F8F8',\n",
    "}"
   ]
  },
  {
   "cell_type": "markdown",
   "metadata": {},
   "source": [
    "### By pattern"
   ]
  },
  {
   "cell_type": "markdown",
   "metadata": {},
   "source": [
    "##### 6mers"
   ]
  },
  {
   "cell_type": "code",
   "execution_count": 8,
   "metadata": {
    "scrolled": false
   },
   "outputs": [
    {
     "name": "stdout",
     "output_type": "stream",
     "text": [
      "T-rich \t 151\n",
      "A-rich \t 154\n",
      "TGTA-containing \t 48\n",
      "\n",
      "t_rich <- c('AATTTT', 'ACTTTT', 'AGTTTT', 'ATATTT', 'ATCTTT', 'ATGTTT', 'ATTATT', 'ATTCTT', 'ATTGTT', 'ATTTAT', 'ATTTCT', 'ATTTGT', 'ATTTTA', 'ATTTTC', 'ATTTTG', 'ATTTTT', 'CATTTT', 'CCTTTT', 'CGTTTT', 'CTATTT', 'CTCTTT', 'CTGTTT', 'CTTATT', 'CTTCTT', 'CTTGTT', 'CTTTAT', 'CTTTCT', 'CTTTGT', 'CTTTTA', 'CTTTTC', 'CTTTTG', 'CTTTTT', 'GATTTT', 'GCTTTT', 'GGTTTT', 'GTATTT', 'GTCTTT', 'GTGTTT', 'GTTATT', 'GTTCTT', 'GTTGTT', 'GTTTAT', 'GTTTCT', 'GTTTGT', 'GTTTTA', 'GTTTTC', 'GTTTTG', 'GTTTTT', 'TAATTT', 'TACTTT', 'TAGTTT', 'TATATT', 'TATCTT', 'TATGTT', 'TATTAT', 'TATTCT', 'TATTGT', 'TATTTA', 'TATTTC', 'TATTTG', 'TATTTT', 'TCATTT', 'TCCTTT', 'TCGTTT', 'TCTATT', 'TCTCTT', 'TCTGTT', 'TCTTAT', 'TCTTCT', 'TCTTGT', 'TCTTTA', 'TCTTTC', 'TCTTTG', 'TCTTTT', 'TGATTT', 'TGCTTT', 'TGGTTT', 'TGTCTT', 'TGTGTT', 'TGTTAT', 'TGTTCT', 'TGTTGT', 'TGTTTA', 'TGTTTC', 'TGTTTG', 'TGTTTT', 'TTAATT', 'TTACTT', 'TTAGTT', 'TTATAT', 'TTATCT', 'TTATGT', 'TTATTA', 'TTATTC', 'TTATTG', 'TTATTT', 'TTCATT', 'TTCCTT', 'TTCGTT', 'TTCTAT', 'TTCTCT', 'TTCTGT', 'TTCTTA', 'TTCTTC', 'TTCTTG', 'TTCTTT', 'TTGATT', 'TTGCTT', 'TTGGTT', 'TTGTCT', 'TTGTGT', 'TTGTTA', 'TTGTTC', 'TTGTTG', 'TTGTTT', 'TTTAAT', 'TTTACT', 'TTTAGT', 'TTTATA', 'TTTATC', 'TTTATG', 'TTTATT', 'TTTCAT', 'TTTCCT', 'TTTCGT', 'TTTCTA', 'TTTCTC', 'TTTCTG', 'TTTCTT', 'TTTGAT', 'TTTGCT', 'TTTGGT', 'TTTGTC', 'TTTGTG', 'TTTGTT', 'TTTTAA', 'TTTTAC', 'TTTTAG', 'TTTTAT', 'TTTTCA', 'TTTTCC', 'TTTTCG', 'TTTTCT', 'TTTTGA', 'TTTTGC', 'TTTTGG', 'TTTTGT', 'TTTTTA', 'TTTTTC', 'TTTTTG', 'TTTTTT')\n",
      "\n",
      "a_rich <- c('AAAAAA', 'AAAAAC', 'AAAAAG', 'AAAAAT', 'AAAACA', 'AAAACC', 'AAAACG', 'AAAACT', 'AAAAGA', 'AAAAGC', 'AAAAGG', 'AAAAGT', 'AAAATA', 'AAAATC', 'AAAATG', 'AAAATT', 'AAACAA', 'AAACAC', 'AAACAG', 'AAACAT', 'AAACCA', 'AAACGA', 'AAACTA', 'AAAGAA', 'AAAGAC', 'AAAGAG', 'AAAGAT', 'AAAGCA', 'AAAGGA', 'AAAGTA', 'AAATAA', 'AAATAC', 'AAATAG', 'AAATAT', 'AAATCA', 'AAATGA', 'AAATTA', 'AACAAA', 'AACAAC', 'AACAAG', 'AACAAT', 'AACACA', 'AACAGA', 'AACATA', 'AACCAA', 'AACGAA', 'AACTAA', 'AAGAAA', 'AAGAAC', 'AAGAAG', 'AAGAAT', 'AAGACA', 'AAGAGA', 'AAGATA', 'AAGCAA', 'AAGGAA', 'AAGTAA', 'AATAAA', 'AATAAC', 'AATAAG', 'AATAAT', 'AATACA', 'AATAGA', 'AATATA', 'AATCAA', 'AATGAA', 'AATTAA', 'ACAAAA', 'ACAAAC', 'ACAAAG', 'ACAAAT', 'ACAACA', 'ACAAGA', 'ACAATA', 'ACACAA', 'ACAGAA', 'ACATAA', 'ACCAAA', 'ACGAAA', 'ACTAAA', 'AGAAAA', 'AGAAAC', 'AGAAAG', 'AGAAAT', 'AGAACA', 'AGAAGA', 'AGAATA', 'AGACAA', 'AGAGAA', 'AGATAA', 'AGCAAA', 'AGGAAA', 'AGTAAA', 'ATAAAA', 'ATAAAC', 'ATAAAG', 'ATAAAT', 'ATAACA', 'ATAAGA', 'ATAATA', 'ATACAA', 'ATAGAA', 'ATATAA', 'ATCAAA', 'ATGAAA', 'ATTAAA', 'CAAAAA', 'CAAAAC', 'CAAAAG', 'CAAAAT', 'CAAACA', 'CAAAGA', 'CAAATA', 'CAACAA', 'CAAGAA', 'CAATAA', 'CACAAA', 'CAGAAA', 'CATAAA', 'CCAAAA', 'CGAAAA', 'CTAAAA', 'GAAAAA', 'GAAAAC', 'GAAAAG', 'GAAAAT', 'GAAACA', 'GAAAGA', 'GAAATA', 'GAACAA', 'GAAGAA', 'GAATAA', 'GACAAA', 'GAGAAA', 'GATAAA', 'GCAAAA', 'GGAAAA', 'GTAAAA', 'TAAAAA', 'TAAAAC', 'TAAAAG', 'TAAAAT', 'TAAACA', 'TAAAGA', 'TAAATA', 'TAACAA', 'TAAGAA', 'TAATAA', 'TACAAA', 'TAGAAA', 'TATAAA', 'TCAAAA', 'TGAAAA', 'TTAAAA')\n",
      "\n",
      "tgta_containing <- c('AATGTA', 'ACTGTA', 'AGTGTA', 'ATGTAA', 'ATGTAC', 'ATGTAG', 'ATGTAT', 'ATTGTA', 'CATGTA', 'CCTGTA', 'CGTGTA', 'CTGTAA', 'CTGTAC', 'CTGTAG', 'CTGTAT', 'CTTGTA', 'GATGTA', 'GCTGTA', 'GGTGTA', 'GTGTAA', 'GTGTAC', 'GTGTAG', 'GTGTAT', 'GTTGTA', 'TATGTA', 'TCTGTA', 'TGTAAA', 'TGTAAC', 'TGTAAG', 'TGTAAT', 'TGTACA', 'TGTACC', 'TGTACG', 'TGTACT', 'TGTAGA', 'TGTAGC', 'TGTAGG', 'TGTAGT', 'TGTATA', 'TGTATC', 'TGTATG', 'TGTATT', 'TGTGTA', 'TTGTAA', 'TTGTAC', 'TTGTAG', 'TTGTAT', 'TTTGTA')\n"
     ]
    }
   ],
   "source": [
    "## Identify motif patterns\n",
    "\n",
    "a_rich    = list(set([x for x in all_6mers if (x.count('A') >= 4)]))\n",
    "t_rich    = list(set([x for x in all_6mers if (x.count('T') >= 4)]))\n",
    "tgta_rich = list(set([x for x in all_6mers if ('TGTA' in x)]))\n",
    "\n",
    "## Assign motifs to families based on priority\n",
    "\n",
    "motif_priority = {\n",
    "    'T-rich'          : t_rich,\n",
    "    'A-rich'          : a_rich,\n",
    "    'TGTA-containing' : tgta_rich,\n",
    "}\n",
    "\n",
    "motif_family = {}\n",
    "\n",
    "for motif in all_6mers:\n",
    "    motif_family[motif] = 'Other'\n",
    "    \n",
    "for mf,mlist in motif_priority.items():\n",
    "    for m in mlist:\n",
    "        motif_family[m] = mf\n",
    "\n",
    "        \n",
    "## Output list of motifs in each family for use in R\n",
    "\n",
    "motif_unique = {}\n",
    "\n",
    "for mf in motif_priority.keys():\n",
    "    motif_unique[mf] = sorted([k for k,v in motif_family.items() if (v == mf)])\n",
    "    print(mf, \"\\t\", len(motif_unique[mf]))\n",
    "    \n",
    "for mf,ml in motif_unique.items():\n",
    "    outstring = \"\\n\" + mf.replace(\"-\",\"_\").replace(\"/\",\"\").lower() + \" <- c('\" + \"', '\".join(ml) + \"')\"\n",
    "    print(outstring)\n",
    "    \n",
    "    \n",
    "## Record motif family definitions\n",
    "\n",
    "pattern_definitions = {\n",
    "    'priority'   : motif_priority,\n",
    "    'family'     : motif_family,\n",
    "    'no_overlap' : motif_unique,\n",
    "}\n",
    "\n",
    "with open(os.path.join(OUTDIR, 'motif_definitions.atha.6mers.patterns.pickle'), mode = 'wb') as handle:\n",
    "    pickle.dump(pattern_definitions, handle)\n",
    "\n",
    "(pd.DataFrame.from_dict(motif_family, orient = 'index').reset_index()\n",
    " .rename(columns = {'index' : 'motif', 0 : 'family'})\n",
    " .to_csv(os.path.join(OUTDIR, 'motif_families.atha.6mers.patterns.txt'))\n",
    ")\n"
   ]
  },
  {
   "cell_type": "markdown",
   "metadata": {},
   "source": [
    "##### 5mers"
   ]
  },
  {
   "cell_type": "code",
   "execution_count": 9,
   "metadata": {
    "scrolled": false
   },
   "outputs": [
    {
     "name": "stdout",
     "output_type": "stream",
     "text": [
      "T-rich \t 104\n",
      "A-rich \t 106\n",
      "TGTA-containing \t 8\n",
      "\n",
      "t_rich <- c('AATTT', 'ACTTT', 'AGTTT', 'ATATT', 'ATCTT', 'ATGTT', 'ATTAT', 'ATTCT', 'ATTGT', 'ATTTA', 'ATTTC', 'ATTTG', 'ATTTT', 'CATTT', 'CCTTT', 'CGTTT', 'CTATT', 'CTCTT', 'CTGTT', 'CTTAT', 'CTTCT', 'CTTGT', 'CTTTA', 'CTTTC', 'CTTTG', 'CTTTT', 'GATTT', 'GCTTT', 'GGTTT', 'GTATT', 'GTCTT', 'GTGTT', 'GTTAT', 'GTTCT', 'GTTGT', 'GTTTA', 'GTTTC', 'GTTTG', 'GTTTT', 'TAATT', 'TACTT', 'TAGTT', 'TATAT', 'TATCT', 'TATGT', 'TATTA', 'TATTC', 'TATTG', 'TATTT', 'TCATT', 'TCCTT', 'TCGTT', 'TCTAT', 'TCTCT', 'TCTGT', 'TCTTA', 'TCTTC', 'TCTTG', 'TCTTT', 'TGATT', 'TGCTT', 'TGGTT', 'TGTCT', 'TGTGT', 'TGTTA', 'TGTTC', 'TGTTG', 'TGTTT', 'TTAAT', 'TTACT', 'TTAGT', 'TTATA', 'TTATC', 'TTATG', 'TTATT', 'TTCAT', 'TTCCT', 'TTCGT', 'TTCTA', 'TTCTC', 'TTCTG', 'TTCTT', 'TTGAT', 'TTGCT', 'TTGGT', 'TTGTC', 'TTGTG', 'TTGTT', 'TTTAA', 'TTTAC', 'TTTAG', 'TTTAT', 'TTTCA', 'TTTCC', 'TTTCG', 'TTTCT', 'TTTGA', 'TTTGC', 'TTTGG', 'TTTGT', 'TTTTA', 'TTTTC', 'TTTTG', 'TTTTT')\n",
      "\n",
      "a_rich <- c('AAAAA', 'AAAAC', 'AAAAG', 'AAAAT', 'AAACA', 'AAACC', 'AAACG', 'AAACT', 'AAAGA', 'AAAGC', 'AAAGG', 'AAAGT', 'AAATA', 'AAATC', 'AAATG', 'AAATT', 'AACAA', 'AACAC', 'AACAG', 'AACAT', 'AACCA', 'AACGA', 'AACTA', 'AAGAA', 'AAGAC', 'AAGAG', 'AAGAT', 'AAGCA', 'AAGGA', 'AAGTA', 'AATAA', 'AATAC', 'AATAG', 'AATAT', 'AATCA', 'AATGA', 'AATTA', 'ACAAA', 'ACAAC', 'ACAAG', 'ACAAT', 'ACACA', 'ACAGA', 'ACATA', 'ACCAA', 'ACGAA', 'ACTAA', 'AGAAA', 'AGAAC', 'AGAAG', 'AGAAT', 'AGACA', 'AGAGA', 'AGATA', 'AGCAA', 'AGGAA', 'AGTAA', 'ATAAA', 'ATAAC', 'ATAAG', 'ATAAT', 'ATACA', 'ATAGA', 'ATATA', 'ATCAA', 'ATGAA', 'ATTAA', 'CAAAA', 'CAAAC', 'CAAAG', 'CAAAT', 'CAACA', 'CAAGA', 'CAATA', 'CACAA', 'CAGAA', 'CATAA', 'CCAAA', 'CGAAA', 'CTAAA', 'GAAAA', 'GAAAC', 'GAAAG', 'GAAAT', 'GAACA', 'GAAGA', 'GAATA', 'GACAA', 'GAGAA', 'GATAA', 'GCAAA', 'GGAAA', 'GTAAA', 'TAAAA', 'TAAAC', 'TAAAG', 'TAAAT', 'TAACA', 'TAAGA', 'TAATA', 'TACAA', 'TAGAA', 'TATAA', 'TCAAA', 'TGAAA', 'TTAAA')\n",
      "\n",
      "tgta_containing <- c('ATGTA', 'CTGTA', 'GTGTA', 'TGTAA', 'TGTAC', 'TGTAG', 'TGTAT', 'TTGTA')\n"
     ]
    }
   ],
   "source": [
    "## Identify motif patterns\n",
    "\n",
    "a_rich    = list(set([x for x in all_5mers if (x.count('A') >= 3)]))\n",
    "t_rich    = list(set([x for x in all_5mers if (x.count('T') >= 3)]))\n",
    "tgta_rich = list(set([x for x in all_5mers if ('TGTA' in x)]))\n",
    "\n",
    "## Assign motifs to families based on priority\n",
    "\n",
    "motif_priority = {\n",
    "    'T-rich'          : t_rich,\n",
    "    'A-rich'          : a_rich,\n",
    "    'TGTA-containing' : tgta_rich,\n",
    "}\n",
    "\n",
    "motif_family = {}\n",
    "\n",
    "for motif in all_5mers:\n",
    "    motif_family[motif] = 'Other'\n",
    "    \n",
    "for mf,mlist in motif_priority.items():\n",
    "    for m in mlist:\n",
    "        motif_family[m] = mf\n",
    "\n",
    "        \n",
    "## Output list of motifs in each family for use in R\n",
    "\n",
    "motif_unique = {}\n",
    "\n",
    "for mf in motif_priority.keys():\n",
    "    motif_unique[mf] = sorted([k for k,v in motif_family.items() if (v == mf)])\n",
    "    print(mf, \"\\t\", len(motif_unique[mf]))\n",
    "    \n",
    "for mf,ml in motif_unique.items():\n",
    "    outstring = \"\\n\" + mf.replace(\"-\",\"_\").replace(\"/\",\"\").lower() + \" <- c('\" + \"', '\".join(ml) + \"')\"\n",
    "    print(outstring)\n",
    "    \n",
    "    \n",
    "## Record motif family definitions\n",
    "\n",
    "pattern_definitions = {\n",
    "    'priority'   : motif_priority,\n",
    "    'family'     : motif_family,\n",
    "    'no_overlap' : motif_unique,\n",
    "}\n",
    "\n",
    "with open(os.path.join(OUTDIR, 'motif_definitions.atha.5mers.patterns.pickle'), mode = 'wb') as handle:\n",
    "    pickle.dump(pattern_definitions, handle)\n",
    "\n",
    "(pd.DataFrame.from_dict(motif_family, orient = 'index').reset_index()\n",
    " .rename(columns = {'index' : 'motif', 0 : 'family'})\n",
    " .to_csv(os.path.join(OUTDIR, 'motif_families.atha.5mers.patterns.txt'))\n",
    ")\n"
   ]
  },
  {
   "cell_type": "markdown",
   "metadata": {},
   "source": [
    "##### 4mers"
   ]
  },
  {
   "cell_type": "code",
   "execution_count": 10,
   "metadata": {
    "scrolled": false
   },
   "outputs": [
    {
     "name": "stdout",
     "output_type": "stream",
     "text": [
      "T-rich \t 60\n",
      "A-rich \t 67\n",
      "TGTA-containing \t 1\n",
      "\n",
      "t_rich <- c('ACTT', 'AGTT', 'ATCT', 'ATGT', 'ATTC', 'ATTG', 'ATTT', 'CATT', 'CCTT', 'CGTT', 'CTAT', 'CTCT', 'CTGT', 'CTTA', 'CTTC', 'CTTG', 'CTTT', 'GATT', 'GCTT', 'GGTT', 'GTAT', 'GTCT', 'GTGT', 'GTTA', 'GTTC', 'GTTG', 'GTTT', 'TACT', 'TAGT', 'TATC', 'TATG', 'TATT', 'TCAT', 'TCCT', 'TCGT', 'TCTA', 'TCTC', 'TCTG', 'TCTT', 'TGAT', 'TGCT', 'TGGT', 'TGTC', 'TGTG', 'TGTT', 'TTAC', 'TTAG', 'TTAT', 'TTCA', 'TTCC', 'TTCG', 'TTCT', 'TTGA', 'TTGC', 'TTGG', 'TTGT', 'TTTA', 'TTTC', 'TTTG', 'TTTT')\n",
      "\n",
      "a_rich <- c('AAAA', 'AAAC', 'AAAG', 'AAAT', 'AACA', 'AACC', 'AACG', 'AACT', 'AAGA', 'AAGC', 'AAGG', 'AAGT', 'AATA', 'AATC', 'AATG', 'AATT', 'ACAA', 'ACAC', 'ACAG', 'ACAT', 'ACCA', 'ACGA', 'ACTA', 'AGAA', 'AGAC', 'AGAG', 'AGAT', 'AGCA', 'AGGA', 'AGTA', 'ATAA', 'ATAC', 'ATAG', 'ATAT', 'ATCA', 'ATGA', 'ATTA', 'CAAA', 'CAAC', 'CAAG', 'CAAT', 'CACA', 'CAGA', 'CATA', 'CCAA', 'CGAA', 'CTAA', 'GAAA', 'GAAC', 'GAAG', 'GAAT', 'GACA', 'GAGA', 'GATA', 'GCAA', 'GGAA', 'GTAA', 'TAAA', 'TAAC', 'TAAG', 'TAAT', 'TACA', 'TAGA', 'TATA', 'TCAA', 'TGAA', 'TTAA')\n",
      "\n",
      "tgta_containing <- c('TGTA')\n"
     ]
    }
   ],
   "source": [
    "## Identify motif patterns\n",
    "\n",
    "a_rich    = list(set([x for x in all_4mers if (x.count('A') >= 2)]))\n",
    "t_rich    = list(set([x for x in all_4mers if (x.count('T') >= 2)]))\n",
    "tgta_rich = list(set([x for x in all_4mers if ('TGTA' in x)]))\n",
    "\n",
    "## Assign motifs to families based on priority\n",
    "\n",
    "motif_priority = {\n",
    "    'T-rich'          : t_rich,\n",
    "    'A-rich'          : a_rich,\n",
    "    'TGTA-containing' : tgta_rich,\n",
    "}\n",
    "\n",
    "motif_family = {}\n",
    "\n",
    "for motif in all_4mers:\n",
    "    motif_family[motif] = 'Other'\n",
    "    \n",
    "for mf,mlist in motif_priority.items():\n",
    "    for m in mlist:\n",
    "        motif_family[m] = mf\n",
    "\n",
    "\n",
    "## Output list of motifs in each family for use in R\n",
    "\n",
    "motif_unique = {}\n",
    "\n",
    "for mf in motif_priority.keys():\n",
    "    motif_unique[mf] = sorted([k for k,v in motif_family.items() if (v == mf)])\n",
    "    print(mf, \"\\t\", len(motif_unique[mf]))\n",
    "    \n",
    "for mf,ml in motif_unique.items():\n",
    "    outstring = \"\\n\" + mf.replace(\"-\",\"_\").replace(\"/\",\"\").lower() + \" <- c('\" + \"', '\".join(ml) + \"')\"\n",
    "    print(outstring)\n",
    "    \n",
    "\n",
    "## Record motif family definitions\n",
    "\n",
    "pattern_definitions = {\n",
    "    'priority'   : motif_priority,\n",
    "    'family'     : motif_family,\n",
    "    'no_overlap' : motif_unique,\n",
    "}\n",
    "\n",
    "with open(os.path.join(OUTDIR, 'motif_definitions.atha.4mers.patterns.pickle'), mode = 'wb') as handle:\n",
    "    pickle.dump(pattern_definitions, handle)\n",
    "\n",
    "(pd.DataFrame.from_dict(motif_family, orient = 'index').reset_index()\n",
    " .rename(columns = {'index' : 'motif', 0 : 'family'})\n",
    " .to_csv(os.path.join(OUTDIR, 'motif_families.atha.4mers.patterns.txt'))\n",
    ")\n"
   ]
  }
 ],
 "metadata": {
  "kernelspec": {
   "display_name": "Python (tf-train)",
   "language": "python",
   "name": "tf-train"
  },
  "language_info": {
   "codemirror_mode": {
    "name": "ipython",
    "version": 3
   },
   "file_extension": ".py",
   "mimetype": "text/x-python",
   "name": "python",
   "nbconvert_exporter": "python",
   "pygments_lexer": "ipython3",
   "version": "3.6.12"
  }
 },
 "nbformat": 4,
 "nbformat_minor": 2
}
