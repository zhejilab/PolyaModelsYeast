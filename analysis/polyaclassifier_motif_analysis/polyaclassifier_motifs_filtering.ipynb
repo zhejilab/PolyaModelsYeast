{
 "cells": [
  {
   "cell_type": "markdown",
   "metadata": {},
   "source": [
    "# Filtering motifs important for PolyaClassifier site definition\n",
    "\n",
    "**Purpose:** To identify motifs significantly contributing to cleavage site formation according to PolyaClassifier. We employ a two-step filtering procedure."
   ]
  },
  {
   "cell_type": "code",
   "execution_count": 1,
   "metadata": {},
   "outputs": [],
   "source": [
    "%load_ext autoreload"
   ]
  },
  {
   "cell_type": "code",
   "execution_count": 2,
   "metadata": {},
   "outputs": [],
   "source": [
    "%autoreload 2"
   ]
  },
  {
   "cell_type": "code",
   "execution_count": 3,
   "metadata": {},
   "outputs": [],
   "source": [
    "%run -i notebook_setup.py"
   ]
  },
  {
   "cell_type": "code",
   "execution_count": 4,
   "metadata": {},
   "outputs": [],
   "source": [
    "from paper_utilities import helpers, motifs"
   ]
  },
  {
   "cell_type": "code",
   "execution_count": 5,
   "metadata": {},
   "outputs": [],
   "source": [
    "tqdm.tqdm.pandas()"
   ]
  },
  {
   "cell_type": "code",
   "execution_count": 6,
   "metadata": {},
   "outputs": [],
   "source": [
    "PROJECT = \"/projects/b1080/eks/polyadenylation/yeast\"\n",
    "OUTDIR  = os.path.join(PROJECT, 'manuscript', 'analysis', 'resources')\n",
    "os.makedirs(OUTDIR, exist_ok = True)\n"
   ]
  },
  {
   "cell_type": "markdown",
   "metadata": {},
   "source": [
    "# Processing motif disruption results"
   ]
  },
  {
   "cell_type": "markdown",
   "metadata": {},
   "source": [
    "## Model Configurations"
   ]
  },
  {
   "cell_type": "code",
   "execution_count": 7,
   "metadata": {},
   "outputs": [
    {
     "data": {
      "text/html": [
       "<div>\n",
       "<style scoped>\n",
       "    .dataframe tbody tr th:only-of-type {\n",
       "        vertical-align: middle;\n",
       "    }\n",
       "\n",
       "    .dataframe tbody tr th {\n",
       "        vertical-align: top;\n",
       "    }\n",
       "\n",
       "    .dataframe thead th {\n",
       "        text-align: right;\n",
       "    }\n",
       "</style>\n",
       "<table border=\"1\" class=\"dataframe\">\n",
       "  <thead>\n",
       "    <tr style=\"text-align: right;\">\n",
       "      <th></th>\n",
       "      <th>species</th>\n",
       "      <th>description</th>\n",
       "      <th>modeltype</th>\n",
       "      <th>golden_lines</th>\n",
       "    </tr>\n",
       "  </thead>\n",
       "  <tbody>\n",
       "    <tr>\n",
       "      <td>0</td>\n",
       "      <td>arabidopsis_thaliana</td>\n",
       "      <td>polyaclassifier_bagging3_kmers-4</td>\n",
       "      <td>polyaclassifier</td>\n",
       "      <td>9358</td>\n",
       "    </tr>\n",
       "    <tr>\n",
       "      <td>1</td>\n",
       "      <td>arabidopsis_thaliana</td>\n",
       "      <td>polyaclassifier_bagging3_kmers-5</td>\n",
       "      <td>polyaclassifier</td>\n",
       "      <td>9358</td>\n",
       "    </tr>\n",
       "    <tr>\n",
       "      <td>2</td>\n",
       "      <td>arabidopsis_thaliana</td>\n",
       "      <td>polyaclassifier_bagging3_kmers-6</td>\n",
       "      <td>polyaclassifier</td>\n",
       "      <td>9358</td>\n",
       "    </tr>\n",
       "    <tr>\n",
       "      <td>3</td>\n",
       "      <td>saccharomyces_cerevisiae</td>\n",
       "      <td>polyaclassifier_bagging3_kmers-4</td>\n",
       "      <td>polyaclassifier</td>\n",
       "      <td>11673</td>\n",
       "    </tr>\n",
       "    <tr>\n",
       "      <td>4</td>\n",
       "      <td>saccharomyces_cerevisiae</td>\n",
       "      <td>polyaclassifier_bagging3_kmers-5</td>\n",
       "      <td>polyaclassifier</td>\n",
       "      <td>11673</td>\n",
       "    </tr>\n",
       "    <tr>\n",
       "      <td>5</td>\n",
       "      <td>saccharomyces_cerevisiae</td>\n",
       "      <td>polyaclassifier_bagging3_kmers-6</td>\n",
       "      <td>polyaclassifier</td>\n",
       "      <td>11673</td>\n",
       "    </tr>\n",
       "    <tr>\n",
       "      <td>6</td>\n",
       "      <td>schizosaccharomyces_pombe</td>\n",
       "      <td>polyaclassifier_bagging3_kmers-4</td>\n",
       "      <td>polyaclassifier</td>\n",
       "      <td>2492</td>\n",
       "    </tr>\n",
       "    <tr>\n",
       "      <td>7</td>\n",
       "      <td>schizosaccharomyces_pombe</td>\n",
       "      <td>polyaclassifier_bagging3_kmers-5</td>\n",
       "      <td>polyaclassifier</td>\n",
       "      <td>2492</td>\n",
       "    </tr>\n",
       "    <tr>\n",
       "      <td>8</td>\n",
       "      <td>schizosaccharomyces_pombe</td>\n",
       "      <td>polyaclassifier_bagging3_kmers-6</td>\n",
       "      <td>polyaclassifier</td>\n",
       "      <td>2492</td>\n",
       "    </tr>\n",
       "  </tbody>\n",
       "</table>\n",
       "</div>"
      ],
      "text/plain": [
       "                     species                       description  \\\n",
       "0       arabidopsis_thaliana  polyaclassifier_bagging3_kmers-4   \n",
       "1       arabidopsis_thaliana  polyaclassifier_bagging3_kmers-5   \n",
       "2       arabidopsis_thaliana  polyaclassifier_bagging3_kmers-6   \n",
       "3   saccharomyces_cerevisiae  polyaclassifier_bagging3_kmers-4   \n",
       "4   saccharomyces_cerevisiae  polyaclassifier_bagging3_kmers-5   \n",
       "5   saccharomyces_cerevisiae  polyaclassifier_bagging3_kmers-6   \n",
       "6  schizosaccharomyces_pombe  polyaclassifier_bagging3_kmers-4   \n",
       "7  schizosaccharomyces_pombe  polyaclassifier_bagging3_kmers-5   \n",
       "8  schizosaccharomyces_pombe  polyaclassifier_bagging3_kmers-6   \n",
       "\n",
       "         modeltype  golden_lines  \n",
       "0  polyaclassifier          9358  \n",
       "1  polyaclassifier          9358  \n",
       "2  polyaclassifier          9358  \n",
       "3  polyaclassifier         11673  \n",
       "4  polyaclassifier         11673  \n",
       "5  polyaclassifier         11673  \n",
       "6  polyaclassifier          2492  \n",
       "7  polyaclassifier          2492  \n",
       "8  polyaclassifier          2492  "
      ]
     },
     "execution_count": 7,
     "metadata": {},
     "output_type": "execute_result"
    }
   ],
   "source": [
    "## Fetch line counts-1 for golden files before running this step\n",
    "\n",
    "trained_configs = (pd.DataFrame.from_dict({\n",
    "    'species'      : ['saccharomyces_cerevisiae']*3 + ['schizosaccharomyces_pombe']*3 + ['arabidopsis_thaliana']*3,\n",
    "    'description'  : ['polyaclassifier_bagging3_kmers-4','polyaclassifier_bagging3_kmers-5','polyaclassifier_bagging3_kmers-6']*3,\n",
    "    'modeltype'    : ['polyaclassifier']*9,\n",
    "    'golden_lines' : [11673]*3 + [2492]*3 + [9358]*3,\n",
    "    }, orient = 'columns')\n",
    "                   .sort_values(['species','modeltype'])\n",
    "                   .reset_index(drop = True)\n",
    ")\n",
    "\n",
    "trained_configs\n"
   ]
  },
  {
   "cell_type": "code",
   "execution_count": 8,
   "metadata": {},
   "outputs": [],
   "source": [
    "## Make dictionary of configurations for easy downstream use\n",
    "\n",
    "configurations = {\n",
    "    'saccharomyces_cerevisiae'  : {},\n",
    "    'schizosaccharomyces_pombe' : {},\n",
    "    'arabidopsis_thaliana'      : {},\n",
    "}\n",
    "\n",
    "for i,row in trained_configs.iterrows():\n",
    "    \n",
    "    rdict = row.to_dict()\n",
    "    rdict.pop('species')\n",
    "    rdict.pop('description')\n",
    "    \n",
    "    configurations[row['species']][row['description']] = rdict\n",
    "    \n",
    "with open(os.path.join(OUTDIR, 'polyaclassifier_configurations.pickle'), mode = 'wb') as handle:\n",
    "    pickle.dump(configurations, handle)\n"
   ]
  },
  {
   "cell_type": "markdown",
   "metadata": {},
   "source": [
    "## Motif importance by position"
   ]
  },
  {
   "cell_type": "markdown",
   "metadata": {},
   "source": [
    "#### Load motif disruption results into comprehensive data frame"
   ]
  },
  {
   "cell_type": "code",
   "execution_count": 9,
   "metadata": {
    "scrolled": false
   },
   "outputs": [
    {
     "name": "stdout",
     "output_type": "stream",
     "text": [
      "0: arabidopsis_thaliana      polyaclassifier polyaclassifier_bagging3_kmers-4 (256, 12)\n",
      "1: arabidopsis_thaliana      polyaclassifier polyaclassifier_bagging3_kmers-5 (1024, 12)\n",
      "2: arabidopsis_thaliana      polyaclassifier polyaclassifier_bagging3_kmers-6 (4096, 12)\n",
      "3: saccharomyces_cerevisiae  polyaclassifier polyaclassifier_bagging3_kmers-4 (256, 12)\n",
      "4: saccharomyces_cerevisiae  polyaclassifier polyaclassifier_bagging3_kmers-5 (1024, 12)\n",
      "5: saccharomyces_cerevisiae  polyaclassifier polyaclassifier_bagging3_kmers-6 (4096, 12)\n",
      "6: schizosaccharomyces_pombe polyaclassifier polyaclassifier_bagging3_kmers-4 (256, 12)\n",
      "7: schizosaccharomyces_pombe polyaclassifier polyaclassifier_bagging3_kmers-5 (1024, 12)\n",
      "8: schizosaccharomyces_pombe polyaclassifier polyaclassifier_bagging3_kmers-6 (4096, 12)\n",
      "Removing 0 motifs due to incorrect xs length...\n",
      "Motif summaries shape: (16128, 12)\n"
     ]
    },
    {
     "name": "stderr",
     "output_type": "stream",
     "text": [
      "/projects/b1080/eks/polyadenylation/yeast/manuscript/paper_utilities/helpers.py:29: RuntimeWarning: invalid value encountered in double_scalars\n",
      "  ste_vec[i] = std_vec[i] / np.sqrt(freq_vec[i])\n",
      "100%|██████████| 16128/16128 [00:13<00:00, 1228.51it/s]\n",
      "100%|██████████| 16128/16128 [00:12<00:00, 1286.09it/s]\n"
     ]
    }
   ],
   "source": [
    "motif_summaries = []\n",
    "\n",
    "for i,config in trained_configs.iterrows():\n",
    "    \n",
    "    motif_dir = os.path.join(PROJECT, config['species'], \"analysis\", \"motif_analysis\", \"motif_disruption\")\n",
    "    \n",
    "    try:\n",
    "        motif_file = os.path.join(motif_dir, f\"motif_disruption.{config.description}.summary.txt\")\n",
    "        motif_summary = pd.read_csv(motif_file, sep = \"\\t\")    \n",
    "    except FileNotFoundError:\n",
    "        continue\n",
    "\n",
    "    motif_summary['species'] = config.species\n",
    "    motif_summary['modeltype'] = config.modeltype\n",
    "    motif_summary['config'] = config.description\n",
    "\n",
    "    motif_summaries.append(motif_summary)\n",
    "    print(f\"{i}: {config['species']:25} {config['modeltype']} {config['description']} {motif_summary.shape}\")\n",
    "    \n",
    "motif_summaries = pd.concat(motif_summaries, sort = False, ignore_index = True)\n",
    "print(f\"Removing {(motif_summaries['xs'].str.len() <= 2).sum()} motifs due to incorrect xs length...\")\n",
    "\n",
    "motif_summaries = motif_summaries.loc[motif_summaries['xs'].str.len() > 2].copy()\n",
    "print(f\"Motif summaries shape: {motif_summaries.shape}\")\n",
    "\n",
    "\n",
    "## Load motif importance profiles to numeric vectors\n",
    "\n",
    "motif_summaries['kmer']          = motif_summaries['testMotif'].str.len()\n",
    "\n",
    "motif_summaries['xs']            = motif_summaries['xs'].apply(lambda xs : [int(float(x)) for x in xs.strip(\"][\").split(\", \")])\n",
    "\n",
    "motif_summaries['freqs']         = motif_summaries['freqs'].apply(lambda xs : np.asarray([float(x) for x in xs.strip(\"][\").split(\", \")]))\n",
    "motif_summaries['means']         = motif_summaries['means'].apply(lambda xs : -1*np.asarray([float(x) for x in xs.strip(\"][\").split(\", \")]))\n",
    "motif_summaries['medians']       = motif_summaries['medians'].apply(lambda xs : -1*np.asarray([float(x) for x in xs.strip(\"][\").split(\", \")]))\n",
    "\n",
    "motif_summaries['meanWeights']   = motif_summaries['meanWeights'].apply(lambda xs : -1*np.asarray([float(x) for x in xs.strip(\"][\").split(\", \")]))\n",
    "motif_summaries['medianWeights'] = motif_summaries['medianWeights'].apply(lambda xs : -1*np.asarray([float(x) for x in xs.strip(\"][\").split(\", \")]))\n",
    "\n",
    "motif_summaries['stds']          = motif_summaries['stds'].apply(lambda xs : np.asarray([float(x) for x in xs.strip(\"][\").split(\", \")]))\n",
    "motif_summaries['stdWeights']    = motif_summaries['stdWeights'].apply(lambda xs : np.asarray([float(x) for x in xs.strip(\"][\").split(\", \")]))\n",
    "\n",
    "motif_summaries['stes']          = motif_summaries.apply(lambda row: helpers.std_to_ste(row['stds'], row['freqs']), axis = 1)\n",
    "motif_summaries['steWeights']    = motif_summaries.apply(lambda row: helpers.std_to_ste(row['stdWeights'], row['freqs']), axis = 1)\n",
    "\n",
    "\n",
    "## Calculate peak motif importance scores\n",
    "\n",
    "measure = \"mean\"\n",
    "\n",
    "motif_summaries['peak_persite_score'] = motif_summaries[f'{measure}s'].apply(lambda x : np.max(x))\n",
    "motif_summaries['auc_persite_score']  = motif_summaries[f'{measure}s'].apply(lambda x : np.sum(x))\n",
    "\n",
    "motif_summaries['extreme_persite_results']  = motif_summaries.progress_apply(lambda row: motifs.peak_importance_window(row['xs'], row[f'{measure}s'], region_size = 500, window_size = 20, direction = 'positive'), axis = 1)\n",
    "motif_summaries['extreme_persite_position'] = motif_summaries['extreme_persite_results'].apply(lambda x : x[0])\n",
    "motif_summaries['extreme_persite_score']    = motif_summaries['extreme_persite_results'].apply(lambda x : x[1])\n",
    "motif_summaries['extreme_persite_log1p']    = np.sign(motif_summaries['extreme_persite_score']) * np.log10(np.abs(motif_summaries['extreme_persite_score']))\n",
    "motif_summaries.drop(columns = 'extreme_persite_results', inplace = True)\n",
    "\n",
    "motif_summaries['peak_weights_score'] = motif_summaries[f'{measure}Weights'].apply(lambda x : np.max(x))\n",
    "motif_summaries['auc_weights_score']  = motif_summaries[f'{measure}Weights'].apply(lambda x : np.sum(x))\n",
    "\n",
    "motif_summaries['extreme_weights_results']  = motif_summaries.progress_apply(lambda row: motifs.peak_importance_window(row['xs'], row[f'{measure}Weights'], region_size = 500, window_size = 20, direction = 'positive'), axis = 1)\n",
    "motif_summaries['extreme_weights_position'] = motif_summaries['extreme_weights_results'].apply(lambda x : x[0])\n",
    "motif_summaries['extreme_weights_score']    = motif_summaries['extreme_weights_results'].apply(lambda x : x[1])\n",
    "motif_summaries['extreme_weights_log1p']    = np.sign(motif_summaries['extreme_weights_score']) * np.log10(np.abs(motif_summaries['extreme_weights_score']))\n",
    "motif_summaries.drop(columns = 'extreme_weights_results', inplace = True)\n",
    "\n",
    "\n",
    "## Record results\n",
    "\n",
    "with open(os.path.join(OUTDIR, \"polyaclassifier_motifs.disruption_profiles.pickle\"), mode = 'wb') as handle:\n",
    "    pickle.dump(motif_summaries, handle)\n",
    "    "
   ]
  },
  {
   "cell_type": "code",
   "execution_count": 10,
   "metadata": {
    "scrolled": false
   },
   "outputs": [
    {
     "data": {
      "text/plain": [
       "species                    modeltype        kmer\n",
       "arabidopsis_thaliana       polyaclassifier  4        256\n",
       "                                            5       1024\n",
       "                                            6       4096\n",
       "saccharomyces_cerevisiae   polyaclassifier  4        256\n",
       "                                            5       1024\n",
       "                                            6       4096\n",
       "schizosaccharomyces_pombe  polyaclassifier  4        256\n",
       "                                            5       1024\n",
       "                                            6       4096\n",
       "dtype: int64"
      ]
     },
     "execution_count": 10,
     "metadata": {},
     "output_type": "execute_result"
    }
   ],
   "source": [
    "motif_summaries.groupby(['species','modeltype','kmer']).size()"
   ]
  },
  {
   "cell_type": "markdown",
   "metadata": {},
   "source": [
    "#### Compile motif importance profiles into matrices"
   ]
  },
  {
   "cell_type": "code",
   "execution_count": 11,
   "metadata": {
    "scrolled": false
   },
   "outputs": [
    {
     "name": "stdout",
     "output_type": "stream",
     "text": [
      "arabidopsis_thaliana\tpolyaclassifier\tpolyaclassifier_bagging3_kmers-4\n"
     ]
    },
    {
     "name": "stderr",
     "output_type": "stream",
     "text": [
      "256it [00:00, 904.38it/s]\n"
     ]
    },
    {
     "name": "stdout",
     "output_type": "stream",
     "text": [
      "arabidopsis_thaliana\tpolyaclassifier\tpolyaclassifier_bagging3_kmers-5\n"
     ]
    },
    {
     "name": "stderr",
     "output_type": "stream",
     "text": [
      "1024it [00:01, 860.64it/s]\n"
     ]
    },
    {
     "name": "stdout",
     "output_type": "stream",
     "text": [
      "arabidopsis_thaliana\tpolyaclassifier\tpolyaclassifier_bagging3_kmers-6\n"
     ]
    },
    {
     "name": "stderr",
     "output_type": "stream",
     "text": [
      "4096it [00:05, 771.64it/s]\n"
     ]
    },
    {
     "name": "stdout",
     "output_type": "stream",
     "text": [
      "saccharomyces_cerevisiae\tpolyaclassifier\tpolyaclassifier_bagging3_kmers-4\n"
     ]
    },
    {
     "name": "stderr",
     "output_type": "stream",
     "text": [
      "256it [00:00, 903.37it/s]\n"
     ]
    },
    {
     "name": "stdout",
     "output_type": "stream",
     "text": [
      "saccharomyces_cerevisiae\tpolyaclassifier\tpolyaclassifier_bagging3_kmers-5\n"
     ]
    },
    {
     "name": "stderr",
     "output_type": "stream",
     "text": [
      "1024it [00:01, 859.05it/s]\n"
     ]
    },
    {
     "name": "stdout",
     "output_type": "stream",
     "text": [
      "saccharomyces_cerevisiae\tpolyaclassifier\tpolyaclassifier_bagging3_kmers-6\n"
     ]
    },
    {
     "name": "stderr",
     "output_type": "stream",
     "text": [
      "4096it [00:05, 767.68it/s]\n"
     ]
    },
    {
     "name": "stdout",
     "output_type": "stream",
     "text": [
      "schizosaccharomyces_pombe\tpolyaclassifier\tpolyaclassifier_bagging3_kmers-4\n"
     ]
    },
    {
     "name": "stderr",
     "output_type": "stream",
     "text": [
      "256it [00:00, 896.60it/s]\n"
     ]
    },
    {
     "name": "stdout",
     "output_type": "stream",
     "text": [
      "schizosaccharomyces_pombe\tpolyaclassifier\tpolyaclassifier_bagging3_kmers-5\n"
     ]
    },
    {
     "name": "stderr",
     "output_type": "stream",
     "text": [
      "1024it [00:01, 866.53it/s]\n"
     ]
    },
    {
     "name": "stdout",
     "output_type": "stream",
     "text": [
      "schizosaccharomyces_pombe\tpolyaclassifier\tpolyaclassifier_bagging3_kmers-6\n"
     ]
    },
    {
     "name": "stderr",
     "output_type": "stream",
     "text": [
      "4096it [00:05, 762.62it/s]\n"
     ]
    }
   ],
   "source": [
    "hmdfs_sum = dict()\n",
    "\n",
    "for i,(s,mt,c) in motif_summaries[['species','modeltype','config']].drop_duplicates().iterrows():\n",
    "    print(\"\\t\".join([s,mt,c]))\n",
    "    \n",
    "    if (s not in hmdfs_sum):\n",
    "        hmdfs_sum[s] = dict()\n",
    "    if (mt not in hmdfs_sum[s]):\n",
    "        hmdfs_sum[s][mt] = dict()\n",
    "        \n",
    "    condS  = (motif_summaries['species'] == s)\n",
    "    condMT = (motif_summaries['modeltype'] == mt)\n",
    "    condC  = (motif_summaries['config'] == c)\n",
    "        \n",
    "    msum = motif_summaries.loc[condS & condMT & condC]\n",
    "    \n",
    "    hmdfs_sum[s][mt][c] = motifs.make_hmdf(msum, weighted = True, xwindow = (-250,250))\n",
    "    \n",
    "with open(os.path.join(OUTDIR, \"polyaclassifier_motifs.hmdfs.sum.pickle\"), mode = 'wb') as handle:\n",
    "    pickle.dump(hmdfs_sum, handle)\n",
    "    "
   ]
  },
  {
   "cell_type": "code",
   "execution_count": 12,
   "metadata": {
    "scrolled": false
   },
   "outputs": [
    {
     "name": "stdout",
     "output_type": "stream",
     "text": [
      "arabidopsis_thaliana\tpolyaclassifier\tpolyaclassifier_bagging3_kmers-4\n"
     ]
    },
    {
     "name": "stderr",
     "output_type": "stream",
     "text": [
      "256it [00:00, 891.58it/s]\n"
     ]
    },
    {
     "name": "stdout",
     "output_type": "stream",
     "text": [
      "arabidopsis_thaliana\tpolyaclassifier\tpolyaclassifier_bagging3_kmers-5\n"
     ]
    },
    {
     "name": "stderr",
     "output_type": "stream",
     "text": [
      "1024it [00:01, 856.39it/s]\n"
     ]
    },
    {
     "name": "stdout",
     "output_type": "stream",
     "text": [
      "arabidopsis_thaliana\tpolyaclassifier\tpolyaclassifier_bagging3_kmers-6\n"
     ]
    },
    {
     "name": "stderr",
     "output_type": "stream",
     "text": [
      "4096it [00:05, 767.98it/s]\n"
     ]
    },
    {
     "name": "stdout",
     "output_type": "stream",
     "text": [
      "saccharomyces_cerevisiae\tpolyaclassifier\tpolyaclassifier_bagging3_kmers-4\n"
     ]
    },
    {
     "name": "stderr",
     "output_type": "stream",
     "text": [
      "256it [00:00, 911.70it/s]\n"
     ]
    },
    {
     "name": "stdout",
     "output_type": "stream",
     "text": [
      "saccharomyces_cerevisiae\tpolyaclassifier\tpolyaclassifier_bagging3_kmers-5\n"
     ]
    },
    {
     "name": "stderr",
     "output_type": "stream",
     "text": [
      "1024it [00:01, 864.03it/s]\n"
     ]
    },
    {
     "name": "stdout",
     "output_type": "stream",
     "text": [
      "saccharomyces_cerevisiae\tpolyaclassifier\tpolyaclassifier_bagging3_kmers-6\n"
     ]
    },
    {
     "name": "stderr",
     "output_type": "stream",
     "text": [
      "4096it [00:05, 769.32it/s]\n"
     ]
    },
    {
     "name": "stdout",
     "output_type": "stream",
     "text": [
      "schizosaccharomyces_pombe\tpolyaclassifier\tpolyaclassifier_bagging3_kmers-4\n"
     ]
    },
    {
     "name": "stderr",
     "output_type": "stream",
     "text": [
      "256it [00:00, 909.42it/s]\n"
     ]
    },
    {
     "name": "stdout",
     "output_type": "stream",
     "text": [
      "schizosaccharomyces_pombe\tpolyaclassifier\tpolyaclassifier_bagging3_kmers-5\n"
     ]
    },
    {
     "name": "stderr",
     "output_type": "stream",
     "text": [
      "1024it [00:01, 872.55it/s]\n"
     ]
    },
    {
     "name": "stdout",
     "output_type": "stream",
     "text": [
      "schizosaccharomyces_pombe\tpolyaclassifier\tpolyaclassifier_bagging3_kmers-6\n"
     ]
    },
    {
     "name": "stderr",
     "output_type": "stream",
     "text": [
      "4096it [00:05, 766.29it/s]\n"
     ]
    }
   ],
   "source": [
    "hmdfs_per = defaultdict(dict)\n",
    "\n",
    "for i,(s,mt,c) in motif_summaries[['species','modeltype','config']].drop_duplicates().iterrows():\n",
    "    print(\"\\t\".join([s,mt,c]))\n",
    "    \n",
    "    if (s not in hmdfs_per):\n",
    "        hmdfs_per[s] = dict()\n",
    "    if (mt not in hmdfs_per[s]):\n",
    "        hmdfs_per[s][mt] = dict()\n",
    "        \n",
    "    condS  = (motif_summaries['species'] == s)\n",
    "    condMT = (motif_summaries['modeltype'] == mt)\n",
    "    condC  = (motif_summaries['config'] == c)\n",
    "        \n",
    "    msum = motif_summaries.loc[condS & condMT & condC]\n",
    "    \n",
    "    hmdfs_per[s][mt][c] = motifs.make_hmdf(msum, weighted = False, xwindow = (-250,250))\n",
    "    \n",
    "with open(os.path.join(OUTDIR, \"polyaclassifier_motifs.hmdfs.per_site.pickle\"), mode = 'wb') as handle:\n",
    "    pickle.dump(hmdfs_per, handle)\n",
    "    "
   ]
  },
  {
   "cell_type": "markdown",
   "metadata": {},
   "source": [
    "#### Identify motifs significant over background"
   ]
  },
  {
   "cell_type": "code",
   "execution_count": 13,
   "metadata": {
    "scrolled": false
   },
   "outputs": [
    {
     "name": "stdout",
     "output_type": "stream",
     "text": [
      "\n",
      "\n",
      " arabidopsis_thaliana\tpolyaclassifier\tpolyaclassifier_bagging3_kmers-4\n"
     ]
    },
    {
     "name": "stderr",
     "output_type": "stream",
     "text": [
      "100%|██████████| 1000/1000 [00:01<00:00, 724.23it/s]\n"
     ]
    },
    {
     "name": "stdout",
     "output_type": "stream",
     "text": [
      "High Values:\talpha=0.001, percentile=99.900: cutoff_value=456.225\n",
      "Low Values :\talpha=0.001, percentile= 0.100: cutoff_value=-57.911\n",
      "Number of motifs above background threshold: 166 out of 256\n",
      "\n",
      "\n",
      " arabidopsis_thaliana\tpolyaclassifier\tpolyaclassifier_bagging3_kmers-5\n"
     ]
    },
    {
     "name": "stderr",
     "output_type": "stream",
     "text": [
      "100%|██████████| 1000/1000 [00:06<00:00, 163.09it/s]\n"
     ]
    },
    {
     "name": "stdout",
     "output_type": "stream",
     "text": [
      "High Values:\talpha=0.001, percentile=99.900: cutoff_value=173.352\n",
      "Low Values :\talpha=0.001, percentile= 0.100: cutoff_value=-19.454\n",
      "Number of motifs above background threshold: 580 out of 1024\n",
      "\n",
      "\n",
      " arabidopsis_thaliana\tpolyaclassifier\tpolyaclassifier_bagging3_kmers-6\n"
     ]
    },
    {
     "name": "stderr",
     "output_type": "stream",
     "text": [
      "100%|██████████| 1000/1000 [00:34<00:00, 29.03it/s]\n"
     ]
    },
    {
     "name": "stdout",
     "output_type": "stream",
     "text": [
      "High Values:\talpha=0.001, percentile=99.900: cutoff_value=56.570\n",
      "Low Values :\talpha=0.001, percentile= 0.100: cutoff_value=-7.702\n",
      "Number of motifs above background threshold: 2114 out of 4096\n",
      "\n",
      "\n",
      " saccharomyces_cerevisiae\tpolyaclassifier\tpolyaclassifier_bagging3_kmers-4\n"
     ]
    },
    {
     "name": "stderr",
     "output_type": "stream",
     "text": [
      "100%|██████████| 1000/1000 [00:01<00:00, 719.58it/s]\n"
     ]
    },
    {
     "name": "stdout",
     "output_type": "stream",
     "text": [
      "High Values:\talpha=0.001, percentile=99.900: cutoff_value=452.132\n",
      "Low Values :\talpha=0.001, percentile= 0.100: cutoff_value=-28.734\n",
      "Number of motifs above background threshold: 148 out of 256\n",
      "\n",
      "\n",
      " saccharomyces_cerevisiae\tpolyaclassifier\tpolyaclassifier_bagging3_kmers-5\n"
     ]
    },
    {
     "name": "stderr",
     "output_type": "stream",
     "text": [
      "100%|██████████| 1000/1000 [00:06<00:00, 162.87it/s]\n"
     ]
    },
    {
     "name": "stdout",
     "output_type": "stream",
     "text": [
      "High Values:\talpha=0.001, percentile=99.900: cutoff_value=142.833\n",
      "Low Values :\talpha=0.001, percentile= 0.100: cutoff_value=-18.393\n",
      "Number of motifs above background threshold: 561 out of 1024\n",
      "\n",
      "\n",
      " saccharomyces_cerevisiae\tpolyaclassifier\tpolyaclassifier_bagging3_kmers-6\n"
     ]
    },
    {
     "name": "stderr",
     "output_type": "stream",
     "text": [
      "100%|██████████| 1000/1000 [00:34<00:00, 28.97it/s]\n"
     ]
    },
    {
     "name": "stdout",
     "output_type": "stream",
     "text": [
      "High Values:\talpha=0.001, percentile=99.900: cutoff_value=66.273\n",
      "Low Values :\talpha=0.001, percentile= 0.100: cutoff_value=-6.477\n",
      "Number of motifs above background threshold: 1672 out of 4096\n",
      "\n",
      "\n",
      " schizosaccharomyces_pombe\tpolyaclassifier\tpolyaclassifier_bagging3_kmers-4\n"
     ]
    },
    {
     "name": "stderr",
     "output_type": "stream",
     "text": [
      "100%|██████████| 1000/1000 [00:01<00:00, 706.72it/s]\n"
     ]
    },
    {
     "name": "stdout",
     "output_type": "stream",
     "text": [
      "High Values:\talpha=0.001, percentile=99.900: cutoff_value=203.124\n",
      "Low Values :\talpha=0.001, percentile= 0.100: cutoff_value=-54.855\n",
      "Number of motifs above background threshold: 179 out of 256\n",
      "\n",
      "\n",
      " schizosaccharomyces_pombe\tpolyaclassifier\tpolyaclassifier_bagging3_kmers-5\n"
     ]
    },
    {
     "name": "stderr",
     "output_type": "stream",
     "text": [
      "100%|██████████| 1000/1000 [00:06<00:00, 163.83it/s]\n"
     ]
    },
    {
     "name": "stdout",
     "output_type": "stream",
     "text": [
      "High Values:\talpha=0.001, percentile=99.900: cutoff_value=111.352\n",
      "Low Values :\talpha=0.001, percentile= 0.100: cutoff_value=-40.082\n",
      "Number of motifs above background threshold: 566 out of 1024\n",
      "\n",
      "\n",
      " schizosaccharomyces_pombe\tpolyaclassifier\tpolyaclassifier_bagging3_kmers-6\n"
     ]
    },
    {
     "name": "stderr",
     "output_type": "stream",
     "text": [
      "100%|██████████| 1000/1000 [00:36<00:00, 27.78it/s]\n"
     ]
    },
    {
     "name": "stdout",
     "output_type": "stream",
     "text": [
      "High Values:\talpha=0.001, percentile=99.900: cutoff_value=55.866\n",
      "Low Values :\talpha=0.001, percentile= 0.100: cutoff_value=-16.863\n",
      "Number of motifs above background threshold: 1775 out of 4096\n"
     ]
    }
   ],
   "source": [
    "background_motifs = dict()\n",
    "\n",
    "for i,(s,mt,c) in motif_summaries[['species','modeltype','config']].drop_duplicates().iterrows():\n",
    "    print(\"\\n\\n\", \"\\t\".join([s,mt,c]))\n",
    "    \n",
    "    if (s not in background_motifs):\n",
    "        background_motifs[s] = dict()\n",
    "    if (mt not in background_motifs[s]):\n",
    "        background_motifs[s][mt] = dict()\n",
    "        \n",
    "    condS  = (motif_summaries['species'] == s)\n",
    "    condMT = (motif_summaries['modeltype'] == mt)\n",
    "    condC  = (motif_summaries['config'] == c)\n",
    "        \n",
    "    msum = motif_summaries.loc[condS & condMT & condC]\n",
    "        \n",
    "    background_motifs[s][mt][c] = motifs.filter_by_importance(msum,\n",
    "                                                              hmdfs_sum[s][mt][c], \n",
    "                                                              OUTDIR, mt, c, \n",
    "                                                              center_idx = 250,\n",
    "                                                              exclude = (-80,30), \n",
    "                                                              sliding = 20, \n",
    "                                                              niter = 1000, \n",
    "                                                              alpha = 0.001, ## Equivalent to 99.9%ile\n",
    "                                                              direction = 'positive'\n",
    "                                                             )\n",
    "\n",
    "with open(os.path.join(OUTDIR, \"polyaclassifier_motifs.background_motifs.pickle\"), mode = 'wb') as handle:\n",
    "    pickle.dump(background_motifs, handle)\n"
   ]
  },
  {
   "cell_type": "markdown",
   "metadata": {},
   "source": [
    "#### Identify regionally-significant motifs"
   ]
  },
  {
   "cell_type": "code",
   "execution_count": 14,
   "metadata": {},
   "outputs": [
    {
     "name": "stdout",
     "output_type": "stream",
     "text": [
      "\n",
      "\n",
      "arabidopsis_thaliana\tpolyaclassifier\tpolyaclassifier_bagging3_kmers-4\n",
      "Region=(-250, -120): alpha=0.010, percentile=99.000, cutoff_value=  1730.219, n_passing=  8\n",
      "Region=(-120, -80) : alpha=0.010, percentile=99.000, cutoff_value=  4141.129, n_passing=  2\n",
      "Region=(-80, -40)  : alpha=0.010, percentile=99.000, cutoff_value=  4600.922, n_passing=  2\n",
      "Region=(-40, 0)    : alpha=0.010, percentile=99.000, cutoff_value=  7041.055, n_passing=  8\n",
      "Region=(0, 40)     : alpha=0.010, percentile=99.000, cutoff_value=  4799.077, n_passing= 13\n",
      "Region=(40, 80)    : alpha=0.010, percentile=99.000, cutoff_value=   509.686, n_passing=  9\n",
      "Region=(80, 120)   : alpha=0.010, percentile=99.000, cutoff_value=   483.971, n_passing=  7\n",
      "Region=(120, 250)  : alpha=0.010, percentile=99.000, cutoff_value=   435.487, n_passing=  8\n",
      "Number of regionally-significant motifs: 22\n",
      "\n",
      "\n",
      "arabidopsis_thaliana\tpolyaclassifier\tpolyaclassifier_bagging3_kmers-5\n",
      "Region=(-250, -120): alpha=0.010, percentile=99.000, cutoff_value=   609.082, n_passing= 27\n",
      "Region=(-120, -80) : alpha=0.010, percentile=99.000, cutoff_value=  1581.844, n_passing=  8\n",
      "Region=(-80, -40)  : alpha=0.010, percentile=99.000, cutoff_value=  1843.848, n_passing=  8\n",
      "Region=(-40, 0)    : alpha=0.010, percentile=99.000, cutoff_value=  3149.574, n_passing= 20\n",
      "Region=(0, 40)     : alpha=0.010, percentile=99.000, cutoff_value=  1653.588, n_passing= 42\n",
      "Region=(40, 80)    : alpha=0.010, percentile=99.000, cutoff_value=   180.483, n_passing= 21\n",
      "Region=(80, 120)   : alpha=0.010, percentile=99.000, cutoff_value=   179.380, n_passing= 15\n",
      "Region=(120, 250)  : alpha=0.010, percentile=99.000, cutoff_value=   177.618, n_passing= 20\n",
      "Number of regionally-significant motifs: 72\n",
      "\n",
      "\n",
      "arabidopsis_thaliana\tpolyaclassifier\tpolyaclassifier_bagging3_kmers-6\n",
      "Region=(-250, -120): alpha=0.010, percentile=99.000, cutoff_value=   211.434, n_passing= 90\n",
      "Region=(-120, -80) : alpha=0.010, percentile=99.000, cutoff_value=   510.294, n_passing= 29\n",
      "Region=(-80, -40)  : alpha=0.010, percentile=99.000, cutoff_value=   622.404, n_passing= 38\n",
      "Region=(-40, 0)    : alpha=0.010, percentile=99.000, cutoff_value=  1019.440, n_passing= 80\n",
      "Region=(0, 40)     : alpha=0.010, percentile=99.000, cutoff_value=   563.900, n_passing=145\n",
      "Region=(40, 80)    : alpha=0.010, percentile=99.000, cutoff_value=    56.801, n_passing= 70\n",
      "Region=(80, 120)   : alpha=0.010, percentile=99.000, cutoff_value=    52.929, n_passing= 57\n",
      "Region=(120, 250)  : alpha=0.010, percentile=99.000, cutoff_value=    55.976, n_passing= 81\n",
      "Number of regionally-significant motifs: 255\n",
      "\n",
      "\n",
      "saccharomyces_cerevisiae\tpolyaclassifier\tpolyaclassifier_bagging3_kmers-4\n",
      "Region=(-250, -120): alpha=0.010, percentile=99.000, cutoff_value=  1533.961, n_passing=  6\n",
      "Region=(-120, -80) : alpha=0.010, percentile=99.000, cutoff_value=  2188.059, n_passing=  6\n",
      "Region=(-80, -40)  : alpha=0.010, percentile=99.000, cutoff_value= 11903.988, n_passing=  2\n",
      "Region=(-40, 0)    : alpha=0.010, percentile=99.000, cutoff_value= 10328.526, n_passing=  4\n",
      "Region=(0, 40)     : alpha=0.010, percentile=99.000, cutoff_value=  5681.250, n_passing=  5\n",
      "Region=(40, 80)    : alpha=0.010, percentile=99.000, cutoff_value=  1955.675, n_passing=  2\n",
      "Region=(80, 120)   : alpha=0.010, percentile=99.000, cutoff_value=  1857.436, n_passing=  2\n",
      "Region=(120, 250)  : alpha=0.010, percentile=99.000, cutoff_value=  1118.130, n_passing=  2\n",
      "Number of regionally-significant motifs: 15\n",
      "\n",
      "\n",
      "saccharomyces_cerevisiae\tpolyaclassifier\tpolyaclassifier_bagging3_kmers-5\n",
      "Region=(-250, -120): alpha=0.010, percentile=99.000, cutoff_value=   534.727, n_passing= 13\n",
      "Region=(-120, -80) : alpha=0.010, percentile=99.000, cutoff_value=   891.275, n_passing= 21\n",
      "Region=(-80, -40)  : alpha=0.010, percentile=99.000, cutoff_value=  3751.273, n_passing= 16\n",
      "Region=(-40, 0)    : alpha=0.010, percentile=99.000, cutoff_value=  4110.263, n_passing= 19\n",
      "Region=(0, 40)     : alpha=0.010, percentile=99.000, cutoff_value=  1742.940, n_passing= 17\n",
      "Region=(40, 80)    : alpha=0.010, percentile=99.000, cutoff_value=   561.397, n_passing= 10\n",
      "Region=(80, 120)   : alpha=0.010, percentile=99.000, cutoff_value=   453.269, n_passing=  7\n",
      "Region=(120, 250)  : alpha=0.010, percentile=99.000, cutoff_value=   307.298, n_passing= 15\n",
      "Number of regionally-significant motifs: 51\n",
      "\n",
      "\n",
      "saccharomyces_cerevisiae\tpolyaclassifier\tpolyaclassifier_bagging3_kmers-6\n",
      "Region=(-250, -120): alpha=0.010, percentile=99.000, cutoff_value=   189.061, n_passing= 40\n",
      "Region=(-120, -80) : alpha=0.010, percentile=99.000, cutoff_value=   333.828, n_passing= 49\n",
      "Region=(-80, -40)  : alpha=0.010, percentile=99.000, cutoff_value=  1515.948, n_passing= 32\n",
      "Region=(-40, 0)    : alpha=0.010, percentile=99.000, cutoff_value=  1554.023, n_passing= 50\n",
      "Region=(0, 40)     : alpha=0.010, percentile=99.000, cutoff_value=   659.828, n_passing= 59\n",
      "Region=(40, 80)    : alpha=0.010, percentile=99.000, cutoff_value=   193.400, n_passing= 27\n",
      "Region=(80, 120)   : alpha=0.010, percentile=99.000, cutoff_value=   156.477, n_passing= 21\n",
      "Region=(120, 250)  : alpha=0.010, percentile=99.000, cutoff_value=   119.701, n_passing= 36\n",
      "Number of regionally-significant motifs: 137\n",
      "\n",
      "\n",
      "schizosaccharomyces_pombe\tpolyaclassifier\tpolyaclassifier_bagging3_kmers-4\n",
      "Region=(-250, -120): alpha=0.010, percentile=99.000, cutoff_value=   459.162, n_passing=  8\n",
      "Region=(-120, -80) : alpha=0.010, percentile=99.000, cutoff_value=   501.382, n_passing=  5\n",
      "Region=(-80, -40)  : alpha=0.010, percentile=99.000, cutoff_value=  1577.071, n_passing=  8\n",
      "Region=(-40, 0)    : alpha=0.010, percentile=99.000, cutoff_value=  5421.470, n_passing=  6\n",
      "Region=(0, 40)     : alpha=0.010, percentile=99.000, cutoff_value=  3142.819, n_passing=  9\n",
      "Region=(40, 80)    : alpha=0.010, percentile=99.000, cutoff_value=  1704.563, n_passing=  5\n",
      "Region=(80, 120)   : alpha=0.010, percentile=99.000, cutoff_value=   957.407, n_passing=  7\n",
      "Region=(120, 250)  : alpha=0.010, percentile=99.000, cutoff_value=   483.582, n_passing=  9\n",
      "Number of regionally-significant motifs: 24\n",
      "\n",
      "\n",
      "schizosaccharomyces_pombe\tpolyaclassifier\tpolyaclassifier_bagging3_kmers-5\n",
      "Region=(-250, -120): alpha=0.010, percentile=99.000, cutoff_value=   178.939, n_passing= 23\n",
      "Region=(-120, -80) : alpha=0.010, percentile=99.000, cutoff_value=   209.669, n_passing= 12\n",
      "Region=(-80, -40)  : alpha=0.010, percentile=99.000, cutoff_value=   695.437, n_passing= 26\n",
      "Region=(-40, 0)    : alpha=0.010, percentile=99.000, cutoff_value=  2668.511, n_passing= 17\n",
      "Region=(0, 40)     : alpha=0.010, percentile=99.000, cutoff_value=  1724.548, n_passing= 26\n",
      "Region=(40, 80)    : alpha=0.010, percentile=99.000, cutoff_value=   769.469, n_passing= 12\n",
      "Region=(80, 120)   : alpha=0.010, percentile=99.000, cutoff_value=   460.017, n_passing= 19\n",
      "Region=(120, 250)  : alpha=0.010, percentile=99.000, cutoff_value=   207.785, n_passing= 27\n",
      "Number of regionally-significant motifs: 72\n",
      "\n",
      "\n",
      "schizosaccharomyces_pombe\tpolyaclassifier\tpolyaclassifier_bagging3_kmers-6\n",
      "Region=(-250, -120): alpha=0.010, percentile=99.000, cutoff_value=    67.005, n_passing= 82\n",
      "Region=(-120, -80) : alpha=0.010, percentile=99.000, cutoff_value=    76.923, n_passing= 35\n",
      "Region=(-80, -40)  : alpha=0.010, percentile=99.000, cutoff_value=   289.771, n_passing= 81\n",
      "Region=(-40, 0)    : alpha=0.010, percentile=99.000, cutoff_value=  1405.223, n_passing= 46\n",
      "Region=(0, 40)     : alpha=0.010, percentile=99.000, cutoff_value=   669.969, n_passing= 68\n",
      "Region=(40, 80)    : alpha=0.010, percentile=99.000, cutoff_value=   329.143, n_passing= 35\n",
      "Region=(80, 120)   : alpha=0.010, percentile=99.000, cutoff_value=   193.926, n_passing= 52\n",
      "Region=(120, 250)  : alpha=0.010, percentile=99.000, cutoff_value=    90.491, n_passing= 90\n",
      "Number of regionally-significant motifs: 230\n"
     ]
    }
   ],
   "source": [
    "region_motifs = defaultdict(dict)\n",
    "\n",
    "for i,(s,mt,c) in motif_summaries[['species','modeltype','config']].drop_duplicates().iterrows():\n",
    "    print(\"\\n\\n\" + \"\\t\".join([s,mt,c]))\n",
    "    \n",
    "    if (s not in region_motifs):\n",
    "        region_motifs[s] = dict()\n",
    "    if (mt not in region_motifs[s]):\n",
    "        region_motifs[s][mt] = dict()\n",
    "    \n",
    "    region_motifs[s][mt][c] = motifs.filter_by_region(hmdfs_sum[s][mt][c].loc[background_motifs[s][mt][c]],\n",
    "                                                      OUTDIR, mt, s, c, \n",
    "                                                      regions = [(-250,-120),(-120,-80),(-80,-40),(-40,0),(0,40),(40,80),(80,120),(120,250)],\n",
    "                                                      sliding = 20, \n",
    "                                                      alpha = 0.01,\n",
    "                                                      overedges = True,\n",
    "                                                      verbose = False\n",
    "                                                     )\n",
    "    \n",
    "    regmots = sorted(set(itertools.chain.from_iterable([list(v.keys()) for k,v in region_motifs[s][mt][c].items()])))\n",
    "    print(\"Number of regionally-significant motifs:\", len(regmots))\n",
    "    \n",
    "with open(os.path.join(OUTDIR, \"polyaclassifier_motifs.region_motifs.pickle\"), mode = 'wb') as handle:\n",
    "    pickle.dump(region_motifs, handle)\n"
   ]
  },
  {
   "cell_type": "markdown",
   "metadata": {},
   "source": [
    "#### Organize significance filtering results - expect that all regionally-significant motifs are significant over background"
   ]
  },
  {
   "cell_type": "code",
   "execution_count": 15,
   "metadata": {},
   "outputs": [
    {
     "name": "stdout",
     "output_type": "stream",
     "text": [
      "arabidopsis_thaliana      polyaclassifier_bagging3_kmers-4:\tbgd= 166\treg=  22\tsig=  22\n",
      "arabidopsis_thaliana      polyaclassifier_bagging3_kmers-5:\tbgd= 580\treg=  72\tsig=  72\n",
      "arabidopsis_thaliana      polyaclassifier_bagging3_kmers-6:\tbgd=2114\treg= 255\tsig= 255\n",
      "saccharomyces_cerevisiae  polyaclassifier_bagging3_kmers-4:\tbgd= 148\treg=  15\tsig=  15\n",
      "saccharomyces_cerevisiae  polyaclassifier_bagging3_kmers-5:\tbgd= 561\treg=  51\tsig=  51\n",
      "saccharomyces_cerevisiae  polyaclassifier_bagging3_kmers-6:\tbgd=1672\treg= 137\tsig= 137\n",
      "schizosaccharomyces_pombe polyaclassifier_bagging3_kmers-4:\tbgd= 179\treg=  24\tsig=  24\n",
      "schizosaccharomyces_pombe polyaclassifier_bagging3_kmers-5:\tbgd= 566\treg=  72\tsig=  72\n",
      "schizosaccharomyces_pombe polyaclassifier_bagging3_kmers-6:\tbgd=1775\treg= 230\tsig= 230\n"
     ]
    }
   ],
   "source": [
    "significant_motifs = defaultdict(dict)\n",
    "\n",
    "for i,(s,mt,c) in motif_summaries[['species','modeltype','config']].drop_duplicates().iterrows():\n",
    "    \n",
    "    if (s not in significant_motifs):\n",
    "        significant_motifs[s] = dict()\n",
    "    if (mt not in significant_motifs[s]):\n",
    "        significant_motifs[s][mt] = dict()\n",
    "        \n",
    "    bgdmots = background_motifs[s][mt][c]\n",
    "    regmots = sorted(set(itertools.chain.from_iterable([list(v.keys()) for k,v in region_motifs[s][mt][c].items()])))\n",
    "    sigmots = sorted(set([r for r in regmots if (r in bgdmots)]))\n",
    "    print(f\"{s:25} {c}:\\tbgd={len(bgdmots):4d}\\treg={len(regmots):4d}\\tsig={len(sigmots):4d}\")\n",
    "    \n",
    "    significant_motifs[s][mt][c] = sigmots\n",
    "    \n",
    "with open(os.path.join(OUTDIR, \"polyaclassifier_motifs.significant_motifs.pickle\"), mode = 'wb') as handle:\n",
    "    pickle.dump(significant_motifs, handle)\n"
   ]
  },
  {
   "cell_type": "code",
   "execution_count": 16,
   "metadata": {},
   "outputs": [
    {
     "name": "stdout",
     "output_type": "stream",
     "text": [
      "arabidopsis_thaliana      polyaclassifier_bagging3_kmers-4:\n",
      "\tAAAA,AAAC,AAAT,AACA,ACAA,AGAA,ATTT,CAAA,CTTT,GAAA,GTTT,TATT,TCTT,TGTA,TGTT,TTAT,TTCT,TTGT,TTTA,TTTC,TTTG,TTTT\n",
      "arabidopsis_thaliana      polyaclassifier_bagging3_kmers-5:\n",
      "\tAAAAA,AAAAC,AAAAG,AAAAT,AAACA,AAAGA,AACAA,AAGAA,AATAA,AATTT,ACAAA,AGAAA,AGAAG,AGTTT,ATAAA,ATGAA,ATGTA,ATTTC,ATTTG,ATTTT,CAAAA,CATTT,CTTCT,CTTGT,CTTTG,CTTTT,GAAAA,GAAGA,GATTT,GGTTT,GTGTT,GTTAT,GTTGT,GTTTA,GTTTC,GTTTG,GTTTT,TATAT,TATTT,TCATT,TCTCT,TCTGT,TCTTC,TCTTT,TGAAA,TGGTT,TGTAA,TGTAT,TGTGT,TGTTA,TGTTG,TGTTT,TTATG,TTATT,TTCAT,TTCTC,TTCTT,TTGGT,TTGTA,TTGTG,TTGTT,TTTAT,TTTCA,TTTCT,TTTGA,TTTGC,TTTGG,TTTGT,TTTTA,TTTTC,TTTTG,TTTTT\n",
      "arabidopsis_thaliana      polyaclassifier_bagging3_kmers-6:\n",
      "\tAAAAAA,AAAAAC,AAAAAG,AAAAAT,AAAACA,AAAACT,AAAAGA,AAAATA,AAAATC,AAAATG,AAAATT,AAACAA,AAACAG,AAACAT,AAACCA,AAAGAA,AAAGAG,AAATAA,AAATCA,AAATGA,AAATGT,AAATTG,AACAAA,AACCAA,AAGAAA,AAGAAG,AAGAGA,AAGTTT,AATAAA,AATAAT,AATCAA,AATGAA,AATGTA,AATTTG,AATTTT,ACAAAA,ACAAAC,ACAAAG,ACAAAT,ACAACA,ACCAAA,ACTTTT,AGAAAA,AGAAAC,AGAAAG,AGAAGA,AGAGAA,AGAGAG,AGTTTT,ATAAAA,ATAAAT,ATAATA,ATATAT,ATATTT,ATCAAA,ATCTTT,ATGAAA,ATGTAA,ATGTAT,ATGTTT,ATTCTT,ATTGAA,ATTGTA,ATTGTT,ATTTAT,ATTTCT,ATTTGA,ATTTGG,ATTTGT,ATTTTA,ATTTTC,ATTTTG,ATTTTT,CAAAAA,CAAAAC,CAAAAG,CAAAAT,CAAACA,CAACAA,CAATTT,CACAAA,CATTTT,CCAAAA,CCTTTT,CTATTT,CTCTCT,CTCTGT,CTCTTC,CTCTTT,CTGTTT,CTTCTT,CTTGTA,CTTGTT,CTTTAT,CTTTCT,CTTTGT,CTTTTA,CTTTTC,CTTTTG,CTTTTT,GAAAAA,GAAAAT,GAAACA,GAAAGA,GAACAA,GAAGAA,GAATTT,GACAAA,GAGAAA,GAGAAG,GAGAGA,GATTTG,GATTTT,GCTTTT,GGTTAT,GGTTTT,GTATTT,GTCTTT,GTGTGT,GTGTTT,GTTATT,GTTCTT,GTTGTA,GTTGTT,GTTTAT,GTTTCA,GTTTCT,GTTTGG,GTTTGT,GTTTTA,GTTTTC,GTTTTG,GTTTTT,TAAAAA,TAATAA,TAATGT,TAATTT,TACAAA,TACTTT,TATAAT,TATATA,TATATT,TATCTT,TATGTA,TATGTT,TATTCT,TATTGT,TATTTC,TATTTG,TATTTT,TCAAAA,TCATTT,TCTCTC,TCTCTG,TCTCTT,TCTGTT,TCTTAT,TCTTCA,TCTTCT,TCTTGT,TCTTTA,TCTTTC,TCTTTG,TCTTTT,TGAAAA,TGAAAC,TGAAAT,TGAAGA,TGATTT,TGCTTT,TGGTTA,TGGTTT,TGTAAA,TGTAAC,TGTAAT,TGTATA,TGTATG,TGTATT,TGTCTT,TGTGTA,TGTGTG,TGTGTT,TGTTAT,TGTTCT,TGTTGT,TGTTTA,TGTTTC,TGTTTG,TGTTTT,TTAATA,TTAATT,TTACTT,TTATAT,TTATCT,TTATGT,TTATTA,TTATTC,TTATTG,TTATTT,TTCATT,TTCTAT,TTCTCA,TTCTCT,TTCTGT,TTCTTA,TTCTTC,TTCTTG,TTCTTT,TTGAAA,TTGATT,TTGCTT,TTGGGT,TTGGTT,TTGTAA,TTGTAT,TTGTCT,TTGTGT,TTGTTA,TTGTTC,TTGTTG,TTGTTT,TTTAAT,TTTACT,TTTATA,TTTATC,TTTATG,TTTATT,TTTCAA,TTTCAT,TTTCTA,TTTCTC,TTTCTG,TTTCTT,TTTGAT,TTTGCT,TTTGGA,TTTGGG,TTTGGT,TTTGTA,TTTGTC,TTTGTG,TTTGTT,TTTTAA,TTTTAC,TTTTAT,TTTTCA,TTTTCT,TTTTGA,TTTTGC,TTTTGG,TTTTGT,TTTTTA,TTTTTC,TTTTTG,TTTTTT\n",
      "saccharomyces_cerevisiae  polyaclassifier_bagging3_kmers-4:\n",
      "\tAAAA,AAGA,AGAA,ATAA,ATAT,ATTT,GAAA,GAAG,TATA,TATT,TGTA,TTAT,TTTA,TTTC,TTTT\n",
      "saccharomyces_cerevisiae  polyaclassifier_bagging3_kmers-5:\n",
      "\tAAAAA,AAAAG,AAAAT,AAAGA,AAATA,AAGAA,AATAA,AATAT,ACATA,AGAAA,AGAAG,ATAAA,ATAAT,ATACA,ATATA,ATATT,ATGTA,ATTTA,ATTTT,CATTT,CTTTT,GAAAA,GAAGA,GATGA,GTATA,TAAAT,TAATA,TACAT,TATAA,TATAC,TATAT,TATGT,TATTT,TCATT,TCTTT,TGAAA,TGAAG,TGTAT,TTATA,TTATT,TTCAT,TTCTT,TTGAA,TTTAA,TTTAT,TTTCA,TTTCT,TTTTA,TTTTC,TTTTG,TTTTT\n",
      "saccharomyces_cerevisiae  polyaclassifier_bagging3_kmers-6:\n",
      "\tAAAAAA,AAAAAG,AAAAAT,AAAAGA,AAAAGG,AAAATT,AAAGAA,AAAGGA,AAATAA,AAATAT,AAATTT,AAGAAA,AAGAAG,AAGAGA,AAGGAA,AATAAA,AATAAT,AATATA,AATTTT,ACATAT,ACTTTT,AGAAAA,AGAAAG,AGAAGA,AGAAGG,AGGAAA,ATAAAA,ATAAAT,ATAATA,ATACAT,ATATAA,ATATAC,ATATAG,ATATAT,ATATGT,ATATTT,ATGAAG,ATGTAA,ATGTAT,ATTATT,ATTTAT,ATTTCT,ATTTTA,ATTTTC,ATTTTT,CAAAAA,CAAGAA,CATATA,CATTTT,CCTTTT,CTATAT,CTTTTA,CTTTTC,CTTTTT,GAAAAA,GAAAAG,GAAAGA,GAAGAA,GAAGAG,GAAGAT,GATGAA,GGAAAA,GGAAGA,GGTGAA,GTATAT,GTATGT,GTTTTT,TAAAAA,TAAATA,TAATAA,TAATAT,TAATTT,TACATA,TACGTA,TACTTT,TAGATA,TATAAA,TATAAT,TATACA,TATAGA,TATATA,TATATG,TATATT,TATGTA,TATTAT,TATTTA,TATTTT,TCATTT,TCTATA,TCTTTC,TCTTTT,TGAAAA,TGAAGA,TGATGA,TGGAAA,TGGTGA,TGTATA,TGTTTT,TTAATT,TTACTT,TTATAT,TTATGT,TTATTA,TTATTT,TTCATT,TTCCTT,TTCTAT,TTCTTC,TTCTTT,TTGAAA,TTGAAG,TTGTAT,TTGTTT,TTTAAT,TTTACT,TTTATA,TTTATT,TTTCAA,TTTCAT,TTTCCT,TTTCTA,TTTCTT,TTTGAA,TTTGTA,TTTGTT,TTTTAA,TTTTAC,TTTTAT,TTTTCA,TTTTCC,TTTTCT,TTTTGA,TTTTGT,TTTTTA,TTTTTC,TTTTTG,TTTTTT\n",
      "schizosaccharomyces_pombe polyaclassifier_bagging3_kmers-4:\n",
      "\tAAAA,AAGA,AGTA,ATTT,CTTT,GAAG,GTAG,GTAT,GTTT,TAAA,TAAT,TAGT,TATT,TCTT,TGTA,TTAG,TTAT,TTCA,TTCT,TTGT,TTTA,TTTC,TTTG,TTTT\n",
      "schizosaccharomyces_pombe polyaclassifier_bagging3_kmers-5:\n",
      "\tAAAAA,AAAAG,AAATT,AAGAA,AAGTA,AATAT,AATGA,AATTT,AGAAG,AGTAA,AGTAG,AGTTT,ATATT,ATGAA,ATGTA,ATTTA,ATTTT,CATTT,CTTTA,CTTTT,GAAAA,GAAGA,GCTGC,GGTTT,GTAAA,GTAGT,GTATT,GTTTA,GTTTT,TAAAA,TAAAT,TAATA,TAATT,TAGAT,TAGTA,TAGTT,TATAG,TATAT,TATTA,TATTT,TCATT,TCTTT,TGAAG,TGATG,TGCTG,TGGTG,TGTAA,TGTAG,TGTAT,TGTTT,TTAAT,TTAGA,TTAGT,TTATA,TTATT,TTCTT,TTGCT,TTGTA,TTGTT,TTTAA,TTTAC,TTTAG,TTTAT,TTTCA,TTTCT,TTTGC,TTTGG,TTTGT,TTTTA,TTTTC,TTTTG,TTTTT\n",
      "schizosaccharomyces_pombe polyaclassifier_bagging3_kmers-6:\n",
      "\tAAAAAA,AAAAAG,AAAAAT,AAAAGA,AAAAGT,AAAATA,AAAATT,AAACAA,AAAGAA,AAAGTA,AAATAT,AAATGT,AAATTA,AAATTT,AACAAA,AAGAAA,AAGAAG,AAGGAA,AAGGAG,AAGTAA,AAGTAG,AATAAA,AATACA,AATATA,AATATT,AATGAA,AATGTA,AATTAA,AATTAT,AATTGT,AATTTA,AATTTT,ACTTTT,AGAAAA,AGAAGA,AGAAGG,AGGAAG,AGTAAA,AGTAGT,AGTTTA,AGTTTT,ATAAAT,ATAGTT,ATATAT,ATATTA,ATATTT,ATGAAA,ATGAAT,ATGTAA,ATGTAT,ATTAAA,ATTAAT,ATTAGT,ATTATT,ATTGTA,ATTTAA,ATTTAG,ATTTAT,ATTTGT,ATTTTA,ATTTTC,ATTTTG,ATTTTT,CAAAAA,CAAGAA,CATTTA,CATTTT,CCTTTT,CTCTTT,CTGAAG,CTGCTG,CTGGTG,CTTCTT,CTTTAT,CTTTCT,CTTTTA,CTTTTC,CTTTTG,CTTTTT,GAAAAA,GAAAAG,GAAGAA,GAAGCT,GAAGGA,GATGCT,GCTGCT,GCTTTG,GCTTTT,GGAAAA,GGAAGA,GGTTTT,GTAAAA,GTAAAG,GTAAAT,GTAATT,GTAGTA,GTAGTT,GTATAT,GTATTT,GTTAAT,GTTTAA,GTTTAG,GTTTAT,GTTTCT,GTTTTA,GTTTTG,GTTTTT,TAAAAA,TAAAAT,TAAATA,TAAATT,TAAGTA,TAATAT,TAATGA,TAATTA,TAATTT,TACTTT,TAGATA,TAGATT,TAGGTT,TAGTAA,TAGTAG,TAGTAT,TAGTTA,TAGTTT,TATAAA,TATAGA,TATAGT,TATATA,TATATT,TATGTA,TATTAA,TATTAG,TATTAT,TATTGT,TATTTA,TATTTG,TATTTT,TCATTT,TCCTTT,TCTTCT,TCTTTA,TCTTTG,TCTTTT,TGAAGA,TGAAGG,TGATGA,TGCTGA,TGCTGC,TGCTTT,TGGAAA,TGGTGC,TGGTTT,TGTAAA,TGTAAG,TGTAAT,TGTAGA,TGTAGT,TGTATA,TGTATT,TGTTGA,TGTTTA,TGTTTC,TGTTTT,TTAAAA,TTAAAT,TTAATA,TTAATG,TTAATT,TTACTT,TTAGAT,TTAGGT,TTAGTA,TTAGTT,TTATAG,TTATAT,TTATTA,TTATTT,TTCATT,TTCCTT,TTCTTA,TTCTTC,TTCTTT,TTGAAA,TTGAAG,TTGATG,TTGCTT,TTGGAA,TTGGTG,TTGGTT,TTGTAA,TTGTAG,TTGTAT,TTGTTA,TTGTTG,TTGTTT,TTTAAA,TTTAAT,TTTACA,TTTACT,TTTAGA,TTTAGT,TTTATA,TTTATC,TTTATT,TTTCAA,TTTCAT,TTTCTC,TTTCTT,TTTGAA,TTTGAT,TTTGCT,TTTGGA,TTTGGT,TTTGTA,TTTGTT,TTTTAA,TTTTAC,TTTTAG,TTTTAT,TTTTCA,TTTTCT,TTTTGA,TTTTGC,TTTTGG,TTTTGT,TTTTTA,TTTTTC,TTTTTG,TTTTTT\n"
     ]
    }
   ],
   "source": [
    "for i,(s,mt,c) in motif_summaries[['species','modeltype','config']].drop_duplicates().iterrows():\n",
    "    print(f\"{s:25} {c}:\\n\\t{','.join(significant_motifs[s][mt][c])}\")\n"
   ]
  }
 ],
 "metadata": {
  "kernelspec": {
   "display_name": "Python (tf-train)",
   "language": "python",
   "name": "tf-train"
  },
  "language_info": {
   "codemirror_mode": {
    "name": "ipython",
    "version": 3
   },
   "file_extension": ".py",
   "mimetype": "text/x-python",
   "name": "python",
   "nbconvert_exporter": "python",
   "pygments_lexer": "ipython3",
   "version": "3.6.12"
  }
 },
 "nbformat": 4,
 "nbformat_minor": 2
}
