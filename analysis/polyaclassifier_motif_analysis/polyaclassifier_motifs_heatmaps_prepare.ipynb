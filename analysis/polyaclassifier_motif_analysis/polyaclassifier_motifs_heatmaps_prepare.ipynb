{
 "cells": [
  {
   "cell_type": "markdown",
   "metadata": {},
   "source": [
    "# Analysis of PolyaClassifier site definition via unbiased heatmaps\n",
    "\n",
    "**Purpose**: To prepare matrices containing motif importance scores surrounding cleavage sites, which will be visualized in a clustered heatmap using R to identify motif families.\n"
   ]
  },
  {
   "cell_type": "code",
   "execution_count": 1,
   "metadata": {},
   "outputs": [],
   "source": [
    "%load_ext autoreload"
   ]
  },
  {
   "cell_type": "code",
   "execution_count": 2,
   "metadata": {},
   "outputs": [],
   "source": [
    "%autoreload 2"
   ]
  },
  {
   "cell_type": "code",
   "execution_count": 3,
   "metadata": {},
   "outputs": [],
   "source": [
    "%run -i notebook_setup.py"
   ]
  },
  {
   "cell_type": "markdown",
   "metadata": {},
   "source": [
    "## IMPORTS AND SETUP"
   ]
  },
  {
   "cell_type": "code",
   "execution_count": 4,
   "metadata": {},
   "outputs": [],
   "source": [
    "from paper_utilities import motifs"
   ]
  },
  {
   "cell_type": "code",
   "execution_count": 5,
   "metadata": {},
   "outputs": [],
   "source": [
    "PROJECT   = \"/projects/b1080/eks/polyadenylation/yeast\"\n",
    "OUTDIR    = os.path.join(PROJECT, 'manuscript', 'analysis', 'polyaclassifier_motif_importance_heatmaps')\n",
    "RESOURCES = os.path.join(os.path.dirname(OUTDIR), 'resources')\n",
    "os.makedirs(OUTDIR, exist_ok = True)\n"
   ]
  },
  {
   "cell_type": "code",
   "execution_count": 6,
   "metadata": {},
   "outputs": [],
   "source": [
    "## Load model configuration information\n",
    "\n",
    "with open(os.path.join(RESOURCES, 'polyaclassifier_configurations.pickle'), mode = 'rb') as handle:\n",
    "    configurations = pickle.load(handle)\n"
   ]
  },
  {
   "cell_type": "code",
   "execution_count": 7,
   "metadata": {},
   "outputs": [],
   "source": [
    "## Load processed motif importance data\n",
    "\n",
    "with open(os.path.join(RESOURCES, \"polyaclassifier_motifs.hmdfs.sum.pickle\"), mode = 'rb') as handle:\n",
    "    hmdfs_sum = pickle.load(handle)\n",
    "    \n",
    "with open(os.path.join(RESOURCES, \"polyaclassifier_motifs.hmdfs.per_site.pickle\"), mode = 'rb') as handle:\n",
    "    hmdfs_per = pickle.load(handle)\n",
    "    \n",
    "## Load important motifs\n",
    "\n",
    "with open(os.path.join(RESOURCES, \"polyaclassifier_motifs.significant_motifs.pickle\"), mode = 'rb') as handle:\n",
    "    significant_motifs = pickle.load(handle)\n"
   ]
  },
  {
   "cell_type": "markdown",
   "metadata": {},
   "source": [
    "## Prepare data for motif importance heatmaps\n",
    "\n",
    "These are plotted in R using `pheatmap`.\n"
   ]
  },
  {
   "cell_type": "code",
   "execution_count": 8,
   "metadata": {},
   "outputs": [
    {
     "name": "stdout",
     "output_type": "stream",
     "text": [
      "arabidopsis_thaliana      polyaclassifier_bagging3_kmers-4 sig=  22\n",
      "arabidopsis_thaliana      polyaclassifier_bagging3_kmers-5 sig=  72\n",
      "arabidopsis_thaliana      polyaclassifier_bagging3_kmers-6 sig= 255\n",
      "saccharomyces_cerevisiae  polyaclassifier_bagging3_kmers-4 sig=  15\n",
      "saccharomyces_cerevisiae  polyaclassifier_bagging3_kmers-5 sig=  51\n",
      "saccharomyces_cerevisiae  polyaclassifier_bagging3_kmers-6 sig= 137\n",
      "schizosaccharomyces_pombe polyaclassifier_bagging3_kmers-4 sig=  24\n",
      "schizosaccharomyces_pombe polyaclassifier_bagging3_kmers-5 sig=  72\n",
      "schizosaccharomyces_pombe polyaclassifier_bagging3_kmers-6 sig= 230\n"
     ]
    }
   ],
   "source": [
    "for s in hmdfs_per.keys():\n",
    "    for mt in hmdfs_per[s].keys():\n",
    "        for c in hmdfs_per[s][mt].keys():\n",
    "            \n",
    "            if (s == 'saccharomyces_cerevisiae'):\n",
    "                region = (-150,100)\n",
    "            elif (s == 'schizosaccharomyces_pombe'):\n",
    "                region = (-100,100)\n",
    "            elif (s == 'arabidopsis_thaliana'):\n",
    "                region = (-250,100)\n",
    "            \n",
    "            sigmots = significant_motifs[s][mt][c]\n",
    "            print(f\"{s:25} {c} sig={len(sigmots):4d}\")\n",
    "\n",
    "            hmdf_per_plot = hmdfs_per[s][mt][c][list(range(region[0],region[1]+1,1))]\n",
    "            hmdf_per_plot.loc[sigmots].to_csv(os.path.join(OUTDIR, f\"hmdf_per.{s}.{c}.txt\"), sep = \"\\t\", index = True, header = True)\n",
    "\n",
    "            hmdf_sum_plot = hmdfs_sum[s][mt][c][list(range(region[0],region[1]+1,1))]\n",
    "            hmdf_sum_plot.loc[sigmots].to_csv(os.path.join(OUTDIR, f\"hmdf_sum.{s}.{c}.txt\"), sep = \"\\t\", index = True, header = True)\n"
   ]
  }
 ],
 "metadata": {
  "kernelspec": {
   "display_name": "Python (tf-train)",
   "language": "python",
   "name": "tf-train"
  },
  "language_info": {
   "codemirror_mode": {
    "name": "ipython",
    "version": 3
   },
   "file_extension": ".py",
   "mimetype": "text/x-python",
   "name": "python",
   "nbconvert_exporter": "python",
   "pygments_lexer": "ipython3",
   "version": "3.6.12"
  }
 },
 "nbformat": 4,
 "nbformat_minor": 2
}
