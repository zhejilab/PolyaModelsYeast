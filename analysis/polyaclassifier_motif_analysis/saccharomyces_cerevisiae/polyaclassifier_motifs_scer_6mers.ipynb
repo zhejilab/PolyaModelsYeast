{
 "cells": [
  {
   "cell_type": "markdown",
   "metadata": {},
   "source": [
    "# Analysis of PolyaClassifier site definition for *S. cerevisiae*\n",
    "\n",
    "**Purpose**: To identify 6mer motifs important to cleavage site definition in *S. cerevisiae* through a systematic mutation approach.\n"
   ]
  },
  {
   "cell_type": "code",
   "execution_count": 1,
   "metadata": {},
   "outputs": [],
   "source": [
    "%load_ext autoreload"
   ]
  },
  {
   "cell_type": "code",
   "execution_count": 2,
   "metadata": {},
   "outputs": [],
   "source": [
    "%autoreload 2"
   ]
  },
  {
   "cell_type": "code",
   "execution_count": 3,
   "metadata": {},
   "outputs": [],
   "source": [
    "%run -i notebook_setup.py"
   ]
  },
  {
   "cell_type": "markdown",
   "metadata": {},
   "source": [
    "## IMPORTS AND SETUP"
   ]
  },
  {
   "cell_type": "code",
   "execution_count": 4,
   "metadata": {},
   "outputs": [],
   "source": [
    "from paper_utilities import motifs"
   ]
  },
  {
   "cell_type": "code",
   "execution_count": 5,
   "metadata": {},
   "outputs": [],
   "source": [
    "species   = 'saccharomyces_cerevisiae'\n",
    "modeltype = 'polyaclassifier'\n",
    "config    = 'polyaclassifier_bagging3_kmers-6'\n",
    "kmer      = 6\n"
   ]
  },
  {
   "cell_type": "code",
   "execution_count": 6,
   "metadata": {},
   "outputs": [],
   "source": [
    "PROJECT   = \"/projects/b1080/eks/polyadenylation/yeast\"\n",
    "OUTDIR    = os.path.join(PROJECT, 'manuscript', 'analysis', 'polyaclassifier_motif_importance_scer_6mers')\n",
    "RESOURCES = os.path.join(os.path.dirname(OUTDIR), 'resources')\n",
    "os.makedirs(OUTDIR, exist_ok = True)\n"
   ]
  },
  {
   "cell_type": "code",
   "execution_count": 7,
   "metadata": {},
   "outputs": [
    {
     "name": "stdout",
     "output_type": "stream",
     "text": [
      "\n",
      "Number of golden sites: 11673\n",
      "\n",
      "Directory containing motif disruption results: /projects/b1080/eks/polyadenylation/yeast/saccharomyces_cerevisiae/analysis/motif_analysis/motif_disruption/polyaclassifier_bagging3_kmers-6\n"
     ]
    }
   ],
   "source": [
    "## Load model configuration information\n",
    "\n",
    "with open(os.path.join(RESOURCES, 'polyaclassifier_configurations.pickle'), mode = 'rb') as handle:\n",
    "    configurations = pickle.load(handle)\n",
    "\n",
    "gold_sites = configurations[species][config]['golden_lines']\n",
    "print(\"\\nNumber of golden sites:\", gold_sites)\n",
    "\n",
    "mot_dis_dir = os.path.join(PROJECT, species, 'analysis', 'motif_analysis', 'motif_disruption', config)\n",
    "print(\"\\nDirectory containing motif disruption results:\", mot_dis_dir)\n"
   ]
  },
  {
   "cell_type": "code",
   "execution_count": 8,
   "metadata": {},
   "outputs": [],
   "source": [
    "## Load motif family definitions for S. cerevisiae\n",
    "\n",
    "scer_definitions = {'patterns' : {}, 'distance' : {}}\n",
    "\n",
    "# By pattern - we only look at pattern families for 6mers\n",
    "with open(os.path.join(RESOURCES, f'motif_definitions.scer.6mers.patterns.pickle'), mode = 'rb') as handle:\n",
    "    scer_definitions['patterns'][6] = pickle.load(handle)\n",
    "    \n",
    "scer_definitions['patterns'][5] = {'family':{}}\n",
    "scer_definitions['patterns'][4] = {'family':{}}\n",
    "\n",
    "# By Hamming distance\n",
    "for kmer in [4,5,6]:\n",
    "    with open(os.path.join(RESOURCES, f'motif_definitions.scer.{kmer}mers.distance.pickle'), mode = 'rb') as handle:\n",
    "        scer_definitions['distance'][kmer] = pickle.load(handle)\n"
   ]
  },
  {
   "cell_type": "code",
   "execution_count": 9,
   "metadata": {},
   "outputs": [
    {
     "name": "stdout",
     "output_type": "stream",
     "text": [
      "(4096, 28)\n"
     ]
    }
   ],
   "source": [
    "## Load processed motif importance data\n",
    "\n",
    "with open(os.path.join(RESOURCES, 'polyaclassifier_motifs.summaries.pickle'), mode = 'rb') as handle:\n",
    "    motif_summaries = pickle.load(handle)\n",
    "    \n",
    "cond1 = (motif_summaries['species'] == species)\n",
    "cond2 = (motif_summaries['modeltype'] == modeltype)\n",
    "cond3 = (motif_summaries['kmer'] == kmer)\n",
    "    \n",
    "motif_summaries = motif_summaries.loc[cond1 & cond2 & cond3].copy()\n",
    "print(motif_summaries.shape)\n"
   ]
  },
  {
   "cell_type": "code",
   "execution_count": 10,
   "metadata": {},
   "outputs": [],
   "source": [
    "with open(os.path.join(RESOURCES, 'polyaclassifier_motifs.family_profiles.pickle'), mode = 'rb') as handle:\n",
    "    mfam_importance = pickle.load(handle)\n",
    "    "
   ]
  },
  {
   "cell_type": "code",
   "execution_count": 11,
   "metadata": {},
   "outputs": [],
   "source": [
    "with open(os.path.join(RESOURCES, 'polyaclassifier_motifs.significant_motifs.pickle'), mode = 'rb') as handle:\n",
    "    significant_motifs = pickle.load(handle)\n",
    "    \n",
    "sigmots = significant_motifs[species][modeltype][config]\n",
    "    \n",
    "with open(os.path.join(OUTDIR, 'region_significant_motif_list.cerevisiae.6mers.pickle'), mode = 'wb') as handle:\n",
    "    pickle.dump(sigmots, handle)\n"
   ]
  },
  {
   "cell_type": "markdown",
   "metadata": {
    "scrolled": false
   },
   "source": [
    "# ANALYSIS"
   ]
  },
  {
   "cell_type": "code",
   "execution_count": 12,
   "metadata": {},
   "outputs": [],
   "source": [
    "family_cmap = {\n",
    "    'A-rich'        : '#2278B5',\n",
    "    'A-rich_d0'     : '#2278B5',\n",
    "    'A-rich_d1'     : '#6AB1E3',\n",
    "    'A-rich_d2'     : '#9CCBEC',\n",
    "    'T-rich'        : '#2FA148',\n",
    "    'T-rich_d0'     : '#2FA148',\n",
    "    'T-rich_d1'     : '#73D689',\n",
    "    'T-rich_d2'     : '#A1E4B0',\n",
    "    'TA/TA-rich'    : '#D62A28',\n",
    "    'TA/TA-rich_d0' : '#D62A28',\n",
    "    'TA/TA-rich_d1' : '#E77F7E',\n",
    "    'TA/TA-rich_d2' : '#EFAAA9',\n",
    "    'G/A-rich'      : '#956CB4',\n",
    "    'G/A-rich_d0'   : '#956CB4',\n",
    "    'Other'         : '#F7F8F8',\n",
    "    'Pattern'       : '#000000',\n",
    "}\n"
   ]
  },
  {
   "cell_type": "markdown",
   "metadata": {},
   "source": [
    "## Motif family profiles"
   ]
  },
  {
   "cell_type": "markdown",
   "metadata": {},
   "source": [
    "#### Examples of individual motifs"
   ]
  },
  {
   "cell_type": "code",
   "execution_count": 13,
   "metadata": {},
   "outputs": [],
   "source": [
    "example_motifs = {\n",
    "    'TATATA' : {\n",
    "        'frequency' : {'ylim' : (0,200), 'ytick' : 50},\n",
    "        'persite'   : {'ylim' : (-1,5),  'ytick' : 2}\n",
    "    },\n",
    "    'TATGTA' : {\n",
    "        'frequency' : {'ylim' : (0,75),  'ytick' : 25},\n",
    "        'persite'   : {'ylim' : (-1,5),  'ytick' : 2}\n",
    "    },\n",
    "    'CTATAT' : {\n",
    "        'frequency' : {'ylim' : (0,30),  'ytick' : 15},\n",
    "        'persite'   : {'ylim' : (-1,5),  'ytick' : 2}\n",
    "    },\n",
    "    'AAATTT' : {\n",
    "        'frequency' : {'ylim' : (0,40),  'ytick' : 20},\n",
    "        'persite'   : {'ylim' : (-1,5),  'ytick' : 2}\n",
    "    },\n",
    "}\n"
   ]
  },
  {
   "cell_type": "code",
   "execution_count": 14,
   "metadata": {},
   "outputs": [
    {
     "data": {
      "image/png": "[encoded data removed]",
      "text/plain": [
       "<Figure size 54x36 with 1 Axes>"
      ]
     },
     "metadata": {
      "needs_background": "light"
     },
     "output_type": "display_data"
    },
    {
     "name": "stdout",
     "output_type": "stream",
     "text": [
      "Max 4.150 @ -33\n"
     ]
    },
    {
     "data": {
      "image/png": "[encoded data removed]",
      "text/plain": [
       "<Figure size 54x36 with 1 Axes>"
      ]
     },
     "metadata": {
      "needs_background": "light"
     },
     "output_type": "display_data"
    },
    {
     "name": "stdout",
     "output_type": "stream",
     "text": [
      "Max 4.077 @ -45\n"
     ]
    },
    {
     "data": {
      "image/png": "[encoded data removed]",
      "text/plain": [
       "<Figure size 54x36 with 1 Axes>"
      ]
     },
     "metadata": {
      "needs_background": "light"
     },
     "output_type": "display_data"
    },
    {
     "name": "stdout",
     "output_type": "stream",
     "text": [
      "Max 3.800 @ -35\n"
     ]
    },
    {
     "data": {
      "image/png": "[encoded data removed]",
      "text/plain": [
       "<Figure size 54x36 with 1 Axes>"
      ]
     },
     "metadata": {
      "needs_background": "light"
     },
     "output_type": "display_data"
    },
    {
     "name": "stdout",
     "output_type": "stream",
     "text": [
      "Max 2.731 @ -19\n"
     ]
    }
   ],
   "source": [
    "## Plot per-site importance profiles\n",
    "\n",
    "for m,mdict in example_motifs.items():\n",
    "    \n",
    "    mdt = motif_summaries.loc[(motif_summaries['species'] == species) & (motif_summaries['modeltype'] == modeltype) & (motif_summaries['testMotif'] == m)].iloc[0]\n",
    "    \n",
    "    motifs.motif_profile(OUTDIR, m, scer_definitions['patterns'][6]['family'][m], 'means', mdt['xs'], mdt['means'], \n",
    "                         smoothing = 10, region = (-250,150), region_tick = 50, \n",
    "                         ylim = mdict['persite']['ylim'], ytick = mdict['persite']['ytick'],\n",
    "                         figsize = (0.75,0.5), verbose = True)\n",
    "    "
   ]
  },
  {
   "cell_type": "code",
   "execution_count": 15,
   "metadata": {
    "scrolled": false
   },
   "outputs": [
    {
     "data": {
      "image/png": "[encoded data removed]",
      "text/plain": [
       "<Figure size 54x36 with 1 Axes>"
      ]
     },
     "metadata": {
      "needs_background": "light"
     },
     "output_type": "display_data"
    },
    {
     "name": "stdout",
     "output_type": "stream",
     "text": [
      "Max 161.500 @ -41\n"
     ]
    },
    {
     "data": {
      "image/png": "[encoded data removed]",
      "text/plain": [
       "<Figure size 54x36 with 1 Axes>"
      ]
     },
     "metadata": {
      "needs_background": "light"
     },
     "output_type": "display_data"
    },
    {
     "name": "stdout",
     "output_type": "stream",
     "text": [
      "Max 60.600 @ -42\n"
     ]
    },
    {
     "data": {
      "image/png": "[encoded data removed]",
      "text/plain": [
       "<Figure size 54x36 with 1 Axes>"
      ]
     },
     "metadata": {
      "needs_background": "light"
     },
     "output_type": "display_data"
    },
    {
     "name": "stdout",
     "output_type": "stream",
     "text": [
      "Max 26.700 @ -40\n"
     ]
    },
    {
     "data": {
      "image/png": "[encoded data removed]",
      "text/plain": [
       "<Figure size 54x36 with 1 Axes>"
      ]
     },
     "metadata": {
      "needs_background": "light"
     },
     "output_type": "display_data"
    },
    {
     "name": "stdout",
     "output_type": "stream",
     "text": [
      "Max 33.000 @ -16\n"
     ]
    }
   ],
   "source": [
    "## Plot frequency profiles\n",
    "\n",
    "for m,mdict in example_motifs.items():\n",
    "    \n",
    "    mdt = motif_summaries.loc[(motif_summaries['species'] == species) & (motif_summaries['modeltype'] == modeltype) & (motif_summaries['testMotif'] == m)].iloc[0]\n",
    "    \n",
    "    motifs.motif_profile(OUTDIR, m, scer_definitions['patterns'][6]['family'][m], 'frequency', mdt['xs'], mdt['freqs'], \n",
    "                         smoothing = 10, region = (-250,150), region_tick = 50, \n",
    "                         ylim = mdict['frequency']['ylim'], ytick = mdict['frequency']['ytick'],\n",
    "                         figsize = (0.75,0.5), verbose = True)\n"
   ]
  },
  {
   "cell_type": "markdown",
   "metadata": {},
   "source": [
    "#### Examples of U- and A- containing motifs that show variable peaks in importance across the upstream region"
   ]
  },
  {
   "cell_type": "code",
   "execution_count": 16,
   "metadata": {},
   "outputs": [],
   "source": [
    "example_motifs = ['TATATA','ATATAT','ATATAA','ATAATA','AATAAA','TAAAAA','AAAAAA']\n",
    "example_colors = sns.color_palette('rainbow', len(example_motifs))\n"
   ]
  },
  {
   "cell_type": "code",
   "execution_count": 17,
   "metadata": {},
   "outputs": [
    {
     "name": "stdout",
     "output_type": "stream",
     "text": [
      "TATATA: Peak frequency 161.5 @ -41; Weighted mean frequency @ -63.52\n",
      "ATATAT: Peak frequency 133.5 @ -50; Weighted mean frequency @ -64.21\n",
      "ATATAA: Peak frequency  58.4 @ -38; Weighted mean frequency @ -58.96\n",
      "ATAATA: Peak frequency  51.6 @ -23; Weighted mean frequency @ -59.69\n",
      "AATAAA: Peak frequency  52.7 @ -21; Weighted mean frequency @ -65.32\n",
      "TAAAAA: Peak frequency  41.5 @ -22; Weighted mean frequency @ -72.01\n",
      "AAAAAA: Peak frequency  62.7 @ -117; Weighted mean frequency @ -84.28\n"
     ]
    },
    {
     "data": {
      "image/png": "[encoded data removed]",
      "text/plain": [
       "<Figure size 90x72 with 1 Axes>"
      ]
     },
     "metadata": {
      "needs_background": "light"
     },
     "output_type": "display_data"
    }
   ],
   "source": [
    "fig,ax = plt.subplots(1,1, figsize = (1.25,1))\n",
    "\n",
    "smoothing = 10\n",
    "region = (-140,-10)\n",
    "\n",
    "for i,m in enumerate(example_motifs):\n",
    "    \n",
    "    mdt   = motif_summaries.loc[(motif_summaries['species'] == species) & (motif_summaries['modeltype'] == modeltype) & (motif_summaries['testMotif'] == m)].iloc[0]\n",
    "    xs    = np.arange(region[0]-(smoothing/2), region[1]+(smoothing/2)+1)\n",
    "    mdict = dict(zip(mdt['xs'],mdt['freqs']))\n",
    "    freqs = np.asarray([mdict.get(x,0) for x in xs])\n",
    "    freqs_smooth = pd.Series(freqs).rolling(window = smoothing, center = True).mean().to_numpy().flatten()\n",
    "    \n",
    "    xs_cut    = xs[int(smoothing/2):int(region[1]-region[0]+(smoothing/2))]\n",
    "    freqs_cut = freqs_smooth[int(smoothing/2):int(region[1]-region[0]+(smoothing/2))]\n",
    "    print(f\"{m}: Peak frequency {np.nanmax(freqs_cut):5.01f} @ {xs_cut[np.nanargmax(freqs_cut)]:.0f}; Weighted mean frequency @ {np.average(xs_cut, weights = freqs_cut):.02f}\")\n",
    "\n",
    "    sns.lineplot(x = xs, y = freqs_smooth, color = example_colors[i], label = m, lw = 1, ax = ax)\n",
    "\n",
    "ax.set_xlim(region)\n",
    "ax.xaxis.set_major_locator(MultipleLocator(20))\n",
    "ax.set_xlabel(\"Position relative to max cleavage site (nt)\")\n",
    "\n",
    "ax.set_ylabel(\"Frequency\")\n",
    "ax.set_ylim(-10,200)\n",
    "ax.yaxis.set_major_locator(MultipleLocator(50))\n",
    "\n",
    "ax.spines['right'].set_visible(False)\n",
    "ax.spines['top'].set_visible(False)\n",
    "\n",
    "ax.legend(bbox_to_anchor = (1.05,1))\n",
    "\n",
    "plt.savefig(os.path.join(OUTDIR, 'individual_examples.ta_to_a_rich.frequency.svg'), format = 'svg', dpi = 600, transparent = True)\n",
    "plt.show()\n",
    "    "
   ]
  },
  {
   "cell_type": "code",
   "execution_count": 18,
   "metadata": {
    "scrolled": false
   },
   "outputs": [
    {
     "name": "stdout",
     "output_type": "stream",
     "text": [
      "TATATA: Peak per-site 4.150 @ -33; Weighted mean per-site @ -64.93\n",
      "ATATAT: Peak per-site 3.555 @ -35; Weighted mean per-site @ -64.55\n",
      "ATATAA: Peak per-site 4.168 @ -37; Weighted mean per-site @ -50.84\n",
      "ATAATA: Peak per-site 3.372 @ -24; Weighted mean per-site @ -39.05\n",
      "AATAAA: Peak per-site 2.954 @ -21; Weighted mean per-site @ -39.48\n",
      "TAAAAA: Peak per-site 2.821 @ -20; Weighted mean per-site @ -34.85\n",
      "AAAAAA: Peak per-site 2.073 @ -21; Weighted mean per-site @ -53.30\n"
     ]
    },
    {
     "data": {
      "image/png": "[encoded data removed]",
      "text/plain": [
       "<Figure size 90x72 with 1 Axes>"
      ]
     },
     "metadata": {
      "needs_background": "light"
     },
     "output_type": "display_data"
    }
   ],
   "source": [
    "fig,ax = plt.subplots(1,1, figsize = (1.25,1))\n",
    "\n",
    "smoothing = 10\n",
    "region = (-140,-10)\n",
    "\n",
    "for i,m in enumerate(example_motifs):\n",
    "    \n",
    "    mdt   = motif_summaries.loc[(motif_summaries['species'] == species) & (motif_summaries['modeltype'] == modeltype) & (motif_summaries['testMotif'] == m)].iloc[0]\n",
    "    xs    = np.arange(region[0]-(smoothing/2), region[1]+(smoothing/2))\n",
    "    mdict = dict(zip(mdt['xs'],mdt['means']))\n",
    "    means = np.asarray([mdict.get(x,0) for x in xs])\n",
    "    means_smooth = pd.Series(means).rolling(window = smoothing, center = True).mean().to_numpy().flatten()\n",
    "    \n",
    "    xs_cut    = xs[int(smoothing/2):int(region[1]-region[0]+(smoothing/2))]\n",
    "    means_cut = means_smooth[int(smoothing/2):int(region[1]-region[0]+(smoothing/2))]\n",
    "    print(f\"{m}: Peak per-site {np.nanmax(means_cut):5.03f} @ {xs_cut[np.nanargmax(means_cut)]:.0f}; Weighted mean per-site @ {np.average(xs_cut, weights = means_cut):.02f}\")\n",
    "\n",
    "    sns.lineplot(x = xs, y = means_smooth, color = example_colors[i], label = m, lw = 1, ax = ax)\n",
    "\n",
    "ax.set_xlim(region)\n",
    "ax.xaxis.set_major_locator(MultipleLocator(20))\n",
    "ax.set_xlabel(\"Position relative to max cleavage site (nt)\")\n",
    "\n",
    "ax.set_ylabel(\"Per-site importance\")\n",
    "ax.set_ylim(-1,5)\n",
    "ax.yaxis.set_major_locator(MultipleLocator(1))\n",
    "\n",
    "ax.spines['right'].set_visible(False)\n",
    "ax.spines['top'].set_visible(False)\n",
    "\n",
    "ax.legend(bbox_to_anchor = (1.05,1))\n",
    "\n",
    "plt.savefig(os.path.join(OUTDIR, 'individual_examples.ta_to_a_rich.persite.svg'), format = 'svg', dpi = 600, transparent = True)\n",
    "plt.show()\n",
    "    "
   ]
  },
  {
   "cell_type": "markdown",
   "metadata": {},
   "source": [
    "## Overall motif family importance profiles"
   ]
  },
  {
   "cell_type": "markdown",
   "metadata": {},
   "source": [
    "#### Individual motif families"
   ]
  },
  {
   "cell_type": "code",
   "execution_count": 19,
   "metadata": {
    "scrolled": false
   },
   "outputs": [
    {
     "name": "stdout",
     "output_type": "stream",
     "text": [
      "contains_TA : Peak frequency 42.455 @ -40\n"
     ]
    },
    {
     "data": {
      "image/png": "[encoded data removed]",
      "text/plain": [
       "<Figure size 54x36 with 1 Axes>"
      ]
     },
     "metadata": {
      "needs_background": "light"
     },
     "output_type": "display_data"
    },
    {
     "name": "stdout",
     "output_type": "stream",
     "text": [
      "contains_TG : Peak frequency 33.718 @ -42\n"
     ]
    },
    {
     "data": {
      "image/png": "[encoded data removed]",
      "text/plain": [
       "<Figure size 54x36 with 1 Axes>"
      ]
     },
     "metadata": {
      "needs_background": "light"
     },
     "output_type": "display_data"
    },
    {
     "name": "stdout",
     "output_type": "stream",
     "text": [
      "contains_TC : Peak frequency 22.233 @ -41\n"
     ]
    },
    {
     "data": {
      "image/png": "[encoded data removed]",
      "text/plain": [
       "<Figure size 54x36 with 1 Axes>"
      ]
     },
     "metadata": {
      "needs_background": "light"
     },
     "output_type": "display_data"
    },
    {
     "name": "stdout",
     "output_type": "stream",
     "text": [
      "contains_TT : Peak frequency 35.590 @ -41\n"
     ]
    },
    {
     "data": {
      "image/png": "[encoded data removed]",
      "text/plain": [
       "<Figure size 54x36 with 1 Axes>"
      ]
     },
     "metadata": {
      "needs_background": "light"
     },
     "output_type": "display_data"
    }
   ],
   "source": [
    "region = (-250,150)\n",
    "smoothing = 10\n",
    "\n",
    "ylim_hamming = (0,250)\n",
    "ylim_family  = (0,50)\n",
    "ylim_cluster = (0,50)\n",
    "\n",
    "for motfam,motdict in mfam_importance[species][modeltype][config].items():\n",
    "    if ('contains' in motfam):\n",
    "        try:\n",
    "\n",
    "            if (motfam.startswith('hamming_')):\n",
    "                motcolor = family_cmap[motfam.replace(\"hamming_\", \"\")]\n",
    "            else:\n",
    "                motcolor = 'black'\n",
    "\n",
    "            fig,ax = plt.subplots(1,1, figsize = (0.75,0.5))\n",
    "\n",
    "            xs           = motdict['data']['xs']\n",
    "            means        = motdict['data']['freqs'] / len(motdict['motifs'])\n",
    "            means_smooth = pd.Series(means).rolling(window = smoothing, center = True).mean()\n",
    "\n",
    "            sns.lineplot(x = xs, y = means_smooth, color = motcolor, label = motfam, lw = 1, ax = ax)\n",
    "            print(f\"{motfam:12}: Peak frequency {np.nanmax(means_smooth):5.03f} @ {xs[np.nanargmax(means_smooth)]:.0f}\")\n",
    "\n",
    "            ax.axhline(y = np.nanmean(means_smooth), linewidth = 0.5, linestyle = 'dashed', color = 'gray', zorder = 0)\n",
    "            ax.axvline(x = 0,   linewidth = 0.5, linestyle = 'dashed', color = 'gray', zorder = 0)\n",
    "            ax.axvline(x = -20, linewidth = 0.5, linestyle = 'dashed', color = 'gray', zorder = 0)\n",
    "            ax.axvline(x = 20,  linewidth = 0.5, linestyle = 'dashed', color = 'gray', zorder = 0)\n",
    "\n",
    "            ax.set_xlim(region)\n",
    "            ax.xaxis.set_major_locator(MultipleLocator(50))\n",
    "            ax.set_xlabel(\"Position relative to max cleavage site\")\n",
    "\n",
    "            ax.set_ylim(0,50)\n",
    "            ax.yaxis.set_major_locator(MultipleLocator(10))\n",
    "            ax.set_ylabel(\"Frequency per motif\")\n",
    "\n",
    "            ax.spines['right'].set_visible(False)\n",
    "            ax.spines['top'].set_visible(False)\n",
    "\n",
    "            ax.set_title(f\"{motfam} (N = {len(motdict['motifs'])})\", fontsize = 7)\n",
    "            ax.get_legend().remove()\n",
    "\n",
    "            plt.savefig(os.path.join(OUTDIR, f'family_importance.{motfam.replace(\"/\",\"\")}.frequency.svg'), format = 'svg', dpi = 600, transparent = True)\n",
    "            plt.show()\n",
    "\n",
    "        except KeyError:\n",
    "            plt.close()\n",
    "            continue\n"
   ]
  },
  {
   "cell_type": "code",
   "execution_count": 20,
   "metadata": {
    "scrolled": false
   },
   "outputs": [
    {
     "name": "stdout",
     "output_type": "stream",
     "text": [
      "contains_TA : Peak per-site 3.557 @ -39\n"
     ]
    },
    {
     "data": {
      "image/png": "[encoded data removed]",
      "text/plain": [
       "<Figure size 54x36 with 1 Axes>"
      ]
     },
     "metadata": {
      "needs_background": "light"
     },
     "output_type": "display_data"
    },
    {
     "name": "stdout",
     "output_type": "stream",
     "text": [
      "contains_TG : Peak per-site 3.576 @ -41\n"
     ]
    },
    {
     "data": {
      "image/png": "[encoded data removed]",
      "text/plain": [
       "<Figure size 54x36 with 1 Axes>"
      ]
     },
     "metadata": {
      "needs_background": "light"
     },
     "output_type": "display_data"
    },
    {
     "name": "stdout",
     "output_type": "stream",
     "text": [
      "contains_TC : Peak per-site 3.262 @ -35\n"
     ]
    },
    {
     "data": {
      "image/png": "[encoded data removed]",
      "text/plain": [
       "<Figure size 54x36 with 1 Axes>"
      ]
     },
     "metadata": {
      "needs_background": "light"
     },
     "output_type": "display_data"
    },
    {
     "name": "stdout",
     "output_type": "stream",
     "text": [
      "contains_TT : Peak per-site 3.444 @ -39\n"
     ]
    },
    {
     "data": {
      "image/png": "[encoded data removed]",
      "text/plain": [
       "<Figure size 54x36 with 1 Axes>"
      ]
     },
     "metadata": {
      "needs_background": "light"
     },
     "output_type": "display_data"
    }
   ],
   "source": [
    "region = (-250,150)\n",
    "smoothing = 10\n",
    "\n",
    "for motfam,motdict in mfam_importance[species][modeltype][config].items():\n",
    "    if ('contains' in motfam):\n",
    "        try:\n",
    "\n",
    "            if (motfam.startswith('hamming_')):\n",
    "                motcolor = family_cmap[motfam.replace(\"hamming_\", \"\")]\n",
    "            else:\n",
    "                motcolor = 'black'\n",
    "\n",
    "            fig,ax = plt.subplots(1,1, figsize = (0.75,0.5))\n",
    "\n",
    "            xs           = motdict['data']['xs']\n",
    "            means        = -1*motdict['data']['means']\n",
    "            means_smooth = pd.Series(means).rolling(window = smoothing, center = True).mean()\n",
    "\n",
    "            sns.lineplot(x = xs, y = means_smooth, color = motcolor, label = motfam, lw = 1, ax = ax)\n",
    "            print(f\"{motfam:12}: Peak per-site {np.nanmax(means_smooth):5.03f} @ {xs[np.nanargmax(means_smooth)]:.0f}\")\n",
    "\n",
    "            ax.axhline(y = 0,   linewidth = 0.5, linestyle = 'dashed', color = 'gray', zorder = 0)\n",
    "            ax.axvline(x = -20, linewidth = 0.5, linestyle = 'dashed', color = 'gray', zorder = 0)\n",
    "            ax.axvline(x = 20,  linewidth = 0.5, linestyle = 'dashed', color = 'gray', zorder = 0)\n",
    "\n",
    "            ax.set_xlim(region)\n",
    "            ax.xaxis.set_major_locator(MultipleLocator(50))\n",
    "            ax.set_xlabel(\"Position relative to max cleavage site\")\n",
    "\n",
    "            ax.set_ylim((-1,4))\n",
    "            ax.yaxis.set_major_locator(MultipleLocator(1))\n",
    "            ax.set_ylabel(\"Per-site classification importance\")\n",
    "\n",
    "            ax.spines['right'].set_visible(False)\n",
    "            ax.spines['top'].set_visible(False)\n",
    "\n",
    "            ax.set_title(f\"{motfam} (N = {len(motdict['motifs'])})\", fontsize = 7)\n",
    "            ax.get_legend().remove()\n",
    "\n",
    "            plt.savefig(os.path.join(OUTDIR, f'family_importance.{motfam.replace(\"/\",\"\")}.per_site.svg'), format = 'svg', dpi = 600, transparent = True)\n",
    "            plt.show()\n",
    "\n",
    "        except KeyError:\n",
    "            plt.close()\n",
    "            continue\n"
   ]
  },
  {
   "cell_type": "markdown",
   "metadata": {},
   "source": [
    "#### Family importance profiles using motif-normalized sum importance scores"
   ]
  },
  {
   "cell_type": "code",
   "execution_count": 21,
   "metadata": {},
   "outputs": [
    {
     "name": "stdout",
     "output_type": "stream",
     "text": [
      "hamming_A-rich    : Peak sum-norm  47.382 @ -21\n",
      "hamming_T-rich    : Peak sum-norm  93.640 @ -2\n",
      "hamming_TA/TA-rich: Peak sum-norm 129.323 @ -40\n"
     ]
    },
    {
     "data": {
      "image/png": "[encoded data removed]",
      "text/plain": [
       "<Figure size 144x108 with 1 Axes>"
      ]
     },
     "metadata": {
      "needs_background": "light"
     },
     "output_type": "display_data"
    }
   ],
   "source": [
    "fig,ax = plt.subplots(1,1, figsize = (2,1.5))\n",
    "\n",
    "region = (-150,100)\n",
    "smoothing = 10\n",
    "\n",
    "ylims = (-10,150)\n",
    "\n",
    "for motfam,motdict in mfam_importance[species][modeltype][config].items():\n",
    "    \n",
    "    if (\"_d\" in motfam) or (\"pattern_\" in motfam) or (\"contains\" in motfam):\n",
    "        continue\n",
    "    \n",
    "    xs           = motdict['data']['xs']\n",
    "    means        = -1*motdict['data']['means_weights'] / len(motdict['motifs'])\n",
    "    means_smooth = pd.Series(means).rolling(window = smoothing, center = True).mean()\n",
    "    print(f\"{motfam:18}: Peak sum-norm {np.nanmax(means_smooth):7.03f} @ {xs[np.nanargmax(means_smooth)]:.0f}\")\n",
    "\n",
    "    sns.lineplot(x = xs, y = means_smooth, color = family_cmap[motfam.replace(\"hamming_\",\"\")], label = motfam, lw = 1, ax = ax)\n",
    "\n",
    "for x in [-20,20]:\n",
    "    ax.axvline(x = x, linewidth = 0.5, linestyle = 'dashed', color = 'gray', zorder = 0)\n",
    "\n",
    "ax.set_xlim(region)\n",
    "ax.xaxis.set_major_locator(MultipleLocator(50))\n",
    "\n",
    "ax.set_ylim(ylims)\n",
    "ax.yaxis.set_major_locator(MultipleLocator(25))\n",
    "ax.set_ylabel(\"Sum importance per motif\")\n",
    "ax.set_xlabel(\"Position relative to max cleavage site (nt)\")\n",
    "\n",
    "ax.spines['right'].set_visible(False)\n",
    "ax.spines['top'].set_visible(False)\n",
    "\n",
    "ax.legend(bbox_to_anchor = (1.05,1))\n",
    "\n",
    "plt.savefig(os.path.join(OUTDIR, 'family_consolidated.sum_norm.svg'), format = 'svg', dpi = 600, transparent = True)\n",
    "plt.show()\n"
   ]
  },
  {
   "cell_type": "markdown",
   "metadata": {},
   "source": [
    "#### Breakdown of family importance profiles by Hamming distance"
   ]
  },
  {
   "cell_type": "code",
   "execution_count": 22,
   "metadata": {},
   "outputs": [
    {
     "name": "stdout",
     "output_type": "stream",
     "text": [
      "hamming_A-rich_d0    : Peak per-site 2.073 @ -21\n",
      "hamming_A-rich_d1    : Peak per-site 2.431 @ -21\n",
      "hamming_A-rich_d2    : Peak per-site 2.499 @ -22\n",
      "hamming_T-rich_d0    : Peak per-site 2.801 @ 7\n",
      "hamming_T-rich_d1    : Peak per-site 3.843 @ -2\n",
      "hamming_T-rich_d2    : Peak per-site 3.595 @ -2\n",
      "hamming_TA/TA-rich_d0: Peak per-site 3.883 @ -33\n",
      "hamming_TA/TA-rich_d1: Peak per-site 3.534 @ -40\n",
      "hamming_TA/TA-rich_d2: Peak per-site 3.455 @ -38\n"
     ]
    },
    {
     "data": {
      "image/png": "[encoded data removed]",
      "text/plain": [
       "<Figure size 144x108 with 1 Axes>"
      ]
     },
     "metadata": {
      "needs_background": "light"
     },
     "output_type": "display_data"
    }
   ],
   "source": [
    "fig,ax = plt.subplots(1,1, figsize = (2,1.5))\n",
    "\n",
    "region = (-250,150)\n",
    "smoothing = 10\n",
    "\n",
    "ylims = (-2,4)\n",
    "\n",
    "for motfam,motdict in mfam_importance[species][modeltype][config].items():\n",
    "    \n",
    "    if (\"_d\" not in motfam):\n",
    "        continue\n",
    "    \n",
    "    xs           = motdict['data']['xs']\n",
    "    means        = -1*motdict['data']['means']\n",
    "    means_smooth = pd.Series(means).rolling(window = smoothing, center = True).mean()\n",
    "    print(f\"{motfam:21}: Peak per-site {np.nanmax(means_smooth):5.03f} @ {xs[np.nanargmax(means_smooth)]:.0f}\")\n",
    "\n",
    "    sns.lineplot(x = xs, y = means_smooth, color = family_cmap[motfam.replace(\"hamming_\",\"\")], label = motfam, lw = 1, ax = ax)\n",
    "\n",
    "ax.axhline(y = 0,   linewidth = 0.5, linestyle = 'dashed', color = 'gray', zorder = 0)\n",
    "\n",
    "for x in [-20,20]:\n",
    "    ax.axvline(x = x, linewidth = 0.5, linestyle = 'dashed', color = 'gray', zorder = 0)\n",
    "\n",
    "ax.set_xlim(region)\n",
    "ax.xaxis.set_major_locator(MultipleLocator(50))\n",
    "\n",
    "ax.set_ylim(ylims)\n",
    "ax.set_ylabel(\"Per-site importance\")\n",
    "ax.set_xlabel(\"Position relative to max cleavage site (nt)\")\n",
    "\n",
    "ax.spines['right'].set_visible(False)\n",
    "ax.spines['top'].set_visible(False)\n",
    "\n",
    "ax.legend(bbox_to_anchor = (1.05,1))\n",
    "\n",
    "plt.savefig(os.path.join(OUTDIR, 'family_breakdown.persite.svg'), format = 'svg', dpi = 600, transparent = True)\n",
    "plt.show()\n"
   ]
  },
  {
   "cell_type": "code",
   "execution_count": 23,
   "metadata": {},
   "outputs": [
    {
     "name": "stdout",
     "output_type": "stream",
     "text": [
      "hamming_A-rich_d0    : Peak per-site 84.500 @ 64\n",
      "hamming_A-rich_d1    : Peak per-site 30.492 @ -21\n",
      "hamming_A-rich_d2    : Peak per-site 15.394 @ -21\n",
      "hamming_T-rich_d0    : Peak per-site 215.500 @ 7\n",
      "hamming_T-rich_d1    : Peak per-site 44.211 @ -8\n",
      "hamming_T-rich_d2    : Peak per-site 21.694 @ -6\n",
      "hamming_TA/TA-rich_d0: Peak per-site 145.950 @ -43\n",
      "hamming_TA/TA-rich_d1: Peak per-site 41.531 @ -40\n",
      "hamming_TA/TA-rich_d2: Peak per-site 23.378 @ -41\n"
     ]
    },
    {
     "data": {
      "image/png": "[encoded data removed]",
      "text/plain": [
       "<Figure size 144x108 with 1 Axes>"
      ]
     },
     "metadata": {
      "needs_background": "light"
     },
     "output_type": "display_data"
    }
   ],
   "source": [
    "fig,ax = plt.subplots(1,1, figsize = (2,1.5))\n",
    "\n",
    "region = (-250,150)\n",
    "smoothing = 10\n",
    "\n",
    "ylims = (0,None)\n",
    "\n",
    "for motfam,motdict in mfam_importance[species][modeltype][config].items():\n",
    "    \n",
    "    if (\"_d\" not in motfam):\n",
    "        continue\n",
    "    \n",
    "    xs           = motdict['data']['xs']\n",
    "    means        = motdict['data']['freqs'] / len(motdict['motifs'])\n",
    "    means_smooth = pd.Series(means).rolling(window = smoothing, center = True).mean()\n",
    "    print(f\"{motfam:21}: Peak per-site {np.nanmax(means_smooth):5.03f} @ {xs[np.nanargmax(means_smooth)]:.0f}\")\n",
    "\n",
    "    sns.lineplot(x = xs, y = means_smooth, color = family_cmap[motfam.replace(\"hamming_\",\"\")], label = motfam, lw = 1, ax = ax)\n",
    "\n",
    "for x in [-20,20]:\n",
    "    ax.axvline(x = x, linewidth = 0.5, linestyle = 'dashed', color = 'gray', zorder = 0)\n",
    "\n",
    "ax.set_xlim(region)\n",
    "ax.xaxis.set_major_locator(MultipleLocator(50))\n",
    "ax.set_xlabel(\"Position relative to max cleavage site (nt)\")\n",
    "\n",
    "ax.set_ylim(0,250)\n",
    "ax.yaxis.set_major_locator(MultipleLocator(50))\n",
    "ax.set_ylabel(\"Frequency per motif\")\n",
    "\n",
    "\n",
    "ax.spines['right'].set_visible(False)\n",
    "ax.spines['top'].set_visible(False)\n",
    "\n",
    "ax.legend(bbox_to_anchor = (1.05,1))\n",
    "\n",
    "plt.savefig(os.path.join(OUTDIR, 'family_breakdown.frequency.svg'), format = 'svg', dpi = 600, transparent = True)\n",
    "plt.show()\n"
   ]
  },
  {
   "cell_type": "markdown",
   "metadata": {},
   "source": [
    "## Region-specific peak importance by Hamming distance"
   ]
  },
  {
   "cell_type": "markdown",
   "metadata": {},
   "source": [
    "#### Narrow region for UA-rich"
   ]
  },
  {
   "cell_type": "code",
   "execution_count": 24,
   "metadata": {},
   "outputs": [
    {
     "name": "stdout",
     "output_type": "stream",
     "text": [
      "(12, 8)\n"
     ]
    }
   ],
   "source": [
    "hamming_comparison = {}\n",
    "\n",
    "hamming_families = ['TA/TA-rich_d0','TA/TA-rich_d1','TA/TA-rich_d2','A-rich_d0','A-rich_d1','A-rich_d2','T-rich_d0','T-rich_d1','T-rich_d2','T-rich_d0','T-rich_d1','T-rich_d2']\n",
    "hamming_regions = [(-90,-26),(-90,-26),(-90,-26),(-25,-16),(-25,-16),(-25,-16),(-15,-6),(-15,-6),(-15,-6),(2,15),(2,15),(2,15)]\n",
    "\n",
    "for mfam,mreg in zip(hamming_families, hamming_regions):\n",
    "\n",
    "    mlist = [m for m,f in scer_definitions['distance'][kmer]['hamming'].items() if (m in sigmots) and (f == mfam)]\n",
    "\n",
    "    mdataClass = motifs.region_data(OUTDIR, mot_dis_dir, mlist, mreg, 'summary_agg', 'position', 'differenceClassification', measure = 'mean', measure_error = 95)\n",
    "\n",
    "    mdataClass['motifFamily'] = mfam\n",
    "    mdataClass['motifRegion'] = f'{mreg[0]}_{mreg[1]}'\n",
    "    mdataClass['motifDesc'] = mdataClass['motifFamily'] + \"_\" + mdataClass['motifRegion']\n",
    "\n",
    "    hamming_comparison[f'{mfam}_{mreg[0]}_{mreg[1]}'] = {'motif_list' : mlist, 'results' : mdataClass}\n",
    "\n",
    "hamming_comparison = pd.concat([fm['results'] for mfam,fm in hamming_comparison.items()], ignore_index = True, sort = False)\n",
    "print(hamming_comparison.shape)\n"
   ]
  },
  {
   "cell_type": "code",
   "execution_count": 25,
   "metadata": {},
   "outputs": [
    {
     "name": "stderr",
     "output_type": "stream",
     "text": [
      "No handles with labels found to put in legend.\n"
     ]
    },
    {
     "data": {
      "image/png": "[encoded data removed]",
      "text/plain": [
       "<Figure size 144x108 with 1 Axes>"
      ]
     },
     "metadata": {
      "needs_background": "light"
     },
     "output_type": "display_data"
    }
   ],
   "source": [
    "fig,ax = plt.subplots(1,1, figsize = (2,1.5))\n",
    "\n",
    "xorder = [f'{f}_{str(r).strip(\"()\").replace(\", \",\"_\")}' for (f,r) in zip(hamming_families, hamming_regions)]\n",
    "\n",
    "for i,x in enumerate(xorder):\n",
    "    \n",
    "    dt = hamming_comparison.loc[hamming_comparison['motifDesc'] == x].iloc[0]\n",
    "    \n",
    "    ax.bar(i, dt['score'], color = family_cmap[dt['motifFamily']], edgecolor = 'black', linewidth = 0.5)\n",
    "    ax.errorbar(i, dt['score'], yerr = dt['error_hi'], ecolor = 'black', elinewidth = 1, capsize = 2, barsabove = True)\n",
    "    \n",
    "ax.set_xticks(np.arange(len(xorder)))\n",
    "ax.set_xticklabels(xorder, rotation = 45, ha = 'right', va = 'top')\n",
    "ax.set_xlabel(\"\")\n",
    "\n",
    "ax.set_ylim(0,3.5)\n",
    "ax.yaxis.set_major_locator(MultipleLocator(0.5))\n",
    "ax.set_ylabel(\"Per-site importance\")\n",
    "\n",
    "ax.legend(bbox_to_anchor = (1.05,1))\n",
    "\n",
    "ax.spines['right'].set_visible(False)\n",
    "ax.spines['top'].set_visible(False)\n",
    "\n",
    "plt.savefig(os.path.join(OUTDIR, 'hamming_comparison.persite.narrow.svg'), format = 'svg', dpi = 600, transparent = True)\n",
    "plt.show()\n"
   ]
  },
  {
   "cell_type": "code",
   "execution_count": 26,
   "metadata": {},
   "outputs": [
    {
     "data": {
      "text/html": [
       "<div>\n",
       "<style scoped>\n",
       "    .dataframe tbody tr th:only-of-type {\n",
       "        vertical-align: middle;\n",
       "    }\n",
       "\n",
       "    .dataframe tbody tr th {\n",
       "        vertical-align: top;\n",
       "    }\n",
       "\n",
       "    .dataframe thead th {\n",
       "        text-align: right;\n",
       "    }\n",
       "</style>\n",
       "<table border=\"1\" class=\"dataframe\">\n",
       "  <thead>\n",
       "    <tr style=\"text-align: right;\">\n",
       "      <th></th>\n",
       "      <th>score</th>\n",
       "      <th>conf_lo</th>\n",
       "      <th>conf_hi</th>\n",
       "      <th>error_lo</th>\n",
       "      <th>error_hi</th>\n",
       "      <th>motifFamily</th>\n",
       "      <th>motifRegion</th>\n",
       "    </tr>\n",
       "    <tr>\n",
       "      <th>motifDesc</th>\n",
       "      <th></th>\n",
       "      <th></th>\n",
       "      <th></th>\n",
       "      <th></th>\n",
       "      <th></th>\n",
       "      <th></th>\n",
       "      <th></th>\n",
       "    </tr>\n",
       "  </thead>\n",
       "  <tbody>\n",
       "    <tr>\n",
       "      <td>TA/TA-rich_d0_-90_-26</td>\n",
       "      <td>3.408265</td>\n",
       "      <td>3.455719</td>\n",
       "      <td>3.360811</td>\n",
       "      <td>0.047454</td>\n",
       "      <td>0.047454</td>\n",
       "      <td>TA/TA-rich_d0</td>\n",
       "      <td>-90_-26</td>\n",
       "    </tr>\n",
       "    <tr>\n",
       "      <td>TA/TA-rich_d1_-90_-26</td>\n",
       "      <td>3.053028</td>\n",
       "      <td>3.072800</td>\n",
       "      <td>3.033255</td>\n",
       "      <td>0.019773</td>\n",
       "      <td>0.019773</td>\n",
       "      <td>TA/TA-rich_d1</td>\n",
       "      <td>-90_-26</td>\n",
       "    </tr>\n",
       "    <tr>\n",
       "      <td>TA/TA-rich_d2_-90_-26</td>\n",
       "      <td>2.718846</td>\n",
       "      <td>2.766190</td>\n",
       "      <td>2.671502</td>\n",
       "      <td>0.047344</td>\n",
       "      <td>0.047344</td>\n",
       "      <td>TA/TA-rich_d2</td>\n",
       "      <td>-90_-26</td>\n",
       "    </tr>\n",
       "    <tr>\n",
       "      <td>A-rich_d0_-25_-16</td>\n",
       "      <td>2.144715</td>\n",
       "      <td>2.286509</td>\n",
       "      <td>2.002922</td>\n",
       "      <td>0.141794</td>\n",
       "      <td>0.141794</td>\n",
       "      <td>A-rich_d0</td>\n",
       "      <td>-25_-16</td>\n",
       "    </tr>\n",
       "    <tr>\n",
       "      <td>A-rich_d1_-25_-16</td>\n",
       "      <td>2.445044</td>\n",
       "      <td>2.501866</td>\n",
       "      <td>2.388222</td>\n",
       "      <td>0.056822</td>\n",
       "      <td>0.056822</td>\n",
       "      <td>A-rich_d1</td>\n",
       "      <td>-25_-16</td>\n",
       "    </tr>\n",
       "    <tr>\n",
       "      <td>A-rich_d2_-25_-16</td>\n",
       "      <td>2.473021</td>\n",
       "      <td>2.542314</td>\n",
       "      <td>2.403728</td>\n",
       "      <td>0.069293</td>\n",
       "      <td>0.069293</td>\n",
       "      <td>A-rich_d2</td>\n",
       "      <td>-25_-16</td>\n",
       "    </tr>\n",
       "    <tr>\n",
       "      <td>T-rich_d0_-15_-6</td>\n",
       "      <td>2.926032</td>\n",
       "      <td>3.022189</td>\n",
       "      <td>2.829876</td>\n",
       "      <td>0.096157</td>\n",
       "      <td>0.096157</td>\n",
       "      <td>T-rich_d0</td>\n",
       "      <td>-15_-6</td>\n",
       "    </tr>\n",
       "    <tr>\n",
       "      <td>T-rich_d1_-15_-6</td>\n",
       "      <td>2.107660</td>\n",
       "      <td>2.142565</td>\n",
       "      <td>2.072755</td>\n",
       "      <td>0.034905</td>\n",
       "      <td>0.034905</td>\n",
       "      <td>T-rich_d1</td>\n",
       "      <td>-15_-6</td>\n",
       "    </tr>\n",
       "    <tr>\n",
       "      <td>T-rich_d2_-15_-6</td>\n",
       "      <td>1.576282</td>\n",
       "      <td>1.608815</td>\n",
       "      <td>1.543750</td>\n",
       "      <td>0.032533</td>\n",
       "      <td>0.032533</td>\n",
       "      <td>T-rich_d2</td>\n",
       "      <td>-15_-6</td>\n",
       "    </tr>\n",
       "    <tr>\n",
       "      <td>T-rich_d0_2_15</td>\n",
       "      <td>2.672309</td>\n",
       "      <td>2.733175</td>\n",
       "      <td>2.611442</td>\n",
       "      <td>0.060866</td>\n",
       "      <td>0.060866</td>\n",
       "      <td>T-rich_d0</td>\n",
       "      <td>2_15</td>\n",
       "    </tr>\n",
       "    <tr>\n",
       "      <td>T-rich_d1_2_15</td>\n",
       "      <td>1.961006</td>\n",
       "      <td>1.987033</td>\n",
       "      <td>1.934978</td>\n",
       "      <td>0.026028</td>\n",
       "      <td>0.026028</td>\n",
       "      <td>T-rich_d1</td>\n",
       "      <td>2_15</td>\n",
       "    </tr>\n",
       "    <tr>\n",
       "      <td>T-rich_d2_2_15</td>\n",
       "      <td>1.298253</td>\n",
       "      <td>1.322131</td>\n",
       "      <td>1.274375</td>\n",
       "      <td>0.023878</td>\n",
       "      <td>0.023878</td>\n",
       "      <td>T-rich_d2</td>\n",
       "      <td>2_15</td>\n",
       "    </tr>\n",
       "  </tbody>\n",
       "</table>\n",
       "</div>"
      ],
      "text/plain": [
       "                          score   conf_lo   conf_hi  error_lo  error_hi  \\\n",
       "motifDesc                                                                 \n",
       "TA/TA-rich_d0_-90_-26  3.408265  3.455719  3.360811  0.047454  0.047454   \n",
       "TA/TA-rich_d1_-90_-26  3.053028  3.072800  3.033255  0.019773  0.019773   \n",
       "TA/TA-rich_d2_-90_-26  2.718846  2.766190  2.671502  0.047344  0.047344   \n",
       "A-rich_d0_-25_-16      2.144715  2.286509  2.002922  0.141794  0.141794   \n",
       "A-rich_d1_-25_-16      2.445044  2.501866  2.388222  0.056822  0.056822   \n",
       "A-rich_d2_-25_-16      2.473021  2.542314  2.403728  0.069293  0.069293   \n",
       "T-rich_d0_-15_-6       2.926032  3.022189  2.829876  0.096157  0.096157   \n",
       "T-rich_d1_-15_-6       2.107660  2.142565  2.072755  0.034905  0.034905   \n",
       "T-rich_d2_-15_-6       1.576282  1.608815  1.543750  0.032533  0.032533   \n",
       "T-rich_d0_2_15         2.672309  2.733175  2.611442  0.060866  0.060866   \n",
       "T-rich_d1_2_15         1.961006  1.987033  1.934978  0.026028  0.026028   \n",
       "T-rich_d2_2_15         1.298253  1.322131  1.274375  0.023878  0.023878   \n",
       "\n",
       "                         motifFamily motifRegion  \n",
       "motifDesc                                         \n",
       "TA/TA-rich_d0_-90_-26  TA/TA-rich_d0     -90_-26  \n",
       "TA/TA-rich_d1_-90_-26  TA/TA-rich_d1     -90_-26  \n",
       "TA/TA-rich_d2_-90_-26  TA/TA-rich_d2     -90_-26  \n",
       "A-rich_d0_-25_-16          A-rich_d0     -25_-16  \n",
       "A-rich_d1_-25_-16          A-rich_d1     -25_-16  \n",
       "A-rich_d2_-25_-16          A-rich_d2     -25_-16  \n",
       "T-rich_d0_-15_-6           T-rich_d0      -15_-6  \n",
       "T-rich_d1_-15_-6           T-rich_d1      -15_-6  \n",
       "T-rich_d2_-15_-6           T-rich_d2      -15_-6  \n",
       "T-rich_d0_2_15             T-rich_d0        2_15  \n",
       "T-rich_d1_2_15             T-rich_d1        2_15  \n",
       "T-rich_d2_2_15             T-rich_d2        2_15  "
      ]
     },
     "execution_count": 26,
     "metadata": {},
     "output_type": "execute_result"
    }
   ],
   "source": [
    "hamming_comparison.set_index('motifDesc').loc[xorder]"
   ]
  },
  {
   "cell_type": "code",
   "execution_count": 27,
   "metadata": {},
   "outputs": [
    {
     "name": "stdout",
     "output_type": "stream",
     "text": [
      "\n",
      "Percent decrease UA-rich d0 to d1: 10.42%\n",
      "Percent decrease UA-rich d0 to d2: 20.23%\n",
      "Percent decrease UA-rich d1 to d2: 10.95%\n",
      "\n",
      "Percent increase A-rich d0 to d1: 14.00%\n",
      "Percent increase A-rich d0 to d2: 15.31%\n",
      "Percent increase A-rich d1 to d2:  1.14%\n",
      "\n",
      "Percent decrease U-rich d0 to d1: 27.97%\n",
      "Percent decrease U-rich d0 to d2: 46.13%\n",
      "Percent decrease U-rich d1 to d2: 25.21%\n",
      "\n",
      "Percent decrease U-rich d0 to d1: 26.62%\n",
      "Percent decrease U-rich d0 to d2: 51.42%\n",
      "Percent decrease U-rich d1 to d2: 33.80%\n"
     ]
    }
   ],
   "source": [
    "## Add percent difference calculations for d1 and d2 vs d0 for each family\n",
    "\n",
    "# UA-rich family\n",
    "\n",
    "ua_d0_score = hamming_comparison.loc[hamming_comparison['motifDesc'] == 'TA/TA-rich_d0_-90_-26'].iloc[0]['score']\n",
    "ua_d1_score = hamming_comparison.loc[hamming_comparison['motifDesc'] == 'TA/TA-rich_d1_-90_-26'].iloc[0]['score']\n",
    "ua_d2_score = hamming_comparison.loc[hamming_comparison['motifDesc'] == 'TA/TA-rich_d2_-90_-26'].iloc[0]['score']\n",
    "\n",
    "print(f\"\\nPercent decrease UA-rich d0 to d1: {(ua_d0_score - ua_d1_score) / ua_d0_score:6.02%}\")\n",
    "print(f\"Percent decrease UA-rich d0 to d2: {(ua_d0_score - ua_d2_score) / ua_d0_score:6.02%}\")\n",
    "print(f\"Percent decrease UA-rich d1 to d2: {(ua_d1_score - ua_d2_score) / ua_d1_score:6.02%}\")\n",
    "\n",
    "\n",
    "# A-rich family\n",
    "\n",
    "a_d0_score = hamming_comparison.loc[hamming_comparison['motifDesc'] == 'A-rich_d0_-25_-16'].iloc[0]['score']\n",
    "a_d1_score = hamming_comparison.loc[hamming_comparison['motifDesc'] == 'A-rich_d1_-25_-16'].iloc[0]['score']\n",
    "a_d2_score = hamming_comparison.loc[hamming_comparison['motifDesc'] == 'A-rich_d2_-25_-16'].iloc[0]['score']\n",
    "\n",
    "print(f\"\\nPercent increase A-rich d0 to d1: {(a_d1_score - a_d0_score) / a_d0_score:6.02%}\")\n",
    "print(f\"Percent increase A-rich d0 to d2: {(a_d2_score - a_d0_score) / a_d0_score:6.02%}\")\n",
    "print(f\"Percent increase A-rich d1 to d2: {(a_d2_score - a_d1_score) / a_d1_score:6.02%}\")\n",
    "\n",
    "\n",
    "# U-rich family upstream\n",
    "\n",
    "u_d0_score = hamming_comparison.loc[hamming_comparison['motifDesc'] == 'T-rich_d0_-15_-6'].iloc[0]['score']\n",
    "u_d1_score = hamming_comparison.loc[hamming_comparison['motifDesc'] == 'T-rich_d1_-15_-6'].iloc[0]['score']\n",
    "u_d2_score = hamming_comparison.loc[hamming_comparison['motifDesc'] == 'T-rich_d2_-15_-6'].iloc[0]['score']\n",
    "\n",
    "print(f\"\\nPercent decrease U-rich d0 to d1: {(u_d0_score - u_d1_score) / u_d0_score:6.02%}\")\n",
    "print(f\"Percent decrease U-rich d0 to d2: {(u_d0_score - u_d2_score) / u_d0_score:6.02%}\")\n",
    "print(f\"Percent decrease U-rich d1 to d2: {(u_d1_score - u_d2_score) / u_d1_score:6.02%}\")\n",
    "\n",
    "\n",
    "# U-rich family upstream\n",
    "\n",
    "u_d0_score = hamming_comparison.loc[hamming_comparison['motifDesc'] == 'T-rich_d0_2_15'].iloc[0]['score']\n",
    "u_d1_score = hamming_comparison.loc[hamming_comparison['motifDesc'] == 'T-rich_d1_2_15'].iloc[0]['score']\n",
    "u_d2_score = hamming_comparison.loc[hamming_comparison['motifDesc'] == 'T-rich_d2_2_15'].iloc[0]['score']\n",
    "\n",
    "print(f\"\\nPercent decrease U-rich d0 to d1: {(u_d0_score - u_d1_score) / u_d0_score:6.02%}\")\n",
    "print(f\"Percent decrease U-rich d0 to d2: {(u_d0_score - u_d2_score) / u_d0_score:6.02%}\")\n",
    "print(f\"Percent decrease U-rich d1 to d2: {(u_d1_score - u_d2_score) / u_d1_score:6.02%}\")\n",
    "\n"
   ]
  },
  {
   "cell_type": "markdown",
   "metadata": {},
   "source": [
    "#### Wide region for UA-rich"
   ]
  },
  {
   "cell_type": "code",
   "execution_count": 28,
   "metadata": {},
   "outputs": [
    {
     "name": "stdout",
     "output_type": "stream",
     "text": [
      "(12, 8)\n"
     ]
    }
   ],
   "source": [
    "hamming_comparison = {}\n",
    "\n",
    "hamming_families = ['TA/TA-rich_d0','TA/TA-rich_d1','TA/TA-rich_d2','A-rich_d0','A-rich_d1','A-rich_d2','T-rich_d0','T-rich_d1','T-rich_d2','T-rich_d0','T-rich_d1','T-rich_d2']\n",
    "hamming_regions = [(-120,-26),(-120,-26),(-120,-26),(-25,-16),(-25,-16),(-25,-16),(-15,-6),(-15,-6),(-15,-6),(2,15),(2,15),(2,15)]\n",
    "\n",
    "for mfam,mreg in zip(hamming_families, hamming_regions):\n",
    "\n",
    "    mlist = [m for m,f in scer_definitions['distance'][kmer]['hamming'].items() if (m in sigmots) and (f == mfam)]\n",
    "\n",
    "    mdataClass = motifs.region_data(OUTDIR, mot_dis_dir, mlist, mreg, 'summary_agg', 'position', 'differenceClassification', measure = 'mean', measure_error = 95)\n",
    "\n",
    "    mdataClass['motifFamily'] = mfam\n",
    "    mdataClass['motifRegion'] = f'{mreg[0]}_{mreg[1]}'\n",
    "    mdataClass['motifDesc'] = mdataClass['motifFamily'] + \"_\" + mdataClass['motifRegion']\n",
    "\n",
    "    hamming_comparison[f'{mfam}_{mreg[0]}_{mreg[1]}'] = {'motif_list' : mlist, 'results' : mdataClass}\n",
    "\n",
    "hamming_comparison = pd.concat([fm['results'] for mfam,fm in hamming_comparison.items()], ignore_index = True, sort = False)\n",
    "print(hamming_comparison.shape)\n"
   ]
  },
  {
   "cell_type": "code",
   "execution_count": 29,
   "metadata": {},
   "outputs": [
    {
     "name": "stderr",
     "output_type": "stream",
     "text": [
      "No handles with labels found to put in legend.\n"
     ]
    },
    {
     "data": {
      "image/png": "[encoded data removed]",
      "text/plain": [
       "<Figure size 144x108 with 1 Axes>"
      ]
     },
     "metadata": {
      "needs_background": "light"
     },
     "output_type": "display_data"
    }
   ],
   "source": [
    "fig,ax = plt.subplots(1,1, figsize = (2,1.5))\n",
    "\n",
    "xorder = [f'{f}_{str(r).strip(\"()\").replace(\", \",\"_\")}' for (f,r) in zip(hamming_families, hamming_regions)]\n",
    "\n",
    "for i,x in enumerate(xorder):\n",
    "    \n",
    "    dt = hamming_comparison.loc[hamming_comparison['motifDesc'] == x].iloc[0]\n",
    "    \n",
    "    ax.bar(i, dt['score'], color = family_cmap[dt['motifFamily']], edgecolor = 'black', linewidth = 0.5)\n",
    "    ax.errorbar(i, dt['score'], yerr = dt['error_hi'], ecolor = 'black', elinewidth = 1, capsize = 2, barsabove = True)\n",
    "    \n",
    "ax.set_xticks(np.arange(len(xorder)))\n",
    "ax.set_xticklabels(xorder, rotation = 45, ha = 'right', va = 'top')\n",
    "ax.set_xlabel(\"\")\n",
    "\n",
    "ax.set_ylim(0,3.5)\n",
    "ax.yaxis.set_major_locator(MultipleLocator(0.5))\n",
    "ax.set_ylabel(\"Per-site importance\")\n",
    "\n",
    "ax.legend(bbox_to_anchor = (1.05,1))\n",
    "\n",
    "ax.spines['right'].set_visible(False)\n",
    "ax.spines['top'].set_visible(False)\n",
    "\n",
    "plt.savefig(os.path.join(OUTDIR, 'hamming_comparison.persite.wide.svg'), format = 'svg', dpi = 600, transparent = True)\n",
    "plt.show()\n"
   ]
  },
  {
   "cell_type": "code",
   "execution_count": 30,
   "metadata": {},
   "outputs": [
    {
     "data": {
      "text/html": [
       "<div>\n",
       "<style scoped>\n",
       "    .dataframe tbody tr th:only-of-type {\n",
       "        vertical-align: middle;\n",
       "    }\n",
       "\n",
       "    .dataframe tbody tr th {\n",
       "        vertical-align: top;\n",
       "    }\n",
       "\n",
       "    .dataframe thead th {\n",
       "        text-align: right;\n",
       "    }\n",
       "</style>\n",
       "<table border=\"1\" class=\"dataframe\">\n",
       "  <thead>\n",
       "    <tr style=\"text-align: right;\">\n",
       "      <th></th>\n",
       "      <th>score</th>\n",
       "      <th>conf_lo</th>\n",
       "      <th>conf_hi</th>\n",
       "      <th>error_lo</th>\n",
       "      <th>error_hi</th>\n",
       "      <th>motifFamily</th>\n",
       "      <th>motifRegion</th>\n",
       "    </tr>\n",
       "    <tr>\n",
       "      <th>motifDesc</th>\n",
       "      <th></th>\n",
       "      <th></th>\n",
       "      <th></th>\n",
       "      <th></th>\n",
       "      <th></th>\n",
       "      <th></th>\n",
       "      <th></th>\n",
       "    </tr>\n",
       "  </thead>\n",
       "  <tbody>\n",
       "    <tr>\n",
       "      <td>TA/TA-rich_d0_-120_-26</td>\n",
       "      <td>3.180792</td>\n",
       "      <td>3.223621</td>\n",
       "      <td>3.137962</td>\n",
       "      <td>0.042829</td>\n",
       "      <td>0.042829</td>\n",
       "      <td>TA/TA-rich_d0</td>\n",
       "      <td>-120_-26</td>\n",
       "    </tr>\n",
       "    <tr>\n",
       "      <td>TA/TA-rich_d1_-120_-26</td>\n",
       "      <td>2.709838</td>\n",
       "      <td>2.728139</td>\n",
       "      <td>2.691538</td>\n",
       "      <td>0.018301</td>\n",
       "      <td>0.018301</td>\n",
       "      <td>TA/TA-rich_d1</td>\n",
       "      <td>-120_-26</td>\n",
       "    </tr>\n",
       "    <tr>\n",
       "      <td>TA/TA-rich_d2_-120_-26</td>\n",
       "      <td>2.272289</td>\n",
       "      <td>2.314900</td>\n",
       "      <td>2.229679</td>\n",
       "      <td>0.042611</td>\n",
       "      <td>0.042611</td>\n",
       "      <td>TA/TA-rich_d2</td>\n",
       "      <td>-120_-26</td>\n",
       "    </tr>\n",
       "    <tr>\n",
       "      <td>A-rich_d0_-25_-16</td>\n",
       "      <td>2.144715</td>\n",
       "      <td>2.286509</td>\n",
       "      <td>2.002922</td>\n",
       "      <td>0.141794</td>\n",
       "      <td>0.141794</td>\n",
       "      <td>A-rich_d0</td>\n",
       "      <td>-25_-16</td>\n",
       "    </tr>\n",
       "    <tr>\n",
       "      <td>A-rich_d1_-25_-16</td>\n",
       "      <td>2.445044</td>\n",
       "      <td>2.501866</td>\n",
       "      <td>2.388222</td>\n",
       "      <td>0.056822</td>\n",
       "      <td>0.056822</td>\n",
       "      <td>A-rich_d1</td>\n",
       "      <td>-25_-16</td>\n",
       "    </tr>\n",
       "    <tr>\n",
       "      <td>A-rich_d2_-25_-16</td>\n",
       "      <td>2.473021</td>\n",
       "      <td>2.542314</td>\n",
       "      <td>2.403728</td>\n",
       "      <td>0.069293</td>\n",
       "      <td>0.069293</td>\n",
       "      <td>A-rich_d2</td>\n",
       "      <td>-25_-16</td>\n",
       "    </tr>\n",
       "    <tr>\n",
       "      <td>T-rich_d0_-15_-6</td>\n",
       "      <td>2.926032</td>\n",
       "      <td>3.022189</td>\n",
       "      <td>2.829876</td>\n",
       "      <td>0.096157</td>\n",
       "      <td>0.096157</td>\n",
       "      <td>T-rich_d0</td>\n",
       "      <td>-15_-6</td>\n",
       "    </tr>\n",
       "    <tr>\n",
       "      <td>T-rich_d1_-15_-6</td>\n",
       "      <td>2.107660</td>\n",
       "      <td>2.142565</td>\n",
       "      <td>2.072755</td>\n",
       "      <td>0.034905</td>\n",
       "      <td>0.034905</td>\n",
       "      <td>T-rich_d1</td>\n",
       "      <td>-15_-6</td>\n",
       "    </tr>\n",
       "    <tr>\n",
       "      <td>T-rich_d2_-15_-6</td>\n",
       "      <td>1.576282</td>\n",
       "      <td>1.608815</td>\n",
       "      <td>1.543750</td>\n",
       "      <td>0.032533</td>\n",
       "      <td>0.032533</td>\n",
       "      <td>T-rich_d2</td>\n",
       "      <td>-15_-6</td>\n",
       "    </tr>\n",
       "    <tr>\n",
       "      <td>T-rich_d0_2_15</td>\n",
       "      <td>2.672309</td>\n",
       "      <td>2.733175</td>\n",
       "      <td>2.611442</td>\n",
       "      <td>0.060866</td>\n",
       "      <td>0.060866</td>\n",
       "      <td>T-rich_d0</td>\n",
       "      <td>2_15</td>\n",
       "    </tr>\n",
       "    <tr>\n",
       "      <td>T-rich_d1_2_15</td>\n",
       "      <td>1.961006</td>\n",
       "      <td>1.987033</td>\n",
       "      <td>1.934978</td>\n",
       "      <td>0.026028</td>\n",
       "      <td>0.026028</td>\n",
       "      <td>T-rich_d1</td>\n",
       "      <td>2_15</td>\n",
       "    </tr>\n",
       "    <tr>\n",
       "      <td>T-rich_d2_2_15</td>\n",
       "      <td>1.298253</td>\n",
       "      <td>1.322131</td>\n",
       "      <td>1.274375</td>\n",
       "      <td>0.023878</td>\n",
       "      <td>0.023878</td>\n",
       "      <td>T-rich_d2</td>\n",
       "      <td>2_15</td>\n",
       "    </tr>\n",
       "  </tbody>\n",
       "</table>\n",
       "</div>"
      ],
      "text/plain": [
       "                           score   conf_lo   conf_hi  error_lo  error_hi  \\\n",
       "motifDesc                                                                  \n",
       "TA/TA-rich_d0_-120_-26  3.180792  3.223621  3.137962  0.042829  0.042829   \n",
       "TA/TA-rich_d1_-120_-26  2.709838  2.728139  2.691538  0.018301  0.018301   \n",
       "TA/TA-rich_d2_-120_-26  2.272289  2.314900  2.229679  0.042611  0.042611   \n",
       "A-rich_d0_-25_-16       2.144715  2.286509  2.002922  0.141794  0.141794   \n",
       "A-rich_d1_-25_-16       2.445044  2.501866  2.388222  0.056822  0.056822   \n",
       "A-rich_d2_-25_-16       2.473021  2.542314  2.403728  0.069293  0.069293   \n",
       "T-rich_d0_-15_-6        2.926032  3.022189  2.829876  0.096157  0.096157   \n",
       "T-rich_d1_-15_-6        2.107660  2.142565  2.072755  0.034905  0.034905   \n",
       "T-rich_d2_-15_-6        1.576282  1.608815  1.543750  0.032533  0.032533   \n",
       "T-rich_d0_2_15          2.672309  2.733175  2.611442  0.060866  0.060866   \n",
       "T-rich_d1_2_15          1.961006  1.987033  1.934978  0.026028  0.026028   \n",
       "T-rich_d2_2_15          1.298253  1.322131  1.274375  0.023878  0.023878   \n",
       "\n",
       "                          motifFamily motifRegion  \n",
       "motifDesc                                          \n",
       "TA/TA-rich_d0_-120_-26  TA/TA-rich_d0    -120_-26  \n",
       "TA/TA-rich_d1_-120_-26  TA/TA-rich_d1    -120_-26  \n",
       "TA/TA-rich_d2_-120_-26  TA/TA-rich_d2    -120_-26  \n",
       "A-rich_d0_-25_-16           A-rich_d0     -25_-16  \n",
       "A-rich_d1_-25_-16           A-rich_d1     -25_-16  \n",
       "A-rich_d2_-25_-16           A-rich_d2     -25_-16  \n",
       "T-rich_d0_-15_-6            T-rich_d0      -15_-6  \n",
       "T-rich_d1_-15_-6            T-rich_d1      -15_-6  \n",
       "T-rich_d2_-15_-6            T-rich_d2      -15_-6  \n",
       "T-rich_d0_2_15              T-rich_d0        2_15  \n",
       "T-rich_d1_2_15              T-rich_d1        2_15  \n",
       "T-rich_d2_2_15              T-rich_d2        2_15  "
      ]
     },
     "execution_count": 30,
     "metadata": {},
     "output_type": "execute_result"
    }
   ],
   "source": [
    "hamming_comparison.set_index('motifDesc').loc[xorder]"
   ]
  },
  {
   "cell_type": "code",
   "execution_count": 31,
   "metadata": {},
   "outputs": [
    {
     "name": "stdout",
     "output_type": "stream",
     "text": [
      "\n",
      "Percent decrease UA-rich d0 to d1: 14.81%\n",
      "Percent decrease UA-rich d0 to d2: 28.56%\n",
      "Percent decrease UA-rich d1 to d2: 16.15%\n",
      "\n",
      "Percent increase A-rich d0 to d1: 14.00%\n",
      "Percent increase A-rich d0 to d2: 15.31%\n",
      "Percent increase A-rich d1 to d2:  1.14%\n",
      "\n",
      "Percent decrease U-rich d0 to d1: 27.97%\n",
      "Percent decrease U-rich d0 to d2: 46.13%\n",
      "Percent decrease U-rich d1 to d2: 25.21%\n",
      "\n",
      "Percent decrease U-rich d0 to d1: 26.62%\n",
      "Percent decrease U-rich d0 to d2: 51.42%\n",
      "Percent decrease U-rich d1 to d2: 33.80%\n"
     ]
    }
   ],
   "source": [
    "## Add percent difference calculations for d1 and d2 vs d0 for each family\n",
    "\n",
    "# UA-rich family\n",
    "\n",
    "ua_d0_score = hamming_comparison.loc[hamming_comparison['motifDesc'] == 'TA/TA-rich_d0_-120_-26'].iloc[0]['score']\n",
    "ua_d1_score = hamming_comparison.loc[hamming_comparison['motifDesc'] == 'TA/TA-rich_d1_-120_-26'].iloc[0]['score']\n",
    "ua_d2_score = hamming_comparison.loc[hamming_comparison['motifDesc'] == 'TA/TA-rich_d2_-120_-26'].iloc[0]['score']\n",
    "\n",
    "print(f\"\\nPercent decrease UA-rich d0 to d1: {(ua_d0_score - ua_d1_score) / ua_d0_score:6.02%}\")\n",
    "print(f\"Percent decrease UA-rich d0 to d2: {(ua_d0_score - ua_d2_score) / ua_d0_score:6.02%}\")\n",
    "print(f\"Percent decrease UA-rich d1 to d2: {(ua_d1_score - ua_d2_score) / ua_d1_score:6.02%}\")\n",
    "\n",
    "\n",
    "# A-rich family\n",
    "\n",
    "a_d0_score = hamming_comparison.loc[hamming_comparison['motifDesc'] == 'A-rich_d0_-25_-16'].iloc[0]['score']\n",
    "a_d1_score = hamming_comparison.loc[hamming_comparison['motifDesc'] == 'A-rich_d1_-25_-16'].iloc[0]['score']\n",
    "a_d2_score = hamming_comparison.loc[hamming_comparison['motifDesc'] == 'A-rich_d2_-25_-16'].iloc[0]['score']\n",
    "\n",
    "print(f\"\\nPercent increase A-rich d0 to d1: {(a_d1_score - a_d0_score) / a_d0_score:6.02%}\")\n",
    "print(f\"Percent increase A-rich d0 to d2: {(a_d2_score - a_d0_score) / a_d0_score:6.02%}\")\n",
    "print(f\"Percent increase A-rich d1 to d2: {(a_d2_score - a_d1_score) / a_d1_score:6.02%}\")\n",
    "\n",
    "\n",
    "# U-rich family upstream\n",
    "\n",
    "u_d0_score = hamming_comparison.loc[hamming_comparison['motifDesc'] == 'T-rich_d0_-15_-6'].iloc[0]['score']\n",
    "u_d1_score = hamming_comparison.loc[hamming_comparison['motifDesc'] == 'T-rich_d1_-15_-6'].iloc[0]['score']\n",
    "u_d2_score = hamming_comparison.loc[hamming_comparison['motifDesc'] == 'T-rich_d2_-15_-6'].iloc[0]['score']\n",
    "\n",
    "print(f\"\\nPercent decrease U-rich d0 to d1: {(u_d0_score - u_d1_score) / u_d0_score:6.02%}\")\n",
    "print(f\"Percent decrease U-rich d0 to d2: {(u_d0_score - u_d2_score) / u_d0_score:6.02%}\")\n",
    "print(f\"Percent decrease U-rich d1 to d2: {(u_d1_score - u_d2_score) / u_d1_score:6.02%}\")\n",
    "\n",
    "\n",
    "# U-rich family upstream\n",
    "\n",
    "u_d0_score = hamming_comparison.loc[hamming_comparison['motifDesc'] == 'T-rich_d0_2_15'].iloc[0]['score']\n",
    "u_d1_score = hamming_comparison.loc[hamming_comparison['motifDesc'] == 'T-rich_d1_2_15'].iloc[0]['score']\n",
    "u_d2_score = hamming_comparison.loc[hamming_comparison['motifDesc'] == 'T-rich_d2_2_15'].iloc[0]['score']\n",
    "\n",
    "print(f\"\\nPercent decrease U-rich d0 to d1: {(u_d0_score - u_d1_score) / u_d0_score:6.02%}\")\n",
    "print(f\"Percent decrease U-rich d0 to d2: {(u_d0_score - u_d2_score) / u_d0_score:6.02%}\")\n",
    "print(f\"Percent decrease U-rich d1 to d2: {(u_d1_score - u_d2_score) / u_d1_score:6.02%}\")\n",
    "\n"
   ]
  },
  {
   "cell_type": "markdown",
   "metadata": {},
   "source": [
    "## Top individual motifs in each region"
   ]
  },
  {
   "cell_type": "code",
   "execution_count": 32,
   "metadata": {},
   "outputs": [
    {
     "data": {
      "image/png": "[encoded data removed]",
      "text/plain": [
       "<Figure size 36x90 with 1 Axes>"
      ]
     },
     "metadata": {
      "needs_background": "light"
     },
     "output_type": "display_data"
    },
    {
     "name": "stdout",
     "output_type": "stream",
     "text": [
      "     motif  frequency     score   conf_lo   conf_hi     family  error_lo\n",
      "95  UGGUGA        767  1.231452  1.297961  1.164943      Other  0.066509\n",
      "93  UGAUGA       1226  1.101517  1.151071  1.051964      Other  0.049554\n",
      "63  GGUGAA        824  1.034300  1.093215  0.975385      Other  0.058915\n",
      "92  UGAAGA       1837  1.009785  1.049763  0.969807      Other  0.039978\n",
      "94  UGGAAA       1174  0.943873  0.988656  0.899090      Other  0.044783\n",
      "62  GGAAGA       1102  0.923759  0.973970  0.873548      Other  0.050211\n",
      "60  GAUGAA       1261  0.916309  0.963118  0.869500      Other  0.046809\n",
      "24  AGAAGG       1078  0.898876  0.941367  0.856386      Other  0.042491\n",
      "61  GGAAAA       1339  0.896613  0.935689  0.857537  A-rich_d2  0.039076\n",
      "57  GAAGAA       2391  0.858065  0.887566  0.828564  A-rich_d2  0.029501\n",
      "1.297961406704842\n"
     ]
    }
   ],
   "source": [
    "motifs.region_barplot(OUTDIR, mot_dis_dir, scer_definitions['distance'][6]['hamming'], sigmots, \n",
    "                      (-250,-121), \"mean\", 95, method = \"hamming\", palette = family_cmap, \n",
    "                      minfreq = int(0.01 * gold_sites), stringent_frequency = True, topn = 10, \n",
    "                      xlim = (0,4), xtickint = 1, verbose = True\n",
    "                     )\n"
   ]
  },
  {
   "cell_type": "code",
   "execution_count": 33,
   "metadata": {},
   "outputs": [
    {
     "data": {
      "image/png": "[encoded data removed]",
      "text/plain": [
       "<Figure size 36x90 with 1 Axes>"
      ]
     },
     "metadata": {
      "needs_background": "light"
     },
     "output_type": "display_data"
    },
    {
     "name": "stdout",
     "output_type": "stream",
     "text": [
      "      motif  frequency     score   conf_lo   conf_hi         family  error_lo\n",
      "83   UAUGUA       2591  3.350811  3.445161  3.256462  TA/TA-rich_d1  0.094349\n",
      "32   AUAUAG       1488  3.347935  3.482143  3.213728  TA/TA-rich_d1  0.134207\n",
      "80   UAUAUA       5055  3.325156  3.384050  3.266262  TA/TA-rich_d0  0.058894\n",
      "73   UACGUA       1029  3.163757  3.298849  3.028665  TA/TA-rich_d2  0.135092\n",
      "30   AUAUAA       2812  3.136340  3.229998  3.042682  TA/TA-rich_d1  0.093658\n",
      "72   UACAUA       2384  3.125033  3.211695  3.038372  TA/TA-rich_d1  0.086662\n",
      "100  UUAUAU       2680  3.098881  3.192436  3.005325  TA/TA-rich_d1  0.093555\n",
      "64   GUAUAU       2146  3.068901  3.175133  2.962669  TA/TA-rich_d1  0.106232\n",
      "33   AUAUAU       3933  3.012139  3.074321  2.949958  TA/TA-rich_d0  0.062182\n",
      "96   UGUAUA       2523  2.995304  3.082180  2.908429  TA/TA-rich_d1  0.086876\n",
      "3.4821426397926474\n"
     ]
    }
   ],
   "source": [
    "motifs.region_barplot(OUTDIR, mot_dis_dir, scer_definitions['distance'][6]['hamming'], sigmots, \n",
    "                      (-120,-26), \"mean\", 95, method = \"hamming\", palette = family_cmap, \n",
    "                      minfreq = int(0.01 * gold_sites), stringent_frequency = True, topn = 10, \n",
    "                      xlim = (0,4), xtickint = 1, verbose = True\n",
    "                     )\n"
   ]
  },
  {
   "cell_type": "code",
   "execution_count": 34,
   "metadata": {},
   "outputs": [
    {
     "data": {
      "image/png": "[encoded data removed]",
      "text/plain": [
       "<Figure size 36x90 with 1 Axes>"
      ]
     },
     "metadata": {
      "needs_background": "light"
     },
     "output_type": "display_data"
    },
    {
     "name": "stdout",
     "output_type": "stream",
     "text": [
      "     motif  frequency     score   conf_lo   conf_hi         family  error_lo\n",
      "80  UAUAUA        815  1.852800  1.956486  1.749115  TA/TA-rich_d0  0.103685\n",
      "33  AUAUAU        678  1.810462  1.920440  1.700484  TA/TA-rich_d0  0.109978\n",
      "83  UAUGUA        420  1.429488  1.591200  1.267775  TA/TA-rich_d1  0.161712\n",
      "96  UGUAUA        394  1.417020  1.579763  1.254278  TA/TA-rich_d1  0.162742\n",
      "38  AUGUAU        323  1.391860  1.567071  1.216650  TA/TA-rich_d1  0.175210\n",
      "72  UACAUA        336  1.365311  1.534581  1.196042  TA/TA-rich_d1  0.169270\n",
      "64  GUAUAU        342  1.360044  1.563008  1.157079  TA/TA-rich_d1  0.202965\n",
      "31  AUAUAC        353  1.280650  1.454941  1.106360  TA/TA-rich_d1  0.174291\n",
      "32  AUAUAG        250  1.267841  1.482248  1.053435  TA/TA-rich_d1  0.214407\n",
      "29  AUACAU        287  1.220135  1.406996  1.033275  TA/TA-rich_d1  0.186861\n",
      "1.9564857191823204\n"
     ]
    }
   ],
   "source": [
    "motifs.region_barplot(OUTDIR, mot_dis_dir, scer_definitions['distance'][6]['hamming'], sigmots, \n",
    "                      (-120,-91), \"mean\", 95, method = \"hamming\", palette = family_cmap, \n",
    "                      minfreq = int(0.01 * gold_sites), stringent_frequency = True, topn = 10, \n",
    "                      xlim = (0,4), xtickint = 1, verbose = True\n",
    "                     )\n"
   ]
  },
  {
   "cell_type": "code",
   "execution_count": 35,
   "metadata": {},
   "outputs": [
    {
     "data": {
      "image/png": "[encoded data removed]",
      "text/plain": [
       "<Figure size 36x90 with 1 Axes>"
      ]
     },
     "metadata": {
      "needs_background": "light"
     },
     "output_type": "display_data"
    },
    {
     "name": "stdout",
     "output_type": "stream",
     "text": [
      "    motif  frequency     score   conf_lo   conf_hi         family  error_lo\n",
      "0  AUAUAG       1261  3.750330  3.895358  3.605301  TA/TA-rich_d1  0.145029\n",
      "1  UAUGUA       2251  3.675634  3.777439  3.573829  TA/TA-rich_d1  0.101805\n",
      "2  UAUAUA       4504  3.565426  3.630327  3.500525  TA/TA-rich_d0  0.064901\n",
      "3  AUAUAA       2447  3.551247  3.648999  3.453496  TA/TA-rich_d1  0.097751\n",
      "4  UAAAUA       2525  3.442880  3.526925  3.358835  TA/TA-rich_d1  0.084045\n",
      "5  UUAUAU       2362  3.440002  3.540074  3.339931  TA/TA-rich_d1  0.100072\n",
      "6  AUGUAA        981  3.426412  3.579255  3.273570  TA/TA-rich_d2  0.152842\n",
      "7  UACGUA        920  3.425741  3.565298  3.286184  TA/TA-rich_d2  0.139557\n",
      "8  UACAUA       2112  3.386728  3.478735  3.294721  TA/TA-rich_d1  0.092007\n",
      "9  AUAUAU       3459  3.222757  3.292066  3.153448  TA/TA-rich_d0  0.069309\n",
      "3.8953584119965536\n"
     ]
    }
   ],
   "source": [
    "motifs.region_barplot(OUTDIR, mot_dis_dir, scer_definitions['distance'][6]['hamming'], sigmots, \n",
    "                      (-90,-26), \"mean\", 95, method = \"hamming\", palette = family_cmap, \n",
    "                      minfreq = int(0.01 * gold_sites), stringent_frequency = True, \n",
    "                      topn = 10, displaylist = ['AUAUAU'],\n",
    "                      xlim = (0,4), xtickint = 1, verbose = True\n",
    "                     )\n"
   ]
  },
  {
   "cell_type": "code",
   "execution_count": 36,
   "metadata": {},
   "outputs": [
    {
     "data": {
      "image/png": "[encoded data removed]",
      "text/plain": [
       "<Figure size 36x90 with 1 Axes>"
      ]
     },
     "metadata": {
      "needs_background": "light"
     },
     "output_type": "display_data"
    },
    {
     "name": "stdout",
     "output_type": "stream",
     "text": [
      "    motif  frequency     score   conf_lo   conf_hi         family  error_lo\n",
      "0  UAAUAA        458  3.469267  3.631408  3.307125      A-rich_d2  0.162142\n",
      "1  AAUAAU        391  3.340221  3.519748  3.160695      A-rich_d2  0.179526\n",
      "2  AUAAUA        438  3.156321  3.318220  2.994423      A-rich_d2  0.161898\n",
      "3  UAUAAU        365  3.014635  3.191244  2.838026  TA/TA-rich_d2  0.176609\n",
      "4  AUGUAA        126  2.971141  3.424638  2.517644  TA/TA-rich_d2  0.453497\n",
      "5  AAUAAA        498  2.958658  3.125551  2.791765      A-rich_d1  0.166893\n",
      "6  UAUAAA        390  2.910913  3.090410  2.731415  TA/TA-rich_d1  0.179498\n",
      "7  AUAUAA        370  2.898480  3.103067  2.693894  TA/TA-rich_d1  0.204586\n",
      "8  AUAAAA        494  2.892506  3.045476  2.739537      A-rich_d1  0.152969\n",
      "9  AAAAAA        352  2.144715  2.286509  2.002922      A-rich_d0  0.141794\n",
      "3.6314083782617557\n"
     ]
    }
   ],
   "source": [
    "motifs.region_barplot(OUTDIR, mot_dis_dir, scer_definitions['distance'][6]['hamming'], sigmots, \n",
    "                      (-25,-16), \"mean\", 95, method = \"hamming\", palette = family_cmap, \n",
    "                      minfreq = int(0.01 * gold_sites), stringent_frequency = True, \n",
    "                      topn = 10, displaylist = ['AAAAAA'],\n",
    "                      xlim = (0,4), xtickint = 1, verbose = True\n",
    "                     )\n"
   ]
  },
  {
   "cell_type": "code",
   "execution_count": 37,
   "metadata": {},
   "outputs": [
    {
     "data": {
      "image/png": "[encoded data removed]",
      "text/plain": [
       "<Figure size 36x90 with 1 Axes>"
      ]
     },
     "metadata": {
      "needs_background": "light"
     },
     "output_type": "display_data"
    },
    {
     "name": "stdout",
     "output_type": "stream",
     "text": [
      "      motif  frequency     score   conf_lo   conf_hi     family  error_lo\n",
      "136  UUUUUU        750  2.926032  3.022189  2.829876  T-rich_d0  0.096157\n",
      "44   AUUUUU        678  2.565348  2.697331  2.433365  T-rich_d1  0.131983\n",
      "53   CUUUUU        532  2.482960  2.636475  2.329446  T-rich_d1  0.153514\n",
      "18   AAUUUU        363  2.389567  2.527147  2.251987  T-rich_d2  0.137580\n",
      "90   UCUUUU        428  2.378561  2.529555  2.227567  T-rich_d1  0.150994\n",
      "66   GUUUUU        314  2.344282  2.517214  2.171350  T-rich_d1  0.172932\n",
      "86   UAUUUU        560  2.327673  2.454843  2.200503  T-rich_d1  0.127170\n",
      "108  UUCUUU        401  2.216774  2.370724  2.062824  T-rich_d1  0.153950\n",
      "103  UUAUUU        438  2.110887  2.238526  1.983248  T-rich_d1  0.127639\n",
      "97   UGUUUU        270  2.071377  2.250430  1.892323  T-rich_d1  0.179054\n",
      "3.0221889896095426\n"
     ]
    }
   ],
   "source": [
    "motifs.region_barplot(OUTDIR, mot_dis_dir, scer_definitions['distance'][6]['hamming'], sigmots, \n",
    "                      (-15,-6), \"mean\", 95, method = \"hamming\", palette = family_cmap, \n",
    "                      minfreq = int(0.01 * gold_sites), stringent_frequency = True, topn = 10, \n",
    "                      xlim = (0,4), xtickint = 1, verbose = True\n",
    "                     )\n"
   ]
  },
  {
   "cell_type": "code",
   "execution_count": 38,
   "metadata": {},
   "outputs": [
    {
     "data": {
      "image/png": "[encoded data removed]",
      "text/plain": [
       "<Figure size 36x90 with 1 Axes>"
      ]
     },
     "metadata": {
      "needs_background": "light"
     },
     "output_type": "display_data"
    },
    {
     "name": "stdout",
     "output_type": "stream",
     "text": [
      "      motif  frequency     score   conf_lo   conf_hi     family  error_lo\n",
      "128  UUUUCA        249  5.964963  6.248777  5.681148  T-rich_d2  0.283814\n",
      "87   UCAUUU        171  5.796475  6.154598  5.438353  T-rich_d2  0.358123\n",
      "118  UUUCAU        175  5.642589  6.002484  5.282695  T-rich_d2  0.359894\n",
      "117  UUUCAA        149  5.634998  5.990503  5.279492      Other  0.355506\n",
      "125  UUUUAA        199  5.544660  5.848741  5.240580  T-rich_d2  0.304081\n",
      "104  UUCAUU        182  5.491166  5.884536  5.097797  T-rich_d2  0.393369\n",
      "133  UUUUUA        382  5.357652  5.587350  5.127955  T-rich_d1  0.229698\n",
      "131  UUUUGA        131  4.990416  5.395528  4.585304  T-rich_d2  0.405112\n",
      "103  UUAUUU        342  4.948180  5.169002  4.727358  T-rich_d1  0.220822\n",
      "126  UUUUAC        146  4.947583  5.327015  4.568150  T-rich_d2  0.379432\n",
      "6.248777206169091\n"
     ]
    }
   ],
   "source": [
    "motifs.region_barplot(OUTDIR, mot_dis_dir, scer_definitions['distance'][6]['hamming'], sigmots, \n",
    "                      (-5,1), \"mean\", 95, method = \"hamming\", palette = family_cmap, \n",
    "                      minfreq = int(0.01 * gold_sites), stringent_frequency = True, topn = 10, \n",
    "                      xlim = (0,7), xtickint = 1, verbose = True\n",
    "                     )\n"
   ]
  },
  {
   "cell_type": "code",
   "execution_count": 39,
   "metadata": {},
   "outputs": [
    {
     "data": {
      "image/png": "[encoded data removed]",
      "text/plain": [
       "<Figure size 36x90 with 1 Axes>"
      ]
     },
     "metadata": {
      "needs_background": "light"
     },
     "output_type": "display_data"
    },
    {
     "name": "stdout",
     "output_type": "stream",
     "text": [
      "      motif  frequency     score   conf_lo   conf_hi     family  error_lo\n",
      "136  UUUUUU       1014  2.672309  2.733175  2.611442  T-rich_d0  0.060866\n",
      "134  UUUUUC        750  2.305883  2.397537  2.214230  T-rich_d1  0.091654\n",
      "130  UUUUCU        645  2.231515  2.331989  2.131040  T-rich_d1  0.100474\n",
      "53   CUUUUU        653  2.080366  2.187196  1.973535  T-rich_d1  0.106830\n",
      "121  UUUCUU        626  2.062987  2.167268  1.958706  T-rich_d1  0.104281\n",
      "90   UCUUUU        559  1.994954  2.105981  1.883926  T-rich_d1  0.111028\n",
      "97   UGUUUU        302  1.981190  2.127493  1.834887  T-rich_d1  0.146303\n",
      "108  UUCUUU        552  1.981044  2.093534  1.868554  T-rich_d1  0.112490\n",
      "112  UUGUUU        291  1.968054  2.108668  1.827439  T-rich_d1  0.140614\n",
      "124  UUUGUU        302  1.965644  2.112807  1.818481  T-rich_d1  0.147163\n",
      "2.7331749597231405\n"
     ]
    }
   ],
   "source": [
    "motifs.region_barplot(OUTDIR, mot_dis_dir, scer_definitions['distance'][6]['hamming'], sigmots, \n",
    "                      (2,15), \"mean\", 95, method = \"hamming\", palette = family_cmap, \n",
    "                      minfreq = int(0.01 * gold_sites), stringent_frequency = True, topn = 10, \n",
    "                      xlim = (0,4), xtickint = 1, verbose = True\n",
    "                     )\n"
   ]
  },
  {
   "cell_type": "markdown",
   "metadata": {},
   "source": [
    "## Motif crosstalk"
   ]
  },
  {
   "cell_type": "markdown",
   "metadata": {},
   "source": [
    "#### Prepare motif location information"
   ]
  },
  {
   "cell_type": "code",
   "execution_count": 40,
   "metadata": {},
   "outputs": [],
   "source": [
    "gold_motifs = {\n",
    "    'EE' : {\n",
    "        'motifs' : [m for m in sigmots if (scer_definitions['distance'][6]['hamming'].get(m, 'Other') in ['TA/TA-rich_d0','TA/TA-rich_d1'])],\n",
    "        'region' : (-120,-26),\n",
    "    },\n",
    "    'PE' : {\n",
    "        'motifs' : [m for m in sigmots if (scer_definitions['distance'][6]['hamming'].get(m, 'Other') in ['A-rich_d0','A-rich_d1'])],\n",
    "        'region' : (-25,-16),\n",
    "    },\n",
    "    'UF' : {\n",
    "        'motifs' : [m for m in sigmots if (scer_definitions['distance'][6]['hamming'].get(m, 'Other') in ['T-rich_d0','T-rich_d1'])],\n",
    "        'region' : (-15,-6),\n",
    "    },\n",
    "    'DF' : {\n",
    "        'motifs' : [m for m in sigmots if (scer_definitions['distance'][6]['hamming'].get(m, 'Other') in ['T-rich_d0','T-rich_d1'])],\n",
    "        'region' : (2,15),\n",
    "    },\n",
    "}\n"
   ]
  },
  {
   "cell_type": "code",
   "execution_count": 41,
   "metadata": {},
   "outputs": [
    {
     "name": "stdout",
     "output_type": "stream",
     "text": [
      "(11673, 20)\n"
     ]
    }
   ],
   "source": [
    "gold_data = pd.read_csv(os.path.join(RESOURCES, \"scer_golden_dist5.polya_comprehensive.txt\"), sep = \"\\t\")\n",
    "\n",
    "gold_data['label']      = gold_data.apply(lambda row : f'{row.name:06d}:{row.chrom}:{row.start}:{row.strand}', axis = 1)\n",
    "gold_data['sequence']   = gold_data['sequence'].apply(lambda x : x[int((len(x)-500)/2):int((len(x)+500)/2)].upper())\n",
    "gold_data['idx_ctrclv'] = 250\n",
    "\n",
    "print(gold_data.shape)\n"
   ]
  },
  {
   "cell_type": "code",
   "execution_count": 42,
   "metadata": {},
   "outputs": [],
   "source": [
    "gold_data['idxs_EE'] = gold_data['sequence'].apply(lambda x : motifs.count_motifs(x, gold_motifs['EE']['motifs'], overlapping = False, preference = 'max', method = 'equal', count_only = False, index_only = True))\n",
    "gold_data['idxs_PE'] = gold_data['sequence'].apply(lambda x : motifs.count_motifs(x, gold_motifs['PE']['motifs'], overlapping = False, preference = 'max', method = 'equal', count_only = False, index_only = True))\n",
    "gold_data['idxs_UF'] = gold_data['sequence'].apply(lambda x : motifs.count_motifs(x, gold_motifs['UF']['motifs'], overlapping = False, preference = 'max', method = 'equal', count_only = False, index_only = True))\n",
    "gold_data['idxs_DF'] = gold_data['sequence'].apply(lambda x : motifs.count_motifs(x, gold_motifs['DF']['motifs'], overlapping = False, preference = 'min', method = 'equal', count_only = False, index_only = True))\n"
   ]
  },
  {
   "cell_type": "markdown",
   "metadata": {},
   "source": [
    "#### Number of upstream efficiency elements (UA-rich motifs)"
   ]
  },
  {
   "cell_type": "code",
   "execution_count": 43,
   "metadata": {},
   "outputs": [
    {
     "name": "stdout",
     "output_type": "stream",
     "text": [
      "2     3202\n",
      "3     3143\n",
      "1     1837\n",
      "4     1770\n",
      "5      779\n",
      "0      530\n",
      "6      261\n",
      "7       91\n",
      "8       30\n",
      "9       19\n",
      "10       9\n",
      "11       2\n",
      "Name: count_EE, dtype: int64\n"
     ]
    }
   ],
   "source": [
    "gold_data['count_EE'] = gold_data.apply(lambda row : np.sum([((row['idx_ctrclv']-120) <= x < (row['idx_ctrclv']-25)) for x in row['idxs_EE']]), axis = 1)\n",
    "print(gold_data['count_EE'].value_counts())\n"
   ]
  },
  {
   "cell_type": "code",
   "execution_count": 44,
   "metadata": {
    "scrolled": false
   },
   "outputs": [],
   "source": [
    "ee_sum = gold_data['count_EE'].copy()\n",
    "ee_sum[ee_sum >= 5] = 5\n",
    "\n",
    "ee_sum = ee_sum.value_counts().reset_index().rename(columns = {'index' : 'number_EE', 'count_EE' : 'count'}).sort_values('number_EE')\n",
    "\n",
    "ee_sum['prop']  = ee_sum['count'] / ee_sum['count'].sum()\n",
    "ee_sum['label'] = ee_sum['number_EE'].astype(int).astype(str) + \" (\" + (ee_sum['prop']*100).round(1).astype(str) + \"%)\"\n"
   ]
  },
  {
   "cell_type": "code",
   "execution_count": 45,
   "metadata": {
    "scrolled": false
   },
   "outputs": [
    {
     "name": "stderr",
     "output_type": "stream",
     "text": [
      "notebook_setup.py:6: MatplotlibDeprecationWarning: normalize=None does not normalize if the sum is less than 1 but this behavior is deprecated since 3.3 until two minor releases later. After the deprecation period the default value will be normalize=True. To prevent normalization pass normalize=False \n",
      "  import seaborn as sns\n"
     ]
    },
    {
     "data": {
      "image/png": "[encoded data removed]",
      "text/plain": [
       "<Figure size 72x72 with 1 Axes>"
      ]
     },
     "metadata": {},
     "output_type": "display_data"
    },
    {
     "name": "stdout",
     "output_type": "stream",
     "text": [
      "Corresponding data:\n"
     ]
    },
    {
     "data": {
      "text/html": [
       "<div>\n",
       "<style scoped>\n",
       "    .dataframe tbody tr th:only-of-type {\n",
       "        vertical-align: middle;\n",
       "    }\n",
       "\n",
       "    .dataframe tbody tr th {\n",
       "        vertical-align: top;\n",
       "    }\n",
       "\n",
       "    .dataframe thead th {\n",
       "        text-align: right;\n",
       "    }\n",
       "</style>\n",
       "<table border=\"1\" class=\"dataframe\">\n",
       "  <thead>\n",
       "    <tr style=\"text-align: right;\">\n",
       "      <th></th>\n",
       "      <th>number_EE</th>\n",
       "      <th>count</th>\n",
       "      <th>prop</th>\n",
       "      <th>label</th>\n",
       "    </tr>\n",
       "  </thead>\n",
       "  <tbody>\n",
       "    <tr>\n",
       "      <td>5</td>\n",
       "      <td>0</td>\n",
       "      <td>530</td>\n",
       "      <td>0.045404</td>\n",
       "      <td>0 (4.5%)</td>\n",
       "    </tr>\n",
       "    <tr>\n",
       "      <td>2</td>\n",
       "      <td>1</td>\n",
       "      <td>1837</td>\n",
       "      <td>0.157372</td>\n",
       "      <td>1 (15.7%)</td>\n",
       "    </tr>\n",
       "    <tr>\n",
       "      <td>0</td>\n",
       "      <td>2</td>\n",
       "      <td>3202</td>\n",
       "      <td>0.274308</td>\n",
       "      <td>2 (27.4%)</td>\n",
       "    </tr>\n",
       "    <tr>\n",
       "      <td>1</td>\n",
       "      <td>3</td>\n",
       "      <td>3143</td>\n",
       "      <td>0.269254</td>\n",
       "      <td>3 (26.9%)</td>\n",
       "    </tr>\n",
       "    <tr>\n",
       "      <td>3</td>\n",
       "      <td>4</td>\n",
       "      <td>1770</td>\n",
       "      <td>0.151632</td>\n",
       "      <td>4 (15.2%)</td>\n",
       "    </tr>\n",
       "    <tr>\n",
       "      <td>4</td>\n",
       "      <td>5</td>\n",
       "      <td>1191</td>\n",
       "      <td>0.102030</td>\n",
       "      <td>5 (10.2%)</td>\n",
       "    </tr>\n",
       "  </tbody>\n",
       "</table>\n",
       "</div>"
      ],
      "text/plain": [
       "   number_EE  count      prop      label\n",
       "5          0    530  0.045404   0 (4.5%)\n",
       "2          1   1837  0.157372  1 (15.7%)\n",
       "0          2   3202  0.274308  2 (27.4%)\n",
       "1          3   3143  0.269254  3 (26.9%)\n",
       "3          4   1770  0.151632  4 (15.2%)\n",
       "4          5   1191  0.102030  5 (10.2%)"
      ]
     },
     "execution_count": 45,
     "metadata": {},
     "output_type": "execute_result"
    }
   ],
   "source": [
    "fig,ax = plt.subplots(1,1, figsize = (1,1))\n",
    "\n",
    "wedges, texts = plt.pie(ee_sum['prop'], \n",
    "                        labels = ee_sum['label'],\n",
    "                        startangle = 90, counterclock = False,\n",
    "                        wedgeprops = {'linewidth' : 0.5, 'edgecolor' : 'black'}\n",
    "                       )\n",
    "\n",
    "ax.legend(wedges, ee_sum['label'],\n",
    "          title=\"\",\n",
    "          loc=\"center left\",\n",
    "          bbox_to_anchor=(1, 0, 0.5, 1))\n",
    "\n",
    "plt.savefig(os.path.join(OUTDIR, 'percent_sites_multiple_ee.stringent.pie.svg'), format = 'svg', dpi = 600, transparent = True)\n",
    "plt.show()\n",
    "\n",
    "\n",
    "print(\"Corresponding data:\")\n",
    "ee_sum\n"
   ]
  },
  {
   "cell_type": "markdown",
   "metadata": {},
   "source": [
    "### Analysis of motif crosstalk between degenerate *cis*-elements"
   ]
  },
  {
   "cell_type": "code",
   "execution_count": 46,
   "metadata": {},
   "outputs": [
    {
     "name": "stdout",
     "output_type": "stream",
     "text": [
      "(11673, 36)\n",
      "PE & EE: (1732, 37)\n",
      "PE & UF: (303, 37)\n",
      "PE & DF: (505, 37)\n",
      "EE & UE: (9306, 37)\n"
     ]
    }
   ],
   "source": [
    "gold_data['idx_UE'] = gold_data.apply(lambda row : motifs.select_motifs(row['idxs_EE'], index = 'second_last', region = gold_motifs['EE']['region'], relative = True, maxclv = row['idx_ctrclv']), axis = 1)\n",
    "gold_data['idx_EE'] = gold_data.apply(lambda row : motifs.select_motifs(row['idxs_EE'], index = 'last',        region = gold_motifs['EE']['region'], relative = True, maxclv = row['idx_ctrclv']), axis = 1)\n",
    "gold_data['idx_PE'] = gold_data.apply(lambda row : motifs.select_motifs(row['idxs_PE'], index = 'last',        region = gold_motifs['PE']['region'], relative = True, maxclv = row['idx_ctrclv']), axis = 1)\n",
    "gold_data['idx_UF'] = gold_data.apply(lambda row : motifs.select_motifs(row['idxs_UF'], index = 'last',        region = gold_motifs['UF']['region'], relative = True, maxclv = row['idx_ctrclv']), axis = 1)\n",
    "gold_data['idx_DF'] = gold_data.apply(lambda row : motifs.select_motifs(row['idxs_DF'], index = 'first',       region = gold_motifs['DF']['region'], relative = True, maxclv = row['idx_ctrclv']), axis = 1)\n",
    "\n",
    "gold_data['testKey'] = gold_data.apply(lambda row: f'{row.name:06d}_{row[\"chrom\"]}_{row[\"start\"]}_{row[\"strand\"]}', axis = 1)\n",
    "\n",
    "gold_data['testKey_UE'] = gold_data.apply(lambda row: f'{row[\"testKey\"]}|{row[\"idx_UE\"]-row[\"idx_ctrclv\"]}', axis = 1)\n",
    "gold_data['testKey_EE'] = gold_data.apply(lambda row: f'{row[\"testKey\"]}|{row[\"idx_EE\"]-row[\"idx_ctrclv\"]}', axis = 1)\n",
    "gold_data['testKey_PE'] = gold_data.apply(lambda row: f'{row[\"testKey\"]}|{row[\"idx_PE\"]-row[\"idx_ctrclv\"]}', axis = 1)\n",
    "gold_data['testKey_UF'] = gold_data.apply(lambda row: f'{row[\"testKey\"]}|{row[\"idx_UF\"]-row[\"idx_ctrclv\"]}', axis = 1)\n",
    "gold_data['testKey_DF'] = gold_data.apply(lambda row: f'{row[\"testKey\"]}|{row[\"idx_DF\"]-row[\"idx_ctrclv\"]}', axis = 1)\n",
    "\n",
    "gold_pe_ee = gold_data.loc[~gold_data['idx_PE'].isna() & ~gold_data['idx_EE'].isna()].copy()\n",
    "gold_pe_uf = gold_data.loc[~gold_data['idx_PE'].isna() & ~gold_data['idx_UF'].isna()].copy()\n",
    "gold_pe_df = gold_data.loc[~gold_data['idx_PE'].isna() & ~gold_data['idx_DF'].isna()].copy()\n",
    "\n",
    "gold_pe_ee['dist_PE_EE'] = gold_pe_ee['idx_EE'] - gold_pe_ee['idx_PE']\n",
    "gold_pe_uf['dist_PE_UF'] = gold_pe_uf['idx_UF'] - gold_pe_uf['idx_PE']\n",
    "gold_pe_df['dist_PE_DF'] = gold_pe_df['idx_DF'] - gold_pe_df['idx_PE']\n",
    "\n",
    "gold_ee_ue = gold_data.loc[~gold_data['idx_EE'].isna() & ~gold_data['idx_UE'].isna() & (gold_data['idx_EE'] != gold_data['idx_UE'])].copy()\n",
    "\n",
    "gold_ee_ue['dist_EE_UE'] = gold_ee_ue['idx_UE'] - gold_ee_ue['idx_EE']\n",
    "\n",
    "print(gold_data.shape)\n",
    "print(\"PE & EE:\", gold_pe_ee.shape)\n",
    "print(\"PE & UF:\", gold_pe_uf.shape)\n",
    "print(\"PE & DF:\", gold_pe_df.shape)\n",
    "print(\"EE & UE:\", gold_ee_ue.shape)\n"
   ]
  },
  {
   "cell_type": "code",
   "execution_count": 47,
   "metadata": {},
   "outputs": [],
   "source": [
    "single_panel_width_row1 = 0.85\n",
    "single_panel_width_row2 = 1.00\n",
    "double_panel_width = (single_panel_width_row1 * 2) + 0.5\n",
    "single_panel_height = 1\n",
    "upper_lower_panel_ratios = [2, 1]\n",
    "\n",
    "ee_mfams = ['hamming_TA/TA-rich_d0', 'hamming_TA/TA-rich_d1']\n",
    "pe_mfams = ['hamming_A-rich_d0', 'hamming_A-rich_d1']\n",
    "uf_mfams = ['hamming_T-rich_d0', 'hamming_T-rich_d1']\n",
    "df_mfams = ['hamming_T-rich_d0', 'hamming_T-rich_d1']\n"
   ]
  },
  {
   "cell_type": "markdown",
   "metadata": {},
   "source": [
    "#### Crosstalk between the efficiency and positioning elements"
   ]
  },
  {
   "cell_type": "code",
   "execution_count": 48,
   "metadata": {
    "scrolled": true
   },
   "outputs": [
    {
     "name": "stdout",
     "output_type": "stream",
     "text": [
      "Beginning Motif-Motif distance compilation for: ['hamming_TA/TA-rich_d0', 'hamming_TA/TA-rich_d1'] ['hamming_A-rich_d0', 'hamming_A-rich_d1']\n",
      "down_EE dist_PE_EE idx_EE idx_PE\n",
      "DISTANCE RANGE: -102 -1\n",
      "-102\tFreq =\t1\t1\n",
      "-101 \tFreq = 0\t0\n",
      "-100 \tFreq = 0\t0\n",
      "-99\tFreq =\t1\t1\n",
      "-98\tFreq =\t2\t2\n",
      "-97\tFreq =\t2\t2\n",
      "-96\tFreq =\t2\t2\n",
      "-95\tFreq =\t1\t1\n",
      "-94\tFreq =\t1\t1\n",
      "-93\tFreq =\t1\t1\n",
      "-92\tFreq =\t5\t5\n",
      "-91\tFreq =\t1\t1\n",
      "-90\tFreq =\t1\t1\n",
      "-89\tFreq =\t1\t1\n",
      "-88\tFreq =\t2\t2\n",
      "-87\tFreq =\t1\t1\n",
      "-86\tFreq =\t2\t2\n",
      "-85\tFreq =\t2\t2\n",
      "-84\tFreq =\t1\t1\n",
      "-83\tFreq =\t1\t1\n",
      "-82\tFreq =\t1\t1\n",
      "-81\tFreq =\t2\t2\n",
      "-80\tFreq =\t1\t1\n",
      "-79\tFreq =\t2\t2\n",
      "-78\tFreq =\t2\t2\n",
      "-77\tFreq =\t1\t1\n",
      "-76\tFreq =\t2\t2\n",
      "-75 \tFreq = 0\t0\n",
      "-74\tFreq =\t2\t2\n",
      "-73 \tFreq = 0\t0\n",
      "-72\tFreq =\t2\t2\n",
      "-71\tFreq =\t2\t2\n",
      "-70\tFreq =\t2\t2\n",
      "-69\tFreq =\t3\t3\n",
      "-68\tFreq =\t2\t2\n",
      "-67\tFreq =\t5\t5\n",
      "-66\tFreq =\t3\t3\n",
      "-65\tFreq =\t8\t8\n",
      "-64\tFreq =\t5\t5\n",
      "-63\tFreq =\t2\t2\n",
      "-62\tFreq =\t5\t5\n",
      "-61\tFreq =\t9\t9\n",
      "-60\tFreq =\t6\t6\n",
      "-59\tFreq =\t5\t5\n",
      "-58\tFreq =\t5\t5\n",
      "-57\tFreq =\t4\t4\n",
      "-56\tFreq =\t9\t9\n",
      "-55\tFreq =\t3\t3\n",
      "-54\tFreq =\t13\t13\n",
      "-53\tFreq =\t3\t3\n",
      "-52\tFreq =\t11\t11\n",
      "-51\tFreq =\t9\t9\n",
      "-50\tFreq =\t6\t6\n",
      "-49\tFreq =\t5\t5\n",
      "-48\tFreq =\t13\t13\n",
      "-47\tFreq =\t7\t7\n",
      "-46\tFreq =\t3\t3\n",
      "-45\tFreq =\t9\t9\n",
      "-44\tFreq =\t15\t15\n",
      "-43\tFreq =\t6\t6\n",
      "-42\tFreq =\t7\t7\n",
      "-41\tFreq =\t15\t15\n",
      "-40\tFreq =\t7\t7\n",
      "-39\tFreq =\t11\t11\n",
      "-38\tFreq =\t14\t14\n",
      "-37\tFreq =\t19\t19\n",
      "-36\tFreq =\t22\t22\n",
      "-35\tFreq =\t14\t14\n",
      "-34\tFreq =\t17\t17\n",
      "-33\tFreq =\t28\t28\n",
      "-32\tFreq =\t14\t14\n",
      "-31\tFreq =\t27\t27\n",
      "-30\tFreq =\t15\t15\n",
      "-29\tFreq =\t21\t21\n",
      "-28\tFreq =\t23\t23\n",
      "-27\tFreq =\t25\t25\n",
      "-26\tFreq =\t32\t32\n",
      "-25\tFreq =\t32\t32\n",
      "-24\tFreq =\t53\t53\n",
      "-23\tFreq =\t53\t53\n",
      "-22\tFreq =\t39\t39\n",
      "-21\tFreq =\t39\t39\n",
      "-20\tFreq =\t54\t54\n",
      "-19\tFreq =\t55\t55\n",
      "-18\tFreq =\t51\t51\n",
      "-17\tFreq =\t56\t56\n",
      "-16\tFreq =\t64\t64\n",
      "-15\tFreq =\t57\t57\n",
      "-14\tFreq =\t60\t60\n",
      "-13\tFreq =\t69\t69\n",
      "-12\tFreq =\t75\t75\n",
      "-11\tFreq =\t75\t75\n",
      "-10\tFreq =\t64\t64\n",
      "-9\tFreq =\t62\t62\n",
      "-8\tFreq =\t63\t63\n",
      "-7\tFreq =\t41\t41\n",
      "-6\tFreq =\t28\t28\n",
      "-5\tFreq =\t41\t41\n",
      "-4\tFreq =\t15\t15\n",
      "-3\tFreq =\t27\t27\n",
      "-2\tFreq =\t3\t3\n",
      "-1\tFreq =\t24\t24\n"
     ]
    }
   ],
   "source": [
    "fd_ee_pe = motifs.relative_position_motif_to_motif_importance(ee_mfams, pe_mfams, 'EE','PE',\n",
    "                                                              'dist_PE_EE', 'idx_EE', 'idx_PE', \n",
    "                                                              'down_EE', \n",
    "                                                              mfam_importance[species][modeltype][config], \n",
    "                                                              gold_pe_ee)\n"
   ]
  },
  {
   "cell_type": "code",
   "execution_count": 49,
   "metadata": {
    "scrolled": true
   },
   "outputs": [
    {
     "name": "stdout",
     "output_type": "stream",
     "text": [
      "Beginning frequency and score tabulation using: dist_PE_EE\n",
      "Distance range covered: -102 -1\n",
      "EE\n",
      "(-22, 23.0)\n",
      "(-21, 25.0)\n",
      "(-20, 32.0)\n",
      "(-19, 32.0)\n",
      "(-18, 53.0)\n",
      "(-17, 53.0)\n",
      "(-16, 39.0)\n",
      "(-15, 39.0)\n",
      "(-14, 54.0)\n",
      "(-13, 55.0)\n",
      "(-12, 51.0)\n",
      "(-11, 56.0)\n",
      "(-10, 64.0)\n",
      "(-9, 57.0)\n",
      "(-8, 60.0)\n",
      "(-7, 69.0)\n",
      "(-6, 75.0)\n",
      "(-5, 75.0)\n",
      "(-4, 64.0)\n",
      "(-3, 62.0)\n",
      "(-2, 63.0)\n",
      "(-1, 41.0)\n",
      "(0, 28.0)\n",
      "(1, 41.0)\n",
      "(2, 15.0)\n",
      "(-22, 23.0)\n",
      "(-21, 25.0)\n",
      "(-20, 32.0)\n",
      "(-19, 32.0)\n",
      "(-18, 53.0)\n",
      "(-17, 53.0)\n",
      "(-16, 39.0)\n",
      "(-15, 39.0)\n",
      "(-14, 54.0)\n",
      "(-13, 55.0)\n",
      "(-12, 51.0)\n",
      "(-11, 56.0)\n",
      "(-10, 64.0)\n",
      "(-9, 57.0)\n",
      "(-8, 60.0)\n",
      "(-7, 69.0)\n",
      "(-6, 75.0)\n",
      "(-5, 75.0)\n",
      "(-4, 64.0)\n",
      "(-3, 62.0)\n",
      "(-2, 63.0)\n",
      "(-1, 41.0)\n",
      "(0, 28.0)\n",
      "(1, 41.0)\n",
      "(2, 15.0)\n",
      "Peak score: 4.876169662708503 @ position -18\n",
      "Mean score: 3.6696652503648095\n",
      "Peak frequency: 75.0 @ position -6\n",
      "PE\n",
      "(-22, 23.0)\n",
      "(-21, 25.0)\n",
      "(-20, 32.0)\n",
      "(-19, 32.0)\n",
      "(-18, 53.0)\n",
      "(-17, 53.0)\n",
      "(-16, 39.0)\n",
      "(-15, 39.0)\n",
      "(-14, 54.0)\n",
      "(-13, 55.0)\n",
      "(-12, 51.0)\n",
      "(-11, 56.0)\n",
      "(-10, 64.0)\n",
      "(-9, 57.0)\n",
      "(-8, 60.0)\n",
      "(-7, 69.0)\n",
      "(-6, 75.0)\n",
      "(-5, 75.0)\n",
      "(-4, 64.0)\n",
      "(-3, 62.0)\n",
      "(-2, 63.0)\n",
      "(-1, 41.0)\n",
      "(0, 28.0)\n",
      "(1, 41.0)\n",
      "(2, 15.0)\n",
      "(-22, 23.0)\n",
      "(-21, 25.0)\n",
      "(-20, 32.0)\n",
      "(-19, 32.0)\n",
      "(-18, 53.0)\n",
      "(-17, 53.0)\n",
      "(-16, 39.0)\n",
      "(-15, 39.0)\n",
      "(-14, 54.0)\n",
      "(-13, 55.0)\n",
      "(-12, 51.0)\n",
      "(-11, 56.0)\n",
      "(-10, 64.0)\n",
      "(-9, 57.0)\n",
      "(-8, 60.0)\n",
      "(-7, 69.0)\n",
      "(-6, 75.0)\n",
      "(-5, 75.0)\n",
      "(-4, 64.0)\n",
      "(-3, 62.0)\n",
      "(-2, 63.0)\n",
      "(-1, 41.0)\n",
      "(0, 28.0)\n",
      "(1, 41.0)\n",
      "(2, 15.0)\n",
      "Peak score: 3.389727246781289 @ position -2\n",
      "Mean score: 2.705344426122472\n",
      "Peak frequency: 75.0 @ position -6\n"
     ]
    },
    {
     "data": {
      "image/png": "[encoded data removed]",
      "text/plain": [
       "<Figure size 158.4x72 with 4 Axes>"
      ]
     },
     "metadata": {
      "needs_background": "light"
     },
     "output_type": "display_data"
    }
   ],
   "source": [
    "ee_pe_inputs = motifs.tabulate_motif_motif_distances(fd_ee_pe, gold_pe_ee, 'dist_PE_EE', 'EE', 'PE', overfill = None, flip = False, return_region = \"neg\")\n",
    "\n",
    "motifs.plot_motif_motif_distances('mean', ee_pe_inputs, ['EE','PE'], \n",
    "                           'distance_ee_pe.positive', OUTDIR, 'gray', 1,\n",
    "                           double_panel_width, single_panel_height, upper_lower_panel_ratios,\n",
    "                           (-20,0), 5, (0,150), 50, (0,6), 2)\n"
   ]
  },
  {
   "cell_type": "markdown",
   "metadata": {},
   "source": [
    "#### Crosstalk between the positioning element and upstream flanking U-rich elements"
   ]
  },
  {
   "cell_type": "code",
   "execution_count": 50,
   "metadata": {
    "scrolled": true
   },
   "outputs": [
    {
     "name": "stdout",
     "output_type": "stream",
     "text": [
      "Beginning Motif-Motif distance compilation for: ['hamming_A-rich_d0', 'hamming_A-rich_d1'] ['hamming_T-rich_d0', 'hamming_T-rich_d1']\n",
      "down_PE dist_PE_UF idx_PE idx_UF\n",
      "DISTANCE RANGE: 5 19\n",
      "5\tFreq =\t11\t11\n",
      "6\tFreq =\t24\t24\n",
      "7\tFreq =\t21\t21\n",
      "8\tFreq =\t21\t21\n",
      "9\tFreq =\t24\t24\n",
      "10\tFreq =\t30\t30\n",
      "11\tFreq =\t37\t37\n",
      "12\tFreq =\t29\t29\n",
      "13\tFreq =\t25\t25\n",
      "14\tFreq =\t27\t27\n",
      "15\tFreq =\t14\t14\n",
      "16\tFreq =\t14\t14\n",
      "17\tFreq =\t11\t11\n",
      "18\tFreq =\t5\t5\n",
      "19\tFreq =\t10\t10\n"
     ]
    }
   ],
   "source": [
    "fd_pe_uf = motifs.relative_position_motif_to_motif_importance(pe_mfams, uf_mfams, 'PE', 'UF',\n",
    "                                                              'dist_PE_UF', 'idx_PE', 'idx_UF', \n",
    "                                                              'down_PE', \n",
    "                                                              mfam_importance[species][modeltype][config], \n",
    "                                                              gold_pe_uf)\n"
   ]
  },
  {
   "cell_type": "code",
   "execution_count": 51,
   "metadata": {
    "scrolled": true
   },
   "outputs": [
    {
     "name": "stdout",
     "output_type": "stream",
     "text": [
      "Beginning frequency and score tabulation using: dist_PE_UF\n",
      "Distance range covered: 5 19\n",
      "PE\n",
      "(0.0, 24.0)\n",
      "(1.0, 21.0)\n",
      "(2.0, 21.0)\n",
      "(3.0, 24.0)\n",
      "(4.0, 30.0)\n",
      "(5.0, 37.0)\n",
      "(6.0, 29.0)\n",
      "(7.0, 25.0)\n",
      "(8.0, 27.0)\n",
      "(9.0, 14.0)\n",
      "(10.0, 14.0)\n",
      "(11.0, 11.0)\n",
      "(12.0, 5.0)\n",
      "(13.0, 10.0)\n",
      "(0.0, 24.0)\n",
      "(1.0, 21.0)\n",
      "(2.0, 21.0)\n",
      "(3.0, 24.0)\n",
      "(4.0, 30.0)\n",
      "(5.0, 37.0)\n",
      "(6.0, 29.0)\n",
      "(7.0, 25.0)\n",
      "(8.0, 27.0)\n",
      "(9.0, 14.0)\n",
      "(10.0, 14.0)\n",
      "(11.0, 11.0)\n",
      "(12.0, 5.0)\n",
      "(13.0, 10.0)\n",
      "Peak score: 3.780576326564823 @ position 7.0\n",
      "Mean score: 2.8281125936018268\n",
      "Peak frequency: 37.0 @ position 5.0\n",
      "UF\n",
      "(0.0, 24.0)\n",
      "(1.0, 21.0)\n",
      "(2.0, 21.0)\n",
      "(3.0, 24.0)\n",
      "(4.0, 30.0)\n",
      "(5.0, 37.0)\n",
      "(6.0, 29.0)\n",
      "(7.0, 25.0)\n",
      "(8.0, 27.0)\n",
      "(9.0, 14.0)\n",
      "(10.0, 14.0)\n",
      "(11.0, 11.0)\n",
      "(12.0, 5.0)\n",
      "(13.0, 10.0)\n",
      "(0.0, 24.0)\n",
      "(1.0, 21.0)\n",
      "(2.0, 21.0)\n",
      "(3.0, 24.0)\n",
      "(4.0, 30.0)\n",
      "(5.0, 37.0)\n",
      "(6.0, 29.0)\n",
      "(7.0, 25.0)\n",
      "(8.0, 27.0)\n",
      "(9.0, 14.0)\n",
      "(10.0, 14.0)\n",
      "(11.0, 11.0)\n",
      "(12.0, 5.0)\n",
      "(13.0, 10.0)\n",
      "Peak score: 3.161727255083398 @ position 9.0\n",
      "Mean score: 2.1708221228191915\n",
      "Peak frequency: 37.0 @ position 5.0\n"
     ]
    },
    {
     "data": {
      "image/png": "[encoded data removed]",
      "text/plain": [
       "<Figure size 158.4x72 with 4 Axes>"
      ]
     },
     "metadata": {
      "needs_background": "light"
     },
     "output_type": "display_data"
    }
   ],
   "source": [
    "pe_uf_inputs = motifs.tabulate_motif_motif_distances(fd_pe_uf, gold_pe_uf, 'dist_PE_UF', 'PE', 'UF', overfill = \"nan\", flip = False, return_region = \"pos\")\n",
    "\n",
    "motifs.plot_motif_motif_distances('mean', pe_uf_inputs, ['PE','UF'], \n",
    "                           'distance_pe_uf.positive', OUTDIR, 'gray', 1,\n",
    "                           double_panel_width, single_panel_height, upper_lower_panel_ratios,\n",
    "                           (0,13), 3, (0,75), 25, (0,5), 1)\n"
   ]
  },
  {
   "cell_type": "markdown",
   "metadata": {},
   "source": [
    "#### Crosstalk between upstream efficiency elements"
   ]
  },
  {
   "cell_type": "code",
   "execution_count": 52,
   "metadata": {
    "scrolled": true
   },
   "outputs": [
    {
     "name": "stdout",
     "output_type": "stream",
     "text": [
      "Beginning Motif-Motif distance compilation for: ['hamming_TA/TA-rich_d0', 'hamming_TA/TA-rich_d1'] ['hamming_TA/TA-rich_d0', 'hamming_TA/TA-rich_d1']\n",
      "second_EE dist_EE_UE idx_UE idx_EE\n",
      "DISTANCE RANGE: -92 -6\n",
      "-92\tFreq =\t1\t1\n",
      "-91 \tFreq = 0\t0\n",
      "-90\tFreq =\t4\t4\n",
      "-89\tFreq =\t3\t3\n",
      "-88\tFreq =\t1\t1\n",
      "-87\tFreq =\t4\t4\n",
      "-86\tFreq =\t1\t1\n",
      "-85\tFreq =\t2\t2\n",
      "-84\tFreq =\t6\t6\n",
      "-83\tFreq =\t7\t7\n",
      "-82\tFreq =\t9\t9\n",
      "-81\tFreq =\t4\t4\n",
      "-80\tFreq =\t6\t6\n",
      "-79\tFreq =\t1\t1\n",
      "-78\tFreq =\t13\t13\n",
      "-77\tFreq =\t2\t2\n",
      "-76\tFreq =\t8\t8\n",
      "-75\tFreq =\t10\t10\n",
      "-74\tFreq =\t12\t12\n",
      "-73\tFreq =\t11\t11\n",
      "-72\tFreq =\t6\t6\n",
      "-71\tFreq =\t8\t8\n",
      "-70\tFreq =\t15\t15\n",
      "-69\tFreq =\t19\t19\n",
      "-68\tFreq =\t21\t21\n",
      "-67\tFreq =\t18\t18\n",
      "-66\tFreq =\t15\t15\n",
      "-65\tFreq =\t24\t24\n",
      "-64\tFreq =\t20\t20\n",
      "-63\tFreq =\t20\t20\n",
      "-62\tFreq =\t18\t18\n",
      "-61\tFreq =\t11\t11\n",
      "-60\tFreq =\t24\t24\n",
      "-59\tFreq =\t21\t21\n",
      "-58\tFreq =\t32\t32\n",
      "-57\tFreq =\t13\t13\n",
      "-56\tFreq =\t30\t30\n",
      "-55\tFreq =\t18\t18\n",
      "-54\tFreq =\t21\t21\n",
      "-53\tFreq =\t24\t24\n",
      "-52\tFreq =\t27\t27\n",
      "-51\tFreq =\t34\t34\n",
      "-50\tFreq =\t29\t29\n",
      "-49\tFreq =\t40\t40\n",
      "-48\tFreq =\t42\t42\n",
      "-47\tFreq =\t29\t29\n",
      "-46\tFreq =\t40\t40\n",
      "-45\tFreq =\t27\t27\n",
      "-44\tFreq =\t41\t41\n",
      "-43\tFreq =\t54\t54\n",
      "-42\tFreq =\t60\t60\n",
      "-41\tFreq =\t41\t41\n",
      "-40\tFreq =\t55\t55\n",
      "-39\tFreq =\t65\t65\n",
      "-38\tFreq =\t60\t60\n",
      "-37\tFreq =\t78\t78\n",
      "-36\tFreq =\t76\t76\n",
      "-35\tFreq =\t47\t47\n",
      "-34\tFreq =\t71\t71\n",
      "-33\tFreq =\t78\t78\n",
      "-32\tFreq =\t97\t97\n",
      "-31\tFreq =\t83\t83\n",
      "-30\tFreq =\t94\t94\n",
      "-29\tFreq =\t114\t114\n",
      "-28\tFreq =\t100\t100\n",
      "-27\tFreq =\t143\t143\n",
      "-26\tFreq =\t128\t128\n",
      "-25\tFreq =\t160\t160\n",
      "-24\tFreq =\t138\t138\n",
      "-23\tFreq =\t137\t137\n",
      "-22\tFreq =\t182\t182\n",
      "-21\tFreq =\t207\t207\n",
      "-20\tFreq =\t202\t202\n",
      "-19\tFreq =\t233\t233\n",
      "-18\tFreq =\t253\t253\n",
      "-17\tFreq =\t262\t262\n",
      "-16\tFreq =\t220\t220\n",
      "-15\tFreq =\t237\t237\n",
      "-14\tFreq =\t273\t273\n",
      "-13\tFreq =\t295\t295\n",
      "-12\tFreq =\t406\t406\n",
      "-11\tFreq =\t445\t445\n",
      "-10\tFreq =\t417\t417\n",
      "-9\tFreq =\t483\t483\n",
      "-8\tFreq =\t560\t560\n",
      "-7\tFreq =\t484\t484\n",
      "-6\tFreq =\t1476\t1476\n"
     ]
    }
   ],
   "source": [
    "fd_ee_ue = motifs.relative_position_motif_to_motif_importance(ee_mfams, ee_mfams, \n",
    "                                                              'UE','EE',\n",
    "                                                              'dist_EE_UE', 'idx_UE', 'idx_EE', \n",
    "                                                              'second_EE', \n",
    "                                                              mfam_importance[species][modeltype][config], \n",
    "                                                              gold_ee_ue)\n"
   ]
  },
  {
   "cell_type": "code",
   "execution_count": 53,
   "metadata": {},
   "outputs": [
    {
     "name": "stdout",
     "output_type": "stream",
     "text": [
      "Beginning frequency and score tabulation using: dist_EE_UE\n",
      "Distance range covered: -92 -6\n",
      "UE\n",
      "(-22, 100.0)\n",
      "(-21, 143.0)\n",
      "(-20, 128.0)\n",
      "(-19, 160.0)\n",
      "(-18, 138.0)\n",
      "(-17, 137.0)\n",
      "(-16, 182.0)\n",
      "(-15, 207.0)\n",
      "(-14, 202.0)\n",
      "(-13, 233.0)\n",
      "(-12, 253.0)\n",
      "(-11, 262.0)\n",
      "(-10, 220.0)\n",
      "(-9, 237.0)\n",
      "(-8, 273.0)\n",
      "(-7, 295.0)\n",
      "(-6, 406.0)\n",
      "(-5, 445.0)\n",
      "(-4, 417.0)\n",
      "(-3, 483.0)\n",
      "(-2, 560.0)\n",
      "(-1, 484.0)\n",
      "(0, 1476.0)\n",
      "(-22, 100.0)\n",
      "(-21, 143.0)\n",
      "(-20, 128.0)\n",
      "(-19, 160.0)\n",
      "(-18, 138.0)\n",
      "(-17, 137.0)\n",
      "(-16, 182.0)\n",
      "(-15, 207.0)\n",
      "(-14, 202.0)\n",
      "(-13, 233.0)\n",
      "(-12, 253.0)\n",
      "(-11, 262.0)\n",
      "(-10, 220.0)\n",
      "(-9, 237.0)\n",
      "(-8, 273.0)\n",
      "(-7, 295.0)\n",
      "(-6, 406.0)\n",
      "(-5, 445.0)\n",
      "(-4, 417.0)\n",
      "(-3, 483.0)\n",
      "(-2, 560.0)\n",
      "(-1, 484.0)\n",
      "(0, 1476.0)\n",
      "Peak score: 3.5665756393504444 @ position -1\n",
      "Mean score: 2.893477450299536\n",
      "Peak frequency: 1476.0 @ position 0\n",
      "EE\n",
      "(-22, 100.0)\n",
      "(-21, 143.0)\n",
      "(-20, 128.0)\n",
      "(-19, 160.0)\n",
      "(-18, 138.0)\n",
      "(-17, 137.0)\n",
      "(-16, 182.0)\n",
      "(-15, 207.0)\n",
      "(-14, 202.0)\n",
      "(-13, 233.0)\n",
      "(-12, 253.0)\n",
      "(-11, 262.0)\n",
      "(-10, 220.0)\n",
      "(-9, 237.0)\n",
      "(-8, 273.0)\n",
      "(-7, 295.0)\n",
      "(-6, 406.0)\n",
      "(-5, 445.0)\n",
      "(-4, 417.0)\n",
      "(-3, 483.0)\n",
      "(-2, 560.0)\n",
      "(-1, 484.0)\n",
      "(0, 1476.0)\n",
      "(-22, 100.0)\n",
      "(-21, 143.0)\n",
      "(-20, 128.0)\n",
      "(-19, 160.0)\n",
      "(-18, 138.0)\n",
      "(-17, 137.0)\n",
      "(-16, 182.0)\n",
      "(-15, 207.0)\n",
      "(-14, 202.0)\n",
      "(-13, 233.0)\n",
      "(-12, 253.0)\n",
      "(-11, 262.0)\n",
      "(-10, 220.0)\n",
      "(-9, 237.0)\n",
      "(-8, 273.0)\n",
      "(-7, 295.0)\n",
      "(-6, 406.0)\n",
      "(-5, 445.0)\n",
      "(-4, 417.0)\n",
      "(-3, 483.0)\n",
      "(-2, 560.0)\n",
      "(-1, 484.0)\n",
      "(0, 1476.0)\n",
      "Peak score: 3.699609699402443 @ position -14\n",
      "Mean score: 3.317063121848775\n",
      "Peak frequency: 1476.0 @ position 0\n"
     ]
    },
    {
     "data": {
      "image/png": "[encoded data removed]",
      "text/plain": [
       "<Figure size 158.4x72 with 4 Axes>"
      ]
     },
     "metadata": {
      "needs_background": "light"
     },
     "output_type": "display_data"
    }
   ],
   "source": [
    "ee_ue_inputs = motifs.tabulate_motif_motif_distances(fd_ee_ue, gold_ee_ue, 'dist_EE_UE', 'UE', 'EE', overfill = None, flip = False, return_region = \"neg\")\n",
    "\n",
    "motifs.plot_motif_motif_distances('mean', ee_ue_inputs, ['UE', 'EE'], \n",
    "                           'distance_ee_ue.positive', OUTDIR, 'gray', 1,\n",
    "                           double_panel_width, single_panel_height, upper_lower_panel_ratios,\n",
    "                           (-20,1), 5, (0,1500), 500, (0,4), 1)\n"
   ]
  }
 ],
 "metadata": {
  "kernelspec": {
   "display_name": "Python (tf-train)",
   "language": "python",
   "name": "tf-train"
  },
  "language_info": {
   "codemirror_mode": {
    "name": "ipython",
    "version": 3
   },
   "file_extension": ".py",
   "mimetype": "text/x-python",
   "name": "python",
   "nbconvert_exporter": "python",
   "pygments_lexer": "ipython3",
   "version": "3.6.12"
  }
 },
 "nbformat": 4,
 "nbformat_minor": 2
}
