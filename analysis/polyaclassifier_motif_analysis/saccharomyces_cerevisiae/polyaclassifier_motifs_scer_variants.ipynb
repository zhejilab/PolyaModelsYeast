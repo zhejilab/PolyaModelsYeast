{
 "cells": [
  {
   "cell_type": "markdown",
   "metadata": {},
   "source": [
    "# Variants found in motifs important to PolyaClassifier site definition\n",
    "\n",
    "**Purpose**: To quantify the enrichment or depletion of single nucleotide variants in significant motifs according to the *S. cerevisiae* PolyaClassifier model.\n"
   ]
  },
  {
   "cell_type": "code",
   "execution_count": 1,
   "metadata": {},
   "outputs": [],
   "source": [
    "%load_ext autoreload"
   ]
  },
  {
   "cell_type": "code",
   "execution_count": 2,
   "metadata": {},
   "outputs": [],
   "source": [
    "%autoreload 2"
   ]
  },
  {
   "cell_type": "code",
   "execution_count": 3,
   "metadata": {},
   "outputs": [],
   "source": [
    "%run -i notebook_setup.py"
   ]
  },
  {
   "cell_type": "markdown",
   "metadata": {},
   "source": [
    "## IMPORTS AND SETUP"
   ]
  },
  {
   "cell_type": "code",
   "execution_count": 4,
   "metadata": {},
   "outputs": [],
   "source": [
    "from tqdm import tqdm\n",
    "tqdm.pandas()\n"
   ]
  },
  {
   "cell_type": "code",
   "execution_count": 5,
   "metadata": {},
   "outputs": [],
   "source": [
    "species = 'saccharomyces_cerevisiae'\n",
    "modeltype = 'polyaclassifier'\n",
    "mt = 'polyaclassifier'\n",
    "kmer = 6\n",
    "config = 'polyaclassifier_bagging3_kmers-6'\n"
   ]
  },
  {
   "cell_type": "code",
   "execution_count": 6,
   "metadata": {},
   "outputs": [],
   "source": [
    "PROJECT   = \"/projects/b1080/eks/polyadenylation/yeast\"\n",
    "DATADIR   = os.path.join(PROJECT, 'external_data', 'isolates2')\n",
    "OUTDIR    = os.path.join(PROJECT, 'manuscript', 'analysis', 'polyaclassifier_motif_importance_scer_variants')\n",
    "RESOURCES = os.path.join(os.path.dirname(OUTDIR), 'resources')\n",
    "os.makedirs(OUTDIR, exist_ok = True)\n"
   ]
  },
  {
   "cell_type": "code",
   "execution_count": 7,
   "metadata": {},
   "outputs": [],
   "source": [
    "with open(os.path.join(RESOURCES, f'motif_definitions.scer.{kmer}mers.distance.pickle'), mode = 'rb') as handle:\n",
    "    hamming_definitions = pickle.load(handle)\n",
    "\n",
    "motif_h_priority = hamming_definitions['priority']\n",
    "motif_h_family   = hamming_definitions['family']\n",
    "motif_h_unique   = hamming_definitions['no_overlap']\n",
    "motif_h_hamming  = hamming_definitions['hamming']\n"
   ]
  },
  {
   "cell_type": "code",
   "execution_count": 8,
   "metadata": {},
   "outputs": [],
   "source": [
    "family_cmap = {\n",
    "    'A-rich'        : '#2278b5',\n",
    "    'T-rich'        : '#2fa148',\n",
    "    'TA/TA-rich'    : '#d62a28',\n",
    "}\n"
   ]
  },
  {
   "cell_type": "code",
   "execution_count": 9,
   "metadata": {},
   "outputs": [],
   "source": [
    "with open(os.path.join(RESOURCES, 'polyaclassifier_motifs.family_profiles.pickle'), mode = 'rb') as handle:\n",
    "    mfam_importance = pickle.load(handle)\n",
    "    \n",
    "mfam_importance = mfam_importance[species][modeltype][config]\n"
   ]
  },
  {
   "cell_type": "code",
   "execution_count": 10,
   "metadata": {},
   "outputs": [
    {
     "name": "stdout",
     "output_type": "stream",
     "text": [
      "Significant motifs: 137\n"
     ]
    }
   ],
   "source": [
    "with open(os.path.join(RESOURCES, 'polyaclassifier_motifs.significant_motifs.pickle'), mode = 'rb') as handle:\n",
    "    significant_motifs = pickle.load(handle)\n",
    "\n",
    "sigmots = significant_motifs[species][modeltype][config]\n",
    "print(f\"Significant motifs: {len(sigmots)}\")\n"
   ]
  },
  {
   "cell_type": "code",
   "execution_count": 11,
   "metadata": {},
   "outputs": [
    {
     "name": "stdout",
     "output_type": "stream",
     "text": [
      "A-rich_d0    :\tmotifs=   1\tsig=  1 (100.00%)\n",
      "A-rich_d1    :\tmotifs=  18\tsig= 12 ( 66.67%)\n",
      "A-rich_d2    :\tmotifs= 117\tsig= 18 ( 15.38%)\n",
      "T-rich_d0    :\tmotifs=   1\tsig=  1 (100.00%)\n",
      "T-rich_d1    :\tmotifs=  18\tsig= 18 (100.00%)\n",
      "T-rich_d2    :\tmotifs= 117\tsig= 32 ( 27.35%)\n",
      "TA/TA-rich_d0:\tmotifs=   2\tsig=  2 (100.00%)\n",
      "TA/TA-rich_d1:\tmotifs=  36\tsig= 29 ( 80.56%)\n",
      "TA/TA-rich_d2:\tmotifs= 234\tsig=  9 (  3.85%)\n"
     ]
    }
   ],
   "source": [
    "for mf,ml in motif_h_priority.items():\n",
    "    if ('_d' in mf):\n",
    "        print(f\"{mf:13}:\\tmotifs={len(ml):4}\\tsig={sum([(m in sigmots) for m in ml]):3} ({sum([(m in sigmots) for m in ml])/len(ml):>7.02%})\")\n",
    "    "
   ]
  },
  {
   "cell_type": "markdown",
   "metadata": {},
   "source": [
    "## HELPER FUNCTIONS"
   ]
  },
  {
   "cell_type": "code",
   "execution_count": 12,
   "metadata": {},
   "outputs": [],
   "source": [
    "def calculate_pa_distance(row, strand_prefix, pos_prefix):\n",
    "    \n",
    "    if (row[f'{strand_prefix}_strand'] == '+'):\n",
    "        pos_index = row[f'{pos_prefix}_start'] - row['pa_window_start']\n",
    "        \n",
    "    elif (row[f'{strand_prefix}_strand'] == '-'):\n",
    "        pos_index = row['pa_window_end'] - row[f'{pos_prefix}_end']\n",
    "    \n",
    "    return pos_index - int((row['pa_window_end'] - row['pa_window_start'])/2)\n"
   ]
  },
  {
   "cell_type": "markdown",
   "metadata": {},
   "source": [
    "## ANALYSIS"
   ]
  },
  {
   "cell_type": "markdown",
   "metadata": {},
   "source": [
    "### Identify significant motifs surrounding polyA sites"
   ]
  },
  {
   "cell_type": "code",
   "execution_count": 13,
   "metadata": {},
   "outputs": [
    {
     "name": "stderr",
     "output_type": "stream",
     "text": [
      "100%|██████████| 5300094/5300094 [04:05<00:00, 21585.57it/s]"
     ]
    },
    {
     "name": "stdout",
     "output_type": "stream",
     "text": [
      "PolyA-motif overlap: input=(5300094, 12), overlapping=(5300094, 20)\n"
     ]
    },
    {
     "name": "stderr",
     "output_type": "stream",
     "text": [
      "\n"
     ]
    }
   ],
   "source": [
    "## Assign motifs to polyA sites\n",
    "\n",
    "motifs_input = pd.read_csv(os.path.join(DATADIR, 'enrichment_analysis.gold_top1_window_overlap_with_motifs.txt'), sep = '\\t',\n",
    "                           names = ['pa_chrom', 'pa_window_start', 'pa_window_end', 'pa_label', 'pa_reads', 'pa_strand',\n",
    "                           'motif_chrom', 'motif_start', 'motif_end', 'motif_label', 'motif_score', 'motif_strand']\n",
    "                          )\n",
    "\n",
    "\n",
    "## Remove sites where no motifs overlap\n",
    "\n",
    "motifs = motifs_input.loc[(motifs_input['motif_chrom'] != '.') & (motifs_input['motif_start'] != -1)].copy()\n",
    "\n",
    "\n",
    "## Process motif labels and information\n",
    "\n",
    "motifs['motif_id']           = motifs['motif_chrom'] + \":\" + motifs['motif_start'].astype(str) + \":\" + motifs['motif_strand']\n",
    "motifs['motif']              = motifs['motif_label'].str.split(\"|\").str[0]\n",
    "motifs['motif_family']       = motifs['motif'].apply(lambda x : motif_h_family.get(x,'Other'))\n",
    "motifs['motif_hamming']      = motifs['motif'].apply(lambda x : motif_h_hamming.get(x,'Other'))\n",
    "motifs['motif_significance'] = motifs['motif'].isin(sigmots)\n",
    "\n",
    "\n",
    "## Process associated polyA site labels and information\n",
    "\n",
    "motifs['pa_id']              = motifs['pa_label'].str.split(\"|\").str[0]\n",
    "motifs['pa_start']           = motifs['pa_id'].str.split(\":\").str[1].astype(float).astype(int)\n",
    "\n",
    "\n",
    "## Calculate the relative position of the motif around the polyA site\n",
    "\n",
    "motifs['pa_distance']        = motifs.progress_apply(lambda row: calculate_pa_distance(row, 'motif', 'motif'), axis = 1)\n",
    "\n",
    "\n",
    "print(f\"PolyA-motif overlap: input={motifs_input.shape}, overlapping={motifs.shape}\")\n"
   ]
  },
  {
   "cell_type": "code",
   "execution_count": 14,
   "metadata": {},
   "outputs": [
    {
     "name": "stderr",
     "output_type": "stream",
     "text": [
      "TA/TA-rich: 100%|██████████| 1210185/1210185 [00:02<00:00, 489451.89it/s]\n",
      "A-rich    : 100%|██████████| 1714872/1714872 [00:04<00:00, 427586.54it/s]\n",
      "T-rich    : 100%|██████████| 2375037/2375037 [00:04<00:00, 503326.25it/s]\n"
     ]
    }
   ],
   "source": [
    "## Map polyA sites --> genomic positions covered by motifs from family f\n",
    "## This will be used to identify variants that overlap significant motifs\n",
    "\n",
    "pa_motif_positions = {}\n",
    "\n",
    "for family in ['TA/TA-rich','A-rich','T-rich']:\n",
    "    \n",
    "    pa_motif_positions[family] = {}\n",
    "    \n",
    "    fmotifs = motifs.loc[motifs['motif_family'] == family]\n",
    "    \n",
    "    for fmpaid,fmstart,fmend in tqdm(zip(fmotifs['pa_id'], fmotifs['motif_start'], fmotifs['motif_end']), total = len(fmotifs), desc = f'{family:10}'):\n",
    "        \n",
    "        if (fmpaid not in pa_motif_positions[family]):\n",
    "            pa_motif_positions[family][fmpaid] = {}\n",
    "        \n",
    "        for fmpos in range(fmstart,fmend):\n",
    "            pa_motif_positions[family][fmpaid][fmpos] = 1\n",
    "    "
   ]
  },
  {
   "cell_type": "markdown",
   "metadata": {},
   "source": [
    "### Identify variants surrounding polyA sites"
   ]
  },
  {
   "cell_type": "code",
   "execution_count": 15,
   "metadata": {
    "scrolled": false
   },
   "outputs": [
    {
     "name": "stderr",
     "output_type": "stream",
     "text": [
      "/home/esk863/.conda/envs/tf-train/lib/python3.6/site-packages/IPython/core/interactiveshell.py:3072: DtypeWarning: Columns (9) have mixed types. Specify dtype option on import or set low_memory=False.\n",
      "  interactivity=interactivity, compiler=compiler, result=result)\n",
      "100%|██████████| 8105891/8105891 [06:15<00:00, 21595.13it/s]"
     ]
    },
    {
     "name": "stdout",
     "output_type": "stream",
     "text": [
      "PolyA-variant overlap: input=(8105892, 12), overlapping=(8105891, 15)\n"
     ]
    },
    {
     "name": "stderr",
     "output_type": "stream",
     "text": [
      "\n"
     ]
    }
   ],
   "source": [
    "## Assign variants to polyA sites\n",
    "\n",
    "variants_input = pd.read_csv(os.path.join(DATADIR, 'enrichment_analysis.gold_top1_window_overlap_with_snvs.txt'), sep = \"\\t\",\n",
    "                         names = ['pa_chrom', 'pa_window_start', 'pa_window_end', 'pa_label', 'pa_reads', 'pa_strand', \n",
    "                                  'var_chrom', 'var_start', 'var_end', 'var_qual', 'var_ref', 'var_alt'])\n",
    "\n",
    "\n",
    "## Remove sites where no variants overlap\n",
    "\n",
    "variants = variants_input.loc[(variants_input['var_chrom'] != '.') & (variants_input['var_start'] != -1)].copy()\n",
    "\n",
    "\n",
    "## Process variant and polyA site labels\n",
    "\n",
    "variants['var_id']      = variants['var_chrom'] + \":\" + variants['var_start'].astype(str) + \":\" + variants['var_ref'] + \":\" + variants['var_alt']\n",
    "variants['pa_id']       = variants['pa_label'].str.split(\"|\").str[0]\n",
    "\n",
    "\n",
    "## Calculate the relative position of the variant around the polyA site\n",
    "\n",
    "variants['pa_distance'] = variants.progress_apply(lambda row : calculate_pa_distance(row, 'pa', 'var'), axis = 1)\n",
    "\n",
    "\n",
    "print(f\"PolyA-variant overlap: input={variants_input.shape}, overlapping={variants.shape}\")\n"
   ]
  },
  {
   "cell_type": "code",
   "execution_count": 16,
   "metadata": {},
   "outputs": [
    {
     "name": "stderr",
     "output_type": "stream",
     "text": [
      "100%|██████████| 8105891/8105891 [02:54<00:00, 46486.49it/s]\n",
      "100%|██████████| 8105891/8105891 [02:51<00:00, 47398.21it/s]\n",
      "100%|██████████| 8105891/8105891 [02:50<00:00, 47580.60it/s]\n"
     ]
    },
    {
     "name": "stdout",
     "output_type": "stream",
     "text": [
      "Overlap with TA/TA-rich? {0: 7531008, 1: 574883}\n",
      "Overlap with A-rich?     {0: 7432977, 1: 672914}\n",
      "Overlap with T-rich?     {0: 7222797, 1: 883094}\n"
     ]
    }
   ],
   "source": [
    "## Flag variants that overlap significant motifs\n",
    "\n",
    "variants['overlap_TA/TA-rich'] = variants.progress_apply(lambda row : pa_motif_positions['TA/TA-rich'].get(row['pa_id'],{}).get(row['var_start'],0), axis = 1)\n",
    "variants['overlap_A-rich'    ] = variants.progress_apply(lambda row : pa_motif_positions['A-rich'    ].get(row['pa_id'],{}).get(row['var_start'],0), axis = 1)\n",
    "variants['overlap_T-rich'    ] = variants.progress_apply(lambda row : pa_motif_positions['T-rich'    ].get(row['pa_id'],{}).get(row['var_start'],0), axis = 1)\n",
    "\n",
    "print(f\"Overlap with TA/TA-rich? {variants['overlap_TA/TA-rich'].value_counts(sort = False).to_dict()}\")\n",
    "print(f\"Overlap with A-rich?     {variants['overlap_A-rich'    ].value_counts(sort = False).to_dict()}\")\n",
    "print(f\"Overlap with T-rich?     {variants['overlap_T-rich'    ].value_counts(sort = False).to_dict()}\")\n"
   ]
  },
  {
   "cell_type": "markdown",
   "metadata": {},
   "source": [
    "### Enrichment of variants in significant motifs around polyA sites\n",
    "\n",
    "We calculate the enrichment of variants overlapping significant motifs using an odds ratio approach:\n",
    "\n",
    "$E_{f,x} = log_2 \\left( \\left( \\frac{O_{f,x}}{N_{f,x}} \\right) / \\left( \\frac{V_f}{M_f} \\right) \\right)$\n",
    "\n",
    "We need to calculate 4 quantities:\n",
    "\n",
    "`nfx` = coverage of motifs from family f at position x, which can be calculated from the number of motifs that cross position x\n",
    "\n",
    "`mf` = coverage of motifs from family f in background region, which is the number of motifs in the background region multiplied by the length of the motifs (6 nt)\n",
    "\n",
    "`ofx` = count of variants that overlap motifs from family f at each position x and multiply by 6 (length of the motifs) to calculate the overall motif coverage\n",
    "\n",
    "`vf` = count of variants that overlap motifs from family f in background region\n"
   ]
  },
  {
   "cell_type": "code",
   "execution_count": 17,
   "metadata": {},
   "outputs": [],
   "source": [
    "def calculate_motif_variant_enrichment(mdata, vdata, family, window):\n",
    "    \n",
    "    xs = np.arange(-1*int(window/2), int(window/2), 1)\n",
    "    \n",
    "    \n",
    "    ##############\n",
    "    # MOTIF DATA #\n",
    "    ##############\n",
    "    \n",
    "    ## Filter motif data for family f within the background boundaries\n",
    "    fdata = mdata.loc[(mdata['motif_family'] == family) & (mdata['pa_distance'].between(-1*int(window/2), int(window/2)-1))]\n",
    "    \n",
    "    ## Count motifs from family f present in background region\n",
    "    mf = fdata.shape[0] * 6\n",
    "    \n",
    "    ## Count motifs that cross each position\n",
    "    nfx = dict(zip(xs, [fdata.loc[fdata['pa_distance'].between(x-5,x)].shape[0] for x in xs]))\n",
    "\n",
    "    \n",
    "    ################\n",
    "    # VARIANT DATA #\n",
    "    ################\n",
    "    \n",
    "    ## Filter variant data overlapping family f and within the background boundaries\n",
    "    vdata = variants.loc[(variants[f'overlap_{family}'] > 0) & (variants['pa_distance'].between(-1*int(window/2), int(window/2)-1))]\n",
    "    \n",
    "    ## Count variants overlapping family f present in background region\n",
    "    vf = vdata.shape[0]\n",
    "    \n",
    "    ## Count variants overlapping family f at each position\n",
    "    ofx = vdata.groupby('pa_distance').size().to_dict()\n",
    "    \n",
    "    \n",
    "    ###################\n",
    "    # CALCULATE RATIO #\n",
    "    ###################\n",
    "    \n",
    "    rx = pd.Series(\n",
    "        data = np.asarray([np.log2((ofx.get(x,0) / nfx.get(x,0)) / (vf/mf)) for x in xs]),\n",
    "        index = xs\n",
    "    )\n",
    "    \n",
    "    return rx\n"
   ]
  },
  {
   "cell_type": "markdown",
   "metadata": {},
   "source": [
    "### Explore the effect of different background region sizes"
   ]
  },
  {
   "cell_type": "code",
   "execution_count": 18,
   "metadata": {
    "scrolled": false
   },
   "outputs": [
    {
     "name": "stdout",
     "output_type": "stream",
     "text": [
      "500\n",
      "Raw data plot range: -0.6136020289988653 0.9575391107587793\n",
      "Smooth data plot range: -0.44433863848456034 0.5505599043313404\n"
     ]
    },
    {
     "data": {
      "image/png": "[encoded data removed]",
      "text/plain": [
       "<Figure size 108x72 with 1 Axes>"
      ]
     },
     "metadata": {
      "needs_background": "light"
     },
     "output_type": "display_data"
    },
    {
     "data": {
      "image/png": "[encoded data removed]",
      "text/plain": [
       "<Figure size 108x72 with 1 Axes>"
      ]
     },
     "metadata": {
      "needs_background": "light"
     },
     "output_type": "display_data"
    },
    {
     "name": "stdout",
     "output_type": "stream",
     "text": [
      "1000\n",
      "Raw data plot range: -0.6408848000208194 1.0162840297662197\n",
      "Smooth data plot range: -0.47162140950651465 0.60930482333878\n"
     ]
    },
    {
     "data": {
      "image/png": "[encoded data removed]",
      "text/plain": [
       "<Figure size 108x72 with 1 Axes>"
      ]
     },
     "metadata": {
      "needs_background": "light"
     },
     "output_type": "display_data"
    },
    {
     "data": {
      "image/png": "[encoded data removed]",
      "text/plain": [
       "<Figure size 108x72 with 1 Axes>"
      ]
     },
     "metadata": {
      "needs_background": "light"
     },
     "output_type": "display_data"
    },
    {
     "name": "stdout",
     "output_type": "stream",
     "text": [
      "2000\n",
      "Raw data plot range: -0.6589684656227761 1.0350897116743512\n",
      "Smooth data plot range: -0.4897050751084716 0.6281105052469127\n"
     ]
    },
    {
     "data": {
      "image/png": "[encoded data removed]",
      "text/plain": [
       "<Figure size 108x72 with 1 Axes>"
      ]
     },
     "metadata": {
      "needs_background": "light"
     },
     "output_type": "display_data"
    },
    {
     "data": {
      "image/png": "[encoded data removed]",
      "text/plain": [
       "<Figure size 108x72 with 1 Axes>"
      ]
     },
     "metadata": {
      "needs_background": "light"
     },
     "output_type": "display_data"
    },
    {
     "name": "stdout",
     "output_type": "stream",
     "text": [
      "5000\n",
      "Raw data plot range: -0.6916432873001616 1.0291287962131068\n",
      "Smooth data plot range: -0.5223798967858568 0.6221495897856675\n"
     ]
    },
    {
     "data": {
      "image/png": "[encoded data removed]",
      "text/plain": [
       "<Figure size 108x72 with 1 Axes>"
      ]
     },
     "metadata": {
      "needs_background": "light"
     },
     "output_type": "display_data"
    },
    {
     "data": {
      "image/png": "[encoded data removed]",
      "text/plain": [
       "<Figure size 108x72 with 1 Axes>"
      ]
     },
     "metadata": {
      "needs_background": "light"
     },
     "output_type": "display_data"
    },
    {
     "name": "stdout",
     "output_type": "stream",
     "text": [
      "10000\n",
      "Raw data plot range: -0.6989971294512181 1.02026967935169\n",
      "Smooth data plot range: -0.5297337389369134 0.6132904729242503\n"
     ]
    },
    {
     "data": {
      "image/png": "[encoded data removed]",
      "text/plain": [
       "<Figure size 108x72 with 1 Axes>"
      ]
     },
     "metadata": {
      "needs_background": "light"
     },
     "output_type": "display_data"
    },
    {
     "data": {
      "image/png": "[encoded data removed]",
      "text/plain": [
       "<Figure size 108x72 with 1 Axes>"
      ]
     },
     "metadata": {
      "needs_background": "light"
     },
     "output_type": "display_data"
    }
   ],
   "source": [
    "for window in [500,1000,2000,5000,10000]:\n",
    "    print(window)\n",
    "\n",
    "    ratios_ta = calculate_motif_variant_enrichment(motifs, variants, 'TA/TA-rich', window)\n",
    "    ratios_a  = calculate_motif_variant_enrichment(motifs, variants, 'A-rich',     window)\n",
    "    ratios_t  = calculate_motif_variant_enrichment(motifs, variants, 'T-rich',     window)\n",
    "    \n",
    "    print(\"Raw data plot range:\", \n",
    "          min([ratios_ta[list(range(-150,100))].min(), ratios_a[list(range(-150,100))].min(), ratios_t[list(range(-150,100))].min()]),\n",
    "          max([ratios_ta[list(range(-150,100))].max(), ratios_a[list(range(-150,100))].max(), ratios_t[list(range(-150,100))].max()])\n",
    "         )\n",
    "\n",
    "    smooth_ta = pd.Series(ratios_ta).rolling(window = 10, center = True).mean()\n",
    "    smooth_a  = pd.Series(ratios_a ).rolling(window = 10, center = True).mean()\n",
    "    smooth_t  = pd.Series(ratios_t ).rolling(window = 10, center = True).mean()\n",
    "    \n",
    "    print(\"Smooth data plot range:\", \n",
    "          min([smooth_ta[list(range(-150,100))].min(), smooth_a[list(range(-150,100))].min(), smooth_t[list(range(-150,100))].min()]),\n",
    "          max([smooth_ta[list(range(-150,100))].max(), smooth_a[list(range(-150,100))].max(), smooth_t[list(range(-150,100))].max()])\n",
    "         )\n",
    "    \n",
    "\n",
    "    ## Calculate normalized enrichment ratios\n",
    "\n",
    "    fig,ax = plt.subplots(1,1, figsize = (1.5,1))\n",
    "\n",
    "    sns.lineplot(x = ratios_ta.index, y = ratios_ta, label = 'TA/TA-rich', color = family_cmap['TA/TA-rich'], linewidth = 0.5, ax = ax)\n",
    "    sns.lineplot(x = ratios_a.index,  y = ratios_a,  label = 'A-rich',     color = family_cmap['A-rich'],     linewidth = 0.5, ax = ax)\n",
    "    sns.lineplot(x = ratios_t.index,  y = ratios_t,  label = 'T-rich',     color = family_cmap['T-rich'],     linewidth = 0.5, ax = ax)\n",
    "\n",
    "    ax.set_xlabel(\"Distance to cleavage site (nt)\")\n",
    "    ax.set_ylabel(\"Fold enrichment (log2)\")\n",
    "\n",
    "    ax.set_xlim(-150,100)\n",
    "    ax.xaxis.set_major_locator(MultipleLocator(50))\n",
    "\n",
    "    ax.set_ylim(-0.75,1.25)\n",
    "    ax.yaxis.set_major_locator(MultipleLocator(0.25))\n",
    "\n",
    "    ax.legend(bbox_to_anchor = (1.05,1))\n",
    "\n",
    "    ax.spines['right'].set_visible(False)\n",
    "    ax.spines['top'].set_visible(False)\n",
    "\n",
    "    plt.savefig(os.path.join(OUTDIR, f'variant_enrichment_analysis.background_window_{window}.raw.svg'), format = 'svg', dpi = 600, transparent = True)\n",
    "    plt.show()\n",
    "\n",
    "\n",
    "    ## Calculate normalized enrichment ratios\n",
    "\n",
    "    fig,ax = plt.subplots(1,1, figsize = (1.5,1))\n",
    "\n",
    "    sns.lineplot(x = smooth_ta.index, y = smooth_ta, label = 'TA/TA-rich', color = family_cmap['TA/TA-rich'], linewidth = 1, ax = ax)\n",
    "    sns.lineplot(x = smooth_a.index,  y = smooth_a,  label = 'A-rich',     color = family_cmap['A-rich'],     linewidth = 1, ax = ax)\n",
    "    sns.lineplot(x = smooth_t.index,  y = smooth_t,  label = 'T-rich',     color = family_cmap['T-rich'],     linewidth = 1, ax = ax)\n",
    "\n",
    "    ax.set_xlabel(\"Distance to cleavage site (nt)\")\n",
    "    ax.set_ylabel(\"Fold enrichment (log2)\")\n",
    "\n",
    "    ax.set_xlim(-150,100)\n",
    "    ax.xaxis.set_major_locator(MultipleLocator(50))\n",
    "\n",
    "    ax.set_ylim(-0.75,0.75)\n",
    "    ax.yaxis.set_major_locator(MultipleLocator(0.25))\n",
    "\n",
    "    ax.legend(bbox_to_anchor = (1.05,1))\n",
    "\n",
    "    ax.spines['right'].set_visible(False)\n",
    "    ax.spines['top'].set_visible(False)\n",
    "\n",
    "    plt.savefig(os.path.join(OUTDIR, f'variant_enrichment_analysis.background_window_{window}.smooth.svg'), format = 'svg', dpi = 600, transparent = True)\n",
    "    plt.show()\n"
   ]
  },
  {
   "cell_type": "markdown",
   "metadata": {},
   "source": [
    "### Observe the effect of different background region sizes"
   ]
  },
  {
   "cell_type": "code",
   "execution_count": 19,
   "metadata": {},
   "outputs": [
    {
     "name": "stdout",
     "output_type": "stream",
     "text": [
      "Raw data plot range: -0.6589684656227761 1.0350897116743512\n"
     ]
    }
   ],
   "source": [
    "window = 2000\n",
    "\n",
    "ratios_ta = calculate_motif_variant_enrichment(motifs, variants, 'TA/TA-rich', window)\n",
    "ratios_a  = calculate_motif_variant_enrichment(motifs, variants, 'A-rich',     window)\n",
    "ratios_t  = calculate_motif_variant_enrichment(motifs, variants, 'T-rich',     window)\n",
    "\n",
    "print(\"Raw data plot range:\", \n",
    "          min([ratios_ta[list(range(-150,100))].min(), ratios_a[list(range(-150,100))].min(), ratios_t[list(range(-150,100))].min()]),\n",
    "          max([ratios_ta[list(range(-150,100))].max(), ratios_a[list(range(-150,100))].max(), ratios_t[list(range(-150,100))].max()])\n",
    "         )"
   ]
  },
  {
   "cell_type": "code",
   "execution_count": 20,
   "metadata": {},
   "outputs": [
    {
     "name": "stdout",
     "output_type": "stream",
     "text": [
      "Smooth data plot range: -0.4897050751084716 0.6281105052469127\n"
     ]
    }
   ],
   "source": [
    "smooth_ta = pd.Series(ratios_ta).rolling(window = 10, center = True).mean()\n",
    "smooth_a  = pd.Series(ratios_a ).rolling(window = 10, center = True).mean()\n",
    "smooth_t  = pd.Series(ratios_t ).rolling(window = 10, center = True).mean()\n",
    "\n",
    "print(\"Smooth data plot range:\", \n",
    "          min([smooth_ta[list(range(-150,100))].min(), smooth_a[list(range(-150,100))].min(), smooth_t[list(range(-150,100))].min()]),\n",
    "          max([smooth_ta[list(range(-150,100))].max(), smooth_a[list(range(-150,100))].max(), smooth_t[list(range(-150,100))].max()])\n",
    "         )"
   ]
  },
  {
   "cell_type": "code",
   "execution_count": 21,
   "metadata": {},
   "outputs": [
    {
     "data": {
      "image/png": "[encoded data removed]",
      "text/plain": [
       "<Figure size 108x72 with 1 Axes>"
      ]
     },
     "metadata": {
      "needs_background": "light"
     },
     "output_type": "display_data"
    }
   ],
   "source": [
    "## Calculate normalized enrichment ratios\n",
    "\n",
    "fig,ax = plt.subplots(1,1, figsize = (1.5,1))\n",
    "\n",
    "sns.lineplot(x = ratios_ta.index, y = ratios_ta, label = 'TA/TA-rich', color = family_cmap['TA/TA-rich'], linewidth = 0.5, ax = ax)\n",
    "sns.lineplot(x = ratios_a.index,  y = ratios_a,  label = 'A-rich',     color = family_cmap['A-rich'],     linewidth = 0.5, ax = ax)\n",
    "sns.lineplot(x = ratios_t.index,  y = ratios_t,  label = 'T-rich',     color = family_cmap['T-rich'],     linewidth = 0.5, ax = ax)\n",
    "\n",
    "ax.set_xlabel(\"Distance to cleavage site (nt)\")\n",
    "ax.set_ylabel(\"Fold enrichment (log2)\")\n",
    "\n",
    "ax.set_xlim(-150,100)\n",
    "ax.xaxis.set_major_locator(MultipleLocator(50))\n",
    "\n",
    "ax.set_ylim(-0.8,1.2)\n",
    "ax.yaxis.set_major_locator(MultipleLocator(0.4))\n",
    "\n",
    "ax.legend(bbox_to_anchor = (1.05,1))\n",
    "\n",
    "ax.spines['right'].set_visible(False)\n",
    "ax.spines['top'].set_visible(False)\n",
    "\n",
    "plt.savefig(os.path.join(OUTDIR, f'variant_enrichment_analysis.background_window_{window}.raw.svg'), format = 'svg', dpi = 600, transparent = True)\n",
    "plt.show()\n"
   ]
  },
  {
   "cell_type": "code",
   "execution_count": 22,
   "metadata": {},
   "outputs": [
    {
     "data": {
      "image/png": "[encoded data removed]",
      "text/plain": [
       "<Figure size 108x72 with 1 Axes>"
      ]
     },
     "metadata": {
      "needs_background": "light"
     },
     "output_type": "display_data"
    }
   ],
   "source": [
    "## Calculate normalized enrichment ratios\n",
    "\n",
    "fig,ax = plt.subplots(1,1, figsize = (1.5,1))\n",
    "\n",
    "sns.lineplot(x = smooth_ta.index, y = smooth_ta, label = 'TA/TA-rich', color = family_cmap['TA/TA-rich'], linewidth = 1, ax = ax)\n",
    "sns.lineplot(x = smooth_a.index,  y = smooth_a,  label = 'A-rich',     color = family_cmap['A-rich'],     linewidth = 1, ax = ax)\n",
    "sns.lineplot(x = smooth_t.index,  y = smooth_t,  label = 'T-rich',     color = family_cmap['T-rich'],     linewidth = 1, ax = ax)\n",
    "\n",
    "ax.set_xlabel(\"Distance to cleavage site (nt)\")\n",
    "ax.set_ylabel(\"Fold enrichment (log2)\")\n",
    "\n",
    "ax.set_xlim(-150,100)\n",
    "ax.xaxis.set_major_locator(MultipleLocator(50))\n",
    "\n",
    "ax.set_ylim(-0.75,0.75)\n",
    "ax.yaxis.set_major_locator(MultipleLocator(0.25))\n",
    "\n",
    "ax.legend(bbox_to_anchor = (1.05,1))\n",
    "\n",
    "ax.spines['right'].set_visible(False)\n",
    "ax.spines['top'].set_visible(False)\n",
    "\n",
    "plt.savefig(os.path.join(OUTDIR, f'variant_enrichment_analysis.background_window_{window}.smooth.svg'), format = 'svg', dpi = 600, transparent = True)\n",
    "plt.show()\n"
   ]
  },
  {
   "cell_type": "markdown",
   "metadata": {},
   "source": [
    "#### Determine statistical significance in key regions"
   ]
  },
  {
   "cell_type": "code",
   "execution_count": 23,
   "metadata": {},
   "outputs": [],
   "source": [
    "def statistics_motif_variant_enrichment(mdata, vdata, family, window, region):\n",
    "    \n",
    "    \n",
    "    ##############\n",
    "    # MOTIF DATA #\n",
    "    ##############\n",
    "    \n",
    "    ## Filter motif data for family f within the background boundaries\n",
    "    fdata = mdata.loc[(mdata['motif_family'] == family) & (mdata['pa_distance'].between(-1*int(window/2), int(window/2)-1))].copy()\n",
    "    \n",
    "    ## Assign data to region of interest\n",
    "    fdata['region'] = fdata['pa_distance'].between(*region)\n",
    "    \n",
    "    ## Calculate motif coverage inside and outisde of region\n",
    "    fcov = fdata.groupby('region').size() * 6\n",
    "\n",
    "    \n",
    "    ################\n",
    "    # VARIANT DATA #\n",
    "    ################\n",
    "    \n",
    "    ## Filter variant data overlapping family f and within the background boundaries\n",
    "    vdata = variants.loc[(variants[f'overlap_{family}'] > 0) & (variants['pa_distance'].between(-1*int(window/2), int(window/2)-1))].copy()\n",
    "    \n",
    "    ## Assign data to region of interest\n",
    "    vdata['region'] = vdata['pa_distance'].between(*region)\n",
    "    \n",
    "    ## Calculate variants inside and outisde of region\n",
    "    vcov = vdata.groupby('region').size()\n",
    "    \n",
    "    \n",
    "    ####################\n",
    "    # STATISTICAL TEST #\n",
    "    ####################\n",
    "    \n",
    "    # Set up the contingency table and calculate the Chi2 contingency test p-value\n",
    "\n",
    "    table = np.asarray([\n",
    "        [vcov.loc[True], vcov.loc[False]],\n",
    "        [fcov.loc[True], fcov.loc[False]]\n",
    "    ])\n",
    "    \n",
    "    print(f\"{family}\\n\\n        Region:  Within  Outside\")\n",
    "    print(f\"Variant counts: {table[0][0]:7} {table[0][1]:8}\")\n",
    "    print(f\"Motif coverage: {table[1][0]:7} {table[1][1]:8}\")\n",
    "    \n",
    "    stat, pval, _, _ = st.chi2_contingency(table)\n",
    "    print(f\"\\nChi2 contingency test: statistic={stat:.02f}, pval={pval:.02E}\")\n",
    "    \n",
    "    return\n"
   ]
  },
  {
   "cell_type": "code",
   "execution_count": 24,
   "metadata": {},
   "outputs": [
    {
     "name": "stdout",
     "output_type": "stream",
     "text": [
      "TA/TA-rich\n",
      "\n",
      "        Region:  Within  Outside\n",
      "Variant counts:   14368   106896\n",
      "Motif coverage:  249468  1324434\n",
      "\n",
      "Chi2 contingency test: statistic=1371.68, pval=2.99E-300\n"
     ]
    }
   ],
   "source": [
    "statistics_motif_variant_enrichment(motifs, variants, 'TA/TA-rich', window, (-90,-25))"
   ]
  },
  {
   "cell_type": "code",
   "execution_count": 25,
   "metadata": {},
   "outputs": [
    {
     "name": "stdout",
     "output_type": "stream",
     "text": [
      "A-rich\n",
      "\n",
      "        Region:  Within  Outside\n",
      "Variant counts:    1861   139947\n",
      "Motif coverage:   27306  2162322\n",
      "\n",
      "Chi2 contingency test: statistic=4.54, pval=3.31E-02\n"
     ]
    }
   ],
   "source": [
    "statistics_motif_variant_enrichment(motifs, variants, 'A-rich', window, (-25,-15))"
   ]
  },
  {
   "cell_type": "code",
   "execution_count": 26,
   "metadata": {},
   "outputs": [
    {
     "name": "stdout",
     "output_type": "stream",
     "text": [
      "T-rich\n",
      "\n",
      "        Region:  Within  Outside\n",
      "Variant counts:    7793   166393\n",
      "Motif coverage:  132396  2668236\n",
      "\n",
      "Chi2 contingency test: statistic=23.39, pval=1.32E-06\n"
     ]
    }
   ],
   "source": [
    "statistics_motif_variant_enrichment(motifs, variants, 'T-rich', window, (-15,15))"
   ]
  }
 ],
 "metadata": {
  "kernelspec": {
   "display_name": "Python (tf-train)",
   "language": "python",
   "name": "tf-train"
  },
  "language_info": {
   "codemirror_mode": {
    "name": "ipython",
    "version": 3
   },
   "file_extension": ".py",
   "mimetype": "text/x-python",
   "name": "python",
   "nbconvert_exporter": "python",
   "pygments_lexer": "ipython3",
   "version": "3.6.12"
  }
 },
 "nbformat": 4,
 "nbformat_minor": 2
}
