{
 "cells": [
  {
   "cell_type": "markdown",
   "metadata": {},
   "source": [
    "# Modeling cleavage site heterogeneity\n",
    "\n",
    "**Purpose**: To assess the performance of the PolyaCleavage model on 3'READS holdout testing data and non-3'READS data.\n"
   ]
  },
  {
   "cell_type": "code",
   "execution_count": 1,
   "metadata": {},
   "outputs": [],
   "source": [
    "%load_ext autoreload"
   ]
  },
  {
   "cell_type": "code",
   "execution_count": 2,
   "metadata": {},
   "outputs": [],
   "source": [
    "%autoreload 2"
   ]
  },
  {
   "cell_type": "code",
   "execution_count": 3,
   "metadata": {},
   "outputs": [],
   "source": [
    "%run -i notebook_setup.py"
   ]
  },
  {
   "cell_type": "markdown",
   "metadata": {},
   "source": [
    "## HELPER FUNCTIONS"
   ]
  },
  {
   "cell_type": "code",
   "execution_count": 4,
   "metadata": {},
   "outputs": [],
   "source": [
    "def load_predictions(data_path, verbose = False):\n",
    "    \n",
    "    data = pd.read_csv(data_path, sep = '\\t')\n",
    "    \n",
    "    if ('normvec' in data.columns):\n",
    "        data['obs_cleavage'] = data['normvec'].apply(lambda x : np.asarray([float(_) for _ in x.strip(\"][\").split(\", \")]))\n",
    "    elif ('readvec' in data.columns):\n",
    "        data['obs_cleavage'] = data['readvec'].apply(lambda x : np.asarray([float(_) for _ in x.strip(\"][\").split(\", \")]))\n",
    "    elif ('scorevec' in data.columns):\n",
    "        data['obs_cleavage'] = data['scorevec'].apply(lambda x : np.asarray([float(_) for _ in x.strip(\"][\").split(\", \")]))\n",
    "\n",
    "    data['obs_entropy'] = data['obs_cleavage'].apply(lambda x : cleavage.calculate_entropy_from_vector(x))\n",
    "    data['obs_mcp']     = data['obs_cleavage'].apply(lambda x : cleavage.calculate_mcp_from_vector(x))\n",
    "    data['obs_entropy_bins'] = pd.qcut(data['obs_entropy'], q = 5, labels = np.arange(1,6,1))\n",
    "\n",
    "    ##\n",
    "    \n",
    "    if ('pred_cleavage' in data.columns):\n",
    "        data['pred_cleavage'] = data['pred_cleavage'].apply(lambda x : np.asarray([float(_) for _ in x.strip(\"][\").split(\", \")]))\n",
    "    elif ('cleavage_vector' in data.columns):\n",
    "        data['pred_cleavage'] = data['cleavage_vector'].apply(lambda x : np.asarray([float(_) for _ in x.strip(\"][\").split(\", \")]))\n",
    "        \n",
    "    data['pred_entropy'] = data['pred_cleavage'].apply(lambda x : cleavage.calculate_entropy_from_vector(x))\n",
    "    data['pred_mcp']     = data['pred_cleavage'].apply(lambda x : cleavage.calculate_mcp_from_vector(x))\n",
    "    \n",
    "    data['pred_normclv'] = data['pred_cleavage'].apply(lambda x : cleavage.background_normalize_cleavage_probabilities(x))\n",
    "    data['pred_normmcp'] = data['pred_normclv'].apply(lambda x : cleavage.calculate_mcp_from_vector(x))\n",
    "    data['pred_norment'] = data['pred_normclv'].apply(lambda x : cleavage.calculate_entropy_from_vector(x))\n",
    "    \n",
    "    if (verbose):\n",
    "        print(f\"{os.path.basename(data_path)}: shape={data.shape}\")\n",
    "    \n",
    "    return data\n"
   ]
  },
  {
   "cell_type": "code",
   "execution_count": 5,
   "metadata": {},
   "outputs": [],
   "source": [
    "def visualize_mcp_correlation(plot_data, plot_desc, data_desc):\n",
    "    \n",
    "    fig,ax = plt.subplots(1, 1, figsize = (1.75, 2))\n",
    "\n",
    "    scorr, pcorr = cleavage.plot_cleavage_evaluation(fig, ax, plot_data['obs_mcp'], plot_data['pred_mcp'], corr = False)\n",
    "\n",
    "    ax.set_xlabel(\"Observed mean cleavage position\")\n",
    "    ax.set_ylabel(\"Predicted mean cleavage position\")\n",
    "\n",
    "    ax.set_xlim(0,50)\n",
    "    ax.set_xticks(np.arange(0,51,25))\n",
    "    ax.set_xticklabels(np.arange(-25,26,25))\n",
    "\n",
    "    ax.set_ylim(0,50)\n",
    "    ax.set_yticks(np.arange(0,51,25))\n",
    "    ax.set_yticklabels(np.arange(-25,26,25))\n",
    "\n",
    "    plt.tight_layout(rect = [0, 0.03, 1, 0.97])\n",
    "    plt.savefig(os.path.join(OUTDIR, f'cleavage_probabilities.{data_desc}.correlation_mcp.{plot_desc}.svg'), format = 'svg', dpi = 600, transparent = True)\n",
    "    plt.show()\n",
    "\n",
    "    print(f\"Corresponding metrics:\\n\\tPearson correlation = {pcorr:.03f}\\n\\tSpearman correlation = {scorr:.03f}\")\n",
    "    \n",
    "    return\n"
   ]
  },
  {
   "cell_type": "code",
   "execution_count": 6,
   "metadata": {},
   "outputs": [],
   "source": [
    "def visualize_ent_correlation(plot_data, plot_desc, data_desc):\n",
    "    \n",
    "    fig,ax = plt.subplots(1, 1, figsize = (1.75, 1.5))\n",
    "    \n",
    "    scorr, pcorr = cleavage.plot_cleavage_evaluation(fig, ax, plot_data['obs_entropy'], plot_data['pred_entropy'], aspect = False, corr = False)\n",
    "\n",
    "    ax.set_xlabel(\"Observed entropy\")\n",
    "    ax.set_ylabel(\"Predicted entropy\")\n",
    "\n",
    "    ax.set_xlim(0,4)\n",
    "    ax.xaxis.set_major_locator(MultipleLocator(1))\n",
    "    \n",
    "    ax.set_ylim(1,4)\n",
    "    ax.yaxis.set_major_locator(MultipleLocator(1))\n",
    "\n",
    "    plt.tight_layout(rect = [0, 0.03, 1, 0.97])\n",
    "    plt.savefig(os.path.join(OUTDIR, f'cleavage_probabilities.{data_desc}.correlation_ent.{plot_desc}.svg'), format = 'svg', dpi = 600, transparent = True)\n",
    "    plt.show()\n",
    "\n",
    "    print(f\"Corresponding metrics:\\n\\tPearson correlation = {pcorr:.03f}\\n\\tSpearman correlation = {scorr:.03f}\")\n",
    "    \n",
    "    return\n"
   ]
  },
  {
   "cell_type": "code",
   "execution_count": 7,
   "metadata": {},
   "outputs": [],
   "source": [
    "def visualize_ent_boxplots(plot_data, plot_desc, data_desc):\n",
    "    \n",
    "    fig,ax = plt.subplots(1,1, figsize = (1,1.5))\n",
    "    \n",
    "    plot_data['obs_entropy_bins2'] = pd.qcut(plot_data['obs_entropy'], q = 5, labels = np.arange(1,6,1))\n",
    "\n",
    "    x = 'obs_entropy_bins2'\n",
    "    y = 'pred_entropy'\n",
    "\n",
    "    sns.boxplot(data = plot_data, x = x, y = y, color = 'lightgray',\n",
    "                boxprops = {'edgecolor' : 'black', 'linewidth' : 0.5},\n",
    "                medianprops = {'color' : 'black', 'linewidth' : 0.5},\n",
    "                whiskerprops = {'color' : 'black', 'linewidth' : 0.5},\n",
    "                capprops = {'color' : 'black', 'linewidth' : 0.5},\n",
    "                flierprops = {'color' : 'black'},\n",
    "                showfliers = False, \n",
    "                ax = ax)\n",
    "\n",
    "    ax.set_xlabel(\"Observed cleavage entropy group\")\n",
    "\n",
    "    ax.set_ylim(None,4)\n",
    "    ax.yaxis.set_major_locator(MultipleLocator(0.5))\n",
    "    ax.set_ylabel(\"Predicted entropy\")\n",
    "\n",
    "    ax.spines['right'].set_visible(False)\n",
    "    ax.spines['top'].set_visible(False)\n",
    "\n",
    "    plt.savefig(os.path.join(OUTDIR, f'cleavage_probabilities.{data_desc}.boxplots_ent.{plot_desc}.svg'), format = 'svg', dpi = 600, transparent = True)\n",
    "    plt.show()\n",
    "\n",
    "\n",
    "    print(\"\\nSummary data:\")\n",
    "    print(plot_data.groupby(x)[y].agg(['count','median','mean','min','max']))\n",
    "\n",
    "    print(\"\\nWilcoxon rank sum tests:\")\n",
    "    print(\"5 vs 1:\", st.ranksums(plot_data.loc[plot_data[x] == 1, y],\n",
    "                                 plot_data.loc[plot_data[x] == 5, y]))\n",
    "\n",
    "\n",
    "    return\n"
   ]
  },
  {
   "cell_type": "markdown",
   "metadata": {},
   "source": [
    "## IMPORTS AND SETUP"
   ]
  },
  {
   "cell_type": "code",
   "execution_count": 8,
   "metadata": {},
   "outputs": [],
   "source": [
    "from paper_utilities import cleavage"
   ]
  },
  {
   "cell_type": "code",
   "execution_count": 9,
   "metadata": {},
   "outputs": [],
   "source": [
    "PROJECT   = \"/projects/b1080/eks/polyadenylation/yeast\"\n",
    "OUTDIR    = os.path.join(PROJECT, 'manuscript', 'analysis', 'cleavage_model_development')\n",
    "RESOURCES = os.path.join(os.path.dirname(OUTDIR), 'resources')\n",
    "os.makedirs(OUTDIR, exist_ok = True)\n"
   ]
  },
  {
   "cell_type": "markdown",
   "metadata": {},
   "source": [
    "## Model performance on 3'READS test set"
   ]
  },
  {
   "cell_type": "code",
   "execution_count": 10,
   "metadata": {},
   "outputs": [
    {
     "name": "stdout",
     "output_type": "stream",
     "text": [
      "polyacleavage_predictions.scer_reads3_test_data.20240423-152708.txt: shape=(4046, 25)\n"
     ]
    }
   ],
   "source": [
    "reads3_preds_site10 = load_predictions(os.path.join(RESOURCES, 'polyacleavage_predictions.scer_reads3_test_data.20240423-152708.txt'), verbose = True)\n"
   ]
  },
  {
   "cell_type": "markdown",
   "metadata": {},
   "source": [
    "#### Correlation in mean cleavage position"
   ]
  },
  {
   "cell_type": "code",
   "execution_count": 11,
   "metadata": {},
   "outputs": [
    {
     "data": {
      "image/png": "[encoded data removed]",
      "text/plain": [
       "<Figure size 126x144 with 2 Axes>"
      ]
     },
     "metadata": {
      "needs_background": "light"
     },
     "output_type": "display_data"
    },
    {
     "name": "stdout",
     "output_type": "stream",
     "text": [
      "Corresponding metrics:\n",
      "\tPearson correlation = 0.763\n",
      "\tSpearman correlation = 0.751\n"
     ]
    }
   ],
   "source": [
    "visualize_mcp_correlation(reads3_preds_site10, 'test_all', 'reads3_site10')\n"
   ]
  },
  {
   "cell_type": "markdown",
   "metadata": {},
   "source": [
    "#### Correlation in cleavage vector entropy"
   ]
  },
  {
   "cell_type": "code",
   "execution_count": 12,
   "metadata": {},
   "outputs": [
    {
     "data": {
      "image/png": "[encoded data removed]",
      "text/plain": [
       "<Figure size 126x108 with 2 Axes>"
      ]
     },
     "metadata": {
      "needs_background": "light"
     },
     "output_type": "display_data"
    },
    {
     "name": "stdout",
     "output_type": "stream",
     "text": [
      "Corresponding metrics:\n",
      "\tPearson correlation = 0.593\n",
      "\tSpearman correlation = 0.593\n"
     ]
    }
   ],
   "source": [
    "visualize_ent_correlation(reads3_preds_site10, 'test_all', 'reads3_site10')\n"
   ]
  },
  {
   "cell_type": "markdown",
   "metadata": {},
   "source": [
    "#### Trends in cleavage vector entropy"
   ]
  },
  {
   "cell_type": "code",
   "execution_count": 13,
   "metadata": {},
   "outputs": [
    {
     "data": {
      "image/png": "[encoded data removed]",
      "text/plain": [
       "<Figure size 72x108 with 1 Axes>"
      ]
     },
     "metadata": {
      "needs_background": "light"
     },
     "output_type": "display_data"
    },
    {
     "name": "stdout",
     "output_type": "stream",
     "text": [
      "\n",
      "Summary data:\n",
      "                   count    median      mean       min       max\n",
      "obs_entropy_bins2                                               \n",
      "1                    810  2.722520  2.727703  0.857998  3.582568\n",
      "2                    809  2.937104  2.937424  2.027384  3.675167\n",
      "3                    809  3.082459  3.068998  2.156531  3.705483\n",
      "4                    809  3.186480  3.177782  1.996477  3.738114\n",
      "5                    809  3.358069  3.336629  2.202805  3.782208\n",
      "\n",
      "Wilcoxon rank sum tests:\n",
      "5 vs 1: RanksumsResult(statistic=-29.009397697013206, pvalue=5.0081614049749224e-185)\n"
     ]
    }
   ],
   "source": [
    "visualize_ent_boxplots(reads3_preds_site10, 'test_all', 'reads3_site10')\n"
   ]
  },
  {
   "cell_type": "markdown",
   "metadata": {},
   "source": [
    "### Golden sites"
   ]
  },
  {
   "cell_type": "code",
   "execution_count": 14,
   "metadata": {},
   "outputs": [
    {
     "name": "stdout",
     "output_type": "stream",
     "text": [
      "polyacleavage_predictions.scer_golden_dist5.20240423-152708.txt: shape=(11673, 25)\n"
     ]
    }
   ],
   "source": [
    "gold_preds_site10 = load_predictions(os.path.join(RESOURCES, 'polyacleavage_predictions.scer_golden_dist5.20240423-152708.txt'), verbose = True)\n"
   ]
  },
  {
   "cell_type": "markdown",
   "metadata": {},
   "source": [
    "#### Correlation in mean cleavage position"
   ]
  },
  {
   "cell_type": "code",
   "execution_count": 15,
   "metadata": {},
   "outputs": [
    {
     "data": {
      "image/png": "[encoded data removed]",
      "text/plain": [
       "<Figure size 126x144 with 2 Axes>"
      ]
     },
     "metadata": {
      "needs_background": "light"
     },
     "output_type": "display_data"
    },
    {
     "name": "stdout",
     "output_type": "stream",
     "text": [
      "Corresponding metrics:\n",
      "\tPearson correlation = 0.914\n",
      "\tSpearman correlation = 0.908\n"
     ]
    }
   ],
   "source": [
    "visualize_mcp_correlation(gold_preds_site10, 'gold_all', 'reads3_site10')\n"
   ]
  },
  {
   "cell_type": "markdown",
   "metadata": {},
   "source": [
    "#### Correlation in cleavage vector entropy"
   ]
  },
  {
   "cell_type": "code",
   "execution_count": 16,
   "metadata": {},
   "outputs": [
    {
     "data": {
      "image/png": "[encoded data removed]",
      "text/plain": [
       "<Figure size 126x108 with 2 Axes>"
      ]
     },
     "metadata": {
      "needs_background": "light"
     },
     "output_type": "display_data"
    },
    {
     "name": "stdout",
     "output_type": "stream",
     "text": [
      "Corresponding metrics:\n",
      "\tPearson correlation = 0.787\n",
      "\tSpearman correlation = 0.777\n"
     ]
    }
   ],
   "source": [
    "visualize_ent_correlation(gold_preds_site10, 'gold_all', 'reads3_site10')\n"
   ]
  },
  {
   "cell_type": "markdown",
   "metadata": {},
   "source": [
    "#### Trends in cleavage vector entropy"
   ]
  },
  {
   "cell_type": "code",
   "execution_count": 17,
   "metadata": {},
   "outputs": [
    {
     "data": {
      "image/png": "[encoded data removed]",
      "text/plain": [
       "<Figure size 72x108 with 1 Axes>"
      ]
     },
     "metadata": {
      "needs_background": "light"
     },
     "output_type": "display_data"
    },
    {
     "name": "stdout",
     "output_type": "stream",
     "text": [
      "\n",
      "Summary data:\n",
      "                   count    median      mean       min       max\n",
      "obs_entropy_bins2                                               \n",
      "1                   2335  2.494404  2.490931  0.783713  3.591145\n",
      "2                   2334  2.775394  2.786220  1.974781  3.656388\n",
      "3                   2335  2.954326  2.955372  2.257270  3.691799\n",
      "4                   2334  3.092907  3.097384  2.357397  3.675857\n",
      "5                   2335  3.318953  3.309096  2.554935  3.783803\n",
      "\n",
      "Wilcoxon rank sum tests:\n",
      "5 vs 1: RanksumsResult(statistic=-57.015746020871504, pvalue=0.0)\n"
     ]
    }
   ],
   "source": [
    "visualize_ent_boxplots(gold_preds_site10, 'gold_all', 'reads3_site10')\n"
   ]
  },
  {
   "cell_type": "markdown",
   "metadata": {},
   "source": [
    "## Model performance on non-3'READS data"
   ]
  },
  {
   "cell_type": "markdown",
   "metadata": {},
   "source": [
    "### 3P-seq"
   ]
  },
  {
   "cell_type": "code",
   "execution_count": 18,
   "metadata": {},
   "outputs": [
    {
     "name": "stdout",
     "output_type": "stream",
     "text": [
      "polyacleavage_predictions.scer_clv_3Pseq.20240423-152708.txt: shape=(15808, 25)\n"
     ]
    }
   ],
   "source": [
    "p3seq_preds_site10 = load_predictions(os.path.join(RESOURCES, 'polyacleavage_predictions.scer_clv_3Pseq.20240423-152708.txt'), verbose = True)\n"
   ]
  },
  {
   "cell_type": "markdown",
   "metadata": {},
   "source": [
    "#### Correlation in mean cleavage position"
   ]
  },
  {
   "cell_type": "code",
   "execution_count": 19,
   "metadata": {},
   "outputs": [
    {
     "data": {
      "image/png": "[encoded data removed]",
      "text/plain": [
       "<Figure size 126x144 with 2 Axes>"
      ]
     },
     "metadata": {
      "needs_background": "light"
     },
     "output_type": "display_data"
    },
    {
     "name": "stdout",
     "output_type": "stream",
     "text": [
      "Corresponding metrics:\n",
      "\tPearson correlation = 0.686\n",
      "\tSpearman correlation = 0.688\n"
     ]
    }
   ],
   "source": [
    "visualize_mcp_correlation(p3seq_preds_site10, 'p3seq_all', 'reads3_site10')\n"
   ]
  },
  {
   "cell_type": "markdown",
   "metadata": {},
   "source": [
    "#### Correlation in cleavage vector entropy"
   ]
  },
  {
   "cell_type": "code",
   "execution_count": 20,
   "metadata": {},
   "outputs": [
    {
     "data": {
      "image/png": "[encoded data removed]",
      "text/plain": [
       "<Figure size 126x108 with 2 Axes>"
      ]
     },
     "metadata": {
      "needs_background": "light"
     },
     "output_type": "display_data"
    },
    {
     "name": "stdout",
     "output_type": "stream",
     "text": [
      "Corresponding metrics:\n",
      "\tPearson correlation = 0.437\n",
      "\tSpearman correlation = 0.450\n"
     ]
    }
   ],
   "source": [
    "visualize_ent_correlation(p3seq_preds_site10, 'p3seq_all', 'reads3_site10')\n"
   ]
  },
  {
   "cell_type": "markdown",
   "metadata": {},
   "source": [
    "#### Trends in cleavage vector entropy"
   ]
  },
  {
   "cell_type": "code",
   "execution_count": 21,
   "metadata": {},
   "outputs": [
    {
     "data": {
      "image/png": "[encoded data removed]",
      "text/plain": [
       "<Figure size 72x108 with 1 Axes>"
      ]
     },
     "metadata": {
      "needs_background": "light"
     },
     "output_type": "display_data"
    },
    {
     "name": "stdout",
     "output_type": "stream",
     "text": [
      "\n",
      "Summary data:\n",
      "                   count    median      mean       min       max\n",
      "obs_entropy_bins2                                               \n",
      "1                   3162  2.771798  2.755438  1.290360  3.766944\n",
      "2                   3161  2.900409  2.887192  1.618382  3.760692\n",
      "3                   3162  3.010487  2.992849  1.838145  3.780586\n",
      "4                   3161  3.101094  3.085912  2.014658  3.740511\n",
      "5                   3162  3.261720  3.236550  2.142001  3.788968\n",
      "\n",
      "Wilcoxon rank sum tests:\n",
      "5 vs 1: RanksumsResult(statistic=-46.16822296067223, pvalue=0.0)\n"
     ]
    }
   ],
   "source": [
    "visualize_ent_boxplots(p3seq_preds_site10, 'p3seq_all', 'reads3_site10')\n"
   ]
  },
  {
   "cell_type": "markdown",
   "metadata": {},
   "source": [
    "### Helicos sequencing data"
   ]
  },
  {
   "cell_type": "code",
   "execution_count": 22,
   "metadata": {},
   "outputs": [
    {
     "name": "stdout",
     "output_type": "stream",
     "text": [
      "polyacleavage_predictions.scer_clv_Helicos.20240423-152708.txt: shape=(21006, 25)\n"
     ]
    }
   ],
   "source": [
    "helicos_preds_site10 = load_predictions(os.path.join(RESOURCES, 'polyacleavage_predictions.scer_clv_Helicos.20240423-152708.txt'), verbose = True)\n"
   ]
  },
  {
   "cell_type": "markdown",
   "metadata": {},
   "source": [
    "#### Correlation in mean cleavage position"
   ]
  },
  {
   "cell_type": "code",
   "execution_count": 23,
   "metadata": {},
   "outputs": [
    {
     "data": {
      "image/png": "[encoded data removed]",
      "text/plain": [
       "<Figure size 126x144 with 2 Axes>"
      ]
     },
     "metadata": {
      "needs_background": "light"
     },
     "output_type": "display_data"
    },
    {
     "name": "stdout",
     "output_type": "stream",
     "text": [
      "Corresponding metrics:\n",
      "\tPearson correlation = 0.774\n",
      "\tSpearman correlation = 0.771\n"
     ]
    }
   ],
   "source": [
    "visualize_mcp_correlation(helicos_preds_site10, 'helicos_all', 'reads3_site10')\n"
   ]
  },
  {
   "cell_type": "markdown",
   "metadata": {},
   "source": [
    "#### Correlation in cleavage vector entropy"
   ]
  },
  {
   "cell_type": "code",
   "execution_count": 24,
   "metadata": {},
   "outputs": [
    {
     "data": {
      "image/png": "[encoded data removed]",
      "text/plain": [
       "<Figure size 126x108 with 2 Axes>"
      ]
     },
     "metadata": {
      "needs_background": "light"
     },
     "output_type": "display_data"
    },
    {
     "name": "stdout",
     "output_type": "stream",
     "text": [
      "Corresponding metrics:\n",
      "\tPearson correlation = 0.411\n",
      "\tSpearman correlation = 0.473\n"
     ]
    }
   ],
   "source": [
    "visualize_ent_correlation(helicos_preds_site10, 'helicos_all', 'reads3_site10')\n"
   ]
  },
  {
   "cell_type": "markdown",
   "metadata": {},
   "source": [
    "#### Trends in cleavage vector entropy"
   ]
  },
  {
   "cell_type": "code",
   "execution_count": 25,
   "metadata": {},
   "outputs": [
    {
     "data": {
      "image/png": "[encoded data removed]",
      "text/plain": [
       "<Figure size 72x108 with 1 Axes>"
      ]
     },
     "metadata": {
      "needs_background": "light"
     },
     "output_type": "display_data"
    },
    {
     "name": "stdout",
     "output_type": "stream",
     "text": [
      "\n",
      "Summary data:\n",
      "                   count    median      mean       min       max\n",
      "obs_entropy_bins2                                               \n",
      "1                   4202  2.796340  2.772918  0.657249  3.711073\n",
      "2                   4201  2.913066  2.899675  1.761273  3.815164\n",
      "3                   4201  3.021792  3.010647  1.628725  3.820360\n",
      "4                   4201  3.138732  3.120976  1.732160  3.816863\n",
      "5                   4201  3.298049  3.264524  2.101008  3.834672\n",
      "\n",
      "Wilcoxon rank sum tests:\n",
      "5 vs 1: RanksumsResult(statistic=-54.80994535432452, pvalue=0.0)\n"
     ]
    }
   ],
   "source": [
    "visualize_ent_boxplots(helicos_preds_site10, 'helicos_all', 'reads3_site10')\n"
   ]
  }
 ],
 "metadata": {
  "kernelspec": {
   "display_name": "Python (tf-train)",
   "language": "python",
   "name": "tf-train"
  },
  "language_info": {
   "codemirror_mode": {
    "name": "ipython",
    "version": 3
   },
   "file_extension": ".py",
   "mimetype": "text/x-python",
   "name": "python",
   "nbconvert_exporter": "python",
   "pygments_lexer": "ipython3",
   "version": "3.6.12"
  }
 },
 "nbformat": 4,
 "nbformat_minor": 2
}
