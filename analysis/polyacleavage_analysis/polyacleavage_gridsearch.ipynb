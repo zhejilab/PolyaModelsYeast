{
 "cells": [
  {
   "cell_type": "markdown",
   "metadata": {},
   "source": [
    "# PolyaCleavage parameter grid search\n",
    "\n",
    "**Purpose**: To identify the optimal PolyaCleavage parameters in *S. cerevisiae* using a comprehensive grid search.\n"
   ]
  },
  {
   "cell_type": "code",
   "execution_count": 1,
   "metadata": {},
   "outputs": [],
   "source": [
    "%load_ext autoreload"
   ]
  },
  {
   "cell_type": "code",
   "execution_count": 2,
   "metadata": {},
   "outputs": [],
   "source": [
    "%autoreload 2"
   ]
  },
  {
   "cell_type": "code",
   "execution_count": 3,
   "metadata": {},
   "outputs": [],
   "source": [
    "%run -i notebook_setup.py"
   ]
  },
  {
   "cell_type": "markdown",
   "metadata": {},
   "source": [
    "## IMPORTS AND SETUP"
   ]
  },
  {
   "cell_type": "code",
   "execution_count": 4,
   "metadata": {},
   "outputs": [],
   "source": [
    "from paper_utilities import models"
   ]
  },
  {
   "cell_type": "code",
   "execution_count": 5,
   "metadata": {},
   "outputs": [],
   "source": [
    "PROJECT   = \"/projects/b1080/eks/polyadenylation/yeast\"\n",
    "OUTDIR    = os.path.join(PROJECT, 'manuscript', 'analysis', 'cleavage_model_gridsearch')\n",
    "RESOURCES = os.path.join(os.path.dirname(OUTDIR), 'resources')\n",
    "os.makedirs(OUTDIR, exist_ok = True)\n"
   ]
  },
  {
   "cell_type": "code",
   "execution_count": 6,
   "metadata": {},
   "outputs": [],
   "source": [
    "boxplot_format = {\n",
    "    'boxprops'     : {'edgecolor' : 'black', 'linewidth' : 0.5},\n",
    "    'medianprops'  : {'color' : 'black', 'linewidth' : 0.5},\n",
    "    'whiskerprops' : {'color' : 'black', 'linewidth' : 0.5},\n",
    "    'capprops'     : {'color' : 'black', 'linewidth' : 0.5},\n",
    "    'flierprops'   : {'color' : 'black'},\n",
    "    'showfliers'   : False\n",
    "}\n",
    "\n",
    "barplot_format = {\n",
    "    'color'     : 'lightgray',\n",
    "    'edgecolor' : 'black',\n",
    "    'linewidth' : 0.5,\n",
    "}"
   ]
  },
  {
   "cell_type": "markdown",
   "metadata": {},
   "source": [
    "## HELPER FUNCTIONS"
   ]
  },
  {
   "cell_type": "code",
   "execution_count": 7,
   "metadata": {},
   "outputs": [],
   "source": [
    "def visualize_parameter_effects(species, data, base_model, test_var, test_val = None, test_order = None, control_seed = 'negative_seed', replicates = 5, xlab_type = None, rotate_labels = False, ent_ylim = (0,1), mcp_ylim = (0,1), val_line = None, show_data = True):\n",
    "    \n",
    "    ## Filter equivalent models with the single parameter varied\n",
    "    \n",
    "    constant_vars = [_ for _ in base_model.keys() if (_ != test_var)]\n",
    "    \n",
    "    cond_mat = np.zeros((len(data), len(constant_vars)))\n",
    "    \n",
    "    for i,v in enumerate(constant_vars):\n",
    "        cond_mat[:,i] = (data[v] == base_model[v])\n",
    "        \n",
    "    cond = np.all(cond_mat, axis = 1)\n",
    "    dt = data.loc[cond].copy()\n",
    "    \n",
    "    if (test_order is not None):\n",
    "        dt = dt.loc[dt[test_var].isin(test_order)].copy()\n",
    "    \n",
    "    if (xlab_type is not None):\n",
    "        dt[test_var] = dt[test_var].astype(xlab_type)\n",
    "    \n",
    "    ## Confirm that all replicates were successfully included\n",
    "    \n",
    "    if (replicates is not None) and not (dt.groupby(test_var).size() == replicates).all():\n",
    "        raise ValueError(\"Incorrect number of replicates found for test parameters:\" + str(dt.groupby(test_var).size()))\n",
    "        \n",
    "    if not (dt.groupby([test_var,control_seed]).size() == 1).all():\n",
    "        raise ValueError(\"More than one model found per parameter+negative seed combination:\" + str(dt.groupby([test_var,control_seed]).size()))\n",
    "        \n",
    "    ## Highlight selected parameter bar\n",
    "    \n",
    "    if (test_val is not None):\n",
    "        dt['highlight'] = (dt[test_var] == test_val)\n",
    "    else:\n",
    "        dt['highlight'] = False\n",
    "    \n",
    "    ## Visualize model receiver-operating characteristic curve\n",
    "    \n",
    "    nlevels = dt[test_var].nunique()\n",
    "    norder = test_order if (test_order is not None) else sorted(dt[test_var].unique().tolist())\n",
    "    \n",
    "    fig,ax = plt.subplots(1,1, figsize = (0.3+(0.15*nlevels),1.5))\n",
    "    \n",
    "    sns.barplot(data = dt, x = test_var, y = 'tp_ent_corr', order = norder, \n",
    "                hue = 'highlight', palette = {False: 'lightgray', True: 'firebrick'}, \n",
    "                dodge = False, ax = ax, **barplot_format)\n",
    "    \n",
    "    if (test_val is not None) and (val_line is not None):\n",
    "        mean_val = dt.loc[dt[test_var] == test_val, 'tp_ent_corr'].agg(val_line)\n",
    "        ax.axhline(mean_val, color = 'red', linewidth = 0.5, zorder = 2)\n",
    "        \n",
    "    if (rotate_labels):\n",
    "        ax.set_xticklabels(ax.get_xticklabels(), rotation = 45, va = 'top', ha = 'right')\n",
    "        \n",
    "    ax.set_ylim(ent_ylim)\n",
    "    \n",
    "    ax.set_xlabel(test_var.replace(\"_\",\" \").capitalize())\n",
    "    ax.set_ylabel(\"TP ENT correlation\")\n",
    "    \n",
    "    ax.get_legend().remove()\n",
    "\n",
    "    ax.spines['right'].set_visible(False)\n",
    "    ax.spines['top'].set_visible(False)\n",
    "    \n",
    "    plt.savefig(os.path.join(OUTDIR, f'polyacleavage_grid_search.{species}.{test_var}.tp_ent_corr.svg'), format = 'svg', dpi = 600)\n",
    "    plt.show()\n",
    "    \n",
    "    if (show_data):\n",
    "        print(\"\\nCorresponding data:\")\n",
    "        summary_data = dt.groupby(test_var)['tp_ent_corr'].agg([val_line,'std']).sort_values(val_line, ascending = False)\n",
    "        summary_data['se'] = summary_data['std'] / np.sqrt(replicates)\n",
    "        summary_data['within1se'] = summary_data[val_line].apply(lambda x : '*' if (x > (summary_data.loc[summary_data[val_line].idxmax(), val_line] - summary_data.loc[summary_data[val_line].idxmax(), 'se'])) else '')\n",
    "        print(summary_data)\n",
    "    \n",
    "    ## Tests for differences in AUROC\n",
    "    \n",
    "    if (test_val is not None) and (val_line is not None):\n",
    "        print(\"\\nT-test for differences in TP ENT corr:\")\n",
    "        ref_auc = dt.loc[dt[test_var] == test_val, 'tp_ent_corr'].tolist()\n",
    "        for v in norder:\n",
    "            if (v != test_val):\n",
    "                alt_auc = dt.loc[dt[test_var] == v, 'tp_ent_corr'].tolist()\n",
    "                alt_pval = st.ttest_ind(ref_auc, alt_auc)[1]\n",
    "                print(f\"{v:4} vs {test_val:4} TP ENT corr: pval = {alt_pval:.02E}\")\n",
    "    \n",
    "    ## Visualize model precision-recall curve\n",
    "    \n",
    "    fig,ax = plt.subplots(1,1, figsize = (0.3+(0.15*nlevels),1.5))\n",
    "    \n",
    "    sns.barplot(data = dt, x = test_var, y = 'tp_mcp_corr', order = norder, \n",
    "                hue = 'highlight', palette = {False: 'lightgray', True: 'firebrick'}, \n",
    "                dodge = False, ax = ax, **barplot_format)\n",
    "    \n",
    "    if (test_val is not None) and (val_line):\n",
    "        mean_val = dt.loc[dt[test_var] == test_val, 'tp_mcp_corr'].agg(val_line)\n",
    "        ax.axhline(mean_val, color = 'red', linewidth = 0.5, zorder = 2)\n",
    "        \n",
    "    if (rotate_labels):\n",
    "        ax.set_xticklabels(ax.get_xticklabels(), rotation = 45, va = 'top', ha = 'right')\n",
    "        \n",
    "    ax.set_ylim(mcp_ylim)\n",
    "    \n",
    "    ax.set_xlabel(test_var.replace(\"_\",\" \").capitalize())\n",
    "    ax.set_ylabel(\"TP MCP correlation\")\n",
    "    \n",
    "    ax.get_legend().remove()\n",
    "\n",
    "    ax.spines['right'].set_visible(False)\n",
    "    ax.spines['top'].set_visible(False)\n",
    "    \n",
    "    plt.savefig(os.path.join(OUTDIR, f'polyacleavage_grid_search.{species}.{test_var}.tp_mcp_corr.svg'), format = 'svg', dpi = 600)\n",
    "    plt.show()\n",
    "    \n",
    "    if (show_data):\n",
    "        print(\"\\nCorresponding data:\")\n",
    "        summary_data = dt.groupby(test_var)['tp_mcp_corr'].agg([val_line,'std']).sort_values(val_line, ascending = False)\n",
    "        summary_data['se'] = summary_data['std'] / np.sqrt(replicates)\n",
    "        summary_data['within1se'] = summary_data[val_line].apply(lambda x : '*' if (x > (summary_data.loc[summary_data[val_line].idxmax(), val_line] - summary_data.loc[summary_data[val_line].idxmax(), 'se'])) else '')\n",
    "        print(summary_data)\n",
    "    \n",
    "    ## Tests for differences in AUPRC\n",
    "    \n",
    "    if (test_val is not None) and (val_line is not None):\n",
    "        print(\"\\nT-test for differences in TP MCP corr:\")\n",
    "        ref_auc = dt.loc[dt[test_var] == test_val, 'tp_mcp_corr'].tolist()\n",
    "        for v in norder:\n",
    "            if (v != test_val):\n",
    "                alt_auc = dt.loc[dt[test_var] == v, 'tp_mcp_corr'].tolist()\n",
    "                alt_pval = st.ttest_ind(ref_auc, alt_auc)[1]\n",
    "                print(f\"{v:4} vs {test_val:4} TP MCP corr: pval = {alt_pval:.02E}\")\n",
    "    \n",
    "    return\n"
   ]
  },
  {
   "cell_type": "code",
   "execution_count": 8,
   "metadata": {},
   "outputs": [],
   "source": [
    "## Cartesian product example code from: https://www.geeksforgeeks.org/cartesian-product-of-any-number-of-sets/\n",
    "\n",
    "def cartesianProduct(set_a, set_b):\n",
    "    result =[]\n",
    "    for i in range(0, len(set_a)):\n",
    "        for j in range(0, len(set_b)):\n",
    " \n",
    "            # for handling case having cartesian\n",
    "            # product first time of two sets\n",
    "            if type(set_a[i]) != list:         \n",
    "                set_a[i] = [set_a[i]]\n",
    "                 \n",
    "            # copying all the members\n",
    "            # of set_a to temp\n",
    "            temp = [num for num in set_a[i]]\n",
    "             \n",
    "            # add member of set_b to \n",
    "            # temp to have cartesian product     \n",
    "            temp.append(set_b[j])             \n",
    "            result.append(temp)  \n",
    "             \n",
    "    return result\n",
    " \n",
    "# Function to do a cartesian \n",
    "# product of N sets \n",
    "def Cartesian(list_a):\n",
    "     \n",
    "    # result of cartesian product\n",
    "    # of all the sets taken two at a time\n",
    "    temp = list_a[0]\n",
    "     \n",
    "    # do product of N sets \n",
    "    for i in range(1, len(list_a)):\n",
    "        temp = cartesianProduct(temp, list_a[i])\n",
    "         \n",
    "    return temp\n"
   ]
  },
  {
   "cell_type": "code",
   "execution_count": 9,
   "metadata": {},
   "outputs": [],
   "source": [
    "def visualize_combination_effects(species, data, base_model, test_vars, test_vals = None, test_orders = None, control_seed = 'negative_seed', replicates = 5, xlab_types = None, rotate_labels = False, ent_ylim = (0,1), mcp_ylim = (0,1), val_line = None, show_data = True):\n",
    "    \n",
    "    ## Filter equivalent models with the combination parameters varied\n",
    "    \n",
    "    constant_vars = [_ for _ in base_model.keys() if (_ not in test_vars)]\n",
    "    \n",
    "    cond_mat = np.zeros((len(data), len(constant_vars)))\n",
    "    \n",
    "    for i,v in enumerate(constant_vars):\n",
    "        cond_mat[:,i] = (data[v] == base_model[v])\n",
    "        \n",
    "    cond = np.all(cond_mat, axis = 1)\n",
    "    dt = data.loc[cond].copy()\n",
    "    \n",
    "    if (xlab_types is not None):\n",
    "        for (test_var,xlab_type) in zip(test_vars,xlab_types):\n",
    "            dt[test_var] = dt[test_var].astype(xlab_type)\n",
    "            \n",
    "    dt['label'] = dt.apply(lambda row : \"-\".join([str(row[t]) for t in test_vars]), axis = 1)\n",
    "    \n",
    "    ## Confirm that all replicates were successfully included\n",
    "    \n",
    "    if (replicates is not None) and not (dt.groupby(test_vars).size() == replicates).all():\n",
    "        raise ValueError(\"Incorrect number of replicates found for test parameters:\" + str(dt.groupby(test_vars).size()))\n",
    "        \n",
    "    if not (dt.groupby(test_vars + [control_seed]).size() == 1).all():\n",
    "        raise ValueError(\"More than one model found per parameter+negative seed combination:\" + str(dt.groupby(test_vars + [control_seed]).size()))\n",
    "    \n",
    "    ## Highlight selected parameter bar\n",
    "    \n",
    "    if (test_vals is not None):\n",
    "        dt['highlight'] = (dt['label'] == test_vals)\n",
    "    else:\n",
    "        dt['highlight'] = False\n",
    "        \n",
    "    ## Visualize model receiver-operating characteristic curve\n",
    "    \n",
    "    nlevels = len(dt[test_vars].drop_duplicates())\n",
    "    \n",
    "    if (test_orders is not None):\n",
    "        norder = test_orders\n",
    "    else:\n",
    "        norder = [\"-\".join(_) for _ in Cartesian([dt[test_var].sort_values().unique().astype(str).tolist() for test_var in test_vars]) if (\"-\".join(_) in dt['label'].unique().tolist())]\n",
    "    \n",
    "    fig,ax = plt.subplots(1,1, figsize = (0.3+(0.15*nlevels),1.5))\n",
    "    \n",
    "    sns.barplot(data = dt, x = 'label', y = 'tp_ent_corr', order = norder, \n",
    "                hue = 'highlight', palette = {False: 'lightgray', True: 'firebrick'}, \n",
    "                dodge = False, ax = ax, **barplot_format)\n",
    "    \n",
    "    if (test_vals is not None) and (val_line is not None):\n",
    "        mean_val = dt.loc[dt['label'] == test_vals, 'tp_ent_corr'].agg(val_line)\n",
    "        ax.axhline(mean_val, color = 'red', linewidth = 0.5, zorder = 2)\n",
    "        \n",
    "    if (rotate_labels):\n",
    "        ax.set_xticklabels(ax.get_xticklabels(), rotation = 45, va = 'top', ha = 'right')\n",
    "        \n",
    "    ax.set_ylim(ent_ylim)\n",
    "    \n",
    "    ax.set_xlabel(\"-\".join([test_var.replace(\"_\",\" \").capitalize() for test_var in test_vars]))\n",
    "    ax.set_ylabel(\"TP ENT correlation\")\n",
    "    \n",
    "    ax.get_legend().remove()\n",
    "\n",
    "    ax.spines['right'].set_visible(False)\n",
    "    ax.spines['top'].set_visible(False)\n",
    "    \n",
    "    plt.savefig(os.path.join(OUTDIR, f'polyacleavage_grid_search.{species}.{test_var}.tp_ent_corr.svg'), format = 'svg', dpi = 600)\n",
    "    plt.show()\n",
    "    \n",
    "    if (show_data):\n",
    "        print(\"\\nCorresponding data:\")\n",
    "        summary_data = dt.groupby('label')['tp_ent_corr'].agg([val_line,'std']).sort_values(val_line, ascending = False)\n",
    "        summary_data['se'] = summary_data['std'] / np.sqrt(replicates)\n",
    "        summary_data['within1se'] = summary_data[val_line].apply(lambda x : '*' if (x > (summary_data.loc[summary_data[val_line].idxmax(), val_line] - summary_data.loc[summary_data[val_line].idxmax(), 'se'])) else '')\n",
    "        print(summary_data)\n",
    "    \n",
    "    ## Tests for differences in AUROC\n",
    "    \n",
    "    if (test_vals is not None) and (val_line is not None):\n",
    "        print(\"\\nT-test for differences in TP ENT corr:\")\n",
    "        ref_auc = dt.loc[dt['label'] == test_vals, 'tp_ent_corr'].tolist()\n",
    "        for v in norder:\n",
    "            if (v != test_vals):\n",
    "                alt_auc = dt.loc[dt['label'] == v, 'tp_ent_corr'].tolist()\n",
    "                alt_pval = st.ttest_ind(ref_auc, alt_auc)[1]\n",
    "                print(f\"{v:4} vs {test_vals:4} TP ENT corr: pval = {alt_pval:.02E}\")\n",
    "    \n",
    "    ## Visualize model precision-recall curve\n",
    "    \n",
    "    fig,ax = plt.subplots(1,1, figsize = (0.3+(0.15*nlevels),1.5))\n",
    "    \n",
    "    sns.barplot(data = dt, x = 'label', y = 'tp_mcp_corr', order = norder, \n",
    "                hue = 'highlight', palette = {False: 'lightgray', True: 'firebrick'}, \n",
    "                dodge = False, ax = ax, **barplot_format)\n",
    "    \n",
    "    if (test_vals is not None) and (val_line is not None):\n",
    "        mean_val = dt.loc[dt['label'] == test_vals, 'tp_mcp_corr'].agg(val_line)\n",
    "        ax.axhline(mean_val, color = 'red', linewidth = 0.5, zorder = 2)\n",
    "        \n",
    "    if (rotate_labels):\n",
    "        ax.set_xticklabels(ax.get_xticklabels(), rotation = 45, va = 'top', ha = 'right')\n",
    "        \n",
    "    ax.set_ylim(mcp_ylim)\n",
    "    \n",
    "    ax.set_xlabel(\"-\".join([test_var.replace(\"_\",\" \").capitalize() for test_var in test_vars]))\n",
    "    ax.set_ylabel(\"TP MCP correlation\")\n",
    "    \n",
    "    ax.get_legend().remove()\n",
    "\n",
    "    ax.spines['right'].set_visible(False)\n",
    "    ax.spines['top'].set_visible(False)\n",
    "    \n",
    "    plt.savefig(os.path.join(OUTDIR, f'polyacleavage_grid_search.{species}.{test_var}.tp_mcp_corr.svg'), format = 'svg', dpi = 600)\n",
    "    plt.show()\n",
    "    \n",
    "    if (show_data):\n",
    "        print(\"\\nCorresponding data:\")\n",
    "        summary_data = dt.groupby('label')['tp_mcp_corr'].agg([val_line,'std']).sort_values(val_line, ascending = False)\n",
    "        summary_data['se'] = summary_data['std'] / np.sqrt(replicates)\n",
    "        summary_data['within1se'] = summary_data[val_line].apply(lambda x : '*' if (x > (summary_data.loc[summary_data[val_line].idxmax(), val_line] - summary_data.loc[summary_data[val_line].idxmax(), 'se'])) else '')\n",
    "        print(summary_data)\n",
    "    \n",
    "    ## Tests for differences in AUPRC\n",
    "    \n",
    "    if (test_vals is not None) and (val_line is not None):\n",
    "        print(\"\\nT-test for differences in TP MCP corr:\")\n",
    "        ref_auc = dt.loc[dt['label'] == test_vals, 'tp_mcp_corr'].tolist()\n",
    "        for v in norder:\n",
    "            if (v != test_vals):\n",
    "                alt_auc = dt.loc[dt['label'] == v, 'tp_mcp_corr'].tolist()\n",
    "                alt_pval = st.ttest_ind(ref_auc, alt_auc)[1]\n",
    "                print(f\"{v:4} vs {test_vals:4} TP MCP corr: pval = {alt_pval:.02E}\")\n",
    "    return\n"
   ]
  },
  {
   "cell_type": "markdown",
   "metadata": {},
   "source": [
    "## ANALYSIS"
   ]
  },
  {
   "cell_type": "code",
   "execution_count": 10,
   "metadata": {},
   "outputs": [],
   "source": [
    "scer_config = {\n",
    "    'architecture'  : 'cleavage',\n",
    "    'sequence_size' : 500,\n",
    "    'conv_units'    : 128,\n",
    "    'conv_shape'    : 8,\n",
    "    'lstm_units'    : 32,\n",
    "    'bin_dropout'   : 0.1,\n",
    "    'vec_dropout'   : 0.3,\n",
    "    'learning_rate' : 0.001,\n",
    "    'kernel_initializer' : 'zeros',\n",
    "}\n"
   ]
  },
  {
   "cell_type": "markdown",
   "metadata": {},
   "source": [
    "### Saccharomyces cerevisiae"
   ]
  },
  {
   "cell_type": "markdown",
   "metadata": {},
   "source": [
    "#### Parameter grid search"
   ]
  },
  {
   "cell_type": "code",
   "execution_count": 11,
   "metadata": {},
   "outputs": [
    {
     "name": "stdout",
     "output_type": "stream",
     "text": [
      "(265, 22)\n"
     ]
    }
   ],
   "source": [
    "scer_grid = pd.read_csv(os.path.join(RESOURCES, 'polyacleavage_replicate_summary.saccharomyces_cerevisiae.txt'), sep = \"\\t\")\n",
    "scer_grid = scer_grid.loc[scer_grid['modeltype'].str.contains('imbalgrid')]\n",
    "\n",
    "scer_grid['kfold'] = scer_grid['dataset'].apply(lambda x : x.replace(\".txt\",\"\").split(\"kfold_\")[-1])\n",
    "\n",
    "print(scer_grid.shape)\n"
   ]
  },
  {
   "cell_type": "code",
   "execution_count": 12,
   "metadata": {},
   "outputs": [
    {
     "data": {
      "image/png": "[encoded data removed]",
      "text/plain": [
       "<Figure size 54x108 with 1 Axes>"
      ]
     },
     "metadata": {
      "needs_background": "light"
     },
     "output_type": "display_data"
    },
    {
     "name": "stdout",
     "output_type": "stream",
     "text": [
      "\n",
      "Corresponding data:\n",
      "                        mean       std        se within1se\n",
      "kernel_initializer                                        \n",
      "zeros               0.485730  0.015257  0.006823         *\n",
      "glorot_uniform      0.475411  0.016550  0.007402          \n",
      "glorot_normal       0.472070  0.009956  0.004452          \n",
      "\n",
      "T-test for differences in TP ENT corr:\n",
      "glorot_normal vs zeros TP ENT corr: pval = 1.32E-01\n",
      "glorot_uniform vs zeros TP ENT corr: pval = 3.35E-01\n"
     ]
    },
    {
     "data": {
      "image/png": "[encoded data removed]",
      "text/plain": [
       "<Figure size 54x108 with 1 Axes>"
      ]
     },
     "metadata": {
      "needs_background": "light"
     },
     "output_type": "display_data"
    },
    {
     "name": "stdout",
     "output_type": "stream",
     "text": [
      "\n",
      "Corresponding data:\n",
      "                        mean       std        se within1se\n",
      "kernel_initializer                                        \n",
      "zeros               0.706456  0.011012  0.004925         *\n",
      "glorot_uniform      0.685482  0.009939  0.004445          \n",
      "glorot_normal       0.681715  0.002563  0.001146          \n",
      "\n",
      "T-test for differences in TP MCP corr:\n",
      "glorot_normal vs zeros TP MCP corr: pval = 1.20E-03\n",
      "glorot_uniform vs zeros TP MCP corr: pval = 1.34E-02\n"
     ]
    }
   ],
   "source": [
    "visualize_parameter_effects('saccharomyces_cerevisiae', scer_grid, scer_config, \n",
    "                            'kernel_initializer', 'zeros',\n",
    "                            control_seed = 'kfold', replicates = 5, rotate_labels = True,\n",
    "                            val_line = 'mean', ent_ylim = (0,0.6), mcp_ylim = (0,0.8))\n"
   ]
  },
  {
   "cell_type": "code",
   "execution_count": 13,
   "metadata": {
    "scrolled": false
   },
   "outputs": [
    {
     "data": {
      "image/png": "[encoded data removed]",
      "text/plain": [
       "<Figure size 108x108 with 1 Axes>"
      ]
     },
     "metadata": {
      "needs_background": "light"
     },
     "output_type": "display_data"
    },
    {
     "name": "stdout",
     "output_type": "stream",
     "text": [
      "\n",
      "Corresponding data:\n",
      "                  mean       std        se within1se\n",
      "architecture                                        \n",
      "cleavage0a    0.533111  0.010842  0.004849         *\n",
      "cleavage0b    0.516088  0.013648  0.006103          \n",
      "cleavage1     0.515013  0.012006  0.005369          \n",
      "cleavage0c    0.514487  0.013543  0.006056          \n",
      "cleavage0d    0.511509  0.014959  0.006690          \n",
      "cleavage1b    0.504302  0.011099  0.004964          \n",
      "cleavage2     0.502752  0.012945  0.005789          \n",
      "cleavage      0.485730  0.015257  0.006823          \n",
      "\n",
      "T-test for differences in TP ENT corr:\n",
      "cleavage0b vs cleavage0a TP ENT corr: pval = 6.05E-02\n",
      "cleavage0c vs cleavage0a TP ENT corr: pval = 4.31E-02\n",
      "cleavage0d vs cleavage0a TP ENT corr: pval = 3.09E-02\n",
      "cleavage1 vs cleavage0a TP ENT corr: pval = 3.69E-02\n",
      "cleavage1b vs cleavage0a TP ENT corr: pval = 3.20E-03\n",
      "cleavage2 vs cleavage0a TP ENT corr: pval = 3.84E-03\n",
      "cleavage vs cleavage0a TP ENT corr: pval = 4.76E-04\n"
     ]
    },
    {
     "data": {
      "image/png": "[encoded data removed]",
      "text/plain": [
       "<Figure size 108x108 with 1 Axes>"
      ]
     },
     "metadata": {
      "needs_background": "light"
     },
     "output_type": "display_data"
    },
    {
     "name": "stdout",
     "output_type": "stream",
     "text": [
      "\n",
      "Corresponding data:\n",
      "                  mean       std        se within1se\n",
      "architecture                                        \n",
      "cleavage0a    0.725013  0.007030  0.003144         *\n",
      "cleavage1b    0.724164  0.007891  0.003529         *\n",
      "cleavage1     0.718738  0.007904  0.003535          \n",
      "cleavage      0.706456  0.011012  0.004925          \n",
      "cleavage2     0.705435  0.017085  0.007641          \n",
      "cleavage0c    0.698300  0.010891  0.004870          \n",
      "cleavage0b    0.698127  0.011110  0.004969          \n",
      "cleavage0d    0.691699  0.005210  0.002330          \n",
      "\n",
      "T-test for differences in TP MCP corr:\n",
      "cleavage0b vs cleavage0a TP MCP corr: pval = 1.82E-03\n",
      "cleavage0c vs cleavage0a TP MCP corr: pval = 1.74E-03\n",
      "cleavage0d vs cleavage0a TP MCP corr: pval = 2.78E-05\n",
      "cleavage1 vs cleavage0a TP MCP corr: pval = 2.21E-01\n",
      "cleavage1b vs cleavage0a TP MCP corr: pval = 8.62E-01\n",
      "cleavage2 vs cleavage0a TP MCP corr: pval = 4.53E-02\n",
      "cleavage vs cleavage0a TP MCP corr: pval = 1.31E-02\n"
     ]
    }
   ],
   "source": [
    "visualize_parameter_effects('saccharomyces_cerevisiae', scer_grid, scer_config, \n",
    "                            'architecture', 'cleavage0a', ['cleavage0a','cleavage0b','cleavage0c','cleavage0d','cleavage1','cleavage1b','cleavage2','cleavage'],\n",
    "                            control_seed = 'kfold', replicates = 5, rotate_labels = True, \n",
    "                            val_line = 'mean', ent_ylim = (0,0.6), mcp_ylim = (0,0.8))\n"
   ]
  },
  {
   "cell_type": "code",
   "execution_count": 14,
   "metadata": {
    "scrolled": false
   },
   "outputs": [
    {
     "data": {
      "image/png": "[encoded data removed]",
      "text/plain": [
       "<Figure size 140.4x108 with 1 Axes>"
      ]
     },
     "metadata": {
      "needs_background": "light"
     },
     "output_type": "display_data"
    },
    {
     "name": "stdout",
     "output_type": "stream",
     "text": [
      "\n",
      "Corresponding data:\n",
      "              mean       std        se within1se\n",
      "label                                           \n",
      "1024-128  0.516651  0.019346  0.008652         *\n",
      "1024-256  0.516280  0.018289  0.008179         *\n",
      "512-128   0.511223  0.015819  0.007074         *\n",
      "1024-64   0.510302  0.015128  0.006766         *\n",
      "1024-32   0.506769  0.018656  0.008343          \n",
      "512-32    0.506409  0.008915  0.003987          \n",
      "512-256   0.506156  0.023201  0.010376          \n",
      "1024-512  0.503093  0.015449  0.006909          \n",
      "512-16    0.500342  0.005208  0.002329          \n",
      "1024-16   0.499081  0.007379  0.003300          \n",
      "512-64    0.498420  0.013720  0.006136          \n",
      "\n",
      "T-test for differences in TP ENT corr:\n",
      "512-16 vs 1024-256 TP ENT corr: pval = 9.78E-02\n",
      "512-32 vs 1024-256 TP ENT corr: pval = 3.10E-01\n",
      "512-64 vs 1024-256 TP ENT corr: pval = 1.19E-01\n",
      "512-128 vs 1024-256 TP ENT corr: pval = 6.53E-01\n",
      "512-256 vs 1024-256 TP ENT corr: pval = 4.66E-01\n",
      "1024-16 vs 1024-256 TP ENT corr: pval = 8.70E-02\n",
      "1024-32 vs 1024-256 TP ENT corr: pval = 4.39E-01\n",
      "1024-64 vs 1024-256 TP ENT corr: pval = 5.89E-01\n",
      "1024-128 vs 1024-256 TP ENT corr: pval = 9.76E-01\n",
      "1024-512 vs 1024-256 TP ENT corr: pval = 2.53E-01\n"
     ]
    },
    {
     "data": {
      "image/png": "[encoded data removed]",
      "text/plain": [
       "<Figure size 140.4x108 with 1 Axes>"
      ]
     },
     "metadata": {
      "needs_background": "light"
     },
     "output_type": "display_data"
    },
    {
     "name": "stdout",
     "output_type": "stream",
     "text": [
      "\n",
      "Corresponding data:\n",
      "              mean       std        se within1se\n",
      "label                                           \n",
      "1024-256  0.738252  0.004844  0.002166         *\n",
      "1024-64   0.730960  0.007330  0.003278          \n",
      "1024-128  0.730582  0.008012  0.003583          \n",
      "512-128   0.726457  0.011501  0.005144          \n",
      "1024-32   0.726199  0.005956  0.002663          \n",
      "1024-512  0.724239  0.006622  0.002962          \n",
      "512-256   0.722079  0.011544  0.005163          \n",
      "512-32    0.721958  0.006906  0.003088          \n",
      "512-64    0.718491  0.012490  0.005586          \n",
      "1024-16   0.717968  0.003629  0.001623          \n",
      "512-16    0.717806  0.008026  0.003589          \n",
      "\n",
      "T-test for differences in TP MCP corr:\n",
      "512-16 vs 1024-256 TP MCP corr: pval = 1.23E-03\n",
      "512-32 vs 1024-256 TP MCP corr: pval = 2.55E-03\n",
      "512-64 vs 1024-256 TP MCP corr: pval = 1.09E-02\n",
      "512-128 vs 1024-256 TP MCP corr: pval = 6.75E-02\n",
      "512-256 vs 1024-256 TP MCP corr: pval = 2.02E-02\n",
      "1024-16 vs 1024-256 TP MCP corr: pval = 6.97E-05\n",
      "1024-32 vs 1024-256 TP MCP corr: pval = 7.96E-03\n",
      "1024-64 vs 1024-256 TP MCP corr: pval = 1.01E-01\n",
      "1024-128 vs 1024-256 TP MCP corr: pval = 1.04E-01\n",
      "1024-512 vs 1024-256 TP MCP corr: pval = 5.10E-03\n"
     ]
    }
   ],
   "source": [
    "visualize_combination_effects('saccharomyces_cerevisiae', scer_grid.loc[scer_grid['conv_units'] > 256], scer_config, \n",
    "                              ['conv_units','lstm_units'], '1024-256', xlab_types = [int,int], \n",
    "                              control_seed = 'kfold', replicates = 5, rotate_labels = True, \n",
    "                              val_line = 'mean', ent_ylim = (0,0.6), mcp_ylim = (0,0.8))\n"
   ]
  },
  {
   "cell_type": "code",
   "execution_count": 15,
   "metadata": {},
   "outputs": [
    {
     "data": {
      "image/png": "[encoded data removed]",
      "text/plain": [
       "<Figure size 75.6x108 with 1 Axes>"
      ]
     },
     "metadata": {
      "needs_background": "light"
     },
     "output_type": "display_data"
    },
    {
     "name": "stdout",
     "output_type": "stream",
     "text": [
      "\n",
      "Corresponding data:\n",
      "                mean       std        se within1se\n",
      "conv_shape                                        \n",
      "12          0.486954  0.011830  0.005291         *\n",
      "8           0.485730  0.015257  0.006823         *\n",
      "10          0.485143  0.009637  0.004310         *\n",
      "6           0.479156  0.015699  0.007021          \n",
      "4           0.456711  0.015503  0.006933          \n",
      "\n",
      "T-test for differences in TP ENT corr:\n",
      "   4 vs   10 TP ENT corr: pval = 8.29E-03\n",
      "   6 vs   10 TP ENT corr: pval = 4.88E-01\n",
      "   8 vs   10 TP ENT corr: pval = 9.44E-01\n",
      "  12 vs   10 TP ENT corr: pval = 7.97E-01\n"
     ]
    },
    {
     "data": {
      "image/png": "[encoded data removed]",
      "text/plain": [
       "<Figure size 75.6x108 with 1 Axes>"
      ]
     },
     "metadata": {
      "needs_background": "light"
     },
     "output_type": "display_data"
    },
    {
     "name": "stdout",
     "output_type": "stream",
     "text": [
      "\n",
      "Corresponding data:\n",
      "                mean       std        se within1se\n",
      "conv_shape                                        \n",
      "10          0.711557  0.007575  0.003388         *\n",
      "8           0.706456  0.011012  0.004925          \n",
      "6           0.701155  0.007020  0.003140          \n",
      "12          0.699314  0.009359  0.004185          \n",
      "4           0.661578  0.002598  0.001162          \n",
      "\n",
      "T-test for differences in TP MCP corr:\n",
      "   4 vs   10 TP MCP corr: pval = 6.73E-07\n",
      "   6 vs   10 TP MCP corr: pval = 5.44E-02\n",
      "   8 vs   10 TP MCP corr: pval = 4.18E-01\n",
      "  12 vs   10 TP MCP corr: pval = 5.26E-02\n"
     ]
    }
   ],
   "source": [
    "visualize_parameter_effects('saccharomyces_cerevisiae', scer_grid, scer_config, \n",
    "                            'conv_shape', 10, xlab_type = int,\n",
    "                            control_seed = 'kfold', replicates = 5, \n",
    "                            val_line = 'mean', ent_ylim = (0,0.6), mcp_ylim = (0,0.8))\n"
   ]
  },
  {
   "cell_type": "code",
   "execution_count": 16,
   "metadata": {
    "scrolled": false
   },
   "outputs": [
    {
     "data": {
      "image/png": "[encoded data removed]",
      "text/plain": [
       "<Figure size 118.8x108 with 1 Axes>"
      ]
     },
     "metadata": {
      "needs_background": "light"
     },
     "output_type": "display_data"
    },
    {
     "name": "stdout",
     "output_type": "stream",
     "text": [
      "\n",
      "Corresponding data:\n",
      "             mean       std        se within1se\n",
      "label                                          \n",
      "0.7-0.3  0.513140  0.011203  0.005010         *\n",
      "0.7-0.1  0.510369  0.014574  0.006518         *\n",
      "0.5-0.3  0.509942  0.014228  0.006363         *\n",
      "0.5-0.5  0.508685  0.008992  0.004021         *\n",
      "0.5-0.1  0.504558  0.012421  0.005555          \n",
      "0.7-0.5  0.503936  0.015404  0.006889          \n",
      "0.3-0.1  0.499136  0.011484  0.005136          \n",
      "0.3-0.5  0.498184  0.008526  0.003813          \n",
      "0.3-0.3  0.497067  0.016753  0.007492          \n",
      "\n",
      "T-test for differences in TP ENT corr:\n",
      "0.3-0.1 vs 0.5-0.5 TP ENT corr: pval = 1.81E-01\n",
      "0.3-0.3 vs 0.5-0.5 TP ENT corr: pval = 2.09E-01\n",
      "0.3-0.5 vs 0.5-0.5 TP ENT corr: pval = 9.47E-02\n",
      "0.5-0.1 vs 0.5-0.5 TP ENT corr: pval = 5.64E-01\n",
      "0.5-0.3 vs 0.5-0.5 TP ENT corr: pval = 8.72E-01\n",
      "0.7-0.1 vs 0.5-0.5 TP ENT corr: pval = 8.31E-01\n",
      "0.7-0.3 vs 0.5-0.5 TP ENT corr: pval = 5.08E-01\n",
      "0.7-0.5 vs 0.5-0.5 TP ENT corr: pval = 5.68E-01\n"
     ]
    },
    {
     "data": {
      "image/png": "[encoded data removed]",
      "text/plain": [
       "<Figure size 118.8x108 with 1 Axes>"
      ]
     },
     "metadata": {
      "needs_background": "light"
     },
     "output_type": "display_data"
    },
    {
     "name": "stdout",
     "output_type": "stream",
     "text": [
      "\n",
      "Corresponding data:\n",
      "             mean       std        se within1se\n",
      "label                                          \n",
      "0.5-0.5  0.739310  0.008606  0.003849         *\n",
      "0.7-0.5  0.737622  0.007934  0.003548         *\n",
      "0.7-0.3  0.735211  0.010683  0.004778          \n",
      "0.3-0.5  0.728738  0.007413  0.003315          \n",
      "0.5-0.3  0.727437  0.009280  0.004150          \n",
      "0.7-0.1  0.721475  0.009202  0.004115          \n",
      "0.3-0.3  0.718549  0.011497  0.005141          \n",
      "0.5-0.1  0.712684  0.018384  0.008221          \n",
      "0.3-0.1  0.705278  0.013375  0.005981          \n",
      "\n",
      "T-test for differences in TP MCP corr:\n",
      "0.3-0.1 vs 0.5-0.5 TP MCP corr: pval = 1.38E-03\n",
      "0.3-0.3 vs 0.5-0.5 TP MCP corr: pval = 1.20E-02\n",
      "0.3-0.5 vs 0.5-0.5 TP MCP corr: pval = 7.10E-02\n",
      "0.5-0.1 vs 0.5-0.5 TP MCP corr: pval = 1.89E-02\n",
      "0.5-0.3 vs 0.5-0.5 TP MCP corr: pval = 6.92E-02\n",
      "0.7-0.1 vs 0.5-0.5 TP MCP corr: pval = 1.33E-02\n",
      "0.7-0.3 vs 0.5-0.5 TP MCP corr: pval = 5.23E-01\n",
      "0.7-0.5 vs 0.5-0.5 TP MCP corr: pval = 7.55E-01\n"
     ]
    }
   ],
   "source": [
    "visualize_combination_effects('saccharomyces_cerevisiae', scer_grid.loc[scer_grid['bin_dropout'] > 0.1], scer_config, \n",
    "                              ['bin_dropout','vec_dropout'], '0.5-0.5', xlab_types = [float,float], \n",
    "                              control_seed = 'kfold', replicates = 5, rotate_labels = True, \n",
    "                              val_line = 'mean', ent_ylim = (0,0.6), mcp_ylim = (0,0.8))\n"
   ]
  },
  {
   "cell_type": "markdown",
   "metadata": {},
   "source": [
    "#### Best configuration"
   ]
  },
  {
   "cell_type": "code",
   "execution_count": 17,
   "metadata": {},
   "outputs": [
    {
     "name": "stdout",
     "output_type": "stream",
     "text": [
      "(20, 21)\n"
     ]
    }
   ],
   "source": [
    "scer_reps = pd.read_csv(os.path.join(RESOURCES, 'polyacleavage_replicate_summary.saccharomyces_cerevisiae.txt'), sep = \"\\t\")\n",
    "scer_reps = scer_reps.loc[(scer_reps['modeltype'] == 'configs')].copy()\n",
    "print(scer_reps.shape)\n"
   ]
  },
  {
   "cell_type": "code",
   "execution_count": 18,
   "metadata": {},
   "outputs": [
    {
     "data": {
      "text/html": [
       "<div>\n",
       "<style scoped>\n",
       "    .dataframe tbody tr th:only-of-type {\n",
       "        vertical-align: middle;\n",
       "    }\n",
       "\n",
       "    .dataframe tbody tr th {\n",
       "        vertical-align: top;\n",
       "    }\n",
       "\n",
       "    .dataframe thead th {\n",
       "        text-align: right;\n",
       "    }\n",
       "</style>\n",
       "<table border=\"1\" class=\"dataframe\">\n",
       "  <thead>\n",
       "    <tr style=\"text-align: right;\">\n",
       "      <th></th>\n",
       "      <th>species</th>\n",
       "      <th>stamp</th>\n",
       "      <th>dataset</th>\n",
       "      <th>genomic_As</th>\n",
       "      <th>positive_sites</th>\n",
       "      <th>negative_seed</th>\n",
       "      <th>split_seed</th>\n",
       "      <th>modeltype</th>\n",
       "      <th>architecture</th>\n",
       "      <th>sequence_size</th>\n",
       "      <th>...</th>\n",
       "      <th>lstm_units</th>\n",
       "      <th>learning_rate</th>\n",
       "      <th>kernel_initializer</th>\n",
       "      <th>max_training_epochs</th>\n",
       "      <th>ideal_epoch</th>\n",
       "      <th>tp_ent_corr</th>\n",
       "      <th>tp_mcp_corr</th>\n",
       "      <th>tp_ent_rank</th>\n",
       "      <th>tp_mcp_rank</th>\n",
       "      <th>overall_rank</th>\n",
       "    </tr>\n",
       "  </thead>\n",
       "  <tbody>\n",
       "    <tr>\n",
       "      <td>274</td>\n",
       "      <td>saccharomyces_cerevisiae</td>\n",
       "      <td>20240423-152708</td>\n",
       "      <td>/projects/b1080/eks/polyadenylation/yeast/sacc...</td>\n",
       "      <td>redistA</td>\n",
       "      <td>NaN</td>\n",
       "      <td>NaN</td>\n",
       "      <td>NaN</td>\n",
       "      <td>configs</td>\n",
       "      <td>cleavage0a</td>\n",
       "      <td>500.0</td>\n",
       "      <td>...</td>\n",
       "      <td>256.0</td>\n",
       "      <td>0.001</td>\n",
       "      <td>zeros</td>\n",
       "      <td>200</td>\n",
       "      <td>29</td>\n",
       "      <td>0.599615</td>\n",
       "      <td>0.759247</td>\n",
       "      <td>1.0</td>\n",
       "      <td>7.0</td>\n",
       "      <td>8.0</td>\n",
       "    </tr>\n",
       "    <tr>\n",
       "      <td>284</td>\n",
       "      <td>saccharomyces_cerevisiae</td>\n",
       "      <td>20240423-152812</td>\n",
       "      <td>/projects/b1080/eks/polyadenylation/yeast/sacc...</td>\n",
       "      <td>redistA</td>\n",
       "      <td>NaN</td>\n",
       "      <td>NaN</td>\n",
       "      <td>NaN</td>\n",
       "      <td>configs</td>\n",
       "      <td>cleavage0a</td>\n",
       "      <td>500.0</td>\n",
       "      <td>...</td>\n",
       "      <td>256.0</td>\n",
       "      <td>0.001</td>\n",
       "      <td>zeros</td>\n",
       "      <td>200</td>\n",
       "      <td>28</td>\n",
       "      <td>0.597786</td>\n",
       "      <td>0.761920</td>\n",
       "      <td>2.0</td>\n",
       "      <td>4.0</td>\n",
       "      <td>6.0</td>\n",
       "    </tr>\n",
       "    <tr>\n",
       "      <td>278</td>\n",
       "      <td>saccharomyces_cerevisiae</td>\n",
       "      <td>20240423-152735</td>\n",
       "      <td>/projects/b1080/eks/polyadenylation/yeast/sacc...</td>\n",
       "      <td>redistA</td>\n",
       "      <td>NaN</td>\n",
       "      <td>NaN</td>\n",
       "      <td>NaN</td>\n",
       "      <td>configs</td>\n",
       "      <td>cleavage0a</td>\n",
       "      <td>500.0</td>\n",
       "      <td>...</td>\n",
       "      <td>256.0</td>\n",
       "      <td>0.001</td>\n",
       "      <td>zeros</td>\n",
       "      <td>200</td>\n",
       "      <td>24</td>\n",
       "      <td>0.597565</td>\n",
       "      <td>0.754234</td>\n",
       "      <td>3.0</td>\n",
       "      <td>12.0</td>\n",
       "      <td>15.0</td>\n",
       "    </tr>\n",
       "    <tr>\n",
       "      <td>279</td>\n",
       "      <td>saccharomyces_cerevisiae</td>\n",
       "      <td>20240423-152744</td>\n",
       "      <td>/projects/b1080/eks/polyadenylation/yeast/sacc...</td>\n",
       "      <td>redistA</td>\n",
       "      <td>NaN</td>\n",
       "      <td>NaN</td>\n",
       "      <td>NaN</td>\n",
       "      <td>configs</td>\n",
       "      <td>cleavage0a</td>\n",
       "      <td>500.0</td>\n",
       "      <td>...</td>\n",
       "      <td>256.0</td>\n",
       "      <td>0.001</td>\n",
       "      <td>zeros</td>\n",
       "      <td>200</td>\n",
       "      <td>44</td>\n",
       "      <td>0.595423</td>\n",
       "      <td>0.763768</td>\n",
       "      <td>4.0</td>\n",
       "      <td>1.0</td>\n",
       "      <td>5.0</td>\n",
       "    </tr>\n",
       "    <tr>\n",
       "      <td>280</td>\n",
       "      <td>saccharomyces_cerevisiae</td>\n",
       "      <td>20240423-152749</td>\n",
       "      <td>/projects/b1080/eks/polyadenylation/yeast/sacc...</td>\n",
       "      <td>redistA</td>\n",
       "      <td>NaN</td>\n",
       "      <td>NaN</td>\n",
       "      <td>NaN</td>\n",
       "      <td>configs</td>\n",
       "      <td>cleavage0a</td>\n",
       "      <td>500.0</td>\n",
       "      <td>...</td>\n",
       "      <td>256.0</td>\n",
       "      <td>0.001</td>\n",
       "      <td>zeros</td>\n",
       "      <td>200</td>\n",
       "      <td>38</td>\n",
       "      <td>0.593310</td>\n",
       "      <td>0.760316</td>\n",
       "      <td>5.0</td>\n",
       "      <td>5.0</td>\n",
       "      <td>10.0</td>\n",
       "    </tr>\n",
       "  </tbody>\n",
       "</table>\n",
       "<p>5 rows × 24 columns</p>\n",
       "</div>"
      ],
      "text/plain": [
       "                      species            stamp  \\\n",
       "274  saccharomyces_cerevisiae  20240423-152708   \n",
       "284  saccharomyces_cerevisiae  20240423-152812   \n",
       "278  saccharomyces_cerevisiae  20240423-152735   \n",
       "279  saccharomyces_cerevisiae  20240423-152744   \n",
       "280  saccharomyces_cerevisiae  20240423-152749   \n",
       "\n",
       "                                               dataset genomic_As  \\\n",
       "274  /projects/b1080/eks/polyadenylation/yeast/sacc...    redistA   \n",
       "284  /projects/b1080/eks/polyadenylation/yeast/sacc...    redistA   \n",
       "278  /projects/b1080/eks/polyadenylation/yeast/sacc...    redistA   \n",
       "279  /projects/b1080/eks/polyadenylation/yeast/sacc...    redistA   \n",
       "280  /projects/b1080/eks/polyadenylation/yeast/sacc...    redistA   \n",
       "\n",
       "     positive_sites  negative_seed  split_seed modeltype architecture  \\\n",
       "274             NaN            NaN         NaN   configs   cleavage0a   \n",
       "284             NaN            NaN         NaN   configs   cleavage0a   \n",
       "278             NaN            NaN         NaN   configs   cleavage0a   \n",
       "279             NaN            NaN         NaN   configs   cleavage0a   \n",
       "280             NaN            NaN         NaN   configs   cleavage0a   \n",
       "\n",
       "     sequence_size  ...  lstm_units  learning_rate  kernel_initializer  \\\n",
       "274          500.0  ...       256.0          0.001               zeros   \n",
       "284          500.0  ...       256.0          0.001               zeros   \n",
       "278          500.0  ...       256.0          0.001               zeros   \n",
       "279          500.0  ...       256.0          0.001               zeros   \n",
       "280          500.0  ...       256.0          0.001               zeros   \n",
       "\n",
       "     max_training_epochs  ideal_epoch  tp_ent_corr tp_mcp_corr  tp_ent_rank  \\\n",
       "274                  200           29     0.599615    0.759247          1.0   \n",
       "284                  200           28     0.597786    0.761920          2.0   \n",
       "278                  200           24     0.597565    0.754234          3.0   \n",
       "279                  200           44     0.595423    0.763768          4.0   \n",
       "280                  200           38     0.593310    0.760316          5.0   \n",
       "\n",
       "     tp_mcp_rank  overall_rank  \n",
       "274          7.0           8.0  \n",
       "284          4.0           6.0  \n",
       "278         12.0          15.0  \n",
       "279          1.0           5.0  \n",
       "280          5.0          10.0  \n",
       "\n",
       "[5 rows x 24 columns]"
      ]
     },
     "execution_count": 18,
     "metadata": {},
     "output_type": "execute_result"
    }
   ],
   "source": [
    "scer_reps['tp_ent_rank'] = scer_reps['tp_ent_corr'].rank(ascending = False, method = 'min')\n",
    "scer_reps['tp_mcp_rank'] = scer_reps['tp_mcp_corr'].rank(ascending = False, method = 'min')\n",
    "\n",
    "scer_reps['overall_rank'] = scer_reps['tp_ent_rank'] + scer_reps['tp_mcp_rank']\n",
    "scer_reps.sort_values('tp_ent_rank').head()\n"
   ]
  },
  {
   "cell_type": "code",
   "execution_count": 19,
   "metadata": {},
   "outputs": [
    {
     "data": {
      "text/plain": [
       "species                                         saccharomyces_cerevisiae\n",
       "stamp                                                    20240423-152708\n",
       "dataset                /projects/b1080/eks/polyadenylation/yeast/sacc...\n",
       "genomic_As                                                       redistA\n",
       "positive_sites                                                       NaN\n",
       "negative_seed                                                        NaN\n",
       "split_seed                                                           NaN\n",
       "modeltype                                                        configs\n",
       "architecture                                                  cleavage0a\n",
       "sequence_size                                                        500\n",
       "bin_dropout                                                          0.7\n",
       "vec_dropout                                                          0.3\n",
       "conv_units                                                          1024\n",
       "conv_shape                                                            10\n",
       "lstm_units                                                           256\n",
       "learning_rate                                                      0.001\n",
       "kernel_initializer                                                 zeros\n",
       "max_training_epochs                                                  200\n",
       "ideal_epoch                                                           29\n",
       "tp_ent_corr                                                     0.599615\n",
       "tp_mcp_corr                                                     0.759247\n",
       "tp_ent_rank                                                            1\n",
       "tp_mcp_rank                                                            7\n",
       "overall_rank                                                           8\n",
       "Name: 274, dtype: object"
      ]
     },
     "execution_count": 19,
     "metadata": {},
     "output_type": "execute_result"
    }
   ],
   "source": [
    "scer_reps.sort_values('tp_ent_rank').iloc[0]"
   ]
  }
 ],
 "metadata": {
  "kernelspec": {
   "display_name": "Python (tf-train)",
   "language": "python",
   "name": "tf-train"
  },
  "language_info": {
   "codemirror_mode": {
    "name": "ipython",
    "version": 3
   },
   "file_extension": ".py",
   "mimetype": "text/x-python",
   "name": "python",
   "nbconvert_exporter": "python",
   "pygments_lexer": "ipython3",
   "version": "3.6.12"
  }
 },
 "nbformat": 4,
 "nbformat_minor": 2
}
