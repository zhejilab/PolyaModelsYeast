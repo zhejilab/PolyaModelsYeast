{
 "cells": [
  {
   "cell_type": "markdown",
   "metadata": {},
   "source": [
    "# Tables of polyA sites for each species\n",
    "\n",
    "**Purpose**: To compile a reference table of clustered cleavage sites, referred to as polyA sites, for each species.\n"
   ]
  },
  {
   "cell_type": "code",
   "execution_count": 1,
   "metadata": {},
   "outputs": [],
   "source": [
    "%load_ext autoreload"
   ]
  },
  {
   "cell_type": "code",
   "execution_count": 2,
   "metadata": {},
   "outputs": [],
   "source": [
    "%autoreload 2"
   ]
  },
  {
   "cell_type": "code",
   "execution_count": 3,
   "metadata": {},
   "outputs": [],
   "source": [
    "%run -i notebook_setup.py"
   ]
  },
  {
   "cell_type": "markdown",
   "metadata": {},
   "source": [
    "## IMPORTS AND SETUP"
   ]
  },
  {
   "cell_type": "code",
   "execution_count": 4,
   "metadata": {},
   "outputs": [],
   "source": [
    "from paper_utilities import motifs"
   ]
  },
  {
   "cell_type": "code",
   "execution_count": 5,
   "metadata": {},
   "outputs": [],
   "source": [
    "PROJECT   = \"/projects/b1080/eks/polyadenylation/yeast/\"\n",
    "OUTDIR    = os.path.join(PROJECT, 'manuscript', 'analysis', 'polya_sites_tables')\n",
    "RESOURCES = os.path.join(os.path.dirname(OUTDIR), 'resources')\n",
    "os.makedirs(OUTDIR, exist_ok = True)\n"
   ]
  },
  {
   "cell_type": "markdown",
   "metadata": {},
   "source": [
    "## HELPER FUNCTIONS"
   ]
  },
  {
   "cell_type": "code",
   "execution_count": 6,
   "metadata": {},
   "outputs": [],
   "source": [
    "def label_site_relative_position(sites_data):\n",
    "    \n",
    "    ## Compile a list of polyA site locations based on their assigned gene, chromosome, and strand\n",
    "    \n",
    "    sites_dict = {}\n",
    "\n",
    "    for i,row in sites_data.iterrows():\n",
    "\n",
    "        if (row['feature'] in ['utr3','utr3_extended']):\n",
    "\n",
    "            rowkey = (row['gene'],row['chrom'],row['strand'])\n",
    "\n",
    "            if not (rowkey in sites_dict):\n",
    "                sites_dict[rowkey] = [row['start']]\n",
    "            else:\n",
    "                sites_dict[rowkey].append(row['start'])\n",
    "                \n",
    "    ## Label each included site with the relative position based on the assigned gene and strand\n",
    "    \n",
    "    sites_dict_labels = {}\n",
    "\n",
    "    for rk,pl in sites_dict.items():\n",
    "\n",
    "        sites_dict_labels[rk] = {}\n",
    "\n",
    "        if (len(pl) == 1):\n",
    "            sites_dict_labels[rk][pl[0]] = 'single'\n",
    "\n",
    "        else:\n",
    "            spl = sorted(pl)\n",
    "            g,c,s = rk\n",
    "\n",
    "            sites_dict_labels[rk][spl[0]] = 'first' if (s == '+') else 'last'\n",
    "            sites_dict_labels[rk][spl[-1]] = 'last' if (s == '+') else 'first'\n",
    "\n",
    "            for p in spl[1:-1]:\n",
    "                sites_dict_labels[rk][p] = 'middle'\n",
    "                \n",
    "    ## Map these relative position labels back to individual sites\n",
    "    \n",
    "    sites_data['position'] = sites_data.apply(lambda row : sites_dict_labels.get((row['gene'],row['chrom'],row['strand']), {}).get(row['start'], np.nan), axis = 1)\n",
    "\n",
    "    sites_data.loc[sites_data['feature'] == 'coding_exon', 'position'] = 'CDS'\n",
    "    sites_data.loc[sites_data['feature'] == 'intron',      'position'] = 'intron'\n",
    "    sites_data.loc[sites_data['feature'] == 'utr5',        'position'] = 'utr5'\n",
    "    sites_data.loc[sites_data['feature'] == 'intergenic',  'position'] = 'intergenic'\n",
    "                \n",
    "    return sites_data\n"
   ]
  },
  {
   "cell_type": "markdown",
   "metadata": {
    "scrolled": false
   },
   "source": [
    "# ANALYSIS\n"
   ]
  },
  {
   "cell_type": "markdown",
   "metadata": {},
   "source": [
    "### Prepare polyA site data"
   ]
  },
  {
   "cell_type": "markdown",
   "metadata": {},
   "source": [
    "#### Load information for polyA sites"
   ]
  },
  {
   "cell_type": "code",
   "execution_count": 7,
   "metadata": {},
   "outputs": [
    {
     "name": "stdout",
     "output_type": "stream",
     "text": [
      "PolyA sites: S.cer=(30931, 32), S.pom=(10588, 32), A.tha=(35443, 32)\n"
     ]
    }
   ],
   "source": [
    "sites_scer = pd.concat([\n",
    "    pd.read_csv(os.path.join(PROJECT, 'saccharomyces_cerevisiae', 'data', 'data_strength', 'redistA.clustered.wild_type.fwd.tf_0.75.ru_0.02.reads_10.annotated.scored_cluster_utr3-utr3_extended.txt'), sep = '\\t'),\n",
    "    pd.read_csv(os.path.join(PROJECT, 'saccharomyces_cerevisiae', 'data', 'data_strength', 'redistA.clustered.wild_type.rev.tf_0.75.ru_0.02.reads_10.annotated.scored_cluster_utr3-utr3_extended.txt'), sep = '\\t'),\n",
    "], ignore_index = True, sort = False)\n",
    "\n",
    "sites_spom = pd.concat([\n",
    "    pd.read_csv(os.path.join(PROJECT, 'schizosaccharomyces_pombe', 'data', 'data_strength', 'redistA.clustered.wild_type.fwd.tf_0.75.ru_0.02.reads_5.annotated.scored_cluster_utr3-utr3_extended.txt'), sep = '\\t'),\n",
    "    pd.read_csv(os.path.join(PROJECT, 'schizosaccharomyces_pombe', 'data', 'data_strength', 'redistA.clustered.wild_type.rev.tf_0.75.ru_0.02.reads_5.annotated.scored_cluster_utr3-utr3_extended.txt'), sep = '\\t'),\n",
    "], ignore_index = True, sort = False)\n",
    "\n",
    "sites_atha = pd.concat([\n",
    "    pd.read_csv(os.path.join(PROJECT, 'arabidopsis_thaliana', 'data', 'data_strength', 'redistA.clustered.wild_type.fwd.tf_0.75.ru_0.02.reads_10.annotated.scored_cluster_utr3-utr3_extended.txt'), sep = '\\t'),\n",
    "    pd.read_csv(os.path.join(PROJECT, 'arabidopsis_thaliana', 'data', 'data_strength', 'redistA.clustered.wild_type.rev.tf_0.75.ru_0.02.reads_10.annotated.scored_cluster_utr3-utr3_extended.txt'), sep = '\\t'),\n",
    "], ignore_index = True, sort = False)\n",
    "\n",
    "print(f\"PolyA sites: S.cer={sites_scer.shape}, S.pom={sites_spom.shape}, A.tha={sites_atha.shape}\")\n"
   ]
  },
  {
   "cell_type": "markdown",
   "metadata": {},
   "source": [
    "#### Categorize sites based on relative position in the 3'UTR"
   ]
  },
  {
   "cell_type": "code",
   "execution_count": 8,
   "metadata": {},
   "outputs": [
    {
     "name": "stdout",
     "output_type": "stream",
     "text": [
      "With relative position information: S.cer=(30931, 33), S.pom=(10588, 33), A.tha=(35443, 33)\n"
     ]
    }
   ],
   "source": [
    "sites_scer = label_site_relative_position(sites_scer)\n",
    "sites_spom = label_site_relative_position(sites_spom)\n",
    "sites_atha = label_site_relative_position(sites_atha)\n",
    "\n",
    "print(f\"With relative position information: S.cer={sites_scer.shape}, S.pom={sites_spom.shape}, A.tha={sites_atha.shape}\")\n"
   ]
  },
  {
   "cell_type": "code",
   "execution_count": 9,
   "metadata": {},
   "outputs": [
    {
     "data": {
      "text/plain": [
       "feature        position\n",
       "coding_exon    CDS         8338\n",
       "intron         intron        28\n",
       "utr3           first       2642\n",
       "               last         612\n",
       "               middle      3434\n",
       "               single       196\n",
       "utr3_extended  first       2268\n",
       "               last        4298\n",
       "               middle      7693\n",
       "               single       352\n",
       "utr5           utr5        1070\n",
       "dtype: int64"
      ]
     },
     "execution_count": 9,
     "metadata": {},
     "output_type": "execute_result"
    }
   ],
   "source": [
    "sites_scer.groupby(['feature','position']).size()\n"
   ]
  },
  {
   "cell_type": "code",
   "execution_count": 10,
   "metadata": {},
   "outputs": [
    {
     "data": {
      "text/plain": [
       "feature        position\n",
       "coding_exon    CDS          827\n",
       "intron         intron       127\n",
       "utr3           first       2424\n",
       "               last        1804\n",
       "               middle      2513\n",
       "               single      1175\n",
       "utr3_extended  first        106\n",
       "               last         726\n",
       "               middle       313\n",
       "               single       215\n",
       "utr5           utr5         358\n",
       "dtype: int64"
      ]
     },
     "execution_count": 10,
     "metadata": {},
     "output_type": "execute_result"
    }
   ],
   "source": [
    "sites_spom.groupby(['feature','position']).size()\n"
   ]
  },
  {
   "cell_type": "code",
   "execution_count": 11,
   "metadata": {},
   "outputs": [
    {
     "data": {
      "text/plain": [
       "feature        position\n",
       "coding_exon    CDS           105\n",
       "intron         intron        194\n",
       "utr3           first        9468\n",
       "               last         8483\n",
       "               middle      11523\n",
       "               single       4034\n",
       "utr3_extended  first          64\n",
       "               last         1049\n",
       "               middle        219\n",
       "               single        260\n",
       "utr5           utr5           44\n",
       "dtype: int64"
      ]
     },
     "execution_count": 11,
     "metadata": {},
     "output_type": "execute_result"
    }
   ],
   "source": [
    "sites_atha.groupby(['feature','position']).size()\n"
   ]
  },
  {
   "cell_type": "markdown",
   "metadata": {},
   "source": [
    "#### Assign usage score of 1 for single sites in 3'UTRs\n",
    "\n",
    "Originally all single sites are missing scores because we only scored sites where there were at least 2 sites in the 3'UTR or extended 3'UTR region. \n"
   ]
  },
  {
   "cell_type": "code",
   "execution_count": 12,
   "metadata": {},
   "outputs": [
    {
     "name": "stdout",
     "output_type": "stream",
     "text": [
      "S.cer: {True: 548}\n",
      "S.pom: {True: 1390}\n",
      "A.tha: {True: 4294}\n"
     ]
    }
   ],
   "source": [
    "print(f\"S.cer: {sites_scer.loc[sites_scer['position'] == 'single', 'raw_den_score'].isna().value_counts().to_dict()}\")\n",
    "print(f\"S.pom: {sites_spom.loc[sites_spom['position'] == 'single', 'raw_den_score'].isna().value_counts().to_dict()}\")\n",
    "print(f\"A.tha: {sites_atha.loc[sites_atha['position'] == 'single', 'raw_den_score'].isna().value_counts().to_dict()}\")\n"
   ]
  },
  {
   "cell_type": "code",
   "execution_count": 13,
   "metadata": {},
   "outputs": [],
   "source": [
    "sites_scer.loc[sites_scer['position'] == 'single', 'raw_den_score'] = 1\n",
    "sites_spom.loc[sites_spom['position'] == 'single', 'raw_den_score'] = 1\n",
    "sites_atha.loc[sites_atha['position'] == 'single', 'raw_den_score'] = 1\n"
   ]
  },
  {
   "cell_type": "code",
   "execution_count": 14,
   "metadata": {},
   "outputs": [
    {
     "name": "stdout",
     "output_type": "stream",
     "text": [
      "S.cer: {1.0: 548}\n",
      "S.pom: {1.0: 1390}\n",
      "A.tha: {1.0: 4294}\n"
     ]
    }
   ],
   "source": [
    "print(f\"S.cer: {sites_scer.loc[sites_scer['position'] == 'single', 'raw_den_score'].value_counts().to_dict()}\")\n",
    "print(f\"S.pom: {sites_spom.loc[sites_spom['position'] == 'single', 'raw_den_score'].value_counts().to_dict()}\")\n",
    "print(f\"A.tha: {sites_atha.loc[sites_atha['position'] == 'single', 'raw_den_score'].value_counts().to_dict()}\")\n"
   ]
  },
  {
   "cell_type": "code",
   "execution_count": 15,
   "metadata": {},
   "outputs": [
    {
     "name": "stdout",
     "output_type": "stream",
     "text": [
      "S.cer: {False: 548}\n",
      "S.pom: {False: 1390}\n",
      "A.tha: {False: 4294}\n"
     ]
    }
   ],
   "source": [
    "print(f\"S.cer: {sites_scer.loc[sites_scer['position'] == 'single', 'raw_den_score'].isna().value_counts().to_dict()}\")\n",
    "print(f\"S.pom: {sites_spom.loc[sites_spom['position'] == 'single', 'raw_den_score'].isna().value_counts().to_dict()}\")\n",
    "print(f\"A.tha: {sites_atha.loc[sites_atha['position'] == 'single', 'raw_den_score'].isna().value_counts().to_dict()}\")\n"
   ]
  },
  {
   "cell_type": "markdown",
   "metadata": {},
   "source": [
    "#### Format for output table"
   ]
  },
  {
   "cell_type": "code",
   "execution_count": 16,
   "metadata": {},
   "outputs": [],
   "source": [
    "renamed_cols = {\n",
    "    'chrom'         : 'Chrom',\n",
    "    'cluster_start' : 'ClusterStart',\n",
    "    'cluster_end'   : 'ClusterEnd',\n",
    "    'start'         : 'RepresentativeSite',\n",
    "    'strand'        : 'Strand',\n",
    "    'gene'          : 'Gene',\n",
    "    'feature'       : 'Feature', \n",
    "    'position'      : 'RelativePosition',\n",
    "    'cluster_reads' : \"Supporting3'READS\",\n",
    "    'raw_den_score' : 'Usage',\n",
    "}\n",
    "\n",
    "output_scer = sites_scer[list(renamed_cols.keys())].rename(columns = renamed_cols)\n",
    "output_spom = sites_spom[list(renamed_cols.keys())].rename(columns = renamed_cols)\n",
    "output_atha = sites_atha[list(renamed_cols.keys())].rename(columns = renamed_cols)\n"
   ]
  },
  {
   "cell_type": "markdown",
   "metadata": {},
   "source": [
    "#### Record table"
   ]
  },
  {
   "cell_type": "code",
   "execution_count": 17,
   "metadata": {},
   "outputs": [],
   "source": [
    "output_scer.to_csv(os.path.join(OUTDIR, 'polya_sites_table.scer.txt'), sep = '\\t', index = False, na_rep = 'NA')\n",
    "output_spom.to_csv(os.path.join(OUTDIR, 'polya_sites_table.spom.txt'), sep = '\\t', index = False, na_rep = 'NA')\n",
    "output_atha.to_csv(os.path.join(OUTDIR, 'polya_sites_table.atha.txt'), sep = '\\t', index = False, na_rep = 'NA')\n"
   ]
  }
 ],
 "metadata": {
  "kernelspec": {
   "display_name": "Python (tf-train)",
   "language": "python",
   "name": "tf-train"
  },
  "language_info": {
   "codemirror_mode": {
    "name": "ipython",
    "version": 3
   },
   "file_extension": ".py",
   "mimetype": "text/x-python",
   "name": "python",
   "nbconvert_exporter": "python",
   "pygments_lexer": "ipython3",
   "version": "3.6.12"
  }
 },
 "nbformat": 4,
 "nbformat_minor": 2
}
