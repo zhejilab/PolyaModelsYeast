{
 "cells": [
  {
   "cell_type": "markdown",
   "metadata": {},
   "source": [
    "# Species comparison: heterogeneity\n",
    "\n",
    "**Purpose**: To compare the heterogeneity of cleavage across yeast species and humans.\n"
   ]
  },
  {
   "cell_type": "code",
   "execution_count": 1,
   "metadata": {},
   "outputs": [],
   "source": [
    "%load_ext autoreload"
   ]
  },
  {
   "cell_type": "code",
   "execution_count": 2,
   "metadata": {},
   "outputs": [],
   "source": [
    "%autoreload 2"
   ]
  },
  {
   "cell_type": "code",
   "execution_count": 3,
   "metadata": {},
   "outputs": [],
   "source": [
    "%run -i notebook_setup.py"
   ]
  },
  {
   "cell_type": "markdown",
   "metadata": {},
   "source": [
    "## IMPORTS AND SETUP"
   ]
  },
  {
   "cell_type": "code",
   "execution_count": 4,
   "metadata": {},
   "outputs": [],
   "source": [
    "from paper_utilities import cleavage"
   ]
  },
  {
   "cell_type": "code",
   "execution_count": 5,
   "metadata": {},
   "outputs": [],
   "source": [
    "PROJECT   = \"/projects/b1080/eks/polyadenylation/yeast\"\n",
    "DATADIR   = os.path.join(PROJECT, 'external_data', 'conservation')\n",
    "OUTDIR    = os.path.join(PROJECT, 'manuscript', 'analysis', 'species_comparison')\n",
    "RESOURCES = os.path.join(os.path.dirname(OUTDIR), 'resources')\n",
    "os.makedirs(OUTDIR, exist_ok = True)\n"
   ]
  },
  {
   "cell_type": "code",
   "execution_count": 6,
   "metadata": {},
   "outputs": [],
   "source": [
    "with open(os.path.join(RESOURCES, 'homologous_genes.map.pickle'), mode = 'rb') as handle:\n",
    "    homologs_map = pickle.load(handle)\n",
    "    "
   ]
  },
  {
   "cell_type": "code",
   "execution_count": 7,
   "metadata": {},
   "outputs": [],
   "source": [
    "with open(os.path.join(RESOURCES, 'conservation.cds_scores.pickle'), mode = 'rb') as handle:\n",
    "    cds_scores = pickle.load(handle)\n"
   ]
  },
  {
   "cell_type": "code",
   "execution_count": 8,
   "metadata": {},
   "outputs": [
    {
     "name": "stdout",
     "output_type": "stream",
     "text": [
      "Top1 site conservation data: (25603, 20)\n",
      "Gold site conservation data: (24116, 20)\n"
     ]
    }
   ],
   "source": [
    "with open(os.path.join(RESOURCES, 'conservation.top1_sites.pickle'), mode = 'rb') as handle:\n",
    "    top1_data = pickle.load(handle)\n",
    "\n",
    "with open(os.path.join(RESOURCES, 'conservation.gold_sites.pickle'), mode = 'rb') as handle:\n",
    "    gold_data = pickle.load(handle)\n",
    "\n",
    "print(\"Top1 site conservation data:\", top1_data.shape)\n",
    "print(\"Gold site conservation data:\", gold_data.shape)\n"
   ]
  },
  {
   "cell_type": "markdown",
   "metadata": {},
   "source": [
    "## HELPER FUNCTIONS"
   ]
  },
  {
   "cell_type": "code",
   "execution_count": 31,
   "metadata": {},
   "outputs": [],
   "source": [
    "def find_entropy_examples(data, cons_dict, feature = None, gene = None, rs = None, margin = 0, verbose = True):\n",
    "    \n",
    "    if (feature is None):\n",
    "        cons_data = data.loc[(data['conserved_yeast_to_human'] == True)]\n",
    "    else:\n",
    "        \n",
    "        hsap_feature = 'terminal_exon' if (feature == 'utr3') else feature\n",
    "        condYEAST = (data['species'].isin(['S.cerevisiae','S.pombe']) & (data['feature'] == feature))\n",
    "        condHUMAN = (data['species'] == 'H.sapiens') & (data['feature'] == hsap_feature)\n",
    "        cons_data = data.loc[(data['conserved_yeast_to_human'] == True) & (condYEAST | condHUMAN)]\n",
    "    \n",
    "    ## Find high entropy site in cerevisiae\n",
    "    \n",
    "    if (gene is not None):        \n",
    "        high_cerev = cons_data.loc[(cons_data['species'] == 'S.cerevisiae') & (cons_data['observed_entropy_bin'] == 'H') & (cons_data['gene'] == gene)].sample(n = 1, random_state = rs).iloc[0]\n",
    "    else:\n",
    "        if (rs is None):\n",
    "            rs = np.random.randint(0, 2**32 - 1)\n",
    "        high_cerev = cons_data.loc[(cons_data['species'] == 'S.cerevisiae') & (cons_data['observed_entropy_bin'] == 'H')].sample(n = 1, random_state = rs).iloc[0]\n",
    "    \n",
    "    ## Find middle entropy site in pombe\n",
    "    \n",
    "    matching_pombe_genes = cons_dict.get(f'scer_{high_cerev.featureName}',{}).get('spom','NA')\n",
    "    middle_pombe = cons_data.loc[(cons_data['species'] == 'S.pombe') & (cons_data['observed_entropy'] < (high_cerev['observed_entropy']-margin))].sample(n = 1, random_state = rs).iloc[0]\n",
    "    \n",
    "    ## Find low entropy site in human\n",
    "    \n",
    "    matching_human_genes = cons_dict.get(f'scer_{high_cerev.featureName}',{}).get('hsap','NA')\n",
    "    low_human = cons_data.loc[(cons_data['species'] == 'H.sapiens') & (cons_data['observed_entropy'] < (middle_pombe['observed_entropy']-margin))].sample(n = 1, random_state = rs).iloc[0]\n",
    "    \n",
    "    if (verbose):\n",
    "        \n",
    "        print(\"Sampling using random state\", rs)\n",
    "        print(\"S.cerevisiae:\\t\", \"\\t\".join([str(x) for x in [high_cerev['siteKey'], high_cerev['gene'], high_cerev['feature'], high_cerev['supporting_reads'], high_cerev['observed_entropy']]]))\n",
    "        print(\"S.pombe     :\\t\", \"\\t\".join([str(x) for x in [middle_pombe['siteKey'], middle_pombe['gene'], middle_pombe['feature'], middle_pombe['supporting_reads'], middle_pombe['observed_entropy']]]))\n",
    "        print(\"H.sapiens   :\\t\", \"\\t\".join([str(x) for x in [low_human['siteKey'], low_human['gene'], low_human['feature'], low_human['supporting_reads'], low_human['observed_entropy']]]))\n",
    "    \n",
    "    return gene, rs, high_cerev, middle_pombe, low_human\n"
   ]
  },
  {
   "cell_type": "code",
   "execution_count": 32,
   "metadata": {},
   "outputs": [],
   "source": [
    "def plot_entropy_examples(example_gene, example_rs, example_cerev, example_pombe, example_human, window = 50):\n",
    "    \n",
    "    fig,ax = plt.subplots(6,1, figsize = (3,2), sharex = True, gridspec_kw = {'height_ratios' : [3,1,3,1,3,1]})\n",
    "    \n",
    "    seq_lbound = int((len(example_cerev['sequence']) - window)/2)\n",
    "    seq_ubound = int((len(example_cerev['sequence']) + window)/2)\n",
    "    \n",
    "    vec_lbound = int((len(example_cerev['readvec']) - window)/2)\n",
    "    vec_ubound = int((len(example_cerev['readvec']) + window)/2)\n",
    "    \n",
    "    xs = np.arange(-(window/2), +(window/2), 1)\n",
    "    \n",
    "    ## S.cerevisiae\n",
    "    \n",
    "    ax[0].bar(xs, example_cerev['readvec'][vec_lbound:vec_ubound], width = 1, color = 'gray')\n",
    "    \n",
    "    subseq = example_cerev['sequence'][seq_lbound:seq_ubound]\n",
    "    subenc = cleavage.encode_sequence(subseq)\n",
    "    submot = pd.DataFrame(subenc, columns = ['A','C','G','U'], index = xs)\n",
    "    \n",
    "    logo = logomaker.Logo(submot, ax = ax[1], width = 0.8, vpad = 0.05)\n",
    "    \n",
    "    ## S.pombe\n",
    "    \n",
    "    ax[2].bar(xs, example_pombe['readvec'][vec_lbound:vec_ubound], width = 1, color = 'gray')\n",
    "    \n",
    "    subseq = example_pombe['sequence'][seq_lbound:seq_ubound]\n",
    "    subenc = cleavage.encode_sequence(subseq)\n",
    "    submot = pd.DataFrame(subenc, columns = ['A','C','G','U'], index = xs)\n",
    "    \n",
    "    logo = logomaker.Logo(submot, ax = ax[3], width = 0.8, vpad = 0.05)\n",
    "    \n",
    "    ## H.sapiens\n",
    "    \n",
    "    ax[4].bar(xs, example_human['readvec'][vec_lbound:vec_ubound], width = 1, color = 'gray')\n",
    "    \n",
    "    subseq = example_human['sequence'][seq_lbound:seq_ubound]\n",
    "    subenc = cleavage.encode_sequence(subseq)\n",
    "    submot = pd.DataFrame(subenc, columns = ['A','C','G','U'], index = xs)\n",
    "    \n",
    "    logo = logomaker.Logo(submot, ax = ax[5], width = 0.8, vpad = 0.05)\n",
    "    \n",
    "    ## style plot\n",
    "    \n",
    "    for a in ax:\n",
    "        a.set_xticks(np.arange(-int(window/2),int(window/2)+1,5))\n",
    "        a.set_yticks([])\n",
    "    \n",
    "        a.spines['left'].set_visible(False)\n",
    "        a.spines['right'].set_visible(False)\n",
    "        a.spines['top'].set_visible(False)\n",
    "    \n",
    "    plt.savefig(os.path.join(OUTDIR, f'species_entropy_comparison.{example_gene}.{example_rs}.svg'), format = 'svg', dpi = 600, transparent = True)\n",
    "    plt.show()\n",
    "    \n",
    "    return\n"
   ]
  },
  {
   "cell_type": "markdown",
   "metadata": {
    "scrolled": false
   },
   "source": [
    "# ANALYSIS"
   ]
  },
  {
   "cell_type": "markdown",
   "metadata": {},
   "source": [
    "## Heterogeneity analysis"
   ]
  },
  {
   "cell_type": "code",
   "execution_count": 11,
   "metadata": {},
   "outputs": [],
   "source": [
    "species_order = ['S.cerevisiae','S.pombe','H.sapiens']\n",
    "\n",
    "species_palette = {\n",
    "    'S.cerevisiae' : sns.color_palette(\"Set2\")[0],\n",
    "    'S.pombe'      : sns.color_palette(\"Set2\")[1],\n",
    "    'H.sapiens'    : sns.color_palette(\"Set2\")[2],\n",
    "}"
   ]
  },
  {
   "cell_type": "markdown",
   "metadata": {},
   "source": [
    "### Examples of cleavage profile around top sites across species"
   ]
  },
  {
   "cell_type": "code",
   "execution_count": 12,
   "metadata": {},
   "outputs": [
    {
     "name": "stdout",
     "output_type": "stream",
     "text": [
      "Sampling using random state 575485529\n",
      "S.cerevisiae:\t XIII:507360:-\tYMR120C\tutr3\t2079.666666666667\t3.037304904007171\n",
      "S.pombe     :\t II:557847:-\tSPBC354.07c\tutr3\t43.5\t1.8786853890911932\n",
      "H.sapiens   :\t 10:68482703:-\tENSG00000122912.15\tterminal_exon\t457.99999999999983\t1.3786241299304556\n"
     ]
    },
    {
     "data": {
      "image/png": "[encoded data removed]",
      "text/plain": [
       "<Figure size 216x144 with 6 Axes>"
      ]
     },
     "metadata": {
      "needs_background": "light"
     },
     "output_type": "display_data"
    }
   ],
   "source": [
    "## Find new examples by running function with no random state given\n",
    "example_rs, example_cerev, example_pombe, example_human = find_entropy_examples(top1_data, homologs_map, \"utr3\", margin=0.2)\n",
    "plot_entropy_examples(example_rs, example_cerev, example_pombe, example_human)\n",
    "\n",
    "# 575485529"
   ]
  },
  {
   "cell_type": "code",
   "execution_count": 34,
   "metadata": {},
   "outputs": [
    {
     "name": "stdout",
     "output_type": "stream",
     "text": [
      "Sampling using random state 1234\n",
      "S.cerevisiae:\t XIII:533090:-\tYMR131C\tutr3\t1195.5\t2.9083025698944676\n",
      "S.pombe     :\t II:3725111:+\tSPBC25D12.05\tutr3\t16.0\t2.1990416146641123\n",
      "H.sapiens   :\t 7:99457370:+\tENSG00000160917.15\tterminal_exon\t1891.333333333333\t1.5495463296724024\n"
     ]
    },
    {
     "data": {
      "image/png": "[encoded data removed]",
      "text/plain": [
       "<Figure size 216x144 with 6 Axes>"
      ]
     },
     "metadata": {
      "needs_background": "light"
     },
     "output_type": "display_data"
    }
   ],
   "source": [
    "example_outputs = find_entropy_examples(top1_data, homologs_map, \"utr3\", gene = \"YMR131C\", rs = 1234)\n",
    "plot_entropy_examples(*example_outputs)\n"
   ]
  },
  {
   "cell_type": "code",
   "execution_count": 36,
   "metadata": {},
   "outputs": [
    {
     "name": "stdout",
     "output_type": "stream",
     "text": [
      "Sampling using random state 12345\n",
      "S.cerevisiae:\t XI:382594:-\tYKL029C\tutr3\t22.33333333333333\t3.1826164979358347\n",
      "S.pombe     :\t I:4463032:-\tSPAC9E9.12c\tutr3\t17.75\t2.0712754416861325\n",
      "H.sapiens   :\t 1:9271332:+\tENSG00000049239.13\tterminal_exon\t1104.4\t1.6830847309609311\n"
     ]
    },
    {
     "data": {
      "image/png": "[encoded data removed]",
      "text/plain": [
       "<Figure size 216x144 with 6 Axes>"
      ]
     },
     "metadata": {
      "needs_background": "light"
     },
     "output_type": "display_data"
    }
   ],
   "source": [
    "example_outputs = find_entropy_examples(top1_data, homologs_map, \"utr3\", gene = \"YKL029C\", rs = 12345)\n",
    "plot_entropy_examples(*example_outputs)\n"
   ]
  },
  {
   "cell_type": "code",
   "execution_count": 37,
   "metadata": {},
   "outputs": [
    {
     "name": "stdout",
     "output_type": "stream",
     "text": [
      "Sampling using random state 12345\n",
      "S.cerevisiae:\t XIV:167082:-\tYNL255C\tutr3\t577.5\t2.924320742963858\n",
      "S.pombe     :\t I:2059145:-\tSPAC732.02c\tutr3\t9.333333333333334\t2.4173065649862724\n",
      "H.sapiens   :\t 5:178149466:-\tENSG00000145912.10\tterminal_exon\t37327.59999999997\t1.7896010211652342\n"
     ]
    },
    {
     "data": {
      "image/png": "[encoded data removed]",
      "text/plain": [
       "<Figure size 216x144 with 6 Axes>"
      ]
     },
     "metadata": {
      "needs_background": "light"
     },
     "output_type": "display_data"
    }
   ],
   "source": [
    "example_outputs = find_entropy_examples(top1_data, homologs_map, \"utr3\", gene = \"YNL255C\", rs = 12345)\n",
    "plot_entropy_examples(*example_outputs)\n"
   ]
  },
  {
   "cell_type": "code",
   "execution_count": null,
   "metadata": {},
   "outputs": [],
   "source": []
  },
  {
   "cell_type": "code",
   "execution_count": 15,
   "metadata": {},
   "outputs": [
    {
     "name": "stdout",
     "output_type": "stream",
     "text": [
      "Sampling using random state 575485529\n",
      "S.cerevisiae:\t XIII:507360:-\tYMR120C\tutr3\t2079.666666666667\t3.037304904007171\n",
      "S.pombe     :\t I:3685697:-\tSPAC15A10.05c\tutr3\t9.5\t1.9984084470540644\n",
      "H.sapiens   :\t 2:3580917:+\tENSG00000171863.15\tterminal_exon\t62824.5\t1.3525461937014922\n"
     ]
    },
    {
     "data": {
      "image/png": "[encoded data removed]",
      "text/plain": [
       "<Figure size 216x144 with 6 Axes>"
      ]
     },
     "metadata": {
      "needs_background": "light"
     },
     "output_type": "display_data"
    }
   ],
   "source": [
    "example_outputs = find_entropy_examples(top1_data, homologs_map, \"utr3\", rs = 575485529)\n",
    "plot_entropy_examples(*example_outputs)\n"
   ]
  },
  {
   "cell_type": "code",
   "execution_count": 13,
   "metadata": {},
   "outputs": [
    {
     "name": "stdout",
     "output_type": "stream",
     "text": [
      "Sampling using random state 84549916\n",
      "S.cerevisiae:\t VII:145440:+\tYGL191W\tutr3\t214.0\t2.889099023272492\n",
      "S.pombe     :\t II:2447715:+\tSPBC12C2.12c\tutr3\t22.5\t2.2054108399819747\n",
      "H.sapiens   :\t 8:10765159:-\tENSG00000254093.9\tterminal_exon\t2609.5\t0.9806633275578652\n"
     ]
    },
    {
     "data": {
      "image/png": "[encoded data removed]",
      "text/plain": [
       "<Figure size 216x144 with 6 Axes>"
      ]
     },
     "metadata": {
      "needs_background": "light"
     },
     "output_type": "display_data"
    }
   ],
   "source": [
    "example_outputs = find_entropy_examples(top1_data, homologs_map, \"utr3\", rs = 84549916)\n",
    "plot_entropy_examples(*example_outputs)\n"
   ]
  },
  {
   "cell_type": "code",
   "execution_count": 14,
   "metadata": {},
   "outputs": [
    {
     "name": "stdout",
     "output_type": "stream",
     "text": [
      "Sampling using random state 333671024\n",
      "S.cerevisiae:\t XIV:677114:-\tYNR029C\tutr3\t219.5\t2.771703144884791\n",
      "S.pombe     :\t II:312385:+\tSPBC1773.13\tutr3\t11.5\t1.9680801750771015\n",
      "H.sapiens   :\t 5:134605849:-\tENSG00000152700.14\tterminal_exon\t2457.0\t1.090856645916751\n"
     ]
    },
    {
     "data": {
      "image/png": "[encoded data removed]",
      "text/plain": [
       "<Figure size 216x144 with 6 Axes>"
      ]
     },
     "metadata": {
      "needs_background": "light"
     },
     "output_type": "display_data"
    }
   ],
   "source": [
    "example_outputs = find_entropy_examples(top1_data, homologs_map, \"utr3\", rs = 333671024)\n",
    "plot_entropy_examples(*example_outputs)\n"
   ]
  },
  {
   "cell_type": "code",
   "execution_count": 15,
   "metadata": {},
   "outputs": [
    {
     "name": "stdout",
     "output_type": "stream",
     "text": [
      "Sampling using random state 1430069742\n",
      "S.cerevisiae:\t X:262675:-\tYJL090C\tutr3\t98.0\t2.811237587464904\n",
      "S.pombe     :\t II:1586585:+\tSPBC28F2.09\tutr3\t94.0\t1.6477582938119506\n",
      "H.sapiens   :\t 22:42692121:-\tENSG00000128274.17\tterminal_exon\t990.5\t1.4936979516280675\n"
     ]
    },
    {
     "data": {
      "image/png": "[encoded data removed]",
      "text/plain": [
       "<Figure size 216x144 with 6 Axes>"
      ]
     },
     "metadata": {
      "needs_background": "light"
     },
     "output_type": "display_data"
    }
   ],
   "source": [
    "example_outputs = find_entropy_examples(top1_data, homologs_map, \"utr3\", rs = 1430069742)\n",
    "plot_entropy_examples(example_outputs)\n"
   ]
  },
  {
   "cell_type": "code",
   "execution_count": 16,
   "metadata": {},
   "outputs": [
    {
     "name": "stdout",
     "output_type": "stream",
     "text": [
      "Sampling using random state 3716437642\n",
      "S.cerevisiae:\t XV:197111:+\tYOL071W\tutr3\t46.5\t3.1182944505339605\n",
      "S.pombe     :\t II:902701:+\tSPBC216.03\tutr3\t27.5\t1.9556774666050067\n",
      "H.sapiens   :\t 1:2403974:-\tENSG00000157911.11\tterminal_exon\t1550.5\t1.6575146088164647\n"
     ]
    },
    {
     "data": {
      "image/png": "[encoded data removed]",
      "text/plain": [
       "<Figure size 216x144 with 6 Axes>"
      ]
     },
     "metadata": {
      "needs_background": "light"
     },
     "output_type": "display_data"
    }
   ],
   "source": [
    "example_outputs = find_entropy_examples(top1_data, homologs_map, \"utr3\", rs = 3716437642)\n",
    "plot_entropy_examples(*example_outputs)\n"
   ]
  },
  {
   "cell_type": "markdown",
   "metadata": {},
   "source": [
    "### Summarizing entropy of top sites across species"
   ]
  },
  {
   "cell_type": "markdown",
   "metadata": {},
   "source": [
    "#### All sites"
   ]
  },
  {
   "cell_type": "code",
   "execution_count": 17,
   "metadata": {},
   "outputs": [
    {
     "name": "stdout",
     "output_type": "stream",
     "text": [
      "(25603, 20)\n"
     ]
    },
    {
     "data": {
      "image/png": "[encoded data removed]",
      "text/plain": [
       "<Figure size 54x108 with 1 Axes>"
      ]
     },
     "metadata": {
      "needs_background": "light"
     },
     "output_type": "display_data"
    },
    {
     "name": "stdout",
     "output_type": "stream",
     "text": [
      "Wilcoxon rank sum test comparing the entropy between species-\n",
      "S.cerevisiae vs S.pombe  : RanksumsResult(statistic=50.304921685031424, pvalue=0.0)\n",
      "S.cerevisiae vs H.sapiens: RanksumsResult(statistic=87.08622945911227, pvalue=0.0)\n",
      "S.pombe vs H.sapiens     : RanksumsResult(statistic=29.271806253632054, pvalue=2.3704906313029797e-188)\n",
      "\n",
      "Summary data-\n",
      "              count    median      mean       std       min       max\n",
      "species                                                              \n",
      "S.cerevisiae   5521  2.430281  2.394532  0.435537  0.000726  3.619400\n",
      "S.pombe        3980  1.871125  1.850675  0.486245  0.000726  3.181590\n",
      "H.sapiens     16102  1.610857  1.590565  0.490916  0.000726  3.320501\n"
     ]
    }
   ],
   "source": [
    "fig,ax = plt.subplots(1,1, figsize = (0.75,1.5))\n",
    "\n",
    "plot_data = top1_data.copy()\n",
    "print(plot_data.shape)\n",
    "\n",
    "sns.boxplot(data = plot_data, x = 'species', y = 'observed_entropy', \n",
    "            hue = 'species', palette = species_palette, dodge = False,\n",
    "            boxprops = {'edgecolor' : 'black', 'linewidth' : 0.5},\n",
    "            medianprops = {'color' : 'black', 'linewidth' : 0.5},\n",
    "            whiskerprops = {'color' : 'black', 'linewidth' : 0.5},\n",
    "            capprops = {'color' : 'black', 'linewidth' : 0.5},\n",
    "            flierprops = {'color' : 'black'},\n",
    "            showfliers = False, \n",
    "            ax = ax)\n",
    "\n",
    "ax.set_xlabel(\"Species\")\n",
    "ax.set_xticklabels(ax.get_xticklabels(), rotation = 45, ha = 'right', va = 'top')\n",
    "\n",
    "ax.set_ylabel(\"3'READS cleavage entropy\")\n",
    "ax.set_ylim(0,4)\n",
    "ax.yaxis.set_major_locator(MultipleLocator(0.5))\n",
    "\n",
    "ax.spines['right'].set_visible(False)\n",
    "ax.spines['top'].set_visible(False)\n",
    "\n",
    "ax.legend().remove()\n",
    "\n",
    "plt.savefig(os.path.join(OUTDIR, 'species_entropy_comparison.golden_top-1.all.svg'), format = 'svg', dpi = 600, transparent = True)\n",
    "plt.show()\n",
    "\n",
    "\n",
    "print(\"Wilcoxon rank sum test comparing the entropy between species-\")\n",
    "\n",
    "print(\"S.cerevisiae vs S.pombe  :\", st.ranksums(plot_data.loc[plot_data['species'] == 'S.cerevisiae', 'observed_entropy'],\n",
    "                                                plot_data.loc[plot_data['species'] == 'S.pombe',      'observed_entropy']))\n",
    "\n",
    "print(\"S.cerevisiae vs H.sapiens:\", st.ranksums(plot_data.loc[plot_data['species'] == 'S.cerevisiae', 'observed_entropy'],\n",
    "                                                plot_data.loc[plot_data['species'] == 'H.sapiens',    'observed_entropy']))\n",
    "\n",
    "print(\"S.pombe vs H.sapiens     :\", st.ranksums(plot_data.loc[plot_data['species'] == 'S.pombe',      'observed_entropy'],\n",
    "                                                plot_data.loc[plot_data['species'] == 'H.sapiens',    'observed_entropy']))\n",
    "\n",
    "\n",
    "print(\"\\nSummary data-\")\n",
    "print(plot_data.groupby('species')['observed_entropy'].agg(['count','median','mean','std','min','max']).loc[species_order])\n"
   ]
  },
  {
   "cell_type": "markdown",
   "metadata": {},
   "source": [
    "#### Sites in homologous genes"
   ]
  },
  {
   "cell_type": "code",
   "execution_count": 18,
   "metadata": {},
   "outputs": [
    {
     "name": "stdout",
     "output_type": "stream",
     "text": [
      "(9793, 20)\n"
     ]
    },
    {
     "data": {
      "image/png": "[encoded data removed]",
      "text/plain": [
       "<Figure size 54x108 with 1 Axes>"
      ]
     },
     "metadata": {
      "needs_background": "light"
     },
     "output_type": "display_data"
    },
    {
     "name": "stdout",
     "output_type": "stream",
     "text": [
      "Wilcoxon rank sum test comparing the entropy between species-\n",
      "S.cerevisiae vs S.pombe  : RanksumsResult(statistic=40.42140504146177, pvalue=0.0)\n",
      "S.cerevisiae vs H.sapiens: RanksumsResult(statistic=56.9034888773738, pvalue=0.0)\n",
      "S.pombe vs H.sapiens     : RanksumsResult(statistic=20.720182139344466, pvalue=2.2782201622169946e-95)\n",
      "\n",
      "Summary data-\n",
      "              count    median      mean       std       min       max\n",
      "species                                                              \n",
      "S.cerevisiae   3296  2.451186  2.414348  0.425746  0.385215  3.498864\n",
      "S.pombe        2720  1.905254  1.876430  0.481510  0.000726  3.144088\n",
      "H.sapiens      3777  1.640953  1.623847  0.480665  0.000726  3.320501\n"
     ]
    }
   ],
   "source": [
    "fig,ax = plt.subplots(1,1, figsize = (0.75,1.5))\n",
    "\n",
    "plot_data = top1_data.loc[top1_data['conserved_yeast_to_human'] == True].copy()\n",
    "print(plot_data.shape)\n",
    "\n",
    "sns.boxplot(data = plot_data, x = 'species', y = 'observed_entropy', \n",
    "            hue = 'species', palette = species_palette, dodge = False,\n",
    "            boxprops = {'edgecolor' : 'black', 'linewidth' : 0.5},\n",
    "            medianprops = {'color' : 'black', 'linewidth' : 0.5},\n",
    "            whiskerprops = {'color' : 'black', 'linewidth' : 0.5},\n",
    "            capprops = {'color' : 'black', 'linewidth' : 0.5},\n",
    "            flierprops = {'color' : 'black'},\n",
    "            showfliers = False, \n",
    "            ax = ax)\n",
    "\n",
    "ax.set_xlabel(\"Species\")\n",
    "ax.set_xticklabels(ax.get_xticklabels(), rotation = 45, ha = 'right', va = 'top')\n",
    "\n",
    "ax.set_ylabel(\"3'READS cleavage entropy\")\n",
    "ax.set_ylim(0,4)\n",
    "ax.yaxis.set_major_locator(MultipleLocator(0.5))\n",
    "\n",
    "ax.spines['right'].set_visible(False)\n",
    "ax.spines['top'].set_visible(False)\n",
    "\n",
    "ax.legend().remove()\n",
    "\n",
    "plt.savefig(os.path.join(OUTDIR, 'species_entropy_comparison.golden_top-1.homologous.svg'), format = 'svg', dpi = 600, transparent = True)\n",
    "plt.show()\n",
    "\n",
    "\n",
    "print(\"Wilcoxon rank sum test comparing the entropy between species-\")\n",
    "\n",
    "print(\"S.cerevisiae vs S.pombe  :\", st.ranksums(plot_data.loc[plot_data['species'] == 'S.cerevisiae', 'observed_entropy'],\n",
    "                                                plot_data.loc[plot_data['species'] == 'S.pombe',      'observed_entropy']))\n",
    "\n",
    "print(\"S.cerevisiae vs H.sapiens:\", st.ranksums(plot_data.loc[plot_data['species'] == 'S.cerevisiae', 'observed_entropy'],\n",
    "                                                plot_data.loc[plot_data['species'] == 'H.sapiens',    'observed_entropy']))\n",
    "\n",
    "print(\"S.pombe vs H.sapiens     :\", st.ranksums(plot_data.loc[plot_data['species'] == 'S.pombe',      'observed_entropy'],\n",
    "                                                plot_data.loc[plot_data['species'] == 'H.sapiens',    'observed_entropy']))\n",
    "\n",
    "\n",
    "print(\"\\nSummary data-\")\n",
    "print(plot_data.groupby('species')['observed_entropy'].agg(['count','median','mean','std','min','max']).loc[species_order])\n"
   ]
  },
  {
   "cell_type": "markdown",
   "metadata": {},
   "source": [
    "#### Sites in non-homologous genes"
   ]
  },
  {
   "cell_type": "code",
   "execution_count": 19,
   "metadata": {},
   "outputs": [
    {
     "name": "stdout",
     "output_type": "stream",
     "text": [
      "(15810, 20)\n"
     ]
    },
    {
     "data": {
      "image/png": "[encoded data removed]",
      "text/plain": [
       "<Figure size 54x108 with 1 Axes>"
      ]
     },
     "metadata": {
      "needs_background": "light"
     },
     "output_type": "display_data"
    },
    {
     "name": "stdout",
     "output_type": "stream",
     "text": [
      "Wilcoxon rank sum test comparing the entropy between species-\n",
      "S.cerevisiae vs S.pombe  : RanksumsResult(statistic=30.379752238922173, pvalue=1.0170105128275172e-202)\n",
      "S.cerevisiae vs H.sapiens: RanksumsResult(statistic=57.79968292782155, pvalue=0.0)\n",
      "S.pombe vs H.sapiens     : RanksumsResult(statistic=14.13176428789395, pvalue=2.4200439091707024e-45)\n",
      "\n",
      "Summary data-\n",
      "              count    median      mean       std       min       max\n",
      "species                                                              \n",
      "S.cerevisiae   2225  2.401618  2.365178  0.448138  0.000726  3.619400\n",
      "S.pombe        1260  1.818812  1.795077  0.491928  0.000726  3.181590\n",
      "H.sapiens     12325  1.602384  1.580366  0.493586  0.000726  3.241501\n"
     ]
    }
   ],
   "source": [
    "fig,ax = plt.subplots(1,1, figsize = (0.75,1.5))\n",
    "\n",
    "plot_data = top1_data.loc[top1_data['conserved_yeast_to_human'] == False].copy()\n",
    "print(plot_data.shape)\n",
    "\n",
    "sns.boxplot(data = plot_data, x = 'species', y = 'observed_entropy', \n",
    "            hue = 'species', palette = species_palette, dodge = False,\n",
    "            boxprops = {'edgecolor' : 'black', 'linewidth' : 0.5},\n",
    "            medianprops = {'color' : 'black', 'linewidth' : 0.5},\n",
    "            whiskerprops = {'color' : 'black', 'linewidth' : 0.5},\n",
    "            capprops = {'color' : 'black', 'linewidth' : 0.5},\n",
    "            flierprops = {'color' : 'black'},\n",
    "            showfliers = False, \n",
    "            ax = ax)\n",
    "\n",
    "ax.set_xlabel(\"Species\")\n",
    "ax.set_xticklabels(ax.get_xticklabels(), rotation = 45, ha = 'right', va = 'top')\n",
    "\n",
    "ax.set_ylabel(\"3'READS cleavage entropy\")\n",
    "ax.set_ylim(0,4)\n",
    "ax.yaxis.set_major_locator(MultipleLocator(0.5))\n",
    "\n",
    "ax.spines['right'].set_visible(False)\n",
    "ax.spines['top'].set_visible(False)\n",
    "\n",
    "ax.legend().remove()\n",
    "\n",
    "plt.savefig(os.path.join(OUTDIR, 'species_entropy_comparison.golden_top-1.nonhomologous.svg'), format = 'svg', dpi = 600, transparent = True)\n",
    "plt.show()\n",
    "\n",
    "\n",
    "print(\"Wilcoxon rank sum test comparing the entropy between species-\")\n",
    "\n",
    "print(\"S.cerevisiae vs S.pombe  :\", st.ranksums(plot_data.loc[plot_data['species'] == 'S.cerevisiae', 'observed_entropy'],\n",
    "                                                plot_data.loc[plot_data['species'] == 'S.pombe',      'observed_entropy']))\n",
    "\n",
    "print(\"S.cerevisiae vs H.sapiens:\", st.ranksums(plot_data.loc[plot_data['species'] == 'S.cerevisiae', 'observed_entropy'],\n",
    "                                                plot_data.loc[plot_data['species'] == 'H.sapiens',    'observed_entropy']))\n",
    "\n",
    "print(\"S.pombe vs H.sapiens     :\", st.ranksums(plot_data.loc[plot_data['species'] == 'S.pombe',      'observed_entropy'],\n",
    "                                                plot_data.loc[plot_data['species'] == 'H.sapiens',    'observed_entropy']))\n",
    "\n",
    "\n",
    "print(\"\\nSummary data-\")\n",
    "print(plot_data.groupby('species')['observed_entropy'].agg(['count','median','mean','std','min','max']).loc[species_order])\n"
   ]
  }
 ],
 "metadata": {
  "kernelspec": {
   "display_name": "Python (tf-train)",
   "language": "python",
   "name": "tf-train"
  },
  "language_info": {
   "codemirror_mode": {
    "name": "ipython",
    "version": 3
   },
   "file_extension": ".py",
   "mimetype": "text/x-python",
   "name": "python",
   "nbconvert_exporter": "python",
   "pygments_lexer": "ipython3",
   "version": "3.6.12"
  }
 },
 "nbformat": 4,
 "nbformat_minor": 2
}
