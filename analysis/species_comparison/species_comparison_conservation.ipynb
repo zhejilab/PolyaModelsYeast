{
 "cells": [
  {
   "cell_type": "markdown",
   "metadata": {},
   "source": [
    "# Species comparison: conservation\n",
    "\n",
    "**Purpose**: To compare the conservation of polyA regions across yeast species and humans.\n"
   ]
  },
  {
   "cell_type": "code",
   "execution_count": 1,
   "metadata": {},
   "outputs": [],
   "source": [
    "%load_ext autoreload"
   ]
  },
  {
   "cell_type": "code",
   "execution_count": 2,
   "metadata": {},
   "outputs": [],
   "source": [
    "%autoreload 2"
   ]
  },
  {
   "cell_type": "code",
   "execution_count": 3,
   "metadata": {},
   "outputs": [],
   "source": [
    "%run -i notebook_setup.py"
   ]
  },
  {
   "cell_type": "code",
   "execution_count": 4,
   "metadata": {},
   "outputs": [],
   "source": [
    "import statsmodels.stats.api as sm"
   ]
  },
  {
   "cell_type": "markdown",
   "metadata": {},
   "source": [
    "## IMPORTS AND SETUP"
   ]
  },
  {
   "cell_type": "code",
   "execution_count": 5,
   "metadata": {},
   "outputs": [],
   "source": [
    "PROJECT   = \"/projects/b1080/eks/polyadenylation/yeast\"\n",
    "DATADIR   = os.path.join(PROJECT, 'external_data', 'conservation')\n",
    "OUTDIR    = os.path.join(PROJECT, 'manuscript', 'analysis', 'species_comparison')\n",
    "RESOURCES = os.path.join(os.path.dirname(OUTDIR), 'resources')\n",
    "os.makedirs(OUTDIR, exist_ok = True)\n"
   ]
  },
  {
   "cell_type": "code",
   "execution_count": 6,
   "metadata": {},
   "outputs": [],
   "source": [
    "## Load CDS region conservation scores\n",
    "\n",
    "with open(os.path.join(RESOURCES, 'conservation.cds_scores.pickle'), mode = 'rb') as handle:\n",
    "    cds_scores = pickle.load(handle)\n"
   ]
  },
  {
   "cell_type": "code",
   "execution_count": 7,
   "metadata": {},
   "outputs": [
    {
     "name": "stdout",
     "output_type": "stream",
     "text": [
      "Top1 site conservation data: (25603, 20)\n",
      "Gold site conservation data: (32797, 20)\n"
     ]
    }
   ],
   "source": [
    "## Load conservation profiles surrounding polyA sites\n",
    "\n",
    "with open(os.path.join(RESOURCES, 'conservation.top1_sites.pickle'), mode = 'rb') as handle:\n",
    "    top1_data = pickle.load(handle)\n",
    "\n",
    "with open(os.path.join(RESOURCES, 'conservation.gold_sites.pickle'), mode = 'rb') as handle:\n",
    "    gold_data = pickle.load(handle)\n",
    "\n",
    "print(\"Top1 site conservation data:\", top1_data.shape)\n",
    "print(\"Gold site conservation data:\", gold_data.shape)\n"
   ]
  },
  {
   "cell_type": "code",
   "execution_count": 8,
   "metadata": {},
   "outputs": [
    {
     "name": "stdout",
     "output_type": "stream",
     "text": [
      "Top1 motif conservation data: (4702995, 18)\n",
      "Gold motif conservation data: (7011675, 19)\n"
     ]
    }
   ],
   "source": [
    "## Load conservation scores for motifs surrounding polyA sites\n",
    "\n",
    "with open(os.path.join(RESOURCES, 'conservation.top1_motifs.pickle'), mode = 'rb') as handle:\n",
    "    top1_motifs = pickle.load(handle)\n",
    "\n",
    "with open(os.path.join(RESOURCES, 'conservation.gold_motifs.pickle'), mode = 'rb') as handle:\n",
    "    gold_motifs = pickle.load(handle)\n",
    "\n",
    "print(\"Top1 motif conservation data:\", top1_motifs.shape)\n",
    "print(\"Gold motif conservation data:\", gold_motifs.shape)\n"
   ]
  },
  {
   "cell_type": "markdown",
   "metadata": {
    "scrolled": false
   },
   "source": [
    "# ANALYSIS"
   ]
  },
  {
   "cell_type": "markdown",
   "metadata": {},
   "source": [
    "## Conservation analysis"
   ]
  },
  {
   "cell_type": "code",
   "execution_count": 9,
   "metadata": {},
   "outputs": [],
   "source": [
    "species_order = ['S.cerevisiae','S.pombe','H.sapiens']\n",
    "\n",
    "species_palette = {\n",
    "    'S.cerevisiae' : sns.color_palette(\"Set2\")[0],\n",
    "    'S.pombe'      : sns.color_palette(\"Set2\")[1],\n",
    "    'H.sapiens'    : sns.color_palette(\"Set2\")[2],\n",
    "}\n",
    "\n",
    "mot_cmap_scer = {\n",
    "    'A-rich'        : '#2278B5',\n",
    "    'A-rich_d0'     : '#2278B5',\n",
    "    'A-rich_d1'     : '#6AB1E3',\n",
    "    'A-rich_d2'     : '#9CCBEC',\n",
    "    'T-rich'        : '#2FA148',\n",
    "    'T-rich_d0'     : '#2FA148',\n",
    "    'T-rich_d1'     : '#73D689',\n",
    "    'T-rich_d2'     : '#A1E4B0',\n",
    "    'TA/TA-rich'    : '#D62A28',\n",
    "    'TA/TA-rich_d0' : '#D62A28',\n",
    "    'TA/TA-rich_d1' : '#E77F7E',\n",
    "    'TA/TA-rich_d2' : '#EFAAA9',\n",
    "    'G/A-rich'      : '#956CB4',\n",
    "    'G/A-rich_d0'   : '#956CB4',\n",
    "    'Other'         : '#000000',\n",
    "    'Pattern'       : '#000000',\n",
    "}\n",
    "\n",
    "mot_cmap_spom = {\n",
    "    'A-rich'        : '#2278b5',\n",
    "    'A-rich_d0'     : '#2278b5',\n",
    "    'A-rich_d1'     : '#6ab1e3',\n",
    "    'A-rich_d2'     : '#9ccbec',\n",
    "    'A-rich_d3'     : '#cde5f5',\n",
    "    'T-rich'        : '#2fa148',\n",
    "    'T-rich_d0'     : '#2fa148',\n",
    "    'T-rich_d1'     : '#73d689',\n",
    "    'T-rich_d2'     : '#a1e4b0',\n",
    "    'GTA'           : '#fcb316',\n",
    "    'GTA_d0'        : '#fcb316',\n",
    "    'TAG'           : '#8C0800',\n",
    "    'TAG_d0'        : '#8C0800',\n",
    "    'GTA-TAG'       : '#D55E00',\n",
    "    'GTA-TAG_d0'    : '#D55E00',\n",
    "    'GTA_controls'  : '#6d6e71',\n",
    "    'Other'         : '#000000',\n",
    "    'Pattern'       : '#000000',\n",
    "}\n"
   ]
  },
  {
   "cell_type": "markdown",
   "metadata": {},
   "source": [
    "### PhastCons conservation profile around top sites"
   ]
  },
  {
   "cell_type": "code",
   "execution_count": 10,
   "metadata": {},
   "outputs": [],
   "source": [
    "def mean_confidence_interval(data, confidence=0.95):\n",
    "    a = 1.0 * np.array(data)\n",
    "    n = len(a)\n",
    "    m, se = np.mean(a), scipy.stats.sem(a)\n",
    "    h = se * scipy.stats.t.ppf((1 + confidence) / 2., n-1)\n",
    "    return m, m-h, m+h\n"
   ]
  },
  {
   "cell_type": "code",
   "execution_count": 11,
   "metadata": {},
   "outputs": [],
   "source": [
    "def conservation_by_position(data):\n",
    "    \n",
    "    xcons = [mean_confidence_interval(data[:,x]) for x in range(np.shape(data)[1])]\n",
    "    xmeans, xlows, xhighs = zip(*xcons)\n",
    "    \n",
    "    return np.asarray(xmeans), np.asarray(xlows), np.asarray(xhighs)\n"
   ]
  },
  {
   "cell_type": "code",
   "execution_count": 12,
   "metadata": {},
   "outputs": [],
   "source": [
    "def calculate_conservation_profile(data, species, cds_mean, conserved, verbose = False):\n",
    "    \n",
    "    if (conserved == True) or (conserved == False):\n",
    "        edt = np.nan_to_num(np.asarray(data.loc[(data['species'] == species) & (data['conserved_yeast_to_human'] == conserved), 'conservation'].tolist()), nan = 0)\n",
    "    else:\n",
    "        edt = np.nan_to_num(np.asarray(data.loc[(data['species'] == species), 'conservation'].tolist()), nan = 0)\n",
    "        \n",
    "    enorm = edt / cds_mean\n",
    "    emeans, elows, ehighs = conservation_by_position(enorm)\n",
    "    \n",
    "    if (verbose):\n",
    "        print(species, np.shape(edt), np.min(emeans), np.max(emeans))\n",
    "    \n",
    "    return emeans, elows, ehighs\n"
   ]
  },
  {
   "cell_type": "markdown",
   "metadata": {},
   "source": [
    "#### Top sites located in homologous genes"
   ]
  },
  {
   "cell_type": "code",
   "execution_count": 13,
   "metadata": {},
   "outputs": [
    {
     "name": "stdout",
     "output_type": "stream",
     "text": [
      "S.cerevisiae (3296, 500) 0.4266518859922217 1.0305807007908898\n",
      "S.pombe (2720, 500) 0.29654687978638744 0.9013222290119437\n",
      "H.sapiens (3777, 500) 0.15036384508069262 0.9927579735071194\n"
     ]
    },
    {
     "data": {
      "image/png": "[encoded data removed]",
      "text/plain": [
       "<Figure size 72x72 with 1 Axes>"
      ]
     },
     "metadata": {
      "needs_background": "light"
     },
     "output_type": "display_data"
    }
   ],
   "source": [
    "fig,ax = plt.subplots(1,1, figsize = (1,1))\n",
    "\n",
    "xs = np.arange(-250,250,1)\n",
    "region = (-250,150)\n",
    "\n",
    "emeans_cerev, elows_cerev, ehighs_cerev = calculate_conservation_profile(top1_data, \"S.cerevisiae\", cds_scores['scer']['mean'], conserved = True, verbose = True)\n",
    "emeans_pombe, elows_pombe, ehighs_pombe = calculate_conservation_profile(top1_data, \"S.pombe\",      cds_scores['spom']['mean'], conserved = True, verbose = True)\n",
    "emeans_human, elows_human, ehighs_human = calculate_conservation_profile(top1_data, \"H.sapiens\",    cds_scores['hsap']['mean'], conserved = True, verbose = True)\n",
    "\n",
    "ax.plot(xs, emeans_cerev, color = species_palette['S.cerevisiae'], label = \"S.cerevisiae\", linewidth = 1)\n",
    "ax.fill_between(xs, y1 = elows_cerev, y2 = ehighs_cerev, color = species_palette['S.cerevisiae'], label = \"S.cerevisiae\", alpha = 0.25, zorder = 0)\n",
    "\n",
    "ax.plot(xs, emeans_pombe, color = species_palette['S.pombe'], label = \"S.pombe\", linewidth = 1)\n",
    "ax.fill_between(xs, y1 = elows_pombe, y2 = ehighs_pombe, color = species_palette['S.pombe'], label = \"S.pombe\", alpha = 0.25, zorder = 0)\n",
    "\n",
    "ax.plot(xs, emeans_human, color = species_palette['H.sapiens'], label = \"H.sapiens\", linewidth = 1)\n",
    "ax.fill_between(xs, y1 = elows_human, y2 = ehighs_human, color = species_palette['H.sapiens'], label = \"H.sapiens\", alpha = 0.25, zorder = 0)\n",
    "\n",
    "ax.axvline(x = 0, color = 'black', linestyle = 'dashed', linewidth = 0.5)\n",
    "\n",
    "ax.set_ylabel(\"CDS mean-normalized conservation score\")\n",
    "ax.set_ylim(0,1.1)\n",
    "ax.yaxis.set_major_locator(MultipleLocator(0.25))\n",
    "\n",
    "ax.set_xlabel(\"Position relative to max cleavage site (nt)\")\n",
    "ax.set_xlim(region)\n",
    "ax.xaxis.set_major_locator(MultipleLocator(50))\n",
    "\n",
    "ax.set_title(\"Homologous genes\", fontsize = 7)\n",
    "\n",
    "ax.legend(bbox_to_anchor = (1.05,1))\n",
    "\n",
    "ax.spines['right'].set_visible(False)\n",
    "ax.spines['top'].set_visible(False)\n",
    "\n",
    "plt.savefig(os.path.join(OUTDIR, 'species_conservation_comparison.golden_top-1.homologous.svg'), format = 'svg', dpi = 600, transparent = True)\n",
    "plt.show()\n"
   ]
  },
  {
   "cell_type": "markdown",
   "metadata": {},
   "source": [
    "#### Top sites located in non-homologous genes"
   ]
  },
  {
   "cell_type": "code",
   "execution_count": 14,
   "metadata": {},
   "outputs": [
    {
     "name": "stdout",
     "output_type": "stream",
     "text": [
      "S.cerevisiae (2225, 500) 0.42574995667799953 0.8701409551071113\n",
      "S.pombe (1260, 500) 0.23050023168109032 0.6268108356599903\n",
      "H.sapiens (12325, 500) 0.13522730185952286 0.9282388423946593\n"
     ]
    },
    {
     "data": {
      "image/png": "[encoded data removed]",
      "text/plain": [
       "<Figure size 72x72 with 1 Axes>"
      ]
     },
     "metadata": {
      "needs_background": "light"
     },
     "output_type": "display_data"
    }
   ],
   "source": [
    "fig,ax = plt.subplots(1,1, figsize = (1,1))\n",
    "\n",
    "xs = np.arange(-250,250,1)\n",
    "region = (-250,150)\n",
    "\n",
    "emeans_cerev, elows_cerev, ehighs_cerev = calculate_conservation_profile(top1_data, \"S.cerevisiae\", cds_scores['scer']['mean'], conserved = False, verbose = True)\n",
    "emeans_pombe, elows_pombe, ehighs_pombe = calculate_conservation_profile(top1_data, \"S.pombe\",      cds_scores['spom']['mean'], conserved = False, verbose = True)\n",
    "emeans_human, elows_human, ehighs_human = calculate_conservation_profile(top1_data, \"H.sapiens\",    cds_scores['hsap']['mean'], conserved = False, verbose = True)\n",
    "\n",
    "ax.plot(xs, emeans_cerev, color = species_palette['S.cerevisiae'], label = \"S.cerevisiae\", linewidth = 1)\n",
    "ax.fill_between(xs, y1 = elows_cerev, y2 = ehighs_cerev, color = species_palette['S.cerevisiae'], label = \"S.cerevisiae\", alpha = 0.25, zorder = 0)\n",
    "\n",
    "ax.plot(xs, emeans_pombe, color = species_palette['S.pombe'], label = \"S.pombe\", linewidth = 1)\n",
    "ax.fill_between(xs, y1 = elows_pombe, y2 = ehighs_pombe, color = species_palette['S.pombe'], label = \"S.pombe\", alpha = 0.25, zorder = 0)\n",
    "\n",
    "ax.plot(xs, emeans_human, color = species_palette['H.sapiens'], label = \"H.sapiens\", linewidth = 1)\n",
    "ax.fill_between(xs, y1 = elows_human, y2 = ehighs_human, color = species_palette['H.sapiens'], label = \"H.sapiens\", alpha = 0.25, zorder = 0)\n",
    "\n",
    "ax.axvline(x = 0, color = 'black', linestyle = 'dashed', linewidth = 0.5)\n",
    "\n",
    "ax.set_ylabel(\"CDS mean-normalized conservation score\")\n",
    "ax.set_ylim(0,1.1)\n",
    "ax.yaxis.set_major_locator(MultipleLocator(0.25))\n",
    "\n",
    "ax.set_xlabel(\"Position relative to max cleavage site (nt)\")\n",
    "ax.set_xlim(region)\n",
    "ax.xaxis.set_major_locator(MultipleLocator(50))\n",
    "\n",
    "ax.set_title(\"Non-homologous genes\", fontsize = 7)\n",
    "\n",
    "ax.legend(bbox_to_anchor = (1.05,1))\n",
    "\n",
    "ax.spines['right'].set_visible(False)\n",
    "ax.spines['top'].set_visible(False)\n",
    "\n",
    "plt.savefig(os.path.join(OUTDIR, 'species_conservation_comparison.golden_top-1.nonhomologous.svg'), format = 'svg', dpi = 600, transparent = True)\n",
    "plt.show()\n"
   ]
  },
  {
   "cell_type": "markdown",
   "metadata": {},
   "source": [
    "#### All top sites"
   ]
  },
  {
   "cell_type": "code",
   "execution_count": 15,
   "metadata": {},
   "outputs": [
    {
     "name": "stdout",
     "output_type": "stream",
     "text": [
      "S.cerevisiae (5521, 500) 0.42968663854230954 0.9655000714528255\n",
      "S.pombe (3980, 500) 0.28027547198560804 0.814087154287177\n",
      "H.sapiens (16102, 500) 0.1396875701702457 0.9433729101012649\n"
     ]
    },
    {
     "data": {
      "image/png": "[encoded data removed]",
      "text/plain": [
       "<Figure size 72x72 with 1 Axes>"
      ]
     },
     "metadata": {
      "needs_background": "light"
     },
     "output_type": "display_data"
    }
   ],
   "source": [
    "fig,ax = plt.subplots(1,1, figsize = (1,1))\n",
    "\n",
    "xs = np.arange(-250,250,1)\n",
    "region = (-250,150)\n",
    "\n",
    "emeans_cerev, elows_cerev, ehighs_cerev = calculate_conservation_profile(top1_data, \"S.cerevisiae\", cds_scores['scer']['mean'], conserved = 'NA', verbose = True)\n",
    "emeans_pombe, elows_pombe, ehighs_pombe = calculate_conservation_profile(top1_data, \"S.pombe\",      cds_scores['spom']['mean'], conserved = 'NA', verbose = True)\n",
    "emeans_human, elows_human, ehighs_human = calculate_conservation_profile(top1_data, \"H.sapiens\",    cds_scores['hsap']['mean'], conserved = 'NA', verbose = True)\n",
    "\n",
    "ax.plot(xs, emeans_cerev, color = species_palette['S.cerevisiae'], label = \"S.cerevisiae\", linewidth = 1)\n",
    "ax.fill_between(xs, y1 = elows_cerev, y2 = ehighs_cerev, color = species_palette['S.cerevisiae'], label = \"S.cerevisiae\", alpha = 0.25, zorder = 0)\n",
    "\n",
    "ax.plot(xs, emeans_pombe, color = species_palette['S.pombe'], label = \"S.pombe\", linewidth = 1)\n",
    "ax.fill_between(xs, y1 = elows_pombe, y2 = ehighs_pombe, color = species_palette['S.pombe'], label = \"S.pombe\", alpha = 0.25, zorder = 0)\n",
    "\n",
    "ax.plot(xs, emeans_human, color = species_palette['H.sapiens'], label = \"H.sapiens\", linewidth = 1)\n",
    "ax.fill_between(xs, y1 = elows_human, y2 = ehighs_human, color = species_palette['H.sapiens'], label = \"H.sapiens\", alpha = 0.25, zorder = 0)\n",
    "\n",
    "ax.axvline(x = 0, color = 'black', linestyle = 'dashed', linewidth = 0.5)\n",
    "\n",
    "ax.set_ylabel(\"CDS mean-normalized conservation score\")\n",
    "ax.set_ylim(0,1.1)\n",
    "ax.yaxis.set_major_locator(MultipleLocator(0.25))\n",
    "\n",
    "ax.set_xlabel(\"Position relative to max cleavage site (nt)\")\n",
    "ax.set_xlim(region)\n",
    "ax.xaxis.set_major_locator(MultipleLocator(50))\n",
    "\n",
    "ax.set_title(\"All top sites\", fontsize = 7)\n",
    "\n",
    "ax.legend(bbox_to_anchor = (1.05,1))\n",
    "\n",
    "ax.spines['right'].set_visible(False)\n",
    "ax.spines['top'].set_visible(False)\n",
    "\n",
    "plt.savefig(os.path.join(OUTDIR, 'species_conservation_comparison.golden_top-1.all.svg'), format = 'svg', dpi = 600, transparent = True)\n",
    "plt.show()\n"
   ]
  },
  {
   "cell_type": "markdown",
   "metadata": {},
   "source": [
    "### Split by entropy group and show conservation profile"
   ]
  },
  {
   "cell_type": "code",
   "execution_count": 16,
   "metadata": {},
   "outputs": [
    {
     "name": "stdout",
     "output_type": "stream",
     "text": [
      "S.cerevisiae (1104, 500) 0.3902790076536574 0.97857051222262\n",
      "S.pombe (796, 500) 0.253706926153047 0.8629101980419566\n",
      "H.sapiens (3221, 500) 0.132329957582822 0.9118408957142923\n"
     ]
    },
    {
     "data": {
      "image/png": "[encoded data removed]",
      "text/plain": [
       "<Figure size 72x72 with 1 Axes>"
      ]
     },
     "metadata": {
      "needs_background": "light"
     },
     "output_type": "display_data"
    }
   ],
   "source": [
    "fig,ax = plt.subplots(1,1, figsize = (1,1))\n",
    "\n",
    "xs = np.arange(-250,250,1)\n",
    "region = (-250,150)\n",
    "\n",
    "emeans_cerev, elows_cerev, ehighs_cerev = calculate_conservation_profile(top1_data.loc[top1_data['observed_entropy_bin'] == 'H'], \"S.cerevisiae\", cds_scores['scer']['mean'], conserved = 'NA', verbose = True)\n",
    "emeans_pombe, elows_pombe, ehighs_pombe = calculate_conservation_profile(top1_data.loc[top1_data['observed_entropy_bin'] == 'H'], \"S.pombe\",      cds_scores['spom']['mean'], conserved = 'NA', verbose = True)\n",
    "emeans_human, elows_human, ehighs_human = calculate_conservation_profile(top1_data.loc[top1_data['observed_entropy_bin'] == 'H'], \"H.sapiens\",    cds_scores['hsap']['mean'], conserved = 'NA', verbose = True)\n",
    "\n",
    "ax.plot(xs, emeans_cerev, color = species_palette['S.cerevisiae'], label = \"S.cerevisiae\", linewidth = 1)\n",
    "ax.fill_between(xs, y1 = elows_cerev, y2 = ehighs_cerev, color = species_palette['S.cerevisiae'], label = \"S.cerevisiae\", alpha = 0.25, zorder = 0)\n",
    "\n",
    "ax.plot(xs, emeans_pombe, color = species_palette['S.pombe'], label = \"S.pombe\", linewidth = 1)\n",
    "ax.fill_between(xs, y1 = elows_pombe, y2 = ehighs_pombe, color = species_palette['S.pombe'], label = \"S.pombe\", alpha = 0.25, zorder = 0)\n",
    "\n",
    "ax.plot(xs, emeans_human, color = species_palette['H.sapiens'], label = \"H.sapiens\", linewidth = 1)\n",
    "ax.fill_between(xs, y1 = elows_human, y2 = ehighs_human, color = species_palette['H.sapiens'], label = \"H.sapiens\", alpha = 0.25, zorder = 0)\n",
    "\n",
    "ax.axvline(x = 0, color = 'black', linestyle = 'dashed', linewidth = 0.5)\n",
    "\n",
    "ax.set_ylabel(\"CDS mean-normalized conservation score\")\n",
    "ax.set_ylim(0,1.1)\n",
    "ax.yaxis.set_major_locator(MultipleLocator(0.25))\n",
    "\n",
    "ax.set_xlabel(\"Position relative to max cleavage site (nt)\")\n",
    "ax.set_xlim(region)\n",
    "ax.xaxis.set_major_locator(MultipleLocator(50))\n",
    "\n",
    "ax.set_title(\"High entropy sites\", fontsize = 7)\n",
    "\n",
    "ax.legend(bbox_to_anchor = (1.05,1))\n",
    "\n",
    "ax.spines['right'].set_visible(False)\n",
    "ax.spines['top'].set_visible(False)\n",
    "\n",
    "plt.savefig(os.path.join(OUTDIR, 'species_conservation_comparison.golden_top-1.entropy_high.svg'), format = 'svg', dpi = 600, transparent = True)\n",
    "plt.show()\n"
   ]
  },
  {
   "cell_type": "code",
   "execution_count": 17,
   "metadata": {},
   "outputs": [
    {
     "name": "stdout",
     "output_type": "stream",
     "text": [
      "S.cerevisiae (1105, 500) 0.46250928628691396 0.9636975475163515\n",
      "S.pombe (796, 500) 0.3217348331318674 0.7426376648262116\n",
      "H.sapiens (3221, 500) 0.12696512931662565 0.9293695562974401\n"
     ]
    },
    {
     "data": {
      "image/png": "[encoded data removed]",
      "text/plain": [
       "<Figure size 72x72 with 1 Axes>"
      ]
     },
     "metadata": {
      "needs_background": "light"
     },
     "output_type": "display_data"
    }
   ],
   "source": [
    "fig,ax = plt.subplots(1,1, figsize = (1,1))\n",
    "\n",
    "xs = np.arange(-250,250,1)\n",
    "region = (-250,150)\n",
    "\n",
    "emeans_cerev, elows_cerev, ehighs_cerev = calculate_conservation_profile(top1_data.loc[top1_data['observed_entropy_bin'] == 'L'], \"S.cerevisiae\", cds_scores['scer']['mean'], conserved = 'NA', verbose = True)\n",
    "emeans_pombe, elows_pombe, ehighs_pombe = calculate_conservation_profile(top1_data.loc[top1_data['observed_entropy_bin'] == 'L'], \"S.pombe\",      cds_scores['spom']['mean'], conserved = 'NA', verbose = True)\n",
    "emeans_human, elows_human, ehighs_human = calculate_conservation_profile(top1_data.loc[top1_data['observed_entropy_bin'] == 'L'], \"H.sapiens\",    cds_scores['hsap']['mean'], conserved = 'NA', verbose = True)\n",
    "\n",
    "ax.plot(xs, emeans_cerev, color = species_palette['S.cerevisiae'], label = \"S.cerevisiae\", linewidth = 1)\n",
    "ax.fill_between(xs, y1 = elows_cerev, y2 = ehighs_cerev, color = species_palette['S.cerevisiae'], label = \"S.cerevisiae\", alpha = 0.25, zorder = 0)\n",
    "\n",
    "ax.plot(xs, emeans_pombe, color = species_palette['S.pombe'], label = \"S.pombe\", linewidth = 1)\n",
    "ax.fill_between(xs, y1 = elows_pombe, y2 = ehighs_pombe, color = species_palette['S.pombe'], label = \"S.pombe\", alpha = 0.25, zorder = 0)\n",
    "\n",
    "ax.plot(xs, emeans_human, color = species_palette['H.sapiens'], label = \"H.sapiens\", linewidth = 1)\n",
    "ax.fill_between(xs, y1 = elows_human, y2 = ehighs_human, color = species_palette['H.sapiens'], label = \"H.sapiens\", alpha = 0.25, zorder = 0)\n",
    "\n",
    "ax.axvline(x = 0, color = 'black', linestyle = 'dashed', linewidth = 0.5)\n",
    "\n",
    "ax.set_ylabel(\"CDS mean-normalized conservation score\")\n",
    "ax.set_ylim(0,1.1)\n",
    "ax.yaxis.set_major_locator(MultipleLocator(0.25))\n",
    "\n",
    "ax.set_xlabel(\"Position relative to max cleavage site (nt)\")\n",
    "ax.set_xlim(region)\n",
    "ax.xaxis.set_major_locator(MultipleLocator(50))\n",
    "\n",
    "ax.set_title(\"Low entropy sites\", fontsize = 7)\n",
    "\n",
    "ax.legend(bbox_to_anchor = (1.05,1))\n",
    "\n",
    "ax.spines['right'].set_visible(False)\n",
    "ax.spines['top'].set_visible(False)\n",
    "\n",
    "plt.savefig(os.path.join(OUTDIR, 'species_conservation_comparison.golden_top-1.entropy_low.svg'), format = 'svg', dpi = 600, transparent = True)\n",
    "plt.show()\n"
   ]
  },
  {
   "cell_type": "markdown",
   "metadata": {},
   "source": [
    "#### Conservation profile based on the relative position of well-expressed sites"
   ]
  },
  {
   "cell_type": "code",
   "execution_count": 18,
   "metadata": {},
   "outputs": [
    {
     "name": "stdout",
     "output_type": "stream",
     "text": [
      "S.cerevisiae (2740, 500) 0.42499370871879033 1.0718459603484156\n",
      "S.pombe (553, 500) 0.18452332708573882 1.1528083001877534\n",
      "H.sapiens (4479, 500) 0.3107784068011448 0.8724484068783442\n"
     ]
    },
    {
     "data": {
      "image/png": "[encoded data removed]",
      "text/plain": [
       "<Figure size 72x72 with 1 Axes>"
      ]
     },
     "metadata": {
      "needs_background": "light"
     },
     "output_type": "display_data"
    }
   ],
   "source": [
    "fig,ax = plt.subplots(1,1, figsize = (1,1))\n",
    "\n",
    "xs = np.arange(-250,250,1)\n",
    "region = (-250,150)\n",
    "\n",
    "position = 'first'\n",
    "\n",
    "emeans_cerev, elows_cerev, ehighs_cerev = calculate_conservation_profile(gold_data.loc[gold_data['position'] == position], \"S.cerevisiae\", cds_scores['scer']['mean'], conserved = 'NA', verbose = True)\n",
    "emeans_pombe, elows_pombe, ehighs_pombe = calculate_conservation_profile(gold_data.loc[gold_data['position'] == position], \"S.pombe\",      cds_scores['spom']['mean'], conserved = 'NA', verbose = True)\n",
    "emeans_human, elows_human, ehighs_human = calculate_conservation_profile(gold_data.loc[gold_data['position'] == position], \"H.sapiens\",    cds_scores['hsap']['mean'], conserved = 'NA', verbose = True)\n",
    "\n",
    "ax.plot(xs, emeans_cerev, color = species_palette['S.cerevisiae'], label = \"S.cerevisiae\", linewidth = 1)\n",
    "ax.fill_between(xs, y1 = elows_cerev, y2 = ehighs_cerev, color = species_palette['S.cerevisiae'], label = \"S.cerevisiae\", alpha = 0.25, zorder = 0)\n",
    "\n",
    "ax.plot(xs, emeans_pombe, color = species_palette['S.pombe'], label = \"S.pombe\", linewidth = 1)\n",
    "ax.fill_between(xs, y1 = elows_pombe, y2 = ehighs_pombe, color = species_palette['S.pombe'], label = \"S.pombe\", alpha = 0.25, zorder = 0)\n",
    "\n",
    "ax.plot(xs, emeans_human, color = species_palette['H.sapiens'], label = \"H.sapiens\", linewidth = 1)\n",
    "ax.fill_between(xs, y1 = elows_human, y2 = ehighs_human, color = species_palette['H.sapiens'], label = \"H.sapiens\", alpha = 0.25, zorder = 0)\n",
    "\n",
    "ax.axvline(x = 0, color = 'black', linestyle = 'dashed', linewidth = 0.5)\n",
    "\n",
    "ax.set_ylabel(\"CDS mean-normalized conservation score\")\n",
    "ax.set_ylim(0,1.25)\n",
    "ax.yaxis.set_major_locator(MultipleLocator(0.25))\n",
    "\n",
    "ax.set_xlabel(\"Position relative to max cleavage site (nt)\")\n",
    "ax.set_xlim(region)\n",
    "ax.xaxis.set_major_locator(MultipleLocator(50))\n",
    "\n",
    "ax.set_title(f\"{position.capitalize()} sites\", fontsize = 7)\n",
    "\n",
    "ax.legend(bbox_to_anchor = (1.05,1))\n",
    "\n",
    "ax.spines['right'].set_visible(False)\n",
    "ax.spines['top'].set_visible(False)\n",
    "\n",
    "plt.savefig(os.path.join(OUTDIR, f'species_conservation_comparison.golden_reads.{position}.svg'), format = 'svg', dpi = 600, transparent = True)\n",
    "plt.show()\n"
   ]
  },
  {
   "cell_type": "code",
   "execution_count": 19,
   "metadata": {},
   "outputs": [
    {
     "name": "stdout",
     "output_type": "stream",
     "text": [
      "S.cerevisiae (4393, 500) 0.42376665499188454 1.0982411539773946\n",
      "S.pombe (456, 500) 0.17424343360418562 1.2180412197997392\n",
      "H.sapiens (2983, 500) 0.24977305381895404 0.7314373878872125\n"
     ]
    },
    {
     "data": {
      "image/png": "[encoded data removed]",
      "text/plain": [
       "<Figure size 72x72 with 1 Axes>"
      ]
     },
     "metadata": {
      "needs_background": "light"
     },
     "output_type": "display_data"
    }
   ],
   "source": [
    "fig,ax = plt.subplots(1,1, figsize = (1,1))\n",
    "\n",
    "xs = np.arange(-250,250,1)\n",
    "region = (-250,150)\n",
    "\n",
    "position = 'middle'\n",
    "\n",
    "emeans_cerev, elows_cerev, ehighs_cerev = calculate_conservation_profile(gold_data.loc[gold_data['position'] == position], \"S.cerevisiae\", cds_scores['scer']['mean'], conserved = 'NA', verbose = True)\n",
    "emeans_pombe, elows_pombe, ehighs_pombe = calculate_conservation_profile(gold_data.loc[gold_data['position'] == position], \"S.pombe\",      cds_scores['spom']['mean'], conserved = 'NA', verbose = True)\n",
    "emeans_human, elows_human, ehighs_human = calculate_conservation_profile(gold_data.loc[gold_data['position'] == position], \"H.sapiens\",    cds_scores['hsap']['mean'], conserved = 'NA', verbose = True)\n",
    "\n",
    "ax.plot(xs, emeans_cerev, color = species_palette['S.cerevisiae'], label = \"S.cerevisiae\", linewidth = 1)\n",
    "ax.fill_between(xs, y1 = elows_cerev, y2 = ehighs_cerev, color = species_palette['S.cerevisiae'], label = \"S.cerevisiae\", alpha = 0.25, zorder = 0)\n",
    "\n",
    "ax.plot(xs, emeans_pombe, color = species_palette['S.pombe'], label = \"S.pombe\", linewidth = 1)\n",
    "ax.fill_between(xs, y1 = elows_pombe, y2 = ehighs_pombe, color = species_palette['S.pombe'], label = \"S.pombe\", alpha = 0.25, zorder = 0)\n",
    "\n",
    "ax.plot(xs, emeans_human, color = species_palette['H.sapiens'], label = \"H.sapiens\", linewidth = 1)\n",
    "ax.fill_between(xs, y1 = elows_human, y2 = ehighs_human, color = species_palette['H.sapiens'], label = \"H.sapiens\", alpha = 0.25, zorder = 0)\n",
    "\n",
    "ax.axvline(x = 0, color = 'black', linestyle = 'dashed', linewidth = 0.5)\n",
    "\n",
    "ax.set_ylabel(\"CDS mean-normalized conservation score\")\n",
    "ax.set_ylim(0,1.25)\n",
    "ax.yaxis.set_major_locator(MultipleLocator(0.25))\n",
    "\n",
    "ax.set_xlabel(\"Position relative to max cleavage site (nt)\")\n",
    "ax.set_xlim(region)\n",
    "ax.xaxis.set_major_locator(MultipleLocator(50))\n",
    "\n",
    "ax.set_title(f\"{position.capitalize()} sites\", fontsize = 7)\n",
    "\n",
    "ax.legend(bbox_to_anchor = (1.05,1))\n",
    "\n",
    "ax.spines['right'].set_visible(False)\n",
    "ax.spines['top'].set_visible(False)\n",
    "\n",
    "plt.savefig(os.path.join(OUTDIR, f'species_conservation_comparison.golden_reads.{position}.svg'), format = 'svg', dpi = 600, transparent = True)\n",
    "plt.show()\n"
   ]
  },
  {
   "cell_type": "code",
   "execution_count": 20,
   "metadata": {},
   "outputs": [
    {
     "name": "stdout",
     "output_type": "stream",
     "text": [
      "S.cerevisiae (2740, 500) 0.3949537631383353 0.9997371010403137\n",
      "S.pombe (553, 500) 0.18297221169793365 1.0322260842448039\n",
      "H.sapiens (4479, 500) 0.10861635393008641 0.8188674867176922\n"
     ]
    },
    {
     "data": {
      "image/png": "[encoded data removed]",
      "text/plain": [
       "<Figure size 72x72 with 1 Axes>"
      ]
     },
     "metadata": {
      "needs_background": "light"
     },
     "output_type": "display_data"
    }
   ],
   "source": [
    "fig,ax = plt.subplots(1,1, figsize = (1,1))\n",
    "\n",
    "xs = np.arange(-250,250,1)\n",
    "region = (-250,150)\n",
    "\n",
    "position = 'last'\n",
    "\n",
    "emeans_cerev, elows_cerev, ehighs_cerev = calculate_conservation_profile(gold_data.loc[gold_data['position'] == position], \"S.cerevisiae\", cds_scores['scer']['mean'], conserved = 'NA', verbose = True)\n",
    "emeans_pombe, elows_pombe, ehighs_pombe = calculate_conservation_profile(gold_data.loc[gold_data['position'] == position], \"S.pombe\",      cds_scores['spom']['mean'], conserved = 'NA', verbose = True)\n",
    "emeans_human, elows_human, ehighs_human = calculate_conservation_profile(gold_data.loc[gold_data['position'] == position], \"H.sapiens\",    cds_scores['hsap']['mean'], conserved = 'NA', verbose = True)\n",
    "\n",
    "ax.plot(xs, emeans_cerev, color = species_palette['S.cerevisiae'], label = \"S.cerevisiae\", linewidth = 1)\n",
    "ax.fill_between(xs, y1 = elows_cerev, y2 = ehighs_cerev, color = species_palette['S.cerevisiae'], label = \"S.cerevisiae\", alpha = 0.25, zorder = 0)\n",
    "\n",
    "ax.plot(xs, emeans_pombe, color = species_palette['S.pombe'], label = \"S.pombe\", linewidth = 1)\n",
    "ax.fill_between(xs, y1 = elows_pombe, y2 = ehighs_pombe, color = species_palette['S.pombe'], label = \"S.pombe\", alpha = 0.25, zorder = 0)\n",
    "\n",
    "ax.plot(xs, emeans_human, color = species_palette['H.sapiens'], label = \"H.sapiens\", linewidth = 1)\n",
    "ax.fill_between(xs, y1 = elows_human, y2 = ehighs_human, color = species_palette['H.sapiens'], label = \"H.sapiens\", alpha = 0.25, zorder = 0)\n",
    "\n",
    "ax.axvline(x = 0, color = 'black', linestyle = 'dashed', linewidth = 0.5)\n",
    "\n",
    "ax.set_ylabel(\"CDS mean-normalized conservation score\")\n",
    "ax.set_ylim(0,1.25)\n",
    "ax.yaxis.set_major_locator(MultipleLocator(0.25))\n",
    "\n",
    "ax.set_xlabel(\"Position relative to max cleavage site (nt)\")\n",
    "ax.set_xlim(region)\n",
    "ax.xaxis.set_major_locator(MultipleLocator(50))\n",
    "\n",
    "ax.set_title(f\"{position.capitalize()} sites\", fontsize = 7)\n",
    "\n",
    "ax.legend(bbox_to_anchor = (1.05,1))\n",
    "\n",
    "ax.spines['right'].set_visible(False)\n",
    "ax.spines['top'].set_visible(False)\n",
    "\n",
    "plt.savefig(os.path.join(OUTDIR, f'species_conservation_comparison.golden_reads.{position}.svg'), format = 'svg', dpi = 600, transparent = True)\n",
    "plt.show()\n"
   ]
  },
  {
   "cell_type": "code",
   "execution_count": 21,
   "metadata": {},
   "outputs": [
    {
     "name": "stdout",
     "output_type": "stream",
     "text": [
      "S.cerevisiae (1160, 500) 0.3571364983239015 0.9504046275057481\n",
      "S.pombe (825, 500) 0.2007308960670924 0.8666986538797266\n",
      "H.sapiens (7436, 500) 0.10836027237990474 1.0585013810138355\n"
     ]
    },
    {
     "data": {
      "image/png": "[encoded data removed]",
      "text/plain": [
       "<Figure size 72x72 with 1 Axes>"
      ]
     },
     "metadata": {
      "needs_background": "light"
     },
     "output_type": "display_data"
    }
   ],
   "source": [
    "fig,ax = plt.subplots(1,1, figsize = (1,1))\n",
    "\n",
    "xs = np.arange(-250,250,1)\n",
    "region = (-250,150)\n",
    "\n",
    "position = 'single'\n",
    "\n",
    "emeans_cerev, elows_cerev, ehighs_cerev = calculate_conservation_profile(gold_data.loc[gold_data['position'] == position], \"S.cerevisiae\", cds_scores['scer']['mean'], conserved = 'NA', verbose = True)\n",
    "emeans_pombe, elows_pombe, ehighs_pombe = calculate_conservation_profile(gold_data.loc[gold_data['position'] == position], \"S.pombe\",      cds_scores['spom']['mean'], conserved = 'NA', verbose = True)\n",
    "emeans_human, elows_human, ehighs_human = calculate_conservation_profile(gold_data.loc[gold_data['position'] == position], \"H.sapiens\",    cds_scores['hsap']['mean'], conserved = 'NA', verbose = True)\n",
    "\n",
    "ax.plot(xs, emeans_cerev, color = species_palette['S.cerevisiae'], label = \"S.cerevisiae\", linewidth = 1)\n",
    "ax.fill_between(xs, y1 = elows_cerev, y2 = ehighs_cerev, color = species_palette['S.cerevisiae'], label = \"S.cerevisiae\", alpha = 0.25, zorder = 0)\n",
    "\n",
    "ax.plot(xs, emeans_pombe, color = species_palette['S.pombe'], label = \"S.pombe\", linewidth = 1)\n",
    "ax.fill_between(xs, y1 = elows_pombe, y2 = ehighs_pombe, color = species_palette['S.pombe'], label = \"S.pombe\", alpha = 0.25, zorder = 0)\n",
    "\n",
    "ax.plot(xs, emeans_human, color = species_palette['H.sapiens'], label = \"H.sapiens\", linewidth = 1)\n",
    "ax.fill_between(xs, y1 = elows_human, y2 = ehighs_human, color = species_palette['H.sapiens'], label = \"H.sapiens\", alpha = 0.25, zorder = 0)\n",
    "\n",
    "ax.axvline(x = 0, color = 'black', linestyle = 'dashed', linewidth = 0.5)\n",
    "\n",
    "ax.set_ylabel(\"CDS mean-normalized conservation score\")\n",
    "ax.set_ylim(0,1.25)\n",
    "ax.yaxis.set_major_locator(MultipleLocator(0.25))\n",
    "\n",
    "ax.set_xlabel(\"Position relative to max cleavage site (nt)\")\n",
    "ax.set_xlim(region)\n",
    "ax.xaxis.set_major_locator(MultipleLocator(50))\n",
    "\n",
    "ax.set_title(f\"{position.capitalize()} sites\", fontsize = 7)\n",
    "\n",
    "ax.legend(bbox_to_anchor = (1.05,1))\n",
    "\n",
    "ax.spines['right'].set_visible(False)\n",
    "ax.spines['top'].set_visible(False)\n",
    "\n",
    "plt.savefig(os.path.join(OUTDIR, f'species_conservation_comparison.golden_reads.{position}.svg'), format = 'svg', dpi = 600, transparent = True)\n",
    "plt.show()\n"
   ]
  },
  {
   "cell_type": "markdown",
   "metadata": {},
   "source": [
    "### PhastCons conservation scores for motifs around top sites"
   ]
  },
  {
   "cell_type": "code",
   "execution_count": 22,
   "metadata": {},
   "outputs": [
    {
     "name": "stdout",
     "output_type": "stream",
     "text": [
      "(2732895, 18)\n",
      "(1970100, 18)\n"
     ]
    }
   ],
   "source": [
    "## Split species data\n",
    "\n",
    "top1_mot_scer = top1_motifs.loc[top1_motifs['species'] == 'S.cerevisiae'].copy()\n",
    "top1_mot_spom = top1_motifs.loc[top1_motifs['species'] == 'S.pombe'].copy()\n",
    "\n",
    "print(top1_mot_scer.shape)\n",
    "print(top1_mot_spom.shape)\n"
   ]
  },
  {
   "cell_type": "code",
   "execution_count": 23,
   "metadata": {},
   "outputs": [
    {
     "name": "stdout",
     "output_type": "stream",
     "text": [
      "Number of golden sites: scer=5521, spom=3980\n"
     ]
    }
   ],
   "source": [
    "## Tally the number of golden sites for each species\n",
    "\n",
    "top1_sites_scer = top1_mot_scer['siteKey'].nunique()\n",
    "top1_sites_spom = top1_mot_spom['siteKey'].nunique()\n",
    "\n",
    "print(f\"Number of golden sites: scer={top1_sites_scer}, spom={top1_sites_spom}\")\n"
   ]
  },
  {
   "cell_type": "markdown",
   "metadata": {},
   "source": [
    "#### Conservation scores for motifs in *S. cerevisiae*"
   ]
  },
  {
   "cell_type": "code",
   "execution_count": 43,
   "metadata": {},
   "outputs": [
    {
     "name": "stdout",
     "output_type": "stream",
     "text": [
      "Filtered motifs: input=2732895, conserved=1631520, no_missing_values=2726491, both_conditions=1628815\n",
      "Motif groups: families={'Other': 1053498, 'T-rich': 91909, 'A-rich': 66942, 'TA/TA-rich': 65826}, unassigned=350640\n"
     ]
    }
   ],
   "source": [
    "## Summarize the motif conservation scores\n",
    "\n",
    "condCONS = (top1_mot_scer['conserved_yeast_to_human'] == True)\n",
    "condMISS = (top1_mot_scer['conservation_missing'] == False)\n",
    "\n",
    "mdata_scer = top1_mot_scer.loc[condCONS & condMISS].copy()\n",
    "print(f\"Filtered motifs: input={len(top1_mot_scer)}, conserved={condCONS.sum()}, no_missing_values={condMISS.sum()}, both_conditions={(condCONS & condMISS).sum()}\")\n",
    "\n",
    "## Group motifs by family and significance\n",
    "\n",
    "mdata_scer['category'] = np.nan\n",
    "mdata_scer.loc[(mdata_scer['motifSignificance'] == False) & (mdata_scer['motifOverallFamily'] == 'Other'), 'category'] = 'Other'\n",
    "mdata_scer.loc[(mdata_scer['motifSignificance'] == True ) & (mdata_scer['motifOverallFamily'] != 'Other'), 'category'] = mdata_scer['motifOverallFamily']\n",
    "\n",
    "mdata_scer['category'] = pd.Categorical(mdata_scer['category'], categories = ['Other','TA/TA-rich','A-rich','T-rich'])\n",
    "\n",
    "print(f\"Motif groups: families={mdata_scer['category'].value_counts().to_dict()}, unassigned={mdata_scer['category'].isna().sum()}\")\n"
   ]
  },
  {
   "cell_type": "code",
   "execution_count": 44,
   "metadata": {},
   "outputs": [
    {
     "name": "stdout",
     "output_type": "stream",
     "text": [
      "After filtering out rare motifs: threshold=1%, input_data=1628815, filtered_data=1628757\n"
     ]
    }
   ],
   "source": [
    "## Filter out rare motifs present in fewer than 1% of golden sites\n",
    "\n",
    "motif_sites = mdata_scer.groupby('motif')['siteKey'].nunique()\n",
    "motif_incl  = motif_sites.index[motif_sites >= (0.01 * mdata_scer['siteKey'].nunique())].to_list()\n",
    "mfilt_scer  = mdata_scer.loc[mdata_scer['motif'].isin(motif_incl)].copy()\n",
    "\n",
    "print(f\"After filtering out rare motifs: threshold=1%, input_data={len(mdata_scer)}, filtered_data={len(mfilt_scer)}\")\n"
   ]
  },
  {
   "cell_type": "code",
   "execution_count": 45,
   "metadata": {},
   "outputs": [],
   "source": [
    "## Adjusted motif conservation scores by the mean CDS region score\n",
    "\n",
    "mfilt_scer['conservation_adjusted'] = mfilt_scer['conservation_mean'] / cds_scores['scer']['mean']\n"
   ]
  },
  {
   "cell_type": "code",
   "execution_count": 46,
   "metadata": {},
   "outputs": [
    {
     "name": "stdout",
     "output_type": "stream",
     "text": [
      "target  region    \n",
      "Other   Upstream      573154\n",
      "        Downstream    493168\n",
      "Target  Target        250310\n",
      "dtype: int64\n"
     ]
    }
   ],
   "source": [
    "## Identify the motifs located in the slight conservation peak\n",
    "\n",
    "mreg = (-75,0)\n",
    "\n",
    "mfilt_scer['region'] = pd.cut(mfilt_scer['motifRelPos'], bins = [-250,mreg[0]-1,mreg[1],150], labels = ['Upstream','Target','Downstream'])\n",
    "\n",
    "mfilt_scer['target'] = 'Other'\n",
    "mfilt_scer.loc[mfilt_scer['motifRelPos'].between(*mreg), 'target'] = 'Target'\n",
    "\n",
    "print(mfilt_scer.groupby(['target','region']).size())\n"
   ]
  },
  {
   "cell_type": "code",
   "execution_count": 47,
   "metadata": {},
   "outputs": [],
   "source": [
    "## Summarize mean conservation score and frequency by position\n",
    "\n",
    "msum_score_scer = mfilt_scer.groupby(['category','motifRelPos'])['conservation_mean'].agg(['mean','std']).reset_index()\n",
    "msum_freq_scer  = mfilt_scer.groupby(['category','motifRelPos']).size().reset_index(name = 'count')\n"
   ]
  },
  {
   "cell_type": "code",
   "execution_count": 48,
   "metadata": {},
   "outputs": [
    {
     "data": {
      "image/png": "[encoded data removed]",
      "text/plain": [
       "<Figure size 72x72 with 1 Axes>"
      ]
     },
     "metadata": {
      "needs_background": "light"
     },
     "output_type": "display_data"
    }
   ],
   "source": [
    "## Plot distribution of motif conservation scores around polyA sites\n",
    "\n",
    "region = (-250,150)\n",
    "smoothing = 10\n",
    "\n",
    "fig,ax = plt.subplots(1,1, figsize = (1,1))\n",
    "\n",
    "for c in sorted(mdata_scer.loc[(~mdata_scer['category'].isna()) & (mdata_scer['category'] != 'Other'), 'category'].unique().tolist()) + ['Other']:\n",
    "    \n",
    "    dt = msum_score_scer.loc[msum_score_scer['category'] == c]\n",
    "    dc = dict(zip(dt['motifRelPos'], dt['mean']))\n",
    "    \n",
    "    xs = np.arange(*region,1)\n",
    "    ys = np.asarray([dc.get(x,0) for x in xs]) / cds_scores['scer']['mean']\n",
    "    sm = pd.Series(ys).rolling(window = smoothing, center = True).mean()\n",
    "    \n",
    "    sns.lineplot(x = xs, y = sm, label = c, color = mot_cmap_scer[c], linewidth = 0.5, ax = ax)\n",
    "\n",
    "ax.axvspan(*mreg, color = '#ededed', zorder = 1)\n",
    "ax.axvline(x = 0, color = 'black', linestyle = 'dashed', linewidth = 0.5)\n",
    "\n",
    "ax.set_xlabel(\"Position relative to cleavage site (nt)\")\n",
    "ax.set_xlim(region)\n",
    "ax.xaxis.set_major_locator(MultipleLocator(50))\n",
    "\n",
    "ax.set_ylabel(\"CDS mean-normalized conservation score\")\n",
    "ax.set_ylim(0,1.1)\n",
    "ax.yaxis.set_major_locator(MultipleLocator(0.25))\n",
    "\n",
    "ax.legend(bbox_to_anchor = (1.05,1), loc = 'upper left')\n",
    "\n",
    "ax.spines['right'].set_visible(False)\n",
    "ax.spines['top'].set_visible(False)\n",
    "\n",
    "plt.savefig(os.path.join(OUTDIR, 'motif_conservation_comparison.golden_top-1.scer.mean_score.svg'), format = 'svg', dpi = 600, transparent = True)\n",
    "plt.show()\n"
   ]
  },
  {
   "cell_type": "code",
   "execution_count": 49,
   "metadata": {},
   "outputs": [
    {
     "name": "stdout",
     "output_type": "stream",
     "text": [
      "Category     A-rich: unique_motifs=31\n",
      "Category     T-rich: unique_motifs=51\n",
      "Category TA/TA-rich: unique_motifs=40\n",
      "Category      Other: unique_motifs=3535\n"
     ]
    },
    {
     "data": {
      "image/png": "[encoded data removed]",
      "text/plain": [
       "<Figure size 72x72 with 1 Axes>"
      ]
     },
     "metadata": {
      "needs_background": "light"
     },
     "output_type": "display_data"
    }
   ],
   "source": [
    "## Plot distribution of motif frequency around polyA sites\n",
    "\n",
    "region = (-250,150)\n",
    "smoothing = 10\n",
    "\n",
    "fig,ax = plt.subplots(1,1, figsize = (1,1))\n",
    "\n",
    "for c in sorted(mfilt_scer.loc[(~mfilt_scer['category'].isna()) & (mfilt_scer['category'] != 'Other'), 'category'].unique().tolist()) + ['Other']:\n",
    "    print(f\"Category {c:>10}: unique_motifs={mfilt_scer.loc[mfilt_scer['category'] == c, 'motif'].nunique()}\")\n",
    "    \n",
    "    dt = msum_freq_scer.loc[msum_freq_scer['category'] == c]\n",
    "    dc = dict(zip(dt['motifRelPos'], dt['count']))\n",
    "    \n",
    "    xs = np.arange(*region,1)\n",
    "    ys = np.asarray([dc.get(x,0) for x in xs]) / mfilt_scer.loc[mfilt_scer['category'] == c, 'motif'].nunique()\n",
    "    sm = pd.Series(ys).rolling(window = smoothing, center = True).mean()\n",
    "    \n",
    "    sns.lineplot(x = xs, y = sm, label = c, color = mot_cmap_scer[c], linewidth = 0.5, ax = ax)\n",
    "\n",
    "ax.axvline(x = 0, color = 'black', linestyle = 'dashed', linewidth = 0.5)\n",
    "\n",
    "ax.set_xlabel(\"Position relative to cleavage site (nt)\")\n",
    "ax.set_xlim(region)\n",
    "ax.xaxis.set_major_locator(MultipleLocator(50))\n",
    "\n",
    "ax.set_ylabel(\"Frequency per motif\")\n",
    "ax.set_ylim(0,16)\n",
    "ax.yaxis.set_major_locator(MultipleLocator(4))\n",
    "\n",
    "ax.legend(bbox_to_anchor = (1.05,1), loc = 'upper left')\n",
    "\n",
    "ax.spines['right'].set_visible(False)\n",
    "ax.spines['top'].set_visible(False)\n",
    "\n",
    "plt.savefig(os.path.join(OUTDIR, 'motif_conservation_comparison.golden_top-1.scer.frequency.svg'), format = 'svg', dpi = 600, transparent = True)\n",
    "plt.show()\n"
   ]
  },
  {
   "cell_type": "code",
   "execution_count": 50,
   "metadata": {},
   "outputs": [
    {
     "data": {
      "image/png": "[encoded data removed]",
      "text/plain": [
       "<Figure size 144x108 with 1 Axes>"
      ]
     },
     "metadata": {
      "needs_background": "light"
     },
     "output_type": "display_data"
    },
    {
     "name": "stdout",
     "output_type": "stream",
     "text": [
      "\n",
      "Corresponding statistics:\n",
      "Wilcoxon rank-sum test for region=Upstream   TA/TA-rich vs Other: p=0.00E+00\n",
      "Wilcoxon rank-sum test for region=Upstream       T-rich vs Other: p=0.00E+00\n",
      "Wilcoxon rank-sum test for region=Upstream       A-rich vs Other: p=7.92E-47\n",
      "Wilcoxon rank-sum test for region=Target         T-rich vs Other: p=2.16E-38\n",
      "Wilcoxon rank-sum test for region=Target     TA/TA-rich vs Other: p=4.23E-284\n",
      "Wilcoxon rank-sum test for region=Target         A-rich vs Other: p=3.49E-34\n",
      "Wilcoxon rank-sum test for region=Downstream     A-rich vs Other: p=2.23E-29\n",
      "Wilcoxon rank-sum test for region=Downstream TA/TA-rich vs Other: p=3.15E-12\n",
      "Wilcoxon rank-sum test for region=Downstream     T-rich vs Other: p=4.59E-15\n",
      "\n",
      "Summary data:\n",
      "                          count      mean       std  min       max\n",
      "region     category                                               \n",
      "Upstream   Other       393782.0  0.910572  0.580713  0.0  1.401274\n",
      "           TA/TA-rich   15151.0  0.734532  0.596969  0.0  1.401274\n",
      "           A-rich       26381.0  0.848847  0.586916  0.0  1.401274\n",
      "           T-rich       23248.0  0.723281  0.605146  0.0  1.401274\n",
      "Target     Other       128288.0  0.574201  0.587461  0.0  1.401274\n",
      "           TA/TA-rich   25997.0  0.689775  0.581457  0.0  1.401274\n",
      "           A-rich        9240.0  0.632171  0.579970  0.0  1.401274\n",
      "           T-rich       19283.0  0.614579  0.586454  0.0  1.401274\n",
      "Downstream Other       315459.0  0.584734  0.607871  0.0  1.401274\n",
      "           TA/TA-rich   17296.0  0.529967  0.583353  0.0  1.401274\n",
      "           A-rich       20838.0  0.508409  0.573116  0.0  1.401274\n",
      "           T-rich       33234.0  0.528374  0.581170  0.0  1.401274\n"
     ]
    }
   ],
   "source": [
    "## Assess statistical significance by comparing individual scores in the target region\n",
    "## using a Wilcoxon rank sum test\n",
    "\n",
    "fig,ax = plt.subplots(1,1, figsize = (2,1.5))\n",
    "\n",
    "sns.violinplot(data = mfilt_scer, x = 'region', y = 'conservation_adjusted', order = ['Upstream','Target','Downstream'],\n",
    "               hue = 'category', palette = mot_cmap_scer, \n",
    "               density_norm = 'area', common_norm = False, hue_norm = False,\n",
    "               linewidth = 0.25, cut = 0, ax = ax)\n",
    "\n",
    "ax.set_xlabel(\"Position relative to cleavage site (nt)\")\n",
    "ax.set_ylabel(\"CDS mean-normalized conservation score\")\n",
    "ax.set_ylim(-0.1,1.5)\n",
    "ax.yaxis.set_major_locator(MultipleLocator(0.5))\n",
    "\n",
    "ax.legend(bbox_to_anchor = (1.05,1), loc = 'upper left')\n",
    "\n",
    "ax.spines['right'].set_visible(False)\n",
    "ax.spines['top'].set_visible(False)\n",
    "\n",
    "plt.show()\n",
    "\n",
    "\n",
    "print(\"\\nCorresponding statistics:\")\n",
    "\n",
    "for r in ['Upstream','Target','Downstream']:\n",
    "    rdt = mfilt_scer.loc[mfilt_scer['region'] == r]\n",
    "    \n",
    "    for c in rdt.loc[(~rdt['category'].isna()) & (rdt['category'] != 'Other'), 'category'].unique():\n",
    "\n",
    "        stat, pval = st.ranksums(rdt.loc[rdt['category'] == c,       'conservation_adjusted'], \n",
    "                                 rdt.loc[rdt['category'] == 'Other', 'conservation_adjusted'])\n",
    "\n",
    "        print(f\"Wilcoxon rank-sum test for region={r:10} {c:>10} vs Other: p={pval:.02E}\")\n",
    "\n",
    "print(\"\\nSummary data:\")\n",
    "print(mfilt_scer.groupby(['region','category'])['conservation_adjusted'].describe()[['count','mean','std','min','max']])\n"
   ]
  },
  {
   "cell_type": "markdown",
   "metadata": {},
   "source": [
    "#### Conservation scores for motifs in *S. pombe*"
   ]
  },
  {
   "cell_type": "code",
   "execution_count": 51,
   "metadata": {},
   "outputs": [
    {
     "name": "stdout",
     "output_type": "stream",
     "text": [
      "Filtered motifs: input=1970100, conserved=1346400, no_missing_values=1969566, both_conditions=1346048\n",
      "Motif groups: families={'Other': 620590, 'T-rich': 137624, 'A-rich': 93673, 'GTA': 21880, 'TAG': 13357, 'GTA-TAG': 5752}, unassigned=453172\n"
     ]
    }
   ],
   "source": [
    "## Summarize the motif conservation scores\n",
    "\n",
    "condCONS = (top1_mot_spom['conserved_yeast_to_human'] == True)\n",
    "condMISS = (top1_mot_spom['conservation_missing'] == False)\n",
    "\n",
    "mdata_spom = top1_mot_spom.loc[condCONS & condMISS].copy()\n",
    "print(f\"Filtered motifs: input={len(top1_mot_spom)}, conserved={condCONS.sum()}, no_missing_values={condMISS.sum()}, both_conditions={(condCONS & condMISS).sum()}\")\n",
    "\n",
    "## Group motifs by family and significance\n",
    "\n",
    "mdata_spom['category'] = np.nan\n",
    "mdata_spom.loc[(mdata_spom['motifSignificance'] == False) & (mdata_spom['motifOverallFamily'] == 'Other'), 'category'] = 'Other'\n",
    "mdata_spom.loc[(mdata_spom['motifSignificance'] == True ) & (mdata_spom['motifOverallFamily'] != 'Other'), 'category'] = mdata_spom['motifOverallFamily']\n",
    "\n",
    "mdata_spom['category'] = pd.Categorical(mdata_spom['category'], categories = ['Other','A-rich','T-rich','TAG','GTA','GTA-TAG'])\n",
    "\n",
    "print(f\"Motif groups: families={mdata_spom['category'].value_counts().to_dict()}, unassigned={mdata_spom['category'].isna().sum()}\")\n"
   ]
  },
  {
   "cell_type": "code",
   "execution_count": 52,
   "metadata": {},
   "outputs": [
    {
     "name": "stdout",
     "output_type": "stream",
     "text": [
      "After filtering out rare motifs: threshold=1%, input_data=1346048, filtered_data=1344875\n"
     ]
    }
   ],
   "source": [
    "## Filter out rare motifs present in fewer than 1% of golden sites\n",
    "\n",
    "motif_sites = mdata_spom.groupby('motif')['siteKey'].nunique()\n",
    "motif_incl  = motif_sites.index[motif_sites >= (0.01 * mdata_spom['siteKey'].nunique())].to_list()\n",
    "mfilt_spom  = mdata_spom.loc[mdata_spom['motif'].isin(motif_incl)].copy()\n",
    "\n",
    "print(f\"After filtering out rare motifs: threshold=1%, input_data={len(mdata_spom)}, filtered_data={len(mfilt_spom)}\")\n"
   ]
  },
  {
   "cell_type": "code",
   "execution_count": 53,
   "metadata": {},
   "outputs": [],
   "source": [
    "## Adjusted motif conservation scores by the mean CDS region score\n",
    "\n",
    "mfilt_spom['conservation_adjusted'] = mfilt_spom['conservation_mean'] / cds_scores['spom']['mean']\n"
   ]
  },
  {
   "cell_type": "code",
   "execution_count": 54,
   "metadata": {},
   "outputs": [
    {
     "name": "stdout",
     "output_type": "stream",
     "text": [
      "target  region    \n",
      "Other   Upstream      472663\n",
      "        Downstream    271815\n",
      "Target  Target        206519\n",
      "dtype: int64\n"
     ]
    }
   ],
   "source": [
    "## Identify the motifs located in the slight conservation peak\n",
    "\n",
    "mreg = (-75,0)\n",
    "\n",
    "mfilt_spom['region'] = pd.cut(mfilt_spom['motifRelPos'], bins = [-250,mreg[0]-1,mreg[1],100], labels = ['Upstream','Target','Downstream'])\n",
    "\n",
    "mfilt_spom['target'] = 'Other'\n",
    "mfilt_spom.loc[mfilt_spom['motifRelPos'].between(*mreg), 'target'] = 'Target'\n",
    "\n",
    "print(mfilt_spom.groupby(['target','region']).size())\n"
   ]
  },
  {
   "cell_type": "code",
   "execution_count": 59,
   "metadata": {},
   "outputs": [],
   "source": [
    "## Summarize mean conservation score and frequency by position\n",
    "\n",
    "msum_score_spom = mfilt_spom.groupby(['category','motifRelPos'])['conservation_mean'].agg(['mean','std']).reset_index()\n",
    "msum_freq_spom  = mfilt_spom.groupby(['category','motifRelPos']).size().reset_index(name = 'count')\n"
   ]
  },
  {
   "cell_type": "code",
   "execution_count": 60,
   "metadata": {},
   "outputs": [
    {
     "data": {
      "image/png": "[encoded data removed]",
      "text/plain": [
       "<Figure size 72x72 with 1 Axes>"
      ]
     },
     "metadata": {
      "needs_background": "light"
     },
     "output_type": "display_data"
    }
   ],
   "source": [
    "## Plot distribution of motif conservation scores around polyA sites\n",
    "\n",
    "region = (-250,150)\n",
    "smoothing = 10\n",
    "\n",
    "fig,ax = plt.subplots(1,1, figsize = (1,1))\n",
    "\n",
    "for c in sorted(mdata_spom.loc[(~mdata_spom['category'].isna()) & (mdata_spom['category'] != 'Other'), 'category'].unique().tolist()) + ['Other']:\n",
    "    \n",
    "    dt = msum_score_spom.loc[msum_score_spom['category'] == c]\n",
    "    dc = dict(zip(dt['motifRelPos'], dt['mean']))\n",
    "    \n",
    "    xs = np.arange(*region,1)\n",
    "    ys = np.asarray([dc.get(x,0) for x in xs]) / cds_scores['spom']['mean']\n",
    "    sm = pd.Series(ys).rolling(window = smoothing, center = True).mean()\n",
    "    \n",
    "    sns.lineplot(x = xs, y = sm, label = c, color = mot_cmap_spom[c], linewidth = 0.5, ax = ax)\n",
    "\n",
    "ax.axvspan(-90,-25, color = '#ededed', zorder = 1)\n",
    "ax.axvline(x = 0, color = 'black', linestyle = 'dashed', linewidth = 0.5)\n",
    "\n",
    "ax.set_xlabel(\"Position relative to cleavage site (nt)\")\n",
    "ax.set_xlim(region)\n",
    "ax.xaxis.set_major_locator(MultipleLocator(50))\n",
    "\n",
    "ax.set_ylabel(\"CDS mean-normalized conservation score\")\n",
    "ax.set_ylim(0,1.1)\n",
    "ax.yaxis.set_major_locator(MultipleLocator(0.25))\n",
    "\n",
    "ax.legend(bbox_to_anchor = (1.05,1), loc = 'upper left')\n",
    "\n",
    "ax.spines['right'].set_visible(False)\n",
    "ax.spines['top'].set_visible(False)\n",
    "\n",
    "plt.savefig(os.path.join(OUTDIR, 'motif_conservation_comparison.golden_top-1.spom.mean_score.svg'), format = 'svg', dpi = 600, transparent = True)\n",
    "plt.show()\n"
   ]
  },
  {
   "cell_type": "code",
   "execution_count": 63,
   "metadata": {},
   "outputs": [
    {
     "name": "stdout",
     "output_type": "stream",
     "text": [
      "Category     A-rich: unique_motifs=63\n",
      "Category        GTA: unique_motifs=23\n",
      "Category    GTA-TAG: unique_motifs=11\n",
      "Category     T-rich: unique_motifs=87\n",
      "Category        TAG: unique_motifs=19\n",
      "Category      Other: unique_motifs=2792\n"
     ]
    },
    {
     "data": {
      "image/png": "[encoded data removed]",
      "text/plain": [
       "<Figure size 72x72 with 1 Axes>"
      ]
     },
     "metadata": {
      "needs_background": "light"
     },
     "output_type": "display_data"
    }
   ],
   "source": [
    "## Plot distribution of motif frequency around polyA sites\n",
    "\n",
    "region = (-250,150)\n",
    "smoothing = 10\n",
    "\n",
    "fig,ax = plt.subplots(1,1, figsize = (1,1))\n",
    "\n",
    "for c in sorted(mfilt_spom.loc[(~mfilt_spom['category'].isna()) & (mfilt_spom['category'] != 'Other'), 'category'].unique().tolist()) + ['Other']:\n",
    "    print(f\"Category {c:>10}: unique_motifs={mfilt_spom.loc[mfilt_spom['category'] == c, 'motif'].nunique()}\")\n",
    "    \n",
    "    dt = msum_freq_spom.loc[msum_freq_spom['category'] == c]\n",
    "    dc = dict(zip(dt['motifRelPos'], dt['count']))\n",
    "    \n",
    "    xs = np.arange(*region,1)\n",
    "    ys = np.asarray([dc.get(x,0) for x in xs]) / mfilt_spom.loc[mfilt_spom['category'] == c, 'motif'].nunique()\n",
    "    sm = pd.Series(ys).rolling(window = smoothing, center = True).mean()\n",
    "    \n",
    "    sns.lineplot(x = xs, y = sm, label = c, color = mot_cmap_spom[c], linewidth = 0.5, ax = ax)\n",
    "\n",
    "ax.axvline(x = 0, color = 'black', linestyle = 'dashed', linewidth = 0.5)\n",
    "\n",
    "ax.set_xlabel(\"Position relative to cleavage site (nt)\")\n",
    "ax.set_xlim(region)\n",
    "ax.xaxis.set_major_locator(MultipleLocator(50))\n",
    "\n",
    "ax.set_ylabel(\"Frequency per motif\")\n",
    "ax.set_ylim(0,10)\n",
    "ax.yaxis.set_major_locator(MultipleLocator(2))\n",
    "\n",
    "ax.legend(bbox_to_anchor = (1.05,1))\n",
    "# ax.legend(bbox_to_anchor = (1.05,1), loc = 'upper left')\n",
    "\n",
    "ax.spines['right'].set_visible(False)\n",
    "ax.spines['top'].set_visible(False)\n",
    "\n",
    "plt.savefig(os.path.join(OUTDIR, 'motif_conservation_comparison.golden_top-1.spom.frequency.svg'), format = 'svg', dpi = 600, transparent = True)\n",
    "plt.show()\n"
   ]
  },
  {
   "cell_type": "code",
   "execution_count": 62,
   "metadata": {},
   "outputs": [
    {
     "data": {
      "image/png": "[encoded data removed]",
      "text/plain": [
       "<Figure size 144x108 with 1 Axes>"
      ]
     },
     "metadata": {
      "needs_background": "light"
     },
     "output_type": "display_data"
    },
    {
     "name": "stdout",
     "output_type": "stream",
     "text": [
      "\n",
      "Corresponding statistics:\n",
      "Wilcoxon rank-sum test for region=Upstream       T-rich vs Other: p=0.00E+00\n",
      "Wilcoxon rank-sum test for region=Upstream       A-rich vs Other: p=4.32E-166\n",
      "Wilcoxon rank-sum test for region=Upstream          GTA vs Other: p=8.48E-68\n",
      "Wilcoxon rank-sum test for region=Upstream          TAG vs Other: p=1.42E-62\n",
      "Wilcoxon rank-sum test for region=Upstream      GTA-TAG vs Other: p=7.06E-13\n",
      "Wilcoxon rank-sum test for region=Target         T-rich vs Other: p=3.56E-81\n",
      "Wilcoxon rank-sum test for region=Target         A-rich vs Other: p=5.05E-06\n",
      "Wilcoxon rank-sum test for region=Target            GTA vs Other: p=7.44E-01\n",
      "Wilcoxon rank-sum test for region=Target            TAG vs Other: p=3.74E-03\n",
      "Wilcoxon rank-sum test for region=Target        GTA-TAG vs Other: p=1.01E-01\n",
      "Wilcoxon rank-sum test for region=Downstream        GTA vs Other: p=2.50E-13\n",
      "Wilcoxon rank-sum test for region=Downstream     A-rich vs Other: p=1.79E-05\n",
      "Wilcoxon rank-sum test for region=Downstream        TAG vs Other: p=3.04E-03\n",
      "Wilcoxon rank-sum test for region=Downstream     T-rich vs Other: p=5.75E-28\n",
      "Wilcoxon rank-sum test for region=Downstream    GTA-TAG vs Other: p=3.70E-06\n",
      "\n",
      "Summary data:\n",
      "                        count      mean       std  min       max\n",
      "region     category                                             \n",
      "Upstream   Other     246827.0  0.786066  0.654510  0.0  3.270655\n",
      "           A-rich     26538.0  0.666034  0.604519  0.0  3.281667\n",
      "           T-rich     44889.0  0.512167  0.577686  0.0  3.056102\n",
      "           TAG         3440.0  0.594734  0.578779  0.0  2.207434\n",
      "           GTA         4536.0  0.612838  0.586811  0.0  2.411038\n",
      "           GTA-TAG      950.0  0.630365  0.574968  0.0  2.101827\n",
      "Target     Other      88018.0  0.457080  0.568766  0.0  2.836011\n",
      "           A-rich     16652.0  0.416612  0.521001  0.0  2.614710\n",
      "           T-rich     27651.0  0.362551  0.491237  0.0  2.824722\n",
      "           TAG         3021.0  0.406578  0.516729  0.0  2.251227\n",
      "           GTA         2558.0  0.440495  0.533624  0.0  2.401275\n",
      "           GTA-TAG      676.0  0.473280  0.541543  0.0  2.314700\n",
      "Downstream Other     108829.0  0.335278  0.483010  0.0  2.541653\n",
      "           A-rich     21539.0  0.301064  0.439882  0.0  2.461701\n",
      "           T-rich     29967.0  0.288758  0.444270  0.0  2.376244\n",
      "           TAG         3329.0  0.288632  0.429132  0.0  2.225564\n",
      "           GTA         7639.0  0.271066  0.422845  0.0  2.336823\n",
      "           GTA-TAG     2133.0  0.267549  0.429662  0.0  2.232489\n"
     ]
    }
   ],
   "source": [
    "## Assess statistical significance by comparing individual scores in the target region\n",
    "## using a Wilcoxon rank sum test\n",
    "\n",
    "fig,ax = plt.subplots(1,1, figsize = (2,1.5))\n",
    "\n",
    "sns.violinplot(data = mfilt_spom, x = 'region', y = 'conservation_adjusted', order = ['Upstream','Target','Downstream'],\n",
    "               hue = 'category', palette = mot_cmap_spom, \n",
    "               density_norm = 'area', common_norm = False, hue_norm = False,\n",
    "               linewidth = 0.25, cut = 0, ax = ax)\n",
    "\n",
    "ax.set_xlabel(\"Position relative to cleavage site (nt)\")\n",
    "ax.set_ylabel(\"CDS mean-normalized conservation score\")\n",
    "ax.set_ylim(-0.1,1.5)\n",
    "ax.yaxis.set_major_locator(MultipleLocator(0.5))\n",
    "\n",
    "ax.legend(bbox_to_anchor = (1.05,1), loc = 'upper left')\n",
    "\n",
    "ax.spines['right'].set_visible(False)\n",
    "ax.spines['top'].set_visible(False)\n",
    "\n",
    "plt.show()\n",
    "\n",
    "\n",
    "print(\"\\nCorresponding statistics:\")\n",
    "\n",
    "for r in ['Upstream','Target','Downstream']:\n",
    "    rdt = mfilt_spom.loc[mfilt_spom['region'] == r]\n",
    "    \n",
    "    for c in rdt.loc[(~rdt['category'].isna()) & (rdt['category'] != 'Other'), 'category'].unique():\n",
    "\n",
    "        stat, pval = st.ranksums(rdt.loc[rdt['category'] == c,       'conservation_adjusted'], \n",
    "                                 rdt.loc[rdt['category'] == 'Other', 'conservation_adjusted'])\n",
    "\n",
    "        print(f\"Wilcoxon rank-sum test for region={r:10} {c:>10} vs Other: p={pval:.02E}\")\n",
    "\n",
    "print(\"\\nSummary data:\")\n",
    "print(mfilt_spom.groupby(['region','category'])['conservation_adjusted'].describe()[['count','mean','std','min','max']])\n"
   ]
  }
 ],
 "metadata": {
  "kernelspec": {
   "display_name": "Python (tf-train)",
   "language": "python",
   "name": "tf-train"
  },
  "language_info": {
   "codemirror_mode": {
    "name": "ipython",
    "version": 3
   },
   "file_extension": ".py",
   "mimetype": "text/x-python",
   "name": "python",
   "nbconvert_exporter": "python",
   "pygments_lexer": "ipython3",
   "version": "3.6.12"
  }
 },
 "nbformat": 4,
 "nbformat_minor": 2
}
