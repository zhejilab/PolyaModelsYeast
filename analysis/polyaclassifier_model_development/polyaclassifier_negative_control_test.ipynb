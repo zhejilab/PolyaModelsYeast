{
 "cells": [
  {
   "cell_type": "markdown",
   "metadata": {},
   "source": [
    "# PolyaClassifier negative control test\n",
    "\n",
    "**Purpose**: To investigate the effects of distinct negative control sets on PolyaClassifier performance.\n"
   ]
  },
  {
   "cell_type": "code",
   "execution_count": 1,
   "metadata": {},
   "outputs": [],
   "source": [
    "%load_ext autoreload"
   ]
  },
  {
   "cell_type": "code",
   "execution_count": 2,
   "metadata": {},
   "outputs": [],
   "source": [
    "%autoreload 2"
   ]
  },
  {
   "cell_type": "code",
   "execution_count": 3,
   "metadata": {},
   "outputs": [],
   "source": [
    "%run -i notebook_setup.py"
   ]
  },
  {
   "cell_type": "markdown",
   "metadata": {},
   "source": [
    "## IMPORTS AND SETUP"
   ]
  },
  {
   "cell_type": "code",
   "execution_count": 4,
   "metadata": {},
   "outputs": [],
   "source": [
    "import paper_utilities\n",
    "from paper_utilities import models\n",
    "\n",
    "from functools import reduce\n"
   ]
  },
  {
   "cell_type": "code",
   "execution_count": 5,
   "metadata": {},
   "outputs": [],
   "source": [
    "PROJECT   = \"/projects/b1080/eks/polyadenylation/yeast\"\n",
    "OUTDIR    = os.path.join(PROJECT, 'manuscript', 'analysis', 'polyaclassifier_model_negative_control_comparison')\n",
    "RESOURCES = os.path.join(os.path.dirname(OUTDIR), 'resources')\n",
    "os.makedirs(OUTDIR, exist_ok = True)\n"
   ]
  },
  {
   "cell_type": "markdown",
   "metadata": {},
   "source": [
    "## HELPER FUNCTIONS"
   ]
  },
  {
   "cell_type": "code",
   "execution_count": 6,
   "metadata": {},
   "outputs": [],
   "source": [
    "def compare_configuration(row, config):\n",
    "    return all([(row[var] == config[var]) for var in config.keys()])\n"
   ]
  },
  {
   "cell_type": "code",
   "execution_count": 7,
   "metadata": {},
   "outputs": [],
   "source": [
    "def fetch_split_data_predictions(species, model_stamp, split = 'val'):\n",
    "    \n",
    "    matches = glob.glob(os.path.join(PROJECT, species, 'model','classification_only','checkpoints',f'{model_stamp}*', 'evaluations', 'epochs', f'{split}_data.with_predictions.*threshold*.txt'))\n",
    "    \n",
    "    if (len(matches) == 0):\n",
    "        raise ValueError(f\"No prediction file found for {species} {model_stamp}: {str(matches)}\")\n",
    "    if (len(matches) > 1):\n",
    "        raise ValueError(f\"Multiple prediction files found for {species} {model_stamp}: {str(matches)}\")\n",
    "    \n",
    "    return pd.read_csv(matches[0], sep = \"\\t\")\n"
   ]
  },
  {
   "cell_type": "markdown",
   "metadata": {},
   "source": [
    "## ANALYSIS"
   ]
  },
  {
   "cell_type": "markdown",
   "metadata": {},
   "source": [
    "### *S. cerevisiae*"
   ]
  },
  {
   "cell_type": "code",
   "execution_count": 8,
   "metadata": {},
   "outputs": [],
   "source": [
    "scer_config = {\n",
    "    'genomic_As'    : 'redistA',\n",
    "    'architecture'  : 'classification',\n",
    "    'sequence_size' : 500,\n",
    "    'conv_units'    : 512,\n",
    "    'lstm_units'    : 16,\n",
    "    'conv_shape'    : 12,\n",
    "    'bin_dropout'   : 0.5,\n",
    "    'learning_rate' : 0.001,\n",
    "}\n"
   ]
  },
  {
   "cell_type": "code",
   "execution_count": 9,
   "metadata": {},
   "outputs": [
    {
     "name": "stdout",
     "output_type": "stream",
     "text": [
      "(40, 21)\n"
     ]
    }
   ],
   "source": [
    "scer_data = pd.read_csv(os.path.join(RESOURCES, 'polyaclassifier_replicate_summary.saccharomyces_cerevisiae.txt'), sep = \"\\t\")\n",
    "scer_data = scer_data.loc[(scer_data.apply(lambda row : compare_configuration(row, scer_config), axis = 1)) & (scer_data['modeltype'].str.startswith('special_')) & (scer_data['modeltype'] != 'special_pstest')]\n",
    "print(scer_data.shape)\n"
   ]
  },
  {
   "cell_type": "markdown",
   "metadata": {},
   "source": [
    "#### Compile performance metrics for replicate models and models trained on unique negative control sets"
   ]
  },
  {
   "cell_type": "code",
   "execution_count": 10,
   "metadata": {},
   "outputs": [
    {
     "name": "stdout",
     "output_type": "stream",
     "text": [
      "(40, 22)\n",
      "bagging      20\n",
      "negatives    10\n",
      "replicate    10\n",
      "Name: category, dtype: int64\n"
     ]
    }
   ],
   "source": [
    "rep_data = scer_data.loc[scer_data['modeltype'] == 'special_replicates'].copy()\n",
    "ncs_data = scer_data.loc[scer_data['modeltype'] == 'special_negatives'].copy()\n",
    "bag_data = scer_data.loc[scer_data['modeltype'] == 'special_bagging'].copy()\n",
    "\n",
    "rep_data['category'] = 'replicate'\n",
    "ncs_data['category'] = 'negatives'\n",
    "bag_data['category'] = 'bagging'\n",
    "\n",
    "scer_model_res = pd.concat([rep_data, ncs_data, bag_data], ignore_index = True, sort = False)\n",
    "print(scer_model_res.shape)\n",
    "print(scer_model_res['category'].value_counts())\n"
   ]
  },
  {
   "cell_type": "markdown",
   "metadata": {},
   "source": [
    "#### Replicate models"
   ]
  },
  {
   "cell_type": "code",
   "execution_count": 11,
   "metadata": {},
   "outputs": [],
   "source": [
    "rep_results = {\n",
    "    'category' : [],\n",
    "    'stamp'    : [],\n",
    "    'auroc'    : [],\n",
    "    'auprc'    : []\n",
    "}\n",
    "\n",
    "for rstamp in rep_data['stamp']:\n",
    "    \n",
    "    rdata = fetch_split_data_predictions('saccharomyces_cerevisiae', rstamp, 'test')\n",
    "    \n",
    "    auroc, auprc = models.calculate_auc(rdata['obs_class'], rdata['pred_class'])\n",
    "    \n",
    "    rep_results['category'].append('Replicates')\n",
    "    rep_results['stamp'].append(rstamp)\n",
    "    rep_results['auroc'].append(auroc)\n",
    "    rep_results['auprc'].append(auprc)\n",
    "\n",
    "rep_results = pd.DataFrame.from_dict(rep_results, orient = 'columns')\n"
   ]
  },
  {
   "cell_type": "markdown",
   "metadata": {},
   "source": [
    "#### Negative models"
   ]
  },
  {
   "cell_type": "code",
   "execution_count": 12,
   "metadata": {},
   "outputs": [],
   "source": [
    "ncs_results = {\n",
    "    'category' : [],\n",
    "    'stamp'    : [],\n",
    "    'auroc'    : [],\n",
    "    'auprc'    : []\n",
    "}\n",
    "\n",
    "for nstamp in ncs_data['stamp']:\n",
    "    \n",
    "    ndata = fetch_split_data_predictions('saccharomyces_cerevisiae', nstamp, 'test')\n",
    "    \n",
    "    auroc, auprc = models.calculate_auc(ndata['obs_class'], ndata['pred_class'])\n",
    "    \n",
    "    ncs_results['category'].append('Negatives')\n",
    "    ncs_results['stamp'].append(nstamp)\n",
    "    ncs_results['auroc'].append(auroc)\n",
    "    ncs_results['auprc'].append(auprc)\n",
    "\n",
    "ncs_results = pd.DataFrame.from_dict(ncs_results, orient = 'columns')\n"
   ]
  },
  {
   "cell_type": "markdown",
   "metadata": {},
   "source": [
    "#### Bagged models"
   ]
  },
  {
   "cell_type": "code",
   "execution_count": 13,
   "metadata": {
    "scrolled": false
   },
   "outputs": [],
   "source": [
    "bag_results = {\n",
    "    'category' : [],\n",
    "    'stamp'    : [],\n",
    "    'auroc'    : [],\n",
    "    'auprc'    : []\n",
    "}\n",
    "\n",
    "for bag_seed in ['12345', '24690', '37035', '49380', '61725', '74070', '86415', '98760', '111105', '123450']:\n",
    "    \n",
    "    bag_data = pd.read_csv(os.path.join(RESOURCES, 'polyaclassifier_negative_test', f'scer_negative_test_data_{bag_seed}.polyaclassifier_bagging3models.txt'), sep = '\\t')\n",
    "    bag_data['obs_class'] = (bag_data['supporting_reads'] > 0).astype(int)\n",
    "    \n",
    "    auroc, auprc = models.calculate_auc(bag_data['obs_class'], bag_data['classification'])\n",
    "    \n",
    "    bag_results['category'].append('Bagging')\n",
    "    bag_results['stamp'].append(bag_seed)\n",
    "    bag_results['auroc'].append(auroc)\n",
    "    bag_results['auprc'].append(auprc)\n",
    "    \n",
    "bag_results = pd.DataFrame.from_dict(bag_results, orient = 'columns')\n",
    "    "
   ]
  },
  {
   "cell_type": "markdown",
   "metadata": {},
   "source": [
    "#### Combining the comparison results"
   ]
  },
  {
   "cell_type": "code",
   "execution_count": 14,
   "metadata": {
    "scrolled": true
   },
   "outputs": [
    {
     "data": {
      "text/html": [
       "<div>\n",
       "<style scoped>\n",
       "    .dataframe tbody tr th:only-of-type {\n",
       "        vertical-align: middle;\n",
       "    }\n",
       "\n",
       "    .dataframe tbody tr th {\n",
       "        vertical-align: top;\n",
       "    }\n",
       "\n",
       "    .dataframe thead tr th {\n",
       "        text-align: left;\n",
       "    }\n",
       "\n",
       "    .dataframe thead tr:last-of-type th {\n",
       "        text-align: right;\n",
       "    }\n",
       "</style>\n",
       "<table border=\"1\" class=\"dataframe\">\n",
       "  <thead>\n",
       "    <tr>\n",
       "      <th></th>\n",
       "      <th colspan=\"3\" halign=\"left\">auroc</th>\n",
       "      <th colspan=\"3\" halign=\"left\">auprc</th>\n",
       "    </tr>\n",
       "    <tr>\n",
       "      <th></th>\n",
       "      <th>count</th>\n",
       "      <th>mean</th>\n",
       "      <th>std</th>\n",
       "      <th>count</th>\n",
       "      <th>mean</th>\n",
       "      <th>std</th>\n",
       "    </tr>\n",
       "    <tr>\n",
       "      <th>category</th>\n",
       "      <th></th>\n",
       "      <th></th>\n",
       "      <th></th>\n",
       "      <th></th>\n",
       "      <th></th>\n",
       "      <th></th>\n",
       "    </tr>\n",
       "  </thead>\n",
       "  <tbody>\n",
       "    <tr>\n",
       "      <td>Replicates</td>\n",
       "      <td>10</td>\n",
       "      <td>0.987842</td>\n",
       "      <td>0.000806</td>\n",
       "      <td>10</td>\n",
       "      <td>0.988411</td>\n",
       "      <td>0.000920</td>\n",
       "    </tr>\n",
       "    <tr>\n",
       "      <td>Negatives</td>\n",
       "      <td>10</td>\n",
       "      <td>0.985757</td>\n",
       "      <td>0.001146</td>\n",
       "      <td>10</td>\n",
       "      <td>0.985999</td>\n",
       "      <td>0.001240</td>\n",
       "    </tr>\n",
       "    <tr>\n",
       "      <td>Bagging</td>\n",
       "      <td>10</td>\n",
       "      <td>0.988607</td>\n",
       "      <td>0.000549</td>\n",
       "      <td>10</td>\n",
       "      <td>0.988384</td>\n",
       "      <td>0.000828</td>\n",
       "    </tr>\n",
       "  </tbody>\n",
       "</table>\n",
       "</div>"
      ],
      "text/plain": [
       "           auroc                     auprc                    \n",
       "           count      mean       std count      mean       std\n",
       "category                                                      \n",
       "Replicates    10  0.987842  0.000806    10  0.988411  0.000920\n",
       "Negatives     10  0.985757  0.001146    10  0.985999  0.001240\n",
       "Bagging       10  0.988607  0.000549    10  0.988384  0.000828"
      ]
     },
     "execution_count": 14,
     "metadata": {},
     "output_type": "execute_result"
    }
   ],
   "source": [
    "(pd.concat([rep_results, ncs_results, bag_results], ignore_index = True, sort = False)\n",
    " .groupby('category').agg({'auroc' : ['count','mean','std'], 'auprc' : ['count','mean','std']})\n",
    " .loc[['Replicates','Negatives','Bagging']]\n",
    ")\n"
   ]
  },
  {
   "cell_type": "markdown",
   "metadata": {},
   "source": [
    "### *S. pombe*"
   ]
  },
  {
   "cell_type": "code",
   "execution_count": 15,
   "metadata": {},
   "outputs": [],
   "source": [
    "spom_config = {\n",
    "    'genomic_As'    : 'redistA',\n",
    "    'architecture'  : 'classification1',\n",
    "    'sequence_size' : 500,\n",
    "    'conv_units'    : 512,\n",
    "    'lstm_units'    : 16,\n",
    "    'conv_shape'    : 6,\n",
    "    'bin_dropout'   : 0.5,\n",
    "    'learning_rate' : 0.001,\n",
    "}\n"
   ]
  },
  {
   "cell_type": "code",
   "execution_count": 16,
   "metadata": {},
   "outputs": [
    {
     "name": "stdout",
     "output_type": "stream",
     "text": [
      "(40, 21)\n"
     ]
    }
   ],
   "source": [
    "spom_data = pd.read_csv(os.path.join(RESOURCES, 'polyaclassifier_replicate_summary.schizosaccharomyces_pombe.txt'), sep = \"\\t\")\n",
    "spom_data = spom_data.loc[(spom_data.apply(lambda row : compare_configuration(row, spom_config), axis = 1)) & (spom_data['modeltype'].str.startswith('special_')) & (spom_data['modeltype'] != 'special_pstest')]\n",
    "print(spom_data.shape)\n"
   ]
  },
  {
   "cell_type": "markdown",
   "metadata": {},
   "source": [
    "#### Compile performance metrics for replicate models and models trained on unique negative control sets"
   ]
  },
  {
   "cell_type": "code",
   "execution_count": 17,
   "metadata": {},
   "outputs": [
    {
     "name": "stdout",
     "output_type": "stream",
     "text": [
      "(40, 22)\n",
      "bagging      20\n",
      "negatives    10\n",
      "replicate    10\n",
      "Name: category, dtype: int64\n"
     ]
    }
   ],
   "source": [
    "rep_data = spom_data.loc[spom_data['modeltype'] == 'special_replicates'].copy()\n",
    "ncs_data = spom_data.loc[spom_data['modeltype'] == 'special_negatives'].copy()\n",
    "bag_data = spom_data.loc[spom_data['modeltype'] == 'special_bagging'].copy()\n",
    "\n",
    "rep_data['category'] = 'replicate'\n",
    "ncs_data['category'] = 'negatives'\n",
    "bag_data['category'] = 'bagging'\n",
    "\n",
    "spom_model_res = pd.concat([rep_data, ncs_data, bag_data], ignore_index = True, sort = False)\n",
    "print(spom_model_res.shape)\n",
    "print(spom_model_res['category'].value_counts())\n"
   ]
  },
  {
   "cell_type": "markdown",
   "metadata": {},
   "source": [
    "#### Replicate models"
   ]
  },
  {
   "cell_type": "code",
   "execution_count": 18,
   "metadata": {},
   "outputs": [],
   "source": [
    "rep_results = {\n",
    "    'category' : [],\n",
    "    'stamp'    : [],\n",
    "    'auroc'    : [],\n",
    "    'auprc'    : []\n",
    "}\n",
    "\n",
    "for rstamp in rep_data['stamp']:\n",
    "    \n",
    "    rdata = fetch_split_data_predictions('schizosaccharomyces_pombe', rstamp, 'test')\n",
    "    \n",
    "    auroc, auprc = models.calculate_auc(rdata['obs_class'], rdata['pred_class'])\n",
    "    \n",
    "    rep_results['category'].append('Replicates')\n",
    "    rep_results['stamp'].append(rstamp)\n",
    "    rep_results['auroc'].append(auroc)\n",
    "    rep_results['auprc'].append(auprc)\n",
    "\n",
    "rep_results = pd.DataFrame.from_dict(rep_results, orient = 'columns')\n"
   ]
  },
  {
   "cell_type": "markdown",
   "metadata": {},
   "source": [
    "#### Negative models"
   ]
  },
  {
   "cell_type": "code",
   "execution_count": 19,
   "metadata": {},
   "outputs": [],
   "source": [
    "ncs_results = {\n",
    "    'category' : [],\n",
    "    'stamp'    : [],\n",
    "    'auroc'    : [],\n",
    "    'auprc'    : []\n",
    "}\n",
    "\n",
    "for nstamp in ncs_data['stamp']:\n",
    "    \n",
    "    ndata = fetch_split_data_predictions('schizosaccharomyces_pombe', nstamp, 'test')\n",
    "    \n",
    "    auroc, auprc = models.calculate_auc(ndata['obs_class'], ndata['pred_class'])\n",
    "    \n",
    "    ncs_results['category'].append('Negatives')\n",
    "    ncs_results['stamp'].append(nstamp)\n",
    "    ncs_results['auroc'].append(auroc)\n",
    "    ncs_results['auprc'].append(auprc)\n",
    "\n",
    "ncs_results = pd.DataFrame.from_dict(ncs_results, orient = 'columns')\n"
   ]
  },
  {
   "cell_type": "markdown",
   "metadata": {},
   "source": [
    "#### Bagged models"
   ]
  },
  {
   "cell_type": "code",
   "execution_count": 20,
   "metadata": {
    "scrolled": false
   },
   "outputs": [],
   "source": [
    "bag_results = {\n",
    "    'category' : [],\n",
    "    'stamp'    : [],\n",
    "    'auroc'    : [],\n",
    "    'auprc'    : []\n",
    "}\n",
    "\n",
    "for bag_seed in ['12345', '24690', '37035', '49380', '61725', '74070', '86415', '98760', '111105', '123450']:\n",
    "    \n",
    "    bag_data = pd.read_csv(os.path.join(RESOURCES, 'polyaclassifier_negative_test', f'spom_negative_test_data_{bag_seed}.polyaclassifier_bagging3models.txt'), sep = '\\t')\n",
    "    bag_data['obs_class'] = (bag_data['supporting_reads'] > 0).astype(int)\n",
    "    \n",
    "    auroc, auprc = models.calculate_auc(bag_data['obs_class'], bag_data['classification'])\n",
    "    \n",
    "    bag_results['category'].append('Bagging')\n",
    "    bag_results['stamp'].append(bag_seed)\n",
    "    bag_results['auroc'].append(auroc)\n",
    "    bag_results['auprc'].append(auprc)\n",
    "    \n",
    "bag_results = pd.DataFrame.from_dict(bag_results, orient = 'columns')\n",
    "    "
   ]
  },
  {
   "cell_type": "markdown",
   "metadata": {},
   "source": [
    "#### Combining the comparison results"
   ]
  },
  {
   "cell_type": "code",
   "execution_count": 21,
   "metadata": {
    "scrolled": true
   },
   "outputs": [
    {
     "data": {
      "text/html": [
       "<div>\n",
       "<style scoped>\n",
       "    .dataframe tbody tr th:only-of-type {\n",
       "        vertical-align: middle;\n",
       "    }\n",
       "\n",
       "    .dataframe tbody tr th {\n",
       "        vertical-align: top;\n",
       "    }\n",
       "\n",
       "    .dataframe thead tr th {\n",
       "        text-align: left;\n",
       "    }\n",
       "\n",
       "    .dataframe thead tr:last-of-type th {\n",
       "        text-align: right;\n",
       "    }\n",
       "</style>\n",
       "<table border=\"1\" class=\"dataframe\">\n",
       "  <thead>\n",
       "    <tr>\n",
       "      <th></th>\n",
       "      <th colspan=\"3\" halign=\"left\">auroc</th>\n",
       "      <th colspan=\"3\" halign=\"left\">auprc</th>\n",
       "    </tr>\n",
       "    <tr>\n",
       "      <th></th>\n",
       "      <th>count</th>\n",
       "      <th>mean</th>\n",
       "      <th>std</th>\n",
       "      <th>count</th>\n",
       "      <th>mean</th>\n",
       "      <th>std</th>\n",
       "    </tr>\n",
       "    <tr>\n",
       "      <th>category</th>\n",
       "      <th></th>\n",
       "      <th></th>\n",
       "      <th></th>\n",
       "      <th></th>\n",
       "      <th></th>\n",
       "      <th></th>\n",
       "    </tr>\n",
       "  </thead>\n",
       "  <tbody>\n",
       "    <tr>\n",
       "      <td>Replicates</td>\n",
       "      <td>10</td>\n",
       "      <td>0.983483</td>\n",
       "      <td>0.001463</td>\n",
       "      <td>10</td>\n",
       "      <td>0.984448</td>\n",
       "      <td>0.001452</td>\n",
       "    </tr>\n",
       "    <tr>\n",
       "      <td>Negatives</td>\n",
       "      <td>10</td>\n",
       "      <td>0.982321</td>\n",
       "      <td>0.000914</td>\n",
       "      <td>10</td>\n",
       "      <td>0.981960</td>\n",
       "      <td>0.001033</td>\n",
       "    </tr>\n",
       "    <tr>\n",
       "      <td>Bagging</td>\n",
       "      <td>10</td>\n",
       "      <td>0.985885</td>\n",
       "      <td>0.001338</td>\n",
       "      <td>10</td>\n",
       "      <td>0.985751</td>\n",
       "      <td>0.001801</td>\n",
       "    </tr>\n",
       "  </tbody>\n",
       "</table>\n",
       "</div>"
      ],
      "text/plain": [
       "           auroc                     auprc                    \n",
       "           count      mean       std count      mean       std\n",
       "category                                                      \n",
       "Replicates    10  0.983483  0.001463    10  0.984448  0.001452\n",
       "Negatives     10  0.982321  0.000914    10  0.981960  0.001033\n",
       "Bagging       10  0.985885  0.001338    10  0.985751  0.001801"
      ]
     },
     "execution_count": 21,
     "metadata": {},
     "output_type": "execute_result"
    }
   ],
   "source": [
    "(pd.concat([rep_results, ncs_results, bag_results], ignore_index = True, sort = False)\n",
    " .groupby('category').agg({'auroc' : ['count','mean','std'], 'auprc' : ['count','mean','std']})\n",
    " .loc[['Replicates','Negatives','Bagging']]\n",
    ")\n"
   ]
  },
  {
   "cell_type": "markdown",
   "metadata": {},
   "source": [
    "### *A. thaliana*"
   ]
  },
  {
   "cell_type": "code",
   "execution_count": 22,
   "metadata": {},
   "outputs": [],
   "source": [
    "atha_config = {\n",
    "    'genomic_As'    : 'redistA',\n",
    "    'architecture'  : 'classification2',\n",
    "    'sequence_size' : 500,\n",
    "    'conv_units'    : 512,\n",
    "    'lstm_units'    : 16,\n",
    "    'conv_shape'    : 10,\n",
    "    'bin_dropout'   : 0.5,\n",
    "    'learning_rate' : 0.001,\n",
    "}\n"
   ]
  },
  {
   "cell_type": "code",
   "execution_count": 23,
   "metadata": {},
   "outputs": [
    {
     "name": "stdout",
     "output_type": "stream",
     "text": [
      "(40, 21)\n"
     ]
    }
   ],
   "source": [
    "atha_data = pd.read_csv(os.path.join(RESOURCES, 'polyaclassifier_replicate_summary.arabidopsis_thaliana.txt'), sep = \"\\t\")\n",
    "atha_data = atha_data.loc[(atha_data.apply(lambda row : compare_configuration(row, atha_config), axis = 1)) & (atha_data['modeltype'].str.startswith('special_')) & (atha_data['modeltype'] != 'special_pstest')]\n",
    "print(atha_data.shape)\n"
   ]
  },
  {
   "cell_type": "markdown",
   "metadata": {},
   "source": [
    "#### Compile performance metrics for replicate models and models trained on unique negative control sets"
   ]
  },
  {
   "cell_type": "code",
   "execution_count": 24,
   "metadata": {},
   "outputs": [
    {
     "name": "stdout",
     "output_type": "stream",
     "text": [
      "(40, 22)\n",
      "bagging      20\n",
      "negatives    10\n",
      "replicate    10\n",
      "Name: category, dtype: int64\n"
     ]
    }
   ],
   "source": [
    "rep_data = atha_data.loc[atha_data['modeltype'] == 'special_replicates'].copy()\n",
    "ncs_data = atha_data.loc[atha_data['modeltype'] == 'special_negatives'].copy()\n",
    "bag_data = atha_data.loc[atha_data['modeltype'] == 'special_bagging'].copy()\n",
    "\n",
    "rep_data['category'] = 'replicate'\n",
    "ncs_data['category'] = 'negatives'\n",
    "bag_data['category'] = 'bagging'\n",
    "\n",
    "atha_model_res = pd.concat([rep_data, ncs_data, bag_data], ignore_index = True, sort = False)\n",
    "print(atha_model_res.shape)\n",
    "print(atha_model_res['category'].value_counts())\n"
   ]
  },
  {
   "cell_type": "markdown",
   "metadata": {},
   "source": [
    "#### Replicate models"
   ]
  },
  {
   "cell_type": "code",
   "execution_count": 25,
   "metadata": {},
   "outputs": [],
   "source": [
    "rep_results = {\n",
    "    'category' : [],\n",
    "    'stamp'    : [],\n",
    "    'auroc'    : [],\n",
    "    'auprc'    : []\n",
    "}\n",
    "\n",
    "for rstamp in rep_data['stamp']:\n",
    "    \n",
    "    rdata = fetch_split_data_predictions('arabidopsis_thaliana', rstamp, 'test')\n",
    "    \n",
    "    auroc, auprc = models.calculate_auc(rdata['obs_class'], rdata['pred_class'])\n",
    "    \n",
    "    rep_results['category'].append('Replicates')\n",
    "    rep_results['stamp'].append(rstamp)\n",
    "    rep_results['auroc'].append(auroc)\n",
    "    rep_results['auprc'].append(auprc)\n",
    "\n",
    "rep_results = pd.DataFrame.from_dict(rep_results, orient = 'columns')\n"
   ]
  },
  {
   "cell_type": "markdown",
   "metadata": {},
   "source": [
    "#### Negative models"
   ]
  },
  {
   "cell_type": "code",
   "execution_count": 26,
   "metadata": {},
   "outputs": [],
   "source": [
    "ncs_results = {\n",
    "    'category' : [],\n",
    "    'stamp'    : [],\n",
    "    'auroc'    : [],\n",
    "    'auprc'    : []\n",
    "}\n",
    "\n",
    "for nstamp in ncs_data['stamp']:\n",
    "    \n",
    "    ndata = fetch_split_data_predictions('arabidopsis_thaliana', nstamp, 'test')\n",
    "    \n",
    "    auroc, auprc = models.calculate_auc(ndata['obs_class'], ndata['pred_class'])\n",
    "    \n",
    "    ncs_results['category'].append('Negatives')\n",
    "    ncs_results['stamp'].append(nstamp)\n",
    "    ncs_results['auroc'].append(auroc)\n",
    "    ncs_results['auprc'].append(auprc)\n",
    "\n",
    "ncs_results = pd.DataFrame.from_dict(ncs_results, orient = 'columns')\n"
   ]
  },
  {
   "cell_type": "markdown",
   "metadata": {},
   "source": [
    "#### Bagged models"
   ]
  },
  {
   "cell_type": "code",
   "execution_count": 27,
   "metadata": {
    "scrolled": false
   },
   "outputs": [],
   "source": [
    "bag_results = {\n",
    "    'category' : [],\n",
    "    'stamp'    : [],\n",
    "    'auroc'    : [],\n",
    "    'auprc'    : []\n",
    "}\n",
    "\n",
    "for bag_seed in ['12345', '24690', '37035', '49380', '61725', '74070', '86415', '98760', '111105', '123450']:\n",
    "    \n",
    "    bag_data = pd.read_csv(os.path.join(RESOURCES, 'polyaclassifier_negative_test', f'atha_negative_test_data_{bag_seed}.polyaclassifier_bagging3models.txt'), sep = '\\t')\n",
    "    bag_data['obs_class'] = (bag_data['supporting_reads'] > 0).astype(int)\n",
    "    \n",
    "    auroc, auprc = models.calculate_auc(bag_data['obs_class'], bag_data['classification'])\n",
    "    \n",
    "    bag_results['category'].append('Bagging')\n",
    "    bag_results['stamp'].append(bag_seed)\n",
    "    bag_results['auroc'].append(auroc)\n",
    "    bag_results['auprc'].append(auprc)\n",
    "    \n",
    "bag_results = pd.DataFrame.from_dict(bag_results, orient = 'columns')\n",
    "    "
   ]
  },
  {
   "cell_type": "markdown",
   "metadata": {},
   "source": [
    "#### Combining the comparison results"
   ]
  },
  {
   "cell_type": "code",
   "execution_count": 28,
   "metadata": {
    "scrolled": true
   },
   "outputs": [
    {
     "data": {
      "text/html": [
       "<div>\n",
       "<style scoped>\n",
       "    .dataframe tbody tr th:only-of-type {\n",
       "        vertical-align: middle;\n",
       "    }\n",
       "\n",
       "    .dataframe tbody tr th {\n",
       "        vertical-align: top;\n",
       "    }\n",
       "\n",
       "    .dataframe thead tr th {\n",
       "        text-align: left;\n",
       "    }\n",
       "\n",
       "    .dataframe thead tr:last-of-type th {\n",
       "        text-align: right;\n",
       "    }\n",
       "</style>\n",
       "<table border=\"1\" class=\"dataframe\">\n",
       "  <thead>\n",
       "    <tr>\n",
       "      <th></th>\n",
       "      <th colspan=\"3\" halign=\"left\">auroc</th>\n",
       "      <th colspan=\"3\" halign=\"left\">auprc</th>\n",
       "    </tr>\n",
       "    <tr>\n",
       "      <th></th>\n",
       "      <th>count</th>\n",
       "      <th>mean</th>\n",
       "      <th>std</th>\n",
       "      <th>count</th>\n",
       "      <th>mean</th>\n",
       "      <th>std</th>\n",
       "    </tr>\n",
       "    <tr>\n",
       "      <th>category</th>\n",
       "      <th></th>\n",
       "      <th></th>\n",
       "      <th></th>\n",
       "      <th></th>\n",
       "      <th></th>\n",
       "      <th></th>\n",
       "    </tr>\n",
       "  </thead>\n",
       "  <tbody>\n",
       "    <tr>\n",
       "      <td>Replicates</td>\n",
       "      <td>10</td>\n",
       "      <td>0.993196</td>\n",
       "      <td>0.000197</td>\n",
       "      <td>10</td>\n",
       "      <td>0.992955</td>\n",
       "      <td>0.000270</td>\n",
       "    </tr>\n",
       "    <tr>\n",
       "      <td>Negatives</td>\n",
       "      <td>10</td>\n",
       "      <td>0.993152</td>\n",
       "      <td>0.000670</td>\n",
       "      <td>10</td>\n",
       "      <td>0.992694</td>\n",
       "      <td>0.000805</td>\n",
       "    </tr>\n",
       "    <tr>\n",
       "      <td>Bagging</td>\n",
       "      <td>10</td>\n",
       "      <td>0.994434</td>\n",
       "      <td>0.000375</td>\n",
       "      <td>10</td>\n",
       "      <td>0.994082</td>\n",
       "      <td>0.000627</td>\n",
       "    </tr>\n",
       "  </tbody>\n",
       "</table>\n",
       "</div>"
      ],
      "text/plain": [
       "           auroc                     auprc                    \n",
       "           count      mean       std count      mean       std\n",
       "category                                                      \n",
       "Replicates    10  0.993196  0.000197    10  0.992955  0.000270\n",
       "Negatives     10  0.993152  0.000670    10  0.992694  0.000805\n",
       "Bagging       10  0.994434  0.000375    10  0.994082  0.000627"
      ]
     },
     "execution_count": 28,
     "metadata": {},
     "output_type": "execute_result"
    }
   ],
   "source": [
    "(pd.concat([rep_results, ncs_results, bag_results], ignore_index = True, sort = False)\n",
    " .groupby('category').agg({'auroc' : ['count','mean','std'], 'auprc' : ['count','mean','std']})\n",
    " .loc[['Replicates','Negatives','Bagging']]\n",
    ")\n"
   ]
  }
 ],
 "metadata": {
  "kernelspec": {
   "display_name": "Python (tf-train)",
   "language": "python",
   "name": "tf-train"
  },
  "language_info": {
   "codemirror_mode": {
    "name": "ipython",
    "version": 3
   },
   "file_extension": ".py",
   "mimetype": "text/x-python",
   "name": "python",
   "nbconvert_exporter": "python",
   "pygments_lexer": "ipython3",
   "version": "3.6.12"
  }
 },
 "nbformat": 4,
 "nbformat_minor": 2
}
