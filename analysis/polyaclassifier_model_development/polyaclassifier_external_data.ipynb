{
 "cells": [
  {
   "cell_type": "markdown",
   "metadata": {},
   "source": [
    "# PolyaClassifier predictions on external data\n",
    "\n",
    "**Purpose**: To corroborate PolyaClassifier predictions in *S. cerevisiae* using non-3'READS data.\n"
   ]
  },
  {
   "cell_type": "code",
   "execution_count": 1,
   "metadata": {},
   "outputs": [],
   "source": [
    "%load_ext autoreload"
   ]
  },
  {
   "cell_type": "code",
   "execution_count": 2,
   "metadata": {},
   "outputs": [],
   "source": [
    "%autoreload 2"
   ]
  },
  {
   "cell_type": "code",
   "execution_count": 3,
   "metadata": {},
   "outputs": [],
   "source": [
    "%run -i notebook_setup.py"
   ]
  },
  {
   "cell_type": "markdown",
   "metadata": {},
   "source": [
    "## IMPORTS AND SETUP"
   ]
  },
  {
   "cell_type": "code",
   "execution_count": 4,
   "metadata": {},
   "outputs": [],
   "source": [
    "from paper_utilities import models"
   ]
  },
  {
   "cell_type": "code",
   "execution_count": 5,
   "metadata": {},
   "outputs": [],
   "source": [
    "PROJECT   = \"/projects/b1080/eks/polyadenylation/yeast\"\n",
    "OUTDIR    = os.path.join(PROJECT, 'manuscript', 'analysis', 'polyaclassifier_external_corroboration')\n",
    "RESOURCES = os.path.join(os.path.dirname(OUTDIR), 'resources')\n",
    "os.makedirs(OUTDIR, exist_ok = True)\n"
   ]
  },
  {
   "cell_type": "code",
   "execution_count": 6,
   "metadata": {},
   "outputs": [],
   "source": [
    "boxplot_format = {\n",
    "    'boxprops'     : {'edgecolor' : 'black', 'linewidth' : 0.5},\n",
    "    'medianprops'  : {'color' : 'black', 'linewidth' : 0.5},\n",
    "    'whiskerprops' : {'color' : 'black', 'linewidth' : 0.5},\n",
    "    'capprops'     : {'color' : 'black', 'linewidth' : 0.5},\n",
    "    'flierprops'   : {'color' : 'black'},\n",
    "    'showfliers'   : False\n",
    "}\n",
    "\n",
    "barplot_format = {\n",
    "    'color'     : 'lightgray',\n",
    "    'edgecolor' : 'black',\n",
    "    'linewidth' : 0.5\n",
    "}"
   ]
  },
  {
   "cell_type": "markdown",
   "metadata": {},
   "source": [
    "## ANALYSIS"
   ]
  },
  {
   "cell_type": "markdown",
   "metadata": {},
   "source": [
    "### Pooled 3'READS used for model development"
   ]
  },
  {
   "cell_type": "code",
   "execution_count": 7,
   "metadata": {},
   "outputs": [
    {
     "name": "stdout",
     "output_type": "stream",
     "text": [
      "(1480332, 6)\n"
     ]
    }
   ],
   "source": [
    "reads3_data = pd.read_csv(os.path.join(PROJECT, \"saccharomyces_cerevisiae/data/data_preparation/relative_usage/redistA.no_clustered.wild_type.tf_0.00.ru_0.02.reads_10.clusters_rudesc_alltissue.txt\"), sep = \"\\t\")\n",
    "print(reads3_data.shape)\n"
   ]
  },
  {
   "cell_type": "code",
   "execution_count": 8,
   "metadata": {},
   "outputs": [
    {
     "data": {
      "image/png": "[encoded data removed]",
      "text/plain": [
       "<Figure size 216x144 with 1 Axes>"
      ]
     },
     "metadata": {
      "needs_background": "light"
     },
     "output_type": "display_data"
    },
    {
     "name": "stdout",
     "output_type": "stream",
     "text": [
      "Corresponding thresholds:\n",
      "Pooled 3'READS >= 5 :  349,404 (23.60%)\n",
      "Pooled 3'READS >= 10:  220,768 (14.91%)\n"
     ]
    }
   ],
   "source": [
    "fig,ax = plt.subplots(1,1, figsize = (3,2))\n",
    "\n",
    "ax.hist(np.log10(reads3_data['reads_overall']+1), bins = 30, **barplot_format)\n",
    "\n",
    "ax.axvline(x = np.log10(5+1), color = 'red', linestyle = 'dashed')\n",
    "ax.axvline(x = np.log10(10+1), color = 'green', linestyle = 'dashed')\n",
    "\n",
    "ax.set_xlabel(\"Log10(3'READS + 1)\")\n",
    "ax.set_ylabel(\"Frequency\")\n",
    "\n",
    "ax.spines['right'].set_visible(False)\n",
    "ax.spines['top'].set_visible(False)\n",
    "\n",
    "plt.show()\n",
    "\n",
    "\n",
    "print(\"Corresponding thresholds:\")\n",
    "print(f\"Pooled 3'READS >= 5 : {(reads3_data['reads_overall'] >= 5).sum():8,d} ({(reads3_data['reads_overall'] >= 5).astype(int).mean():.02%})\", )\n",
    "print(f\"Pooled 3'READS >= 10: {(reads3_data['reads_overall'] >= 10).sum():8,d} ({(reads3_data['reads_overall'] >= 10).astype(int).mean():.02%})\", )\n"
   ]
  },
  {
   "cell_type": "code",
   "execution_count": 9,
   "metadata": {},
   "outputs": [
    {
     "name": "stdout",
     "output_type": "stream",
     "text": [
      "Input sites:\n",
      "\t8047, genes=8047\n",
      "By class:\n",
      "\t{1.0: 4046, 0.0: 4001}\n"
     ]
    }
   ],
   "source": [
    "reads3_test_data = pd.read_csv(os.path.join(RESOURCES, 'polyaclassifier_cross_species_predictions.scer_test_data_12345.pred_by_scer_bagging3models.txt'), sep = \"\\t\")\n",
    "test_genes = reads3_test_data['gene'].unique().tolist()\n",
    "print(f\"Input sites:\\n\\t{reads3_test_data.shape[0]}, genes={len(test_genes)}\")\n",
    "\n",
    "reads3_test_data.loc[reads3_test_data['supporting_reads'] >  0, 'obs_class'] = 1\n",
    "reads3_test_data.loc[reads3_test_data['supporting_reads'] == 0, 'obs_class'] = 0\n",
    "print(f\"By class:\\n\\t{reads3_test_data['obs_class'].value_counts().to_dict()}\")\n"
   ]
  },
  {
   "cell_type": "code",
   "execution_count": 10,
   "metadata": {},
   "outputs": [
    {
     "name": "stdout",
     "output_type": "stream",
     "text": [
      "Performance:\n",
      "\tAUROC=0.989145\n",
      "\tAUPRC=0.989672\n"
     ]
    }
   ],
   "source": [
    "reads3_auroc, reads3_auprc = models.calculate_auc(reads3_test_data['obs_class'], reads3_test_data['classification'])\n",
    "print(f\"Performance:\\n\\tAUROC={reads3_auroc:.06f}\\n\\tAUPRC={reads3_auprc:.06f}\")\n"
   ]
  },
  {
   "cell_type": "markdown",
   "metadata": {},
   "source": [
    "### 3P-seq data from Dave Bartel's lab"
   ]
  },
  {
   "cell_type": "code",
   "execution_count": 11,
   "metadata": {},
   "outputs": [
    {
     "name": "stdout",
     "output_type": "stream",
     "text": [
      "(382285, 6)\n"
     ]
    }
   ],
   "source": [
    "p3seq_data = pd.read_csv(os.path.join(PROJECT, \"saccharomyces_cerevisiae_3Pseq/data/data_preparation/relative_usage/redistA.no_clustered.wild_type.tf_0.00.ru_0.02.reads_10.clusters_rudesc_alltissue.txt\"), sep = \"\\t\")\n",
    "print(p3seq_data.shape)\n"
   ]
  },
  {
   "cell_type": "code",
   "execution_count": 12,
   "metadata": {},
   "outputs": [
    {
     "data": {
      "image/png": "[encoded data removed]",
      "text/plain": [
       "<Figure size 216x144 with 1 Axes>"
      ]
     },
     "metadata": {
      "needs_background": "light"
     },
     "output_type": "display_data"
    },
    {
     "name": "stdout",
     "output_type": "stream",
     "text": [
      "Corresponding thresholds:\n",
      "3Pseq reads >= 5 :  104,994 (27.46%)\n",
      "3Pseq reads >= 10:   63,199 (16.53%)\n"
     ]
    }
   ],
   "source": [
    "fig,ax = plt.subplots(1,1, figsize = (3,2))\n",
    "\n",
    "ax.hist(np.log10(p3seq_data['reads_overall']+1), bins = 30, **barplot_format)\n",
    "\n",
    "ax.axvline(x = np.log10(5+1), color = 'red', linestyle = 'dashed')\n",
    "ax.axvline(x = np.log10(10+1), color = 'green', linestyle = 'dashed')\n",
    "\n",
    "ax.set_xlabel(\"Log10(Reads + 1)\")\n",
    "ax.set_ylabel(\"Frequency\")\n",
    "\n",
    "ax.spines['right'].set_visible(False)\n",
    "ax.spines['top'].set_visible(False)\n",
    "\n",
    "plt.show()\n",
    "\n",
    "\n",
    "print(\"Corresponding thresholds:\")\n",
    "print(f\"3Pseq reads >= 5 : {(p3seq_data['reads_overall'] >= 5).sum():8,d} ({(p3seq_data['reads_overall'] >= 5).astype(int).mean():.02%})\", )\n",
    "print(f\"3Pseq reads >= 10: {(p3seq_data['reads_overall'] >= 10).sum():8,d} ({(p3seq_data['reads_overall'] >= 10).astype(int).mean():.02%})\", )\n"
   ]
  },
  {
   "cell_type": "markdown",
   "metadata": {},
   "source": [
    "#### Predictions by 3'READS model"
   ]
  },
  {
   "cell_type": "code",
   "execution_count": 13,
   "metadata": {},
   "outputs": [
    {
     "name": "stdout",
     "output_type": "stream",
     "text": [
      "Input sites:\n",
      "\t31616\n",
      "By class:\n",
      "\t{0.0: 15808, 1.0: 15808}\n",
      "Performance:\n",
      "\tAUROC=0.993639\n",
      "\tAUPRC=0.993692\n"
     ]
    }
   ],
   "source": [
    "p3seq_preds = pd.read_csv(os.path.join(RESOURCES, 'polyaclassifier_external_data_predictions.scer_3Pseq_reads10.pred_by_scer_bagging3models.txt'), sep = \"\\t\")\n",
    "print(f\"Input sites:\\n\\t{p3seq_preds.shape[0]}\")\n",
    "\n",
    "p3seq_preds.loc[p3seq_preds['supporting_reads'] >  0, 'obs_class'] = 1\n",
    "p3seq_preds.loc[p3seq_preds['supporting_reads'] == 0, 'obs_class'] = 0\n",
    "print(f\"By class:\\n\\t{p3seq_preds['obs_class'].value_counts().to_dict()}\")\n",
    "\n",
    "p3seq_all_auroc, p3seq_all_auprc = models.calculate_auc(p3seq_preds['obs_class'], p3seq_preds['classification'])\n",
    "print(f\"Performance:\\n\\tAUROC={p3seq_all_auroc:.06f}\\n\\tAUPRC={p3seq_all_auprc:.06f}\")\n"
   ]
  },
  {
   "cell_type": "code",
   "execution_count": 14,
   "metadata": {},
   "outputs": [
    {
     "name": "stdout",
     "output_type": "stream",
     "text": [
      "Input sites:\n",
      "\t31616\n",
      "By class:\n",
      "\t{0.0: 25, 1.0: 25}\n",
      "Performance:\n",
      "\tAUROC=0.998400\n",
      "\tAUPRC=0.998431\n"
     ]
    }
   ],
   "source": [
    "p3seq_preds = pd.read_csv(os.path.join(RESOURCES, 'polyaclassifier_external_data_predictions.scer_3Pseq_reads10.pred_by_scer_bagging3models.txt'), sep = \"\\t\")\n",
    "print(f\"Input sites:\\n\\t{p3seq_preds.shape[0]}\")\n",
    "\n",
    "p3seq_preds.loc[p3seq_preds['supporting_reads'] >  0, 'obs_class'] = 1\n",
    "p3seq_preds.loc[p3seq_preds['supporting_reads'] == 0, 'obs_class'] = 0\n",
    "\n",
    "p3seq_test_pos = p3seq_preds.loc[(p3seq_preds['obs_class'] == 1) & (p3seq_preds['gene'].isin(test_genes))].copy()\n",
    "p3seq_test_neg = p3seq_preds.loc[(p3seq_preds['obs_class'] == 0)].sample(n = len(p3seq_test_pos), random_state = 12345).copy()\n",
    "p3seq_test = pd.concat([p3seq_test_pos, p3seq_test_neg], ignore_index = True, sort = False)\n",
    "print(f\"By class:\\n\\t{p3seq_test['obs_class'].value_counts().to_dict()}\")\n",
    "\n",
    "p3seq_test_auroc, p3seq_test_auprc = models.calculate_auc(p3seq_test['obs_class'], p3seq_test['classification'])\n",
    "print(f\"Performance:\\n\\tAUROC={p3seq_test_auroc:.06f}\\n\\tAUPRC={p3seq_test_auprc:.06f}\")\n"
   ]
  },
  {
   "cell_type": "markdown",
   "metadata": {},
   "source": [
    "### Helicos sequencing data from Guillaume Chanfreau's lab"
   ]
  },
  {
   "cell_type": "code",
   "execution_count": 15,
   "metadata": {},
   "outputs": [
    {
     "name": "stdout",
     "output_type": "stream",
     "text": [
      "(668925, 6)\n"
     ]
    }
   ],
   "source": [
    "helicos_data = pd.read_csv(os.path.join(PROJECT, \"saccharomyces_cerevisiae_Helicos/data/data_preparation/relative_usage/redistA.no_clustered.wild_type.tf_0.00.ru_0.02.reads_10.clusters_rudesc_alltissue.txt\"), sep = \"\\t\")\n",
    "print(helicos_data.shape)\n"
   ]
  },
  {
   "cell_type": "code",
   "execution_count": 16,
   "metadata": {},
   "outputs": [
    {
     "data": {
      "image/png": "[encoded data removed]",
      "text/plain": [
       "<Figure size 216x144 with 1 Axes>"
      ]
     },
     "metadata": {
      "needs_background": "light"
     },
     "output_type": "display_data"
    },
    {
     "name": "stdout",
     "output_type": "stream",
     "text": [
      "Corresponding thresholds:\n",
      "Helicos RPM >= 0.5:  162,849 (24.34%)\n",
      "Helicos RPM >= 1.0:  107,093 (16.01%)\n"
     ]
    }
   ],
   "source": [
    "fig,ax = plt.subplots(1,1, figsize = (3,2))\n",
    "\n",
    "ax.hist(np.log10(helicos_data['reads_overall']+1), bins = 30, **barplot_format)\n",
    "\n",
    "ax.axvline(x = np.log10(0.5+1), color = 'red', linestyle = 'dashed')\n",
    "ax.axvline(x = np.log10(1.0+1), color = 'green', linestyle = 'dashed')\n",
    "\n",
    "ax.set_xlabel(\"Log10(Reads + 1)\")\n",
    "ax.set_ylabel(\"Frequency\")\n",
    "\n",
    "ax.spines['right'].set_visible(False)\n",
    "ax.spines['top'].set_visible(False)\n",
    "\n",
    "plt.show()\n",
    "\n",
    "\n",
    "print(\"Corresponding thresholds:\")\n",
    "print(f\"Helicos RPM >= 0.5: {(helicos_data['reads_overall'] >= 0.5).sum():8,d} ({(helicos_data['reads_overall'] >= 0.5).astype(int).mean():.02%})\")\n",
    "print(f\"Helicos RPM >= 1.0: {(helicos_data['reads_overall'] >= 1).sum():8,d} ({(helicos_data['reads_overall'] >= 1).astype(int).mean():.02%})\")\n"
   ]
  },
  {
   "cell_type": "markdown",
   "metadata": {},
   "source": [
    "#### Predictions by 3'READS model"
   ]
  },
  {
   "cell_type": "code",
   "execution_count": 17,
   "metadata": {},
   "outputs": [
    {
     "name": "stdout",
     "output_type": "stream",
     "text": [
      "Input sites:\n",
      "\t42012\n",
      "By class:\n",
      "\t{0.0: 21006, 1.0: 21006}\n",
      "Performance:\n",
      "\tAUROC=0.994469\n",
      "\tAUPRC=0.994812\n"
     ]
    }
   ],
   "source": [
    "helicos_preds = pd.read_csv(os.path.join(RESOURCES, 'polyaclassifier_external_data_predictions.scer_Helicos_reads1.pred_by_scer_bagging3models.txt'), sep = \"\\t\")\n",
    "print(f\"Input sites:\\n\\t{helicos_preds.shape[0]}\")\n",
    "\n",
    "helicos_preds.loc[helicos_preds['supporting_reads'] >  0, 'obs_class'] = 1\n",
    "helicos_preds.loc[helicos_preds['supporting_reads'] == 0, 'obs_class'] = 0\n",
    "print(f\"By class:\\n\\t{helicos_preds['obs_class'].value_counts().to_dict()}\")\n",
    "\n",
    "helicos_all_auroc, helicos_all_auprc = models.calculate_auc(helicos_preds['obs_class'], helicos_preds['classification'])\n",
    "print(f\"Performance:\\n\\tAUROC={helicos_all_auroc:.06f}\\n\\tAUPRC={helicos_all_auprc:.06f}\")\n"
   ]
  },
  {
   "cell_type": "code",
   "execution_count": 18,
   "metadata": {},
   "outputs": [
    {
     "name": "stdout",
     "output_type": "stream",
     "text": [
      "Input sites:\n",
      "\t42012\n",
      "By class:\n",
      "\t{0.0: 42, 1.0: 42}\n",
      "Performance:\n",
      "\tAUROC=0.998299\n",
      "\tAUPRC=0.998395\n"
     ]
    }
   ],
   "source": [
    "helicos_preds = pd.read_csv(os.path.join(RESOURCES, 'polyaclassifier_external_data_predictions.scer_Helicos_reads1.pred_by_scer_bagging3models.txt'), sep = \"\\t\")\n",
    "print(f\"Input sites:\\n\\t{helicos_preds.shape[0]}\")\n",
    "\n",
    "helicos_preds.loc[helicos_preds['supporting_reads'] >  0, 'obs_class'] = 1\n",
    "helicos_preds.loc[helicos_preds['supporting_reads'] == 0, 'obs_class'] = 0\n",
    "\n",
    "helicos_test_pos = helicos_preds.loc[(helicos_preds['obs_class'] == 1) & (helicos_preds['gene'].isin(test_genes))].copy()\n",
    "helicos_test_neg = helicos_preds.loc[(helicos_preds['obs_class'] == 0)].sample(n = len(helicos_test_pos), random_state = 12345).copy()\n",
    "helicos_test = pd.concat([helicos_test_pos, helicos_test_neg], ignore_index = True, sort = False)\n",
    "print(f\"By class:\\n\\t{helicos_test['obs_class'].value_counts().to_dict()}\")\n",
    "\n",
    "helicos_test_auroc, helicos_test_auprc = models.calculate_auc(helicos_test['obs_class'], helicos_test['classification'])\n",
    "print(f\"Performance:\\n\\tAUROC={helicos_test_auroc:.06f}\\n\\tAUPRC={helicos_test_auprc:.06f}\")\n"
   ]
  },
  {
   "cell_type": "markdown",
   "metadata": {},
   "source": [
    "### Combined plots"
   ]
  },
  {
   "cell_type": "code",
   "execution_count": 19,
   "metadata": {},
   "outputs": [
    {
     "name": "stdout",
     "output_type": "stream",
     "text": [
      "  data_type     auroc     auprc\n",
      "0    3P-seq  0.993639  0.993692\n",
      "1   Helicos  0.994469  0.994812\n"
     ]
    }
   ],
   "source": [
    "combined_data = pd.DataFrame.from_dict({\n",
    "    'data_type' : [\"3P-seq\",\"Helicos\"],\n",
    "    'auroc'     : [p3seq_all_auroc, helicos_all_auroc],\n",
    "    'auprc'     : [p3seq_all_auprc, helicos_all_auprc],\n",
    "}, orient = 'columns')\n",
    "\n",
    "print(combined_data)\n"
   ]
  },
  {
   "cell_type": "code",
   "execution_count": 20,
   "metadata": {},
   "outputs": [
    {
     "data": {
      "image/png": "[encoded data removed]",
      "text/plain": [
       "<Figure size 36x108 with 1 Axes>"
      ]
     },
     "metadata": {
      "needs_background": "light"
     },
     "output_type": "display_data"
    }
   ],
   "source": [
    "fig,ax = plt.subplots(1,1, figsize = (0.3+(0.1*len(combined_data)),1.5))\n",
    "\n",
    "sns.barplot(data = combined_data, x = 'data_type', y = 'auroc', **barplot_format, ax = ax)\n",
    "\n",
    "ax.set_xlabel(\"Data type\")\n",
    "ax.set_ylabel(\"S. cerevisiae PolyaClassifier AUROC\")\n",
    "\n",
    "ax.set_xticklabels(ax.get_xticklabels(), rotation = 45, ha = 'right', va = 'top')\n",
    "\n",
    "ax.set_ylim(0.5,1.02)\n",
    "ax.yaxis.set_major_locator(MultipleLocator(0.1))\n",
    "\n",
    "ax.spines['right'].set_visible(False)\n",
    "ax.spines['top'].set_visible(False)\n",
    "\n",
    "plt.savefig(os.path.join(OUTDIR, 'external_data.auroc.svg'), format = 'svg', dpi = 600)\n",
    "plt.show()\n"
   ]
  },
  {
   "cell_type": "code",
   "execution_count": 21,
   "metadata": {},
   "outputs": [
    {
     "data": {
      "image/png": "[encoded data removed]",
      "text/plain": [
       "<Figure size 36x108 with 1 Axes>"
      ]
     },
     "metadata": {
      "needs_background": "light"
     },
     "output_type": "display_data"
    }
   ],
   "source": [
    "fig,ax = plt.subplots(1,1, figsize = (0.3+(0.1*len(combined_data)),1.5))\n",
    "\n",
    "sns.barplot(data = combined_data, x = 'data_type', y = 'auprc', **barplot_format, ax = ax)\n",
    "\n",
    "ax.set_xlabel(\"Data type\")\n",
    "ax.set_ylabel(\"S. cerevisiae PolyaClassifier AUPRC\")\n",
    "\n",
    "ax.set_xticklabels(ax.get_xticklabels(), rotation = 45, ha = 'right', va = 'top')\n",
    "\n",
    "ax.set_ylim(0.5,1.02)\n",
    "ax.yaxis.set_major_locator(MultipleLocator(0.1))\n",
    "\n",
    "ax.spines['right'].set_visible(False)\n",
    "ax.spines['top'].set_visible(False)\n",
    "\n",
    "plt.savefig(os.path.join(OUTDIR, 'external_data.auprc.svg'), format = 'svg', dpi = 600)\n",
    "plt.show()\n"
   ]
  }
 ],
 "metadata": {
  "kernelspec": {
   "display_name": "Python (tf-train)",
   "language": "python",
   "name": "tf-train"
  },
  "language_info": {
   "codemirror_mode": {
    "name": "ipython",
    "version": 3
   },
   "file_extension": ".py",
   "mimetype": "text/x-python",
   "name": "python",
   "nbconvert_exporter": "python",
   "pygments_lexer": "ipython3",
   "version": "3.6.12"
  }
 },
 "nbformat": 4,
 "nbformat_minor": 2
}
