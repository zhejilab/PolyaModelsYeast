{
 "cells": [
  {
   "cell_type": "markdown",
   "metadata": {},
   "source": [
    "# PolyaClassifier selecting bagged models\n",
    "\n",
    "**Purpose**: To select the best combination of constituent PolyaClassifier models to include in the final ensemble.\n"
   ]
  },
  {
   "cell_type": "code",
   "execution_count": 1,
   "metadata": {},
   "outputs": [],
   "source": [
    "%load_ext autoreload"
   ]
  },
  {
   "cell_type": "code",
   "execution_count": 2,
   "metadata": {},
   "outputs": [],
   "source": [
    "%autoreload 2"
   ]
  },
  {
   "cell_type": "code",
   "execution_count": 3,
   "metadata": {},
   "outputs": [],
   "source": [
    "%run -i notebook_setup.py"
   ]
  },
  {
   "cell_type": "markdown",
   "metadata": {},
   "source": [
    "## IMPORTS AND SETUP"
   ]
  },
  {
   "cell_type": "code",
   "execution_count": 4,
   "metadata": {},
   "outputs": [],
   "source": [
    "import paper_utilities\n",
    "from paper_utilities import models\n",
    "\n",
    "from functools import reduce\n"
   ]
  },
  {
   "cell_type": "code",
   "execution_count": 5,
   "metadata": {},
   "outputs": [],
   "source": [
    "PROJECT   = \"/projects/b1080/eks/polyadenylation/yeast\"\n",
    "OUTDIR    = os.path.join(PROJECT, 'manuscript', 'analysis', 'polyaclassifier_model_bagging_selection')\n",
    "RESOURCES = os.path.join(os.path.dirname(OUTDIR), 'resources')\n",
    "os.makedirs(OUTDIR, exist_ok = True)\n"
   ]
  },
  {
   "cell_type": "code",
   "execution_count": 6,
   "metadata": {},
   "outputs": [],
   "source": [
    "boxplot_format = {\n",
    "    'boxprops'     : {'edgecolor' : 'black', 'linewidth' : 0.5},\n",
    "    'medianprops'  : {'color' : 'black', 'linewidth' : 0.5},\n",
    "    'whiskerprops' : {'color' : 'black', 'linewidth' : 0.5},\n",
    "    'capprops'     : {'color' : 'black', 'linewidth' : 0.5},\n",
    "    'flierprops'   : {'color' : 'black'},\n",
    "    'showfliers'   : False\n",
    "}\n",
    "\n",
    "barplot_format = {\n",
    "    'color'     : 'lightgray',\n",
    "    'edgecolor' : 'black',\n",
    "    'linewidth' : 0.5\n",
    "}"
   ]
  },
  {
   "cell_type": "markdown",
   "metadata": {},
   "source": [
    "## HELPER FUNCTIONS"
   ]
  },
  {
   "cell_type": "code",
   "execution_count": 7,
   "metadata": {},
   "outputs": [],
   "source": [
    "def compare_configuration(row, config):\n",
    "    return all([(row[var] == config[var]) for var in config.keys()])\n"
   ]
  },
  {
   "cell_type": "code",
   "execution_count": 8,
   "metadata": {
    "scrolled": false
   },
   "outputs": [],
   "source": [
    "def visualize_parameter_deltas(species, output_prefix, data, base_model, test_var, test_val, test_order, measure, replicates = 5, xlab_type = None, rotate_labels = False, ylim = None, ytickint = 0.01, threshold = None, show_data = False):\n",
    "    \n",
    "    ## Filter equivalent models with the single parameter varied\n",
    "    \n",
    "    constant_vars = [_ for _ in base_model.keys() if (_ != test_var)]\n",
    "    \n",
    "    cond_mat = np.zeros((len(data), len(constant_vars)))\n",
    "    \n",
    "    for i,v in enumerate(constant_vars):\n",
    "        cond_mat[:,i] = (data[v] == base_model[v])\n",
    "        \n",
    "    cond = np.all(cond_mat, axis = 1)\n",
    "    dt = data.loc[cond & (data[test_var].isin(test_order))].copy()\n",
    "    \n",
    "    if (xlab_type is not None):\n",
    "        dt[test_var] = dt[test_var].astype(xlab_type)\n",
    "    \n",
    "    ## Confirm that all replicates were successfully included\n",
    "    \n",
    "    if (replicates is not None):\n",
    "\n",
    "        if not (dt.groupby(test_var).size() == replicates).all():\n",
    "            raise ValueError(\"Incorrect number of replicates found for test parameters:\" + str(dt.groupby(test_var).size()))\n",
    "\n",
    "        if not (dt.groupby([test_var,'negative_seed']).size() == 1).all():\n",
    "            raise ValueError(\"More than one model found per parameter+negative seed combination:\" + str(dt.groupby([test_var,'negative_seed']).size()))\n",
    "\n",
    "    ## Visualize change in the area under the receiver-operating characteristic curve\n",
    "    \n",
    "    nlevels = dt[test_var].nunique()\n",
    "    norder = test_order if (test_order is not None) else sorted(dt[test_var].unique().tolist())\n",
    "    \n",
    "    fig,ax = plt.subplots(1,1, figsize = (0.3+(0.15*nlevels),1.5))\n",
    "    \n",
    "    dt_diff = dt.merge(dt.pivot(index = 'category', columns = 'iteration', values = 'classification_AUROC').loc[norder].shift(1).mean(axis = 1).reset_index(name = 'previous_mean'))\n",
    "    dt_diff['delta_AUROC'] = dt_diff['classification_AUROC'] - dt_diff['previous_mean']\n",
    "    dt_diff['highlight'] = (dt_diff[test_var] == test_val)\n",
    "    \n",
    "    sns.barplot(data = dt_diff, x = test_var, y = 'delta_AUROC', order = norder, \n",
    "                hue = 'highlight', palette = {False: 'lightgray', True: 'firebrick'}, \n",
    "                dodge = False, ax = ax, **barplot_format)\n",
    "    \n",
    "    if (threshold is not None):\n",
    "        ax.axhline(threshold, color = 'red', linewidth = 0.5, zorder = 2)\n",
    "        \n",
    "    if (rotate_labels):\n",
    "        ax.set_xticklabels(ax.get_xticklabels(), rotation = 45, va = 'top', ha = 'right')\n",
    "    \n",
    "    ax.set_xlabel(test_var.replace(\"_\",\" \").capitalize())\n",
    "    ax.set_ylabel(\"delta AUROC\")\n",
    "    \n",
    "    ax.set_ylim(ylim)\n",
    "    ax.yaxis.set_major_locator(MultipleLocator(ytickint))\n",
    "    \n",
    "    ax.get_legend().remove()\n",
    "\n",
    "    ax.spines['right'].set_visible(False)\n",
    "    ax.spines['top'].set_visible(False)\n",
    "    \n",
    "    plt.savefig(os.path.join(OUTDIR, f'{output_prefix}.{species}.{test_var}.delta_auroc.svg'), format = 'svg', dpi = 600)\n",
    "    plt.show()\n",
    "    \n",
    "    if (show_data):\n",
    "        print(\"Classification AUROC:\")\n",
    "        print(dt_diff.groupby(test_var)['classification_AUROC'].describe()[['mean','std','min','max']].loc[norder])\n",
    "        print(\"Delta AUROC:\")\n",
    "        print(dt_diff.groupby(test_var)['delta_AUROC'].describe()[['mean','std','min','max']].loc[norder])\n",
    "    \n",
    "    ## Visualize change in the area under the precision-recall curve\n",
    "    \n",
    "    fig,ax = plt.subplots(1,1, figsize = (0.3+(0.15*nlevels),1.5))\n",
    "    \n",
    "    dt_diff = dt.merge(dt.pivot(index = 'category', columns = 'iteration', values = 'classification_AUPRC').loc[norder].shift(1).mean(axis = 1).reset_index(name = 'previous_mean'))\n",
    "    dt_diff['delta_AUPRC'] = dt_diff['classification_AUPRC'] - dt_diff['previous_mean']\n",
    "    dt_diff['highlight'] = (dt_diff[test_var] == test_val)\n",
    "    \n",
    "    sns.barplot(data = dt_diff, x = test_var, y = 'delta_AUPRC', order = norder, \n",
    "                hue = 'highlight', palette = {False: 'lightgray', True: 'firebrick'}, \n",
    "                dodge = False, ax = ax, **barplot_format)\n",
    "    \n",
    "    if (threshold is not None):\n",
    "        ax.axhline(threshold, color = 'red', linewidth = 0.5, zorder = 2)\n",
    "        \n",
    "    if (rotate_labels):\n",
    "        ax.set_xticklabels(ax.get_xticklabels(), rotation = 45, va = 'top', ha = 'right')\n",
    "    \n",
    "    ax.set_xlabel(test_var.replace(\"_\",\" \").capitalize())\n",
    "    ax.set_ylabel(\"delta AUPRC\")\n",
    "    \n",
    "    ax.set_ylim(ylim)\n",
    "    ax.yaxis.set_major_locator(MultipleLocator(ytickint))\n",
    "    \n",
    "    ax.get_legend().remove()\n",
    "\n",
    "    ax.spines['right'].set_visible(False)\n",
    "    ax.spines['top'].set_visible(False)\n",
    "    \n",
    "    plt.savefig(os.path.join(OUTDIR, f'{output_prefix}.{species}.{test_var}.delta_auprc.svg'), format = 'svg', dpi = 600)\n",
    "    plt.show()\n",
    "    \n",
    "    if (show_data):\n",
    "        print(\"Classification AUPRC:\")\n",
    "        print(dt_diff.groupby(test_var)['classification_AUPRC'].describe()[['mean','std','min','max']].loc[norder])\n",
    "        print(\"Delta AUPRC:\")\n",
    "        print(dt_diff.groupby(test_var)['delta_AUPRC'].describe()[['mean','std','min','max']].loc[norder])\n",
    "    \n",
    "    return\n"
   ]
  },
  {
   "cell_type": "code",
   "execution_count": 9,
   "metadata": {},
   "outputs": [],
   "source": [
    "def permute_aggregate_performance(species, models, data_desc, data_seeds, model_category, n_models_to_use, num_iter = 10, random_seed = 12345, verbose = False):\n",
    "    \n",
    "    stamps_pool = sorted(models.loc[models['category'] == model_category, 'stamp'].tolist())\n",
    "    \n",
    "    stamp_list = []\n",
    "    stamp_res  = []\n",
    "    counter = 0\n",
    "    \n",
    "    ## Select models to use\n",
    "    \n",
    "    for i in tqdm.tqdm(range(num_iter), desc = f'{n_models_to_use} models'):\n",
    "\n",
    "        while True:\n",
    "\n",
    "            np.random.seed(random_seed+i)\n",
    "            selected_stamps = np.random.choice(stamps_pool, n_models_to_use, replace = False)\n",
    "\n",
    "            if (str(selected_stamps) not in stamp_list):\n",
    "                break\n",
    "\n",
    "        if (len(selected_stamps) != n_models_to_use):\n",
    "            raise ValueError(f\"Incorrect number of stamps selected: expected={n_models_to_use}, found={len(selected_stamps)}\")\n",
    "\n",
    "        if (verbose):\n",
    "            print(f\"Using {n_models_to_use} models to average predictions: {selected_stamps}\")\n",
    "        \n",
    "        ## Calculate aggregated performance metrics\n",
    "        \n",
    "        agg_results = concatenate_aggregate_performance(species, models, data_desc, data_seeds, selected_stamps, verbose)\n",
    "        agg_results['iteration'] = i\n",
    "        agg_results['category'] = f'{model_category}_{n_models_to_use}models'\n",
    "        \n",
    "        stamp_res.append(agg_results)\n",
    "\n",
    "    return pd.concat(stamp_res, ignore_index = True, sort = False)\n"
   ]
  },
  {
   "cell_type": "code",
   "execution_count": 11,
   "metadata": {},
   "outputs": [],
   "source": [
    "def compile_input_data(datapath, data_index, data_type, header = True):\n",
    "    \n",
    "    data = []\n",
    "    \n",
    "    with open(datapath, mode = 'r') as infile:\n",
    "        if (header):\n",
    "            infile.readline()\n",
    "        for line in infile:\n",
    "            data.append(data_type(line.rstrip(\"\\n\").split(\"\\t\")[data_index]))\n",
    "            \n",
    "    return data\n",
    "        "
   ]
  },
  {
   "cell_type": "code",
   "execution_count": 12,
   "metadata": {},
   "outputs": [],
   "source": [
    "def compile_prediction_dict(datapath, sequence_index, prediction_index, header = True):\n",
    "    \n",
    "    predictions = {}\n",
    "    \n",
    "    with open(datapath, mode = 'r') as infile:\n",
    "        if (header):\n",
    "            infile.readline()\n",
    "        for line in infile:\n",
    "            llist = line.rstrip(\"\\n\").split(\"\\t\")\n",
    "            predictions[llist[sequence_index]] = float(llist[prediction_index])\n",
    "            \n",
    "    return predictions\n",
    "        "
   ]
  },
  {
   "cell_type": "code",
   "execution_count": 13,
   "metadata": {},
   "outputs": [],
   "source": [
    "def concatenate_aggregate_performance(species, models, data_desc, data_seeds, models_to_use = [], verbose = False):\n",
    "    \n",
    "    results   = {}\n",
    "    counter   = 0\n",
    "    \n",
    "    ## Iterate over input data sets\n",
    "    \n",
    "    obs_classes  = []\n",
    "    pred_classes = []\n",
    "\n",
    "    for data_seed in data_seeds:\n",
    "        \n",
    "        ## Combine predictions\n",
    "        \n",
    "        sequences = compile_input_data(os.path.join(RESOURCES, 'polyaclassifier_bagging_test', f\"{data_desc}_{data_seed}.polyaclassifier_{models_to_use[0]}.txt\"), 9, str)\n",
    "        reads     = compile_input_data(os.path.join(RESOURCES, 'polyaclassifier_bagging_test', f\"{data_desc}_{data_seed}.polyaclassifier_{models_to_use[0]}.txt\"), 6, float)\n",
    "        classes   = (np.asarray(reads) > 0).astype(int)\n",
    "\n",
    "        predictions = np.zeros((len(sequences),len(models_to_use)))\n",
    "\n",
    "        for i,s in enumerate(models_to_use):\n",
    "            sdict = compile_prediction_dict(os.path.join(RESOURCES, 'polyaclassifier_bagging_test', f\"{data_desc}_{data_seed}.polyaclassifier_{s}.txt\"), 9, 12)\n",
    "            predictions[:,i] = np.asarray([sdict[seq] for seq in sequences])\n",
    "\n",
    "        predictions = np.mean(predictions, axis = 1)\n",
    "    \n",
    "        ## Quality length of data lists\n",
    "        \n",
    "        if (len(list(set([len(sequences), len(reads), len(classes), len(predictions)]))) > 1):\n",
    "            raise ValueError()\n",
    "\n",
    "        ## Recalculate AUROC and AUPRC using mean predictions\n",
    "    \n",
    "        obs_classes.append(classes)\n",
    "        pred_classes.append(predictions)\n",
    "        \n",
    "    obs_classes  = list(itertools.chain.from_iterable(obs_classes))\n",
    "    pred_classes = list(itertools.chain.from_iterable(pred_classes))\n",
    "\n",
    "    fpr, tpr, thresholds = roc_curve(obs_classes, pred_classes)\n",
    "    auroc = auc(fpr, tpr)\n",
    "\n",
    "    prec, rec, thresholds = precision_recall_curve(obs_classes, pred_classes)\n",
    "    auprc = auc(rec, prec)\n",
    "\n",
    "    results[counter] = {'model_stamps': models_to_use, 'negative_seed': data_seed, 'classification_AUROC': auroc, 'classification_AUPRC': auprc}\n",
    "    counter += 1\n",
    "\n",
    "    return pd.DataFrame.from_dict(results, orient = 'index')\n"
   ]
  },
  {
   "cell_type": "markdown",
   "metadata": {},
   "source": [
    "## ANALYSIS"
   ]
  },
  {
   "cell_type": "markdown",
   "metadata": {},
   "source": [
    "### *S. cerevisiae*"
   ]
  },
  {
   "cell_type": "code",
   "execution_count": 14,
   "metadata": {},
   "outputs": [],
   "source": [
    "scer_config = {\n",
    "    'genomic_As'    : 'redistA',\n",
    "    'architecture'  : 'classification',\n",
    "    'sequence_size' : 500,\n",
    "    'conv_units'    : 512,\n",
    "    'lstm_units'    : 16,\n",
    "    'conv_shape'    : 12,\n",
    "    'bin_dropout'   : 0.5,\n",
    "    'learning_rate' : 0.001,\n",
    "}\n"
   ]
  },
  {
   "cell_type": "code",
   "execution_count": 15,
   "metadata": {},
   "outputs": [
    {
     "name": "stdout",
     "output_type": "stream",
     "text": [
      "(20, 22)\n"
     ]
    }
   ],
   "source": [
    "scer_data = pd.read_csv(os.path.join(RESOURCES, 'polyaclassifier_replicate_summary.saccharomyces_cerevisiae.txt'), sep = \"\\t\")\n",
    "scer_data = scer_data.loc[scer_data.apply(lambda row : compare_configuration(row, scer_config), axis = 1) & (scer_data['modeltype'] == 'special_bagging')]\n",
    "scer_data['category'] = 'bagging'\n",
    "print(scer_data.shape)\n"
   ]
  },
  {
   "cell_type": "markdown",
   "metadata": {},
   "source": [
    "#### Calculate the performance of the \"bagged\" model using the average of multiple predictions"
   ]
  },
  {
   "cell_type": "code",
   "execution_count": 16,
   "metadata": {
    "scrolled": true
   },
   "outputs": [
    {
     "name": "stderr",
     "output_type": "stream",
     "text": [
      "1 models: 100%|██████████| 10/10 [00:34<00:00,  3.41s/it]\n",
      "2 models: 100%|██████████| 10/10 [00:42<00:00,  4.24s/it]\n",
      "3 models: 100%|██████████| 10/10 [00:52<00:00,  5.21s/it]\n",
      "4 models: 100%|██████████| 10/10 [01:08<00:00,  6.86s/it]\n",
      "5 models: 100%|██████████| 10/10 [01:21<00:00,  8.15s/it]\n",
      "6 models: 100%|██████████| 10/10 [01:38<00:00,  9.89s/it]\n",
      "7 models: 100%|██████████| 10/10 [01:38<00:00,  9.83s/it]\n",
      "8 models: 100%|██████████| 10/10 [01:49<00:00, 10.92s/it]\n",
      "9 models: 100%|██████████| 10/10 [01:55<00:00, 11.56s/it]\n",
      "10 models: 100%|██████████| 10/10 [02:00<00:00, 12.03s/it]\n",
      "11 models: 100%|██████████| 10/10 [02:07<00:00, 12.72s/it]\n",
      "12 models: 100%|██████████| 10/10 [02:25<00:00, 14.58s/it]\n",
      "13 models: 100%|██████████| 10/10 [02:31<00:00, 15.13s/it]\n",
      "14 models: 100%|██████████| 10/10 [02:36<00:00, 15.62s/it]\n",
      "15 models: 100%|██████████| 10/10 [02:56<00:00, 17.60s/it]\n",
      "16 models: 100%|██████████| 10/10 [03:05<00:00, 18.56s/it]\n",
      "17 models: 100%|██████████| 10/10 [03:16<00:00, 19.67s/it]\n",
      "18 models: 100%|██████████| 10/10 [03:18<00:00, 19.84s/it]\n",
      "19 models: 100%|██████████| 10/10 [03:28<00:00, 20.82s/it]\n",
      "20 models: 100%|██████████| 1/1 [00:20<00:00, 20.80s/it]\n"
     ]
    }
   ],
   "source": [
    "bagging_stamps = ['12345',  '24690',  '37035',  '49380',  '61725',  '74070',  '86415',  '98760',  '111105', '123450', \n",
    "                  '135795', '148140', '160485', '172830', '185175', '197520', '209865', '222210', '234555', '246900']\n",
    "\n",
    "scer_bag1_res  = permute_aggregate_performance('saccharomyces_cerevisiae', scer_data, 'scer_bagging_val_data', bagging_stamps, 'bagging',  1, 10, 12345)\n",
    "scer_bag2_res  = permute_aggregate_performance('saccharomyces_cerevisiae', scer_data, 'scer_bagging_val_data', bagging_stamps, 'bagging',  2, 10, 12345)\n",
    "scer_bag3_res  = permute_aggregate_performance('saccharomyces_cerevisiae', scer_data, 'scer_bagging_val_data', bagging_stamps, 'bagging',  3, 10, 12345)\n",
    "scer_bag4_res  = permute_aggregate_performance('saccharomyces_cerevisiae', scer_data, 'scer_bagging_val_data', bagging_stamps, 'bagging',  4, 10, 12345)\n",
    "scer_bag5_res  = permute_aggregate_performance('saccharomyces_cerevisiae', scer_data, 'scer_bagging_val_data', bagging_stamps, 'bagging',  5, 10, 12345)\n",
    "scer_bag6_res  = permute_aggregate_performance('saccharomyces_cerevisiae', scer_data, 'scer_bagging_val_data', bagging_stamps, 'bagging',  6, 10, 12345)\n",
    "scer_bag7_res  = permute_aggregate_performance('saccharomyces_cerevisiae', scer_data, 'scer_bagging_val_data', bagging_stamps, 'bagging',  7, 10, 12345)\n",
    "scer_bag8_res  = permute_aggregate_performance('saccharomyces_cerevisiae', scer_data, 'scer_bagging_val_data', bagging_stamps, 'bagging',  8, 10, 12345)\n",
    "scer_bag9_res  = permute_aggregate_performance('saccharomyces_cerevisiae', scer_data, 'scer_bagging_val_data', bagging_stamps, 'bagging',  9, 10, 12345)\n",
    "scer_bag10_res = permute_aggregate_performance('saccharomyces_cerevisiae', scer_data, 'scer_bagging_val_data', bagging_stamps, 'bagging', 10, 10, 12345)\n",
    "scer_bag11_res = permute_aggregate_performance('saccharomyces_cerevisiae', scer_data, 'scer_bagging_val_data', bagging_stamps, 'bagging', 11, 10, 12345)\n",
    "scer_bag12_res = permute_aggregate_performance('saccharomyces_cerevisiae', scer_data, 'scer_bagging_val_data', bagging_stamps, 'bagging', 12, 10, 12345)\n",
    "scer_bag13_res = permute_aggregate_performance('saccharomyces_cerevisiae', scer_data, 'scer_bagging_val_data', bagging_stamps, 'bagging', 13, 10, 12345)\n",
    "scer_bag14_res = permute_aggregate_performance('saccharomyces_cerevisiae', scer_data, 'scer_bagging_val_data', bagging_stamps, 'bagging', 14, 10, 12345)\n",
    "scer_bag15_res = permute_aggregate_performance('saccharomyces_cerevisiae', scer_data, 'scer_bagging_val_data', bagging_stamps, 'bagging', 15, 10, 12345)\n",
    "scer_bag16_res = permute_aggregate_performance('saccharomyces_cerevisiae', scer_data, 'scer_bagging_val_data', bagging_stamps, 'bagging', 16, 10, 12345)\n",
    "scer_bag17_res = permute_aggregate_performance('saccharomyces_cerevisiae', scer_data, 'scer_bagging_val_data', bagging_stamps, 'bagging', 17, 10, 12345)\n",
    "scer_bag18_res = permute_aggregate_performance('saccharomyces_cerevisiae', scer_data, 'scer_bagging_val_data', bagging_stamps, 'bagging', 18, 10, 12345)\n",
    "scer_bag19_res = permute_aggregate_performance('saccharomyces_cerevisiae', scer_data, 'scer_bagging_val_data', bagging_stamps, 'bagging', 19, 10, 12345)\n",
    "scer_bag20_res = permute_aggregate_performance('saccharomyces_cerevisiae', scer_data, 'scer_bagging_val_data', bagging_stamps, 'bagging', 20, 1,  12345)\n"
   ]
  },
  {
   "cell_type": "code",
   "execution_count": 17,
   "metadata": {},
   "outputs": [],
   "source": [
    "scer_bag_res = pd.concat([scer_bag1_res,  scer_bag2_res,  scer_bag3_res,  scer_bag4_res,  scer_bag5_res, \n",
    "                          scer_bag6_res,  scer_bag7_res,  scer_bag8_res,  scer_bag9_res,  scer_bag10_res,\n",
    "                          scer_bag11_res, scer_bag12_res, scer_bag13_res, scer_bag14_res, scer_bag15_res, \n",
    "                          scer_bag16_res, scer_bag17_res, scer_bag18_res, scer_bag19_res, scer_bag20_res,\n",
    "                         ], ignore_index = True, sort = False)\n",
    "\n",
    "for k,v in scer_config.items():\n",
    "    scer_bag_res[k] = v\n"
   ]
  },
  {
   "cell_type": "markdown",
   "metadata": {},
   "source": [
    "#### Visualize the improvement in performance metrics for various numbers of bagged models"
   ]
  },
  {
   "cell_type": "code",
   "execution_count": 18,
   "metadata": {
    "scrolled": false
   },
   "outputs": [
    {
     "data": {
      "image/png": "[encoded data removed]",
      "text/plain": [
       "<Figure size 237.6x108 with 1 Axes>"
      ]
     },
     "metadata": {
      "needs_background": "light"
     },
     "output_type": "display_data"
    },
    {
     "name": "stdout",
     "output_type": "stream",
     "text": [
      "Classification AUROC:\n",
      "                      mean       std       min       max\n",
      "category                                                \n",
      "bagging_1models   0.986225  0.001767  0.983082  0.987830\n",
      "bagging_2models   0.988257  0.001122  0.985824  0.989231\n",
      "bagging_3models   0.988832  0.000731  0.987490  0.989612\n",
      "bagging_4models   0.989142  0.000657  0.987958  0.990008\n",
      "bagging_5models   0.989336  0.000486  0.988451  0.990131\n",
      "bagging_6models   0.989428  0.000404  0.988787  0.989937\n",
      "bagging_7models   0.989533  0.000299  0.989184  0.990013\n",
      "bagging_8models   0.989527  0.000244  0.989198  0.989953\n",
      "bagging_9models   0.989668  0.000218  0.989432  0.990070\n",
      "bagging_10models  0.989711  0.000224  0.989387  0.990126\n",
      "bagging_11models  0.989760  0.000199  0.989485  0.990050\n",
      "bagging_12models  0.989778  0.000187  0.989570  0.990105\n",
      "bagging_13models  0.989819  0.000188  0.989633  0.990164\n",
      "bagging_14models  0.989868  0.000144  0.989715  0.990096\n",
      "bagging_15models  0.989864  0.000109  0.989670  0.990025\n",
      "bagging_16models  0.989880  0.000114  0.989712  0.990064\n",
      "bagging_17models  0.989898  0.000106  0.989768  0.990081\n",
      "bagging_18models  0.989887  0.000081  0.989792  0.990031\n",
      "bagging_19models  0.989890  0.000058  0.989826  0.990011\n",
      "bagging_20models  0.989892       NaN  0.989892  0.989892\n",
      "Delta AUROC:\n",
      "                      mean       std       min       max\n",
      "category                                                \n",
      "bagging_1models        NaN       NaN       NaN       NaN\n",
      "bagging_2models   0.002032  0.001122 -0.000401  0.003006\n",
      "bagging_3models   0.000575  0.000731 -0.000767  0.001355\n",
      "bagging_4models   0.000310  0.000657 -0.000874  0.001177\n",
      "bagging_5models   0.000195  0.000486 -0.000691  0.000989\n",
      "bagging_6models   0.000092  0.000404 -0.000549  0.000600\n",
      "bagging_7models   0.000105  0.000299 -0.000245  0.000585\n",
      "bagging_8models  -0.000006  0.000244 -0.000335  0.000420\n",
      "bagging_9models   0.000141  0.000218 -0.000095  0.000543\n",
      "bagging_10models  0.000043  0.000224 -0.000281  0.000458\n",
      "bagging_11models  0.000049  0.000199 -0.000225  0.000340\n",
      "bagging_12models  0.000019  0.000187 -0.000190  0.000345\n",
      "bagging_13models  0.000040  0.000188 -0.000145  0.000386\n",
      "bagging_14models  0.000049  0.000144 -0.000104  0.000277\n",
      "bagging_15models -0.000004  0.000109 -0.000198  0.000157\n",
      "bagging_16models  0.000017  0.000114 -0.000152  0.000201\n",
      "bagging_17models  0.000018  0.000106 -0.000112  0.000200\n",
      "bagging_18models -0.000011  0.000081 -0.000106  0.000133\n",
      "bagging_19models  0.000003  0.000058 -0.000061  0.000124\n",
      "bagging_20models  0.000002       NaN  0.000002  0.000002\n"
     ]
    },
    {
     "data": {
      "image/png": "[encoded data removed]",
      "text/plain": [
       "<Figure size 237.6x108 with 1 Axes>"
      ]
     },
     "metadata": {
      "needs_background": "light"
     },
     "output_type": "display_data"
    },
    {
     "name": "stdout",
     "output_type": "stream",
     "text": [
      "Classification AUPRC:\n",
      "                      mean       std       min       max\n",
      "category                                                \n",
      "bagging_1models   0.987141  0.001460  0.984507  0.988589\n",
      "bagging_2models   0.989074  0.000922  0.986942  0.989863\n",
      "bagging_3models   0.989632  0.000570  0.988461  0.990164\n",
      "bagging_4models   0.989945  0.000548  0.989029  0.990685\n",
      "bagging_5models   0.990132  0.000408  0.989402  0.990785\n",
      "bagging_6models   0.990222  0.000322  0.989727  0.990669\n",
      "bagging_7models   0.990325  0.000247  0.990034  0.990751\n",
      "bagging_8models   0.990328  0.000191  0.990080  0.990703\n",
      "bagging_9models   0.990452  0.000172  0.990288  0.990798\n",
      "bagging_10models  0.990491  0.000174  0.990256  0.990851\n",
      "bagging_11models  0.990540  0.000153  0.990338  0.990801\n",
      "bagging_12models  0.990565  0.000152  0.990393  0.990853\n",
      "bagging_13models  0.990601  0.000155  0.990434  0.990907\n",
      "bagging_14models  0.990647  0.000118  0.990510  0.990838\n",
      "bagging_15models  0.990651  0.000091  0.990470  0.990783\n",
      "bagging_16models  0.990664  0.000097  0.990517  0.990823\n",
      "bagging_17models  0.990683  0.000090  0.990570  0.990836\n",
      "bagging_18models  0.990674  0.000069  0.990589  0.990787\n",
      "bagging_19models  0.990680  0.000047  0.990627  0.990771\n",
      "bagging_20models  0.990682       NaN  0.990682  0.990682\n",
      "Delta AUPRC:\n",
      "                      mean       std       min       max\n",
      "category                                                \n",
      "bagging_1models        NaN       NaN       NaN       NaN\n",
      "bagging_2models   0.001933  0.000922 -0.000199  0.002721\n",
      "bagging_3models   0.000558  0.000570 -0.000613  0.001090\n",
      "bagging_4models   0.000313  0.000548 -0.000603  0.001053\n",
      "bagging_5models   0.000187  0.000408 -0.000542  0.000840\n",
      "bagging_6models   0.000090  0.000322 -0.000405  0.000537\n",
      "bagging_7models   0.000103  0.000247 -0.000187  0.000529\n",
      "bagging_8models   0.000004  0.000191 -0.000245  0.000378\n",
      "bagging_9models   0.000124  0.000172 -0.000040  0.000470\n",
      "bagging_10models  0.000039  0.000174 -0.000196  0.000399\n",
      "bagging_11models  0.000049  0.000153 -0.000153  0.000310\n",
      "bagging_12models  0.000025  0.000152 -0.000148  0.000313\n",
      "bagging_13models  0.000037  0.000155 -0.000130  0.000342\n",
      "bagging_14models  0.000045  0.000118 -0.000091  0.000236\n",
      "bagging_15models  0.000004  0.000091 -0.000177  0.000136\n",
      "bagging_16models  0.000014  0.000097 -0.000134  0.000173\n",
      "bagging_17models  0.000018  0.000090 -0.000094  0.000172\n",
      "bagging_18models -0.000009  0.000069 -0.000094  0.000104\n",
      "bagging_19models  0.000006  0.000047 -0.000047  0.000097\n",
      "bagging_20models  0.000002       NaN  0.000002  0.000002\n"
     ]
    }
   ],
   "source": [
    "visualize_parameter_deltas('saccharomyces_cerevisiae', 'polyaclassifier_bagging_test', scer_bag_res, scer_config, \n",
    "                            'category', 'bagging_3models', [f'bagging_{n}models' for n in range(1,21)], 'mean',\n",
    "                            replicates = None, rotate_labels = True,\n",
    "                            ylim = (-0.001,0.004), ytickint = 0.001, show_data = True)\n"
   ]
  },
  {
   "cell_type": "markdown",
   "metadata": {},
   "source": [
    "#### Examine the stability of bagged model predictions when different models are selected for \"bagging\""
   ]
  },
  {
   "cell_type": "code",
   "execution_count": 19,
   "metadata": {},
   "outputs": [
    {
     "name": "stderr",
     "output_type": "stream",
     "text": [
      "3 models: 100%|██████████| 50/50 [04:17<00:00,  5.15s/it]\n"
     ]
    }
   ],
   "source": [
    "scer_bag_sample = permute_aggregate_performance('saccharomyces_cerevisiae', scer_data, 'scer_bagging_val_data', bagging_stamps, 'bagging',  3, 50, 12345)\n"
   ]
  },
  {
   "cell_type": "code",
   "execution_count": 20,
   "metadata": {},
   "outputs": [
    {
     "data": {
      "image/png": "[encoded data removed]",
      "text/plain": [
       "<Figure size 432x144 with 2 Axes>"
      ]
     },
     "metadata": {
      "needs_background": "light"
     },
     "output_type": "display_data"
    }
   ],
   "source": [
    "fig,ax = plt.subplots(1,2, figsize = (6,2), sharey = True, gridspec_kw = {'width_ratios': [1,5]})\n",
    "\n",
    "sns.stripplot(data = scer_bag_res.loc[scer_bag_res['category'] == 'bagging_3models'], x = 'category', y = 'classification_AUROC', color = 'black', ax = ax[0])\n",
    "sns.stripplot(data = scer_bag_sample, x = 'iteration', y = 'classification_AUROC', color = 'black', ax = ax[1])\n",
    "\n",
    "plt.show()\n"
   ]
  },
  {
   "cell_type": "code",
   "execution_count": 21,
   "metadata": {},
   "outputs": [
    {
     "name": "stdout",
     "output_type": "stream",
     "text": [
      "AUROC: 0.9897669729333323\n",
      "AUPRC: 0.9904184048271693\n",
      "Model stamps: ['20240422-094557', '20240422-094624', '20240422-094653']\n"
     ]
    }
   ],
   "source": [
    "scer_best_combo = scer_bag_sample.sort_values('classification_AUROC', ascending = False).iloc[0]\n",
    "\n",
    "print(\"AUROC:\", scer_best_combo['classification_AUROC'])\n",
    "print(\"AUPRC:\", scer_best_combo['classification_AUPRC'])\n",
    "print(\"Model stamps:\", sorted(scer_best_combo['model_stamps'].tolist()))\n"
   ]
  },
  {
   "cell_type": "markdown",
   "metadata": {},
   "source": [
    "### *S. pombe*"
   ]
  },
  {
   "cell_type": "code",
   "execution_count": 22,
   "metadata": {},
   "outputs": [],
   "source": [
    "spom_config = {\n",
    "    'genomic_As'    : 'redistA',\n",
    "    'architecture'  : 'classification1',\n",
    "    'sequence_size' : 500,\n",
    "    'conv_units'    : 512,\n",
    "    'lstm_units'    : 16,\n",
    "    'conv_shape'    : 6,\n",
    "    'bin_dropout'   : 0.5,\n",
    "    'learning_rate' : 0.001,\n",
    "}\n"
   ]
  },
  {
   "cell_type": "code",
   "execution_count": 23,
   "metadata": {},
   "outputs": [
    {
     "name": "stdout",
     "output_type": "stream",
     "text": [
      "(20, 22)\n"
     ]
    }
   ],
   "source": [
    "spom_data = pd.read_csv(os.path.join(RESOURCES, 'polyaclassifier_replicate_summary.schizosaccharomyces_pombe.txt'), sep = \"\\t\")\n",
    "spom_data = spom_data.loc[spom_data.apply(lambda row : compare_configuration(row, spom_config), axis = 1) & (spom_data['modeltype'] == 'special_bagging')]\n",
    "spom_data['category'] = 'bagging'\n",
    "print(spom_data.shape)\n"
   ]
  },
  {
   "cell_type": "markdown",
   "metadata": {},
   "source": [
    "#### Calculate the performance of the \"bagged\" model using the average of multiple predictions"
   ]
  },
  {
   "cell_type": "code",
   "execution_count": 24,
   "metadata": {
    "scrolled": false
   },
   "outputs": [
    {
     "name": "stderr",
     "output_type": "stream",
     "text": [
      "1 models: 100%|██████████| 10/10 [00:15<00:00,  1.54s/it]\n",
      "2 models: 100%|██████████| 10/10 [00:15<00:00,  1.56s/it]\n",
      "3 models: 100%|██████████| 10/10 [00:14<00:00,  1.48s/it]\n",
      "4 models: 100%|██████████| 10/10 [00:15<00:00,  1.56s/it]\n",
      "5 models: 100%|██████████| 10/10 [00:17<00:00,  1.73s/it]\n",
      "6 models: 100%|██████████| 10/10 [00:18<00:00,  1.81s/it]\n",
      "7 models: 100%|██████████| 10/10 [00:20<00:00,  2.04s/it]\n",
      "8 models: 100%|██████████| 10/10 [00:22<00:00,  2.25s/it]\n",
      "9 models: 100%|██████████| 10/10 [00:24<00:00,  2.47s/it]\n",
      "10 models: 100%|██████████| 10/10 [00:27<00:00,  2.79s/it]\n",
      "11 models: 100%|██████████| 10/10 [00:29<00:00,  2.93s/it]\n",
      "12 models: 100%|██████████| 10/10 [00:30<00:00,  3.06s/it]\n",
      "13 models: 100%|██████████| 10/10 [00:32<00:00,  3.28s/it]\n",
      "14 models: 100%|██████████| 10/10 [00:35<00:00,  3.50s/it]\n",
      "15 models: 100%|██████████| 10/10 [00:38<00:00,  3.85s/it]\n",
      "16 models: 100%|██████████| 10/10 [00:40<00:00,  4.03s/it]\n",
      "17 models: 100%|██████████| 10/10 [00:41<00:00,  4.15s/it]\n",
      "18 models: 100%|██████████| 10/10 [00:44<00:00,  4.42s/it]\n",
      "19 models: 100%|██████████| 10/10 [00:45<00:00,  4.59s/it]\n",
      "20 models: 100%|██████████| 1/1 [00:04<00:00,  4.91s/it]\n"
     ]
    }
   ],
   "source": [
    "bagging_stamps = ['12345',  '24690',  '37035',  '49380',  '61725',  '74070',  '86415',  '98760',  '111105', '123450', \n",
    "                  '135795', '148140', '160485', '172830', '185175', '197520', '209865', '222210', '234555', '246900']\n",
    "\n",
    "spom_bag1_res  = permute_aggregate_performance('schizosaccharomyces_pombe', spom_data, 'spom_bagging_val_data', bagging_stamps, 'bagging',  1, 10, 12345)\n",
    "spom_bag2_res  = permute_aggregate_performance('schizosaccharomyces_pombe', spom_data, 'spom_bagging_val_data', bagging_stamps, 'bagging',  2, 10, 12345)\n",
    "spom_bag3_res  = permute_aggregate_performance('schizosaccharomyces_pombe', spom_data, 'spom_bagging_val_data', bagging_stamps, 'bagging',  3, 10, 12345)\n",
    "spom_bag4_res  = permute_aggregate_performance('schizosaccharomyces_pombe', spom_data, 'spom_bagging_val_data', bagging_stamps, 'bagging',  4, 10, 12345)\n",
    "spom_bag5_res  = permute_aggregate_performance('schizosaccharomyces_pombe', spom_data, 'spom_bagging_val_data', bagging_stamps, 'bagging',  5, 10, 12345)\n",
    "spom_bag6_res  = permute_aggregate_performance('schizosaccharomyces_pombe', spom_data, 'spom_bagging_val_data', bagging_stamps, 'bagging',  6, 10, 12345)\n",
    "spom_bag7_res  = permute_aggregate_performance('schizosaccharomyces_pombe', spom_data, 'spom_bagging_val_data', bagging_stamps, 'bagging',  7, 10, 12345)\n",
    "spom_bag8_res  = permute_aggregate_performance('schizosaccharomyces_pombe', spom_data, 'spom_bagging_val_data', bagging_stamps, 'bagging',  8, 10, 12345)\n",
    "spom_bag9_res  = permute_aggregate_performance('schizosaccharomyces_pombe', spom_data, 'spom_bagging_val_data', bagging_stamps, 'bagging',  9, 10, 12345)\n",
    "spom_bag10_res = permute_aggregate_performance('schizosaccharomyces_pombe', spom_data, 'spom_bagging_val_data', bagging_stamps, 'bagging', 10, 10, 12345)\n",
    "spom_bag11_res = permute_aggregate_performance('schizosaccharomyces_pombe', spom_data, 'spom_bagging_val_data', bagging_stamps, 'bagging', 11, 10, 12345)\n",
    "spom_bag12_res = permute_aggregate_performance('schizosaccharomyces_pombe', spom_data, 'spom_bagging_val_data', bagging_stamps, 'bagging', 12, 10, 12345)\n",
    "spom_bag13_res = permute_aggregate_performance('schizosaccharomyces_pombe', spom_data, 'spom_bagging_val_data', bagging_stamps, 'bagging', 13, 10, 12345)\n",
    "spom_bag14_res = permute_aggregate_performance('schizosaccharomyces_pombe', spom_data, 'spom_bagging_val_data', bagging_stamps, 'bagging', 14, 10, 12345)\n",
    "spom_bag15_res = permute_aggregate_performance('schizosaccharomyces_pombe', spom_data, 'spom_bagging_val_data', bagging_stamps, 'bagging', 15, 10, 12345)\n",
    "spom_bag16_res = permute_aggregate_performance('schizosaccharomyces_pombe', spom_data, 'spom_bagging_val_data', bagging_stamps, 'bagging', 16, 10, 12345)\n",
    "spom_bag17_res = permute_aggregate_performance('schizosaccharomyces_pombe', spom_data, 'spom_bagging_val_data', bagging_stamps, 'bagging', 17, 10, 12345)\n",
    "spom_bag18_res = permute_aggregate_performance('schizosaccharomyces_pombe', spom_data, 'spom_bagging_val_data', bagging_stamps, 'bagging', 18, 10, 12345)\n",
    "spom_bag19_res = permute_aggregate_performance('schizosaccharomyces_pombe', spom_data, 'spom_bagging_val_data', bagging_stamps, 'bagging', 19, 10, 12345)\n",
    "spom_bag20_res = permute_aggregate_performance('schizosaccharomyces_pombe', spom_data, 'spom_bagging_val_data', bagging_stamps, 'bagging', 20, 1,  12345)\n"
   ]
  },
  {
   "cell_type": "code",
   "execution_count": 25,
   "metadata": {},
   "outputs": [],
   "source": [
    "spom_bag_res = pd.concat([spom_bag1_res,  spom_bag2_res,  spom_bag3_res,  spom_bag4_res,  spom_bag5_res, \n",
    "                          spom_bag6_res,  spom_bag7_res,  spom_bag8_res,  spom_bag9_res,  spom_bag10_res,\n",
    "                          spom_bag11_res, spom_bag12_res, spom_bag13_res, spom_bag14_res, spom_bag15_res, \n",
    "                          spom_bag16_res, spom_bag17_res, spom_bag18_res, spom_bag19_res, spom_bag20_res,\n",
    "                         ], ignore_index = True, sort = False)\n",
    "\n",
    "for k,v in spom_config.items():\n",
    "    spom_bag_res[k] = v\n"
   ]
  },
  {
   "cell_type": "markdown",
   "metadata": {},
   "source": [
    "#### Visualize the improvement in performance metrics for various numbers of bagged models"
   ]
  },
  {
   "cell_type": "code",
   "execution_count": 26,
   "metadata": {
    "scrolled": false
   },
   "outputs": [
    {
     "data": {
      "image/png": "[encoded data removed]",
      "text/plain": [
       "<Figure size 237.6x108 with 1 Axes>"
      ]
     },
     "metadata": {
      "needs_background": "light"
     },
     "output_type": "display_data"
    },
    {
     "name": "stdout",
     "output_type": "stream",
     "text": [
      "Classification AUROC:\n",
      "                      mean       std       min       max\n",
      "category                                                \n",
      "bagging_1models   0.980751  0.000970  0.978889  0.982562\n",
      "bagging_2models   0.982488  0.001405  0.979159  0.984047\n",
      "bagging_3models   0.983438  0.001011  0.981162  0.984849\n",
      "bagging_4models   0.983841  0.000926  0.981932  0.985126\n",
      "bagging_5models   0.984246  0.000669  0.982929  0.985276\n",
      "bagging_6models   0.984317  0.000685  0.983148  0.985333\n",
      "bagging_7models   0.984383  0.000491  0.983545  0.985191\n",
      "bagging_8models   0.984426  0.000349  0.983866  0.984795\n",
      "bagging_9models   0.984536  0.000320  0.983980  0.984914\n",
      "bagging_10models  0.984568  0.000356  0.984026  0.984984\n",
      "bagging_11models  0.984661  0.000362  0.984209  0.985156\n",
      "bagging_12models  0.984721  0.000293  0.984353  0.985205\n",
      "bagging_13models  0.984647  0.000324  0.984146  0.985119\n",
      "bagging_14models  0.984618  0.000322  0.984217  0.985042\n",
      "bagging_15models  0.984626  0.000271  0.984221  0.985050\n",
      "bagging_16models  0.984563  0.000129  0.984319  0.984736\n",
      "bagging_17models  0.984556  0.000174  0.984305  0.984817\n",
      "bagging_18models  0.984526  0.000137  0.984373  0.984849\n",
      "bagging_19models  0.984584  0.000076  0.984473  0.984741\n",
      "bagging_20models  0.984601       NaN  0.984601  0.984601\n",
      "Delta AUROC:\n",
      "                      mean       std       min       max\n",
      "category                                                \n",
      "bagging_1models        NaN       NaN       NaN       NaN\n",
      "bagging_2models   0.001737  0.001405 -0.001591  0.003296\n",
      "bagging_3models   0.000950  0.001011 -0.001326  0.002361\n",
      "bagging_4models   0.000403  0.000926 -0.001506  0.001689\n",
      "bagging_5models   0.000405  0.000669 -0.000912  0.001435\n",
      "bagging_6models   0.000071  0.000685 -0.001099  0.001087\n",
      "bagging_7models   0.000066  0.000491 -0.000772  0.000874\n",
      "bagging_8models   0.000043  0.000349 -0.000517  0.000412\n",
      "bagging_9models   0.000110  0.000320 -0.000447  0.000487\n",
      "bagging_10models  0.000032  0.000356 -0.000511  0.000448\n",
      "bagging_11models  0.000092  0.000362 -0.000360  0.000587\n",
      "bagging_12models  0.000060  0.000293 -0.000308  0.000544\n",
      "bagging_13models -0.000074  0.000324 -0.000575  0.000398\n",
      "bagging_14models -0.000029  0.000322 -0.000430  0.000395\n",
      "bagging_15models  0.000008  0.000271 -0.000397  0.000432\n",
      "bagging_16models -0.000063  0.000129 -0.000307  0.000110\n",
      "bagging_17models -0.000008  0.000174 -0.000258  0.000254\n",
      "bagging_18models -0.000030  0.000137 -0.000182  0.000293\n",
      "bagging_19models  0.000058  0.000076 -0.000054  0.000214\n",
      "bagging_20models  0.000017       NaN  0.000017  0.000017\n"
     ]
    },
    {
     "data": {
      "image/png": "[encoded data removed]",
      "text/plain": [
       "<Figure size 237.6x108 with 1 Axes>"
      ]
     },
     "metadata": {
      "needs_background": "light"
     },
     "output_type": "display_data"
    },
    {
     "name": "stdout",
     "output_type": "stream",
     "text": [
      "Classification AUPRC:\n",
      "                      mean       std       min       max\n",
      "category                                                \n",
      "bagging_1models   0.980531  0.000811  0.979192  0.981905\n",
      "bagging_2models   0.982543  0.001308  0.979560  0.984128\n",
      "bagging_3models   0.983646  0.001000  0.981643  0.985200\n",
      "bagging_4models   0.984088  0.000913  0.982161  0.985445\n",
      "bagging_5models   0.984550  0.000676  0.983214  0.985611\n",
      "bagging_6models   0.984620  0.000708  0.983362  0.985645\n",
      "bagging_7models   0.984699  0.000539  0.983792  0.985587\n",
      "bagging_8models   0.984763  0.000359  0.984099  0.985181\n",
      "bagging_9models   0.984905  0.000368  0.984185  0.985321\n",
      "bagging_10models  0.984951  0.000382  0.984311  0.985378\n",
      "bagging_11models  0.985041  0.000370  0.984518  0.985563\n",
      "bagging_12models  0.985099  0.000308  0.984752  0.985621\n",
      "bagging_13models  0.985041  0.000344  0.984456  0.985502\n",
      "bagging_14models  0.985026  0.000327  0.984591  0.985436\n",
      "bagging_15models  0.985055  0.000289  0.984577  0.985492\n",
      "bagging_16models  0.984995  0.000156  0.984685  0.985206\n",
      "bagging_17models  0.984995  0.000208  0.984704  0.985311\n",
      "bagging_18models  0.984976  0.000155  0.984761  0.985329\n",
      "bagging_19models  0.985039  0.000097  0.984885  0.985230\n",
      "bagging_20models  0.985061       NaN  0.985061  0.985061\n",
      "Delta AUPRC:\n",
      "                          mean       std       min       max\n",
      "category                                                    \n",
      "bagging_1models            NaN       NaN       NaN       NaN\n",
      "bagging_2models   2.011686e-03  0.001308 -0.000971  0.003597\n",
      "bagging_3models   1.103193e-03  0.001000 -0.000900  0.002657\n",
      "bagging_4models   4.423164e-04  0.000913 -0.001485  0.001799\n",
      "bagging_5models   4.615988e-04  0.000676 -0.000875  0.001522\n",
      "bagging_6models   6.997315e-05  0.000708 -0.001188  0.001095\n",
      "bagging_7models   7.906781e-05  0.000539 -0.000828  0.000966\n",
      "bagging_8models   6.417342e-05  0.000359 -0.000600  0.000482\n",
      "bagging_9models   1.418644e-04  0.000368 -0.000578  0.000558\n",
      "bagging_10models  4.619989e-05  0.000382 -0.000594  0.000473\n",
      "bagging_11models  9.004945e-05  0.000370 -0.000434  0.000612\n",
      "bagging_12models  5.726925e-05  0.000308 -0.000290  0.000579\n",
      "bagging_13models -5.788839e-05  0.000344 -0.000643  0.000403\n",
      "bagging_14models -1.433470e-05  0.000327 -0.000450  0.000395\n",
      "bagging_15models  2.828238e-05  0.000289 -0.000449  0.000466\n",
      "bagging_16models -5.980268e-05  0.000156 -0.000370  0.000151\n",
      "bagging_17models -1.254161e-09  0.000208 -0.000291  0.000316\n",
      "bagging_18models -1.848501e-05  0.000155 -0.000234  0.000334\n",
      "bagging_19models  6.221483e-05  0.000097 -0.000091  0.000253\n",
      "bagging_20models  2.271651e-05       NaN  0.000023  0.000023\n"
     ]
    }
   ],
   "source": [
    "visualize_parameter_deltas('schizosaccharomyces_pombe', 'polyaclassifier_bagging_test', spom_bag_res, spom_config, \n",
    "                            'category', 'bagging_3models', [f'bagging_{n}models' for n in range(1,21)], 'mean',\n",
    "                            replicates = None, rotate_labels = True,\n",
    "                            ylim = (-0.001,0.004), ytickint = 0.001, show_data = True)\n"
   ]
  },
  {
   "cell_type": "markdown",
   "metadata": {},
   "source": [
    "#### Examine the stability of bagged model predictions when different models are selected for \"bagging\""
   ]
  },
  {
   "cell_type": "code",
   "execution_count": 27,
   "metadata": {},
   "outputs": [
    {
     "name": "stderr",
     "output_type": "stream",
     "text": [
      "3 models: 100%|██████████| 50/50 [00:54<00:00,  1.09s/it]\n"
     ]
    }
   ],
   "source": [
    "spom_bag_samples = permute_aggregate_performance('schizosaccharomyces_cerevisiae', spom_data, 'spom_bagging_val_data', bagging_stamps, 'bagging',  3, 50, 12345)\n"
   ]
  },
  {
   "cell_type": "code",
   "execution_count": 28,
   "metadata": {},
   "outputs": [
    {
     "data": {
      "image/png": "[encoded data removed]",
      "text/plain": [
       "<Figure size 432x144 with 2 Axes>"
      ]
     },
     "metadata": {
      "needs_background": "light"
     },
     "output_type": "display_data"
    }
   ],
   "source": [
    "fig,ax = plt.subplots(1,2, figsize = (6,2), sharey = True, gridspec_kw = {'width_ratios': [1,5]})\n",
    "\n",
    "sns.stripplot(data = spom_bag_res.loc[spom_bag_res['category'] == 'bagging_3models'], x = 'category', y = 'classification_AUROC', color = 'black', ax = ax[0])\n",
    "sns.stripplot(data = spom_bag_samples, x = 'iteration', y = 'classification_AUROC', color = 'black', ax = ax[1])\n",
    "\n",
    "plt.show()\n"
   ]
  },
  {
   "cell_type": "code",
   "execution_count": 29,
   "metadata": {},
   "outputs": [
    {
     "name": "stdout",
     "output_type": "stream",
     "text": [
      "AUROC: 0.9848485817358208\n",
      "AUPRC: 0.985199798356565\n",
      "Model stamps: ['20240422-094802', '20240422-094812', '20240422-094843']\n"
     ]
    }
   ],
   "source": [
    "spom_best_combo = spom_bag_samples.sort_values('classification_AUROC', ascending = False).iloc[0]\n",
    "\n",
    "print(\"AUROC:\", spom_best_combo['classification_AUROC'])\n",
    "print(\"AUPRC:\", spom_best_combo['classification_AUPRC'])\n",
    "print(\"Model stamps:\", sorted(spom_best_combo['model_stamps'].tolist()))\n"
   ]
  },
  {
   "cell_type": "markdown",
   "metadata": {},
   "source": [
    "### *A. thaliana*"
   ]
  },
  {
   "cell_type": "code",
   "execution_count": 30,
   "metadata": {},
   "outputs": [],
   "source": [
    "atha_config = {\n",
    "    'genomic_As'    : 'redistA',\n",
    "    'architecture'  : 'classification2',\n",
    "    'sequence_size' : 500,\n",
    "    'conv_units'    : 512,\n",
    "    'lstm_units'    : 16,\n",
    "    'conv_shape'    : 10,\n",
    "    'bin_dropout'   : 0.5,\n",
    "    'learning_rate' : 0.001,\n",
    "}\n"
   ]
  },
  {
   "cell_type": "code",
   "execution_count": 31,
   "metadata": {},
   "outputs": [
    {
     "name": "stdout",
     "output_type": "stream",
     "text": [
      "(20, 22)\n"
     ]
    }
   ],
   "source": [
    "atha_data = pd.read_csv(os.path.join(RESOURCES, 'polyaclassifier_replicate_summary.arabidopsis_thaliana.txt'), sep = \"\\t\")\n",
    "atha_data = atha_data.loc[atha_data.apply(lambda row : compare_configuration(row, atha_config), axis = 1) & (atha_data['modeltype'] == 'special_bagging')]\n",
    "atha_data['category'] = 'bagging'\n",
    "print(atha_data.shape)\n"
   ]
  },
  {
   "cell_type": "markdown",
   "metadata": {},
   "source": [
    "#### Calculate the performance of the \"bagged\" model using the average of multiple predictions"
   ]
  },
  {
   "cell_type": "code",
   "execution_count": 32,
   "metadata": {
    "scrolled": false
   },
   "outputs": [
    {
     "name": "stderr",
     "output_type": "stream",
     "text": [
      "1 models: 100%|██████████| 10/10 [00:37<00:00,  3.70s/it]\n",
      "2 models: 100%|██████████| 10/10 [00:55<00:00,  5.56s/it]\n",
      "3 models: 100%|██████████| 10/10 [01:03<00:00,  6.36s/it]\n",
      "4 models: 100%|██████████| 10/10 [01:16<00:00,  7.65s/it]\n",
      "5 models: 100%|██████████| 10/10 [01:31<00:00,  9.11s/it]\n",
      "6 models: 100%|██████████| 10/10 [01:47<00:00, 10.75s/it]\n",
      "7 models: 100%|██████████| 10/10 [01:53<00:00, 11.36s/it]\n",
      "8 models: 100%|██████████| 10/10 [02:05<00:00, 12.58s/it]\n",
      "9 models: 100%|██████████| 10/10 [02:14<00:00, 13.48s/it]\n",
      "10 models: 100%|██████████| 10/10 [02:31<00:00, 15.17s/it]\n",
      "11 models: 100%|██████████| 10/10 [02:38<00:00, 15.83s/it]\n",
      "12 models: 100%|██████████| 10/10 [02:54<00:00, 17.43s/it]\n",
      "13 models: 100%|██████████| 10/10 [03:00<00:00, 18.01s/it]\n",
      "14 models: 100%|██████████| 10/10 [03:06<00:00, 18.62s/it]\n",
      "15 models: 100%|██████████| 10/10 [03:17<00:00, 19.76s/it]\n",
      "16 models: 100%|██████████| 10/10 [03:23<00:00, 20.33s/it]\n",
      "17 models: 100%|██████████| 10/10 [03:43<00:00, 22.34s/it]\n",
      "18 models: 100%|██████████| 10/10 [03:48<00:00, 22.89s/it]\n",
      "19 models: 100%|██████████| 10/10 [04:02<00:00, 24.23s/it]\n",
      "20 models: 100%|██████████| 1/1 [00:30<00:00, 30.54s/it]\n"
     ]
    }
   ],
   "source": [
    "bagging_stamps = ['12345',  '24690',  '37035',  '49380',  '61725',  '74070',  '86415',  '98760',  '111105', '123450', \n",
    "                  '135795', '148140', '160485', '172830', '185175', '197520', '209865', '222210', '234555', '246900']\n",
    "\n",
    "atha_bag1_res  = permute_aggregate_performance('arabidopsis_thaliana', atha_data, 'atha_bagging_val_data', bagging_stamps, 'bagging',  1, 10, 12345)\n",
    "atha_bag2_res  = permute_aggregate_performance('arabidopsis_thaliana', atha_data, 'atha_bagging_val_data', bagging_stamps, 'bagging',  2, 10, 12345)\n",
    "atha_bag3_res  = permute_aggregate_performance('arabidopsis_thaliana', atha_data, 'atha_bagging_val_data', bagging_stamps, 'bagging',  3, 10, 12345)\n",
    "atha_bag4_res  = permute_aggregate_performance('arabidopsis_thaliana', atha_data, 'atha_bagging_val_data', bagging_stamps, 'bagging',  4, 10, 12345)\n",
    "atha_bag5_res  = permute_aggregate_performance('arabidopsis_thaliana', atha_data, 'atha_bagging_val_data', bagging_stamps, 'bagging',  5, 10, 12345)\n",
    "atha_bag6_res  = permute_aggregate_performance('arabidopsis_thaliana', atha_data, 'atha_bagging_val_data', bagging_stamps, 'bagging',  6, 10, 12345)\n",
    "atha_bag7_res  = permute_aggregate_performance('arabidopsis_thaliana', atha_data, 'atha_bagging_val_data', bagging_stamps, 'bagging',  7, 10, 12345)\n",
    "atha_bag8_res  = permute_aggregate_performance('arabidopsis_thaliana', atha_data, 'atha_bagging_val_data', bagging_stamps, 'bagging',  8, 10, 12345)\n",
    "atha_bag9_res  = permute_aggregate_performance('arabidopsis_thaliana', atha_data, 'atha_bagging_val_data', bagging_stamps, 'bagging',  9, 10, 12345)\n",
    "atha_bag10_res = permute_aggregate_performance('arabidopsis_thaliana', atha_data, 'atha_bagging_val_data', bagging_stamps, 'bagging', 10, 10, 12345)\n",
    "atha_bag11_res = permute_aggregate_performance('arabidopsis_thaliana', atha_data, 'atha_bagging_val_data', bagging_stamps, 'bagging', 11, 10, 12345)\n",
    "atha_bag12_res = permute_aggregate_performance('arabidopsis_thaliana', atha_data, 'atha_bagging_val_data', bagging_stamps, 'bagging', 12, 10, 12345)\n",
    "atha_bag13_res = permute_aggregate_performance('arabidopsis_thaliana', atha_data, 'atha_bagging_val_data', bagging_stamps, 'bagging', 13, 10, 12345)\n",
    "atha_bag14_res = permute_aggregate_performance('arabidopsis_thaliana', atha_data, 'atha_bagging_val_data', bagging_stamps, 'bagging', 14, 10, 12345)\n",
    "atha_bag15_res = permute_aggregate_performance('arabidopsis_thaliana', atha_data, 'atha_bagging_val_data', bagging_stamps, 'bagging', 15, 10, 12345)\n",
    "atha_bag16_res = permute_aggregate_performance('arabidopsis_thaliana', atha_data, 'atha_bagging_val_data', bagging_stamps, 'bagging', 16, 10, 12345)\n",
    "atha_bag17_res = permute_aggregate_performance('arabidopsis_thaliana', atha_data, 'atha_bagging_val_data', bagging_stamps, 'bagging', 17, 10, 12345)\n",
    "atha_bag18_res = permute_aggregate_performance('arabidopsis_thaliana', atha_data, 'atha_bagging_val_data', bagging_stamps, 'bagging', 18, 10, 12345)\n",
    "atha_bag19_res = permute_aggregate_performance('arabidopsis_thaliana', atha_data, 'atha_bagging_val_data', bagging_stamps, 'bagging', 19, 10, 12345)\n",
    "atha_bag20_res = permute_aggregate_performance('arabidopsis_thaliana', atha_data, 'atha_bagging_val_data', bagging_stamps, 'bagging', 20, 1,  12345)\n"
   ]
  },
  {
   "cell_type": "code",
   "execution_count": 33,
   "metadata": {},
   "outputs": [],
   "source": [
    "atha_bag_res = pd.concat([atha_bag1_res,  atha_bag2_res,  atha_bag3_res,  atha_bag4_res,  atha_bag5_res, \n",
    "                          atha_bag6_res,  atha_bag7_res,  atha_bag8_res,  atha_bag9_res,  atha_bag10_res,\n",
    "                          atha_bag11_res, atha_bag12_res, atha_bag13_res, atha_bag14_res, atha_bag15_res, \n",
    "                          atha_bag16_res, atha_bag17_res, atha_bag18_res, atha_bag19_res, atha_bag20_res,\n",
    "                         ], ignore_index = True, sort = False)\n",
    "\n",
    "for k,v in atha_config.items():\n",
    "    atha_bag_res[k] = v\n"
   ]
  },
  {
   "cell_type": "markdown",
   "metadata": {},
   "source": [
    "#### Visualize the improvement in performance metrics for various numbers of bagged models"
   ]
  },
  {
   "cell_type": "code",
   "execution_count": 34,
   "metadata": {
    "scrolled": false
   },
   "outputs": [
    {
     "data": {
      "image/png": "[encoded data removed]",
      "text/plain": [
       "<Figure size 237.6x108 with 1 Axes>"
      ]
     },
     "metadata": {
      "needs_background": "light"
     },
     "output_type": "display_data"
    },
    {
     "name": "stdout",
     "output_type": "stream",
     "text": [
      "Classification AUROC:\n",
      "                      mean       std       min       max\n",
      "category                                                \n",
      "bagging_1models   0.992822  0.000492  0.992109  0.993355\n",
      "bagging_2models   0.994001  0.000231  0.993663  0.994345\n",
      "bagging_3models   0.994315  0.000189  0.993943  0.994644\n",
      "bagging_4models   0.994484  0.000222  0.994035  0.994797\n",
      "bagging_5models   0.994585  0.000179  0.994294  0.994858\n",
      "bagging_6models   0.994642  0.000175  0.994425  0.994949\n",
      "bagging_7models   0.994714  0.000199  0.994427  0.995031\n",
      "bagging_8models   0.994742  0.000192  0.994408  0.995074\n",
      "bagging_9models   0.994723  0.000170  0.994430  0.994963\n",
      "bagging_10models  0.994726  0.000180  0.994385  0.994985\n",
      "bagging_11models  0.994734  0.000148  0.994458  0.994923\n",
      "bagging_12models  0.994768  0.000136  0.994548  0.994944\n",
      "bagging_13models  0.994810  0.000123  0.994622  0.994970\n",
      "bagging_14models  0.994828  0.000094  0.994688  0.994963\n",
      "bagging_15models  0.994825  0.000081  0.994669  0.994930\n",
      "bagging_16models  0.994842  0.000072  0.994696  0.994955\n",
      "bagging_17models  0.994846  0.000055  0.994736  0.994919\n",
      "bagging_18models  0.994850  0.000052  0.994763  0.994916\n",
      "bagging_19models  0.994845  0.000034  0.994808  0.994893\n",
      "bagging_20models  0.994849       NaN  0.994849  0.994849\n",
      "Delta AUROC:\n",
      "                      mean       std       min       max\n",
      "category                                                \n",
      "bagging_1models        NaN       NaN       NaN       NaN\n",
      "bagging_2models   0.001179  0.000231  0.000841  0.001523\n",
      "bagging_3models   0.000314  0.000189 -0.000058  0.000642\n",
      "bagging_4models   0.000169  0.000222 -0.000280  0.000482\n",
      "bagging_5models   0.000101  0.000179 -0.000190  0.000374\n",
      "bagging_6models   0.000056  0.000175 -0.000160  0.000363\n",
      "bagging_7models   0.000073  0.000199 -0.000215  0.000390\n",
      "bagging_8models   0.000028  0.000192 -0.000306  0.000360\n",
      "bagging_9models  -0.000019  0.000170 -0.000312  0.000220\n",
      "bagging_10models  0.000002  0.000180 -0.000338  0.000262\n",
      "bagging_11models  0.000008  0.000148 -0.000267  0.000197\n",
      "bagging_12models  0.000034  0.000136 -0.000186  0.000210\n",
      "bagging_13models  0.000042  0.000123 -0.000146  0.000202\n",
      "bagging_14models  0.000018  0.000094 -0.000121  0.000153\n",
      "bagging_15models -0.000003  0.000081 -0.000158  0.000103\n",
      "bagging_16models  0.000017  0.000072 -0.000129  0.000131\n",
      "bagging_17models  0.000004  0.000055 -0.000105  0.000078\n",
      "bagging_18models  0.000004  0.000052 -0.000083  0.000070\n",
      "bagging_19models -0.000006  0.000034 -0.000043  0.000043\n",
      "bagging_20models  0.000004       NaN  0.000004  0.000004\n"
     ]
    },
    {
     "data": {
      "image/png": "[encoded data removed]",
      "text/plain": [
       "<Figure size 237.6x108 with 1 Axes>"
      ]
     },
     "metadata": {
      "needs_background": "light"
     },
     "output_type": "display_data"
    },
    {
     "name": "stdout",
     "output_type": "stream",
     "text": [
      "Classification AUPRC:\n",
      "                      mean       std       min       max\n",
      "category                                                \n",
      "bagging_1models   0.992278  0.000500  0.991534  0.992799\n",
      "bagging_2models   0.993548  0.000243  0.993204  0.993957\n",
      "bagging_3models   0.993900  0.000194  0.993529  0.994226\n",
      "bagging_4models   0.994093  0.000245  0.993623  0.994412\n",
      "bagging_5models   0.994203  0.000178  0.993912  0.994464\n",
      "bagging_6models   0.994263  0.000194  0.994006  0.994583\n",
      "bagging_7models   0.994343  0.000216  0.994028  0.994671\n",
      "bagging_8models   0.994381  0.000210  0.994016  0.994725\n",
      "bagging_9models   0.994363  0.000183  0.994061  0.994639\n",
      "bagging_10models  0.994367  0.000189  0.994022  0.994626\n",
      "bagging_11models  0.994374  0.000154  0.994096  0.994561\n",
      "bagging_12models  0.994414  0.000146  0.994187  0.994631\n",
      "bagging_13models  0.994458  0.000134  0.994263  0.994661\n",
      "bagging_14models  0.994478  0.000106  0.994326  0.994621\n",
      "bagging_15models  0.994481  0.000091  0.994318  0.994595\n",
      "bagging_16models  0.994503  0.000079  0.994348  0.994622\n",
      "bagging_17models  0.994510  0.000060  0.994389  0.994579\n",
      "bagging_18models  0.994517  0.000052  0.994419  0.994582\n",
      "bagging_19models  0.994510  0.000034  0.994474  0.994563\n",
      "bagging_20models  0.994516       NaN  0.994516  0.994516\n",
      "Delta AUPRC:\n",
      "                      mean       std       min       max\n",
      "category                                                \n",
      "bagging_1models        NaN       NaN       NaN       NaN\n",
      "bagging_2models   0.001271  0.000243  0.000926  0.001680\n",
      "bagging_3models   0.000352  0.000194 -0.000019  0.000678\n",
      "bagging_4models   0.000193  0.000245 -0.000277  0.000511\n",
      "bagging_5models   0.000110  0.000178 -0.000181  0.000371\n",
      "bagging_6models   0.000060  0.000194 -0.000197  0.000380\n",
      "bagging_7models   0.000080  0.000216 -0.000235  0.000408\n",
      "bagging_8models   0.000038  0.000210 -0.000327  0.000382\n",
      "bagging_9models  -0.000018  0.000183 -0.000320  0.000258\n",
      "bagging_10models  0.000004  0.000189 -0.000341  0.000263\n",
      "bagging_11models  0.000006  0.000154 -0.000272  0.000193\n",
      "bagging_12models  0.000040  0.000146 -0.000187  0.000257\n",
      "bagging_13models  0.000044  0.000134 -0.000151  0.000248\n",
      "bagging_14models  0.000020  0.000106 -0.000132  0.000163\n",
      "bagging_15models  0.000003  0.000091 -0.000161  0.000117\n",
      "bagging_16models  0.000022  0.000079 -0.000133  0.000142\n",
      "bagging_17models  0.000007  0.000060 -0.000114  0.000076\n",
      "bagging_18models  0.000006  0.000052 -0.000091  0.000071\n",
      "bagging_19models -0.000006  0.000034 -0.000042  0.000046\n",
      "bagging_20models  0.000006       NaN  0.000006  0.000006\n"
     ]
    }
   ],
   "source": [
    "visualize_parameter_deltas('arabidopsis_thaliana', 'polyaclassifier_bagging_test', atha_bag_res, atha_config, \n",
    "                            'category', 'bagging_3models', [f'bagging_{n}models' for n in range(1,21)], 'mean',\n",
    "                            replicates = None, rotate_labels = True,\n",
    "                            ylim = (-0.0005,0.0015), ytickint = 0.0005, show_data = True)\n",
    "\n"
   ]
  },
  {
   "cell_type": "markdown",
   "metadata": {},
   "source": [
    "#### Examine the stability of bagged model predictions when different models are selected for \"bagging\""
   ]
  },
  {
   "cell_type": "code",
   "execution_count": 35,
   "metadata": {},
   "outputs": [
    {
     "name": "stderr",
     "output_type": "stream",
     "text": [
      "3 models: 100%|██████████| 50/50 [05:09<00:00,  6.19s/it]\n"
     ]
    }
   ],
   "source": [
    "atha_bag_samples = permute_aggregate_performance('arabidopsis_thaliana', atha_data, 'atha_bagging_val_data', bagging_stamps, 'bagging',  3, 50, 12345)\n"
   ]
  },
  {
   "cell_type": "code",
   "execution_count": 36,
   "metadata": {},
   "outputs": [
    {
     "data": {
      "image/png": "[encoded data removed]",
      "text/plain": [
       "<Figure size 432x144 with 2 Axes>"
      ]
     },
     "metadata": {
      "needs_background": "light"
     },
     "output_type": "display_data"
    }
   ],
   "source": [
    "fig,ax = plt.subplots(1,2, figsize = (6,2), sharey = True, gridspec_kw = {'width_ratios': [1,5]})\n",
    "\n",
    "sns.stripplot(data = atha_bag_res.loc[atha_bag_res['category'] == 'bagging_3models'], x = 'category', y = 'classification_AUROC', color = 'black', ax = ax[0])\n",
    "sns.stripplot(data = atha_bag_samples, x = 'iteration', y = 'classification_AUROC', color = 'black', ax = ax[1])\n",
    "\n",
    "plt.show()\n"
   ]
  },
  {
   "cell_type": "code",
   "execution_count": 37,
   "metadata": {},
   "outputs": [
    {
     "name": "stdout",
     "output_type": "stream",
     "text": [
      "AUROC: 0.9947016331899119\n",
      "AUPRC: 0.9943124194276204\n",
      "Model stamps: ['20240422-094938', '20240422-094958', '20240422-095014']\n"
     ]
    }
   ],
   "source": [
    "atha_best_combo = atha_bag_samples.sort_values('classification_AUROC', ascending = False).iloc[0]\n",
    "\n",
    "print(\"AUROC:\", atha_best_combo['classification_AUROC'])\n",
    "print(\"AUPRC:\", atha_best_combo['classification_AUPRC'])\n",
    "print(\"Model stamps:\", sorted(atha_best_combo['model_stamps'].tolist()))\n"
   ]
  }
 ],
 "metadata": {
  "kernelspec": {
   "display_name": "Python (tf-train)",
   "language": "python",
   "name": "tf-train"
  },
  "language_info": {
   "codemirror_mode": {
    "name": "ipython",
    "version": 3
   },
   "file_extension": ".py",
   "mimetype": "text/x-python",
   "name": "python",
   "nbconvert_exporter": "python",
   "pygments_lexer": "ipython3",
   "version": "3.6.12"
  }
 },
 "nbformat": 4,
 "nbformat_minor": 2
}
