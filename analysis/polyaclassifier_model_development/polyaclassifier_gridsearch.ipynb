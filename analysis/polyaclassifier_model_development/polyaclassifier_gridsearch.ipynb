{
 "cells": [
  {
   "cell_type": "markdown",
   "metadata": {},
   "source": [
    "# PolyaClassifier parameter grid search\n",
    "\n",
    "**Purpose**: To identify the optimal PolyaClassifier parameters using a grid search.\n"
   ]
  },
  {
   "cell_type": "code",
   "execution_count": 1,
   "metadata": {},
   "outputs": [],
   "source": [
    "%load_ext autoreload"
   ]
  },
  {
   "cell_type": "code",
   "execution_count": 2,
   "metadata": {},
   "outputs": [],
   "source": [
    "%autoreload 2"
   ]
  },
  {
   "cell_type": "code",
   "execution_count": 3,
   "metadata": {},
   "outputs": [],
   "source": [
    "%run -i notebook_setup.py"
   ]
  },
  {
   "cell_type": "markdown",
   "metadata": {},
   "source": [
    "## IMPORTS AND SETUP"
   ]
  },
  {
   "cell_type": "code",
   "execution_count": 4,
   "metadata": {},
   "outputs": [],
   "source": [
    "from paper_utilities import models\n"
   ]
  },
  {
   "cell_type": "code",
   "execution_count": 5,
   "metadata": {},
   "outputs": [],
   "source": [
    "PROJECT   = \"/projects/b1080/eks/polyadenylation/yeast\"\n",
    "OUTDIR    = os.path.join(PROJECT, 'manuscript', 'analysis', 'polyaclassifier_model_gridsearch')\n",
    "RESOURCES = os.path.join(os.path.dirname(OUTDIR), 'resources')\n",
    "os.makedirs(OUTDIR, exist_ok = True)\n"
   ]
  },
  {
   "cell_type": "code",
   "execution_count": 6,
   "metadata": {},
   "outputs": [],
   "source": [
    "boxplot_format = {\n",
    "    'boxprops'     : {'edgecolor' : 'black', 'linewidth' : 0.5},\n",
    "    'medianprops'  : {'color' : 'black', 'linewidth' : 0.5},\n",
    "    'whiskerprops' : {'color' : 'black', 'linewidth' : 0.5},\n",
    "    'capprops'     : {'color' : 'black', 'linewidth' : 0.5},\n",
    "    'flierprops'   : {'color' : 'black'},\n",
    "    'showfliers'   : False\n",
    "}\n",
    "\n",
    "barplot_format = {\n",
    "    'color'     : 'lightgray',\n",
    "    'edgecolor' : 'black',\n",
    "    'linewidth' : 0.5,\n",
    "}"
   ]
  },
  {
   "cell_type": "markdown",
   "metadata": {},
   "source": [
    "## HELPER FUNCTIONS"
   ]
  },
  {
   "cell_type": "code",
   "execution_count": 7,
   "metadata": {},
   "outputs": [],
   "source": [
    "def visualize_parameter_effects(species, data, base_model, test_var, test_val = None, test_order = None, replicates = 5, xlab_type = None, rotate_labels = False, auc_ylim = (0.5,1), auc_ytickint = 0.1, auc_line = None, show_data = True):\n",
    "    \n",
    "    ## Filter equivalent models with the single parameter varied\n",
    "    \n",
    "    constant_vars = [_ for _ in base_model.keys() if (_ != test_var)]\n",
    "    \n",
    "    cond_mat = np.zeros((len(data), len(constant_vars)))\n",
    "    \n",
    "    for i,v in enumerate(constant_vars):\n",
    "        cond_mat[:,i] = (data[v] == base_model[v])\n",
    "        \n",
    "    cond = np.all(cond_mat, axis = 1)\n",
    "    dt = data.loc[cond].copy()\n",
    "    \n",
    "    if (test_order is not None):\n",
    "        dt = dt.loc[dt[test_var].isin(test_order)].copy()\n",
    "    \n",
    "    if (xlab_type is not None):\n",
    "        dt[test_var] = dt[test_var].astype(xlab_type)\n",
    "    \n",
    "    ## Confirm that all replicates were successfully included\n",
    "    \n",
    "    if (replicates is not None) and not (dt.groupby(test_var).size() == replicates).all():\n",
    "        raise ValueError(\"Incorrect number of replicates found for test parameters:\" + str(dt.groupby(test_var).size()))\n",
    "        \n",
    "    if not (dt.groupby([test_var,'negative_seed']).size() == 1).all():\n",
    "        raise ValueError(\"More than one model found per parameter+negative seed combination:\" + str(dt.groupby([test_var,'negative_seed']).size()))\n",
    "    \n",
    "    ## Highlight selected parameter bar\n",
    "    \n",
    "    if (test_val is not None):\n",
    "        dt['highlight'] = (dt[test_var] == test_val)\n",
    "    else:\n",
    "        dt['highlight'] = False\n",
    "    \n",
    "    ## Visualize model receiver-operating characteristic curve\n",
    "    \n",
    "    nlevels = dt[test_var].nunique()\n",
    "    norder = test_order if (test_order is not None) else sorted(dt[test_var].unique().tolist())\n",
    "    \n",
    "    fig,ax = plt.subplots(1,1, figsize = (0.3+(0.15*nlevels),1.5))\n",
    "    \n",
    "    sns.barplot(data = dt, x = test_var, y = 'classification_AUROC', order = norder, \n",
    "                hue = 'highlight', palette = {False: 'lightgray', True: 'firebrick'}, \n",
    "                dodge = False, ax = ax, **barplot_format)\n",
    "    \n",
    "    if (test_val is not None) and (auc_line is not None):\n",
    "        mean_val = dt.loc[dt[test_var] == test_val, 'classification_AUROC'].agg(auc_line)\n",
    "        ax.axhline(mean_val, color = 'red', linewidth = 0.5, zorder = 2)\n",
    "        \n",
    "    if (rotate_labels):\n",
    "        ax.set_xticklabels(ax.get_xticklabels(), rotation = 45, va = 'top', ha = 'right')\n",
    "        \n",
    "    ax.set_ylim(auc_ylim)\n",
    "    ax.yaxis.set_major_locator(MultipleLocator(auc_ytickint))\n",
    "    \n",
    "    ax.set_xlabel(test_var.replace(\"_\",\" \").capitalize())\n",
    "    ax.set_ylabel(\"AUROC\")\n",
    "    \n",
    "    ax.get_legend().remove()\n",
    "\n",
    "    ax.spines['right'].set_visible(False)\n",
    "    ax.spines['top'].set_visible(False)\n",
    "    \n",
    "    plt.savefig(os.path.join(OUTDIR, f'polyaclassifier_grid_search.{species}.{test_var}.auroc.svg'), format = 'svg', dpi = 600)\n",
    "    plt.show()\n",
    "    \n",
    "    if (show_data):\n",
    "        print(\"\\nCorresponding data:\")\n",
    "        summary_data = dt.groupby(test_var)['classification_AUROC'].agg([auc_line,'std']).sort_values(auc_line, ascending = False)\n",
    "        summary_data['se'] = summary_data['std'] / np.sqrt(replicates)\n",
    "        summary_data['within1se'] = summary_data[auc_line].apply(lambda x : '*' if (x > (summary_data.loc[summary_data[auc_line].idxmax(), auc_line] - summary_data.loc[summary_data[auc_line].idxmax(), 'se'])) else '')\n",
    "        print(summary_data)\n",
    "    \n",
    "    ## Tests for differences in AUROC\n",
    "    \n",
    "    if (test_val is not None) and (auc_line is not None):\n",
    "        print(\"\\nT-test for differences in AUROC:\")\n",
    "        ref_auc = dt.loc[dt[test_var] == test_val, 'classification_AUROC'].tolist()\n",
    "        for v in norder:\n",
    "            if (v != test_val):\n",
    "                alt_auc = dt.loc[dt[test_var] == v, 'classification_AUROC'].tolist()\n",
    "                alt_pval = st.ttest_ind(ref_auc, alt_auc)[1]\n",
    "                print(f\"{v:4} vs {test_val:4} AUROC: pval = {alt_pval:.02E}\")\n",
    "    \n",
    "    ## Visualize model precision-recall curve\n",
    "    \n",
    "    fig,ax = plt.subplots(1,1, figsize = (0.3+(0.15*nlevels),1.5))\n",
    "    \n",
    "    sns.barplot(data = dt, x = test_var, y = 'classification_AUPRC', order = norder, \n",
    "                hue = 'highlight', palette = {False: 'lightgray', True: 'firebrick'}, \n",
    "                dodge = False, ax = ax, **barplot_format)\n",
    "    \n",
    "    if (test_val is not None) and (auc_line):\n",
    "        mean_val = dt.loc[dt[test_var] == test_val, 'classification_AUPRC'].agg(auc_line)\n",
    "        ax.axhline(mean_val, color = 'red', linewidth = 0.5, zorder = 2)\n",
    "        \n",
    "    if (rotate_labels):\n",
    "        ax.set_xticklabels(ax.get_xticklabels(), rotation = 45, va = 'top', ha = 'right')\n",
    "        \n",
    "    ax.set_ylim(auc_ylim)\n",
    "    ax.yaxis.set_major_locator(MultipleLocator(auc_ytickint))\n",
    "    \n",
    "    ax.set_xlabel(test_var.replace(\"_\",\" \").capitalize())\n",
    "    ax.set_ylabel(\"AUPRC\")\n",
    "    \n",
    "    ax.get_legend().remove()\n",
    "\n",
    "    ax.spines['right'].set_visible(False)\n",
    "    ax.spines['top'].set_visible(False)\n",
    "    \n",
    "    plt.savefig(os.path.join(OUTDIR, f'polyaclassifier_grid_search.{species}.{test_var}.auprc.svg'), format = 'svg', dpi = 600)\n",
    "    plt.show()\n",
    "    \n",
    "    if (show_data):\n",
    "        print(\"\\nCorresponding data:\")\n",
    "        summary_data = dt.groupby(test_var)['classification_AUPRC'].agg([auc_line,'std']).sort_values(auc_line, ascending = False)\n",
    "        summary_data['se'] = summary_data['std'] / np.sqrt(replicates)\n",
    "        summary_data['within1se'] = summary_data[auc_line].apply(lambda x : '*' if (x > (summary_data.loc[summary_data[auc_line].idxmax(), auc_line] - summary_data.loc[summary_data[auc_line].idxmax(), 'se'])) else '')\n",
    "        print(summary_data)\n",
    "    \n",
    "    ## Tests for differences in AUPRC\n",
    "    \n",
    "    if (test_val is not None) and (auc_line is not None):\n",
    "        print(\"\\nT-test for differences in AUPRC:\")\n",
    "        ref_auc = dt.loc[dt[test_var] == test_val, 'classification_AUPRC'].tolist()\n",
    "        for v in norder:\n",
    "            if (v != test_val):\n",
    "                alt_auc = dt.loc[dt[test_var] == v, 'classification_AUPRC'].tolist()\n",
    "                alt_pval = st.ttest_ind(ref_auc, alt_auc)[1]\n",
    "                print(f\"{v:4} vs {test_val:4} AUPRC: pval = {alt_pval:.02E}\")\n",
    "    return\n"
   ]
  },
  {
   "cell_type": "code",
   "execution_count": 8,
   "metadata": {},
   "outputs": [],
   "source": [
    "## Cartesian product example code from: https://www.geeksforgeeks.org/cartesian-product-of-any-number-of-sets/\n",
    "\n",
    "def cartesianProduct(set_a, set_b):\n",
    "    result =[]\n",
    "    for i in range(0, len(set_a)):\n",
    "        for j in range(0, len(set_b)):\n",
    " \n",
    "            # for handling case having cartesian\n",
    "            # product first time of two sets\n",
    "            if type(set_a[i]) != list:         \n",
    "                set_a[i] = [set_a[i]]\n",
    "                 \n",
    "            # copying all the members\n",
    "            # of set_a to temp\n",
    "            temp = [num for num in set_a[i]]\n",
    "             \n",
    "            # add member of set_b to \n",
    "            # temp to have cartesian product     \n",
    "            temp.append(set_b[j])             \n",
    "            result.append(temp)  \n",
    "             \n",
    "    return result\n",
    " \n",
    "# Function to do a cartesian \n",
    "# product of N sets \n",
    "def Cartesian(list_a):\n",
    "     \n",
    "    # result of cartesian product\n",
    "    # of all the sets taken two at a time\n",
    "    temp = list_a[0]\n",
    "     \n",
    "    # do product of N sets \n",
    "    for i in range(1, len(list_a)):\n",
    "        temp = cartesianProduct(temp, list_a[i])\n",
    "         \n",
    "    return temp\n"
   ]
  },
  {
   "cell_type": "code",
   "execution_count": 9,
   "metadata": {},
   "outputs": [],
   "source": [
    "def visualize_combination_effects(species, data, base_model, test_vars, test_vals = None, test_orders = None, replicates = 5, xlab_types = None, rotate_labels = False, auc_ylim = (0.5,1), auc_ytickint = 0.1, auc_line = None, show_data = True):\n",
    "    \n",
    "    ## Filter equivalent models with the combination parameters varied\n",
    "    \n",
    "    constant_vars = [_ for _ in base_model.keys() if (_ not in test_vars)]\n",
    "    \n",
    "    cond_mat = np.zeros((len(data), len(constant_vars)))\n",
    "    \n",
    "    for i,v in enumerate(constant_vars):\n",
    "        cond_mat[:,i] = (data[v] == base_model[v])\n",
    "        \n",
    "    cond = np.all(cond_mat, axis = 1)\n",
    "    dt = data.loc[cond].copy()\n",
    "    \n",
    "    if (xlab_types is not None):\n",
    "        for (test_var,xlab_type) in zip(test_vars,xlab_types):\n",
    "            dt[test_var] = dt[test_var].astype(xlab_type)\n",
    "            \n",
    "    dt['label'] = dt.apply(lambda row : \"-\".join([str(row[t]) for t in test_vars]), axis = 1)\n",
    "    \n",
    "    ## Confirm that all replicates were successfully included\n",
    "    \n",
    "    if (replicates is not None) and not (dt.groupby(test_vars).size() == replicates).all():\n",
    "        raise ValueError(\"Incorrect number of replicates found for test parameters:\" + str(dt.groupby(test_vars).size()))\n",
    "        \n",
    "    if not (dt.groupby(test_vars + ['negative_seed']).size() == 1).all():\n",
    "        raise ValueError(\"More than one model found per parameter+negative seed combination:\" + str(dt.groupby(test_vars + ['negative_seed']).size()))\n",
    "    \n",
    "    ## Highlight selected parameter bar\n",
    "    \n",
    "    dt['highlight'] = (dt['label'] == test_vals)\n",
    "    \n",
    "    ## Visualize model receiver-operating characteristic curve\n",
    "    \n",
    "    nlevels = len(dt[test_vars].drop_duplicates())\n",
    "    \n",
    "    if (test_orders is not None):\n",
    "        norder = test_orders\n",
    "    else:\n",
    "        norder = [\"-\".join(_) for _ in Cartesian([dt[test_var].sort_values().unique().astype(str).tolist() for test_var in test_vars]) if (\"-\".join(_) in dt['label'].unique().tolist())]\n",
    "    \n",
    "    fig,ax = plt.subplots(1,1, figsize = (0.3+(0.15*nlevels),1.5))\n",
    "    \n",
    "    sns.barplot(data = dt, x = 'label', y = 'classification_AUROC', order = norder, \n",
    "                hue = 'highlight', palette = {False: 'lightgray', True: 'firebrick'}, \n",
    "                dodge = False, ax = ax, **barplot_format)\n",
    "    \n",
    "    if (test_vals is not None) and (auc_line is not None):\n",
    "        mean_val = dt.loc[dt['label'] == test_vals, 'classification_AUROC'].agg(auc_line)\n",
    "        ax.axhline(mean_val, color = 'red', linewidth = 0.5, zorder = 2)\n",
    "        \n",
    "    if (rotate_labels):\n",
    "        ax.set_xticklabels(ax.get_xticklabels(), rotation = 45, va = 'top', ha = 'right')\n",
    "        \n",
    "    ax.set_ylim(auc_ylim)\n",
    "    ax.yaxis.set_major_locator(MultipleLocator(auc_ytickint))\n",
    "    \n",
    "    ax.set_xlabel(\"-\".join([test_var.replace(\"_\",\" \").capitalize() for test_var in test_vars]))\n",
    "    ax.set_ylabel(\"AUROC\")\n",
    "    \n",
    "    ax.get_legend().remove()\n",
    "\n",
    "    ax.spines['right'].set_visible(False)\n",
    "    ax.spines['top'].set_visible(False)\n",
    "    \n",
    "    plt.savefig(os.path.join(OUTDIR, f'polyaclassifier_grid_search.{species}.{test_var}.auroc.svg'), format = 'svg', dpi = 600)\n",
    "    plt.show()\n",
    "    \n",
    "    if (show_data):\n",
    "        print(\"\\nCorresponding data:\")\n",
    "        summary_data = dt.groupby('label')['classification_AUROC'].agg([auc_line,'std']).sort_values(auc_line, ascending = False)\n",
    "        summary_data['se'] = summary_data['std'] / np.sqrt(replicates)\n",
    "        summary_data['within1se'] = summary_data[auc_line].apply(lambda x : '*' if (x > (summary_data.loc[summary_data[auc_line].idxmax(), auc_line] - summary_data.loc[summary_data[auc_line].idxmax(), 'se'])) else '')\n",
    "        print(summary_data)\n",
    "    \n",
    "    ## Tests for differences in AUROC\n",
    "    \n",
    "    if (test_vals is not None) and (auc_line is not None):\n",
    "        print(\"\\nT-test for differences in AUROC:\")\n",
    "        ref_auc = dt.loc[dt['label'] == test_vals, 'classification_AUROC'].tolist()\n",
    "        for v in norder:\n",
    "            if (v != test_vals):\n",
    "                alt_auc = dt.loc[dt['label'] == v, 'classification_AUROC'].tolist()\n",
    "                alt_pval = st.ttest_ind(ref_auc, alt_auc)[1]\n",
    "                print(f\"{v:4} vs {test_vals:4} AUROC: pval = {alt_pval:.02E}\")\n",
    "    \n",
    "    ## Visualize model precision-recall curve\n",
    "    \n",
    "    fig,ax = plt.subplots(1,1, figsize = (0.3+(0.15*nlevels),1.5))\n",
    "    \n",
    "    sns.barplot(data = dt, x = 'label', y = 'classification_AUPRC', order = norder, \n",
    "                hue = 'highlight', palette = {False: 'lightgray', True: 'firebrick'}, \n",
    "                dodge = False, ax = ax, **barplot_format)\n",
    "    \n",
    "    if (test_vals is not None) and (auc_line is not None):\n",
    "        mean_val = dt.loc[dt['label'] == test_vals, 'classification_AUPRC'].agg(auc_line)\n",
    "        ax.axhline(mean_val, color = 'red', linewidth = 0.5, zorder = 2)\n",
    "        \n",
    "    if (rotate_labels):\n",
    "        ax.set_xticklabels(ax.get_xticklabels(), rotation = 45, va = 'top', ha = 'right')\n",
    "        \n",
    "    ax.set_ylim(auc_ylim)\n",
    "    ax.yaxis.set_major_locator(MultipleLocator(auc_ytickint))\n",
    "    \n",
    "    ax.set_xlabel(\"-\".join([test_var.replace(\"_\",\" \").capitalize() for test_var in test_vars]))\n",
    "    ax.set_ylabel(\"AUPRC\")\n",
    "    \n",
    "    ax.get_legend().remove()\n",
    "\n",
    "    ax.spines['right'].set_visible(False)\n",
    "    ax.spines['top'].set_visible(False)\n",
    "    \n",
    "    plt.savefig(os.path.join(OUTDIR, f'polyaclassifier_grid_search.{species}.{test_var}.auprc.svg'), format = 'svg', dpi = 600)\n",
    "    plt.show()\n",
    "    \n",
    "    if (show_data):\n",
    "        print(\"\\nCorresponding data:\")\n",
    "        summary_data = dt.groupby('label')['classification_AUPRC'].agg([auc_line,'std']).sort_values(auc_line, ascending = False)\n",
    "        summary_data['se'] = summary_data['std'] / np.sqrt(replicates)\n",
    "        summary_data['within1se'] = summary_data[auc_line].apply(lambda x : '*' if (x > (summary_data.loc[summary_data[auc_line].idxmax(), auc_line] - summary_data.loc[summary_data[auc_line].idxmax(), 'se'])) else '')\n",
    "        print(summary_data)\n",
    "    \n",
    "    ## Tests for differences in AUPRC\n",
    "    \n",
    "    if (test_vals is not None) and (auc_line is not None):\n",
    "        print(\"\\nT-test for differences in AUPRC:\")\n",
    "        ref_auc = dt.loc[dt['label'] == test_vals, 'classification_AUPRC'].tolist()\n",
    "        for v in norder:\n",
    "            if (v != test_vals):\n",
    "                alt_auc = dt.loc[dt['label'] == v, 'classification_AUPRC'].tolist()\n",
    "                alt_pval = st.ttest_ind(ref_auc, alt_auc)[1]\n",
    "                print(f\"{v:4} vs {test_vals:4} AUPRC: pval = {alt_pval:.02E}\")\n",
    "                \n",
    "    return\n"
   ]
  },
  {
   "cell_type": "code",
   "execution_count": 10,
   "metadata": {},
   "outputs": [],
   "source": [
    "def visualize_parameter_deltas(species, data, base_model, test_var, test_val, test_order, measure, replicates = 5, xlab_type = None, rotate_labels = False, ylim = None, ytickint = 0.01, threshold = None, show_data = False):\n",
    "    \n",
    "    ## Filter equivalent models with the single parameter varied\n",
    "    \n",
    "    constant_vars = [_ for _ in base_model.keys() if (_ != test_var)]\n",
    "    \n",
    "    cond_mat = np.zeros((len(data), len(constant_vars)))\n",
    "    \n",
    "    for i,v in enumerate(constant_vars):\n",
    "        cond_mat[:,i] = (data[v] == base_model[v])\n",
    "        \n",
    "    cond = np.all(cond_mat, axis = 1)\n",
    "    dt = data.loc[cond & (data[test_var].isin(test_order))].copy()\n",
    "    \n",
    "    if (xlab_type is not None):\n",
    "        dt[test_var] = dt[test_var].astype(xlab_type)\n",
    "    \n",
    "    ## Confirm that all replicates were successfully included\n",
    "    \n",
    "    if not (dt.groupby(test_var).size() == replicates).all():\n",
    "        raise ValueError(\"Incorrect number of replicates found for test parameters:\" + str(dt.groupby(test_var).size()))\n",
    "        \n",
    "    if not (dt.groupby([test_var,'negative_seed']).size() == 1).all():\n",
    "        raise ValueError(\"More than one model found per parameter+negative seed combination:\" + str(dt.groupby([test_var,'negative_seed']).size()))\n",
    "    \n",
    "    ## Visualize change in the area under the receiver-operating characteristic curve\n",
    "    \n",
    "    nlevels = dt[test_var].nunique()\n",
    "    norder = test_order if (test_order is not None) else sorted(dt[test_var].unique().tolist())\n",
    "    \n",
    "    fig,ax = plt.subplots(1,1, figsize = (0.3+(0.15*nlevels),1.5))\n",
    "    \n",
    "    dt_wide = dt.pivot(index = test_var, columns = 'negative_seed', values = 'classification_AUROC')\n",
    "    dt_diff = pd.melt((dt_wide - dt_wide.shift(1)).reset_index(), id_vars = test_var, var_name = 'negative_seed', value_name = 'classification_AUROC')\n",
    "    dt_diff['highlight'] = (dt_diff[test_var] == test_val)\n",
    "    \n",
    "    sns.barplot(data = dt_diff, x = test_var, y = 'classification_AUROC', order = norder, \n",
    "                hue = 'highlight', palette = {False: 'lightgray', True: 'firebrick'}, \n",
    "                dodge = False, ax = ax, **barplot_format)\n",
    "    \n",
    "    if (threshold is not None):\n",
    "        ax.axhline(threshold, color = 'red', linewidth = 0.5, zorder = 2)\n",
    "        \n",
    "    if (rotate_labels):\n",
    "        ax.set_xticklabels(ax.get_xticklabels(), rotation = 45, va = 'top', ha = 'right')\n",
    "    \n",
    "    ax.set_xlabel(test_var.replace(\"_\",\" \").capitalize())\n",
    "    ax.set_ylabel(\"delta AUROC\")\n",
    "    \n",
    "    ax.set_ylim(ylim)\n",
    "    ax.yaxis.set_major_locator(MultipleLocator(ytickint))\n",
    "    \n",
    "    ax.get_legend().remove()\n",
    "\n",
    "    ax.spines['right'].set_visible(False)\n",
    "    ax.spines['top'].set_visible(False)\n",
    "    \n",
    "    plt.savefig(os.path.join(OUTDIR, f'polyaclassifier_grid_search.{species}.{test_var}.delta_auroc.svg'), format = 'svg', dpi = 600)\n",
    "    plt.show()\n",
    "    \n",
    "    if (show_data):\n",
    "        print(\"Classification AUROC:\")\n",
    "        print(dt_diff.groupby(test_var)['classification_AUROC'].describe()[['mean','std','min','max']])\n",
    "    \n",
    "    ## Visualize change in the area under the precision-recall curve\n",
    "    \n",
    "    fig,ax = plt.subplots(1,1, figsize = (0.3+(0.15*nlevels),1.5))\n",
    "    \n",
    "    dt_wide = dt.pivot(index = test_var, columns = 'negative_seed', values = 'classification_AUPRC')\n",
    "    dt_diff = pd.melt((dt_wide - dt_wide.shift(1)).reset_index(), id_vars = test_var, var_name = 'negative_seed', value_name = 'classification_AUPRC')\n",
    "    dt_diff['highlight'] = (dt_diff[test_var] == test_val)\n",
    "    \n",
    "    sns.barplot(data = dt_diff, x = test_var, y = 'classification_AUPRC', order = norder, \n",
    "                hue = 'highlight', palette = {False: 'lightgray', True: 'firebrick'}, \n",
    "                dodge = False, ax = ax, **barplot_format)\n",
    "    \n",
    "    if (threshold is not None):\n",
    "        ax.axhline(threshold, color = 'red', linewidth = 0.5, zorder = 2)\n",
    "        \n",
    "    if (rotate_labels):\n",
    "        ax.set_xticklabels(ax.get_xticklabels(), rotation = 45, va = 'top', ha = 'right')\n",
    "    \n",
    "    ax.set_xlabel(test_var.replace(\"_\",\" \").capitalize())\n",
    "    ax.set_ylabel(\"delta AUPRC\")\n",
    "    \n",
    "    ax.set_ylim(ylim)\n",
    "    ax.yaxis.set_major_locator(MultipleLocator(ytickint))\n",
    "    \n",
    "    ax.get_legend().remove()\n",
    "\n",
    "    ax.spines['right'].set_visible(False)\n",
    "    ax.spines['top'].set_visible(False)\n",
    "    \n",
    "    plt.savefig(os.path.join(OUTDIR, f'polyaclassifier_grid_search.{species}.{test_var}.delta_auprc.svg'), format = 'svg', dpi = 600)\n",
    "    plt.show()\n",
    "    \n",
    "    if (show_data):\n",
    "        print(\"Classification AUPRC:\")\n",
    "        print(dt_diff.groupby(test_var)['classification_AUPRC'].describe()[['mean','std','min','max']])\n",
    "    \n",
    "    return"
   ]
  },
  {
   "cell_type": "markdown",
   "metadata": {},
   "source": [
    "## ANALYSIS"
   ]
  },
  {
   "cell_type": "code",
   "execution_count": 11,
   "metadata": {},
   "outputs": [],
   "source": [
    "base_model = {\n",
    "    'genomic_As'    : 'redistA',\n",
    "    'architecture'  : 'classification',\n",
    "    'sequence_size' : 500,\n",
    "    'conv_units'    : 128,\n",
    "    'lstm_units'    : 32,\n",
    "    'conv_shape'    : 8,\n",
    "    'bin_dropout'   : 0.5,\n",
    "    'learning_rate' : 0.001,\n",
    "}\n",
    "\n",
    "variables_tested = [\n",
    "    'architecture',\n",
    "    'sequence_size',\n",
    "    'conv_units',\n",
    "    'lstm_units',\n",
    "    'conv_shape',\n",
    "    'bin_dropout'\n",
    "]\n"
   ]
  },
  {
   "cell_type": "markdown",
   "metadata": {},
   "source": [
    "### Saccharomyces cerevisiae"
   ]
  },
  {
   "cell_type": "markdown",
   "metadata": {},
   "source": [
    "#### Initial sequence size search"
   ]
  },
  {
   "cell_type": "code",
   "execution_count": 12,
   "metadata": {},
   "outputs": [
    {
     "name": "stdout",
     "output_type": "stream",
     "text": [
      "(200, 21)\n"
     ]
    }
   ],
   "source": [
    "scer_seqgrid = pd.read_csv(os.path.join(RESOURCES, 'polyaclassifier_replicate_summary.saccharomyces_cerevisiae.txt'), sep = \"\\t\")\n",
    "scer_seqgrid = scer_seqgrid.loc[scer_seqgrid['modeltype'] == 'sequence_imbalgrid'].copy()\n",
    "print(scer_seqgrid.shape)\n"
   ]
  },
  {
   "cell_type": "code",
   "execution_count": 13,
   "metadata": {},
   "outputs": [
    {
     "data": {
      "image/png": "[encoded data removed]",
      "text/plain": [
       "<Figure size 237.6x108 with 1 Axes>"
      ]
     },
     "metadata": {
      "needs_background": "light"
     },
     "output_type": "display_data"
    },
    {
     "data": {
      "image/png": "[encoded data removed]",
      "text/plain": [
       "<Figure size 237.6x108 with 1 Axes>"
      ]
     },
     "metadata": {
      "needs_background": "light"
     },
     "output_type": "display_data"
    }
   ],
   "source": [
    "visualize_parameter_effects('saccharomyces_cerevisiae', scer_seqgrid, base_model, \n",
    "                            'sequence_size', 500, replicates = 10, xlab_type = int,\n",
    "                            auc_ylim = (0.5,1.02), show_data = False)"
   ]
  },
  {
   "cell_type": "code",
   "execution_count": 14,
   "metadata": {
    "scrolled": false
   },
   "outputs": [
    {
     "data": {
      "image/png": "[encoded data removed]",
      "text/plain": [
       "<Figure size 172.8x108 with 1 Axes>"
      ]
     },
     "metadata": {
      "needs_background": "light"
     },
     "output_type": "display_data"
    },
    {
     "name": "stdout",
     "output_type": "stream",
     "text": [
      "Classification AUROC:\n",
      "                   mean       std       min       max\n",
      "sequence_size                                        \n",
      "50                  NaN       NaN       NaN       NaN\n",
      "100            0.022807  0.005931  0.010606  0.028685\n",
      "150            0.013339  0.003697  0.008395  0.020923\n",
      "200            0.007622  0.003687  0.000170  0.014026\n",
      "250            0.005552  0.003722  0.002450  0.012505\n",
      "300            0.002073  0.002156 -0.001489  0.006364\n",
      "350            0.001117  0.002389 -0.001888  0.005295\n",
      "400            0.001267  0.001531 -0.000395  0.004444\n",
      "450            0.001070  0.000545 -0.000036  0.001969\n",
      "500            0.000235  0.000730 -0.000980  0.001691\n",
      "550            0.001286  0.001011 -0.000257  0.002964\n",
      "600            0.000458  0.001105 -0.001504  0.001980\n",
      "650            0.000508  0.000960 -0.001369  0.001704\n",
      "700            0.000006  0.001126 -0.001639  0.002366\n"
     ]
    },
    {
     "data": {
      "image/png": "[encoded data removed]",
      "text/plain": [
       "<Figure size 172.8x108 with 1 Axes>"
      ]
     },
     "metadata": {
      "needs_background": "light"
     },
     "output_type": "display_data"
    },
    {
     "name": "stdout",
     "output_type": "stream",
     "text": [
      "Classification AUPRC:\n",
      "                   mean       std       min       max\n",
      "sequence_size                                        \n",
      "50                  NaN       NaN       NaN       NaN\n",
      "100            0.030045  0.005977  0.018069  0.036029\n",
      "150            0.013398  0.003423  0.009021  0.021239\n",
      "200            0.007389  0.003739 -0.000281  0.014107\n",
      "250            0.005322  0.003533  0.002066  0.011892\n",
      "300            0.002088  0.002145 -0.000833  0.006046\n",
      "350            0.001295  0.002260 -0.001415  0.005208\n",
      "400            0.001266  0.001365 -0.000564  0.003900\n",
      "450            0.001000  0.000388  0.000245  0.001580\n",
      "500            0.000124  0.000630 -0.000981  0.001104\n",
      "550            0.001033  0.000852 -0.000080  0.002547\n",
      "600            0.000542  0.001034 -0.001588  0.001873\n",
      "650            0.000555  0.001070 -0.001406  0.001942\n",
      "700           -0.000109  0.001297 -0.002001  0.002375\n"
     ]
    }
   ],
   "source": [
    "visualize_parameter_deltas('saccharomyces_cerevisiae', scer_seqgrid, base_model, \n",
    "                           'sequence_size', 500, np.arange(50,750,50).tolist(),\n",
    "                           'mean', replicates = 10, xlab_type = int, \n",
    "                           ylim = (-0.01,0.04), ytickint = 0.01, show_data = True)"
   ]
  },
  {
   "cell_type": "markdown",
   "metadata": {},
   "source": [
    "#### Parameter grid search"
   ]
  },
  {
   "cell_type": "code",
   "execution_count": 15,
   "metadata": {},
   "outputs": [
    {
     "name": "stdout",
     "output_type": "stream",
     "text": [
      "(260, 21)\n"
     ]
    }
   ],
   "source": [
    "scer_grid = pd.read_csv(os.path.join(RESOURCES, 'polyaclassifier_replicate_summary.saccharomyces_cerevisiae.txt'), sep = \"\\t\")\n",
    "scer_grid = scer_grid.loc[scer_grid['modeltype'] == 'param_imbalgrid'].copy()\n",
    "print(scer_grid.shape)\n"
   ]
  },
  {
   "cell_type": "code",
   "execution_count": 16,
   "metadata": {},
   "outputs": [
    {
     "data": {
      "image/png": "[encoded data removed]",
      "text/plain": [
       "<Figure size 75.6x108 with 1 Axes>"
      ]
     },
     "metadata": {
      "needs_background": "light"
     },
     "output_type": "display_data"
    },
    {
     "name": "stdout",
     "output_type": "stream",
     "text": [
      "\n",
      "Corresponding data:\n",
      "                     mean       std        se within1se\n",
      "architecture                                           \n",
      "classification   0.984968  0.001120  0.000354         *\n",
      "classification2  0.984869  0.001078  0.000341         *\n",
      "classification1  0.984456  0.001359  0.000430          \n",
      "classification3  0.984334  0.000687  0.000217          \n",
      "classification4  0.983771  0.000911  0.000288          \n",
      "\n",
      "T-test for differences in AUROC:\n",
      "classification1 vs classification AUROC: pval = 3.71E-01\n",
      "classification2 vs classification AUROC: pval = 8.43E-01\n",
      "classification3 vs classification AUROC: pval = 1.45E-01\n",
      "classification4 vs classification AUROC: pval = 1.73E-02\n"
     ]
    },
    {
     "data": {
      "image/png": "[encoded data removed]",
      "text/plain": [
       "<Figure size 75.6x108 with 1 Axes>"
      ]
     },
     "metadata": {
      "needs_background": "light"
     },
     "output_type": "display_data"
    },
    {
     "name": "stdout",
     "output_type": "stream",
     "text": [
      "\n",
      "Corresponding data:\n",
      "                     mean       std        se within1se\n",
      "architecture                                           \n",
      "classification2  0.985956  0.001257  0.000398         *\n",
      "classification   0.985911  0.001004  0.000317         *\n",
      "classification1  0.985479  0.001451  0.000459          \n",
      "classification3  0.985194  0.000960  0.000304          \n",
      "classification4  0.984854  0.001149  0.000363          \n",
      "\n",
      "T-test for differences in AUPRC:\n",
      "classification1 vs classification AUPRC: pval = 4.50E-01\n",
      "classification2 vs classification AUPRC: pval = 9.29E-01\n",
      "classification3 vs classification AUPRC: pval = 1.20E-01\n",
      "classification4 vs classification AUPRC: pval = 4.19E-02\n"
     ]
    }
   ],
   "source": [
    "visualize_parameter_effects('saccharomyces_cerevisiae', scer_grid, base_model, \n",
    "                            'architecture', 'classification', ['classification1','classification2', 'classification', 'classification3', 'classification4'],\n",
    "                            replicates = 10, rotate_labels = True, \n",
    "                            auc_line = 'mean', auc_ylim = (0.5,1.02))\n"
   ]
  },
  {
   "cell_type": "code",
   "execution_count": 17,
   "metadata": {},
   "outputs": [
    {
     "data": {
      "image/png": "[encoded data removed]",
      "text/plain": [
       "<Figure size 151.2x108 with 1 Axes>"
      ]
     },
     "metadata": {
      "needs_background": "light"
     },
     "output_type": "display_data"
    },
    {
     "name": "stdout",
     "output_type": "stream",
     "text": [
      "\n",
      "Corresponding data:\n",
      "             mean       std        se within1se\n",
      "label                                          \n",
      "512-16   0.986807  0.000776  0.000245         *\n",
      "512-64   0.986271  0.000761  0.000241          \n",
      "256-16   0.986137  0.000996  0.000315          \n",
      "512-128  0.986034  0.000752  0.000238          \n",
      "512-32   0.985785  0.001181  0.000374          \n",
      "256-32   0.985637  0.000930  0.000294          \n",
      "256-128  0.985420  0.000924  0.000292          \n",
      "256-64   0.985355  0.001198  0.000379          \n",
      "128-32   0.984968  0.001120  0.000354          \n",
      "128-64   0.984569  0.000573  0.000181          \n",
      "128-16   0.984242  0.001299  0.000411          \n",
      "128-128  0.984159  0.000961  0.000304          \n",
      "\n",
      "T-test for differences in AUROC:\n",
      "128-16 vs 512-16 AUROC: pval = 4.28E-05\n",
      "128-32 vs 512-16 AUROC: pval = 4.62E-04\n",
      "128-64 vs 512-16 AUROC: pval = 8.16E-07\n",
      "128-128 vs 512-16 AUROC: pval = 2.37E-06\n",
      "256-16 vs 512-16 AUROC: pval = 1.11E-01\n",
      "256-32 vs 512-16 AUROC: pval = 6.83E-03\n",
      "256-64 vs 512-16 AUROC: pval = 4.79E-03\n",
      "256-128 vs 512-16 AUROC: pval = 1.89E-03\n",
      "512-32 vs 512-16 AUROC: pval = 3.46E-02\n",
      "512-64 vs 512-16 AUROC: pval = 1.36E-01\n",
      "512-128 vs 512-16 AUROC: pval = 3.64E-02\n"
     ]
    },
    {
     "data": {
      "image/png": "[encoded data removed]",
      "text/plain": [
       "<Figure size 151.2x108 with 1 Axes>"
      ]
     },
     "metadata": {
      "needs_background": "light"
     },
     "output_type": "display_data"
    },
    {
     "name": "stdout",
     "output_type": "stream",
     "text": [
      "\n",
      "Corresponding data:\n",
      "             mean       std        se within1se\n",
      "label                                          \n",
      "512-16   0.987648  0.000752  0.000238         *\n",
      "512-64   0.987167  0.000862  0.000273          \n",
      "256-16   0.987117  0.000971  0.000307          \n",
      "512-128  0.986968  0.000839  0.000265          \n",
      "512-32   0.986696  0.001403  0.000444          \n",
      "256-32   0.986542  0.001147  0.000363          \n",
      "256-128  0.986432  0.001017  0.000322          \n",
      "256-64   0.986428  0.001225  0.000387          \n",
      "128-32   0.985911  0.001004  0.000317          \n",
      "128-64   0.985537  0.000723  0.000229          \n",
      "128-128  0.985261  0.001037  0.000328          \n",
      "128-16   0.985239  0.001067  0.000337          \n",
      "\n",
      "T-test for differences in AUPRC:\n",
      "128-16 vs 512-16 AUPRC: pval = 1.58E-05\n",
      "128-32 vs 512-16 AUPRC: pval = 3.62E-04\n",
      "128-64 vs 512-16 AUPRC: pval = 5.05E-06\n",
      "128-128 vs 512-16 AUPRC: pval = 1.41E-05\n",
      "256-16 vs 512-16 AUPRC: pval = 1.89E-01\n",
      "256-32 vs 512-16 AUPRC: pval = 2.02E-02\n",
      "256-64 vs 512-16 AUPRC: pval = 1.52E-02\n",
      "256-128 vs 512-16 AUPRC: pval = 7.05E-03\n",
      "512-32 vs 512-16 AUPRC: pval = 7.50E-02\n",
      "512-64 vs 512-16 AUPRC: pval = 2.01E-01\n",
      "512-128 vs 512-16 AUPRC: pval = 7.25E-02\n"
     ]
    }
   ],
   "source": [
    "visualize_combination_effects('saccharomyces_cerevisiae', scer_grid, base_model, \n",
    "                              ['conv_units','lstm_units'], '512-16', xlab_types = [int,int], \n",
    "                              replicates = 10, rotate_labels = True, \n",
    "                              auc_line = 'mean', auc_ylim = (0.5,1.02))\n"
   ]
  },
  {
   "cell_type": "code",
   "execution_count": 18,
   "metadata": {},
   "outputs": [
    {
     "data": {
      "image/png": "[encoded data removed]",
      "text/plain": [
       "<Figure size 118.8x108 with 1 Axes>"
      ]
     },
     "metadata": {
      "needs_background": "light"
     },
     "output_type": "display_data"
    },
    {
     "name": "stdout",
     "output_type": "stream",
     "text": [
      "\n",
      "Corresponding data:\n",
      "                mean       std        se within1se\n",
      "conv_shape                                        \n",
      "12          0.985246  0.000600  0.000190         *\n",
      "8           0.984968  0.001120  0.000354          \n",
      "10          0.984932  0.000960  0.000303          \n",
      "14          0.984717  0.001082  0.000342          \n",
      "6           0.984597  0.000979  0.000310          \n",
      "20          0.984128  0.001310  0.000414          \n",
      "16          0.984125  0.001749  0.000553          \n",
      "18          0.983799  0.001233  0.000390          \n",
      "4           0.982188  0.000893  0.000283          \n",
      "\n",
      "T-test for differences in AUROC:\n",
      "   4 vs   12 AUROC: pval = 4.51E-08\n",
      "   6 vs   12 AUROC: pval = 9.11E-02\n",
      "   8 vs   12 AUROC: pval = 4.98E-01\n",
      "  10 vs   12 AUROC: pval = 3.92E-01\n",
      "  14 vs   12 AUROC: pval = 1.93E-01\n",
      "  16 vs   12 AUROC: pval = 7.14E-02\n",
      "  18 vs   12 AUROC: pval = 3.67E-03\n",
      "  20 vs   12 AUROC: pval = 2.45E-02\n"
     ]
    },
    {
     "data": {
      "image/png": "[encoded data removed]",
      "text/plain": [
       "<Figure size 118.8x108 with 1 Axes>"
      ]
     },
     "metadata": {
      "needs_background": "light"
     },
     "output_type": "display_data"
    },
    {
     "name": "stdout",
     "output_type": "stream",
     "text": [
      "\n",
      "Corresponding data:\n",
      "                mean       std        se within1se\n",
      "conv_shape                                        \n",
      "12          0.986226  0.000677  0.000214         *\n",
      "10          0.986079  0.001037  0.000328         *\n",
      "8           0.985911  0.001004  0.000317          \n",
      "6           0.985695  0.001047  0.000331          \n",
      "14          0.985490  0.001257  0.000397          \n",
      "16          0.985110  0.001603  0.000507          \n",
      "18          0.984855  0.001315  0.000416          \n",
      "20          0.984849  0.001279  0.000404          \n",
      "4           0.983179  0.000922  0.000292          \n",
      "\n",
      "T-test for differences in AUPRC:\n",
      "   4 vs   12 AUPRC: pval = 1.18E-07\n",
      "   6 vs   12 AUPRC: pval = 1.95E-01\n",
      "   8 vs   12 AUPRC: pval = 4.21E-01\n",
      "  10 vs   12 AUPRC: pval = 7.12E-01\n",
      "  14 vs   12 AUPRC: pval = 1.21E-01\n",
      "  16 vs   12 AUPRC: pval = 5.77E-02\n",
      "  18 vs   12 AUPRC: pval = 8.93E-03\n",
      "  20 vs   12 AUPRC: pval = 7.55E-03\n"
     ]
    }
   ],
   "source": [
    "visualize_parameter_effects('saccharomyces_cerevisiae', scer_grid, base_model, \n",
    "                            'conv_shape', 12, replicates = 10, xlab_type=int,\n",
    "                            auc_line = 'mean', auc_ylim = (0.5,1.02))\n"
   ]
  },
  {
   "cell_type": "code",
   "execution_count": 19,
   "metadata": {
    "scrolled": false
   },
   "outputs": [
    {
     "data": {
      "image/png": "[encoded data removed]",
      "text/plain": [
       "<Figure size 54x108 with 1 Axes>"
      ]
     },
     "metadata": {
      "needs_background": "light"
     },
     "output_type": "display_data"
    },
    {
     "name": "stdout",
     "output_type": "stream",
     "text": [
      "\n",
      "Corresponding data:\n",
      "                 mean       std        se within1se\n",
      "bin_dropout                                        \n",
      "0.5          0.984968  0.001120  0.000354         *\n",
      "0.3          0.981570  0.000884  0.000280          \n",
      "0.7          0.979417  0.002028  0.000641          \n",
      "\n",
      "T-test for differences in AUROC:\n",
      " 0.3 vs  0.5 AUROC: pval = 5.74E-07\n",
      " 0.7 vs  0.5 AUROC: pval = 5.27E-07\n"
     ]
    },
    {
     "data": {
      "image/png": "[encoded data removed]",
      "text/plain": [
       "<Figure size 54x108 with 1 Axes>"
      ]
     },
     "metadata": {
      "needs_background": "light"
     },
     "output_type": "display_data"
    },
    {
     "name": "stdout",
     "output_type": "stream",
     "text": [
      "\n",
      "Corresponding data:\n",
      "                 mean       std        se within1se\n",
      "bin_dropout                                        \n",
      "0.5          0.985911  0.001004  0.000317         *\n",
      "0.3          0.982804  0.001098  0.000347          \n",
      "0.7          0.980790  0.001970  0.000623          \n",
      "\n",
      "T-test for differences in AUPRC:\n",
      " 0.3 vs  0.5 AUPRC: pval = 3.36E-06\n",
      " 0.7 vs  0.5 AUPRC: pval = 8.42E-07\n"
     ]
    }
   ],
   "source": [
    "visualize_parameter_effects('saccharomyces_cerevisiae', scer_grid, base_model, \n",
    "                            'bin_dropout', 0.5, replicates = 10,\n",
    "                            auc_line = 'mean', auc_ylim = (0.5,1.02))\n"
   ]
  },
  {
   "cell_type": "markdown",
   "metadata": {},
   "source": [
    "### S. pombe"
   ]
  },
  {
   "cell_type": "code",
   "execution_count": 20,
   "metadata": {},
   "outputs": [
    {
     "name": "stdout",
     "output_type": "stream",
     "text": [
      "(200, 21)\n"
     ]
    }
   ],
   "source": [
    "spom_seqgrid = pd.read_csv(os.path.join(RESOURCES, 'polyaclassifier_replicate_summary.schizosaccharomyces_pombe.txt'), sep = \"\\t\")\n",
    "spom_seqgrid = spom_seqgrid.loc[spom_seqgrid['modeltype'] == 'sequence_imbalgrid'].copy()\n",
    "print(spom_seqgrid.shape)\n"
   ]
  },
  {
   "cell_type": "code",
   "execution_count": 21,
   "metadata": {},
   "outputs": [
    {
     "data": {
      "image/png": "[encoded data removed]",
      "text/plain": [
       "<Figure size 237.6x108 with 1 Axes>"
      ]
     },
     "metadata": {
      "needs_background": "light"
     },
     "output_type": "display_data"
    },
    {
     "data": {
      "image/png": "[encoded data removed]",
      "text/plain": [
       "<Figure size 237.6x108 with 1 Axes>"
      ]
     },
     "metadata": {
      "needs_background": "light"
     },
     "output_type": "display_data"
    }
   ],
   "source": [
    "visualize_parameter_effects('schizosaccharomyces_pombe', spom_seqgrid, base_model, \n",
    "                            'sequence_size', 500, replicates = 10, xlab_type = int,\n",
    "                            auc_ylim = (0.5,1.02), show_data = False)"
   ]
  },
  {
   "cell_type": "code",
   "execution_count": 22,
   "metadata": {},
   "outputs": [
    {
     "data": {
      "image/png": "[encoded data removed]",
      "text/plain": [
       "<Figure size 172.8x108 with 1 Axes>"
      ]
     },
     "metadata": {
      "needs_background": "light"
     },
     "output_type": "display_data"
    },
    {
     "name": "stdout",
     "output_type": "stream",
     "text": [
      "Classification AUROC:\n",
      "                   mean       std       min       max\n",
      "sequence_size                                        \n",
      "50                  NaN       NaN       NaN       NaN\n",
      "100            0.013068  0.004213  0.007603  0.023035\n",
      "150            0.003754  0.002897 -0.000904  0.009944\n",
      "200            0.002300  0.001882 -0.000685  0.005640\n",
      "250            0.002133  0.001700 -0.000212  0.005328\n",
      "300            0.000297  0.002424 -0.005091  0.003435\n",
      "350            0.000144  0.002586 -0.005673  0.004340\n",
      "400            0.000375  0.002161 -0.003738  0.004593\n",
      "450           -0.000556  0.001942 -0.003920  0.002963\n",
      "500           -0.000072  0.001816 -0.003874  0.002350\n",
      "550            0.002219  0.002027 -0.000013  0.005451\n",
      "600           -0.000659  0.002717 -0.006608  0.003130\n",
      "650           -0.000497  0.003412 -0.006155  0.003814\n",
      "700            0.000212  0.003383 -0.003971  0.007076\n"
     ]
    },
    {
     "data": {
      "image/png": "[encoded data removed]",
      "text/plain": [
       "<Figure size 172.8x108 with 1 Axes>"
      ]
     },
     "metadata": {
      "needs_background": "light"
     },
     "output_type": "display_data"
    },
    {
     "name": "stdout",
     "output_type": "stream",
     "text": [
      "Classification AUPRC:\n",
      "                   mean       std       min       max\n",
      "sequence_size                                        \n",
      "50                  NaN       NaN       NaN       NaN\n",
      "100            0.014495  0.004093  0.008881  0.023375\n",
      "150            0.004329  0.002913 -0.000561  0.009885\n",
      "200            0.002437  0.001870  0.000536  0.006519\n",
      "250            0.002435  0.002121 -0.000624  0.007265\n",
      "300            0.000133  0.002732 -0.005813  0.002988\n",
      "350            0.000461  0.002354 -0.004443  0.004237\n",
      "400            0.000389  0.002476 -0.003570  0.004903\n",
      "450           -0.000296  0.002112 -0.003552  0.002728\n",
      "500            0.000061  0.002061 -0.003866  0.002133\n",
      "550            0.001719  0.002338 -0.001938  0.004895\n",
      "600           -0.000663  0.003557 -0.008221  0.004090\n",
      "650           -0.001112  0.004166 -0.008576  0.004168\n",
      "700            0.000271  0.003760 -0.004565  0.007395\n"
     ]
    }
   ],
   "source": [
    "visualize_parameter_deltas('schizosaccharomyces_pombe', spom_seqgrid, base_model, \n",
    "                           'sequence_size', 500, np.arange(50,750,50).tolist(),\n",
    "                           'mean', replicates = 10, xlab_type = int, \n",
    "                           ylim = (-0.005,0.02), ytickint = 0.005, show_data = True)"
   ]
  },
  {
   "cell_type": "markdown",
   "metadata": {},
   "source": [
    "#### Parameter grid search"
   ]
  },
  {
   "cell_type": "code",
   "execution_count": 23,
   "metadata": {},
   "outputs": [
    {
     "name": "stdout",
     "output_type": "stream",
     "text": [
      "(260, 21)\n"
     ]
    }
   ],
   "source": [
    "spom_grid = pd.read_csv(os.path.join(RESOURCES, 'polyaclassifier_replicate_summary.schizosaccharomyces_pombe.txt'), sep = \"\\t\")\n",
    "spom_grid = spom_grid.loc[spom_grid['modeltype'] == 'param_imbalgrid'].copy()\n",
    "print(spom_grid.shape)\n"
   ]
  },
  {
   "cell_type": "code",
   "execution_count": 24,
   "metadata": {},
   "outputs": [
    {
     "data": {
      "image/png": "[encoded data removed]",
      "text/plain": [
       "<Figure size 75.6x108 with 1 Axes>"
      ]
     },
     "metadata": {
      "needs_background": "light"
     },
     "output_type": "display_data"
    },
    {
     "name": "stdout",
     "output_type": "stream",
     "text": [
      "\n",
      "Corresponding data:\n",
      "                     mean       std        se within1se\n",
      "architecture                                           \n",
      "classification1  0.978104  0.001644  0.000520         *\n",
      "classification2  0.976762  0.002280  0.000721          \n",
      "classification   0.976275  0.002857  0.000903          \n",
      "classification3  0.976105  0.002474  0.000782          \n",
      "classification4  0.975214  0.001798  0.000568          \n",
      "\n",
      "T-test for differences in AUROC:\n",
      "classification2 vs classification1 AUROC: pval = 1.48E-01\n",
      "classification vs classification1 AUROC: pval = 9.62E-02\n",
      "classification3 vs classification1 AUROC: pval = 4.74E-02\n",
      "classification4 vs classification1 AUROC: pval = 1.46E-03\n"
     ]
    },
    {
     "data": {
      "image/png": "[encoded data removed]",
      "text/plain": [
       "<Figure size 75.6x108 with 1 Axes>"
      ]
     },
     "metadata": {
      "needs_background": "light"
     },
     "output_type": "display_data"
    },
    {
     "name": "stdout",
     "output_type": "stream",
     "text": [
      "\n",
      "Corresponding data:\n",
      "                     mean       std        se within1se\n",
      "architecture                                           \n",
      "classification1  0.978054  0.002433  0.000769         *\n",
      "classification2  0.977065  0.002651  0.000838          \n",
      "classification   0.976497  0.003479  0.001100          \n",
      "classification3  0.976385  0.002797  0.000884          \n",
      "classification4  0.975480  0.002184  0.000691          \n",
      "\n",
      "T-test for differences in AUPRC:\n",
      "classification2 vs classification1 AUPRC: pval = 3.96E-01\n",
      "classification vs classification1 AUPRC: pval = 2.61E-01\n",
      "classification3 vs classification1 AUPRC: pval = 1.71E-01\n",
      "classification4 vs classification1 AUPRC: pval = 2.28E-02\n"
     ]
    }
   ],
   "source": [
    "visualize_parameter_effects('schizosaccharomyces_pombe', spom_grid, base_model, \n",
    "                            'architecture', 'classification1', ['classification1','classification2', 'classification', 'classification3', 'classification4'],\n",
    "                            replicates = 10, rotate_labels = True, \n",
    "                            auc_line = 'mean', auc_ylim = (0.5,1.02))"
   ]
  },
  {
   "cell_type": "code",
   "execution_count": 25,
   "metadata": {},
   "outputs": [
    {
     "data": {
      "image/png": "[encoded data removed]",
      "text/plain": [
       "<Figure size 151.2x108 with 1 Axes>"
      ]
     },
     "metadata": {
      "needs_background": "light"
     },
     "output_type": "display_data"
    },
    {
     "name": "stdout",
     "output_type": "stream",
     "text": [
      "\n",
      "Corresponding data:\n",
      "             mean       std        se within1se\n",
      "label                                          \n",
      "512-16   0.980108  0.001588  0.000502         *\n",
      "512-32   0.980107  0.001275  0.000403         *\n",
      "256-16   0.979083  0.002016  0.000638          \n",
      "256-64   0.978515  0.002202  0.000696          \n",
      "256-32   0.978277  0.001561  0.000494          \n",
      "512-64   0.977471  0.002434  0.000770          \n",
      "256-128  0.977239  0.003167  0.001001          \n",
      "512-128  0.976851  0.002561  0.000810          \n",
      "128-64   0.976642  0.002154  0.000681          \n",
      "128-32   0.976275  0.002857  0.000903          \n",
      "128-128  0.976201  0.003692  0.001167          \n",
      "128-16   0.976101  0.002489  0.000787          \n",
      "\n",
      "T-test for differences in AUROC:\n",
      "128-16 vs 512-16 AUROC: pval = 4.40E-04\n",
      "128-32 vs 512-16 AUROC: pval = 1.61E-03\n",
      "128-64 vs 512-16 AUROC: pval = 6.80E-04\n",
      "128-128 vs 512-16 AUROC: pval = 6.54E-03\n",
      "256-16 vs 512-16 AUROC: pval = 2.23E-01\n",
      "256-32 vs 512-16 AUROC: pval = 1.82E-02\n",
      "256-64 vs 512-16 AUROC: pval = 8.01E-02\n",
      "256-128 vs 512-16 AUROC: pval = 1.97E-02\n",
      "512-32 vs 512-16 AUROC: pval = 1.00E+00\n",
      "512-64 vs 512-16 AUROC: pval = 1.02E-02\n",
      "512-128 vs 512-16 AUROC: pval = 3.07E-03\n"
     ]
    },
    {
     "data": {
      "image/png": "[encoded data removed]",
      "text/plain": [
       "<Figure size 151.2x108 with 1 Axes>"
      ]
     },
     "metadata": {
      "needs_background": "light"
     },
     "output_type": "display_data"
    },
    {
     "name": "stdout",
     "output_type": "stream",
     "text": [
      "\n",
      "Corresponding data:\n",
      "             mean       std        se within1se\n",
      "label                                          \n",
      "512-16   0.980633  0.001773  0.000561         *\n",
      "512-32   0.980425  0.001739  0.000550         *\n",
      "256-16   0.979518  0.002692  0.000851          \n",
      "256-64   0.978880  0.002698  0.000853          \n",
      "256-32   0.978584  0.002193  0.000694          \n",
      "256-128  0.977988  0.003522  0.001114          \n",
      "512-64   0.977962  0.002804  0.000887          \n",
      "512-128  0.977325  0.003093  0.000978          \n",
      "128-64   0.976797  0.002434  0.000770          \n",
      "128-32   0.976497  0.003479  0.001100          \n",
      "128-128  0.976257  0.004417  0.001397          \n",
      "128-16   0.976159  0.003161  0.001000          \n",
      "\n",
      "T-test for differences in AUPRC:\n",
      "128-16 vs 512-16 AUPRC: pval = 1.04E-03\n",
      "128-32 vs 512-16 AUPRC: pval = 3.57E-03\n",
      "128-64 vs 512-16 AUPRC: pval = 7.89E-04\n",
      "128-128 vs 512-16 AUPRC: pval = 9.40E-03\n",
      "256-16 vs 512-16 AUPRC: pval = 2.89E-01\n",
      "256-32 vs 512-16 AUPRC: pval = 3.38E-02\n",
      "256-64 vs 512-16 AUPRC: pval = 1.03E-01\n",
      "256-128 vs 512-16 AUPRC: pval = 4.81E-02\n",
      "512-32 vs 512-16 AUPRC: pval = 7.94E-01\n",
      "512-64 vs 512-16 AUPRC: pval = 2.03E-02\n",
      "512-128 vs 512-16 AUPRC: pval = 8.87E-03\n"
     ]
    }
   ],
   "source": [
    "visualize_combination_effects('schizosaccharomyces_pombe', spom_grid, base_model, \n",
    "                              ['conv_units','lstm_units'], '512-16', xlab_types = [int,int], \n",
    "                              replicates = 10, rotate_labels = True, \n",
    "                              auc_line = 'mean', auc_ylim = (0.5,1.02))"
   ]
  },
  {
   "cell_type": "code",
   "execution_count": 26,
   "metadata": {
    "scrolled": false
   },
   "outputs": [
    {
     "data": {
      "image/png": "[encoded data removed]",
      "text/plain": [
       "<Figure size 118.8x108 with 1 Axes>"
      ]
     },
     "metadata": {
      "needs_background": "light"
     },
     "output_type": "display_data"
    },
    {
     "name": "stdout",
     "output_type": "stream",
     "text": [
      "\n",
      "Corresponding data:\n",
      "                mean       std        se within1se\n",
      "conv_shape                                        \n",
      "6           0.977535  0.001761  0.000557         *\n",
      "4           0.976634  0.001699  0.000537          \n",
      "10          0.976435  0.001944  0.000615          \n",
      "8           0.976275  0.002857  0.000903          \n",
      "14          0.973786  0.002877  0.000910          \n",
      "12          0.973690  0.003286  0.001039          \n",
      "16          0.970875  0.003551  0.001123          \n",
      "18          0.968653  0.002548  0.000806          \n",
      "20          0.967405  0.005177  0.001637          \n",
      "\n",
      "T-test for differences in AUROC:\n",
      "   4 vs    6 AUROC: pval = 2.59E-01\n",
      "   8 vs    6 AUROC: pval = 2.50E-01\n",
      "  10 vs    6 AUROC: pval = 2.01E-01\n",
      "  12 vs    6 AUROC: pval = 4.34E-03\n",
      "  14 vs    6 AUROC: pval = 2.47E-03\n",
      "  16 vs    6 AUROC: pval = 4.73E-05\n",
      "  18 vs    6 AUROC: pval = 3.93E-08\n",
      "  20 vs    6 AUROC: pval = 1.51E-05\n"
     ]
    },
    {
     "data": {
      "image/png": "[encoded data removed]",
      "text/plain": [
       "<Figure size 118.8x108 with 1 Axes>"
      ]
     },
     "metadata": {
      "needs_background": "light"
     },
     "output_type": "display_data"
    },
    {
     "name": "stdout",
     "output_type": "stream",
     "text": [
      "\n",
      "Corresponding data:\n",
      "                mean       std        se within1se\n",
      "conv_shape                                        \n",
      "6           0.977894  0.002176  0.000688         *\n",
      "10          0.977045  0.002077  0.000657          \n",
      "4           0.976846  0.002015  0.000637          \n",
      "8           0.976497  0.003479  0.001100          \n",
      "12          0.973995  0.003605  0.001140          \n",
      "14          0.973710  0.003421  0.001082          \n",
      "16          0.970926  0.003332  0.001054          \n",
      "18          0.968864  0.002613  0.000826          \n",
      "20          0.967244  0.005736  0.001814          \n",
      "\n",
      "T-test for differences in AUPRC:\n",
      "   4 vs    6 AUPRC: pval = 2.78E-01\n",
      "   8 vs    6 AUPRC: pval = 2.96E-01\n",
      "  10 vs    6 AUPRC: pval = 3.84E-01\n",
      "  12 vs    6 AUPRC: pval = 8.98E-03\n",
      "  14 vs    6 AUPRC: pval = 4.32E-03\n",
      "  16 vs    6 AUPRC: pval = 2.95E-05\n",
      "  18 vs    6 AUPRC: pval = 1.22E-07\n",
      "  20 vs    6 AUPRC: pval = 3.26E-05\n"
     ]
    }
   ],
   "source": [
    "visualize_parameter_effects('schizosaccharomyces_pombe', spom_grid, base_model, \n",
    "                            'conv_shape', 6, replicates = 10, xlab_type = int,\n",
    "                            auc_line = 'mean', auc_ylim = (0.5,1.02))"
   ]
  },
  {
   "cell_type": "code",
   "execution_count": 27,
   "metadata": {},
   "outputs": [
    {
     "data": {
      "image/png": "[encoded data removed]",
      "text/plain": [
       "<Figure size 54x108 with 1 Axes>"
      ]
     },
     "metadata": {
      "needs_background": "light"
     },
     "output_type": "display_data"
    },
    {
     "name": "stdout",
     "output_type": "stream",
     "text": [
      "\n",
      "Corresponding data:\n",
      "                 mean       std        se within1se\n",
      "bin_dropout                                        \n",
      "0.5          0.976275  0.002857  0.000903         *\n",
      "0.3          0.973285  0.001358  0.000429          \n",
      "0.7          0.961661  0.008993  0.002844          \n",
      "\n",
      "T-test for differences in AUROC:\n",
      " 0.3 vs  0.5 AUROC: pval = 7.87E-03\n",
      " 0.7 vs  0.5 AUROC: pval = 1.16E-04\n"
     ]
    },
    {
     "data": {
      "image/png": "[encoded data removed]",
      "text/plain": [
       "<Figure size 54x108 with 1 Axes>"
      ]
     },
     "metadata": {
      "needs_background": "light"
     },
     "output_type": "display_data"
    },
    {
     "name": "stdout",
     "output_type": "stream",
     "text": [
      "\n",
      "Corresponding data:\n",
      "                 mean       std        se within1se\n",
      "bin_dropout                                        \n",
      "0.5          0.976497  0.003479  0.001100         *\n",
      "0.3          0.974007  0.002105  0.000666          \n",
      "0.7          0.961265  0.008762  0.002771          \n",
      "\n",
      "T-test for differences in AUPRC:\n",
      " 0.3 vs  0.5 AUPRC: pval = 6.87E-02\n",
      " 0.7 vs  0.5 AUPRC: pval = 7.34E-05\n"
     ]
    }
   ],
   "source": [
    "visualize_parameter_effects('schizosaccharomyces_pombe', spom_grid, base_model, \n",
    "                            'bin_dropout', 0.5, replicates = 10,\n",
    "                            auc_line = 'mean', auc_ylim = (0.5,1.02))"
   ]
  },
  {
   "cell_type": "markdown",
   "metadata": {},
   "source": [
    "### A. thaliana"
   ]
  },
  {
   "cell_type": "code",
   "execution_count": 28,
   "metadata": {},
   "outputs": [
    {
     "name": "stdout",
     "output_type": "stream",
     "text": [
      "(200, 21)\n"
     ]
    }
   ],
   "source": [
    "atha_seqgrid = pd.read_csv(os.path.join(RESOURCES, 'polyaclassifier_replicate_summary.arabidopsis_thaliana.txt'), sep = \"\\t\")\n",
    "atha_seqgrid = atha_seqgrid.loc[atha_seqgrid['modeltype'] == 'sequence_imbalgrid'].copy()\n",
    "print(atha_seqgrid.shape)\n"
   ]
  },
  {
   "cell_type": "code",
   "execution_count": 29,
   "metadata": {},
   "outputs": [
    {
     "data": {
      "image/png": "[encoded data removed]",
      "text/plain": [
       "<Figure size 237.6x108 with 1 Axes>"
      ]
     },
     "metadata": {
      "needs_background": "light"
     },
     "output_type": "display_data"
    },
    {
     "data": {
      "image/png": "[encoded data removed]",
      "text/plain": [
       "<Figure size 237.6x108 with 1 Axes>"
      ]
     },
     "metadata": {
      "needs_background": "light"
     },
     "output_type": "display_data"
    }
   ],
   "source": [
    "visualize_parameter_effects('arabidopsis_thaliana', atha_seqgrid, base_model, \n",
    "                            'sequence_size', 500, replicates = 10, xlab_type = int,\n",
    "                            auc_ylim = (0.5,1.02), show_data = False)"
   ]
  },
  {
   "cell_type": "code",
   "execution_count": 30,
   "metadata": {},
   "outputs": [
    {
     "data": {
      "image/png": "[encoded data removed]",
      "text/plain": [
       "<Figure size 172.8x108 with 1 Axes>"
      ]
     },
     "metadata": {
      "needs_background": "light"
     },
     "output_type": "display_data"
    },
    {
     "name": "stdout",
     "output_type": "stream",
     "text": [
      "Classification AUROC:\n",
      "                   mean       std       min       max\n",
      "sequence_size                                        \n",
      "50                  NaN       NaN       NaN       NaN\n",
      "100            0.017455  0.004465  0.012100  0.028119\n",
      "150            0.008116  0.003159  0.002874  0.014167\n",
      "200            0.003919  0.002752  0.000781  0.010733\n",
      "250            0.003221  0.001881  0.000993  0.007030\n",
      "300            0.000863  0.001819 -0.001691  0.004190\n",
      "350            0.001884  0.001635  0.000040  0.004972\n",
      "400            0.001286  0.000758 -0.000442  0.002574\n",
      "450            0.000999  0.001199 -0.001280  0.002662\n",
      "500            0.000977  0.000941 -0.000581  0.002519\n",
      "550            0.000533  0.000778 -0.000687  0.001814\n",
      "600            0.000625  0.000945 -0.000876  0.002032\n",
      "650            0.000216  0.000719 -0.000771  0.001149\n",
      "700            0.000377  0.000583 -0.000676  0.001132\n"
     ]
    },
    {
     "data": {
      "image/png": "[encoded data removed]",
      "text/plain": [
       "<Figure size 172.8x108 with 1 Axes>"
      ]
     },
     "metadata": {
      "needs_background": "light"
     },
     "output_type": "display_data"
    },
    {
     "name": "stdout",
     "output_type": "stream",
     "text": [
      "Classification AUPRC:\n",
      "                   mean       std       min       max\n",
      "sequence_size                                        \n",
      "50                  NaN       NaN       NaN       NaN\n",
      "100            0.022289  0.005334  0.014795  0.034535\n",
      "150            0.010340  0.003589  0.005060  0.017069\n",
      "200            0.004669  0.002705  0.001360  0.011276\n",
      "250            0.003274  0.001909  0.001097  0.007608\n",
      "300            0.001180  0.001881 -0.001343  0.004784\n",
      "350            0.001820  0.001771 -0.000392  0.005121\n",
      "400            0.001331  0.000737 -0.000374  0.002271\n",
      "450            0.001268  0.001361 -0.001278  0.002745\n",
      "500            0.001003  0.001015 -0.000682  0.002852\n",
      "550            0.000625  0.001071 -0.001312  0.002397\n",
      "600            0.000731  0.001125 -0.000969  0.002168\n",
      "650            0.000279  0.000950 -0.001107  0.001384\n",
      "700            0.000369  0.000772 -0.001228  0.001080\n"
     ]
    }
   ],
   "source": [
    "visualize_parameter_deltas('arabidopsis_thaliana', atha_seqgrid, base_model, \n",
    "                           'sequence_size', 500, np.arange(50,750,50).tolist(),\n",
    "                           'mean', replicates = 10, xlab_type = int, \n",
    "                           ylim = (-0.005,0.03), ytickint = 0.005, show_data = True)"
   ]
  },
  {
   "cell_type": "markdown",
   "metadata": {},
   "source": [
    "#### Parameter grid search"
   ]
  },
  {
   "cell_type": "code",
   "execution_count": 31,
   "metadata": {},
   "outputs": [
    {
     "name": "stdout",
     "output_type": "stream",
     "text": [
      "(260, 21)\n"
     ]
    }
   ],
   "source": [
    "atha_grid = pd.read_csv(os.path.join(RESOURCES, 'polyaclassifier_replicate_summary.arabidopsis_thaliana.txt'), sep = \"\\t\")\n",
    "atha_grid = atha_grid.loc[atha_grid['modeltype'] == 'param_imbalgrid'].copy()\n",
    "print(atha_grid.shape)\n"
   ]
  },
  {
   "cell_type": "code",
   "execution_count": 32,
   "metadata": {
    "scrolled": false
   },
   "outputs": [
    {
     "data": {
      "image/png": "[encoded data removed]",
      "text/plain": [
       "<Figure size 75.6x108 with 1 Axes>"
      ]
     },
     "metadata": {
      "needs_background": "light"
     },
     "output_type": "display_data"
    },
    {
     "name": "stdout",
     "output_type": "stream",
     "text": [
      "\n",
      "Corresponding data:\n",
      "                     mean       std        se within1se\n",
      "architecture                                           \n",
      "classification2  0.992166  0.000683  0.000216         *\n",
      "classification   0.991748  0.000696  0.000220          \n",
      "classification1  0.991606  0.001094  0.000346          \n",
      "classification3  0.991197  0.000848  0.000268          \n",
      "classification4  0.991054  0.000733  0.000232          \n",
      "\n",
      "T-test for differences in AUROC:\n",
      "classification1 vs classification2 AUROC: pval = 1.86E-01\n",
      "classification vs classification2 AUROC: pval = 1.92E-01\n",
      "classification3 vs classification2 AUROC: pval = 1.15E-02\n",
      "classification4 vs classification2 AUROC: pval = 2.50E-03\n"
     ]
    },
    {
     "data": {
      "image/png": "[encoded data removed]",
      "text/plain": [
       "<Figure size 75.6x108 with 1 Axes>"
      ]
     },
     "metadata": {
      "needs_background": "light"
     },
     "output_type": "display_data"
    },
    {
     "name": "stdout",
     "output_type": "stream",
     "text": [
      "\n",
      "Corresponding data:\n",
      "                     mean       std        se within1se\n",
      "architecture                                           \n",
      "classification2  0.991385  0.000794  0.000251         *\n",
      "classification   0.990908  0.001006  0.000318          \n",
      "classification1  0.990709  0.001078  0.000341          \n",
      "classification3  0.990128  0.001154  0.000365          \n",
      "classification4  0.990098  0.000824  0.000261          \n",
      "\n",
      "T-test for differences in AUPRC:\n",
      "classification1 vs classification2 AUPRC: pval = 1.28E-01\n",
      "classification vs classification2 AUPRC: pval = 2.55E-01\n",
      "classification3 vs classification2 AUPRC: pval = 1.09E-02\n",
      "classification4 vs classification2 AUPRC: pval = 2.26E-03\n"
     ]
    }
   ],
   "source": [
    "visualize_parameter_effects('arabidopsis_thaliana', atha_grid, base_model, \n",
    "                            'architecture', 'classification2', ['classification1','classification2', 'classification', 'classification3', 'classification4'],\n",
    "                            replicates = 10, rotate_labels = True, \n",
    "                            auc_line = 'mean', auc_ylim = (0.5,1.02))"
   ]
  },
  {
   "cell_type": "code",
   "execution_count": 33,
   "metadata": {
    "scrolled": false
   },
   "outputs": [
    {
     "data": {
      "image/png": "[encoded data removed]",
      "text/plain": [
       "<Figure size 151.2x108 with 1 Axes>"
      ]
     },
     "metadata": {
      "needs_background": "light"
     },
     "output_type": "display_data"
    },
    {
     "name": "stdout",
     "output_type": "stream",
     "text": [
      "\n",
      "Corresponding data:\n",
      "             mean       std        se within1se\n",
      "label                                          \n",
      "512-16   0.993152  0.000951  0.000301         *\n",
      "512-32   0.992970  0.000855  0.000270         *\n",
      "512-64   0.992965  0.000522  0.000165         *\n",
      "512-128  0.992953  0.000760  0.000240         *\n",
      "256-64   0.992668  0.000754  0.000238          \n",
      "256-16   0.992460  0.000617  0.000195          \n",
      "256-32   0.992381  0.000973  0.000308          \n",
      "256-128  0.992336  0.000894  0.000283          \n",
      "128-64   0.992077  0.000822  0.000260          \n",
      "128-128  0.992052  0.000699  0.000221          \n",
      "128-16   0.991854  0.000450  0.000142          \n",
      "128-32   0.991748  0.000696  0.000220          \n",
      "\n",
      "T-test for differences in AUROC:\n",
      "128-16 vs 512-16 AUROC: pval = 1.05E-03\n",
      "128-32 vs 512-16 AUROC: pval = 1.41E-03\n",
      "128-64 vs 512-16 AUROC: pval = 1.45E-02\n",
      "128-128 vs 512-16 AUROC: pval = 8.63E-03\n",
      "256-16 vs 512-16 AUROC: pval = 6.94E-02\n",
      "256-32 vs 512-16 AUROC: pval = 8.98E-02\n",
      "256-64 vs 512-16 AUROC: pval = 2.24E-01\n",
      "256-128 vs 512-16 AUROC: pval = 6.34E-02\n",
      "512-32 vs 512-16 AUROC: pval = 6.58E-01\n",
      "512-64 vs 512-16 AUROC: pval = 5.93E-01\n",
      "512-128 vs 512-16 AUROC: pval = 6.11E-01\n"
     ]
    },
    {
     "data": {
      "image/png": "[encoded data removed]",
      "text/plain": [
       "<Figure size 151.2x108 with 1 Axes>"
      ]
     },
     "metadata": {
      "needs_background": "light"
     },
     "output_type": "display_data"
    },
    {
     "name": "stdout",
     "output_type": "stream",
     "text": [
      "\n",
      "Corresponding data:\n",
      "             mean       std        se within1se\n",
      "label                                          \n",
      "512-16   0.992483  0.001105  0.000349         *\n",
      "512-32   0.992244  0.000816  0.000258         *\n",
      "512-64   0.992189  0.000757  0.000239         *\n",
      "512-128  0.992083  0.000958  0.000303          \n",
      "256-64   0.991869  0.000938  0.000297          \n",
      "256-16   0.991631  0.000680  0.000215          \n",
      "256-32   0.991576  0.001074  0.000340          \n",
      "256-128  0.991545  0.000965  0.000305          \n",
      "128-64   0.991341  0.000978  0.000309          \n",
      "128-128  0.991204  0.000991  0.000313          \n",
      "128-16   0.991127  0.000492  0.000155          \n",
      "128-32   0.990908  0.001006  0.000318          \n",
      "\n",
      "T-test for differences in AUPRC:\n",
      "128-16 vs 512-16 AUPRC: pval = 2.31E-03\n",
      "128-32 vs 512-16 AUPRC: pval = 3.70E-03\n",
      "128-64 vs 512-16 AUPRC: pval = 2.48E-02\n",
      "128-128 vs 512-16 AUPRC: pval = 1.39E-02\n",
      "256-16 vs 512-16 AUPRC: pval = 5.24E-02\n",
      "256-32 vs 512-16 AUPRC: pval = 7.92E-02\n",
      "256-64 vs 512-16 AUPRC: pval = 1.97E-01\n",
      "256-128 vs 512-16 AUPRC: pval = 5.82E-02\n",
      "512-32 vs 512-16 AUPRC: pval = 5.89E-01\n",
      "512-64 vs 512-16 AUPRC: pval = 4.96E-01\n",
      "512-128 vs 512-16 AUPRC: pval = 3.99E-01\n"
     ]
    }
   ],
   "source": [
    "visualize_combination_effects('arabidopsis_thaliana', atha_grid, base_model, \n",
    "                              ['conv_units','lstm_units'], '512-16', xlab_types = [int,int], \n",
    "                              replicates = 10, rotate_labels = True, \n",
    "                              auc_line = 'mean', auc_ylim = (0.5,1.02))"
   ]
  },
  {
   "cell_type": "code",
   "execution_count": 34,
   "metadata": {},
   "outputs": [
    {
     "data": {
      "image/png": "[encoded data removed]",
      "text/plain": [
       "<Figure size 118.8x108 with 1 Axes>"
      ]
     },
     "metadata": {
      "needs_background": "light"
     },
     "output_type": "display_data"
    },
    {
     "name": "stdout",
     "output_type": "stream",
     "text": [
      "\n",
      "Corresponding data:\n",
      "                mean       std        se within1se\n",
      "conv_shape                                        \n",
      "10          0.991844  0.000761  0.000241         *\n",
      "6           0.991769  0.000510  0.000161         *\n",
      "8           0.991748  0.000696  0.000220         *\n",
      "14          0.991525  0.000747  0.000236          \n",
      "12          0.991514  0.000651  0.000206          \n",
      "4           0.991128  0.000833  0.000264          \n",
      "18          0.991058  0.000772  0.000244          \n",
      "16          0.990896  0.000735  0.000232          \n",
      "20          0.990593  0.000592  0.000187          \n",
      "\n",
      "T-test for differences in AUROC:\n",
      "   4 vs   10 AUROC: pval = 6.00E-02\n",
      "   6 vs   10 AUROC: pval = 7.97E-01\n",
      "   8 vs   10 AUROC: pval = 7.71E-01\n",
      "  12 vs   10 AUROC: pval = 3.11E-01\n",
      "  14 vs   10 AUROC: pval = 3.56E-01\n",
      "  16 vs   10 AUROC: pval = 1.10E-02\n",
      "  18 vs   10 AUROC: pval = 3.41E-02\n",
      "  20 vs   10 AUROC: pval = 6.64E-04\n"
     ]
    },
    {
     "data": {
      "image/png": "[encoded data removed]",
      "text/plain": [
       "<Figure size 118.8x108 with 1 Axes>"
      ]
     },
     "metadata": {
      "needs_background": "light"
     },
     "output_type": "display_data"
    },
    {
     "name": "stdout",
     "output_type": "stream",
     "text": [
      "\n",
      "Corresponding data:\n",
      "                mean       std        se within1se\n",
      "conv_shape                                        \n",
      "10          0.990935  0.000961  0.000304         *\n",
      "8           0.990908  0.001006  0.000318         *\n",
      "6           0.990854  0.000837  0.000265         *\n",
      "14          0.990823  0.000901  0.000285         *\n",
      "12          0.990720  0.000718  0.000227         *\n",
      "18          0.990397  0.000830  0.000262          \n",
      "4           0.990268  0.000925  0.000293          \n",
      "16          0.990075  0.000888  0.000281          \n",
      "20          0.989808  0.000779  0.000246          \n",
      "\n",
      "T-test for differences in AUPRC:\n",
      "   4 vs   10 AUPRC: pval = 1.31E-01\n",
      "   6 vs   10 AUPRC: pval = 8.42E-01\n",
      "   8 vs   10 AUPRC: pval = 9.52E-01\n",
      "  12 vs   10 AUPRC: pval = 5.77E-01\n",
      "  14 vs   10 AUPRC: pval = 7.91E-01\n",
      "  16 vs   10 AUPRC: pval = 5.22E-02\n",
      "  18 vs   10 AUPRC: pval = 1.96E-01\n",
      "  20 vs   10 AUPRC: pval = 9.92E-03\n"
     ]
    }
   ],
   "source": [
    "visualize_parameter_effects('arabidopsis_thaliana', atha_grid, base_model, \n",
    "                            'conv_shape', 10, replicates = 10, xlab_type = int,\n",
    "                            auc_line = 'mean', auc_ylim = (0.5,1.02))"
   ]
  },
  {
   "cell_type": "code",
   "execution_count": 35,
   "metadata": {},
   "outputs": [
    {
     "data": {
      "image/png": "[encoded data removed]",
      "text/plain": [
       "<Figure size 54x108 with 1 Axes>"
      ]
     },
     "metadata": {
      "needs_background": "light"
     },
     "output_type": "display_data"
    },
    {
     "name": "stdout",
     "output_type": "stream",
     "text": [
      "\n",
      "Corresponding data:\n",
      "                 mean       std        se within1se\n",
      "bin_dropout                                        \n",
      "0.5          0.991748  0.000696  0.000220         *\n",
      "0.3          0.990249  0.001618  0.000512          \n",
      "0.7          0.989308  0.002112  0.000668          \n",
      "\n",
      "T-test for differences in AUROC:\n",
      " 0.3 vs  0.5 AUROC: pval = 1.50E-02\n",
      " 0.7 vs  0.5 AUROC: pval = 2.74E-03\n"
     ]
    },
    {
     "data": {
      "image/png": "[encoded data removed]",
      "text/plain": [
       "<Figure size 54x108 with 1 Axes>"
      ]
     },
     "metadata": {
      "needs_background": "light"
     },
     "output_type": "display_data"
    },
    {
     "name": "stdout",
     "output_type": "stream",
     "text": [
      "\n",
      "Corresponding data:\n",
      "                 mean       std        se within1se\n",
      "bin_dropout                                        \n",
      "0.5          0.990908  0.001006  0.000318         *\n",
      "0.3          0.989345  0.001625  0.000514          \n",
      "0.7          0.988406  0.002382  0.000753          \n",
      "\n",
      "T-test for differences in AUPRC:\n",
      " 0.3 vs  0.5 AUPRC: pval = 1.86E-02\n",
      " 0.7 vs  0.5 AUPRC: pval = 6.73E-03\n"
     ]
    }
   ],
   "source": [
    "visualize_parameter_effects('arabidopsis_thaliana', atha_grid, base_model, \n",
    "                            'bin_dropout', 0.5, replicates = 10,\n",
    "                            auc_line = 'mean', auc_ylim = (0.5,1.02))"
   ]
  }
 ],
 "metadata": {
  "kernelspec": {
   "display_name": "Python (tf-train)",
   "language": "python",
   "name": "tf-train"
  },
  "language_info": {
   "codemirror_mode": {
    "name": "ipython",
    "version": 3
   },
   "file_extension": ".py",
   "mimetype": "text/x-python",
   "name": "python",
   "nbconvert_exporter": "python",
   "pygments_lexer": "ipython3",
   "version": "3.6.12"
  }
 },
 "nbformat": 4,
 "nbformat_minor": 2
}
