{
 "cells": [
  {
   "cell_type": "markdown",
   "metadata": {},
   "source": [
    "# PolyaClassifier cross-species predictions\n",
    "\n",
    "**Purpose**: To investigate the species-specificity of polyA site predictions using models trained on *S. cerevisiae*, *S. pombe*, *A. thaliana*, and *H. sapiens* data.\n"
   ]
  },
  {
   "cell_type": "code",
   "execution_count": 1,
   "metadata": {},
   "outputs": [],
   "source": [
    "%load_ext autoreload"
   ]
  },
  {
   "cell_type": "code",
   "execution_count": 2,
   "metadata": {},
   "outputs": [],
   "source": [
    "%autoreload 2"
   ]
  },
  {
   "cell_type": "code",
   "execution_count": 3,
   "metadata": {},
   "outputs": [],
   "source": [
    "%run -i notebook_setup.py"
   ]
  },
  {
   "cell_type": "markdown",
   "metadata": {},
   "source": [
    "## IMPORTS AND SETUP"
   ]
  },
  {
   "cell_type": "code",
   "execution_count": 4,
   "metadata": {},
   "outputs": [],
   "source": [
    "PROJECT   = \"/projects/b1080/eks/polyadenylation/yeast\"\n",
    "OUTDIR    = os.path.join(PROJECT, 'manuscript', 'analysis', 'polyaclassifier_model_cross_species_predictions')\n",
    "RESOURCES = os.path.join(os.path.dirname(OUTDIR), 'resources')\n",
    "os.makedirs(OUTDIR, exist_ok = True)\n"
   ]
  },
  {
   "cell_type": "code",
   "execution_count": 5,
   "metadata": {},
   "outputs": [],
   "source": [
    "boxplot_format = {\n",
    "    'boxprops' : {'edgecolor' : 'black', 'linewidth' : 0.5},\n",
    "    'medianprops' : {'color' : 'black', 'linewidth' : 0.5},\n",
    "    'whiskerprops' : {'color' : 'black', 'linewidth' : 0.5},\n",
    "    'capprops' : {'color' : 'black', 'linewidth' : 0.5},\n",
    "    'flierprops' : {'color' : 'black'},\n",
    "    'showfliers' : False\n",
    "}\n",
    "\n",
    "barplot_format = {\n",
    "    'color'     : 'lightgray',\n",
    "    'edgecolor' : 'black',\n",
    "    'linewidth' : 0.5\n",
    "}"
   ]
  },
  {
   "cell_type": "markdown",
   "metadata": {},
   "source": [
    "## HELPER FUNCTIONS"
   ]
  },
  {
   "cell_type": "code",
   "execution_count": 6,
   "metadata": {},
   "outputs": [],
   "source": [
    "def calculate_cross_species_performance(data_species, data_seed, data_posvar, model_species, model_descriptions):\n",
    "    \n",
    "    results = {}\n",
    "    \n",
    "    for i,(mspecies,mdesc) in enumerate(zip(model_species,model_descriptions)):\n",
    "        \n",
    "        if (mdesc == 'polyaid'):\n",
    "            pred_col = 'PolyaID_classification'\n",
    "        else:\n",
    "            pred_col = 'classification'\n",
    "\n",
    "        data = pd.read_csv(os.path.join(RESOURCES, f\"polyaclassifier_cross_species_predictions.{data_species}_test_data_{data_seed}.pred_by_{mspecies}_{mdesc}.txt\"), sep = \"\\t\")\n",
    "        data['obs_class'] = (data[data_posvar] > 0).astype(int)\n",
    "\n",
    "        fpr, tpr, thresholds = roc_curve(data['obs_class'], data[pred_col])\n",
    "        auroc = auc(fpr, tpr)\n",
    "\n",
    "        prec, rec, thresholds = precision_recall_curve(data['obs_class'], data[pred_col])\n",
    "        auprc = auc(rec, prec)\n",
    "        \n",
    "        results[i] = {\n",
    "            'model_species': mspecies, \n",
    "            'classification_AUROC' : auroc, \n",
    "            'classification_AUPRC' : auprc\n",
    "        }\n",
    "    \n",
    "    return pd.DataFrame.from_dict(results, orient = 'index')\n"
   ]
  },
  {
   "cell_type": "code",
   "execution_count": 7,
   "metadata": {},
   "outputs": [],
   "source": [
    "def visualize_cross_species_performance(data_species, results):\n",
    "    \n",
    "    ## AUROC\n",
    "    \n",
    "    fig,ax = plt.subplots(1,1, figsize = (0.3+(0.15*len(results)),1.5))\n",
    "\n",
    "    sns.barplot(data = results, x = 'model_species', y = 'classification_AUROC', **barplot_format, ax = ax)\n",
    "\n",
    "    ax.set_xticklabels(ax.get_xticklabels(), rotation = 45, va = 'top', ha = 'right')\n",
    "\n",
    "    ax.set_xlabel(\"Species of model used for prediction\")\n",
    "    ax.set_ylabel(\"AUROC\")\n",
    "    \n",
    "    ax.set_ylim(0.5,1.02)\n",
    "    ax.yaxis.set_major_locator(MultipleLocator(0.1))\n",
    "\n",
    "    ax.spines['right'].set_visible(False)\n",
    "    ax.spines['top'].set_visible(False)\n",
    "\n",
    "    plt.savefig(os.path.join(OUTDIR, f'polyaclassifier_cross_species_predictions.{data_species}.auroc.svg'), format = 'svg', dpi = 600)\n",
    "    plt.show()\n",
    "    \n",
    "    ## AUPRC\n",
    "\n",
    "    fig,ax = plt.subplots(1,1, figsize = (0.3+(0.15*len(results)),1.5))\n",
    "\n",
    "    sns.barplot(data = results, x = 'model_species', y = 'classification_AUPRC', **barplot_format, ax = ax)\n",
    "\n",
    "    ax.set_xticklabels(ax.get_xticklabels(), rotation = 45, va = 'top', ha = 'right')\n",
    "\n",
    "    ax.set_xlabel(\"Species of model used for prediction\")\n",
    "    ax.set_ylabel(\"AUPRC\")\n",
    "    \n",
    "    ax.set_ylim(0.5,1.02)\n",
    "    ax.yaxis.set_major_locator(MultipleLocator(0.1))\n",
    "\n",
    "    ax.spines['right'].set_visible(False)\n",
    "    ax.spines['top'].set_visible(False)\n",
    "\n",
    "    plt.savefig(os.path.join(OUTDIR, f'polyaclassifier_cross_species_predictions.{data_species}.auprc.svg'), format = 'svg', dpi = 600)\n",
    "    plt.show()\n",
    "    \n",
    "    ## Display data\n",
    "\n",
    "    print(\"\\nCorresponding data:\")\n",
    "    print(results)\n",
    "    \n",
    "    return\n"
   ]
  },
  {
   "cell_type": "markdown",
   "metadata": {},
   "source": [
    "## ANALYSIS"
   ]
  },
  {
   "cell_type": "markdown",
   "metadata": {},
   "source": [
    "### Compile performance metrics for test set predictions made by other species models"
   ]
  },
  {
   "cell_type": "code",
   "execution_count": 8,
   "metadata": {},
   "outputs": [],
   "source": [
    "scer_data = calculate_cross_species_performance('scer', '12345', 'supporting_reads', ['scer','spom','atha','hsap'], ['bagging3models','bagging3models','bagging3models','polyaid'])\n",
    "spom_data = calculate_cross_species_performance('spom', '12345', 'supporting_reads', ['scer','spom','atha','hsap'], ['bagging3models','bagging3models','bagging3models','polyaid'])\n",
    "atha_data = calculate_cross_species_performance('atha', '12345', 'supporting_reads', ['scer','spom','atha','hsap'], ['bagging3models','bagging3models','bagging3models','polyaid'])\n"
   ]
  },
  {
   "cell_type": "markdown",
   "metadata": {},
   "source": [
    "### Visualize the differences in AUROC and AUPRC for these predictions"
   ]
  },
  {
   "cell_type": "code",
   "execution_count": 9,
   "metadata": {},
   "outputs": [
    {
     "data": {
      "image/png": "[encoded data removed]",
      "text/plain": [
       "<Figure size 64.8x108 with 1 Axes>"
      ]
     },
     "metadata": {
      "needs_background": "light"
     },
     "output_type": "display_data"
    },
    {
     "data": {
      "image/png": "[encoded data removed]",
      "text/plain": [
       "<Figure size 64.8x108 with 1 Axes>"
      ]
     },
     "metadata": {
      "needs_background": "light"
     },
     "output_type": "display_data"
    },
    {
     "name": "stdout",
     "output_type": "stream",
     "text": [
      "\n",
      "Corresponding data:\n",
      "  model_species  classification_AUROC  classification_AUPRC\n",
      "0          scer              0.989145              0.989672\n",
      "1          spom              0.866901              0.874759\n",
      "2          atha              0.852279              0.861133\n",
      "3          hsap              0.584890              0.644978\n"
     ]
    }
   ],
   "source": [
    "visualize_cross_species_performance('scer', scer_data)\n"
   ]
  },
  {
   "cell_type": "code",
   "execution_count": 10,
   "metadata": {},
   "outputs": [
    {
     "data": {
      "image/png": "[encoded data removed]",
      "text/plain": [
       "<Figure size 64.8x108 with 1 Axes>"
      ]
     },
     "metadata": {
      "needs_background": "light"
     },
     "output_type": "display_data"
    },
    {
     "data": {
      "image/png": "[encoded data removed]",
      "text/plain": [
       "<Figure size 64.8x108 with 1 Axes>"
      ]
     },
     "metadata": {
      "needs_background": "light"
     },
     "output_type": "display_data"
    },
    {
     "name": "stdout",
     "output_type": "stream",
     "text": [
      "\n",
      "Corresponding data:\n",
      "  model_species  classification_AUROC  classification_AUPRC\n",
      "0          scer              0.880751              0.875796\n",
      "1          spom              0.987903              0.988786\n",
      "2          atha              0.876967              0.868982\n",
      "3          hsap              0.561711              0.605372\n"
     ]
    }
   ],
   "source": [
    "visualize_cross_species_performance('spom', spom_data)\n"
   ]
  },
  {
   "cell_type": "code",
   "execution_count": 11,
   "metadata": {},
   "outputs": [
    {
     "data": {
      "image/png": "[encoded data removed]",
      "text/plain": [
       "<Figure size 64.8x108 with 1 Axes>"
      ]
     },
     "metadata": {
      "needs_background": "light"
     },
     "output_type": "display_data"
    },
    {
     "data": {
      "image/png": "[encoded data removed]",
      "text/plain": [
       "<Figure size 64.8x108 with 1 Axes>"
      ]
     },
     "metadata": {
      "needs_background": "light"
     },
     "output_type": "display_data"
    },
    {
     "name": "stdout",
     "output_type": "stream",
     "text": [
      "\n",
      "Corresponding data:\n",
      "  model_species  classification_AUROC  classification_AUPRC\n",
      "0          scer              0.849648              0.830573\n",
      "1          spom              0.867477              0.860498\n",
      "2          atha              0.994226              0.994093\n",
      "3          hsap              0.621773              0.638798\n"
     ]
    }
   ],
   "source": [
    "visualize_cross_species_performance('atha', atha_data)\n"
   ]
  }
 ],
 "metadata": {
  "kernelspec": {
   "display_name": "Python (tf-train)",
   "language": "python",
   "name": "tf-train"
  },
  "language_info": {
   "codemirror_mode": {
    "name": "ipython",
    "version": 3
   },
   "file_extension": ".py",
   "mimetype": "text/x-python",
   "name": "python",
   "nbconvert_exporter": "python",
   "pygments_lexer": "ipython3",
   "version": "3.6.12"
  }
 },
 "nbformat": 4,
 "nbformat_minor": 2
}
