{
 "cells": [
  {
   "cell_type": "markdown",
   "metadata": {},
   "source": [
    "# PolyaClassifier model development\n",
    "\n",
    "**Purpose**: To develop a model that can predict the presence of yeast polyadenylation sites in genomic sequences.\n"
   ]
  },
  {
   "cell_type": "code",
   "execution_count": 1,
   "metadata": {},
   "outputs": [],
   "source": [
    "%load_ext autoreload"
   ]
  },
  {
   "cell_type": "code",
   "execution_count": 2,
   "metadata": {},
   "outputs": [],
   "source": [
    "%autoreload 2"
   ]
  },
  {
   "cell_type": "code",
   "execution_count": 3,
   "metadata": {},
   "outputs": [],
   "source": [
    "%run -i notebook_setup.py"
   ]
  },
  {
   "cell_type": "markdown",
   "metadata": {},
   "source": [
    "## IMPORTS AND SETUP"
   ]
  },
  {
   "cell_type": "code",
   "execution_count": 4,
   "metadata": {},
   "outputs": [],
   "source": [
    "from paper_utilities import models\n"
   ]
  },
  {
   "cell_type": "code",
   "execution_count": 5,
   "metadata": {},
   "outputs": [],
   "source": [
    "PROJECT   = \"/projects/b1080/eks/polyadenylation/yeast\"\n",
    "OUTDIR    = os.path.join(PROJECT, 'manuscript', 'analysis', 'polyaclassifier_model_development')\n",
    "RESOURCES = os.path.join(os.path.dirname(OUTDIR), 'resources')\n",
    "os.makedirs(OUTDIR, exist_ok = True)\n"
   ]
  },
  {
   "cell_type": "markdown",
   "metadata": {},
   "source": [
    "## ANALYSIS"
   ]
  },
  {
   "cell_type": "markdown",
   "metadata": {},
   "source": [
    "### Saccharomyces cerevisiae"
   ]
  },
  {
   "cell_type": "code",
   "execution_count": 6,
   "metadata": {},
   "outputs": [
    {
     "name": "stdout",
     "output_type": "stream",
     "text": [
      "Input sites:\n",
      "\t8047\n",
      "By class:\n",
      "\t{1.0: 4046, 0.0: 4001}\n"
     ]
    }
   ],
   "source": [
    "scer_test_data = pd.read_csv(os.path.join(RESOURCES, 'polyaclassifier_cross_species_predictions.scer_test_data_12345.pred_by_scer_bagging3models.txt'), sep = \"\\t\")\n",
    "print(f\"Input sites:\\n\\t{scer_test_data.shape[0]}\")\n",
    "\n",
    "scer_test_data.loc[scer_test_data['supporting_reads'] >  0, 'obs_class'] = 1\n",
    "scer_test_data.loc[scer_test_data['supporting_reads'] == 0, 'obs_class'] = 0\n",
    "print(f\"By class:\\n\\t{scer_test_data['obs_class'].value_counts().to_dict()}\")\n"
   ]
  },
  {
   "cell_type": "code",
   "execution_count": 7,
   "metadata": {},
   "outputs": [
    {
     "data": {
      "image/png": "[encoded data removed]",
      "text/plain": [
       "<Figure size 72x72 with 1 Axes>"
      ]
     },
     "metadata": {
      "needs_background": "light"
     },
     "output_type": "display_data"
    }
   ],
   "source": [
    "fig,ax = plt.subplots(1,1, figsize = (1,1))\n",
    "\n",
    "ax.plot([0,1], [0,1], 'k--', linewidth = 0.5)\n",
    "\n",
    "fpr, tpr, thresholds = roc_curve(scer_test_data['obs_class'], scer_test_data['classification'])\n",
    "ax.plot(fpr, tpr, color = 'k', linewidth = 1, label = f'AUROC = {auc(fpr, tpr):.4f}')\n",
    "\n",
    "ax.set_xlim((-0.05, 1.05))\n",
    "ax.set_ylim((-0.05, 1.05))\n",
    "ax.set_xlabel(\"1-Specificity\")\n",
    "ax.set_ylabel(\"Sensitivity\")\n",
    "ax.legend(loc = \"best\")\n",
    "ax.set_aspect('equal')\n",
    "\n",
    "ax.spines['right'].set_visible(False)\n",
    "ax.spines['top'].set_visible(False)\n",
    "\n",
    "ax.xaxis.set_major_locator(MultipleLocator(0.5))\n",
    "ax.yaxis.set_major_locator(MultipleLocator(0.5))\n",
    "\n",
    "plt.savefig(os.path.join(OUTDIR, 'saccharomyces_cerevisiae.polyaclassifier.test.auroc.svg'), format = 'svg', dpi = 600, transparent = True)\n",
    "plt.show()\n"
   ]
  },
  {
   "cell_type": "code",
   "execution_count": 8,
   "metadata": {},
   "outputs": [
    {
     "data": {
      "image/png": "[encoded data removed]",
      "text/plain": [
       "<Figure size 72x72 with 1 Axes>"
      ]
     },
     "metadata": {
      "needs_background": "light"
     },
     "output_type": "display_data"
    }
   ],
   "source": [
    "fig,ax = plt.subplots(1,1, figsize = (1,1))\n",
    "\n",
    "ax.plot([0,1], [1,0], 'k--', linewidth = 0.5)\n",
    "\n",
    "prc, rec, thresholds = precision_recall_curve(scer_test_data['obs_class'], scer_test_data['classification'])\n",
    "\n",
    "## Manually add dot at recall=1 and precision=0 to force line to be completely drawn\n",
    "prcPlot = np.concatenate(([0], prc))\n",
    "recPlot = np.concatenate(([1], rec))\n",
    "\n",
    "ax.plot(recPlot, prcPlot, color = 'k', linewidth = 1, label = f'AUPRC = {auc(rec, prc):.4f}')\n",
    "\n",
    "ax.set_xlim((-0.05, 1.05))\n",
    "ax.set_ylim((-0.05, 1.05))\n",
    "ax.set_xlabel(\"Recall\")\n",
    "ax.set_ylabel(\"Precision\")\n",
    "ax.legend(loc = \"best\")\n",
    "ax.set_aspect('equal')\n",
    "\n",
    "ax.spines['right'].set_visible(False)\n",
    "ax.spines['top'].set_visible(False)\n",
    "\n",
    "ax.xaxis.set_major_locator(MultipleLocator(0.5))\n",
    "ax.yaxis.set_major_locator(MultipleLocator(0.5))\n",
    "\n",
    "plt.savefig(os.path.join(OUTDIR, 'saccharomyces_cerevisiae.polyaclassifier.test.auprc.svg'), format = 'svg', dpi = 600, transparent = True)\n",
    "plt.show()\n"
   ]
  },
  {
   "cell_type": "markdown",
   "metadata": {},
   "source": [
    "### Schizoaccharomyces pombe"
   ]
  },
  {
   "cell_type": "code",
   "execution_count": 9,
   "metadata": {},
   "outputs": [
    {
     "name": "stdout",
     "output_type": "stream",
     "text": [
      "Input sites:\n",
      "\t2515\n",
      "By class:\n",
      "\t{1.0: 1269, 0.0: 1246}\n"
     ]
    }
   ],
   "source": [
    "spom_test_data = pd.read_csv(os.path.join(RESOURCES, 'polyaclassifier_cross_species_predictions.spom_test_data_12345.pred_by_spom_bagging3models.txt'), sep = \"\\t\")\n",
    "print(f\"Input sites:\\n\\t{spom_test_data.shape[0]}\")\n",
    "\n",
    "spom_test_data.loc[spom_test_data['supporting_reads'] >  0, 'obs_class'] = 1\n",
    "spom_test_data.loc[spom_test_data['supporting_reads'] == 0, 'obs_class'] = 0\n",
    "print(f\"By class:\\n\\t{spom_test_data['obs_class'].value_counts().to_dict()}\")\n"
   ]
  },
  {
   "cell_type": "code",
   "execution_count": 10,
   "metadata": {},
   "outputs": [
    {
     "data": {
      "image/png": "[encoded data removed]",
      "text/plain": [
       "<Figure size 72x72 with 1 Axes>"
      ]
     },
     "metadata": {
      "needs_background": "light"
     },
     "output_type": "display_data"
    }
   ],
   "source": [
    "fig,ax = plt.subplots(1,1, figsize = (1,1))\n",
    "\n",
    "ax.plot([0,1], [0,1], 'k--', linewidth = 0.5)\n",
    "\n",
    "fpr, tpr, thresholds = roc_curve(spom_test_data['obs_class'], spom_test_data['classification'])\n",
    "ax.plot(fpr, tpr, color = 'k', linewidth = 1, label = f'AUROC = {auc(fpr, tpr):.4f}')\n",
    "\n",
    "ax.set_xlim((-0.05, 1.05))\n",
    "ax.set_ylim((-0.05, 1.05))\n",
    "ax.set_xlabel(\"1-Specificity\")\n",
    "ax.set_ylabel(\"Sensitivity\")\n",
    "ax.legend(loc = \"best\")\n",
    "ax.set_aspect('equal')\n",
    "\n",
    "ax.spines['right'].set_visible(False)\n",
    "ax.spines['top'].set_visible(False)\n",
    "\n",
    "ax.xaxis.set_major_locator(MultipleLocator(0.5))\n",
    "ax.yaxis.set_major_locator(MultipleLocator(0.5))\n",
    "\n",
    "plt.savefig(os.path.join(OUTDIR, 'schizosaccharomyces_pombe.polyaclassifier.test.auroc.svg'), format = 'svg', dpi = 600, transparent = True)\n",
    "plt.show()\n"
   ]
  },
  {
   "cell_type": "code",
   "execution_count": 11,
   "metadata": {},
   "outputs": [
    {
     "data": {
      "image/png": "[encoded data removed]",
      "text/plain": [
       "<Figure size 72x72 with 1 Axes>"
      ]
     },
     "metadata": {
      "needs_background": "light"
     },
     "output_type": "display_data"
    }
   ],
   "source": [
    "fig,ax = plt.subplots(1,1, figsize = (1,1))\n",
    "\n",
    "ax.plot([0,1], [1,0], 'k--', linewidth = 0.5)\n",
    "\n",
    "prc, rec, thresholds = precision_recall_curve(spom_test_data['obs_class'], spom_test_data['classification'])\n",
    "\n",
    "## Manually add dot at recall=1 and precision=0 to force line to be completely drawn\n",
    "prcPlot = np.concatenate(([0], prc))\n",
    "recPlot = np.concatenate(([1], rec))\n",
    "\n",
    "ax.plot(recPlot, prcPlot, color = 'k', linewidth = 1, label = f'AUPRC = {auc(rec, prc):.4f}')\n",
    "\n",
    "ax.set_xlim((-0.05, 1.05))\n",
    "ax.set_ylim((-0.05, 1.05))\n",
    "ax.set_xlabel(\"Recall\")\n",
    "ax.set_ylabel(\"Precision\")\n",
    "ax.legend(loc = \"best\")\n",
    "ax.set_aspect('equal')\n",
    "\n",
    "ax.spines['right'].set_visible(False)\n",
    "ax.spines['top'].set_visible(False)\n",
    "\n",
    "ax.xaxis.set_major_locator(MultipleLocator(0.5))\n",
    "ax.yaxis.set_major_locator(MultipleLocator(0.5))\n",
    "\n",
    "plt.savefig(os.path.join(OUTDIR, 'schizosaccharomyces_pombe.polyaclassifier.test.auprc.svg'), format = 'svg', dpi = 600, transparent = True)\n",
    "plt.show()\n"
   ]
  },
  {
   "cell_type": "markdown",
   "metadata": {},
   "source": [
    "### Arabidopsis thaliana"
   ]
  },
  {
   "cell_type": "code",
   "execution_count": 12,
   "metadata": {},
   "outputs": [
    {
     "name": "stdout",
     "output_type": "stream",
     "text": [
      "Input sites:\n",
      "\t9415\n",
      "By class:\n",
      "\t{1.0: 4764, 0.0: 4651}\n"
     ]
    }
   ],
   "source": [
    "atha_test_data = pd.read_csv(os.path.join(RESOURCES, 'polyaclassifier_cross_species_predictions.atha_test_data_12345.pred_by_atha_bagging3models.txt'), sep = \"\\t\")\n",
    "print(f\"Input sites:\\n\\t{atha_test_data.shape[0]}\")\n",
    "\n",
    "atha_test_data.loc[atha_test_data['supporting_reads'] >  0, 'obs_class'] = 1\n",
    "atha_test_data.loc[atha_test_data['supporting_reads'] == 0, 'obs_class'] = 0\n",
    "print(f\"By class:\\n\\t{atha_test_data['obs_class'].value_counts().to_dict()}\")\n"
   ]
  },
  {
   "cell_type": "code",
   "execution_count": 13,
   "metadata": {},
   "outputs": [
    {
     "data": {
      "image/png": "[encoded data removed]",
      "text/plain": [
       "<Figure size 72x72 with 1 Axes>"
      ]
     },
     "metadata": {
      "needs_background": "light"
     },
     "output_type": "display_data"
    }
   ],
   "source": [
    "fig,ax = plt.subplots(1,1, figsize = (1,1))\n",
    "\n",
    "ax.plot([0,1], [0,1], 'k--', linewidth = 0.5)\n",
    "\n",
    "fpr, tpr, thresholds = roc_curve(atha_test_data['obs_class'], atha_test_data['classification'])\n",
    "ax.plot(fpr, tpr, color = 'k', linewidth = 1, label = f'AUROC = {auc(fpr, tpr):.4f}')\n",
    "\n",
    "ax.set_xlim((-0.05, 1.05))\n",
    "ax.set_ylim((-0.05, 1.05))\n",
    "ax.set_xlabel(\"1-Specificity\")\n",
    "ax.set_ylabel(\"Sensitivity\")\n",
    "ax.legend(loc = \"best\")\n",
    "ax.set_aspect('equal')\n",
    "\n",
    "ax.spines['right'].set_visible(False)\n",
    "ax.spines['top'].set_visible(False)\n",
    "\n",
    "ax.xaxis.set_major_locator(MultipleLocator(0.5))\n",
    "ax.yaxis.set_major_locator(MultipleLocator(0.5))\n",
    "\n",
    "plt.savefig(os.path.join(OUTDIR, 'arabidopsis_thaliana.polyaclassifier.test.auroc.svg'), format = 'svg', dpi = 600, transparent = True)\n",
    "plt.show()\n"
   ]
  },
  {
   "cell_type": "code",
   "execution_count": 14,
   "metadata": {},
   "outputs": [
    {
     "data": {
      "image/png": "[encoded data removed]",
      "text/plain": [
       "<Figure size 72x72 with 1 Axes>"
      ]
     },
     "metadata": {
      "needs_background": "light"
     },
     "output_type": "display_data"
    }
   ],
   "source": [
    "fig,ax = plt.subplots(1,1, figsize = (1,1))\n",
    "\n",
    "ax.plot([0,1], [1,0], 'k--', linewidth = 0.5)\n",
    "\n",
    "prc, rec, thresholds = precision_recall_curve(atha_test_data['obs_class'], atha_test_data['classification'])\n",
    "\n",
    "## Manually add dot at recall=1 and precision=0 to force line to be completely drawn\n",
    "prcPlot = np.concatenate(([0], prc))\n",
    "recPlot = np.concatenate(([1], rec))\n",
    "\n",
    "ax.plot(recPlot, prcPlot, color = 'k', linewidth = 1, label = f'AUPRC = {auc(rec, prc):.4f}')\n",
    "\n",
    "ax.set_xlim((-0.05, 1.05))\n",
    "ax.set_ylim((-0.05, 1.05))\n",
    "ax.set_xlabel(\"Recall\")\n",
    "ax.set_ylabel(\"Precision\")\n",
    "ax.legend(loc = \"best\")\n",
    "ax.set_aspect('equal')\n",
    "\n",
    "ax.spines['right'].set_visible(False)\n",
    "ax.spines['top'].set_visible(False)\n",
    "\n",
    "ax.xaxis.set_major_locator(MultipleLocator(0.5))\n",
    "ax.yaxis.set_major_locator(MultipleLocator(0.5))\n",
    "\n",
    "plt.savefig(os.path.join(OUTDIR, 'arabidopsis_thaliana.polyaclassifier.test.auprc.svg'), format = 'svg', dpi = 600, transparent = True)\n",
    "plt.show()\n"
   ]
  }
 ],
 "metadata": {
  "kernelspec": {
   "display_name": "Python (tf-train)",
   "language": "python",
   "name": "tf-train"
  },
  "language_info": {
   "codemirror_mode": {
    "name": "ipython",
    "version": 3
   },
   "file_extension": ".py",
   "mimetype": "text/x-python",
   "name": "python",
   "nbconvert_exporter": "python",
   "pygments_lexer": "ipython3",
   "version": "3.6.12"
  }
 },
 "nbformat": 4,
 "nbformat_minor": 2
}
