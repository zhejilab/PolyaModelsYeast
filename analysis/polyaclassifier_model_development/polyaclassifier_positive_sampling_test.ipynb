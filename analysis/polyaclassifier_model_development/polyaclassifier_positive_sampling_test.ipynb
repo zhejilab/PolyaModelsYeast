{
 "cells": [
  {
   "cell_type": "markdown",
   "metadata": {},
   "source": [
    "# PolyaClassifier positive sampling test\n",
    "\n",
    "**Purpose**: To investigate the effects of down-sampled positive sites on PolyaClassifier performance.\n"
   ]
  },
  {
   "cell_type": "code",
   "execution_count": 1,
   "metadata": {},
   "outputs": [],
   "source": [
    "%load_ext autoreload"
   ]
  },
  {
   "cell_type": "code",
   "execution_count": 2,
   "metadata": {},
   "outputs": [],
   "source": [
    "%autoreload 2"
   ]
  },
  {
   "cell_type": "code",
   "execution_count": 3,
   "metadata": {},
   "outputs": [],
   "source": [
    "%run -i notebook_setup.py"
   ]
  },
  {
   "cell_type": "markdown",
   "metadata": {},
   "source": [
    "## IMPORTS AND SETUP"
   ]
  },
  {
   "cell_type": "code",
   "execution_count": 4,
   "metadata": {},
   "outputs": [],
   "source": [
    "import paper_utilities\n",
    "from paper_utilities import models\n",
    "\n",
    "from functools import reduce\n"
   ]
  },
  {
   "cell_type": "code",
   "execution_count": 5,
   "metadata": {},
   "outputs": [],
   "source": [
    "PROJECT   = \"/projects/b1080/eks/polyadenylation/yeast\"\n",
    "OUTDIR    = os.path.join(PROJECT, 'manuscript', 'analysis', 'polyaclassifier_model_positive_sampling_comparison')\n",
    "RESOURCES = os.path.join(os.path.dirname(OUTDIR), 'resources')\n",
    "os.makedirs(OUTDIR, exist_ok = True)\n"
   ]
  },
  {
   "cell_type": "markdown",
   "metadata": {},
   "source": [
    "## HELPER FUNCTIONS"
   ]
  },
  {
   "cell_type": "code",
   "execution_count": 6,
   "metadata": {},
   "outputs": [],
   "source": [
    "def compare_configuration(row, config):\n",
    "    return all([(row[var] == config[var]) for var in config.keys()])\n"
   ]
  },
  {
   "cell_type": "code",
   "execution_count": 7,
   "metadata": {},
   "outputs": [],
   "source": [
    "def compile_input_data(datapath, data_index, data_type, header = True):\n",
    "    \n",
    "    data = []\n",
    "    \n",
    "    with open(datapath, mode = 'r') as infile:\n",
    "        if (header):\n",
    "            infile.readline()\n",
    "        for line in infile:\n",
    "            data.append(data_type(line.rstrip(\"\\n\").split(\"\\t\")[data_index]))\n",
    "            \n",
    "    return data\n",
    "        \n",
    "\n",
    "    \n",
    "def compile_prediction_dict(datapath, sequence_index, prediction_index, header = True):\n",
    "    \n",
    "    predictions = {}\n",
    "    \n",
    "    with open(datapath, mode = 'r') as infile:\n",
    "        if (header):\n",
    "            infile.readline()\n",
    "        for line in infile:\n",
    "            llist = line.rstrip(\"\\n\").split(\"\\t\")\n",
    "            predictions[llist[sequence_index]] = float(llist[prediction_index])\n",
    "            \n",
    "    return predictions\n",
    "\n",
    "\n",
    "\n",
    "def concatenate_aggregate_performance(models, data_desc, data_seeds, models_to_use = [], verbose = False):\n",
    "    \n",
    "    results   = {}\n",
    "    counter   = 0\n",
    "    \n",
    "    ## Iterate over input data sets\n",
    "    \n",
    "    obs_classes  = []\n",
    "    pred_classes = []\n",
    "\n",
    "    for data_seed in data_seeds:\n",
    "        \n",
    "        ## Combine predictions\n",
    "        \n",
    "        sequences = compile_input_data(os.path.join(RESOURCES, 'polyaclassifier_sampling_test', f\"{data_desc}_{data_seed}.polyaclassifier_{models_to_use[0]}.txt\"), 9, str)\n",
    "        reads     = compile_input_data(os.path.join(RESOURCES, 'polyaclassifier_sampling_test', f\"{data_desc}_{data_seed}.polyaclassifier_{models_to_use[0]}.txt\"), 6, float)\n",
    "        classes   = (np.asarray(reads) > 0).astype(int)\n",
    "\n",
    "        predictions = np.zeros((len(sequences),len(models_to_use)))\n",
    "\n",
    "        for i,s in enumerate(models_to_use):\n",
    "            sdict = compile_prediction_dict(os.path.join(RESOURCES, 'polyaclassifier_sampling_test', f\"{data_desc}_{data_seed}.polyaclassifier_{s}.txt\"), 9, 12)\n",
    "            predictions[:,i] = np.asarray([sdict[seq] for seq in sequences])\n",
    "\n",
    "        predictions = np.mean(predictions, axis = 1)\n",
    "    \n",
    "        ## Quality length of data lists\n",
    "        \n",
    "        if (len(list(set([len(sequences), len(reads), len(classes), len(predictions)]))) > 1):\n",
    "            raise ValueError()\n",
    "\n",
    "        ## Recalculate AUROC and AUPRC using mean predictions\n",
    "    \n",
    "        obs_classes.append(classes)\n",
    "        pred_classes.append(predictions)\n",
    "        \n",
    "    obs_classes  = list(itertools.chain.from_iterable(obs_classes))\n",
    "    pred_classes = list(itertools.chain.from_iterable(pred_classes))\n",
    "\n",
    "    fpr, tpr, thresholds = roc_curve(obs_classes, pred_classes)\n",
    "    auroc = auc(fpr, tpr)\n",
    "\n",
    "    prec, rec, thresholds = precision_recall_curve(obs_classes, pred_classes)\n",
    "    auprc = auc(rec, prec)\n",
    "\n",
    "    results[counter] = {'model_stamps': models_to_use, 'negative_seed': data_seed, 'classification_AUROC': auroc, 'classification_AUPRC': auprc}\n",
    "    counter += 1\n",
    "\n",
    "    return pd.DataFrame.from_dict(results, orient = 'index')\n"
   ]
  },
  {
   "cell_type": "code",
   "execution_count": 8,
   "metadata": {},
   "outputs": [],
   "source": [
    "def calculate_split_sites(datapath, split, posvar = None):\n",
    "    \n",
    "    counter = 0\n",
    "    \n",
    "    with open(datapath, mode = 'r') as handle:\n",
    "        header = handle.readline().rstrip(\"\\n\").split(\"\\t\")\n",
    "            \n",
    "        for line in handle:\n",
    "            ldict = dict(zip(header, line.rstrip(\"\\n\").split(\"\\t\")))\n",
    "            \n",
    "            if (ldict['split'] == split):\n",
    "                if (posvar is None):\n",
    "                    counter += 1\n",
    "                elif (float(ldict[posvar]) > 0):\n",
    "                    counter += 1\n",
    "    \n",
    "    return counter\n"
   ]
  },
  {
   "cell_type": "code",
   "execution_count": 9,
   "metadata": {},
   "outputs": [],
   "source": [
    "def summarize_performance_by_training_size(models, test_nickname, subset_reads_list, data_seeds):\n",
    "    \n",
    "    subset_results = []\n",
    "\n",
    "    for subset_reads in subset_reads_list:\n",
    "\n",
    "        subset_data = models.loc[models['dataset'].str.contains(f'reads_{subset_reads}')]\n",
    "        print(sorted(subset_data['training_sitesR'].unique()))\n",
    "\n",
    "        for training_size in sorted(subset_data['training_sitesR'].unique()):\n",
    "\n",
    "            subset_stamps = subset_data.loc[subset_data['training_sitesR'] == training_size, 'stamp'].tolist()\n",
    "            print(f\"Subset reads={subset_reads} size={training_size} stamps={','.join(subset_stamps)}\")\n",
    "\n",
    "            results = concatenate_aggregate_performance(subset_data,\n",
    "                                                        f'{test_nickname}_possamp{subset_reads}_test_data', \n",
    "                                                        data_seeds, \n",
    "                                                        models_to_use = subset_stamps, verbose = False)\n",
    "\n",
    "            results['subset_reads'] = subset_reads\n",
    "            results['subset_size'] = training_size\n",
    "            results['subset_size_div1000'] = training_size / 1000\n",
    "            results['subset_size_log10'] = np.log10(training_size)\n",
    "\n",
    "            subset_results.append(results)\n",
    "\n",
    "    return pd.concat(subset_results, ignore_index = True, sort = False)\n"
   ]
  },
  {
   "cell_type": "code",
   "execution_count": 10,
   "metadata": {},
   "outputs": [],
   "source": [
    "def visualize_performance_by_training_size(species, results, ylim = None, ytickint = 0.02, xlim = None, xtickint = 5, star_subset_reads = None, star_train_size = None):\n",
    "    \n",
    "    sres = results.sort_values('subset_size', ascending = True)\n",
    "    \n",
    "    ## AUROC\n",
    "    \n",
    "    fig,ax = plt.subplots(1,1, figsize = (1,1))\n",
    "\n",
    "    ax.plot(sres['subset_size_div1000'], sres['classification_AUROC'], color = 'black', linewidth = 1, zorder = 1)\n",
    "    ax.scatter(sres['subset_size_div1000'], sres['classification_AUROC'], color = 'black', s = 25, marker = '.', linewidths = 0, edgecolors = 'none', zorder = 1)\n",
    "\n",
    "    if (star_subset_reads is not None) and (star_train_size is not None):\n",
    "        star_y = sres.loc[(sres['subset_reads'] == star_subset_reads) & (sres['subset_size_div1000'] == star_train_size), 'classification_AUROC']\n",
    "        ax.scatter(star_train_size, star_y, label = 'Final training size', marker = '*', s = 15, linewidths = 0.25, c = 'firebrick', zorder = 2)\n",
    "\n",
    "    ax.set_xlabel(\"Training data size (x1000)\")\n",
    "    ax.set_ylabel(\"AUROC\")\n",
    "\n",
    "    ax.set_xticks(np.arange(xlim[0], xlim[1]+xtickint, xtickint, dtype = int))\n",
    "\n",
    "    ax.yaxis.set_major_locator(MultipleLocator(ytickint))\n",
    "    ax.set_ylim(ylim)\n",
    "    \n",
    "    ax.legend(bbox_to_anchor = (1.05,1))\n",
    "\n",
    "    ax.spines['right'].set_visible(False)\n",
    "    ax.spines['top'].set_visible(False)\n",
    "\n",
    "    plt.savefig(os.path.join(OUTDIR, f'{species}.auroc_by_training_size.svg'), format = 'svg', dpi = 600)\n",
    "    plt.show()\n",
    "    \n",
    "    ## AUPRC\n",
    "    \n",
    "    fig,ax = plt.subplots(1,1, figsize = (1,1))\n",
    "\n",
    "    ax.plot(sres['subset_size_div1000'], sres['classification_AUPRC'], color = 'black', linewidth = 1, zorder = 1)\n",
    "    ax.scatter(sres['subset_size_div1000'], sres['classification_AUPRC'], color = 'black', s = 25, marker = '.', linewidths = 0, edgecolors = 'none', zorder = 1)\n",
    "\n",
    "    if (star_subset_reads is not None) and (star_train_size is not None):\n",
    "        star_y = sres.loc[(sres['subset_reads'] == star_subset_reads) & (sres['subset_size_div1000'] == star_train_size), 'classification_AUPRC']\n",
    "        ax.scatter(star_train_size, star_y, label = 'Final training size', marker = '*', s = 15, linewidths = 0.25, c = 'firebrick', zorder = 2)\n",
    "\n",
    "    ax.set_xlabel(\"Training data size (x1000)\")\n",
    "    ax.set_ylabel(\"AUPRC\")\n",
    "\n",
    "    ax.set_xticks(np.arange(xlim[0], xlim[1]+xtickint, xtickint, dtype = int))\n",
    "\n",
    "    ax.yaxis.set_major_locator(MultipleLocator(ytickint))\n",
    "    ax.set_ylim(ylim)\n",
    "    \n",
    "    ax.legend(bbox_to_anchor = (1.05,1))\n",
    "\n",
    "    ax.spines['right'].set_visible(False)\n",
    "    ax.spines['top'].set_visible(False)\n",
    "\n",
    "    plt.savefig(os.path.join(OUTDIR, f'{species}.auprc_by_training_size.svg'), format = 'svg', dpi = 600)\n",
    "    plt.show()\n",
    "    \n",
    "    return\n"
   ]
  },
  {
   "cell_type": "markdown",
   "metadata": {},
   "source": [
    "## ANALYSIS"
   ]
  },
  {
   "cell_type": "markdown",
   "metadata": {},
   "source": [
    "### Saccharomyces cerevisiae"
   ]
  },
  {
   "cell_type": "markdown",
   "metadata": {},
   "source": [
    "#### Train bagged models using subsets of the training data to investigate effect of training set size"
   ]
  },
  {
   "cell_type": "code",
   "execution_count": 11,
   "metadata": {},
   "outputs": [],
   "source": [
    "scer_config = {\n",
    "    'genomic_As'    : 'redistA',\n",
    "    'architecture'  : 'classification',\n",
    "    'sequence_size' : 500,\n",
    "    'conv_units'    : 512,\n",
    "    'lstm_units'    : 16,\n",
    "    'conv_shape'    : 12,\n",
    "    'bin_dropout'   : 0.5,\n",
    "    'learning_rate' : 0.001,\n",
    "}\n",
    "\n",
    "scer_data_stamps  = ['74070','135795','197520']\n",
    "scer_final_stamps = [\"20240422-094557\",\"20240422-094624\",\"20240422-094653\"]\n"
   ]
  },
  {
   "cell_type": "markdown",
   "metadata": {},
   "source": [
    "#### Compile model performance summaries and tabulate the number of training sites"
   ]
  },
  {
   "cell_type": "code",
   "execution_count": 12,
   "metadata": {},
   "outputs": [
    {
     "name": "stdout",
     "output_type": "stream",
     "text": [
      "(48, 21)\n"
     ]
    }
   ],
   "source": [
    "scer_data = pd.read_csv(os.path.join(RESOURCES, 'polyaclassifier_replicate_summary.saccharomyces_cerevisiae.txt'), sep = \"\\t\")\n",
    "scer_data = scer_data.loc[scer_data.apply(lambda row : compare_configuration(row, scer_config), axis = 1) & ((scer_data['modeltype'] == 'special_pstest') | (scer_data['stamp'].isin(scer_final_stamps)))]\n",
    "print(scer_data.shape)\n"
   ]
  },
  {
   "cell_type": "code",
   "execution_count": 13,
   "metadata": {},
   "outputs": [],
   "source": [
    "scer_data['training_sites'] = scer_data['dataset'].apply(lambda x : calculate_split_sites(x, 'train'))\n"
   ]
  },
  {
   "cell_type": "code",
   "execution_count": 14,
   "metadata": {},
   "outputs": [],
   "source": [
    "scer_data.loc[scer_data['dataset'].str.contains(\"reads_5\") == True,  'threshold_reads'] = 5\n",
    "scer_data.loc[scer_data['dataset'].str.contains(\"reads_10\") == True, 'threshold_reads'] = 10\n",
    "\n",
    "reads5_max_training  = scer_data.loc[scer_data['threshold_reads'] ==  5].sort_values('training_sites', ascending = False)['stamp'].head(3).tolist()\n",
    "reads10_max_training = scer_data.loc[scer_data['threshold_reads'] == 10].sort_values('training_sites', ascending = False)['stamp'].head(3).tolist()\n"
   ]
  },
  {
   "cell_type": "code",
   "execution_count": 15,
   "metadata": {},
   "outputs": [],
   "source": [
    "scer_data['training_sitesR'] = scer_data['training_sites']\n",
    "scer_data.loc[scer_data['stamp'].isin(reads5_max_training),  'training_sitesR'] = scer_data.loc[scer_data['stamp'].isin(reads5_max_training),  'training_sites'].mean()\n",
    "scer_data.loc[scer_data['stamp'].isin(reads10_max_training), 'training_sitesR'] = scer_data.loc[scer_data['stamp'].isin(reads10_max_training), 'training_sites'].mean()\n",
    "\n",
    "scer_data['training_sitesR_log10'] = np.log10(scer_data['training_sitesR'])\n"
   ]
  },
  {
   "cell_type": "code",
   "execution_count": 16,
   "metadata": {},
   "outputs": [
    {
     "name": "stdout",
     "output_type": "stream",
     "text": [
      "3 24 (27, 25)\n"
     ]
    }
   ],
   "source": [
    "cond5MAX = (scer_data['threshold_reads'] == 5) & (scer_data['training_sitesR'] == scer_data.loc[scer_data['stamp'].isin(reads5_max_training),  'training_sites'].mean())\n",
    "cond10ALL = (scer_data['threshold_reads'] == 10)\n",
    "\n",
    "scer_filt = scer_data.loc[cond5MAX | cond10ALL].copy()\n",
    "print(cond5MAX.sum(), cond10ALL.sum(), scer_filt.shape)\n"
   ]
  },
  {
   "cell_type": "markdown",
   "metadata": {},
   "source": [
    "#### Calculate the performance of the \"bagged\" models using the average of multiple predictions"
   ]
  },
  {
   "cell_type": "code",
   "execution_count": 17,
   "metadata": {},
   "outputs": [
    {
     "name": "stdout",
     "output_type": "stream",
     "text": [
      "[86537.66666666667]\n",
      "Subset reads=5 size=86537.66666666667 stamps=20240424-010137,20240424-010144,20240424-010147\n",
      "[1000.0, 2000.0, 4000.0, 10000.0, 20000.0, 40000.0, 60000.0, 64689.0]\n",
      "Subset reads=10 size=1000.0 stamps=20240424-010155,20240424-010223,20240424-010253\n",
      "Subset reads=10 size=2000.0 stamps=20240424-010201,20240424-010235,20240424-010303\n",
      "Subset reads=10 size=4000.0 stamps=20240424-010209,20240424-010243,20240424-010309\n",
      "Subset reads=10 size=10000.0 stamps=20240424-010150,20240424-010217,20240424-010250\n",
      "Subset reads=10 size=20000.0 stamps=20240424-010159,20240424-010228,20240424-010257\n",
      "Subset reads=10 size=40000.0 stamps=20240424-010204,20240424-010240,20240424-010306\n",
      "Subset reads=10 size=60000.0 stamps=20240424-010212,20240424-010248,20240424-010314\n",
      "Subset reads=10 size=64689.0 stamps=20240422-094557,20240422-094624,20240422-094653\n"
     ]
    }
   ],
   "source": [
    "scer_results = summarize_performance_by_training_size(scer_filt, 'scer', [5,10], ['12345'])\n"
   ]
  },
  {
   "cell_type": "code",
   "execution_count": 18,
   "metadata": {
    "scrolled": false
   },
   "outputs": [
    {
     "data": {
      "image/png": "[encoded data removed]",
      "text/plain": [
       "<Figure size 72x72 with 1 Axes>"
      ]
     },
     "metadata": {
      "needs_background": "light"
     },
     "output_type": "display_data"
    },
    {
     "data": {
      "image/png": "[encoded data removed]",
      "text/plain": [
       "<Figure size 72x72 with 1 Axes>"
      ]
     },
     "metadata": {
      "needs_background": "light"
     },
     "output_type": "display_data"
    }
   ],
   "source": [
    "visualize_performance_by_training_size('saccharomyces_cerevisiae', scer_results, \n",
    "                                       xlim = (0, 90), xtickint = 20,\n",
    "                                       ylim = (0.5,1.02), ytickint = 0.1,\n",
    "                                       star_subset_reads = 10, star_train_size = scer_results.loc[scer_results['subset_reads'] == 10, 'subset_size_div1000'].max()\n",
    "                                      )\n"
   ]
  },
  {
   "cell_type": "markdown",
   "metadata": {},
   "source": [
    "### Schizosaccharomyces pombe"
   ]
  },
  {
   "cell_type": "markdown",
   "metadata": {},
   "source": [
    "#### Train bagged models using subsets of the training data to investigate effect of training set size"
   ]
  },
  {
   "cell_type": "code",
   "execution_count": 19,
   "metadata": {},
   "outputs": [],
   "source": [
    "spom_config = {\n",
    "    'genomic_As'    : 'redistA',\n",
    "    'architecture'  : 'classification1',\n",
    "    'sequence_size' : 500,\n",
    "    'conv_units'    : 512,\n",
    "    'lstm_units'    : 16,\n",
    "    'conv_shape'    : 6,\n",
    "    'bin_dropout'   : 0.5,\n",
    "    'learning_rate' : 0.001,\n",
    "}\n",
    "\n",
    "spom_data_stamps  = ['49380','74070','197520']\n",
    "spom_final_stamps = ['20240422-094802', '20240422-094812', '20240422-094843']\n"
   ]
  },
  {
   "cell_type": "markdown",
   "metadata": {},
   "source": [
    "#### Compile model performance summaries and tabulate the number of training sites"
   ]
  },
  {
   "cell_type": "code",
   "execution_count": 20,
   "metadata": {},
   "outputs": [
    {
     "name": "stdout",
     "output_type": "stream",
     "text": [
      "(33, 21)\n"
     ]
    }
   ],
   "source": [
    "spom_data = pd.read_csv(os.path.join(RESOURCES, 'polyaclassifier_replicate_summary.schizosaccharomyces_pombe.txt'), sep = \"\\t\")\n",
    "spom_data = spom_data.loc[spom_data.apply(lambda row : compare_configuration(row, spom_config), axis = 1) & ((spom_data['modeltype'] == 'special_pstest') | (spom_data['stamp'].isin(spom_final_stamps)))]\n",
    "print(spom_data.shape)\n"
   ]
  },
  {
   "cell_type": "code",
   "execution_count": 21,
   "metadata": {},
   "outputs": [],
   "source": [
    "spom_data['training_sites'] = spom_data['dataset'].apply(lambda x : calculate_split_sites(x, 'train'))\n"
   ]
  },
  {
   "cell_type": "code",
   "execution_count": 22,
   "metadata": {},
   "outputs": [],
   "source": [
    "spom_data.loc[spom_data['dataset'].str.contains(\"reads_5\")  == True, 'threshold_reads'] = 5\n",
    "spom_data.loc[spom_data['dataset'].str.contains(\"reads_10\") == True, 'threshold_reads'] = 10\n",
    "\n",
    "reads5_max_training  = spom_data.loc[spom_data['threshold_reads'] ==  5].sort_values('training_sites', ascending = False)['stamp'].head(3).tolist()\n",
    "reads10_max_training = spom_data.loc[spom_data['threshold_reads'] == 10].sort_values('training_sites', ascending = False)['stamp'].head(3).tolist()\n"
   ]
  },
  {
   "cell_type": "code",
   "execution_count": 23,
   "metadata": {},
   "outputs": [],
   "source": [
    "spom_data['training_sitesR'] = spom_data['training_sites']\n",
    "spom_data.loc[spom_data['stamp'].isin(reads5_max_training),  'training_sitesR'] = spom_data.loc[spom_data['stamp'].isin(reads5_max_training),  'training_sites'].mean()\n",
    "spom_data.loc[spom_data['stamp'].isin(reads10_max_training), 'training_sitesR'] = spom_data.loc[spom_data['stamp'].isin(reads10_max_training), 'training_sites'].mean()\n",
    "\n",
    "spom_data['training_sitesR_log10'] = np.log10(spom_data['training_sitesR'])\n"
   ]
  },
  {
   "cell_type": "code",
   "execution_count": 24,
   "metadata": {},
   "outputs": [
    {
     "name": "stdout",
     "output_type": "stream",
     "text": [
      "18 3 (21, 25)\n"
     ]
    }
   ],
   "source": [
    "cond10MAX = (spom_data['threshold_reads'] == 10) & (spom_data['training_sitesR'] == spom_data.loc[spom_data['stamp'].isin(reads10_max_training), 'training_sites'].mean())\n",
    "cond5ALL = (spom_data['threshold_reads'] == 5)\n",
    "\n",
    "spom_filt = spom_data.loc[cond5ALL | cond10MAX].copy()\n",
    "print(cond5ALL.sum(), cond10MAX.sum(), spom_filt.shape)\n"
   ]
  },
  {
   "cell_type": "markdown",
   "metadata": {},
   "source": [
    "#### Calculate the performance of the \"bagged\" models using the average of multiple predictions"
   ]
  },
  {
   "cell_type": "code",
   "execution_count": 25,
   "metadata": {},
   "outputs": [
    {
     "name": "stdout",
     "output_type": "stream",
     "text": [
      "[1000.0, 2000.0, 4000.0, 10000.0, 20000.0, 20292.333333333332]\n",
      "Subset reads=5 size=1000.0 stamps=20240424-010535,20240424-010605,20240424-010621\n",
      "Subset reads=5 size=2000.0 stamps=20240424-010546,20240424-010611,20240424-010630\n",
      "Subset reads=5 size=4000.0 stamps=20240424-010549,20240424-010616,20240424-010632\n",
      "Subset reads=5 size=10000.0 stamps=20240424-010532,20240424-010552,20240424-010619\n",
      "Subset reads=5 size=20000.0 stamps=20240424-010540,20240424-010609,20240424-010626\n",
      "Subset reads=5 size=20292.333333333332 stamps=20240422-094802,20240422-094812,20240422-094843\n",
      "[13021.0]\n",
      "Subset reads=10 size=13021.0 stamps=20240424-010435,20240424-010441,20240424-010443\n"
     ]
    }
   ],
   "source": [
    "spom_results = summarize_performance_by_training_size(spom_filt, 'spom', [5,10], ['12345'])\n"
   ]
  },
  {
   "cell_type": "code",
   "execution_count": 26,
   "metadata": {
    "scrolled": true
   },
   "outputs": [
    {
     "data": {
      "image/png": "[encoded data removed]",
      "text/plain": [
       "<Figure size 72x72 with 1 Axes>"
      ]
     },
     "metadata": {
      "needs_background": "light"
     },
     "output_type": "display_data"
    },
    {
     "data": {
      "image/png": "[encoded data removed]",
      "text/plain": [
       "<Figure size 72x72 with 1 Axes>"
      ]
     },
     "metadata": {
      "needs_background": "light"
     },
     "output_type": "display_data"
    }
   ],
   "source": [
    "visualize_performance_by_training_size('schizosaccharomyces_pombe', spom_results, \n",
    "                                       xlim = (0, 25), xtickint = 5,\n",
    "                                       ylim = (0.5,1.02), ytickint = 0.1,\n",
    "                                       star_subset_reads = 5, star_train_size = spom_results.loc[spom_results['subset_reads'] == 5, 'subset_size_div1000'].max()\n",
    "                                      )\n"
   ]
  },
  {
   "cell_type": "markdown",
   "metadata": {},
   "source": [
    "### Arabidopsis thaliana"
   ]
  },
  {
   "cell_type": "markdown",
   "metadata": {},
   "source": [
    "#### Train bagged models using subsets of the training data to investigate effect of training set size"
   ]
  },
  {
   "cell_type": "code",
   "execution_count": 27,
   "metadata": {},
   "outputs": [],
   "source": [
    "atha_config = {\n",
    "    'genomic_As'    : 'redistA',\n",
    "    'architecture'  : 'classification2',\n",
    "    'sequence_size' : 500,\n",
    "    'conv_units'    : 512,\n",
    "    'lstm_units'    : 16,\n",
    "    'conv_shape'    : 10,\n",
    "    'bin_dropout'   : 0.5,\n",
    "    'learning_rate' : 0.001,\n",
    "}\n",
    "\n",
    "atha_data_stamps  = ['37035','148140','209865']\n",
    "atha_final_stamps = ['20240422-094938', '20240422-094958', '20240422-095014']\n"
   ]
  },
  {
   "cell_type": "markdown",
   "metadata": {},
   "source": [
    "#### Compile model performance summaries and tabulate the number of training sites"
   ]
  },
  {
   "cell_type": "code",
   "execution_count": 28,
   "metadata": {},
   "outputs": [
    {
     "name": "stdout",
     "output_type": "stream",
     "text": [
      "(51, 21)\n"
     ]
    }
   ],
   "source": [
    "atha_data = pd.read_csv(os.path.join(RESOURCES, 'polyaclassifier_replicate_summary.arabidopsis_thaliana.txt'), sep = \"\\t\")\n",
    "atha_data = atha_data.loc[atha_data.apply(lambda row : compare_configuration(row, atha_config), axis = 1) & ((atha_data['modeltype'] == 'special_pstest') | (atha_data['stamp'].isin(atha_final_stamps)))]\n",
    "print(atha_data.shape)\n"
   ]
  },
  {
   "cell_type": "code",
   "execution_count": 29,
   "metadata": {},
   "outputs": [],
   "source": [
    "atha_data['training_sites'] = atha_data['dataset'].apply(lambda x : calculate_split_sites(x, 'train'))\n"
   ]
  },
  {
   "cell_type": "code",
   "execution_count": 30,
   "metadata": {},
   "outputs": [],
   "source": [
    "atha_data.loc[atha_data['dataset'].str.contains(\"reads_5\")  == True, 'threshold_reads'] = 5\n",
    "atha_data.loc[atha_data['dataset'].str.contains(\"reads_10\") == True, 'threshold_reads'] = 10\n",
    "\n",
    "reads5_max_training  = atha_data.loc[atha_data['threshold_reads'] ==  5].sort_values('training_sites', ascending = False)['stamp'].head(3).tolist()\n",
    "reads10_max_training = atha_data.loc[atha_data['threshold_reads'] == 10].sort_values('training_sites', ascending = False)['stamp'].head(3).tolist()\n"
   ]
  },
  {
   "cell_type": "code",
   "execution_count": 31,
   "metadata": {},
   "outputs": [],
   "source": [
    "atha_data['training_sitesR'] = atha_data['training_sites']\n",
    "atha_data.loc[atha_data['stamp'].isin(reads5_max_training),  'training_sitesR'] = atha_data.loc[atha_data['stamp'].isin(reads5_max_training),  'training_sites'].mean()\n",
    "atha_data.loc[atha_data['stamp'].isin(reads10_max_training), 'training_sitesR'] = atha_data.loc[atha_data['stamp'].isin(reads10_max_training), 'training_sites'].mean()\n",
    "\n",
    "atha_data['training_sitesR_log10'] = np.log10(atha_data['training_sitesR'])\n"
   ]
  },
  {
   "cell_type": "code",
   "execution_count": 32,
   "metadata": {},
   "outputs": [
    {
     "name": "stdout",
     "output_type": "stream",
     "text": [
      "3 24 (27, 25)\n"
     ]
    }
   ],
   "source": [
    "cond5MAX = (atha_data['threshold_reads'] == 5) & (atha_data['training_sitesR'] == atha_data.loc[atha_data['stamp'].isin(reads5_max_training),  'training_sites'].mean())\n",
    "cond10ALL = (atha_data['threshold_reads'] == 10)\n",
    "\n",
    "atha_filt = atha_data.loc[cond5MAX | cond10ALL].copy()\n",
    "print(cond5MAX.sum(), cond10ALL.sum(), atha_filt.shape)\n"
   ]
  },
  {
   "cell_type": "markdown",
   "metadata": {},
   "source": [
    "#### Calculate the performance of the \"bagged\" models using the average of multiple predictions"
   ]
  },
  {
   "cell_type": "code",
   "execution_count": 33,
   "metadata": {},
   "outputs": [
    {
     "name": "stdout",
     "output_type": "stream",
     "text": [
      "[109187.66666666667]\n",
      "Subset reads=5 size=109187.66666666667 stamps=20240424-010635,20240424-010637,20240424-010640\n",
      "[1000.0, 2000.0, 4000.0, 10000.0, 20000.0, 40000.0, 60000.0, 76271.66666666667]\n",
      "Subset reads=10 size=1000.0 stamps=20240424-010645,20240424-010701,20240424-010729\n",
      "Subset reads=10 size=2000.0 stamps=20240424-010649,20240424-010705,20240424-010738\n",
      "Subset reads=10 size=4000.0 stamps=20240424-010654,20240424-010717,20240424-010746\n",
      "Subset reads=10 size=10000.0 stamps=20240424-010642,20240424-010658,20240424-010724\n",
      "Subset reads=10 size=20000.0 stamps=20240424-010647,20240424-010703,20240424-010735\n",
      "Subset reads=10 size=40000.0 stamps=20240424-010651,20240424-010710,20240424-010742\n",
      "Subset reads=10 size=60000.0 stamps=20240424-010656,20240424-010720,20240424-010752\n",
      "Subset reads=10 size=76271.66666666667 stamps=20240422-094938,20240422-094958,20240422-095014\n"
     ]
    }
   ],
   "source": [
    "atha_results = summarize_performance_by_training_size(atha_filt, 'atha', [5,10], [12345])\n"
   ]
  },
  {
   "cell_type": "code",
   "execution_count": 34,
   "metadata": {
    "scrolled": true
   },
   "outputs": [
    {
     "data": {
      "image/png": "[encoded data removed]",
      "text/plain": [
       "<Figure size 72x72 with 1 Axes>"
      ]
     },
     "metadata": {
      "needs_background": "light"
     },
     "output_type": "display_data"
    },
    {
     "data": {
      "image/png": "[encoded data removed]",
      "text/plain": [
       "<Figure size 72x72 with 1 Axes>"
      ]
     },
     "metadata": {
      "needs_background": "light"
     },
     "output_type": "display_data"
    }
   ],
   "source": [
    "visualize_performance_by_training_size('arabidopsis_thaliana', atha_results, \n",
    "                                       xlim = (0, 120), xtickint = 30,\n",
    "                                       ylim = (0.5,1.02), ytickint = 0.1,\n",
    "                                       star_subset_reads = 10, star_train_size = atha_results.loc[atha_results['subset_reads'] == 10, 'subset_size_div1000'].max()\n",
    "                                      )\n"
   ]
  }
 ],
 "metadata": {
  "kernelspec": {
   "display_name": "Python (tf-train)",
   "language": "python",
   "name": "tf-train"
  },
  "language_info": {
   "codemirror_mode": {
    "name": "ipython",
    "version": 3
   },
   "file_extension": ".py",
   "mimetype": "text/x-python",
   "name": "python",
   "nbconvert_exporter": "python",
   "pygments_lexer": "ipython3",
   "version": "3.6.12"
  }
 },
 "nbformat": 4,
 "nbformat_minor": 2
}
