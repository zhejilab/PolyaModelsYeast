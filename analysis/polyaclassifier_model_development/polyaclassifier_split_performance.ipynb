{
 "cells": [
  {
   "cell_type": "markdown",
   "metadata": {},
   "source": [
    "# PolyaClassifier performance by split\n",
    "\n",
    "**Purpose**: To assess the performance of individual constituent models included in the final ensemble.\n"
   ]
  },
  {
   "cell_type": "code",
   "execution_count": 1,
   "metadata": {},
   "outputs": [],
   "source": [
    "%load_ext autoreload"
   ]
  },
  {
   "cell_type": "code",
   "execution_count": 2,
   "metadata": {},
   "outputs": [],
   "source": [
    "%autoreload 2"
   ]
  },
  {
   "cell_type": "code",
   "execution_count": 3,
   "metadata": {},
   "outputs": [],
   "source": [
    "%run -i notebook_setup.py"
   ]
  },
  {
   "cell_type": "markdown",
   "metadata": {},
   "source": [
    "## IMPORTS AND SETUP"
   ]
  },
  {
   "cell_type": "code",
   "execution_count": 4,
   "metadata": {},
   "outputs": [],
   "source": [
    "from paper_utilities import models"
   ]
  },
  {
   "cell_type": "code",
   "execution_count": 5,
   "metadata": {},
   "outputs": [],
   "source": [
    "PROJECT   = \"/projects/b1080/eks/polyadenylation/yeast\"\n",
    "OUTDIR    = os.path.join(PROJECT, 'manuscript', 'analysis', 'polyaclassifier_model_split_performance')\n",
    "RESOURCES = os.path.join(os.path.dirname(OUTDIR), 'resources')\n",
    "os.makedirs(OUTDIR, exist_ok = True)\n"
   ]
  },
  {
   "cell_type": "code",
   "execution_count": 6,
   "metadata": {},
   "outputs": [],
   "source": [
    "boxplot_format = {\n",
    "    'boxprops' : {'edgecolor' : 'black', 'linewidth' : 0.5},\n",
    "    'medianprops' : {'color' : 'black', 'linewidth' : 0.5},\n",
    "    'whiskerprops' : {'color' : 'black', 'linewidth' : 0.5},\n",
    "    'capprops' : {'color' : 'black', 'linewidth' : 0.5},\n",
    "    'flierprops' : {'color' : 'black'},\n",
    "    'showfliers' : False\n",
    "}\n",
    "\n",
    "barplot_format = {\n",
    "    'color'     : 'lightgray',\n",
    "    'edgecolor' : 'black',\n",
    "    'linewidth' : 0.5\n",
    "}"
   ]
  },
  {
   "cell_type": "markdown",
   "metadata": {},
   "source": [
    "## HELPER FUNCTIONS"
   ]
  },
  {
   "cell_type": "code",
   "execution_count": 7,
   "metadata": {},
   "outputs": [],
   "source": [
    "def fetch_split_data_predictions(species, model_stamp, split = 'val'):\n",
    "    \n",
    "    matches = glob.glob(os.path.join(PROJECT, species, 'model','classification_only','checkpoints',f'{model_stamp}*', 'evaluations', 'epochs', f'{split}_data.with_predictions.*threshold*.txt'))\n",
    "    \n",
    "    if (len(matches) == 0):\n",
    "        raise ValueError(f\"No prediction file found for {species} {model_stamp}: {str(matches)}\")\n",
    "    if (len(matches) > 1):\n",
    "        raise ValueError(f\"Multiple prediction files found for {species} {model_stamp}: {str(matches)}\")\n",
    "    \n",
    "    return pd.read_csv(matches[0], sep = \"\\t\")\n"
   ]
  },
  {
   "cell_type": "markdown",
   "metadata": {},
   "source": [
    "## ANALYSIS"
   ]
  },
  {
   "cell_type": "markdown",
   "metadata": {},
   "source": [
    "### *S. cerevisiae*"
   ]
  },
  {
   "cell_type": "code",
   "execution_count": 8,
   "metadata": {},
   "outputs": [],
   "source": [
    "scer_models = ['20240422-094557', '20240422-094624', '20240422-094653']\n"
   ]
  },
  {
   "cell_type": "code",
   "execution_count": 9,
   "metadata": {},
   "outputs": [
    {
     "name": "stdout",
     "output_type": "stream",
     "text": [
      "(9, 4)\n",
      "          auroc               auprc          \n",
      "           mean       std      mean       std\n",
      "split                                        \n",
      "train  0.999786  0.000245  0.999797  0.000232\n",
      "val    0.987999  0.000725  0.988930  0.000949\n",
      "test   0.985787  0.000523  0.986108  0.000632\n"
     ]
    }
   ],
   "source": [
    "scer_results = {\n",
    "    'stamp' : [],\n",
    "    'split' : [],\n",
    "    'auroc' : [],\n",
    "    'auprc' : [],\n",
    "}\n",
    "\n",
    "for m in scer_models:\n",
    "    for s in ['train','val','test']:\n",
    "    \n",
    "        pred_dt = fetch_split_data_predictions('saccharomyces_cerevisiae', m, s)\n",
    "        auroc, auprc = models.calculate_auc(pred_dt['obs_class'], pred_dt['pred_class'])\n",
    "\n",
    "        scer_results['stamp'].append(m)\n",
    "        scer_results['split'].append(s)\n",
    "        scer_results['auroc'].append(auroc)\n",
    "        scer_results['auprc'].append(auprc)\n",
    "\n",
    "scer_results = pd.DataFrame.from_dict(scer_results, orient = 'columns')\n",
    "print(scer_results.shape)\n",
    "\n",
    "scer_summary = scer_results.groupby('split').agg({'auroc': ['mean','std'], 'auprc' : ['mean','std']}).loc[['train','val','test']]\n",
    "print(scer_summary)\n"
   ]
  },
  {
   "cell_type": "code",
   "execution_count": 10,
   "metadata": {},
   "outputs": [
    {
     "data": {
      "image/png": "[encoded data removed]",
      "text/plain": [
       "<Figure size 54x72 with 1 Axes>"
      ]
     },
     "metadata": {
      "needs_background": "light"
     },
     "output_type": "display_data"
    }
   ],
   "source": [
    "fig,ax = plt.subplots(1,1, figsize = (0.75,1))\n",
    "\n",
    "ax.bar(scer_summary.index, scer_summary['auroc']['mean'], **barplot_format)\n",
    "ax.errorbar(x = scer_summary.index, y = scer_summary['auroc']['mean'], \n",
    "            yerr = scer_summary['auroc']['std'], fmt = 'none',\n",
    "            ecolor = 'black', elinewidth=5, barsabove = True, \n",
    "           )\n",
    "\n",
    "ax.set_xlabel('Split')\n",
    "ax.set_xticks(scer_summary.index)\n",
    "ax.set_xticklabels(scer_summary.index, rotation = 45, ha = 'right', va = 'top')\n",
    "\n",
    "ax.set_ylabel('AUROC')\n",
    "ax.set_ylim(0.5,1.02)\n",
    "\n",
    "ax.spines['right'].set_visible(False)\n",
    "ax.spines['top'].set_visible(False)\n",
    "\n",
    "plt.savefig(os.path.join(OUTDIR, f'performance_by_split.saccharomyces_cerevisiae.auroc.svg'), format = 'svg', dpi = 600)\n",
    "plt.show()\n"
   ]
  },
  {
   "cell_type": "code",
   "execution_count": 11,
   "metadata": {},
   "outputs": [
    {
     "data": {
      "image/png": "[encoded data removed]",
      "text/plain": [
       "<Figure size 54x72 with 1 Axes>"
      ]
     },
     "metadata": {
      "needs_background": "light"
     },
     "output_type": "display_data"
    }
   ],
   "source": [
    "fig,ax = plt.subplots(1,1, figsize = (0.75,1))\n",
    "\n",
    "ax.bar(scer_summary.index, scer_summary['auprc']['mean'], **barplot_format)\n",
    "ax.errorbar(x = scer_summary.index, y = scer_summary['auprc']['mean'], \n",
    "            yerr = scer_summary['auprc']['std'], fmt = 'none',\n",
    "            ecolor = 'black', elinewidth=5, barsabove = True, \n",
    "           )\n",
    "\n",
    "ax.set_xlabel('Split')\n",
    "ax.set_xticks(scer_summary.index)\n",
    "ax.set_xticklabels(scer_summary.index, rotation = 45, ha = 'right', va = 'top')\n",
    "\n",
    "ax.set_ylabel('AUPRC')\n",
    "ax.set_ylim(0.5,1.02)\n",
    "\n",
    "ax.spines['right'].set_visible(False)\n",
    "ax.spines['top'].set_visible(False)\n",
    "\n",
    "plt.savefig(os.path.join(OUTDIR, f'performance_by_split.saccharomyces_cerevisiae.auprc.svg'), format = 'svg', dpi = 600)\n",
    "plt.show()\n"
   ]
  },
  {
   "cell_type": "markdown",
   "metadata": {},
   "source": [
    "### *S. pombe*"
   ]
  },
  {
   "cell_type": "code",
   "execution_count": 12,
   "metadata": {},
   "outputs": [],
   "source": [
    "spom_models = ['20240422-094802', '20240422-094812', '20240422-094843']\n"
   ]
  },
  {
   "cell_type": "code",
   "execution_count": 13,
   "metadata": {},
   "outputs": [
    {
     "name": "stdout",
     "output_type": "stream",
     "text": [
      "(9, 4)\n",
      "          auroc               auprc          \n",
      "           mean       std      mean       std\n",
      "split                                        \n",
      "train  0.999015  0.000596  0.999023  0.000547\n",
      "val    0.982771  0.001666  0.982286  0.004085\n",
      "test   0.982944  0.001126  0.982485  0.001606\n"
     ]
    }
   ],
   "source": [
    "spom_results = {\n",
    "    'stamp' : [],\n",
    "    'split' : [],\n",
    "    'auroc' : [],\n",
    "    'auprc' : [],\n",
    "}\n",
    "\n",
    "for m in spom_models:\n",
    "    for s in ['train','val','test']:\n",
    "    \n",
    "        pred_dt = fetch_split_data_predictions('schizosaccharomyces_pombe', m, s)\n",
    "        auroc, auprc = models.calculate_auc(pred_dt['obs_class'], pred_dt['pred_class'])\n",
    "\n",
    "        spom_results['stamp'].append(m)\n",
    "        spom_results['split'].append(s)\n",
    "        spom_results['auroc'].append(auroc)\n",
    "        spom_results['auprc'].append(auprc)\n",
    "\n",
    "spom_results = pd.DataFrame.from_dict(spom_results, orient = 'columns')\n",
    "print(spom_results.shape)\n",
    "\n",
    "spom_summary = spom_results.groupby('split').agg({'auroc': ['mean','std'], 'auprc' : ['mean','std']}).loc[['train','val','test']]\n",
    "print(spom_summary)\n"
   ]
  },
  {
   "cell_type": "code",
   "execution_count": 14,
   "metadata": {},
   "outputs": [
    {
     "data": {
      "image/png": "[encoded data removed]",
      "text/plain": [
       "<Figure size 54x72 with 1 Axes>"
      ]
     },
     "metadata": {
      "needs_background": "light"
     },
     "output_type": "display_data"
    }
   ],
   "source": [
    "fig,ax = plt.subplots(1,1, figsize = (0.75,1))\n",
    "\n",
    "ax.bar(spom_summary.index, spom_summary['auroc']['mean'], **barplot_format)\n",
    "ax.errorbar(x = spom_summary.index, y = spom_summary['auroc']['mean'], \n",
    "            yerr = spom_summary['auroc']['std'], fmt = 'none',\n",
    "            ecolor = 'black', elinewidth=5, barsabove = True, \n",
    "           )\n",
    "\n",
    "ax.set_xlabel('Split')\n",
    "ax.set_xticks(spom_summary.index)\n",
    "ax.set_xticklabels(spom_summary.index, rotation = 45, ha = 'right', va = 'top')\n",
    "\n",
    "ax.set_ylabel('AUROC')\n",
    "ax.set_ylim(0.5,1.02)\n",
    "\n",
    "ax.spines['right'].set_visible(False)\n",
    "ax.spines['top'].set_visible(False)\n",
    "\n",
    "plt.savefig(os.path.join(OUTDIR, f'performance_by_split.schizosaccharomyces_pombe.auroc.svg'), format = 'svg', dpi = 600)\n",
    "plt.show()\n"
   ]
  },
  {
   "cell_type": "code",
   "execution_count": 15,
   "metadata": {},
   "outputs": [
    {
     "data": {
      "image/png": "[encoded data removed]",
      "text/plain": [
       "<Figure size 54x72 with 1 Axes>"
      ]
     },
     "metadata": {
      "needs_background": "light"
     },
     "output_type": "display_data"
    }
   ],
   "source": [
    "fig,ax = plt.subplots(1,1, figsize = (0.75,1))\n",
    "\n",
    "ax.bar(spom_summary.index, spom_summary['auprc']['mean'], **barplot_format)\n",
    "ax.errorbar(x = spom_summary.index, y = spom_summary['auprc']['mean'], \n",
    "            yerr = spom_summary['auprc']['std'], fmt = 'none',\n",
    "            ecolor = 'black', elinewidth=5, barsabove = True, \n",
    "           )\n",
    "\n",
    "ax.set_xlabel('Split')\n",
    "ax.set_xticks(spom_summary.index)\n",
    "ax.set_xticklabels(spom_summary.index, rotation = 45, ha = 'right', va = 'top')\n",
    "\n",
    "ax.set_ylabel('AUPRC')\n",
    "ax.set_ylim(0.5,1.02)\n",
    "\n",
    "ax.spines['right'].set_visible(False)\n",
    "ax.spines['top'].set_visible(False)\n",
    "\n",
    "plt.savefig(os.path.join(OUTDIR, f'performance_by_split.schizosaccharomyces_pombe.auprc.svg'), format = 'svg', dpi = 600)\n",
    "plt.show()\n"
   ]
  },
  {
   "cell_type": "markdown",
   "metadata": {},
   "source": [
    "### *A. thaliana*"
   ]
  },
  {
   "cell_type": "code",
   "execution_count": 16,
   "metadata": {},
   "outputs": [],
   "source": [
    "atha_models = ['20240422-094938', '20240422-094958', '20240422-095014']\n"
   ]
  },
  {
   "cell_type": "code",
   "execution_count": 17,
   "metadata": {},
   "outputs": [
    {
     "name": "stdout",
     "output_type": "stream",
     "text": [
      "(9, 4)\n",
      "          auroc               auprc          \n",
      "           mean       std      mean       std\n",
      "split                                        \n",
      "train  0.999807  0.000262  0.999802  0.000274\n",
      "val    0.993315  0.000900  0.992999  0.001173\n",
      "test   0.992966  0.000273  0.992534  0.000221\n"
     ]
    }
   ],
   "source": [
    "atha_results = {\n",
    "    'stamp' : [],\n",
    "    'split' : [],\n",
    "    'auroc' : [],\n",
    "    'auprc' : [],\n",
    "}\n",
    "\n",
    "for m in atha_models:\n",
    "    for s in ['train','val','test']:\n",
    "    \n",
    "        pred_dt = fetch_split_data_predictions('arabidopsis_thaliana', m, s)\n",
    "        auroc, auprc = models.calculate_auc(pred_dt['obs_class'], pred_dt['pred_class'])\n",
    "\n",
    "        atha_results['stamp'].append(m)\n",
    "        atha_results['split'].append(s)\n",
    "        atha_results['auroc'].append(auroc)\n",
    "        atha_results['auprc'].append(auprc)\n",
    "\n",
    "atha_results = pd.DataFrame.from_dict(atha_results, orient = 'columns')\n",
    "print(atha_results.shape)\n",
    "\n",
    "atha_summary = atha_results.groupby('split').agg({'auroc': ['mean','std'], 'auprc' : ['mean','std']}).loc[['train','val','test']]\n",
    "print(atha_summary)\n"
   ]
  },
  {
   "cell_type": "code",
   "execution_count": 18,
   "metadata": {},
   "outputs": [
    {
     "data": {
      "image/png": "[encoded data removed]",
      "text/plain": [
       "<Figure size 54x72 with 1 Axes>"
      ]
     },
     "metadata": {
      "needs_background": "light"
     },
     "output_type": "display_data"
    }
   ],
   "source": [
    "fig,ax = plt.subplots(1,1, figsize = (0.75,1))\n",
    "\n",
    "ax.bar(atha_summary.index, atha_summary['auroc']['mean'], **barplot_format)\n",
    "ax.errorbar(x = atha_summary.index, y = atha_summary['auroc']['mean'], \n",
    "            yerr = atha_summary['auroc']['std'], fmt = 'none',\n",
    "            ecolor = 'black', elinewidth=5, barsabove = True, \n",
    "           )\n",
    "\n",
    "ax.set_xlabel('Split')\n",
    "ax.set_xticks(atha_summary.index)\n",
    "ax.set_xticklabels(atha_summary.index, rotation = 45, ha = 'right', va = 'top')\n",
    "\n",
    "ax.set_ylabel('AUROC')\n",
    "ax.set_ylim(0.5,1.02)\n",
    "\n",
    "ax.spines['right'].set_visible(False)\n",
    "ax.spines['top'].set_visible(False)\n",
    "\n",
    "plt.savefig(os.path.join(OUTDIR, f'performance_by_split.arabidopsis_thaliana.auroc.svg'), format = 'svg', dpi = 600)\n",
    "plt.show()\n"
   ]
  },
  {
   "cell_type": "code",
   "execution_count": 19,
   "metadata": {},
   "outputs": [
    {
     "data": {
      "image/png": "[encoded data removed]",
      "text/plain": [
       "<Figure size 54x72 with 1 Axes>"
      ]
     },
     "metadata": {
      "needs_background": "light"
     },
     "output_type": "display_data"
    }
   ],
   "source": [
    "fig,ax = plt.subplots(1,1, figsize = (0.75,1))\n",
    "\n",
    "ax.bar(atha_summary.index, atha_summary['auprc']['mean'], **barplot_format)\n",
    "ax.errorbar(x = atha_summary.index, y = atha_summary['auprc']['mean'], \n",
    "            yerr = atha_summary['auprc']['std'], fmt = 'none',\n",
    "            ecolor = 'black', elinewidth=5, barsabove = True, \n",
    "           )\n",
    "\n",
    "ax.set_xlabel('Split')\n",
    "ax.set_xticks(atha_summary.index)\n",
    "ax.set_xticklabels(atha_summary.index, rotation = 45, ha = 'right', va = 'top')\n",
    "\n",
    "ax.set_ylabel('AUPRC')\n",
    "ax.set_ylim(0.5,1.02)\n",
    "\n",
    "ax.spines['right'].set_visible(False)\n",
    "ax.spines['top'].set_visible(False)\n",
    "\n",
    "plt.savefig(os.path.join(OUTDIR, f'performance_by_split.arabidopsis_thaliana.auprc.svg'), format = 'svg', dpi = 600)\n",
    "plt.show()\n"
   ]
  }
 ],
 "metadata": {
  "kernelspec": {
   "display_name": "Python (tf-train)",
   "language": "python",
   "name": "tf-train"
  },
  "language_info": {
   "codemirror_mode": {
    "name": "ipython",
    "version": 3
   },
   "file_extension": ".py",
   "mimetype": "text/x-python",
   "name": "python",
   "nbconvert_exporter": "python",
   "pygments_lexer": "ipython3",
   "version": "3.6.12"
  }
 },
 "nbformat": 4,
 "nbformat_minor": 2
}
