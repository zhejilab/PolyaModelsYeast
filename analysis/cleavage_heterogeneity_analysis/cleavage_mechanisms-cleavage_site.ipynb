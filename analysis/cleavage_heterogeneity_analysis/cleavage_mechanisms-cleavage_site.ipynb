{
 "cells": [
  {
   "cell_type": "markdown",
   "metadata": {},
   "source": [
    "# Confirming cleavage heterogeneity mechanisms *in silico*\n",
    "## Cleavage site composition\n",
    "\n",
    "**Purpose**: To systematically investigate the factors controlling site heterogeneity in targeted examples.\n"
   ]
  },
  {
   "cell_type": "code",
   "execution_count": 1,
   "metadata": {},
   "outputs": [],
   "source": [
    "%load_ext autoreload"
   ]
  },
  {
   "cell_type": "code",
   "execution_count": 2,
   "metadata": {},
   "outputs": [],
   "source": [
    "%autoreload 2"
   ]
  },
  {
   "cell_type": "code",
   "execution_count": 3,
   "metadata": {},
   "outputs": [],
   "source": [
    "%run -i notebook_setup.py"
   ]
  },
  {
   "cell_type": "markdown",
   "metadata": {},
   "source": [
    "## IMPORTS AND SETUP"
   ]
  },
  {
   "cell_type": "code",
   "execution_count": 4,
   "metadata": {},
   "outputs": [],
   "source": [
    "from paper_utilities import cleavage"
   ]
  },
  {
   "cell_type": "code",
   "execution_count": 5,
   "metadata": {},
   "outputs": [],
   "source": [
    "PROJECT = \"/projects/b1080/eks/polyadenylation/yeast\"\n",
    "CLVDIR  = os.path.join(PROJECT, 'saccharomyces_cerevisiae', 'analysis', 'motif_analysis', 'entropy_motif_conversion', '20240423-152708_epoch-29')\n",
    "OUTDIR  = os.path.join(PROJECT, 'manuscript', 'analysis', 'cleavage_mechanisms')\n",
    "RESOURCES = os.path.join(os.path.dirname(OUTDIR), 'resources')\n",
    "os.makedirs(OUTDIR, exist_ok = True)\n"
   ]
  },
  {
   "cell_type": "code",
   "execution_count": 6,
   "metadata": {},
   "outputs": [
    {
     "name": "stdout",
     "output_type": "stream",
     "text": [
      "(11400, 457)\n"
     ]
    }
   ],
   "source": [
    "with open(os.path.join(RESOURCES, 'gold_data.cleavage_heterogeneity.ctr.pickle'), mode = 'rb') as handle:\n",
    "    gold_tpdata = pickle.load(handle)\n",
    "\n",
    "print(gold_tpdata.shape)\n"
   ]
  },
  {
   "cell_type": "markdown",
   "metadata": {},
   "source": [
    "## ANALYSIS"
   ]
  },
  {
   "cell_type": "markdown",
   "metadata": {},
   "source": [
    "## Mechanism 1: Hexamer elements around cleavage site"
   ]
  },
  {
   "cell_type": "markdown",
   "metadata": {},
   "source": [
    "### Adding U-rich elements around high entropy sites"
   ]
  },
  {
   "cell_type": "code",
   "execution_count": 7,
   "metadata": {},
   "outputs": [
    {
     "name": "stdout",
     "output_type": "stream",
     "text": [
      "(60238, 11)\n",
      "(182, 12)\n",
      "(60056, 12)\n",
      "True    60056\n",
      "Name: consensusEntropy, dtype: int64\n",
      "count    60056.000000\n",
      "mean        -0.416422\n",
      "std          0.335644\n",
      "min         -2.101317\n",
      "25%         -0.615208\n",
      "50%         -0.366552\n",
      "75%         -0.161127\n",
      "max          0.426343\n",
      "Name: deltaEntropy, dtype: float64\n"
     ]
    }
   ],
   "source": [
    "## Load data from cleavage site randomization\n",
    "\n",
    "hi_data = pd.read_csv(os.path.join(CLVDIR, 'surrounding_cleavage_additions.high_entropy.txt'), \n",
    "                   sep = \"\\t\", names = ['testID','index','iteration','category','sequence','count','indices','absolutePosition','relativePosition','testMotif','cleavageVector'])\n",
    "\n",
    "print(hi_data.shape)\n",
    "\n",
    "\n",
    "## Process string vectors into numeric numpy arrays\n",
    "\n",
    "hi_data['indices']         = hi_data['indices'].apply(lambda x : np.asarray([float(_) for _ in x.strip(\"][\").split(\", \")] if (x != \"[]\") else np.asarray([])))\n",
    "hi_data['cleavageVector']  = hi_data['cleavageVector'].apply(lambda x : np.asarray([float(_) for _ in x.strip(\"][\").split(\", \")]))\n",
    "hi_data['cleavageEntropy'] = hi_data['cleavageVector'].apply(lambda x : cleavage.calculate_entropy_from_vector(x))\n",
    "\n",
    "\n",
    "## Identify original and replaced cleavage sites\n",
    "\n",
    "original_hi_data = hi_data.loc[hi_data['category'] == 'Original'].copy()\n",
    "converted_hi_data = hi_data.loc[hi_data['category'] == 'Added'].copy()\n",
    "\n",
    "print(original_hi_data.shape)\n",
    "print(converted_hi_data.shape)\n",
    "\n",
    "\n",
    "## Match the number of U- and UA/UA-rich motifs in the region of interest\n",
    "\n",
    "mdict = dict(zip(gold_tpdata['label'], gold_tpdata['consensus_entropy']))\n",
    "converted_hi_data['consensusEntropy'] = converted_hi_data['testID'].apply(lambda x : mdict[x])\n",
    "\n",
    "mdict = dict(zip(gold_tpdata['label'], gold_tpdata['count_U_d2_-15_15']))\n",
    "converted_hi_data['originalCountU'] = converted_hi_data['testID'].apply(lambda x : mdict[x])\n",
    "\n",
    "mdict = dict(zip(gold_tpdata['label'], gold_tpdata['count_UA_d2_-15_0']))\n",
    "converted_hi_data['originalCountUAup'] = converted_hi_data['testID'].apply(lambda x : mdict[x])\n",
    "\n",
    "mdict = dict(zip(gold_tpdata['label'], gold_tpdata['count_UA_d2_0_15']))\n",
    "converted_hi_data['originalCountUAdn'] = converted_hi_data['testID'].apply(lambda x : mdict[x])\n",
    "\n",
    "\n",
    "## Calculate the change in entropy after motif conversion\n",
    "\n",
    "edict = dict(zip(original_hi_data['testID'], original_hi_data['cleavageEntropy']))\n",
    "\n",
    "converted_hi_data['originalEntropy'] = converted_hi_data['testID'].apply(lambda x: edict[x])\n",
    "converted_hi_data['fcEntropy']       = converted_hi_data.apply(lambda row: row['cleavageEntropy'] / row['originalEntropy'], axis = 1)\n",
    "converted_hi_data['deltaEntropy']    = converted_hi_data.apply(lambda row: row['cleavageEntropy'] - row['originalEntropy'], axis = 1)\n",
    "\n",
    "print(converted_hi_data['consensusEntropy'].value_counts())\n",
    "print(converted_hi_data['deltaEntropy'].describe())\n"
   ]
  },
  {
   "cell_type": "code",
   "execution_count": 8,
   "metadata": {},
   "outputs": [
    {
     "name": "stdout",
     "output_type": "stream",
     "text": [
      "182\n",
      "7264\n",
      "False    31000\n",
      "True     29056\n",
      "Name: allFour, dtype: int64\n"
     ]
    }
   ],
   "source": [
    "all_four = {}\n",
    "\n",
    "for i,row in converted_hi_data.loc[converted_hi_data['count'] == 4, ['testID','iteration']].drop_duplicates().iterrows():\n",
    "    \n",
    "    if (row['testID'] not in all_four):\n",
    "        all_four[row['testID']] = {}\n",
    "        \n",
    "    all_four[row['testID']][row['iteration']] = 1\n",
    "\n",
    "print(len(list(all_four.keys())))\n",
    "print(sum(len(v) for v in all_four.values()))\n",
    "\n",
    "converted_hi_data['allFour'] = converted_hi_data.apply(lambda row : all_four.get(row['testID'],{}).get(row['iteration'],0), axis=1).astype(bool)\n",
    "print(converted_hi_data['allFour'].value_counts())\n"
   ]
  },
  {
   "cell_type": "code",
   "execution_count": 9,
   "metadata": {},
   "outputs": [
    {
     "name": "stdout",
     "output_type": "stream",
     "text": [
      "60056 60056 60056 60056 60056 29056 29056\n",
      "182 (182, 2)\n",
      "(7264, 4) 0\n"
     ]
    }
   ],
   "source": [
    "cond0 = (converted_hi_data['consensusEntropy'] == True)\n",
    "cond1 = (converted_hi_data['count'].between(1,4))\n",
    "cond2 = (converted_hi_data['originalCountU'] == 0)\n",
    "cond3 = (converted_hi_data['originalCountUAup'] >= 1)\n",
    "cond4 = (converted_hi_data['originalCountUAdn'] >= 1)\n",
    "cond5 = (converted_hi_data['allFour'] == True)\n",
    "\n",
    "condPLOT = (cond0 & cond1 & cond2 & cond3 & cond4 & cond5)\n",
    "print(cond0.sum(), cond1.sum(), cond2.sum(), cond3.sum(), cond4.sum(), cond5.sum(), condPLOT.sum())\n",
    "\n",
    "plot_data = converted_hi_data.loc[condPLOT].copy()\n",
    "plot_data['testLabel'] = plot_data['testID'] + ':' + plot_data['iteration'].astype(str)\n",
    "print(plot_data['testID'].nunique(), plot_data[['testID','index']].drop_duplicates().shape)\n",
    "\n",
    "wide_data = pd.pivot(plot_data, index = 'testLabel', columns = 'count', values = 'deltaEntropy')\n",
    "wide_data.columns = wide_data.columns.map(str)\n",
    "print(wide_data.shape, wide_data.isna().any(axis = 1).sum())\n"
   ]
  },
  {
   "cell_type": "code",
   "execution_count": 10,
   "metadata": {},
   "outputs": [
    {
     "data": {
      "image/png": "[encoded data removed]",
      "text/plain": [
       "<Figure size 72x108 with 1 Axes>"
      ]
     },
     "metadata": {
      "needs_background": "light"
     },
     "output_type": "display_data"
    },
    {
     "name": "stdout",
     "output_type": "stream",
     "text": [
      "\n",
      "Corresponding statistics-\n",
      "\tWilcoxon signed-rank paired test (group 1 vs 2):  3034874.000 0.00E+00\n",
      "\tWilcoxon signed-rank paired test (group 1 vs 3):   821817.000 0.00E+00\n",
      "\tWilcoxon signed-rank paired test (group 1 vs 4):   217936.000 0.00E+00\n",
      "\n",
      "Summary data-\n",
      "       count    median      mean       std       min       max\n",
      "count                                                         \n",
      "1       7264 -0.153720 -0.189769  0.204098 -1.281465  0.401030\n",
      "2       7264 -0.334512 -0.362486  0.263737 -1.668834  0.397024\n",
      "3       7264 -0.554251 -0.573852  0.315642 -1.820752  0.397952\n",
      "4       7264 -0.756980 -0.784913  0.359011 -2.101317  0.293698\n"
     ]
    }
   ],
   "source": [
    "fig,ax = plt.subplots(1,1, figsize = (1,1.5))\n",
    "\n",
    "x = 'count'\n",
    "y = 'deltaEntropy'\n",
    "\n",
    "sns.barplot(data = plot_data, x = x, y = y,\n",
    "            color = 'lightgray', edgecolor = 'black', linewidth = 0.5,\n",
    "            ax = ax)\n",
    "\n",
    "ax.set_xlabel(\"Number of U-rich elements added in (-15,15) region\")\n",
    "\n",
    "ax.set_ylabel(\"Change in predicted cleavage entropy\")\n",
    "ax.set_ylim(-1,0)\n",
    "ax.yaxis.set_major_locator(MultipleLocator(0.2))\n",
    "\n",
    "ax.spines['right'].set_visible(False)\n",
    "ax.spines['top'].set_visible(False)\n",
    "\n",
    "plt.savefig(os.path.join(OUTDIR, f'entropy_mechanisms.cleavage_site_addition.high_entropy.barplot.{y}_by_{x}.svg'), format = 'svg', dpi = 600, transparent = True)\n",
    "plt.show()\n",
    "\n",
    "\n",
    "print(\"\\nCorresponding statistics-\")\n",
    "\n",
    "for c in wide_data.columns:\n",
    "\n",
    "    if (c == '1'):\n",
    "        continue\n",
    "        \n",
    "    stat, pval = st.wilcoxon(wide_data[c], wide_data['1'])\n",
    "    print(f\"\\tWilcoxon signed-rank paired test (group 1 vs {c}): {stat:12.03f} {pval:8.02E}\")\n",
    "\n",
    "print(\"\\nSummary data-\")\n",
    "print(plot_data.groupby(x)[y].agg(['count','median','mean','std','min','max']))\n"
   ]
  },
  {
   "cell_type": "markdown",
   "metadata": {},
   "source": [
    "### Individual examples"
   ]
  },
  {
   "cell_type": "markdown",
   "metadata": {},
   "source": [
    "#### Example 1"
   ]
  },
  {
   "cell_type": "code",
   "execution_count": 12,
   "metadata": {},
   "outputs": [
    {
     "name": "stdout",
     "output_type": "stream",
     "text": [
      "Gene=YCR038C, observed_entropy=2.907497376763022\n",
      "Max normalized cleavage prediction: 0.27015799283981323\n",
      "34394 GAAAATTAAGAATACTTGCATAACTACAGTAGATAATATT 2.985718620587767 0 []\n",
      "34468 GAAAATTAAGAATTCTTTCATAACTACAGTAGATAATATT 2.9220679047032405 1 [-8.0]\n",
      "34469 GAAAATTAAGAATTCTTTCATATTTTTTGTAGATAATATT 2.610943771939796 2 [-8.0, 2.0]\n",
      "34470 GAAAATTCTTTTTTCTTTCATATTTTTTGTAGATAATATT 2.4863798673575968 3 [-14.0, -8.0, 2.0]\n",
      "34471 GAAAATTCTTTTTTCTTTCATATTTTTTGTTTTTTATATT 1.9403478129043485 4 [-14.0, -8.0, 2.0, 9.0]\n"
     ]
    }
   ],
   "source": [
    "rs = 3945466334; example_id = \"006467:III:197520:-\"; example_iter = 22\n",
    "\n",
    "example_gene    = gold_tpdata.loc[gold_tpdata['label'] == example_id, 'gene'].iloc[0]\n",
    "example_obsent  = gold_tpdata.loc[gold_tpdata['label'] == example_id, 'observed_entropy'].iloc[0]\n",
    "example_maxclv  = gold_tpdata.loc[gold_tpdata['label'] == example_id, 'ctr_cleavage'].iloc[0]\n",
    "example_readvec = gold_tpdata.loc[gold_tpdata['label'] == example_id, 'readvec'].iloc[0]\n",
    "print(f\"Gene={example_gene}, observed_entropy={example_obsent}\")\n",
    "\n",
    "example_bin0 = hi_data.loc[(hi_data['testID'] == example_id) & (hi_data['iteration'] == 0) & (hi_data['count'] ==  0)].sample(1, random_state = rs).iloc[0]\n",
    "example_bin1 = hi_data.loc[(hi_data['testID'] == example_id) & (hi_data['iteration'] == example_iter) & (hi_data['count'] == 1)].sample(1, random_state = rs).iloc[0]\n",
    "example_bin2 = hi_data.loc[(hi_data['testID'] == example_id) & (hi_data['iteration'] == example_iter) & (hi_data['count'] == 2)].sample(1, random_state = rs).iloc[0]\n",
    "example_bin3 = hi_data.loc[(hi_data['testID'] == example_id) & (hi_data['iteration'] == example_iter) & (hi_data['count'] == 3)].sample(1, random_state = rs).iloc[0]\n",
    "example_bin4 = hi_data.loc[(hi_data['testID'] == example_id) & (hi_data['iteration'] == example_iter) & (hi_data['count'] == 4)].sample(1, random_state = rs).iloc[0]\n",
    "\n",
    "example_bin_max = max([max(x['cleavageVector']) for x in [example_bin0, example_bin1, example_bin2, example_bin3, example_bin4]])\n",
    "print(f\"Max normalized cleavage prediction: {example_bin_max}\")\n",
    "\n",
    "for e in [example_bin0, example_bin1, example_bin2, example_bin3, example_bin4]:\n",
    "    print(e.name, e['sequence'][int(example_maxclv-20):int(example_maxclv+20)], e['cleavageEntropy'], e['count'], sorted(e['indices'].tolist()))\n"
   ]
  },
  {
   "cell_type": "code",
   "execution_count": 13,
   "metadata": {},
   "outputs": [
    {
     "data": {
      "image/png": "[encoded data removed]",
      "text/plain": [
       "<Figure size 144x72 with 5 Axes>"
      ]
     },
     "metadata": {
      "needs_background": "light"
     },
     "output_type": "display_data"
    }
   ],
   "source": [
    "fig,axes = plt.subplots(5,1, figsize = (2,1), sharex = True, sharey = True)\n",
    "\n",
    "xs = np.arange(-15,16,1)\n",
    "\n",
    "for ax,ex in zip(axes,[example_bin0, example_bin1, example_bin2, example_bin3, example_bin4]):\n",
    "    \n",
    "    ## plot sequence logo\n",
    "    exseq = ex['sequence'][int(example_maxclv-15):int(example_maxclv+16)]\n",
    "    encoding = cleavage.encode_sequence(exseq)\n",
    "    seqmotif = pd.DataFrame(encoding, columns = ['A','C','G','U'], index = xs)\n",
    "\n",
    "    logo = logomaker.Logo(seqmotif, ax = ax, width = 0.8, vpad = 0.05, color_scheme = {'A':'gray', 'U':'gray', 'G':'gray', 'C':'gray'})\n",
    "    \n",
    "    for i in ex['indices']:\n",
    "        for j in np.arange(i,i+6,1):\n",
    "            logo.style_single_glyph(int(j), exseq[int(j+15)].replace(\"T\",\"U\"), color = \"#d62a28\")\n",
    "\n",
    "    ax.set_xticks(np.arange(-15,16,15))\n",
    "    ax.set_yticks([])\n",
    "    \n",
    "    ax.spines['left'].set_visible(False)\n",
    "    ax.spines['right'].set_visible(False)\n",
    "    ax.spines['top'].set_visible(False)\n",
    "    \n",
    "axes[-1].set_xlabel(\"Position relative to max cleavage site (nt)\")\n",
    "\n",
    "plt.savefig(os.path.join(OUTDIR, f'entropy_mechanisms.cleavage_site_addition.high_entropy.{example_id.replace(\":\",\"_\")}.example_sequence.svg'), format = 'svg', dpi = 600, transparent = True)\n",
    "plt.show()\n"
   ]
  },
  {
   "cell_type": "code",
   "execution_count": 14,
   "metadata": {},
   "outputs": [
    {
     "data": {
      "image/png": "[encoded data removed]",
      "text/plain": [
       "<Figure size 72x144 with 6 Axes>"
      ]
     },
     "metadata": {
      "needs_background": "light"
     },
     "output_type": "display_data"
    }
   ],
   "source": [
    "fig,axes = plt.subplots(6,1, figsize = (1,2), sharex = True, sharey = False)\n",
    "\n",
    "for i,(ax,ex) in enumerate(zip(axes, [example_readvec, example_bin0, example_bin1, example_bin2, example_bin3, example_bin4])):\n",
    "    \n",
    "    if (i == 0):\n",
    "        ax.bar(np.arange(0,50,1), ex, width = 1, color = 'gray')\n",
    "    else:\n",
    "        ax.plot(ex['cleavageVector'], color = '#d62a28')\n",
    "        ax.text(x=1.05, y=1, s=f\"{ex['count']} added\\n({ex['cleavageEntropy']:.03f})\", transform = ax.transAxes, ha = 'left', va = 'top')\n",
    "\n",
    "    ax.set_xticks(np.arange(0,51,25))\n",
    "    ax.set_xticklabels(np.arange(-25,26,25))\n",
    "    \n",
    "    ax.set_yticks([])\n",
    "#     ax.set_ylim(0,example_bin_max*1.1)\n",
    "\n",
    "    ax.spines['left'].set_visible(False)\n",
    "    ax.spines['right'].set_visible(False)\n",
    "    ax.spines['top'].set_visible(False)\n",
    "\n",
    "plt.savefig(os.path.join(OUTDIR, f'entropy_mechanisms.cleavage_site_addition.high_entropy.{example_id.replace(\":\",\"_\")}.example_cleavage.svg'), format = 'svg', dpi = 600, transparent = True)\n",
    "plt.show()\n"
   ]
  },
  {
   "cell_type": "markdown",
   "metadata": {},
   "source": [
    "#### Example 2"
   ]
  },
  {
   "cell_type": "code",
   "execution_count": 15,
   "metadata": {},
   "outputs": [
    {
     "name": "stdout",
     "output_type": "stream",
     "text": [
      "Gene=YIL156W-B, observed_entropy=3.1286451276389964\n",
      "Max normalized cleavage prediction: 0.32465699315071106\n",
      "5971 CAAAATTAATAACCGCAACTTAAAGAGCTATCGCTATCGA 3.4163589998569703 0 []\n",
      "6004 CAAAATTAATAATTTTTTCTTAAAGAGCTATCGCTATCGA 3.3278319510096264 1 [-8.0]\n",
      "6005 CAAAATTAATAATTTTTTCTTATTTCTTTATCGCTATCGA 2.8294372535341576 2 [-8.0, 2.0]\n",
      "6006 CAAAATTAATAATTTTTTCTTATTTCTTTTTTTTTATCGA 2.710540005796679 3 [-8.0, 2.0, 8.0]\n",
      "6007 CAAAATTTCTTATTTTTTCTTATTTCTTTTTTTTTATCGA 2.3171265957955525 4 [-15.0, -8.0, 2.0, 8.0]\n"
     ]
    }
   ],
   "source": [
    "rs = 1865467865; example_id = \"001303:IX:48052:+\"; example_iter = 11\n",
    "\n",
    "example_gene    = gold_tpdata.loc[gold_tpdata['label'] == example_id, 'gene'].iloc[0]\n",
    "example_obsent  = gold_tpdata.loc[gold_tpdata['label'] == example_id, 'observed_entropy'].iloc[0]\n",
    "example_maxclv  = gold_tpdata.loc[gold_tpdata['label'] == example_id, 'ctr_cleavage'].iloc[0]\n",
    "example_readvec = gold_tpdata.loc[gold_tpdata['label'] == example_id, 'readvec'].iloc[0]\n",
    "print(f\"Gene={example_gene}, observed_entropy={example_obsent}\")\n",
    "\n",
    "example_bin0 = hi_data.loc[(hi_data['testID'] == example_id) & (hi_data['iteration'] == 0) & (hi_data['count'] ==  0)].sample(1, random_state = rs).iloc[0]\n",
    "example_bin1 = hi_data.loc[(hi_data['testID'] == example_id) & (hi_data['iteration'] == example_iter) & (hi_data['count'] == 1)].sample(1, random_state = rs).iloc[0]\n",
    "example_bin2 = hi_data.loc[(hi_data['testID'] == example_id) & (hi_data['iteration'] == example_iter) & (hi_data['count'] == 2)].sample(1, random_state = rs).iloc[0]\n",
    "example_bin3 = hi_data.loc[(hi_data['testID'] == example_id) & (hi_data['iteration'] == example_iter) & (hi_data['count'] == 3)].sample(1, random_state = rs).iloc[0]\n",
    "example_bin4 = hi_data.loc[(hi_data['testID'] == example_id) & (hi_data['iteration'] == example_iter) & (hi_data['count'] == 4)].sample(1, random_state = rs).iloc[0]\n",
    "\n",
    "example_bin_max = max([max(x['cleavageVector']) for x in [example_bin0, example_bin1, example_bin2, example_bin3, example_bin4]])\n",
    "print(f\"Max normalized cleavage prediction: {example_bin_max}\")\n",
    "\n",
    "for e in [example_bin0, example_bin1, example_bin2, example_bin3, example_bin4]:\n",
    "    print(e.name, e['sequence'][int(example_maxclv-20):int(example_maxclv+20)], e['cleavageEntropy'], e['count'], sorted(e['indices'].tolist()))\n"
   ]
  },
  {
   "cell_type": "code",
   "execution_count": 16,
   "metadata": {},
   "outputs": [
    {
     "data": {
      "image/png": "[encoded data removed]",
      "text/plain": [
       "<Figure size 144x72 with 5 Axes>"
      ]
     },
     "metadata": {
      "needs_background": "light"
     },
     "output_type": "display_data"
    }
   ],
   "source": [
    "fig,axes = plt.subplots(5,1, figsize = (2,1), sharex = True, sharey = True)\n",
    "\n",
    "xs = np.arange(-15,16,1)\n",
    "\n",
    "for ax,ex in zip(axes,[example_bin0, example_bin1, example_bin2, example_bin3, example_bin4]):\n",
    "    \n",
    "    ## plot sequence logo\n",
    "    exseq = ex['sequence'][int(example_maxclv-15):int(example_maxclv+16)]\n",
    "    encoding = cleavage.encode_sequence(exseq)\n",
    "    seqmotif = pd.DataFrame(encoding, columns = ['A','C','G','U'], index = xs)\n",
    "\n",
    "    logo = logomaker.Logo(seqmotif, ax = ax, width = 0.8, vpad = 0.05, color_scheme = {'A':'gray', 'U':'gray', 'G':'gray', 'C':'gray'})\n",
    "    \n",
    "    for i in ex['indices']:\n",
    "        for j in np.arange(i,i+6,1):\n",
    "            logo.style_single_glyph(int(j), exseq[int(j+15)].replace(\"T\",\"U\"), color = \"#d62a28\")\n",
    "\n",
    "    ax.set_xticks(np.arange(-15,16,15))\n",
    "    ax.set_yticks([])\n",
    "    \n",
    "    ax.spines['left'].set_visible(False)\n",
    "    ax.spines['right'].set_visible(False)\n",
    "    ax.spines['top'].set_visible(False)\n",
    "    \n",
    "axes[-1].set_xlabel(\"Position relative to max cleavage site (nt)\")\n",
    "\n",
    "plt.savefig(os.path.join(OUTDIR, f'entropy_mechanisms.cleavage_site_addition.high_entropy.{example_id.replace(\":\",\"_\")}.example_sequence.svg'), format = 'svg', dpi = 600, transparent = True)\n",
    "plt.show()\n"
   ]
  },
  {
   "cell_type": "code",
   "execution_count": 17,
   "metadata": {
    "scrolled": true
   },
   "outputs": [
    {
     "data": {
      "image/png": "[encoded data removed]",
      "text/plain": [
       "<Figure size 72x144 with 6 Axes>"
      ]
     },
     "metadata": {
      "needs_background": "light"
     },
     "output_type": "display_data"
    }
   ],
   "source": [
    "fig,axes = plt.subplots(6,1, figsize = (1,2), sharex = True, sharey = False)\n",
    "\n",
    "for i,(ax,ex) in enumerate(zip(axes, [example_readvec, example_bin0, example_bin1, example_bin2, example_bin3, example_bin4])):\n",
    "    \n",
    "    if (i == 0):\n",
    "        ax.bar(np.arange(0,50,1), ex, width = 1, color = 'gray')\n",
    "    else:\n",
    "        ax.plot(ex['cleavageVector'], color = '#d62a28')\n",
    "        ax.text(x=1.05, y=1, s=f\"{ex['count']} added\\n({ex['cleavageEntropy']:.03f})\", transform = ax.transAxes, ha = 'left', va = 'top')\n",
    "\n",
    "    ax.set_xticks(np.arange(0,51,25))\n",
    "    ax.set_xticklabels(np.arange(-25,26,25))\n",
    "    \n",
    "    ax.set_yticks([])\n",
    "#     ax.set_ylim(0,example_bin_max*1.1)\n",
    "\n",
    "    ax.spines['left'].set_visible(False)\n",
    "    ax.spines['right'].set_visible(False)\n",
    "    ax.spines['top'].set_visible(False)\n",
    "\n",
    "plt.savefig(os.path.join(OUTDIR, f'entropy_mechanisms.cleavage_site_addition.high_entropy.{example_id.replace(\":\",\"_\")}.example_cleavage.svg'), format = 'svg', dpi = 600, transparent = True)\n",
    "plt.show()\n"
   ]
  },
  {
   "cell_type": "markdown",
   "metadata": {},
   "source": [
    "#### Example 3"
   ]
  },
  {
   "cell_type": "code",
   "execution_count": 18,
   "metadata": {},
   "outputs": [
    {
     "name": "stdout",
     "output_type": "stream",
     "text": [
      "Gene=YMR080C, observed_entropy=3.249391074294353\n",
      "Max normalized cleavage prediction: 0.3778040111064911\n",
      "50945 AAAATAAACTAAAATCAAGGTATGGCTGTAGAAAATGATA 3.587324984746771 0 []\n",
      "51146 AAAATAAACTAAAATTTTTTTATGGCTGTAGAAAATGATA 3.314770736694117 1 [-6.0]\n",
      "51147 AAAATAAACTAAAATTTTTTTATTTCTTTAGAAAATGATA 3.0853531302918125 2 [-6.0, 2.0]\n",
      "51148 AAAATAAATTTTCTTTTTTTTATTTCTTTAGAAAATGATA 2.480678586961029 3 [-12.0, -6.0, 2.0]\n",
      "51149 AAAATAAATTTTCTTTTTTTTATTTCTTTTTTTTATGATA 1.9738881667843025 4 [-12.0, -6.0, 2.0, 8.0]\n"
     ]
    }
   ],
   "source": [
    "rs = 894727845; example_id = \"010105:XIII:426299:-\"; example_iter = 62\n",
    "\n",
    "example_gene    = gold_tpdata.loc[gold_tpdata['label'] == example_id, 'gene'].iloc[0]\n",
    "example_obsent  = gold_tpdata.loc[gold_tpdata['label'] == example_id, 'observed_entropy'].iloc[0]\n",
    "example_maxclv  = gold_tpdata.loc[gold_tpdata['label'] == example_id, 'ctr_cleavage'].iloc[0]\n",
    "example_readvec = gold_tpdata.loc[gold_tpdata['label'] == example_id, 'readvec'].iloc[0]\n",
    "print(f\"Gene={example_gene}, observed_entropy={example_obsent}\")\n",
    "\n",
    "example_bin0 = hi_data.loc[(hi_data['testID'] == example_id) & (hi_data['iteration'] == 0) & (hi_data['count'] ==  0)].sample(1, random_state = rs).iloc[0]\n",
    "example_bin1 = hi_data.loc[(hi_data['testID'] == example_id) & (hi_data['iteration'] == example_iter) & (hi_data['count'] == 1)].sample(1, random_state = rs).iloc[0]\n",
    "example_bin2 = hi_data.loc[(hi_data['testID'] == example_id) & (hi_data['iteration'] == example_iter) & (hi_data['count'] == 2)].sample(1, random_state = rs).iloc[0]\n",
    "example_bin3 = hi_data.loc[(hi_data['testID'] == example_id) & (hi_data['iteration'] == example_iter) & (hi_data['count'] == 3)].sample(1, random_state = rs).iloc[0]\n",
    "example_bin4 = hi_data.loc[(hi_data['testID'] == example_id) & (hi_data['iteration'] == example_iter) & (hi_data['count'] == 4)].sample(1, random_state = rs).iloc[0]\n",
    "\n",
    "example_bin_max = max([max(x['cleavageVector']) for x in [example_bin0, example_bin1, example_bin2, example_bin3, example_bin4]])\n",
    "print(f\"Max normalized cleavage prediction: {example_bin_max}\")\n",
    "\n",
    "for e in [example_bin0, example_bin1, example_bin2, example_bin3, example_bin4]:\n",
    "    print(e.name, e['sequence'][int(example_maxclv-20):int(example_maxclv+20)], e['cleavageEntropy'], e['count'], sorted(e['indices'].tolist()))\n"
   ]
  },
  {
   "cell_type": "code",
   "execution_count": 19,
   "metadata": {},
   "outputs": [
    {
     "data": {
      "image/png": "[encoded data removed]",
      "text/plain": [
       "<Figure size 144x72 with 5 Axes>"
      ]
     },
     "metadata": {
      "needs_background": "light"
     },
     "output_type": "display_data"
    }
   ],
   "source": [
    "fig,axes = plt.subplots(5,1, figsize = (2,1), sharex = True, sharey = True)\n",
    "\n",
    "xs = np.arange(-15,16,1)\n",
    "\n",
    "for ax,ex in zip(axes,[example_bin0, example_bin1, example_bin2, example_bin3, example_bin4]):\n",
    "    \n",
    "    ## plot sequence logo\n",
    "    exseq = ex['sequence'][int(example_maxclv-15):int(example_maxclv+16)]\n",
    "    encoding = cleavage.encode_sequence(exseq)\n",
    "    seqmotif = pd.DataFrame(encoding, columns = ['A','C','G','U'], index = xs)\n",
    "\n",
    "    logo = logomaker.Logo(seqmotif, ax = ax, width = 0.8, vpad = 0.05, color_scheme = {'A':'gray', 'U':'gray', 'G':'gray', 'C':'gray'})\n",
    "    \n",
    "    for i in ex['indices']:\n",
    "        for j in np.arange(i,i+6,1):\n",
    "            logo.style_single_glyph(int(j), exseq[int(j+15)].replace(\"T\",\"U\"), color = \"#d62a28\")\n",
    "\n",
    "    ax.set_xticks(np.arange(-15,16,15))\n",
    "    ax.set_yticks([])\n",
    "    \n",
    "    ax.spines['left'].set_visible(False)\n",
    "    ax.spines['right'].set_visible(False)\n",
    "    ax.spines['top'].set_visible(False)\n",
    "    \n",
    "axes[-1].set_xlabel(\"Position relative to max cleavage site (nt)\")\n",
    "\n",
    "plt.savefig(os.path.join(OUTDIR, f'entropy_mechanisms.cleavage_site_addition.high_entropy.{example_id.replace(\":\",\"_\")}.example_sequence.svg'), format = 'svg', dpi = 600, transparent = True)\n",
    "plt.show()\n"
   ]
  },
  {
   "cell_type": "code",
   "execution_count": 20,
   "metadata": {
    "scrolled": true
   },
   "outputs": [
    {
     "data": {
      "image/png": "[encoded data removed]",
      "text/plain": [
       "<Figure size 72x144 with 6 Axes>"
      ]
     },
     "metadata": {
      "needs_background": "light"
     },
     "output_type": "display_data"
    }
   ],
   "source": [
    "fig,axes = plt.subplots(6,1, figsize = (1,2), sharex = True, sharey = False)\n",
    "\n",
    "for i,(ax,ex) in enumerate(zip(axes, [example_readvec, example_bin0, example_bin1, example_bin2, example_bin3, example_bin4])):\n",
    "    \n",
    "    if (i == 0):\n",
    "        ax.bar(np.arange(0,50,1), ex, width = 1, color = 'gray')\n",
    "    else:\n",
    "        ax.plot(ex['cleavageVector'], color = '#d62a28')\n",
    "        ax.text(x=1.05, y=1, s=f\"{ex['count']} added\\n({ex['cleavageEntropy']:.03f})\", transform = ax.transAxes, ha = 'left', va = 'top')\n",
    "\n",
    "    ax.set_xticks(np.arange(0,51,25))\n",
    "    ax.set_xticklabels(np.arange(-25,26,25))\n",
    "    \n",
    "    ax.set_yticks([])\n",
    "#     ax.set_ylim(0,example_bin_max*1.1)\n",
    "\n",
    "    ax.spines['left'].set_visible(False)\n",
    "    ax.spines['right'].set_visible(False)\n",
    "    ax.spines['top'].set_visible(False)\n",
    "\n",
    "plt.savefig(os.path.join(OUTDIR, f'entropy_mechanisms.cleavage_site_addition.high_entropy.{example_id.replace(\":\",\"_\")}.example_cleavage.svg'), format = 'svg', dpi = 600, transparent = True)\n",
    "plt.show()\n"
   ]
  },
  {
   "cell_type": "markdown",
   "metadata": {},
   "source": [
    "### Adding UA/UA-rich elements around low entropy sites"
   ]
  },
  {
   "cell_type": "code",
   "execution_count": 21,
   "metadata": {},
   "outputs": [
    {
     "name": "stdout",
     "output_type": "stream",
     "text": [
      "(73319, 11)\n",
      "(222, 12)\n",
      "(73097, 12)\n",
      "True    73097\n",
      "Name: consensusEntropy, dtype: int64\n",
      "count    73097.000000\n",
      "mean         0.720243\n",
      "std          0.394212\n",
      "min         -0.860705\n",
      "25%          0.441675\n",
      "50%          0.727743\n",
      "75%          1.000426\n",
      "max          2.119908\n",
      "Name: deltaEntropy, dtype: float64\n"
     ]
    }
   ],
   "source": [
    "## Load data from cleavage site randomization\n",
    "\n",
    "lo_data = pd.read_csv(os.path.join(CLVDIR, 'surrounding_cleavage_additions.low_entropy.txt'), \n",
    "                   sep = \"\\t\", names = ['testID','index','iteration','category','sequence','count','indices','absolutePosition','relativePosition','testMotif','cleavageVector'])\n",
    "\n",
    "print(lo_data.shape)\n",
    "\n",
    "\n",
    "## Process string vectors into numeric numpy arrays\n",
    "\n",
    "lo_data['indices']         = lo_data['indices'].apply(lambda x : np.asarray([float(_) for _ in x.strip(\"][\").split(\", \")] if (x != \"[]\") else np.asarray([])))\n",
    "lo_data['cleavageVector']  = lo_data['cleavageVector'].apply(lambda x : np.asarray([float(_) for _ in x.strip(\"][\").split(\", \")]))\n",
    "lo_data['cleavageEntropy'] = lo_data['cleavageVector'].apply(lambda x : cleavage.calculate_entropy_from_vector(x))\n",
    "\n",
    "\n",
    "## Identify original and replaced cleavage sites\n",
    "\n",
    "original_lo_data = lo_data.loc[lo_data['category'] == 'Original'].copy()\n",
    "converted_lo_data = lo_data.loc[lo_data['category'] == 'Added'].copy()\n",
    "\n",
    "print(original_lo_data.shape)\n",
    "print(converted_lo_data.shape)\n",
    "\n",
    "\n",
    "## Match the number of U- and UA/UA-rich motifs in the region of interest\n",
    "\n",
    "mdict = dict(zip(gold_tpdata['label'], gold_tpdata['consensus_entropy']))\n",
    "converted_lo_data['consensusEntropy'] = converted_lo_data['testID'].apply(lambda x : mdict[x])\n",
    "\n",
    "mdict = dict(zip(gold_tpdata['label'], gold_tpdata['count_U_d2_-15_0']))\n",
    "converted_lo_data['originalCountUup'] = converted_lo_data['testID'].apply(lambda x : mdict[x])\n",
    "\n",
    "mdict = dict(zip(gold_tpdata['label'], gold_tpdata['count_U_d2_0_15']))\n",
    "converted_lo_data['originalCountUdn'] = converted_lo_data['testID'].apply(lambda x : mdict[x])\n",
    "\n",
    "mdict = dict(zip(gold_tpdata['label'], gold_tpdata['count_UA_d2_-15_0']))\n",
    "converted_lo_data['originalCountUAup'] = converted_lo_data['testID'].apply(lambda x : mdict[x])\n",
    "\n",
    "mdict = dict(zip(gold_tpdata['label'], gold_tpdata['count_UA_d2_0_15']))\n",
    "converted_lo_data['originalCountUAdn'] = converted_lo_data['testID'].apply(lambda x : mdict[x])\n",
    "\n",
    "\n",
    "## Calculate the change in entropy after motif conversion\n",
    "\n",
    "edict = dict(zip(original_lo_data['testID'], original_lo_data['cleavageEntropy']))\n",
    "\n",
    "converted_lo_data['originalEntropy'] = converted_lo_data['testID'].apply(lambda x: edict[x])\n",
    "converted_lo_data['fcEntropy']       = converted_lo_data.apply(lambda row: row['cleavageEntropy'] / row['originalEntropy'], axis = 1)\n",
    "converted_lo_data['deltaEntropy']    = converted_lo_data.apply(lambda row: row['cleavageEntropy'] - row['originalEntropy'], axis = 1)\n",
    "\n",
    "print(converted_lo_data['consensusEntropy'].value_counts())\n",
    "print(converted_lo_data['deltaEntropy'].describe())\n"
   ]
  },
  {
   "cell_type": "code",
   "execution_count": 22,
   "metadata": {},
   "outputs": [
    {
     "name": "stdout",
     "output_type": "stream",
     "text": [
      "222\n",
      "8753\n",
      "False    38085\n",
      "True     35012\n",
      "Name: allFour, dtype: int64\n"
     ]
    }
   ],
   "source": [
    "all_four = {}\n",
    "\n",
    "for i,row in converted_lo_data.loc[converted_lo_data['count'] == 4, ['testID','iteration']].drop_duplicates().iterrows():\n",
    "    \n",
    "    if (row['testID'] not in all_four):\n",
    "        all_four[row['testID']] = {}\n",
    "        \n",
    "    all_four[row['testID']][row['iteration']] = 1\n",
    "\n",
    "print(len(list(all_four.keys())))\n",
    "print(sum(len(v) for v in all_four.values()))\n",
    "\n",
    "converted_lo_data['allFour'] = converted_lo_data.apply(lambda row : all_four.get(row['testID'],{}).get(row['iteration'],0), axis=1).astype(bool)\n",
    "print(converted_lo_data['allFour'].value_counts())\n"
   ]
  },
  {
   "cell_type": "code",
   "execution_count": 23,
   "metadata": {},
   "outputs": [
    {
     "name": "stdout",
     "output_type": "stream",
     "text": [
      "73097 73097 73097 73097 73097 73097 35012 35012\n",
      "222 (222, 2)\n",
      "(8753, 4) 0\n"
     ]
    }
   ],
   "source": [
    "cond0 = (converted_lo_data['consensusEntropy'] == True)\n",
    "cond1 = converted_lo_data['count'].between(1,4)\n",
    "cond2 = (converted_lo_data['originalCountUup'] >= 1)\n",
    "cond3 = (converted_lo_data['originalCountUdn'] >= 1)\n",
    "cond4 = (converted_lo_data['originalCountUAup'] == 0)\n",
    "cond5 = (converted_lo_data['originalCountUAdn'] == 0)\n",
    "cond6 = (converted_lo_data['allFour'] == True)\n",
    "\n",
    "condPLOT = (cond0 & cond1 & cond2 & cond3 & cond4 & cond5 & cond6)\n",
    "print(cond0.sum(), cond1.sum(), cond2.sum(), cond3.sum(), cond4.sum(), cond5.sum(), cond6.sum(), condPLOT.sum())\n",
    "\n",
    "plot_data = converted_lo_data.loc[condPLOT].copy()\n",
    "plot_data['testLabel'] = plot_data['testID'] + ':' + plot_data['iteration'].astype(str)\n",
    "print(plot_data['testID'].nunique(), plot_data[['testID','index']].drop_duplicates().shape)\n",
    "\n",
    "wide_data = pd.pivot(plot_data, index = 'testLabel', columns = 'count', values = 'deltaEntropy')\n",
    "wide_data.columns = wide_data.columns.map(str)\n",
    "print(wide_data.shape, wide_data.isna().any(axis = 1).sum())\n"
   ]
  },
  {
   "cell_type": "code",
   "execution_count": 24,
   "metadata": {},
   "outputs": [
    {
     "data": {
      "image/png": "[encoded data removed]",
      "text/plain": [
       "<Figure size 72x108 with 1 Axes>"
      ]
     },
     "metadata": {
      "needs_background": "light"
     },
     "output_type": "display_data"
    },
    {
     "name": "stdout",
     "output_type": "stream",
     "text": [
      "\n",
      "Corresponding statistics-\n",
      "\tWilcoxon signed-rank paired test (group 1 vs 2):  5008009.000 0.00E+00\n",
      "\tWilcoxon signed-rank paired test (group 1 vs 3):  2728242.000 0.00E+00\n",
      "\tWilcoxon signed-rank paired test (group 1 vs 4):   716013.000 0.00E+00\n",
      "\n",
      "Summary data-\n",
      "       count    median      mean       std       min       max\n",
      "count                                                         \n",
      "1       8753  0.466781  0.478464  0.326873 -0.784690  1.686157\n",
      "2       8753  0.738808  0.720106  0.355357 -0.709585  1.916462\n",
      "3       8753  0.893083  0.869060  0.360519 -0.860705  2.119908\n",
      "4       8753  1.058626  1.043378  0.337096 -0.654265  2.083443\n"
     ]
    }
   ],
   "source": [
    "fig,ax = plt.subplots(1,1, figsize = (1,1.5))\n",
    "\n",
    "x = 'count'\n",
    "y = 'deltaEntropy'\n",
    "\n",
    "sns.barplot(data = plot_data, x = x, y = y,\n",
    "            color = 'lightgray', edgecolor = 'black', linewidth = 0.5,\n",
    "            ax = ax)\n",
    "\n",
    "ax.set_xlabel(\"Number of UA/UA-rich elements added in (-15,15) region\")\n",
    "\n",
    "ax.set_ylabel(\"Change in predicted cleavage entropy\")\n",
    "ax.set_ylim(0,1.2)\n",
    "ax.yaxis.set_major_locator(MultipleLocator(0.2))\n",
    "\n",
    "ax.spines['right'].set_visible(False)\n",
    "ax.spines['top'].set_visible(False)\n",
    "\n",
    "plt.savefig(os.path.join(OUTDIR, f'entropy_mechanisms.cleavage_site_addition.low_entropy.barplot.{y}_by_{x}.svg'), format = 'svg', dpi = 600, transparent = True)\n",
    "plt.show()\n",
    "\n",
    "\n",
    "print(\"\\nCorresponding statistics-\")\n",
    "\n",
    "for c in wide_data.columns:\n",
    "\n",
    "    if (c == '1'):\n",
    "        continue\n",
    "    \n",
    "    stat, pval = st.wilcoxon(wide_data[c], wide_data['1'])\n",
    "    print(f\"\\tWilcoxon signed-rank paired test (group 1 vs {c}): {stat:12.03f} {pval:8.02E}\")\n",
    "\n",
    "print(\"\\nSummary data-\")\n",
    "print(plot_data.groupby(x)[y].agg(['count','median','mean','std','min','max']))\n"
   ]
  },
  {
   "cell_type": "markdown",
   "metadata": {},
   "source": [
    "### Individual examples"
   ]
  },
  {
   "cell_type": "markdown",
   "metadata": {},
   "source": [
    "#### Example 1"
   ]
  },
  {
   "cell_type": "code",
   "execution_count": 26,
   "metadata": {},
   "outputs": [
    {
     "name": "stdout",
     "output_type": "stream",
     "text": [
      "Gene=YNL146W, observed_entropy=1.3168158215347037\n",
      "Max normalized cleavage prediction: 0.5602419972419739\n",
      "26356 ACAGATTTTTTCATGTTTTTCTTTTCTGATACGCCTTTCC 1.9450637002516502 0 []\n",
      "26552 ACAGATTTTTTCATGTTTTTCTTAAAATATACGCCTTTCC 2.362521284029478 1 [3.0]\n",
      "26553 ACAGATTTTTTCAAATAATTCTTAAAATATACGCCTTTCC 2.8191779770232848 2 [-7.0, 3.0]\n",
      "26554 ACAGATTATAATAAATAATTCTTAAAATATACGCCTTTCC 3.2996109492150385 3 [-13.0, -7.0, 3.0]\n",
      "26555 ACAGATTATAATAAATAATTCTTAAAATAAATAATTTTCC 3.312042856880836 4 [-13.0, -7.0, 3.0, 9.0]\n"
     ]
    }
   ],
   "source": [
    "rs = 2660129116; example_id = \"004615:XIV:352704:+\"; example_iter = 61\n",
    "            \n",
    "example_gene    = gold_tpdata.loc[gold_tpdata['label'] == example_id, 'gene'].iloc[0]\n",
    "example_obsent  = gold_tpdata.loc[gold_tpdata['label'] == example_id, 'observed_entropy'].iloc[0]\n",
    "example_maxclv  = gold_tpdata.loc[gold_tpdata['label'] == example_id, 'ctr_cleavage'].iloc[0]\n",
    "example_readvec = gold_tpdata.loc[gold_tpdata['label'] == example_id, 'readvec'].iloc[0]\n",
    "print(f\"Gene={example_gene}, observed_entropy={example_obsent}\")\n",
    "\n",
    "example_bin0 = lo_data.loc[(lo_data['testID'] == example_id) & (lo_data['iteration'] == 0) & (lo_data['count'] ==  0)].sample(1, random_state = rs).iloc[0]\n",
    "example_bin1 = lo_data.loc[(lo_data['testID'] == example_id) & (lo_data['iteration'] == example_iter) & (lo_data['count'] == 1)].sample(1, random_state = rs).iloc[0]\n",
    "example_bin2 = lo_data.loc[(lo_data['testID'] == example_id) & (lo_data['iteration'] == example_iter) & (lo_data['count'] == 2)].sample(1, random_state = rs).iloc[0]\n",
    "example_bin3 = lo_data.loc[(lo_data['testID'] == example_id) & (lo_data['iteration'] == example_iter) & (lo_data['count'] == 3)].sample(1, random_state = rs).iloc[0]\n",
    "example_bin4 = lo_data.loc[(lo_data['testID'] == example_id) & (lo_data['iteration'] == example_iter) & (lo_data['count'] == 4)].sample(1, random_state = rs).iloc[0]\n",
    "\n",
    "example_bin_max = max([max(x['cleavageVector']) for x in [example_bin0, example_bin1, example_bin2, example_bin3, example_bin4]])\n",
    "print(f\"Max normalized cleavage prediction: {example_bin_max}\")\n",
    "\n",
    "for e in [example_bin0, example_bin1, example_bin2, example_bin3, example_bin4]:\n",
    "    print(e.name, e['sequence'][int(example_maxclv-20):int(example_maxclv+20)], e['cleavageEntropy'], e['count'], sorted(e['indices'].tolist()))\n"
   ]
  },
  {
   "cell_type": "code",
   "execution_count": 27,
   "metadata": {},
   "outputs": [
    {
     "data": {
      "image/png": "[encoded data removed]",
      "text/plain": [
       "<Figure size 144x72 with 5 Axes>"
      ]
     },
     "metadata": {
      "needs_background": "light"
     },
     "output_type": "display_data"
    }
   ],
   "source": [
    "fig,axes = plt.subplots(5,1, figsize = (2,1), sharex = True, sharey = True)\n",
    "\n",
    "xs = np.arange(-15,16,1)\n",
    "\n",
    "for ax,ex in zip(axes,[example_bin0, example_bin1, example_bin2, example_bin3, example_bin4]):\n",
    "    \n",
    "    ## plot sequence logo\n",
    "    exseq = ex['sequence'][int(example_maxclv-15):int(example_maxclv+16)]\n",
    "    encoding = cleavage.encode_sequence(exseq)\n",
    "    seqmotif = pd.DataFrame(encoding, columns = ['A','C','G','U'], index = xs)\n",
    "\n",
    "    logo = logomaker.Logo(seqmotif, ax = ax, width = 0.8, vpad = 0.05, color_scheme = {'A':'gray', 'U':'gray', 'G':'gray', 'C':'gray'})\n",
    "    \n",
    "    for i in ex['indices']:\n",
    "        for j in np.arange(i,i+6,1):\n",
    "            logo.style_single_glyph(int(j), exseq[int(j+15)].replace(\"T\",\"U\"), color = \"#d62a28\")\n",
    "\n",
    "    ax.set_xticks(np.arange(-15,16,15))\n",
    "    ax.set_yticks([])\n",
    "    \n",
    "    ax.spines['left'].set_visible(False)\n",
    "    ax.spines['right'].set_visible(False)\n",
    "    ax.spines['top'].set_visible(False)\n",
    "    \n",
    "axes[-1].set_xlabel(\"Position relative to max cleavage site (nt)\")\n",
    "\n",
    "plt.savefig(os.path.join(OUTDIR, f'entropy_mechanisms.cleavage_site_addition.low_entropy.{example_id.replace(\":\",\"_\")}.example_sequence.svg'), format = 'svg', dpi = 600, transparent = True)\n",
    "plt.show()\n"
   ]
  },
  {
   "cell_type": "code",
   "execution_count": 28,
   "metadata": {},
   "outputs": [
    {
     "data": {
      "image/png": "[encoded data removed]",
      "text/plain": [
       "<Figure size 72x144 with 6 Axes>"
      ]
     },
     "metadata": {
      "needs_background": "light"
     },
     "output_type": "display_data"
    }
   ],
   "source": [
    "fig,axes = plt.subplots(6,1, figsize = (1,2), sharex = True, sharey = False)\n",
    "\n",
    "for i,(ax,ex) in enumerate(zip(axes, [example_readvec, example_bin0, example_bin1, example_bin2, example_bin3, example_bin4])):\n",
    "    \n",
    "    if (i == 0):\n",
    "        ax.bar(np.arange(0,50,1), ex, width = 1, color = 'gray')\n",
    "    else:\n",
    "        ax.plot(ex['cleavageVector'], color = '#d62a28')\n",
    "        ax.text(x=1.05, y=1, s=f\"{ex['count']} added\\n({ex['cleavageEntropy']:.03f})\", transform = ax.transAxes, ha = 'left', va = 'top')\n",
    "\n",
    "    ax.set_xticks(np.arange(0,51,25))\n",
    "    ax.set_xticklabels(np.arange(-25,26,25))\n",
    "    \n",
    "    ax.set_yticks([])\n",
    "#     ax.set_ylim(0,example_bin_max*1.1)\n",
    "\n",
    "    ax.spines['left'].set_visible(False)\n",
    "    ax.spines['right'].set_visible(False)\n",
    "    ax.spines['top'].set_visible(False)\n",
    "\n",
    "plt.savefig(os.path.join(OUTDIR, f'entropy_mechanisms.cleavage_site_addition.low_entropy.{example_id.replace(\":\",\"_\")}.example_cleavage.svg'), format = 'svg', dpi = 600, transparent = True)\n",
    "plt.show()\n"
   ]
  },
  {
   "cell_type": "markdown",
   "metadata": {},
   "source": [
    "#### Example 2"
   ]
  },
  {
   "cell_type": "code",
   "execution_count": 29,
   "metadata": {},
   "outputs": [
    {
     "name": "stdout",
     "output_type": "stream",
     "text": [
      "Gene=YPR154W, observed_entropy=2.0049833289272705\n",
      "Max normalized cleavage prediction: 0.31396201252937317\n",
      "32642 AGTTCTACCTTTGGTGTTGTTATCCCTAGAATTTTTTTCT 2.4233882006771417 0 []\n",
      "32653 AGTTCTACCTTTGAAAATATTATCCCTAGAATTTTTTTCT 3.034736886649679 1 [-7.0]\n",
      "32654 AGTTCTACCTTTGAAAATATTAAATAATGAATTTTTTTCT 3.3476881194003565 2 [-7.0, 2.0]\n",
      "32655 AGTTCTACCTTTGAAAATATTAAATAATTAATAATTTTCT 3.3557318124656743 3 [-7.0, 2.0, 8.0]\n",
      "32656 AGTTCTTAATAAGAAAATATTAAATAATTAATAATTTTCT 3.6489010862442224 4 [-14.0, -7.0, 2.0, 8.0]\n"
     ]
    }
   ],
   "source": [
    "rs = 1976079352; example_id = \"005807:XVI:835302:+\"; example_iter = 4\n",
    "\n",
    "example_gene    = gold_tpdata.loc[gold_tpdata['label'] == example_id, 'gene'].iloc[0]\n",
    "example_obsent  = gold_tpdata.loc[gold_tpdata['label'] == example_id, 'observed_entropy'].iloc[0]\n",
    "example_maxclv  = gold_tpdata.loc[gold_tpdata['label'] == example_id, 'ctr_cleavage'].iloc[0]\n",
    "example_readvec = gold_tpdata.loc[gold_tpdata['label'] == example_id, 'readvec'].iloc[0]\n",
    "print(f\"Gene={example_gene}, observed_entropy={example_obsent}\")\n",
    "\n",
    "example_bin0 = lo_data.loc[(lo_data['testID'] == example_id) & (lo_data['iteration'] == 0) & (lo_data['count'] ==  0)].sample(1, random_state = rs).iloc[0]\n",
    "example_bin1 = lo_data.loc[(lo_data['testID'] == example_id) & (lo_data['iteration'] == example_iter) & (lo_data['count'] == 1)].sample(1, random_state = rs).iloc[0]\n",
    "example_bin2 = lo_data.loc[(lo_data['testID'] == example_id) & (lo_data['iteration'] == example_iter) & (lo_data['count'] == 2)].sample(1, random_state = rs).iloc[0]\n",
    "example_bin3 = lo_data.loc[(lo_data['testID'] == example_id) & (lo_data['iteration'] == example_iter) & (lo_data['count'] == 3)].sample(1, random_state = rs).iloc[0]\n",
    "example_bin4 = lo_data.loc[(lo_data['testID'] == example_id) & (lo_data['iteration'] == example_iter) & (lo_data['count'] == 4)].sample(1, random_state = rs).iloc[0]\n",
    "\n",
    "example_bin_max = max([max(x['cleavageVector']) for x in [example_bin0, example_bin1, example_bin2, example_bin3, example_bin4]])\n",
    "print(f\"Max normalized cleavage prediction: {example_bin_max}\")\n",
    "\n",
    "for e in [example_bin0, example_bin1, example_bin2, example_bin3, example_bin4]:\n",
    "    print(e.name, e['sequence'][int(example_maxclv-20):int(example_maxclv+20)], e['cleavageEntropy'], e['count'], sorted(e['indices'].tolist()))\n"
   ]
  },
  {
   "cell_type": "code",
   "execution_count": 30,
   "metadata": {},
   "outputs": [
    {
     "data": {
      "image/png": "[encoded data removed]",
      "text/plain": [
       "<Figure size 144x72 with 5 Axes>"
      ]
     },
     "metadata": {
      "needs_background": "light"
     },
     "output_type": "display_data"
    }
   ],
   "source": [
    "fig,axes = plt.subplots(5,1, figsize = (2,1), sharex = True, sharey = True)\n",
    "\n",
    "xs = np.arange(-15,16,1)\n",
    "\n",
    "for ax,ex in zip(axes,[example_bin0, example_bin1, example_bin2, example_bin3, example_bin4]):\n",
    "    \n",
    "    ## plot sequence logo\n",
    "    exseq = ex['sequence'][int(example_maxclv-15):int(example_maxclv+16)]\n",
    "    encoding = cleavage.encode_sequence(exseq)\n",
    "    seqmotif = pd.DataFrame(encoding, columns = ['A','C','G','U'], index = xs)\n",
    "\n",
    "    logo = logomaker.Logo(seqmotif, ax = ax, width = 0.8, vpad = 0.05, color_scheme = {'A':'gray', 'U':'gray', 'G':'gray', 'C':'gray'})\n",
    "    \n",
    "    for i in ex['indices']:\n",
    "        for j in np.arange(i,i+6,1):\n",
    "            logo.style_single_glyph(int(j), exseq[int(j+15)].replace(\"T\",\"U\"), color = \"#d62a28\")\n",
    "\n",
    "    ax.set_xticks(np.arange(-15,16,15))\n",
    "    ax.set_yticks([])\n",
    "    \n",
    "    ax.spines['left'].set_visible(False)\n",
    "    ax.spines['right'].set_visible(False)\n",
    "    ax.spines['top'].set_visible(False)\n",
    "    \n",
    "axes[-1].set_xlabel(\"Position relative to max cleavage site (nt)\")\n",
    "\n",
    "plt.savefig(os.path.join(OUTDIR, f'entropy_mechanisms.cleavage_site_addition.low_entropy.{example_id.replace(\":\",\"_\")}.example_sequence.svg'), format = 'svg', dpi = 600, transparent = True)\n",
    "plt.show()\n"
   ]
  },
  {
   "cell_type": "code",
   "execution_count": 31,
   "metadata": {},
   "outputs": [
    {
     "data": {
      "image/png": "[encoded data removed]",
      "text/plain": [
       "<Figure size 72x144 with 6 Axes>"
      ]
     },
     "metadata": {
      "needs_background": "light"
     },
     "output_type": "display_data"
    }
   ],
   "source": [
    "fig,axes = plt.subplots(6,1, figsize = (1,2), sharex = True, sharey = False)\n",
    "\n",
    "for i,(ax,ex) in enumerate(zip(axes, [example_readvec, example_bin0, example_bin1, example_bin2, example_bin3, example_bin4])):\n",
    "    \n",
    "    if (i == 0):\n",
    "        ax.bar(np.arange(0,50,1), ex, width = 1, color = 'gray')\n",
    "    else:\n",
    "        ax.plot(ex['cleavageVector'], color = '#d62a28')\n",
    "        ax.text(x=1.05, y=1, s=f\"{ex['count']} added\\n({ex['cleavageEntropy']:.03f})\", transform = ax.transAxes, ha = 'left', va = 'top')\n",
    "\n",
    "    ax.set_xticks(np.arange(0,51,25))\n",
    "    ax.set_xticklabels(np.arange(-25,26,25))\n",
    "    \n",
    "    ax.set_yticks([])\n",
    "#     ax.set_ylim(0,example_bin_max*1.1)\n",
    "\n",
    "    ax.spines['left'].set_visible(False)\n",
    "    ax.spines['right'].set_visible(False)\n",
    "    ax.spines['top'].set_visible(False)\n",
    "\n",
    "plt.savefig(os.path.join(OUTDIR, f'entropy_mechanisms.cleavage_site_addition.low_entropy.{example_id.replace(\":\",\"_\")}.example_cleavage.svg'), format = 'svg', dpi = 600, transparent = True)\n",
    "plt.show()\n"
   ]
  }
 ],
 "metadata": {
  "kernelspec": {
   "display_name": "Python (tf-train)",
   "language": "python",
   "name": "tf-train"
  },
  "language_info": {
   "codemirror_mode": {
    "name": "ipython",
    "version": 3
   },
   "file_extension": ".py",
   "mimetype": "text/x-python",
   "name": "python",
   "nbconvert_exporter": "python",
   "pygments_lexer": "ipython3",
   "version": "3.6.12"
  }
 },
 "nbformat": 4,
 "nbformat_minor": 2
}
