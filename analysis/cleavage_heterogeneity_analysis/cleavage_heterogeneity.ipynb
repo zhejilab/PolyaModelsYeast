{
 "cells": [
  {
   "cell_type": "markdown",
   "metadata": {},
   "source": [
    "# Mechanisms underlying cleavage site heterogeneity\n",
    "\n",
    "**Purpose**: To investigate the cis-regulatory elements controlling cleavage site heterogeneity.\n"
   ]
  },
  {
   "cell_type": "code",
   "execution_count": 1,
   "metadata": {},
   "outputs": [],
   "source": [
    "%load_ext autoreload"
   ]
  },
  {
   "cell_type": "code",
   "execution_count": 2,
   "metadata": {},
   "outputs": [],
   "source": [
    "%autoreload 2"
   ]
  },
  {
   "cell_type": "code",
   "execution_count": 3,
   "metadata": {},
   "outputs": [],
   "source": [
    "%run -i notebook_setup.py"
   ]
  },
  {
   "cell_type": "markdown",
   "metadata": {},
   "source": [
    "## IMPORTS AND SETUP"
   ]
  },
  {
   "cell_type": "code",
   "execution_count": 4,
   "metadata": {},
   "outputs": [],
   "source": [
    "from paper_utilities import cleavage\n",
    "\n",
    "from statsmodels.stats.multitest import multipletests\n",
    "from statsmodels.stats.proportion import test_proportions_2indep\n"
   ]
  },
  {
   "cell_type": "code",
   "execution_count": 5,
   "metadata": {},
   "outputs": [],
   "source": [
    "PROJECT = \"/projects/b1080/eks/polyadenylation/yeast\"\n",
    "CLVDIR  = os.path.join(PROJECT, 'saccharomyces_cerevisiae', 'analysis', 'motif_analysis', 'cleavage_motifs')\n",
    "OUTDIR  = os.path.join(PROJECT, 'manuscript', 'analysis', 'cleavage_heterogeneity')\n",
    "RESOURCES = os.path.join(os.path.dirname(OUTDIR), 'resources')\n",
    "os.makedirs(OUTDIR, exist_ok = True)\n"
   ]
  },
  {
   "cell_type": "code",
   "execution_count": 6,
   "metadata": {},
   "outputs": [],
   "source": [
    "## Load motif family definitions for S. cerevisiae\n",
    "\n",
    "scer_definitions = {'patterns' : {}, 'distance' : {}}\n",
    "\n",
    "# By pattern - we only look at pattern families for 6mers\n",
    "with open(os.path.join(RESOURCES, f'motif_definitions.scer.6mers.patterns.pickle'), mode = 'rb') as handle:\n",
    "    scer_definitions['patterns'][6] = pickle.load(handle)\n",
    "    \n",
    "scer_definitions['patterns'][5] = {'family':{}}\n",
    "scer_definitions['patterns'][4] = {'family':{}}\n",
    "\n",
    "# By Hamming distance\n",
    "for kmer in [4,5,6]:\n",
    "    with open(os.path.join(RESOURCES, f'motif_definitions.scer.{kmer}mers.distance.pickle'), mode = 'rb') as handle:\n",
    "        scer_definitions['distance'][kmer] = pickle.load(handle)\n"
   ]
  },
  {
   "cell_type": "code",
   "execution_count": 7,
   "metadata": {},
   "outputs": [
    {
     "name": "stdout",
     "output_type": "stream",
     "text": [
      "(11673, 445)\n",
      "(11400, 457)\n"
     ]
    }
   ],
   "source": [
    "with open(os.path.join(RESOURCES, 'gold_data.ctr.pickle'), mode = 'rb') as handle:\n",
    "    gold_data = pickle.load(handle)\n",
    "    \n",
    "with open(os.path.join(RESOURCES, 'gold_data.cleavage_heterogeneity.ctr.pickle'), mode = 'rb') as handle:\n",
    "    gold_tpdata = pickle.load(handle)\n",
    "\n",
    "print(gold_data.shape)\n",
    "print(gold_tpdata.shape)\n"
   ]
  },
  {
   "cell_type": "code",
   "execution_count": 8,
   "metadata": {},
   "outputs": [],
   "source": [
    "evar  = 'observed_entropy_group'\n",
    "evals = np.arange(1,4,1)\n",
    "elow  = 1\n",
    "ehigh = 3\n",
    "\n",
    "entropy_group_palette = {\n",
    "    1 : '#3375a2',\n",
    "    2 : '#e1822c',\n",
    "    3 : '#3b9344'\n",
    "}\n",
    "\n",
    "motif_count_palette = {\n",
    "    1 : '#5066af',\n",
    "    2 : '#15b4e9',\n",
    "    3 : '#79cbbb'\n",
    "}"
   ]
  },
  {
   "cell_type": "code",
   "execution_count": 9,
   "metadata": {},
   "outputs": [],
   "source": [
    "boxplot_format = {\n",
    "    'boxprops'     : {'edgecolor' : 'black', 'linewidth' : 0.5},\n",
    "    'medianprops'  : {'color' : 'black', 'linewidth' : 0.5},\n",
    "    'whiskerprops' : {'color' : 'black', 'linewidth' : 0.5},\n",
    "    'capprops'     : {'color' : 'black', 'linewidth' : 0.5},\n",
    "    'flierprops'   : {'color' : 'black'},\n",
    "    'showfliers'   : False\n",
    "}\n",
    "\n",
    "barplot_format = {\n",
    "    'color'     : 'lightgray',\n",
    "    'edgecolor' : 'black',\n",
    "    'linewidth' : 0.5,\n",
    "}"
   ]
  },
  {
   "cell_type": "markdown",
   "metadata": {},
   "source": [
    "## ANALYSIS"
   ]
  },
  {
   "cell_type": "markdown",
   "metadata": {},
   "source": [
    "### Examples of high and low entropy sites"
   ]
  },
  {
   "cell_type": "code",
   "execution_count": 10,
   "metadata": {},
   "outputs": [
    {
     "data": {
      "image/png": "[encoded data removed]",
      "text/plain": [
       "<Figure size 144x108 with 1 Axes>"
      ]
     },
     "metadata": {
      "needs_background": "light"
     },
     "output_type": "display_data"
    }
   ],
   "source": [
    "fig,ax = plt.subplots(1,1, figsize = (2,1.5))\n",
    "\n",
    "sns.histplot(data = gold_tpdata, x = 'observed_entropy', \n",
    "             hue = evar, palette = entropy_group_palette, multiple = 'stack',\n",
    "             alpha = 1, binwidth = 0.05, linewidth = 0, ax = ax)\n",
    "\n",
    "ax.set_xlabel(\"Entropy\")\n",
    "ax.set_xlim(None,4)\n",
    "\n",
    "ax.spines['right'].set_visible(False)\n",
    "ax.spines['top'].set_visible(False)\n",
    "\n",
    "plt.savefig(os.path.join(OUTDIR, f'entropy_obs_only.distribution.observed_entropy.svg'), format = 'svg', dpi = 600, transparent = True)\n",
    "plt.show()\n"
   ]
  },
  {
   "cell_type": "markdown",
   "metadata": {},
   "source": [
    "#### Low entropy examples"
   ]
  },
  {
   "cell_type": "code",
   "execution_count": 11,
   "metadata": {},
   "outputs": [
    {
     "name": "stdout",
     "output_type": "stream",
     "text": [
      "\n",
      "Example 0: gene=YDR525W-A, location=(IV, 1490913, +)\n",
      "\tObserved entropy: 1.177\n",
      "\tCleavage site sequence: CTACCCTTTTTTTTTCATTTCTTTCTTTTT\n"
     ]
    },
    {
     "data": {
      "image/png": "[encoded data removed]",
      "text/plain": [
       "<Figure size 144x72 with 1 Axes>"
      ]
     },
     "metadata": {
      "needs_background": "light"
     },
     "output_type": "display_data"
    },
    {
     "name": "stdout",
     "output_type": "stream",
     "text": [
      "\n",
      "Example 1: gene=YML115C, location=(XIII, 40130, -)\n",
      "\tObserved entropy: 1.489\n",
      "\tCleavage site sequence: TTTTTTGTTTTGTTTTATTTCGTTTTGTTT\n"
     ]
    },
    {
     "data": {
      "image/png": "[encoded data removed]",
      "text/plain": [
       "<Figure size 144x72 with 1 Axes>"
      ]
     },
     "metadata": {
      "needs_background": "light"
     },
     "output_type": "display_data"
    },
    {
     "name": "stdout",
     "output_type": "stream",
     "text": [
      "\n",
      "Example 2: gene=YER136W, location=(V, 441216, +)\n",
      "\tObserved entropy: 1.589\n",
      "\tCleavage site sequence: CTTTCCTTTTCTTTTCTTTCAATTTCTTTT\n"
     ]
    },
    {
     "data": {
      "image/png": "[encoded data removed]",
      "text/plain": [
       "<Figure size 144x72 with 1 Axes>"
      ]
     },
     "metadata": {
      "needs_background": "light"
     },
     "output_type": "display_data"
    },
    {
     "name": "stdout",
     "output_type": "stream",
     "text": [
      "\n",
      "Example 3: gene=YKL023W, location=(XI, 394647, +)\n",
      "\tObserved entropy: 1.920\n",
      "\tCleavage site sequence: AACTTCTTTTCTTTTTATTCTTATTTTCTT\n"
     ]
    },
    {
     "data": {
      "image/png": "[encoded data removed]",
      "text/plain": [
       "<Figure size 144x72 with 1 Axes>"
      ]
     },
     "metadata": {
      "needs_background": "light"
     },
     "output_type": "display_data"
    },
    {
     "name": "stdout",
     "output_type": "stream",
     "text": [
      "\n",
      "Example 4: gene=YGL157W, location=(VII, 210140, +)\n",
      "\tObserved entropy: 1.929\n",
      "\tCleavage site sequence: TTTTTTTTACATTGCCAGTTTTCTTTTTTC\n"
     ]
    },
    {
     "data": {
      "image/png": "[encoded data removed]",
      "text/plain": [
       "<Figure size 144x72 with 1 Axes>"
      ]
     },
     "metadata": {
      "needs_background": "light"
     },
     "output_type": "display_data"
    }
   ],
   "source": [
    "example_sites = [\n",
    "    ('YDR525W-A',   'IV', 1490913, '+'),\n",
    "    ('YML115C',   'XIII',   40130, '-'),\n",
    "    ('YER136W',      'V',  441216, '+'),\n",
    "    ('YKL023W',     'XI',  394647, '+'),\n",
    "    ('YGL157W',    'VII',  210140, '+')\n",
    "]\n",
    "\n",
    "for i, example_entry in enumerate(example_sites):\n",
    "    \n",
    "    ex_gene, ex_chrom, ex_start, ex_strand = example_entry\n",
    "    ex_data = gold_tpdata.loc[(gold_tpdata['gene'] == ex_gene) & (gold_tpdata['start'] == ex_start)].iloc[0]\n",
    "\n",
    "    print(f\"\\nExample {i}: gene={ex_data['gene']}, location=({ex_data['chrom']}, {ex_data['start']}, {ex_data['strand']})\")\n",
    "    print(f\"\\tObserved entropy: {ex_data['observed_entropy']:.03f}\")\n",
    "    print(f\"\\tCleavage site sequence: {ex_data['sequence'][int(ex_data['ctr_cleavage']-15):int(ex_data['ctr_cleavage']+15)]}\")\n",
    "\n",
    "    fig,ax = plt.subplots(1,1, figsize = (2,1))\n",
    "    xs = np.arange(-25,25,1)\n",
    "    ax.bar(xs, ex_data['observed_norm'], color = 'gray', width = 1)\n",
    "    plt.show()\n"
   ]
  },
  {
   "cell_type": "markdown",
   "metadata": {},
   "source": [
    "#### High entropy examples"
   ]
  },
  {
   "cell_type": "code",
   "execution_count": 12,
   "metadata": {},
   "outputs": [
    {
     "name": "stdout",
     "output_type": "stream",
     "text": [
      "3.1240996734287414\n"
     ]
    },
    {
     "data": {
      "image/png": "[encoded data removed]",
      "text/plain": [
       "<Figure size 144x72 with 1 Axes>"
      ]
     },
     "metadata": {
      "needs_background": "light"
     },
     "output_type": "display_data"
    }
   ],
   "source": [
    "ex2_gene, ex2_chrom, ex2_start = ('YOR117W', 'XV', 546422)\n",
    "\n",
    "ex2_data = gold_tpdata.loc[(gold_tpdata['gene'] == ex2_gene) & (gold_tpdata['chrom'] == ex2_chrom) & (gold_tpdata['start'] == ex2_start)].iloc[0]\n",
    "print(ex2_data['observed_entropy'])\n",
    "\n",
    "fig,ax = plt.subplots(1,1, figsize = (2,1))\n",
    "xs = np.arange(-25,25,1)\n",
    "ax.bar(xs, ex2_data['observed_norm'], color = 'gray', width = 1)\n",
    "plt.show()\n"
   ]
  },
  {
   "cell_type": "code",
   "execution_count": 13,
   "metadata": {},
   "outputs": [
    {
     "name": "stdout",
     "output_type": "stream",
     "text": [
      "3.2491343098705077\n"
     ]
    },
    {
     "data": {
      "image/png": "[encoded data removed]",
      "text/plain": [
       "<Figure size 144x72 with 1 Axes>"
      ]
     },
     "metadata": {
      "needs_background": "light"
     },
     "output_type": "display_data"
    }
   ],
   "source": [
    "ex3_gene, ex3_chrom, ex3_start = ('YNL290W', 'XIV', 87314)\n",
    "ex3_data = gold_tpdata.loc[(gold_tpdata['gene'] == ex3_gene) & (gold_tpdata['chrom'] == ex3_chrom) & (gold_tpdata['start'] == ex3_start)].iloc[0]\n",
    "print(ex3_data['observed_entropy'])\n",
    "\n",
    "fig,ax = plt.subplots(1,1, figsize = (2,1))\n",
    "xs = np.arange(-25,25,1)\n",
    "ax.bar(xs, ex3_data['observed_norm'], color = 'gray', width = 1)\n",
    "plt.show()\n"
   ]
  },
  {
   "cell_type": "markdown",
   "metadata": {},
   "source": [
    "### High entropy sites show no difference in PolyaClassifier probability but are weaker according to PolyaStrength"
   ]
  },
  {
   "cell_type": "code",
   "execution_count": 14,
   "metadata": {},
   "outputs": [
    {
     "data": {
      "image/png": "[encoded data removed]",
      "text/plain": [
       "<Figure size 36x72 with 1 Axes>"
      ]
     },
     "metadata": {
      "needs_background": "light"
     },
     "output_type": "display_data"
    },
    {
     "name": "stdout",
     "output_type": "stream",
     "text": [
      "\n",
      "Corresponding statistics-\n",
      "\tKruskal-Wallis test (all groups):\t 17.636 1.48E-04\n",
      "\tWilcoxon rank sum test (group 3 vs 1):\t  3.949 7.84E-05\n"
     ]
    }
   ],
   "source": [
    "fig,ax = plt.subplots(1,1, figsize = (0.5,1))\n",
    "\n",
    "y = 'classification'\n",
    "\n",
    "sns.boxplot(data = gold_tpdata, x = evar, y = y, hue = evar, \n",
    "            palette = entropy_group_palette, dodge = False, saturation = 1,\n",
    "            **boxplot_format, ax = ax)\n",
    "\n",
    "ax.set_xlabel(\"Entropy group\")\n",
    "\n",
    "ax.legend(bbox_to_anchor = (1.05,1))\n",
    "\n",
    "ax.spines['right'].set_visible(False)\n",
    "ax.spines['top'].set_visible(False)\n",
    "\n",
    "plt.savefig(os.path.join(OUTDIR, f'entropy_obs_only.boxplot.{y}.svg'), format = 'svg', dpi = 600, transparent = True)\n",
    "plt.show()\n",
    "\n",
    "\n",
    "print(\"\\nCorresponding statistics-\")\n",
    "\n",
    "stat, pval = st.kruskal(*[gold_tpdata.loc[gold_tpdata[evar] == e, y] for e in evals])\n",
    "print(f\"\\tKruskal-Wallis test (all groups):\\t{stat:7.03f} {pval:8.02E}\")\n",
    "\n",
    "stat, pval = st.ranksums(gold_tpdata.loc[gold_tpdata[evar] == elow,  y],\n",
    "                         gold_tpdata.loc[gold_tpdata[evar] == ehigh, y])\n",
    "print(f\"\\tWilcoxon rank sum test (group {ehigh} vs {elow}):\\t{stat:7.03f} {pval:8.02E}\")\n"
   ]
  },
  {
   "cell_type": "code",
   "execution_count": 15,
   "metadata": {},
   "outputs": [
    {
     "data": {
      "image/png": "[encoded data removed]",
      "text/plain": [
       "<Figure size 36x72 with 1 Axes>"
      ]
     },
     "metadata": {
      "needs_background": "light"
     },
     "output_type": "display_data"
    },
    {
     "name": "stdout",
     "output_type": "stream",
     "text": [
      "\n",
      "Corresponding statistics-\n",
      "\tKruskal-Wallis test (all groups):\t309.830 5.26E-68\n",
      "\tWilcoxon rank sum test (group 3 vs 1):\t 17.126 9.46E-66\n"
     ]
    }
   ],
   "source": [
    "fig,ax = plt.subplots(1,1, figsize = (0.5,1))\n",
    "\n",
    "y = 'pred_logit'\n",
    "\n",
    "sns.boxplot(data = gold_tpdata, x = evar, y = y, hue = evar, \n",
    "            palette = entropy_group_palette, dodge = False, saturation = 1,\n",
    "            **boxplot_format, ax = ax)\n",
    "\n",
    "ax.set_xlabel(\"Entropy group\")\n",
    "ax.set_ylabel(\"PolyaStrength score\")\n",
    "\n",
    "ax.set_ylim(-6,4)\n",
    "ax.yaxis.set_major_locator(MultipleLocator(2))\n",
    "\n",
    "ax.legend(bbox_to_anchor = (1.05,1))\n",
    "\n",
    "ax.spines['right'].set_visible(False)\n",
    "ax.spines['top'].set_visible(False)\n",
    "\n",
    "plt.savefig(os.path.join(OUTDIR, f'entropy_obs_only.boxplot.{y}.svg'), format = 'svg', dpi = 600, transparent = True)\n",
    "plt.show()\n",
    "\n",
    "\n",
    "print(\"\\nCorresponding statistics-\")\n",
    "\n",
    "stat, pval = st.kruskal(*[gold_tpdata.loc[gold_tpdata[evar] == e, y] for e in evals])\n",
    "print(f\"\\tKruskal-Wallis test (all groups):\\t{stat:7.03f} {pval:8.02E}\")\n",
    "\n",
    "stat, pval = st.ranksums(gold_tpdata.loc[gold_tpdata[evar] == elow,  y],\n",
    "                         gold_tpdata.loc[gold_tpdata[evar] == ehigh, y])\n",
    "print(f\"\\tWilcoxon rank sum test (group {ehigh} vs {elow}):\\t{stat:7.03f} {pval:8.02E}\")\n"
   ]
  },
  {
   "cell_type": "markdown",
   "metadata": {},
   "source": [
    "### Enriched motifs by entropy group "
   ]
  },
  {
   "cell_type": "code",
   "execution_count": 16,
   "metadata": {
    "scrolled": false
   },
   "outputs": [
    {
     "name": "stderr",
     "output_type": "stream",
     "text": [
      "/home/esk863/.local/lib/python3.6/site-packages/pandas/core/series.py:853: RuntimeWarning: divide by zero encountered in log2\n",
      "  result = getattr(ufunc, method)(*inputs, **kwargs)\n"
     ]
    },
    {
     "name": "stdout",
     "output_type": "stream",
     "text": [
      "\n",
      "Region: (-250, -120)\n",
      "     testMotif  odds_ratio_log2  pvalue_minlog10    qvalue\n",
      "810     GTCAGA         1.255109         6.053900  0.002335\n",
      "2703    AGAACC         0.924389         5.354771  0.004995\n",
      "     testMotif  odds_ratio_log2  pvalue_minlog10    qvalue\n",
      "3891    CCTAGT        -2.737130         5.943053  0.002335\n",
      "3449    GCACTG        -1.865249         5.097538  0.004995\n",
      "\n",
      "Enriched in high entropy: {'GTCAGA': 0.5306402751183189, 'AGAACC': 0.4693597248816811}\n",
      "Enriched in low entropy: {'GCACTG': 0.4617087715091092, 'CCTAGT': 0.5382912284908908}\n"
     ]
    },
    {
     "data": {
      "image/png": "[encoded data removed]",
      "text/plain": [
       "<Figure size 82.8x82.8 with 1 Axes>"
      ]
     },
     "metadata": {
      "needs_background": "light"
     },
     "output_type": "display_data"
    },
    {
     "name": "stderr",
     "output_type": "stream",
     "text": [
      "/home/esk863/.local/lib/python3.6/site-packages/pandas/core/series.py:853: RuntimeWarning: divide by zero encountered in log2\n",
      "  result = getattr(ufunc, method)(*inputs, **kwargs)\n"
     ]
    },
    {
     "name": "stdout",
     "output_type": "stream",
     "text": [
      "\n",
      "Region: (-120, -90)\n",
      "Empty DataFrame\n",
      "Columns: [testMotif, odds_ratio_log2, pvalue_minlog10, qvalue]\n",
      "Index: []\n",
      "Empty DataFrame\n",
      "Columns: [testMotif, odds_ratio_log2, pvalue_minlog10, qvalue]\n",
      "Index: []\n",
      "\n",
      "Enriched in high entropy: {}\n",
      "Enriched in low entropy: {}\n"
     ]
    },
    {
     "data": {
      "image/png": "[encoded data removed]",
      "text/plain": [
       "<Figure size 82.8x82.8 with 1 Axes>"
      ]
     },
     "metadata": {
      "needs_background": "light"
     },
     "output_type": "display_data"
    },
    {
     "name": "stderr",
     "output_type": "stream",
     "text": [
      "/home/esk863/.local/lib/python3.6/site-packages/pandas/core/series.py:853: RuntimeWarning: divide by zero encountered in log2\n",
      "  result = getattr(ufunc, method)(*inputs, **kwargs)\n"
     ]
    },
    {
     "name": "stdout",
     "output_type": "stream",
     "text": [
      "\n",
      "Region: (-90, -50)\n",
      "     testMotif  odds_ratio_log2  pvalue_minlog10        qvalue\n",
      "1826    TAAATA         0.938516        15.072993  1.717633e-12\n",
      "978     AAATAA         0.792636         8.627426  3.194524e-06\n",
      "1384    TATTTA         0.731287         7.483141  3.340051e-05\n",
      "1927    ATAAAT         0.758899         7.326861  3.829326e-05\n",
      "1015    TTATAA         0.983534         6.379252  2.828464e-04\n",
      "573     TTTATA         0.590999         5.661062  1.267051e-03\n",
      "576     TATACA         0.721253         5.352780  2.159015e-03\n",
      "462     ATGTAT         0.637198         5.307726  2.159015e-03\n",
      "1540    TACATA         0.606037         5.270918  2.159015e-03\n",
      "1811    TTAAAT         0.834049         5.233305  2.159015e-03\n",
      "575     ATATAC         0.667798         5.166181  2.309891e-03\n",
      "    testMotif  odds_ratio_log2  pvalue_minlog10        qvalue\n",
      "153    TTTTTT        -0.929106        20.626526  9.603464e-18\n",
      "\n",
      "Enriched in high entropy: {'ATGTAT': 0.06903762630863253, 'TTTATA': 0.07363346150713276, 'ATATAC': 0.0671965451253051, 'TATACA': 0.06962364048693692, 'AAATAA': 0.11221698181716913, 'TTATAA': 0.08297496472788453, 'TATTTA': 0.09733325177532713, 'TACATA': 0.0685588598106038, 'TTAAAT': 0.06806963290964922, 'TAAATA': 0.1960545094086367, 'ATAAAT': 0.09530052612272223}\n",
      "Enriched in low entropy: {'TTTTTT': 1.0}\n"
     ]
    },
    {
     "data": {
      "image/png": "[encoded data removed]",
      "text/plain": [
       "<Figure size 82.8x82.8 with 1 Axes>"
      ]
     },
     "metadata": {
      "needs_background": "light"
     },
     "output_type": "display_data"
    },
    {
     "name": "stderr",
     "output_type": "stream",
     "text": [
      "/home/esk863/.local/lib/python3.6/site-packages/pandas/core/series.py:853: RuntimeWarning: divide by zero encountered in log2\n",
      "  result = getattr(ufunc, method)(*inputs, **kwargs)\n"
     ]
    },
    {
     "name": "stdout",
     "output_type": "stream",
     "text": [
      "\n",
      "Region: (-50, -30)\n",
      "     testMotif  odds_ratio_log2  pvalue_minlog10        qvalue\n",
      "979     AATAAT         1.357534         9.775585  2.126974e-07\n",
      "2052    TAATAA         1.156661         7.895673  9.678884e-06\n",
      "872     TAATCA         1.921741         5.466454  1.583299e-03\n",
      "     testMotif  odds_ratio_log2  pvalue_minlog10        qvalue\n",
      "465     TATATA        -0.863522        23.283522  1.981286e-20\n",
      "1280    ATATAT        -0.691273        12.928937  2.241310e-10\n",
      "1540    TACATA        -0.864752         9.182273  6.253681e-07\n",
      "200     TATGTA        -0.751573         7.779638  1.053610e-05\n",
      "574     TTATAT        -0.721632         5.633156  1.265363e-03\n",
      "575     ATATAC        -0.741814         5.426663  1.583299e-03\n",
      "323     TTAGAT        -2.358547         5.317212  1.833397e-03\n",
      "\n",
      "Enriched in high entropy: {'TAATCA': 0.2362573262368769, 'AATAAT': 0.4224957461180311, 'TAATAA': 0.3412469276450921}\n",
      "Enriched in low entropy: {'TATGTA': 0.11185450866740745, 'TTAGAT': 0.07645010963603835, 'TATATA': 0.3347671147409825, 'TTATAT': 0.08099269855581848, 'ATATAC': 0.0780237812041792, 'ATATAT': 0.18589038929344595, 'TACATA': 0.13202139790212822}\n"
     ]
    },
    {
     "data": {
      "image/png": "[encoded data removed]",
      "text/plain": [
       "<Figure size 82.8x82.8 with 1 Axes>"
      ]
     },
     "metadata": {
      "needs_background": "light"
     },
     "output_type": "display_data"
    },
    {
     "name": "stderr",
     "output_type": "stream",
     "text": [
      "/home/esk863/.local/lib/python3.6/site-packages/pandas/core/series.py:853: RuntimeWarning: divide by zero encountered in log2\n",
      "  result = getattr(ufunc, method)(*inputs, **kwargs)\n"
     ]
    },
    {
     "name": "stdout",
     "output_type": "stream",
     "text": [
      "\n",
      "Region: (-30, -15)\n",
      "  testMotif  odds_ratio_log2  pvalue_minlog10    qvalue\n",
      "6    GATAAT         2.323194         5.118747  0.006626\n",
      "    testMotif  odds_ratio_log2  pvalue_minlog10        qvalue\n",
      "62     AAAAAA        -1.491146        15.686913  7.674129e-13\n",
      "457    ATAAAA        -1.067832         9.129854  1.383749e-06\n",
      "465    TATATA        -0.982807         7.848724  1.762366e-05\n",
      "791    TAAAAA        -0.861915         5.051734  6.625790e-03\n",
      "\n",
      "Enriched in high entropy: {'GATAAT': 1.0}\n",
      "Enriched in low entropy: {'AAAAAA': 0.41590844805948424, 'ATAAAA': 0.24206060306773397, 'TATATA': 0.2080938960646349, 'TAAAAA': 0.13393705280814683}\n"
     ]
    },
    {
     "data": {
      "image/png": "[encoded data removed]",
      "text/plain": [
       "<Figure size 82.8x82.8 with 1 Axes>"
      ]
     },
     "metadata": {
      "needs_background": "light"
     },
     "output_type": "display_data"
    },
    {
     "name": "stderr",
     "output_type": "stream",
     "text": [
      "/home/esk863/.local/lib/python3.6/site-packages/pandas/core/series.py:853: RuntimeWarning: divide by zero encountered in log2\n",
      "  result = getattr(ufunc, method)(*inputs, **kwargs)\n"
     ]
    },
    {
     "name": "stdout",
     "output_type": "stream",
     "text": [
      "\n",
      "Region: (-15, 15)\n",
      "     testMotif  odds_ratio_log2  pvalue_minlog10        qvalue\n",
      "716     ATAATA         2.311096        24.223777  2.410276e-22\n",
      "2052    TAATAA         2.367797        20.896254  3.415849e-19\n",
      "63      AAAAAT         2.090120        18.286141  9.942211e-17\n",
      "979     AATAAT         1.876922        15.683776  3.342929e-14\n",
      "64      AAAATA         1.968795        13.089866  1.025246e-11\n",
      "...        ...              ...              ...           ...\n",
      "1341    TTTAAG         1.633126         5.227226  1.382202e-04\n",
      "541     TACTAA         2.000735         5.207584  1.437839e-04\n",
      "1211    ACAAAT         1.688873         5.116456  1.743470e-04\n",
      "1928    TAAATG         1.915005         5.058030  1.974640e-04\n",
      "1850    TCATAA         1.609647         5.057503  1.974640e-04\n",
      "\n",
      "[95 rows x 4 columns]\n",
      "     testMotif  odds_ratio_log2  pvalue_minlog10         qvalue\n",
      "153     TTTTTT        -2.047150       174.419340  1.536397e-171\n",
      "175     TTCTTT        -2.280403        59.199275   1.275084e-56\n",
      "176     TCTTTT        -2.283686        53.919723   1.386265e-51\n",
      "174     TTTCTT        -2.176264        53.861937   1.386265e-51\n",
      "173     TTTTCT        -2.078262        52.559433   2.225567e-50\n",
      "...        ...              ...              ...            ...\n",
      "181     TTGTTC        -1.585861         5.343462   1.095633e-04\n",
      "1269    CTTTGT        -1.368733         5.286468   1.241843e-04\n",
      "1584    TGTTCT        -1.543426         5.237579   1.365426e-04\n",
      "1266    TTCATT        -0.832537         5.161744   1.588771e-04\n",
      "450     TGCTTT        -1.198120         5.122100   1.730736e-04\n",
      "\n",
      "[84 rows x 4 columns]\n",
      "\n",
      "Enriched in high entropy: {'GATAAT': 0.007709943763934983, 'ACAAGA': 0.007463265922247781, 'AAAAAT': 0.023852434579879185, 'AAAATA': 0.017074414957353595, 'ATACAA': 0.007081100961596227, 'TTTAAT': 0.00698475844314031, 'CAAATA': 0.007002917628293581, 'AAATAG': 0.007223853894415668, 'AAGAAA': 0.007748622881834599, 'TAATTA': 0.008545232339858317, 'AACTAA': 0.008261447173639897, 'AAGCAA': 0.008560549969498048, 'ATAAAA': 0.013384872124186062, 'AAAATG': 0.015492195655604913, 'AAATGT': 0.009573742654328449, 'AATGTA': 0.00800725334781187, 'ATATAA': 0.00910701646582926, 'TATAAA': 0.011486066110299686, 'ATAAAG': 0.00908816476379983, 'AATCAA': 0.006818390979155805, 'CAATAA': 0.01136058265729676, 'AATAAA': 0.015509054707917927, 'TACTAA': 0.006792770255240142, 'ATACAT': 0.011251765289057565, 'TTAACA': 0.007764620303677246, 'ATAATA': 0.03159748377921662, 'AGAAAA': 0.00777953479904326, 'TTAAAA': 0.00942231718641053, 'TAAAAA': 0.01650091348707991, 'AAAAAG': 0.0076242884263562575, 'AATTAA': 0.01703820820809747, 'ATTAAT': 0.009102496810528249, 'TAATCA': 0.011190096521799657, 'AATCAC': 0.008247759891662649, 'TAACAA': 0.01136058265729676, 'AACAAT': 0.009803036968622007, 'AAATGA': 0.0073247679576002285, 'ACAAAA': 0.00951220711749484, 'CAAAAT': 0.012403316305993615, 'AAATAA': 0.011809598531490526, 'AATAAT': 0.020457910945017213, 'TAATAT': 0.008684329130455398, 'AATATT': 0.01411277802328511, 'TTATAA': 0.010353451557683581, 'ATGAAA': 0.009341531005113732, 'ACAGAA': 0.009390169712201897, 'AAAATT': 0.00960680559851412, 'GAACAA': 0.008535171727510546, 'AACAAA': 0.011190096521799657, 'AAACAA': 0.0075901043789025815, 'AAAGCA': 0.009614903207804896, 'CAAGAA': 0.00781574327999829, 'AAATAT': 0.014062949467442845, 'ATAACA': 0.011396273155327888, 'ACAAAT': 0.0066739028191855655, 'ATAGAA': 0.00703818208239337, 'AAAAAC': 0.008311231424583244, 'TTAATA': 0.011442861380715952, 'AATAGT': 0.01015378074096403, 'TAAGAA': 0.008560549969498048, 'AAATTA': 0.011713873325020743, 'GAAAAC': 0.0069719309038745, 'TTTAAG': 0.006818390979155805, 'AATATA': 0.013805598671326717, 'TACAAT': 0.007196277173727717, 'TTAAAT': 0.010554161852119525, 'TAAATT': 0.011193335388568235, 'TAAATA': 0.011909262320570567, 'AATAAC': 0.013654118291147191, 'TCATAA': 0.006597004075976848, 'TCAAAA': 0.015515016758271574, 'AAATTC': 0.00986500107924713, 'ATAAAT': 0.01013041018365872, 'TAAATG': 0.006597692495334633, 'ATTTAA': 0.008901462262774863, 'ATTAAA': 0.010785790425006464, 'CAAAAA': 0.016008787384979427, 'GTAAAT': 0.00703818208239337, 'GAATAT': 0.011375651196472774, 'TAATAA': 0.02725706402439211, 'AACAAC': 0.00889942188400295, 'AAAAGC': 0.011375651196472774, 'CATAAT': 0.006831896089500658, 'CAGAAT': 0.007777838264695686, 'AGAAAT': 0.006834052387774254, 'ATAACT': 0.007611946373034309, 'AGAACA': 0.009073273372791728, 'TAATAC': 0.010843192626744581, 'CAACAA': 0.009073273372791728, 'ACAACA': 0.009732030183160306, 'AAACTA': 0.011125920425852927, 'GCAAAA': 0.008765002701374008, 'ACAATA': 0.014458743567443616, 'AAAACG': 0.0073778505770029385, 'ACCAAA': 0.008136523496350656}\n",
      "Enriched in low entropy: {'CGTTTT': 0.005698311085666362, 'GTTTTT': 0.016340144324784756, 'TTTTTT': 0.1356776072849774, 'TTTTTA': 0.01125498955222779, 'TATTTT': 0.011130289490137033, 'ATTTTC': 0.005310890030021716, 'TTTTCT': 0.04088501937169697, 'TTTCTT': 0.04189821358943756, 'TTCTTT': 0.046050030587941666, 'TCTTTT': 0.041943164368841816, 'CTTTTT': 0.03664346189634899, 'TTTTTG': 0.017583564192549726, 'TTTTGT': 0.01350605208875206, 'TTTGTT': 0.022519285369881112, 'TTGTTC': 0.00415658104697733, 'CTATCT': 0.005847403933776713, 'ACTTTT': 0.0067284414778261085, 'TCCCTT': 0.005404217430451997, 'TTCTTA': 0.004206091335045761, 'TTGGTT': 0.0046120027821567955, 'TGCTTT': 0.00398438777581838, 'CTTTTG': 0.0057346809024273705, 'TTTGAT': 0.0066475957101402566, 'TCTTCT': 0.017860096497057408, 'CTTCTT': 0.014771161079883069, 'TTGTTT': 0.013044452839460917, 'TGTTTT': 0.019076866036993788, 'TTTTAC': 0.004375385044298586, 'CTTTTC': 0.0175290261526733, 'TCTTTC': 0.011921873234300428, 'CTTTCT': 0.00966473784905316, 'TTTCTC': 0.007373226815696374, 'TTCTCT': 0.008773609277646836, 'CATTCT': 0.004639343419798966, 'TCTCTT': 0.008312981751222828, 'TTTTAT': 0.014574971098591486, 'CCTTTT': 0.011322177226335942, 'GTTTTC': 0.005765005509067444, 'TTTTCC': 0.014945957649293604, 'TTTCCT': 0.012846142536382972, 'ATTCTT': 0.004452196946023229, 'CTTTCC': 0.006763086385919928, 'TTCCTC': 0.004251523775276732, 'CCTTCT': 0.0058499297421677615, 'TTCTTC': 0.015587781660618263, 'TTATTT': 0.009630522804634091, 'ATTTTT': 0.01485501271352084, 'TTTTTC': 0.03971616814918064, 'TTCCTT': 0.011381687874335378, 'TCCTTT': 0.006949400956599222, 'TTTATT': 0.010846471426294304, 'TTTTGG': 0.008467733687229516, 'TTTGGT': 0.007559740634217057, 'CTCTTT': 0.007150842870821992, 'TCTTTA': 0.004300921189443414, 'TTTTCA': 0.009190216610132166, 'TTTCAT': 0.005697698317403054, 'TTCATT': 0.004015226130348028, 'TCATTC': 0.006569203420390165, 'TCTTTG': 0.006932503484271576, 'CTTTGT': 0.004112246261392774, 'ATTGCT': 0.004315965394190904, 'TTCCCT': 0.006774909523213883, 'TGTCTT': 0.005000068752392485, 'GTCTTT': 0.006379642034587164, 'TGTTCT': 0.004074216901950633, 'TCGTTC': 0.005572207451349314, 'TTCCAT': 0.004701214145837631, 'CACTTT': 0.004860041548705617, 'TTTCAC': 0.004249029679148045, 'TTGCTT': 0.004999879424708696, 'TTCACT': 0.004332838895424314, 'TCACTT': 0.004913920815953884, 'GTTCTT': 0.005672626530797422, 'CTTATT': 0.00523227789326545, 'TGATTT': 0.004374909376881488, 'TTTTGC': 0.004438444328005889, 'TCCTTC': 0.004738985610185835, 'TCATCT': 0.004424594424553613, 'TTCTCC': 0.005089969235146297, 'ATCTTT': 0.004664584946189792, 'TTCATC': 0.005050429604116445, 'CTTCTC': 0.006008814758874733, 'CTCTTC': 0.005290874038657759}\n"
     ]
    },
    {
     "data": {
      "image/png": "[encoded data removed]",
      "text/plain": [
       "<Figure size 82.8x82.8 with 1 Axes>"
      ]
     },
     "metadata": {
      "needs_background": "light"
     },
     "output_type": "display_data"
    },
    {
     "name": "stderr",
     "output_type": "stream",
     "text": [
      "/home/esk863/.local/lib/python3.6/site-packages/pandas/core/series.py:853: RuntimeWarning: divide by zero encountered in log2\n",
      "  result = getattr(ufunc, method)(*inputs, **kwargs)\n"
     ]
    },
    {
     "name": "stdout",
     "output_type": "stream",
     "text": [
      "\n",
      "Region: (-15, 15)\n",
      "     testMotif  odds_ratio_log2  pvalue_minlog10        qvalue\n",
      "716     ATAATA         2.311096        24.223777  2.410276e-22\n",
      "2052    TAATAA         2.367797        20.896254  3.415849e-19\n",
      "63      AAAAAT         2.090120        18.286141  9.942211e-17\n",
      "979     AATAAT         1.876922        15.683776  3.342929e-14\n",
      "64      AAAATA         1.968795        13.089866  1.025246e-11\n",
      "...        ...              ...              ...           ...\n",
      "1341    TTTAAG         1.633126         5.227226  1.382202e-04\n",
      "541     TACTAA         2.000735         5.207584  1.437839e-04\n",
      "1211    ACAAAT         1.688873         5.116456  1.743470e-04\n",
      "1928    TAAATG         1.915005         5.058030  1.974640e-04\n",
      "1850    TCATAA         1.609647         5.057503  1.974640e-04\n",
      "\n",
      "[95 rows x 4 columns]\n",
      "     testMotif  odds_ratio_log2  pvalue_minlog10         qvalue\n",
      "153     TTTTTT        -2.047150       174.419340  1.536397e-171\n",
      "175     TTCTTT        -2.280403        59.199275   1.275084e-56\n",
      "176     TCTTTT        -2.283686        53.919723   1.386265e-51\n",
      "174     TTTCTT        -2.176264        53.861937   1.386265e-51\n",
      "173     TTTTCT        -2.078262        52.559433   2.225567e-50\n",
      "...        ...              ...              ...            ...\n",
      "181     TTGTTC        -1.585861         5.343462   1.095633e-04\n",
      "1269    CTTTGT        -1.368733         5.286468   1.241843e-04\n",
      "1584    TGTTCT        -1.543426         5.237579   1.365426e-04\n",
      "1266    TTCATT        -0.832537         5.161744   1.588771e-04\n",
      "450     TGCTTT        -1.198120         5.122100   1.730736e-04\n",
      "\n",
      "[84 rows x 4 columns]\n",
      "\n",
      "Enriched in high entropy: {'GATAAT': 0.007709943763934983, 'ACAAGA': 0.007463265922247781, 'AAAAAT': 0.023852434579879185, 'AAAATA': 0.017074414957353595, 'ATACAA': 0.007081100961596227, 'TTTAAT': 0.00698475844314031, 'CAAATA': 0.007002917628293581, 'AAATAG': 0.007223853894415668, 'AAGAAA': 0.007748622881834599, 'TAATTA': 0.008545232339858317, 'AACTAA': 0.008261447173639897, 'AAGCAA': 0.008560549969498048, 'ATAAAA': 0.013384872124186062, 'AAAATG': 0.015492195655604913, 'AAATGT': 0.009573742654328449, 'AATGTA': 0.00800725334781187, 'ATATAA': 0.00910701646582926, 'TATAAA': 0.011486066110299686, 'ATAAAG': 0.00908816476379983, 'AATCAA': 0.006818390979155805, 'CAATAA': 0.01136058265729676, 'AATAAA': 0.015509054707917927, 'TACTAA': 0.006792770255240142, 'ATACAT': 0.011251765289057565, 'TTAACA': 0.007764620303677246, 'ATAATA': 0.03159748377921662, 'AGAAAA': 0.00777953479904326, 'TTAAAA': 0.00942231718641053, 'TAAAAA': 0.01650091348707991, 'AAAAAG': 0.0076242884263562575, 'AATTAA': 0.01703820820809747, 'ATTAAT': 0.009102496810528249, 'TAATCA': 0.011190096521799657, 'AATCAC': 0.008247759891662649, 'TAACAA': 0.01136058265729676, 'AACAAT': 0.009803036968622007, 'AAATGA': 0.0073247679576002285, 'ACAAAA': 0.00951220711749484, 'CAAAAT': 0.012403316305993615, 'AAATAA': 0.011809598531490526, 'AATAAT': 0.020457910945017213, 'TAATAT': 0.008684329130455398, 'AATATT': 0.01411277802328511, 'TTATAA': 0.010353451557683581, 'ATGAAA': 0.009341531005113732, 'ACAGAA': 0.009390169712201897, 'AAAATT': 0.00960680559851412, 'GAACAA': 0.008535171727510546, 'AACAAA': 0.011190096521799657, 'AAACAA': 0.0075901043789025815, 'AAAGCA': 0.009614903207804896, 'CAAGAA': 0.00781574327999829, 'AAATAT': 0.014062949467442845, 'ATAACA': 0.011396273155327888, 'ACAAAT': 0.0066739028191855655, 'ATAGAA': 0.00703818208239337, 'AAAAAC': 0.008311231424583244, 'TTAATA': 0.011442861380715952, 'AATAGT': 0.01015378074096403, 'TAAGAA': 0.008560549969498048, 'AAATTA': 0.011713873325020743, 'GAAAAC': 0.0069719309038745, 'TTTAAG': 0.006818390979155805, 'AATATA': 0.013805598671326717, 'TACAAT': 0.007196277173727717, 'TTAAAT': 0.010554161852119525, 'TAAATT': 0.011193335388568235, 'TAAATA': 0.011909262320570567, 'AATAAC': 0.013654118291147191, 'TCATAA': 0.006597004075976848, 'TCAAAA': 0.015515016758271574, 'AAATTC': 0.00986500107924713, 'ATAAAT': 0.01013041018365872, 'TAAATG': 0.006597692495334633, 'ATTTAA': 0.008901462262774863, 'ATTAAA': 0.010785790425006464, 'CAAAAA': 0.016008787384979427, 'GTAAAT': 0.00703818208239337, 'GAATAT': 0.011375651196472774, 'TAATAA': 0.02725706402439211, 'AACAAC': 0.00889942188400295, 'AAAAGC': 0.011375651196472774, 'CATAAT': 0.006831896089500658, 'CAGAAT': 0.007777838264695686, 'AGAAAT': 0.006834052387774254, 'ATAACT': 0.007611946373034309, 'AGAACA': 0.009073273372791728, 'TAATAC': 0.010843192626744581, 'CAACAA': 0.009073273372791728, 'ACAACA': 0.009732030183160306, 'AAACTA': 0.011125920425852927, 'GCAAAA': 0.008765002701374008, 'ACAATA': 0.014458743567443616, 'AAAACG': 0.0073778505770029385, 'ACCAAA': 0.008136523496350656}\n",
      "Enriched in low entropy: {'CGTTTT': 0.005698311085666362, 'GTTTTT': 0.016340144324784756, 'TTTTTT': 0.1356776072849774, 'TTTTTA': 0.01125498955222779, 'TATTTT': 0.011130289490137033, 'ATTTTC': 0.005310890030021716, 'TTTTCT': 0.04088501937169697, 'TTTCTT': 0.04189821358943756, 'TTCTTT': 0.046050030587941666, 'TCTTTT': 0.041943164368841816, 'CTTTTT': 0.03664346189634899, 'TTTTTG': 0.017583564192549726, 'TTTTGT': 0.01350605208875206, 'TTTGTT': 0.022519285369881112, 'TTGTTC': 0.00415658104697733, 'CTATCT': 0.005847403933776713, 'ACTTTT': 0.0067284414778261085, 'TCCCTT': 0.005404217430451997, 'TTCTTA': 0.004206091335045761, 'TTGGTT': 0.0046120027821567955, 'TGCTTT': 0.00398438777581838, 'CTTTTG': 0.0057346809024273705, 'TTTGAT': 0.0066475957101402566, 'TCTTCT': 0.017860096497057408, 'CTTCTT': 0.014771161079883069, 'TTGTTT': 0.013044452839460917, 'TGTTTT': 0.019076866036993788, 'TTTTAC': 0.004375385044298586, 'CTTTTC': 0.0175290261526733, 'TCTTTC': 0.011921873234300428, 'CTTTCT': 0.00966473784905316, 'TTTCTC': 0.007373226815696374, 'TTCTCT': 0.008773609277646836, 'CATTCT': 0.004639343419798966, 'TCTCTT': 0.008312981751222828, 'TTTTAT': 0.014574971098591486, 'CCTTTT': 0.011322177226335942, 'GTTTTC': 0.005765005509067444, 'TTTTCC': 0.014945957649293604, 'TTTCCT': 0.012846142536382972, 'ATTCTT': 0.004452196946023229, 'CTTTCC': 0.006763086385919928, 'TTCCTC': 0.004251523775276732, 'CCTTCT': 0.0058499297421677615, 'TTCTTC': 0.015587781660618263, 'TTATTT': 0.009630522804634091, 'ATTTTT': 0.01485501271352084, 'TTTTTC': 0.03971616814918064, 'TTCCTT': 0.011381687874335378, 'TCCTTT': 0.006949400956599222, 'TTTATT': 0.010846471426294304, 'TTTTGG': 0.008467733687229516, 'TTTGGT': 0.007559740634217057, 'CTCTTT': 0.007150842870821992, 'TCTTTA': 0.004300921189443414, 'TTTTCA': 0.009190216610132166, 'TTTCAT': 0.005697698317403054, 'TTCATT': 0.004015226130348028, 'TCATTC': 0.006569203420390165, 'TCTTTG': 0.006932503484271576, 'CTTTGT': 0.004112246261392774, 'ATTGCT': 0.004315965394190904, 'TTCCCT': 0.006774909523213883, 'TGTCTT': 0.005000068752392485, 'GTCTTT': 0.006379642034587164, 'TGTTCT': 0.004074216901950633, 'TCGTTC': 0.005572207451349314, 'TTCCAT': 0.004701214145837631, 'CACTTT': 0.004860041548705617, 'TTTCAC': 0.004249029679148045, 'TTGCTT': 0.004999879424708696, 'TTCACT': 0.004332838895424314, 'TCACTT': 0.004913920815953884, 'GTTCTT': 0.005672626530797422, 'CTTATT': 0.00523227789326545, 'TGATTT': 0.004374909376881488, 'TTTTGC': 0.004438444328005889, 'TCCTTC': 0.004738985610185835, 'TCATCT': 0.004424594424553613, 'TTCTCC': 0.005089969235146297, 'ATCTTT': 0.004664584946189792, 'TTCATC': 0.005050429604116445, 'CTTCTC': 0.006008814758874733, 'CTCTTC': 0.005290874038657759}\n"
     ]
    },
    {
     "data": {
      "image/png": "[encoded data removed]",
      "text/plain": [
       "<Figure size 82.8x82.8 with 1 Axes>"
      ]
     },
     "metadata": {
      "needs_background": "light"
     },
     "output_type": "display_data"
    },
    {
     "name": "stderr",
     "output_type": "stream",
     "text": [
      "/home/esk863/.local/lib/python3.6/site-packages/pandas/core/series.py:853: RuntimeWarning: divide by zero encountered in log2\n",
      "  result = getattr(ufunc, method)(*inputs, **kwargs)\n"
     ]
    },
    {
     "name": "stdout",
     "output_type": "stream",
     "text": [
      "\n",
      "Region: (15, 30)\n",
      "     testMotif  odds_ratio_log2  pvalue_minlog10    qvalue\n",
      "2382    AAACCA         5.001227         6.755570  0.000699\n",
      "255     AAGAAA         1.429362         5.465776  0.006814\n",
      "Empty DataFrame\n",
      "Columns: [testMotif, odds_ratio_log2, pvalue_minlog10, qvalue]\n",
      "Index: []\n",
      "\n",
      "Enriched in high entropy: {'AAGAAA': 0.4472319484284275, 'AAACCA': 0.5527680515715726}\n",
      "Enriched in low entropy: {}\n"
     ]
    },
    {
     "data": {
      "image/png": "[encoded data removed]",
      "text/plain": [
       "<Figure size 82.8x82.8 with 1 Axes>"
      ]
     },
     "metadata": {
      "needs_background": "light"
     },
     "output_type": "display_data"
    },
    {
     "name": "stderr",
     "output_type": "stream",
     "text": [
      "/home/esk863/.local/lib/python3.6/site-packages/pandas/core/series.py:853: RuntimeWarning: divide by zero encountered in log2\n",
      "  result = getattr(ufunc, method)(*inputs, **kwargs)\n"
     ]
    },
    {
     "name": "stdout",
     "output_type": "stream",
     "text": [
      "\n",
      "Region: (30, 50)\n",
      "   testMotif  odds_ratio_log2  pvalue_minlog10    qvalue\n",
      "62    AAAAAA         0.693219         8.039007  0.000037\n",
      "Empty DataFrame\n",
      "Columns: [testMotif, odds_ratio_log2, pvalue_minlog10, qvalue]\n",
      "Index: []\n",
      "\n",
      "Enriched in high entropy: {'AAAAAA': 1.0}\n",
      "Enriched in low entropy: {}\n"
     ]
    },
    {
     "data": {
      "image/png": "[encoded data removed]",
      "text/plain": [
       "<Figure size 82.8x82.8 with 1 Axes>"
      ]
     },
     "metadata": {
      "needs_background": "light"
     },
     "output_type": "display_data"
    },
    {
     "name": "stderr",
     "output_type": "stream",
     "text": [
      "/home/esk863/.local/lib/python3.6/site-packages/pandas/core/series.py:853: RuntimeWarning: divide by zero encountered in log2\n",
      "  result = getattr(ufunc, method)(*inputs, **kwargs)\n"
     ]
    },
    {
     "name": "stdout",
     "output_type": "stream",
     "text": [
      "\n",
      "Region: (50, 90)\n",
      "Empty DataFrame\n",
      "Columns: [testMotif, odds_ratio_log2, pvalue_minlog10, qvalue]\n",
      "Index: []\n",
      "    testMotif  odds_ratio_log2  pvalue_minlog10    qvalue\n",
      "708    TAGCCT        -3.322345         5.221909  0.024525\n",
      "\n",
      "Enriched in high entropy: {}\n",
      "Enriched in low entropy: {'TAGCCT': 1.0}\n"
     ]
    },
    {
     "data": {
      "image/png": "[encoded data removed]",
      "text/plain": [
       "<Figure size 82.8x82.8 with 1 Axes>"
      ]
     },
     "metadata": {
      "needs_background": "light"
     },
     "output_type": "display_data"
    },
    {
     "name": "stderr",
     "output_type": "stream",
     "text": [
      "/home/esk863/.local/lib/python3.6/site-packages/pandas/core/series.py:853: RuntimeWarning: divide by zero encountered in log2\n",
      "  result = getattr(ufunc, method)(*inputs, **kwargs)\n"
     ]
    },
    {
     "name": "stdout",
     "output_type": "stream",
     "text": [
      "\n",
      "Region: (90, 120)\n",
      "Empty DataFrame\n",
      "Columns: [testMotif, odds_ratio_log2, pvalue_minlog10, qvalue]\n",
      "Index: []\n",
      "Empty DataFrame\n",
      "Columns: [testMotif, odds_ratio_log2, pvalue_minlog10, qvalue]\n",
      "Index: []\n",
      "\n",
      "Enriched in high entropy: {}\n",
      "Enriched in low entropy: {}\n"
     ]
    },
    {
     "data": {
      "image/png": "[encoded data removed]",
      "text/plain": [
       "<Figure size 82.8x82.8 with 1 Axes>"
      ]
     },
     "metadata": {
      "needs_background": "light"
     },
     "output_type": "display_data"
    },
    {
     "name": "stderr",
     "output_type": "stream",
     "text": [
      "/home/esk863/.local/lib/python3.6/site-packages/pandas/core/series.py:853: RuntimeWarning: divide by zero encountered in log2\n",
      "  result = getattr(ufunc, method)(*inputs, **kwargs)\n"
     ]
    },
    {
     "name": "stdout",
     "output_type": "stream",
     "text": [
      "\n",
      "Region: (120, 250)\n",
      "     testMotif  odds_ratio_log2  pvalue_minlog10    qvalue\n",
      "466     ATATAA         0.740463         8.294110  0.000021\n",
      "1480    AATTGT         0.798092         5.286947  0.004526\n",
      "     testMotif  odds_ratio_log2  pvalue_minlog10    qvalue\n",
      "1269    CTTTGT        -0.907281         5.754372  0.002988\n",
      "1342    TTGTGT        -1.132764         5.659892  0.002988\n",
      "1548    TACGTA        -1.238428         5.257640  0.004526\n",
      "\n",
      "Enriched in high entropy: {'ATATAA': 0.6107116450863973, 'AATTGT': 0.3892883549136028}\n",
      "Enriched in low entropy: {'CTTTGT': 0.3451538591794925, 'TTGTGT': 0.3394868126844303, 'TACGTA': 0.3153593281360772}\n"
     ]
    },
    {
     "data": {
      "image/png": "[encoded data removed]",
      "text/plain": [
       "<Figure size 82.8x82.8 with 1 Axes>"
      ]
     },
     "metadata": {
      "needs_background": "light"
     },
     "output_type": "display_data"
    }
   ],
   "source": [
    "region_results = []\n",
    "regions = [(-250,-120), (-120,-90), (-90,-50), (-50,-30), (-30,-15), (-15,15), (-15,15), (15,30), (30,50), (50,90), (90,120), (120,250)]\n",
    "labels = ['full','full','full','full','full','full','zoom','full','full','full','full','full']\n",
    "ylims = [25,25,25,25,25,100,200,25,25,25,25,25]\n",
    "yints = [5,5,5,5,5,20,20,5,5,5,5,5]\n",
    "group = 'entropy'\n",
    "kmer = 6\n",
    "\n",
    "for region,label,ylim_up,yint_up in zip(regions,labels,ylims,yints):\n",
    "\n",
    "    dt = pd.read_csv(os.path.join(CLVDIR, f'cleavage_motifs.{kmer}mers.enrichment_{region[0]}_{region[1]}.txt'), sep = \"\\t\")\n",
    "    dt = dt.replace([np.inf, -np.inf], np.nan).dropna()\n",
    "    \n",
    "    dt['odds_ratio_log2'] = np.log2(dt['odds_ratio'])\n",
    "    dt['pvalue_minlog10'] = -1 * np.log10(dt['pvalue'])\n",
    "    \n",
    "    dt['qvalue'] = multipletests(dt['pvalue'], alpha = 0.05, method = 'fdr_bh')[1]\n",
    "    dt['qvalue_minlog10']  = -1 * np.log10(dt['qvalue'])\n",
    "    \n",
    "    region_results.append(dt)\n",
    "    \n",
    "    \n",
    "    ## make plot\n",
    "    \n",
    "    fig,ax = plt.subplots(1,1, figsize = (1.15,1.15))\n",
    "    \n",
    "    sns.scatterplot(data = dt,  x = 'odds_ratio_log2', y = 'pvalue_minlog10', \n",
    "                    s = 10, color = 'gray', alpha = 0.25, rasterized = True,\n",
    "                    ax = ax)\n",
    "    \n",
    "    ax.set_xlim((-7,7))\n",
    "    ax.xaxis.set_major_locator(MultipleLocator(1))\n",
    "\n",
    "    ax.set_ylim((0,ylim_up))\n",
    "    ax.yaxis.set_major_locator(MultipleLocator(yint_up))\n",
    "    \n",
    "    ax.set_xlabel(\"Log2(Odds Ratio)\")\n",
    "    ax.set_ylabel(\"-Log10(P-value)\")\n",
    "\n",
    "    ## annotate plots\n",
    "    \n",
    "    print(\"\\nRegion:\", region)\n",
    "    \n",
    "    condSIG = (dt['qvalue'] < 0.05) & (dt['pvalue_minlog10'] > 5)\n",
    "    \n",
    "    pos_sig = dt.loc[condSIG & (dt['odds_ratio_log2'] > 0)]\n",
    "    neg_sig = dt.loc[condSIG & (dt['odds_ratio_log2'] < 0)]\n",
    "    \n",
    "    print(pos_sig[['testMotif','odds_ratio_log2', 'pvalue_minlog10', 'qvalue']].sort_values('pvalue_minlog10', ascending = False))\n",
    "    print(neg_sig[['testMotif','odds_ratio_log2', 'pvalue_minlog10', 'qvalue']].sort_values('pvalue_minlog10', ascending = False))\n",
    "    \n",
    "    print(\"\\nEnriched in high entropy:\", dict(zip(pos_sig['testMotif'], pos_sig['pvalue_minlog10'] / pos_sig['pvalue_minlog10'].sum())))\n",
    "    print(\"Enriched in low entropy:\", dict(zip(neg_sig['testMotif'], neg_sig['pvalue_minlog10'] / neg_sig['pvalue_minlog10'].sum())))\n",
    "    \n",
    "    for i,dtrow in dt.loc[condSIG].iterrows():\n",
    "        \n",
    "        if (dtrow['odds_ratio_log2'] > 0):\n",
    "            ax.scatter(x = dtrow['odds_ratio_log2'], y = dtrow['pvalue_minlog10'], s = 10, color = entropy_group_palette[3], edgecolor = 'black', linewidths = 0.25)\n",
    "        else:\n",
    "            ax.scatter(x = dtrow['odds_ratio_log2'], y = dtrow['pvalue_minlog10'], s = 10, color = entropy_group_palette[1], edgecolor = 'black', linewidths = 0.25)\n",
    "\n",
    "    plt.savefig(os.path.join(OUTDIR, f'motif_enrichment.region_scatter_{region}.{label}.svg'), format = 'svg', dpi = 600, transparent = True)\n",
    "    plt.show()\n"
   ]
  },
  {
   "cell_type": "markdown",
   "metadata": {},
   "source": [
    "## "
   ]
  },
  {
   "cell_type": "markdown",
   "metadata": {},
   "source": [
    "### Tabulating cis-regulatory element occurrences by region"
   ]
  },
  {
   "cell_type": "markdown",
   "metadata": {},
   "source": [
    "#### Presence of multiple motifs in targeted regions"
   ]
  },
  {
   "cell_type": "code",
   "execution_count": 17,
   "metadata": {
    "scrolled": false
   },
   "outputs": [
    {
     "name": "stdout",
     "output_type": "stream",
     "text": [
      "\n",
      "UA_d2_-90_-50\n"
     ]
    },
    {
     "data": {
      "image/png": "[encoded data removed]",
      "text/plain": [
       "<Figure size 36x72 with 1 Axes>"
      ]
     },
     "metadata": {
      "needs_background": "light"
     },
     "output_type": "display_data"
    },
    {
     "name": "stdout",
     "output_type": "stream",
     "text": [
      "\n",
      "Chi2 test for independence across entropy groups:\n",
      "\tcount_UA_d2_-90_-50\t3.14E-35\n",
      "\n",
      "Summary data:\n",
      "value                                 0          1          2          3\n",
      "label                                                                   \n",
      "count_UA_d2_-90_-50_entropy-1  6.403509  18.991228  27.236842  47.368421\n",
      "count_UA_d2_-90_-50_entropy-2  4.839181  14.385965  24.064327  56.710526\n",
      "count_UA_d2_-90_-50_entropy-3  3.377193   9.868421  20.877193  65.877193\n",
      "\n",
      "UA_d2_-50_-30\n"
     ]
    },
    {
     "data": {
      "image/png": "[encoded data removed]",
      "text/plain": [
       "<Figure size 36x72 with 1 Axes>"
      ]
     },
     "metadata": {
      "needs_background": "light"
     },
     "output_type": "display_data"
    },
    {
     "name": "stdout",
     "output_type": "stream",
     "text": [
      "\n",
      "Chi2 test for independence across entropy groups:\n",
      "\tcount_UA_d2_-50_-30\t4.18E-03\n",
      "\n",
      "Summary data:\n",
      "value                                 0          1          2\n",
      "label                                                        \n",
      "count_UA_d2_-50_-30_entropy-1  8.596491  23.859649  67.543860\n",
      "count_UA_d2_-50_-30_entropy-2  7.923977  25.307018  66.769006\n",
      "count_UA_d2_-50_-30_entropy-3  9.956140  26.578947  63.464912\n",
      "\n",
      "A_d2_-45_-15\n"
     ]
    },
    {
     "data": {
      "image/png": "[encoded data removed]",
      "text/plain": [
       "<Figure size 36x72 with 1 Axes>"
      ]
     },
     "metadata": {
      "needs_background": "light"
     },
     "output_type": "display_data"
    },
    {
     "name": "stdout",
     "output_type": "stream",
     "text": [
      "\n",
      "Chi2 test for independence across entropy groups:\n",
      "\tcount_A_d2_-45_-15\t2.76E-11\n",
      "\n",
      "Summary data:\n",
      "value                                 0          1          2\n",
      "label                                                        \n",
      "count_A_d2_-45_-15_entropy-1  29.649123  40.087719  30.263158\n",
      "count_A_d2_-45_-15_entropy-2  27.660819  40.307018  32.032164\n",
      "count_A_d2_-45_-15_entropy-3  25.219298  35.307018  39.473684\n",
      "\n",
      "U_d2_-15_0\n"
     ]
    },
    {
     "data": {
      "image/png": "[encoded data removed]",
      "text/plain": [
       "<Figure size 36x72 with 1 Axes>"
      ]
     },
     "metadata": {
      "needs_background": "light"
     },
     "output_type": "display_data"
    },
    {
     "name": "stdout",
     "output_type": "stream",
     "text": [
      "\n",
      "Chi2 test for independence across entropy groups:\n",
      "\tcount_U_d2_-15_0\t1.87E-165\n",
      "\n",
      "Summary data:\n",
      "value                               0          1          2\n",
      "label                                                      \n",
      "count_U_d2_-15_0_entropy-1  19.780702  39.692982  40.526316\n",
      "count_U_d2_-15_0_entropy-2  36.520468  41.812865  21.666667\n",
      "count_U_d2_-15_0_entropy-3  51.052632  38.245614  10.701754\n",
      "\n",
      "U_d2_0_15\n"
     ]
    },
    {
     "data": {
      "image/png": "[encoded data removed]",
      "text/plain": [
       "<Figure size 36x72 with 1 Axes>"
      ]
     },
     "metadata": {
      "needs_background": "light"
     },
     "output_type": "display_data"
    },
    {
     "name": "stdout",
     "output_type": "stream",
     "text": [
      "\n",
      "Chi2 test for independence across entropy groups:\n",
      "\tcount_U_d2_0_15\t3.20E-71\n",
      "\n",
      "Summary data:\n",
      "value                              0          1          2\n",
      "label                                                     \n",
      "count_U_d2_0_15_entropy-1  31.315789  38.333333  30.350877\n",
      "count_U_d2_0_15_entropy-2  40.102339  39.985380  19.912281\n",
      "count_U_d2_0_15_entropy-3  51.885965  37.061404  11.052632\n"
     ]
    }
   ],
   "source": [
    "motif_vars = ['UA_d2_-90_-50','UA_d2_-50_-30','A_d2_-45_-15','U_d2_-15_0','U_d2_0_15']\n",
    "max_vals   = [3,2,2,2,2]\n",
    "\n",
    "for v,max_val in zip(motif_vars, max_vals):\n",
    "    print(f\"\\n{v}\")\n",
    "\n",
    "    vardata = gold_tpdata[[evar,f'count_{v}']].melt(id_vars = evar)\n",
    "\n",
    "    vardata['value'] = vardata['value']\n",
    "    vardata.loc[vardata['value'] > max_val, 'value'] = max_val\n",
    "\n",
    "    vardata = vardata.groupby([evar,'variable','value']).size().reset_index().rename(columns = {0 : 'count'})\n",
    "\n",
    "    vardata['varindex'] = vardata['variable'].apply(lambda x : motif_vars.index(x.replace(\"count_\",\"\")))\n",
    "    vardata['label'] = vardata.apply(lambda row : str(row.variable) + \"_entropy-\" + str(row[evar]), axis = 1)\n",
    "    vardata['prop'] = vardata['count'] / vardata.groupby(['variable',evar])['count'].transform('sum') * 100\n",
    "\n",
    "    varcounts = (vardata\n",
    "                 .pivot(index = 'label', columns = 'value', values = 'prop').fillna(0)\n",
    "                 .loc[vardata.sort_values(['varindex',evar])['label'].unique()]\n",
    "    )\n",
    "\n",
    "\n",
    "\n",
    "    fig,ax = plt.subplots(1,1, figsize = (0.5,1))\n",
    "\n",
    "    labels = varcounts.index.values\n",
    "    bottoms = np.zeros((len(varcounts)))\n",
    "\n",
    "    for c in varcounts.columns[::-1]:\n",
    "        if (c > 0):\n",
    "            heights = varcounts[[c]].to_numpy().flatten()\n",
    "            ax.bar(labels, heights, bottom = bottoms, label = c, color = motif_count_palette[c], edgecolor = 'black', linewidth = 0.25)\n",
    "            bottoms = bottoms + heights\n",
    "\n",
    "    ax.set_xticks(np.arange(len(labels)))\n",
    "    ax.set_xticklabels(labels, rotation = 45, ha = 'right', va = 'top')\n",
    "\n",
    "    ax.set_ylim(0,100)\n",
    "    ax.yaxis.set_major_locator(MultipleLocator(25))\n",
    "\n",
    "    ax.spines['right'].set_visible(False)\n",
    "    ax.spines['top'].set_visible(False)\n",
    "\n",
    "    ax.legend(bbox_to_anchor = (1.05,1))\n",
    "\n",
    "    plt.savefig(os.path.join(OUTDIR, f'known_cis_elements.by_entropy.counts.d2.{v}.svg'), format = 'svg', dpi = 600, transparent = True)\n",
    "    plt.show()\n",
    "\n",
    "\n",
    "    print(\"\\nChi2 test for independence across entropy groups:\")\n",
    "\n",
    "    for var in vardata.sort_values('varindex')['variable'].unique():\n",
    "        varwide = vardata.loc[vardata['variable'] == var].pivot(index = 'value', columns = evar, values = 'count').fillna(0).to_numpy()\n",
    "        print(f\"\\t{var}\\t{st.chi2_contingency(varwide)[1]:.02E}\")\n",
    "\n",
    "    print(\"\\nSummary data:\")\n",
    "    print(varcounts)\n"
   ]
  },
  {
   "cell_type": "markdown",
   "metadata": {},
   "source": [
    "#### Presence of A-rich motifs across regions"
   ]
  },
  {
   "cell_type": "code",
   "execution_count": 18,
   "metadata": {},
   "outputs": [],
   "source": [
    "## Define important sub-regions for each family of motifs\n",
    "\n",
    "gold_motifs = {\n",
    "    'EE' : {\n",
    "        'var_root' : 'UA_d2_',\n",
    "        'regions'  : [(-105,-90),(-90,-50),(-50,-30),(-30,-15),(-15,0),(0,15),(15,30)],\n",
    "    },\n",
    "    'PE' : {\n",
    "        'var_root' : 'A_d2_',\n",
    "        'regions'  : [(-60,-45),(-45,-30),(-30,-15),(-15,0),(0,15),(15,30),(30,45)],\n",
    "    },\n",
    "    'UF' : {\n",
    "        'var_root' : 'U_d2_',\n",
    "        'regions'  : [(-60,-45),(-45,-30),(-30,-15),(-15,0),(0,15),(15,30),(30,45)],\n",
    "    },\n",
    "}\n"
   ]
  },
  {
   "cell_type": "code",
   "execution_count": 19,
   "metadata": {
    "scrolled": false
   },
   "outputs": [
    {
     "name": "stdout",
     "output_type": "stream",
     "text": [
      "\n",
      "\n",
      "### PE\n"
     ]
    },
    {
     "data": {
      "image/png": "[encoded data removed]",
      "text/plain": [
       "<Figure size 216x72 with 1 Axes>"
      ]
     },
     "metadata": {
      "needs_background": "light"
     },
     "output_type": "display_data"
    },
    {
     "name": "stdout",
     "output_type": "stream",
     "text": [
      "\n",
      "Hypothesis test for two proportions\n",
      "\tcount_A_d2_-60_-45\t1.05E-02\n",
      "\tcount_A_d2_-45_-30\t1.19E-18\n",
      "\tcount_A_d2_-30_-15\t9.28E-01\n",
      "\tcount_A_d2_-15_0  \t2.49E-137\n",
      "\tcount_A_d2_0_15   \t3.72E-94\n",
      "\tcount_A_d2_15_30  \t9.36E-05\n",
      "\tcount_A_d2_30_45  \t9.01E-02\n"
     ]
    }
   ],
   "source": [
    "for element,edict in gold_motifs.items():\n",
    "    \n",
    "    if (element != 'PE'):\n",
    "        continue\n",
    "    \n",
    "    print(\"\\n\\n###\", element)\n",
    "    \n",
    "    varnames = [edict['var_root'] + str(region[0]) + \"_\" + str(region[1]) for region in edict['regions']]\n",
    "\n",
    "    vardata = gold_tpdata[[evar] + [f'count_{v}' for v in varnames]].melt(id_vars = evar)\n",
    "    vardata['value'] = (vardata['value'] > 0).astype(int)\n",
    "\n",
    "    vardata = vardata.groupby([evar,'variable','value']).size().reset_index().rename(columns = {0 : 'count'})\n",
    "    \n",
    "    vardata['varindex'] = vardata['variable'].apply(lambda x : varnames.index(x.replace(\"count_\",\"\")))\n",
    "    vardata['label'] = vardata.apply(lambda row : str(row.variable) + \"_entropy-\" + str(row[evar]), axis = 1)\n",
    "    vardata['prop'] = vardata['count'] / vardata.groupby(['variable',evar])['count'].transform('sum') * 100\n",
    "\n",
    "    varcounts = (vardata\n",
    "                 .pivot(index = 'label', columns = 'value', values = 'prop').fillna(0)\n",
    "                 .loc[vardata.sort_values(['varindex',evar])['label'].unique()]\n",
    "    )\n",
    "    \n",
    "    varsum = (vardata\n",
    "              .pivot(index = 'label', columns = 'value', values = 'count').fillna(0)\n",
    "              .loc[vardata.sort_values(['varindex',evar])['label'].unique()]\n",
    "    )\n",
    "\n",
    "\n",
    "    fig,ax = plt.subplots(1,1, figsize = (3,1))\n",
    "\n",
    "    labels = varcounts.index.values\n",
    "    heights = varcounts[[1]].to_numpy().flatten()\n",
    "    \n",
    "    ax.bar(labels, heights, color = 'lightgray', edgecolor = 'black', linewidth = 0.25)\n",
    "\n",
    "    ax.set_xticks(np.arange(len(labels)))\n",
    "    ax.set_xticklabels(labels, rotation = 45, ha = 'right', va = 'top')\n",
    "    \n",
    "    ax.set_ylim(0,60)\n",
    "    ax.yaxis.set_major_locator(MultipleLocator(20))\n",
    "    ax.yaxis.set_major_formatter(PercentFormatter())\n",
    "    \n",
    "    ax.spines['right'].set_visible(False)\n",
    "    ax.spines['top'].set_visible(False)\n",
    "\n",
    "    plt.savefig(os.path.join(OUTDIR, f'known_cis_elements.by_entropy.presence.{element}.svg'), format = 'svg', dpi = 600, transparent = True)\n",
    "    plt.show()\n",
    "    \n",
    "    \n",
    "    print(\"\\nHypothesis test for two proportions\")\n",
    "    for var in vardata.sort_values('varindex')['variable'].unique():\n",
    "    \n",
    "        prop_test = test_proportions_2indep(count1 = varsum.loc[f'{var}_entropy-1', 1], \n",
    "                                            count2 = varsum.loc[f'{var}_entropy-3', 1], \n",
    "                                            nobs1  = varsum.loc[f'{var}_entropy-1', 0] + varsum.loc[f'{var}_entropy-1', 1],\n",
    "                                            nobs2  = varsum.loc[f'{var}_entropy-3', 0] + varsum.loc[f'{var}_entropy-3', 1])\n",
    "        \n",
    "        print(f\"\\t{var:18}\\t{prop_test.pvalue:.02E}\")\n"
   ]
  },
  {
   "cell_type": "markdown",
   "metadata": {},
   "source": [
    "### Mechanism 1: Decreased U-richness surrounding the cleavage site with flanking elements farther apart"
   ]
  },
  {
   "cell_type": "markdown",
   "metadata": {},
   "source": [
    "#### Nucleotide density plots for the region immediately surrounding the maximum cleavage site"
   ]
  },
  {
   "cell_type": "code",
   "execution_count": 20,
   "metadata": {},
   "outputs": [],
   "source": [
    "nt_dict = {}\n",
    "char_dict = {'A':0, 'C':1, 'G':2, 'T':3, 0:'A', 1:'C', 2:'G', 3:'T'}\n",
    "\n",
    "for e in evals:\n",
    "    \n",
    "    top_sites = gold_tpdata.loc[gold_tpdata[evar] == e]\n",
    "    nt_array = np.zeros((180,4))\n",
    "    \n",
    "    for i,row in top_sites.iterrows():\n",
    "        xs = np.arange(0,180)\n",
    "        \n",
    "        for j,char in zip(xs,row['sequence'][int((len(row['sequence'])/2)-90):int((len(row['sequence'])/2)+90)].upper()):\n",
    "\n",
    "            if (char == 'N'):\n",
    "                continue\n",
    "\n",
    "            nt_array[j,char_dict[char]] += 1\n",
    "\n",
    "    nt_norm = nt_array / np.reshape(np.sum(nt_array, axis = 1), (-1,1))\n",
    "    nt_dict[e] = nt_norm\n"
   ]
  },
  {
   "cell_type": "code",
   "execution_count": 21,
   "metadata": {},
   "outputs": [
    {
     "data": {
      "image/png": "[encoded data removed]",
      "text/plain": [
       "<Figure size 108x72 with 1 Axes>"
      ]
     },
     "metadata": {
      "needs_background": "light"
     },
     "output_type": "display_data"
    },
    {
     "data": {
      "image/png": "[encoded data removed]",
      "text/plain": [
       "<Figure size 108x72 with 1 Axes>"
      ]
     },
     "metadata": {
      "needs_background": "light"
     },
     "output_type": "display_data"
    },
    {
     "data": {
      "image/png": "[encoded data removed]",
      "text/plain": [
       "<Figure size 108x72 with 1 Axes>"
      ]
     },
     "metadata": {
      "needs_background": "light"
     },
     "output_type": "display_data"
    },
    {
     "data": {
      "image/png": "[encoded data removed]",
      "text/plain": [
       "<Figure size 108x72 with 1 Axes>"
      ]
     },
     "metadata": {
      "needs_background": "light"
     },
     "output_type": "display_data"
    }
   ],
   "source": [
    "for i,l in zip(range(4), ['A','C','G','T']):\n",
    "    \n",
    "    fig,ax = plt.subplots(1,1, figsize = (1.5,1))\n",
    "    xs = np.arange(-90,90,1)\n",
    "\n",
    "    for e in evals:\n",
    "        plot_data = nt_dict[e]\n",
    "        ax.plot(xs, plot_data[:,i]*100, linewidth = 1, color = entropy_group_palette[e], label = e)\n",
    "\n",
    "    ax.axvline(x = -15, color = 'black', linewidth = 0.5, linestyle = 'dashed')\n",
    "    ax.axvline(x = +15, color = 'black', linewidth = 0.5, linestyle = 'dashed')\n",
    "    ax.legend(bbox_to_anchor = (1.05,1))\n",
    "\n",
    "    ax.spines['right'].set_visible(False)\n",
    "    ax.spines['top'].set_visible(False)\n",
    "\n",
    "    ax.set_xlabel(\"Position relative to max cleavage site (nt)\")\n",
    "    ax.set_xlim(-90,90)\n",
    "    ax.xaxis.set_major_locator(MultipleLocator(30))\n",
    "    \n",
    "    ax.set_ylim(0,100)\n",
    "    ax.yaxis.set_major_locator(MultipleLocator(20))\n",
    "\n",
    "    ax.set_ylabel(\"Nucleotide frequency (%)\")\n",
    "    ax.set_title(l, fontsize = 7)\n",
    "\n",
    "    plt.savefig(os.path.join(OUTDIR, f'nucleotide_density.by_entropy_obs_only.{l}.wide.svg'), format = 'svg', dpi = 600)\n",
    "    plt.show()\n"
   ]
  },
  {
   "cell_type": "code",
   "execution_count": 22,
   "metadata": {
    "scrolled": true
   },
   "outputs": [
    {
     "data": {
      "image/png": "[encoded data removed]",
      "text/plain": [
       "<Figure size 72x72 with 1 Axes>"
      ]
     },
     "metadata": {
      "needs_background": "light"
     },
     "output_type": "display_data"
    },
    {
     "data": {
      "image/png": "[encoded data removed]",
      "text/plain": [
       "<Figure size 72x72 with 1 Axes>"
      ]
     },
     "metadata": {
      "needs_background": "light"
     },
     "output_type": "display_data"
    }
   ],
   "source": [
    "for i,l in zip(range(4), ['A','C','G','T']):\n",
    "    \n",
    "    if (l in ['C','G']):\n",
    "        continue\n",
    "    \n",
    "    fig,ax = plt.subplots(1,1, figsize = (1,1))\n",
    "    xs = np.arange(-90,90,1)\n",
    "\n",
    "    for e in evals:\n",
    "        plot_data = nt_dict[e]\n",
    "        ax.plot(xs, plot_data[:,i]*100, linewidth = 1, color = entropy_group_palette[e], label = e)\n",
    "\n",
    "    ax.legend(bbox_to_anchor = (1.05,1))\n",
    "\n",
    "    ax.spines['right'].set_visible(False)\n",
    "    ax.spines['top'].set_visible(False)\n",
    "\n",
    "    ax.set_xlabel(\"Position relative to max cleavage site (nt)\")\n",
    "    ax.set_xlim(-15,15)\n",
    "    ax.xaxis.set_major_locator(MultipleLocator(5))\n",
    "    \n",
    "    ax.set_ylim(0,100)\n",
    "    ax.yaxis.set_major_locator(MultipleLocator(20))\n",
    "\n",
    "    ax.set_ylabel(\"Nucleotide frequency (%)\")\n",
    "    ax.set_title(l, fontsize = 7)\n",
    "\n",
    "    plt.savefig(os.path.join(OUTDIR, f'nucleotide_density.by_entropy_obs_only.{l}.zoom.svg'), format = 'svg', dpi = 600)\n",
    "    plt.show()\n"
   ]
  },
  {
   "cell_type": "markdown",
   "metadata": {},
   "source": [
    "#### Quantification of the differences in nucleotide density surrounding the clevage site"
   ]
  },
  {
   "cell_type": "code",
   "execution_count": 23,
   "metadata": {},
   "outputs": [
    {
     "data": {
      "image/png": "[encoded data removed]",
      "text/plain": [
       "<Figure size 36x72 with 1 Axes>"
      ]
     },
     "metadata": {
      "needs_background": "light"
     },
     "output_type": "display_data"
    },
    {
     "name": "stdout",
     "output_type": "stream",
     "text": [
      "\n",
      "Corresponding statistics-\n",
      "\tKruskal-Wallis test (all groups):\t1644.675 0.00E+00\n",
      "\tWilcoxon rank sum test (group 3 vs 1):\t-37.713 0.00E+00\n"
     ]
    }
   ],
   "source": [
    "fig,ax = plt.subplots(1,1, figsize = (0.5,1))\n",
    "\n",
    "y = 'nd_A'\n",
    "\n",
    "sns.boxplot(data = gold_tpdata, x = evar, y = y, hue = evar, \n",
    "            palette = entropy_group_palette, dodge = False, saturation = 1,\n",
    "            **boxplot_format, ax = ax)\n",
    "\n",
    "ax.set_xlabel(\"Entropy group\")\n",
    "ax.set_ylabel(\"Density of A nucleotides in (-15,15) region (%)\")\n",
    "ax.set_title(\"A\", fontsize = 7)\n",
    "\n",
    "ax.set_ylim(0,60)\n",
    "ax.yaxis.set_major_locator(MultipleLocator(10))\n",
    "\n",
    "ax.legend(bbox_to_anchor = (1.05,1))\n",
    "\n",
    "ax.spines['right'].set_visible(False)\n",
    "ax.spines['top'].set_visible(False)\n",
    "\n",
    "plt.savefig(os.path.join(OUTDIR, f'entropy_obs_only.boxplot.{y}.svg'), format = 'svg', dpi = 600, transparent = True)\n",
    "plt.show()\n",
    "\n",
    "\n",
    "print(\"\\nCorresponding statistics-\")\n",
    "\n",
    "stat, pval = st.kruskal(*[gold_tpdata.loc[gold_tpdata[evar] == e, y] for e in evals])\n",
    "print(f\"\\tKruskal-Wallis test (all groups):\\t{stat:7.03f} {pval:8.02E}\")\n",
    "\n",
    "stat, pval = st.ranksums(gold_tpdata.loc[gold_tpdata[evar] == elow,  y],\n",
    "                         gold_tpdata.loc[gold_tpdata[evar] == ehigh, y])\n",
    "print(f\"\\tWilcoxon rank sum test (group {ehigh} vs {elow}):\\t{stat:7.03f} {pval:8.02E}\")\n"
   ]
  },
  {
   "cell_type": "code",
   "execution_count": 24,
   "metadata": {},
   "outputs": [
    {
     "data": {
      "image/png": "[encoded data removed]",
      "text/plain": [
       "<Figure size 36x72 with 1 Axes>"
      ]
     },
     "metadata": {
      "needs_background": "light"
     },
     "output_type": "display_data"
    },
    {
     "name": "stdout",
     "output_type": "stream",
     "text": [
      "\n",
      "Corresponding statistics-\n",
      "\tKruskal-Wallis test (all groups):\t102.548 5.39E-23\n",
      "\tWilcoxon rank sum test (group 3 vs 1):\t  9.912 3.71E-23\n"
     ]
    }
   ],
   "source": [
    "fig,ax = plt.subplots(1,1, figsize = (0.5,1))\n",
    "\n",
    "y = 'nd_C'\n",
    "\n",
    "sns.boxplot(data = gold_tpdata, x = evar, y = y, hue = evar, \n",
    "            palette = entropy_group_palette, dodge = False, saturation = 1,\n",
    "            **boxplot_format, ax = ax)\n",
    "\n",
    "ax.set_xlabel(\"Entropy group\")\n",
    "ax.set_ylabel(\"Density of C nucleotides in (-15,15) region (%)\")\n",
    "ax.set_title(\"C\", fontsize = 7)\n",
    "\n",
    "ax.set_ylim(None,40)\n",
    "ax.yaxis.set_major_locator(MultipleLocator(10))\n",
    "\n",
    "ax.legend(bbox_to_anchor = (1.05,1))\n",
    "\n",
    "ax.spines['right'].set_visible(False)\n",
    "ax.spines['top'].set_visible(False)\n",
    "\n",
    "plt.savefig(os.path.join(OUTDIR, f'entropy_obs_only.boxplot.{y}.svg'), format = 'svg', dpi = 600, transparent = True)\n",
    "plt.show()\n",
    "\n",
    "\n",
    "print(\"\\nCorresponding statistics-\")\n",
    "\n",
    "stat, pval = st.kruskal(*[gold_tpdata.loc[gold_tpdata[evar] == e, y] for e in evals])\n",
    "print(f\"\\tKruskal-Wallis test (all groups):\\t{stat:7.03f} {pval:8.02E}\")\n",
    "\n",
    "stat, pval = st.ranksums(gold_tpdata.loc[gold_tpdata[evar] == elow,  y],\n",
    "                         gold_tpdata.loc[gold_tpdata[evar] == ehigh, y])\n",
    "print(f\"\\tWilcoxon rank sum test (group {ehigh} vs {elow}):\\t{stat:7.03f} {pval:8.02E}\")\n"
   ]
  },
  {
   "cell_type": "code",
   "execution_count": 25,
   "metadata": {},
   "outputs": [
    {
     "data": {
      "image/png": "[encoded data removed]",
      "text/plain": [
       "<Figure size 36x72 with 1 Axes>"
      ]
     },
     "metadata": {
      "needs_background": "light"
     },
     "output_type": "display_data"
    },
    {
     "name": "stdout",
     "output_type": "stream",
     "text": [
      "\n",
      "Corresponding statistics-\n",
      "\tKruskal-Wallis test (all groups):\t 30.914 1.94E-07\n",
      "\tWilcoxon rank sum test (group 3 vs 1):\t -5.309 1.10E-07\n"
     ]
    }
   ],
   "source": [
    "fig,ax = plt.subplots(1,1, figsize = (0.5,1))\n",
    "\n",
    "y = 'nd_G'\n",
    "\n",
    "sns.boxplot(data = gold_tpdata, x = evar, y = y, hue = evar, \n",
    "            palette = entropy_group_palette, dodge = False, saturation = 1,\n",
    "            **boxplot_format, ax = ax)\n",
    "\n",
    "ax.set_xlabel(\"Entropy group\")\n",
    "ax.set_ylabel(\"Density of G nucleotides in (-15,15) region (%)\")\n",
    "ax.set_title(\"G\", fontsize = 7)\n",
    "\n",
    "ax.set_ylim(None,40)\n",
    "ax.yaxis.set_major_locator(MultipleLocator(10))\n",
    "\n",
    "ax.legend(bbox_to_anchor = (1.05,1))\n",
    "\n",
    "ax.spines['right'].set_visible(False)\n",
    "ax.spines['top'].set_visible(False)\n",
    "\n",
    "plt.savefig(os.path.join(OUTDIR, f'entropy_obs_only.boxplot.{y}.svg'), format = 'svg', dpi = 600, transparent = True)\n",
    "plt.show()\n",
    "\n",
    "\n",
    "print(\"\\nCorresponding statistics-\")\n",
    "\n",
    "stat, pval = st.kruskal(*[gold_tpdata.loc[gold_tpdata[evar] == e, y] for e in evals])\n",
    "print(f\"\\tKruskal-Wallis test (all groups):\\t{stat:7.03f} {pval:8.02E}\")\n",
    "\n",
    "stat, pval = st.ranksums(gold_tpdata.loc[gold_tpdata[evar] == elow,  y],\n",
    "                         gold_tpdata.loc[gold_tpdata[evar] == ehigh, y])\n",
    "print(f\"\\tWilcoxon rank sum test (group {ehigh} vs {elow}):\\t{stat:7.03f} {pval:8.02E}\")\n"
   ]
  },
  {
   "cell_type": "code",
   "execution_count": 26,
   "metadata": {},
   "outputs": [
    {
     "data": {
      "image/png": "[encoded data removed]",
      "text/plain": [
       "<Figure size 36x72 with 1 Axes>"
      ]
     },
     "metadata": {
      "needs_background": "light"
     },
     "output_type": "display_data"
    },
    {
     "name": "stdout",
     "output_type": "stream",
     "text": [
      "\n",
      "Corresponding statistics-\n",
      "\tKruskal-Wallis test (all groups):\t1029.247 3.18E-224\n",
      "\tWilcoxon rank sum test (group 3 vs 1):\t 30.909 9.13E-210\n"
     ]
    }
   ],
   "source": [
    "fig,ax = plt.subplots(1,1, figsize = (0.5,1))\n",
    "\n",
    "y = 'nd_T'\n",
    "\n",
    "sns.boxplot(data = gold_tpdata, x = evar, y = y, hue = evar, \n",
    "            palette = entropy_group_palette, dodge = False, saturation = 1,\n",
    "            **boxplot_format, ax = ax)\n",
    "\n",
    "ax.set_xlabel(\"Entropy quintile\")\n",
    "ax.set_ylabel(\"Density of U nucleotides in (-15,15) region (%)\")\n",
    "ax.set_title(\"U\", fontsize = 7)\n",
    "\n",
    "ax.set_ylim(0,80)\n",
    "ax.yaxis.set_major_locator(MultipleLocator(20))\n",
    "\n",
    "ax.legend(bbox_to_anchor = (1.05,1))\n",
    "\n",
    "ax.spines['right'].set_visible(False)\n",
    "ax.spines['top'].set_visible(False)\n",
    "\n",
    "plt.savefig(os.path.join(OUTDIR, f'entropy_obs_only.boxplot.{y}.svg'), format = 'svg', dpi = 600, transparent = True)\n",
    "plt.show()\n",
    "\n",
    "\n",
    "print(\"\\nCorresponding statistics-\")\n",
    "\n",
    "stat, pval = st.kruskal(*[gold_tpdata.loc[gold_tpdata[evar] == e, y] for e in evals])\n",
    "print(f\"\\tKruskal-Wallis test (all groups):\\t{stat:7.03f} {pval:8.02E}\")\n",
    "\n",
    "stat, pval = st.ranksums(gold_tpdata.loc[gold_tpdata[evar] == elow,  y],\n",
    "                         gold_tpdata.loc[gold_tpdata[evar] == ehigh, y])\n",
    "print(f\"\\tWilcoxon rank sum test (group {ehigh} vs {elow}):\\t{stat:7.03f} {pval:8.02E}\")\n"
   ]
  },
  {
   "cell_type": "markdown",
   "metadata": {},
   "source": [
    "#### Distance between upstream and downstream flanking U-rich elements in sites that contain both"
   ]
  },
  {
   "cell_type": "code",
   "execution_count": 27,
   "metadata": {},
   "outputs": [
    {
     "data": {
      "image/png": "[encoded data removed]",
      "text/plain": [
       "<Figure size 36x72 with 1 Axes>"
      ]
     },
     "metadata": {
      "needs_background": "light"
     },
     "output_type": "display_data"
    },
    {
     "name": "stdout",
     "output_type": "stream",
     "text": [
      "\n",
      "Wilcoxon rank sum test comparing entropy groups 1 and 5-\n",
      "dist_UF_DF \t increased \t 7.84770735036044e-108 \t SIG\n",
      "\n",
      "Summary data-\n",
      "                         count       mean        std  min   25%   50%   75%  \\\n",
      "observed_entropy_group                                                        \n",
      "1                       1650.0  11.929091  10.304777  1.0   2.0  10.0  18.0   \n",
      "2                       4079.0  16.158617  11.792846  1.0   7.0  14.0  24.0   \n",
      "3                       1084.0  19.964945  12.672036  1.0  10.0  19.0  29.0   \n",
      "\n",
      "                         max  \n",
      "observed_entropy_group        \n",
      "1                       53.0  \n",
      "2                       59.0  \n",
      "3                       59.0  \n"
     ]
    }
   ],
   "source": [
    "gold_tpdata['dist_UF_DF'] = gold_tpdata['idx_U_d2_0_30'] - gold_tpdata['idx_U_d2_-30_0']\n",
    "\n",
    "cleavage.distance_boxplot(OUTDIR, 'all', \n",
    "                          gold_tpdata, \n",
    "                          evar, 'Entropy group', [elow,ehigh], \n",
    "                          'dist_UF_DF', 'Distance between upstream and downstream flanking U-rich elements (nt)', \n",
    "                          (-2,60), 20, (0.5,1))\n"
   ]
  },
  {
   "cell_type": "markdown",
   "metadata": {},
   "source": [
    "### Mechanism 2: A multiplicity of UA/UA-rich motifs located farther upstream from the cleavage site"
   ]
  },
  {
   "cell_type": "markdown",
   "metadata": {},
   "source": [
    "#### Count of UA/UA-rich motifs in the far upstream regions"
   ]
  },
  {
   "cell_type": "code",
   "execution_count": 28,
   "metadata": {},
   "outputs": [
    {
     "data": {
      "image/png": "[encoded data removed]",
      "text/plain": [
       "<Figure size 36x72 with 1 Axes>"
      ]
     },
     "metadata": {
      "needs_background": "light"
     },
     "output_type": "display_data"
    },
    {
     "name": "stdout",
     "output_type": "stream",
     "text": [
      "Hypothesis test comparing two independent proportions, two-sided, assuming binomial samples-\n",
      "8.23260227889886e-26\n",
      "\n",
      "Summary data-\n",
      "  observed_entropy_group  multiple_UA_d2_-90_-50  count       prop\n",
      "0                      1                  1701.0   2280  74.605263\n",
      "1                      2                  5525.0   6840  80.774854\n",
      "2                      3                  1978.0   2280  86.754386\n"
     ]
    }
   ],
   "source": [
    "fig,ax = plt.subplots(1,1, figsize = (0.5,1))\n",
    "\n",
    "yvar = 'multiple_UA_d2_-90_-50'\n",
    "\n",
    "plot_data          = gold_tpdata[[evar, yvar]].groupby(evar).agg('sum')\n",
    "plot_data['count'] = gold_tpdata.groupby(evar).size()\n",
    "plot_data['prop']  = plot_data[yvar] / plot_data['count'] * 100\n",
    "plot_data.reset_index(inplace = True)\n",
    "\n",
    "sns.barplot(data = plot_data, x = evar, y = 'prop', hue = evar, \n",
    "            palette = entropy_group_palette, dodge = False, saturation = 1,\n",
    "            **barplot_format, ax = ax)\n",
    "\n",
    "ax.set_xlabel(\"Entropy group\")\n",
    "ax.set_ylabel(\"Proportion of sites with\\nmultiple UA/UA-rich motifs (%)\")\n",
    "\n",
    "ax.set_ylim(0,100)\n",
    "ax.yaxis.set_major_locator(MultipleLocator(25))\n",
    "\n",
    "ax.spines['right'].set_visible(False)\n",
    "ax.spines['top'].set_visible(False)\n",
    "\n",
    "ax.get_legend().remove()\n",
    "\n",
    "plt.savefig(os.path.join(OUTDIR, f'multiple_prop.{yvar}.svg'), format = 'svg', dpi = 600, transparent = True)\n",
    "plt.show()\n",
    "\n",
    "\n",
    "print(\"Hypothesis test comparing two independent proportions, two-sided, assuming binomial samples-\")\n",
    "\n",
    "prop_test = test_proportions_2indep(count1 = plot_data.loc[(plot_data[evar] == ehigh), yvar].iloc[0], \n",
    "                                    count2 = plot_data.loc[(plot_data[evar] == elow ), yvar].iloc[0], \n",
    "                                    nobs1  = plot_data.loc[(plot_data[evar] == ehigh), 'count'].iloc[0],\n",
    "                                    nobs2  = plot_data.loc[(plot_data[evar] == elow ), 'count'].iloc[0])\n",
    "print(prop_test.pvalue)\n",
    "\n",
    "print(\"\\nSummary data-\")\n",
    "print(plot_data)\n"
   ]
  },
  {
   "cell_type": "code",
   "execution_count": 29,
   "metadata": {
    "scrolled": false
   },
   "outputs": [
    {
     "data": {
      "image/png": "[encoded data removed]",
      "text/plain": [
       "<Figure size 36x72 with 1 Axes>"
      ]
     },
     "metadata": {
      "needs_background": "light"
     },
     "output_type": "display_data"
    },
    {
     "name": "stdout",
     "output_type": "stream",
     "text": [
      "Hypothesis test comparing two independent proportions, two-sided, assuming binomial samples-\n",
      "0.0037512361173141005\n",
      "\n",
      "Summary data-\n",
      "  observed_entropy_group  multiple_UA_d2_-50_-30  count       prop\n",
      "0                      1                  1540.0   2280  67.543860\n",
      "1                      2                  4567.0   6840  66.769006\n",
      "2                      3                  1447.0   2280  63.464912\n"
     ]
    }
   ],
   "source": [
    "fig,ax = plt.subplots(1,1, figsize = (0.5,1))\n",
    "\n",
    "yvar = 'multiple_UA_d2_-50_-30'\n",
    "\n",
    "plot_data          = gold_tpdata[[evar, yvar]].groupby(evar).agg('sum')\n",
    "plot_data['count'] = gold_tpdata.groupby(evar).size()\n",
    "plot_data['prop']  = plot_data[yvar] / plot_data['count'] * 100\n",
    "plot_data.reset_index(inplace = True)\n",
    "\n",
    "sns.barplot(data = plot_data, x = evar, y = 'prop', hue = evar, \n",
    "            palette = entropy_group_palette, dodge = False, saturation = 1,\n",
    "            **barplot_format, ax = ax)\n",
    "\n",
    "ax.set_xlabel(\"Entropy group\")\n",
    "ax.set_ylabel(\"Proportion of sites with\\nmultiple UA/UA-rich motifs (%)\")\n",
    "\n",
    "ax.set_ylim(0,100)\n",
    "ax.yaxis.set_major_locator(MultipleLocator(25))\n",
    "\n",
    "ax.spines['right'].set_visible(False)\n",
    "ax.spines['top'].set_visible(False)\n",
    "\n",
    "ax.get_legend().remove()\n",
    "\n",
    "plt.savefig(os.path.join(OUTDIR, f'multiple_prop.{yvar}.svg'), format = 'svg', dpi = 600, transparent = True)\n",
    "plt.show()\n",
    "\n",
    "\n",
    "print(\"Hypothesis test comparing two independent proportions, two-sided, assuming binomial samples-\")\n",
    "\n",
    "prop_test = test_proportions_2indep(count1 = plot_data.loc[(plot_data[evar] == ehigh), yvar].iloc[0], \n",
    "                                    count2 = plot_data.loc[(plot_data[evar] == elow ), yvar].iloc[0], \n",
    "                                    nobs1  = plot_data.loc[(plot_data[evar] == ehigh), 'count'].iloc[0],\n",
    "                                    nobs2  = plot_data.loc[(plot_data[evar] == elow ), 'count'].iloc[0])\n",
    "print(prop_test.pvalue)\n",
    "\n",
    "print(\"\\nSummary data-\")\n",
    "print(plot_data)\n"
   ]
  },
  {
   "cell_type": "markdown",
   "metadata": {},
   "source": [
    "#### Distance from the last upstream UA/UA-rich motif to the maximum cleavage site"
   ]
  },
  {
   "cell_type": "code",
   "execution_count": 30,
   "metadata": {},
   "outputs": [
    {
     "data": {
      "image/png": "[encoded data removed]",
      "text/plain": [
       "<Figure size 36x72 with 1 Axes>"
      ]
     },
     "metadata": {
      "needs_background": "light"
     },
     "output_type": "display_data"
    },
    {
     "name": "stdout",
     "output_type": "stream",
     "text": [
      "\n",
      "Wilcoxon rank sum test comparing entropy groups 1 and 5-\n",
      "dist_last_UA_d2_-90_-30_CS \t increased \t 7.699186724302278e-24 \t SIG\n",
      "\n",
      "Summary data-\n",
      "                         count       mean       std   min   25%   50%   75%  \\\n",
      "observed_entropy_group                                                        \n",
      "1                       2265.0  30.564680  9.088269  25.0  25.0  27.0  32.0   \n",
      "2                       6810.0  31.151101  8.541395  25.0  25.0  28.0  34.0   \n",
      "3                       2272.0  32.162412  8.773561  25.0  26.0  29.0  35.0   \n",
      "\n",
      "                         max  \n",
      "observed_entropy_group        \n",
      "1                       84.0  \n",
      "2                       84.0  \n",
      "3                       82.0  \n"
     ]
    }
   ],
   "source": [
    "cleavage.distance_boxplot(OUTDIR, 'any',\n",
    "                          gold_tpdata.loc[gold_tpdata['count_UA_d2_-90_-30'] > 0], \n",
    "                          evar, 'Entropy group', [elow,ehigh], \n",
    "                          'dist_last_UA_d2_-90_-30_CS', 'Distance from last UA/UA-\\nrich motif to CS in sites\\nwith multiple motifs (nt)', \n",
    "                          (23,50), 5, (0.5,1))\n"
   ]
  },
  {
   "cell_type": "code",
   "execution_count": 31,
   "metadata": {},
   "outputs": [
    {
     "data": {
      "image/png": "[encoded data removed]",
      "text/plain": [
       "<Figure size 36x72 with 1 Axes>"
      ]
     },
     "metadata": {
      "needs_background": "light"
     },
     "output_type": "display_data"
    },
    {
     "name": "stdout",
     "output_type": "stream",
     "text": [
      "\n",
      "Wilcoxon rank sum test comparing entropy groups 1 and 5-\n",
      "dist_last_UA_d2_-90_-30_CS \t increased \t 1.8709562177678767e-27 \t SIG\n",
      "\n",
      "Summary data-\n",
      "                         count       mean       std   min   25%   50%   75%  \\\n",
      "observed_entropy_group                                                        \n",
      "1                       2171.0  29.869185  7.597685  25.0  25.0  27.0  31.0   \n",
      "2                       6645.0  30.815500  7.800896  25.0  25.0  28.0  33.0   \n",
      "3                       2227.0  31.894477  8.322946  25.0  25.0  29.0  35.0   \n",
      "\n",
      "                         max  \n",
      "observed_entropy_group        \n",
      "1                       78.0  \n",
      "2                       78.0  \n",
      "3                       75.0  \n"
     ]
    }
   ],
   "source": [
    "cleavage.distance_boxplot(OUTDIR, 'multiple',\n",
    "                          gold_tpdata.loc[gold_tpdata['count_UA_d2_-90_-30'] > 1], \n",
    "                          evar, 'Entropy group', [elow,ehigh], \n",
    "                          'dist_last_UA_d2_-90_-30_CS', 'Distance from last UA/UA-\\nrich motif to CS in sites\\nwith multiple motifs (nt)', \n",
    "                          (23,50), 5, (0.5,1))\n"
   ]
  }
 ],
 "metadata": {
  "kernelspec": {
   "display_name": "Python (tf-train)",
   "language": "python",
   "name": "tf-train"
  },
  "language_info": {
   "codemirror_mode": {
    "name": "ipython",
    "version": 3
   },
   "file_extension": ".py",
   "mimetype": "text/x-python",
   "name": "python",
   "nbconvert_exporter": "python",
   "pygments_lexer": "ipython3",
   "version": "3.6.12"
  }
 },
 "nbformat": 4,
 "nbformat_minor": 2
}
